{
 "cells": [
  {
   "cell_type": "code",
   "execution_count": null,
   "metadata": {},
   "outputs": [],
   "source": [
    "import matplotlib\n",
    "matplotlib.use(\"Agg\")\n",
    "%matplotlib inline\n",
    "\n",
    "import logging\n",
    "import json\n",
    "import backtrader as bt\n",
    "from strategies.simple_strategies.moving_average_strategy import MovingAverageStrategy\n",
    "from utils.data_loader import load_data, load_candidates\n",
    "from utils.data_saver import save_backtest_result"
   ]
  },
  {
   "cell_type": "code",
   "execution_count": null,
   "metadata": {},
   "outputs": [],
   "source": []
  }
 ],
 "metadata": {
  "language_info": {
   "name": "python"
  }
 },
 "nbformat": 4,
 "nbformat_minor": 2
}
