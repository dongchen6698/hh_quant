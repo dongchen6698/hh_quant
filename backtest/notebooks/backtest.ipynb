{
 "cells": [
  {
   "cell_type": "code",
   "execution_count": 2,
   "metadata": {},
   "outputs": [
    {
     "name": "stderr",
     "output_type": "stream",
     "text": [
      "/Users/alsc/VscodeProject/hh_quant/.venv/lib/python3.8/site-packages/akshare/__init__.py:2683: UserWarning: 为了支持更多特性，请将 Python 升级到 3.9.0 及以上版本！\n",
      "  warnings.warn(\n"
     ]
    }
   ],
   "source": [
    "import os\n",
    "import sys\n",
    "sys.path.append('../../')\n",
    "import backtrader as bt\n",
    "import akshare as ak\n",
    "import pandas as pd\n",
    "from datetime import datetime\n"
   ]
  },
  {
   "cell_type": "code",
   "execution_count": 3,
   "metadata": {},
   "outputs": [
    {
     "data": {
      "text/html": [
       "<div>\n",
       "<style scoped>\n",
       "    .dataframe tbody tr th:only-of-type {\n",
       "        vertical-align: middle;\n",
       "    }\n",
       "\n",
       "    .dataframe tbody tr th {\n",
       "        vertical-align: top;\n",
       "    }\n",
       "\n",
       "    .dataframe thead th {\n",
       "        text-align: right;\n",
       "    }\n",
       "</style>\n",
       "<table border=\"1\" class=\"dataframe\">\n",
       "  <thead>\n",
       "    <tr style=\"text-align: right;\">\n",
       "      <th></th>\n",
       "      <th>open</th>\n",
       "      <th>close</th>\n",
       "      <th>high</th>\n",
       "      <th>low</th>\n",
       "      <th>volume</th>\n",
       "    </tr>\n",
       "    <tr>\n",
       "      <th>datetime</th>\n",
       "      <th></th>\n",
       "      <th></th>\n",
       "      <th></th>\n",
       "      <th></th>\n",
       "      <th></th>\n",
       "    </tr>\n",
       "  </thead>\n",
       "  <tbody>\n",
       "    <tr>\n",
       "      <th>2010-01-04</th>\n",
       "      <td>172.00</td>\n",
       "      <td>169.94</td>\n",
       "      <td>172.00</td>\n",
       "      <td>169.31</td>\n",
       "      <td>44305</td>\n",
       "    </tr>\n",
       "    <tr>\n",
       "      <th>2010-01-05</th>\n",
       "      <td>170.99</td>\n",
       "      <td>169.44</td>\n",
       "      <td>171.50</td>\n",
       "      <td>169.00</td>\n",
       "      <td>31513</td>\n",
       "    </tr>\n",
       "    <tr>\n",
       "      <th>2010-01-06</th>\n",
       "      <td>168.99</td>\n",
       "      <td>166.76</td>\n",
       "      <td>169.50</td>\n",
       "      <td>166.31</td>\n",
       "      <td>39889</td>\n",
       "    </tr>\n",
       "    <tr>\n",
       "      <th>2010-01-07</th>\n",
       "      <td>166.76</td>\n",
       "      <td>163.72</td>\n",
       "      <td>167.19</td>\n",
       "      <td>161.88</td>\n",
       "      <td>48826</td>\n",
       "    </tr>\n",
       "    <tr>\n",
       "      <th>2010-01-08</th>\n",
       "      <td>164.00</td>\n",
       "      <td>162.00</td>\n",
       "      <td>164.00</td>\n",
       "      <td>160.10</td>\n",
       "      <td>36702</td>\n",
       "    </tr>\n",
       "  </tbody>\n",
       "</table>\n",
       "</div>"
      ],
      "text/plain": [
       "              open   close    high     low  volume\n",
       "datetime                                          \n",
       "2010-01-04  172.00  169.94  172.00  169.31   44305\n",
       "2010-01-05  170.99  169.44  171.50  169.00   31513\n",
       "2010-01-06  168.99  166.76  169.50  166.31   39889\n",
       "2010-01-07  166.76  163.72  167.19  161.88   48826\n",
       "2010-01-08  164.00  162.00  164.00  160.10   36702"
      ]
     },
     "execution_count": 3,
     "metadata": {},
     "output_type": "execute_result"
    }
   ],
   "source": [
    "data_path = '../backtest_data/stock_data/600519.pkl'\n",
    "# 读取原始数据\n",
    "df = pd.read_pickle(data_path).iloc[:, :6]\n",
    "# 设置数据index\n",
    "df['datetime'] = pd.to_datetime(df['datetime'])\n",
    "df.set_index(\"datetime\", inplace=True)\n",
    "# 配置日期格式\n",
    "fmt_start_date = datetime.strptime('20100101', '%Y%m%d')\n",
    "fmt_end_date = datetime.strptime('20150101', '%Y%m%d')\n",
    "# 过滤期间数据\n",
    "df = df[(df.index >= fmt_start_date) & (df.index <= fmt_end_date)]\n",
    "\n",
    "# data_hs300 = bt.feeds.PandasData(dataname=hs300_df)\n",
    "# data_600519 = bt.feeds.PandasData(dataname=stock_df)\n",
    "\n",
    "df.head()"
   ]
  },
  {
   "cell_type": "code",
   "execution_count": 4,
   "metadata": {},
   "outputs": [],
   "source": [
    "# df.info()"
   ]
  },
  {
   "cell_type": "code",
   "execution_count": 5,
   "metadata": {},
   "outputs": [],
   "source": [
    "# 获取沪深300指数历史数据\n",
    "hs300_df = ak.stock_zh_index_daily(symbol=\"sh000300\").rename(columns={\n",
    "    'date': 'datetime'\n",
    "})\n",
    "\n",
    "# 获取贵州茅台股票历史数据\n",
    "stock_df = ak.stock_zh_a_daily(symbol=\"sh600519\", adjust=\"\").iloc[:, :6].rename(columns={\n",
    "    'date': 'datetime'\n",
    "})\n",
    "\n",
    "# 设置时间索引\n",
    "hs300_df['datetime'] = pd.to_datetime(hs300_df['datetime'])\n",
    "stock_df['datetime'] = pd.to_datetime(stock_df['datetime'])\n",
    "hs300_df.set_index('datetime', inplace=True)\n",
    "stock_df.set_index('datetime', inplace=True)\n",
    "\n",
    "# 设置开始和结束日期\n",
    "start_date = \"2010-01-01\"\n",
    "end_date = \"2015-01-01\"\n",
    "\n",
    "# 过滤指定时间段的数据\n",
    "hs300_df = hs300_df[(hs300_df.index >= start_date) & (hs300_df.index <= end_date)]\n",
    "stock_df = stock_df[(stock_df.index >= start_date) & (stock_df.index <= end_date)]\n",
    "\n",
    "data_hs300 = bt.feeds.PandasData(dataname=hs300_df)\n",
    "data_600519 =  bt.feeds.PandasData(dataname=stock_df)"
   ]
  },
  {
   "cell_type": "code",
   "execution_count": 6,
   "metadata": {},
   "outputs": [
    {
     "data": {
      "text/html": [
       "<div>\n",
       "<style scoped>\n",
       "    .dataframe tbody tr th:only-of-type {\n",
       "        vertical-align: middle;\n",
       "    }\n",
       "\n",
       "    .dataframe tbody tr th {\n",
       "        vertical-align: top;\n",
       "    }\n",
       "\n",
       "    .dataframe thead th {\n",
       "        text-align: right;\n",
       "    }\n",
       "</style>\n",
       "<table border=\"1\" class=\"dataframe\">\n",
       "  <thead>\n",
       "    <tr style=\"text-align: right;\">\n",
       "      <th></th>\n",
       "      <th>open</th>\n",
       "      <th>high</th>\n",
       "      <th>low</th>\n",
       "      <th>close</th>\n",
       "      <th>volume</th>\n",
       "    </tr>\n",
       "    <tr>\n",
       "      <th>datetime</th>\n",
       "      <th></th>\n",
       "      <th></th>\n",
       "      <th></th>\n",
       "      <th></th>\n",
       "      <th></th>\n",
       "    </tr>\n",
       "  </thead>\n",
       "  <tbody>\n",
       "    <tr>\n",
       "      <th>2010-01-04</th>\n",
       "      <td>3592.468</td>\n",
       "      <td>3597.748</td>\n",
       "      <td>3535.229</td>\n",
       "      <td>3535.229</td>\n",
       "      <td>6610108000</td>\n",
       "    </tr>\n",
       "    <tr>\n",
       "      <th>2010-01-05</th>\n",
       "      <td>3545.186</td>\n",
       "      <td>3577.526</td>\n",
       "      <td>3497.661</td>\n",
       "      <td>3564.038</td>\n",
       "      <td>8580964000</td>\n",
       "    </tr>\n",
       "    <tr>\n",
       "      <th>2010-01-06</th>\n",
       "      <td>3558.700</td>\n",
       "      <td>3588.832</td>\n",
       "      <td>3541.173</td>\n",
       "      <td>3541.727</td>\n",
       "      <td>7847312500</td>\n",
       "    </tr>\n",
       "    <tr>\n",
       "      <th>2010-01-07</th>\n",
       "      <td>3543.160</td>\n",
       "      <td>3558.556</td>\n",
       "      <td>3452.769</td>\n",
       "      <td>3471.456</td>\n",
       "      <td>8035004000</td>\n",
       "    </tr>\n",
       "    <tr>\n",
       "      <th>2010-01-08</th>\n",
       "      <td>3456.908</td>\n",
       "      <td>3482.083</td>\n",
       "      <td>3426.698</td>\n",
       "      <td>3480.130</td>\n",
       "      <td>6079025200</td>\n",
       "    </tr>\n",
       "  </tbody>\n",
       "</table>\n",
       "</div>"
      ],
      "text/plain": [
       "                open      high       low     close      volume\n",
       "datetime                                                      \n",
       "2010-01-04  3592.468  3597.748  3535.229  3535.229  6610108000\n",
       "2010-01-05  3545.186  3577.526  3497.661  3564.038  8580964000\n",
       "2010-01-06  3558.700  3588.832  3541.173  3541.727  7847312500\n",
       "2010-01-07  3543.160  3558.556  3452.769  3471.456  8035004000\n",
       "2010-01-08  3456.908  3482.083  3426.698  3480.130  6079025200"
      ]
     },
     "execution_count": 6,
     "metadata": {},
     "output_type": "execute_result"
    }
   ],
   "source": [
    "hs300_df.head()\n",
    "# hs300_df.info()"
   ]
  },
  {
   "cell_type": "code",
   "execution_count": null,
   "metadata": {},
   "outputs": [],
   "source": [
    "stock_df.head()"
   ]
  },
  {
   "cell_type": "code",
   "execution_count": null,
   "metadata": {},
   "outputs": [],
   "source": [
    "class MovingAverageStrategy(bt.Strategy):\n",
    "    params = (('maperiod', 15),)\n",
    "\n",
    "    def __init__(self):\n",
    "        self.sma = bt.indicators.SimpleMovingAverage(self.data.close, period=self.params.maperiod)\n",
    "\n",
    "    def next(self):\n",
    "        if not self.position:\n",
    "            if self.data.close > self.sma:\n",
    "                self.order = self.buy()\n",
    "        elif self.position:\n",
    "            if self.data.close < self.sma:\n",
    "                self.order = self.sell()"
   ]
  },
  {
   "cell_type": "code",
   "execution_count": null,
   "metadata": {},
   "outputs": [],
   "source": [
    "# 设置回测基础参数\n",
    "print(\"设置回测基础参数...\")\n",
    "BACKTEST_INITIAL_CASH = 100000  # 初始化资金\n",
    "# BACKTEST_COMMISSION = 0.0003  # 初始化双边佣金0.0003\n",
    "BACKTEST_SIZER = 100  # 设定每笔交易100股\n",
    "# BACKTEST_SLIPPAGE_TYPE = \"perc\"  # 初始化双边滑点类型\n",
    "# BACKTEST_SLIPPAGE_VALUE = 0.0001  # 初始化双边滑点0.0001\n",
    "# BACKTEST_START_DATE = \"20200101\"  # 回测开始日期\n",
    "# BACKTEST_END_DATE = \"20240101\"  # 回测结束日期\n",
    "# BACKTEST_STOCK_SYMBOLS = [\"300197\", \"300810\", \"300125\"]  # 回测股票代码\n",
    "# BACKTEST_OPTIMIZE_STRATEGY = False  # 是否启用优化策略\n",
    "\n",
    "# 初始化Cerebro\n",
    "print(\"开始初始化Cerebro...\")\n",
    "cerebro = bt.Cerebro()\n",
    "cerebro.broker.setcash(BACKTEST_INITIAL_CASH)\n",
    "# cerebro.broker.setcommission(commission=BACKTEST_COMMISSION)\n",
    "# if BACKTEST_SLIPPAGE_TYPE == \"fix\":  # 每笔交易滑点为固定值\n",
    "#     cerebro.broker.set_slippage_fixed(BACKTEST_SLIPPAGE_VALUE)\n",
    "# elif BACKTEST_SLIPPAGE_TYPE == \"perc\":  # 每笔交易滑点为百分比\n",
    "#     cerebro.broker.set_slippage_perc(BACKTEST_SLIPPAGE_VALUE)\n",
    "# cerebro.addsizer(bt.sizers.FixedSize, stake=BACKTEST_SIZER)\n",
    "\n",
    "# 添加分析器\n",
    "print(\"开始添加分析器...\")\n",
    "cerebro.addanalyzer(bt.analyzers.Returns, _name='returns')\n",
    "cerebro.addanalyzer(bt.analyzers.TimeReturn, _name=\"pnl\")  # 盈亏分析器\n",
    "cerebro.addanalyzer(bt.analyzers.AnnualReturn, _name=\"annual_return\")  # 年化收益分析器\n",
    "cerebro.addanalyzer(bt.analyzers.SharpeRatio, _name=\"sharpe_ratio\")  # 普比率分析器\n",
    "cerebro.addanalyzer(bt.analyzers.DrawDown, _name=\"drawdown\")  # 最大回撤分析器\n",
    "\n",
    "# 添加MovingAverageStrategy\n",
    "print(\"开始添加策略...\")\n",
    "cerebro.addstrategy(MovingAverageStrategy)\n",
    "\n",
    "# 导入对应的股票数据到cerebro\n",
    "print(\"开始导入数据...\")\n",
    "# cerebro.adddata(data_hs300, name='hs300')\n",
    "cerebro.adddata(data_600519, name='600519')\n",
    "\n",
    "# 设置基准观察者，追踪沪深300指数的表现\n",
    "# cerebro.addobserver(bt.observers.Benchmark,\n",
    "#                     data=data_hs300,\n",
    "#                     timeframe=bt.TimeFrame.NoTimeFrame)\n",
    "\n",
    "# 运行回测\n",
    "print(\"开始运行回测...\")\n",
    "results = cerebro.run()\n",
    "\n",
    "# 结束回测\n",
    "print(\"结束回测...\")\n",
    "print(f\"Start Portfolio Value: {BACKTEST_INITIAL_CASH:.2f}\")\n",
    "print(f\"Final Portfolio Value: {cerebro.broker.getvalue():.2f}\")"
   ]
  },
  {
   "cell_type": "code",
   "execution_count": null,
   "metadata": {},
   "outputs": [],
   "source": [
    "# strat = results[0]\n",
    "# pyfoliozer = strat.analyzers.getbyname('pyfolio')\n",
    "# returns, positions, transactions, gross_lev = pyfoliozer.get_pf_items()"
   ]
  },
  {
   "cell_type": "code",
   "execution_count": null,
   "metadata": {},
   "outputs": [],
   "source": [
    "from backtrader_plotting import Bokeh\n",
    "from backtrader_plotting.schemes import Tradimo\n",
    "\n",
    "bo = Bokeh(style='bar', plot_mode='single', scheme=Tradimo())\n",
    "cerebro.plot(bo)"
   ]
  },
  {
   "cell_type": "code",
   "execution_count": 7,
   "metadata": {},
   "outputs": [],
   "source": [
    "a = [1,2,3,4,5]"
   ]
  },
  {
   "cell_type": "code",
   "execution_count": 8,
   "metadata": {},
   "outputs": [
    {
     "data": {
      "text/plain": [
       "[1, 2, 3, 4]"
      ]
     },
     "execution_count": 8,
     "metadata": {},
     "output_type": "execute_result"
    }
   ],
   "source": [
    "a[:-1]"
   ]
  },
  {
   "cell_type": "code",
   "execution_count": 9,
   "metadata": {},
   "outputs": [],
   "source": [
    "a = {\n",
    "    'a': 1,\n",
    "    'b': 2\n",
    "}"
   ]
  },
  {
   "cell_type": "code",
   "execution_count": 11,
   "metadata": {},
   "outputs": [
    {
     "name": "stdout",
     "output_type": "stream",
     "text": [
      "1\n",
      "2\n"
     ]
    }
   ],
   "source": [
    "for i, j in a.items():\n",
    "    print(j)"
   ]
  },
  {
   "cell_type": "code",
   "execution_count": 2,
   "metadata": {},
   "outputs": [
    {
     "name": "stdout",
     "output_type": "stream",
     "text": [
      "aaa\n"
     ]
    }
   ],
   "source": [
    "a = 1\n",
    "\n",
    "if a:\n",
    "    print('aaa')"
   ]
  },
  {
   "cell_type": "code",
   "execution_count": 1,
   "metadata": {},
   "outputs": [],
   "source": [
    "a = [1,2,3,4,5]\n",
    "a.remove(2)"
   ]
  },
  {
   "cell_type": "code",
   "execution_count": null,
   "metadata": {},
   "outputs": [],
   "source": []
  },
  {
   "cell_type": "code",
   "execution_count": null,
   "metadata": {},
   "outputs": [],
   "source": []
  }
 ],
 "metadata": {
  "kernelspec": {
   "display_name": ".venv",
   "language": "python",
   "name": "python3"
  },
  "language_info": {
   "codemirror_mode": {
    "name": "ipython",
    "version": 3
   },
   "file_extension": ".py",
   "mimetype": "text/x-python",
   "name": "python",
   "nbconvert_exporter": "python",
   "pygments_lexer": "ipython3",
   "version": "3.8.13"
  }
 },
 "nbformat": 4,
 "nbformat_minor": 2
}
