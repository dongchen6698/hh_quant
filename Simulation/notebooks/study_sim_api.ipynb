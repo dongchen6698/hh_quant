{
 "cells": [
  {
   "cell_type": "code",
   "execution_count": 26,
   "metadata": {},
   "outputs": [],
   "source": [
    "from gmtrade.api import *"
   ]
  },
  {
   "cell_type": "code",
   "execution_count": 27,
   "metadata": {},
   "outputs": [],
   "source": [
    "TOKEN = \"1b2af86543ef183f643910386e92435624453070\"\n",
    "ACCOUNT = \"6f6e4db8-1cb2-11ef-bab8-00163e022aa6\"\n",
    "\n",
    "set_token(TOKEN)\n",
    "set_endpoint(\"api.myquant.cn:9000\")"
   ]
  },
  {
   "cell_type": "code",
   "execution_count": 28,
   "metadata": {},
   "outputs": [
    {
     "name": "stdout",
     "output_type": "stream",
     "text": [
      "get_cash cash=account_id: \"6f6e4db8-1cb2-11ef-bab8-00163e022aa6\"\n",
      "account_name: \"6f6e4db8-1cb2-11ef-bab8-00163e022aa6\"\n",
      "nav: 199980.00000953674\n",
      "pnl: -19.999990463256836\n",
      "fpnl: -9.999990463256836\n",
      "frozen: 2099.9999046325684\n",
      "available: 197890.00009536743\n",
      "cum_inout: 200000.0\n",
      "cum_trade: 2099.9999046325684\n",
      "cum_commission: 10.0\n",
      "last_trade: 1049.9999523162842\n",
      "last_commission: 5.0\n",
      "last_inout: 200000.0\n",
      "created_at {\n",
      "  seconds: 1716873817\n",
      "  nanos: 112352140\n",
      "}\n",
      "updated_at {\n",
      "  seconds: 1716875097\n",
      "  nanos: 839295741\n",
      "}\n",
      "balance: 197890.00009536743\n",
      "\n",
      "get_positions poes=[account_id: \"6f6e4db8-1cb2-11ef-bab8-00163e022aa6\"\n",
      "symbol: \"SHSE.600239\"\n",
      "side: 1\n",
      "volume: 1000\n",
      "volume_today: 1000\n",
      "vwap: 2.0999999046325684\n",
      "amount: 2099.9999046325684\n",
      "price: 2.0899999141693115\n",
      "fpnl: -9.999990463256836\n",
      "cost: 2099.9999046325684\n",
      "available: 1000\n",
      "available_today: 1000\n",
      "last_price: 2.0999999046325684\n",
      "last_volume: 500\n",
      "created_at {\n",
      "  seconds: 1716875010\n",
      "  nanos: 936934214\n",
      "}\n",
      "updated_at {\n",
      "  seconds: 1716875097\n",
      "  nanos: 839183032\n",
      "}\n",
      "]\n"
     ]
    }
   ],
   "source": [
    "\n",
    "a1 = account(account_id=ACCOUNT, account_alias='')\n",
    "login(a1)  # 注意，可以输入账户也可以输入账户组成的list\n",
    "\n",
    "cash = get_cash()\n",
    "print(f\"get_cash cash={cash}\")\n",
    "\n",
    "poses = get_positions()\n",
    "print(f\"get_positions poes={poses}\")"
   ]
  },
  {
   "cell_type": "code",
   "execution_count": 29,
   "metadata": {},
   "outputs": [
    {
     "name": "stdout",
     "output_type": "stream",
     "text": [
      "[account_id: \"6f6e4db8-1cb2-11ef-bab8-00163e022aa6\"\n",
      "cl_ord_id: \"abb2a491-1cb7-11ef-bab8-00163e022aa6\"\n",
      "order_id: \"abb2a499-1cb7-11ef-bab8-00163e022aa6\"\n",
      "ex_ord_id: \"abb2a499-1cb7-11ef-bab8-00163e022aa6\"\n",
      "symbol: \"SHSE.600000\"\n",
      "side: 1\n",
      "position_effect: 1\n",
      "order_type: 2\n",
      "status: 1\n",
      "order_style: 1\n",
      "volume: 500\n",
      "created_at {\n",
      "  seconds: 1716876065\n",
      "  nanos: 697908141\n",
      "}\n",
      "updated_at {\n",
      "  seconds: 1716876065\n",
      "  nanos: 697908141\n",
      "}\n",
      "]\n"
     ]
    }
   ],
   "source": [
    "data = order_volume(\n",
    "    symbol='SHSE.600000', \n",
    "    volume=500, \n",
    "    side=OrderSide_Buy, \n",
    "    order_type=OrderType_Market, \n",
    "    position_effect=PositionEffect_Open,\n",
    "\n",
    ")\n",
    "print(data)"
   ]
  },
  {
   "cell_type": "code",
   "execution_count": 30,
   "metadata": {},
   "outputs": [
    {
     "data": {
      "text/plain": [
       "account_id: \"6f6e4db8-1cb2-11ef-bab8-00163e022aa6\"\n",
       "account_name: \"6f6e4db8-1cb2-11ef-bab8-00163e022aa6\"\n",
       "cl_ord_id: \"abb2a491-1cb7-11ef-bab8-00163e022aa6\"\n",
       "order_id: \"abb2a499-1cb7-11ef-bab8-00163e022aa6\"\n",
       "ex_ord_id: \"abb2a499-1cb7-11ef-bab8-00163e022aa6\"\n",
       "symbol: \"SHSE.600000\"\n",
       "side: 1\n",
       "position_effect: 1\n",
       "position_side: 1\n",
       "order_type: 2\n",
       "status: 3\n",
       "order_style: 1\n",
       "volume: 500\n",
       "filled_volume: 500\n",
       "filled_vwap: 8.550000190734863\n",
       "filled_amount: 4275.000095367432\n",
       "created_at {\n",
       "  seconds: 1716876065\n",
       "  nanos: 697908141\n",
       "}\n",
       "updated_at {\n",
       "  seconds: 1716876065\n",
       "  nanos: 709963493\n",
       "}\n",
       "filled_commission: 5.0"
      ]
     },
     "execution_count": 30,
     "metadata": {},
     "output_type": "execute_result"
    }
   ],
   "source": [
    "get_orders()[0]"
   ]
  },
  {
   "cell_type": "code",
   "execution_count": 31,
   "metadata": {},
   "outputs": [
    {
     "data": {
      "text/plain": [
       "[account_id: \"6f6e4db8-1cb2-11ef-bab8-00163e022aa6\"\n",
       " symbol: \"SHSE.600239\"\n",
       " side: 1\n",
       " volume: 1000\n",
       " volume_today: 1000\n",
       " vwap: 2.0999999046325684\n",
       " amount: 2099.9999046325684\n",
       " price: 2.0899999141693115\n",
       " fpnl: -9.999990463256836\n",
       " cost: 2099.9999046325684\n",
       " available: 1000\n",
       " available_today: 1000\n",
       " last_price: 2.0999999046325684\n",
       " last_volume: 500\n",
       " created_at {\n",
       "   seconds: 1716875010\n",
       "   nanos: 936934214\n",
       " }\n",
       " updated_at {\n",
       "   seconds: 1716875097\n",
       "   nanos: 839183032\n",
       " },\n",
       " account_id: \"6f6e4db8-1cb2-11ef-bab8-00163e022aa6\"\n",
       " symbol: \"SHSE.600000\"\n",
       " side: 1\n",
       " volume: 500\n",
       " volume_today: 500\n",
       " vwap: 8.550000190734863\n",
       " amount: 4275.000095367432\n",
       " price: 8.539999961853027\n",
       " fpnl: -5.000114440917969\n",
       " cost: 4275.000095367432\n",
       " available: 500\n",
       " available_today: 500\n",
       " last_price: 8.550000190734863\n",
       " last_volume: 500\n",
       " created_at {\n",
       "   seconds: 1716876065\n",
       "   nanos: 709982207\n",
       " }\n",
       " updated_at {\n",
       "   seconds: 1716876065\n",
       "   nanos: 709982207\n",
       " }]"
      ]
     },
     "execution_count": 31,
     "metadata": {},
     "output_type": "execute_result"
    }
   ],
   "source": [
    "get_positions()"
   ]
  },
  {
   "cell_type": "code",
   "execution_count": null,
   "metadata": {},
   "outputs": [],
   "source": []
  }
 ],
 "metadata": {
  "kernelspec": {
   "display_name": "quant",
   "language": "python",
   "name": "python3"
  },
  "language_info": {
   "codemirror_mode": {
    "name": "ipython",
    "version": 3
   },
   "file_extension": ".py",
   "mimetype": "text/x-python",
   "name": "python",
   "nbconvert_exporter": "python",
   "pygments_lexer": "ipython3",
   "version": "3.8.10"
  }
 },
 "nbformat": 4,
 "nbformat_minor": 2
}
