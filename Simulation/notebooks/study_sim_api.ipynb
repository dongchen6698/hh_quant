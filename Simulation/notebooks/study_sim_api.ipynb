{
 "cells": [
  {
   "cell_type": "code",
   "execution_count": 3,
   "metadata": {},
   "outputs": [],
   "source": [
    "from gmtrade.api import *"
   ]
  },
  {
   "cell_type": "code",
   "execution_count": 4,
   "metadata": {},
   "outputs": [],
   "source": [
    "TOKEN = \"1b2af86543ef183f643910386e92435624453070\"\n",
    "ACCOUNT = \"829e65a4-0159-11ef-a649-00163e022aa6\""
   ]
  },
  {
   "cell_type": "code",
   "execution_count": 5,
   "metadata": {},
   "outputs": [],
   "source": [
    "set_token(TOKEN)\n",
    "set_endpoint(\"api.myquant.cn:9000\")"
   ]
  },
  {
   "cell_type": "markdown",
   "metadata": {},
   "source": []
  },
  {
   "cell_type": "code",
   "execution_count": 6,
   "metadata": {},
   "outputs": [],
   "source": [
    "\n",
    "a1 = account(account_id=ACCOUNT, account_alias='')\n",
    "login(a1)  # 注意，可以输入账户也可以输入账户组成的list"
   ]
  },
  {
   "cell_type": "code",
   "execution_count": 7,
   "metadata": {},
   "outputs": [
    {
     "data": {
      "text/plain": [
       "account_id: \"829e65a4-0159-11ef-a649-00163e022aa6\"\n",
       "account_name: \"829e65a4-0159-11ef-a649-00163e022aa6\"\n",
       "nav: 100000.0\n",
       "available: 100000.0\n",
       "cum_inout: 100000.0\n",
       "last_inout: 100000.0\n",
       "created_at {\n",
       "  seconds: 1713866942\n",
       "  nanos: 704846000\n",
       "}\n",
       "updated_at {\n",
       "  seconds: 1713866942\n",
       "  nanos: 731323000\n",
       "}\n",
       "balance: 100000.0"
      ]
     },
     "execution_count": 7,
     "metadata": {},
     "output_type": "execute_result"
    }
   ],
   "source": [
    "get_cash()"
   ]
  },
  {
   "cell_type": "code",
   "execution_count": 8,
   "metadata": {},
   "outputs": [
    {
     "data": {
      "text/plain": [
       "[]"
      ]
     },
     "execution_count": 8,
     "metadata": {},
     "output_type": "execute_result"
    }
   ],
   "source": [
    "get_positions()"
   ]
  },
  {
   "cell_type": "code",
   "execution_count": 16,
   "metadata": {},
   "outputs": [],
   "source": [
    "order_cancel_all()"
   ]
  },
  {
   "cell_type": "code",
   "execution_count": 17,
   "metadata": {},
   "outputs": [],
   "source": [
    "data = order_volume(symbol='SHSE.600000', volume=10000, side=OrderSide_Buy, order_type=OrderType_Limit, position_effect=PositionEffect_Open, price=11)"
   ]
  },
  {
   "cell_type": "code",
   "execution_count": 18,
   "metadata": {},
   "outputs": [
    {
     "data": {
      "text/plain": [
       "[account_id: \"829e65a4-0159-11ef-a649-00163e022aa6\"\n",
       " cl_ord_id: \"43398a81-06cd-11ef-9b43-00163e022aa6\"\n",
       " order_id: \"43398a88-06cd-11ef-9b43-00163e022aa6\"\n",
       " ex_ord_id: \"43398a88-06cd-11ef-9b43-00163e022aa6\"\n",
       " symbol: \"SHSE.600000\"\n",
       " side: 1\n",
       " position_effect: 1\n",
       " order_type: 1\n",
       " status: 1\n",
       " price: 11.0\n",
       " order_style: 1\n",
       " volume: 10000\n",
       " created_at {\n",
       "   seconds: 1714466413\n",
       "   nanos: 768152953\n",
       " }\n",
       " updated_at {\n",
       "   seconds: 1714466413\n",
       "   nanos: 768152953\n",
       " }]"
      ]
     },
     "execution_count": 18,
     "metadata": {},
     "output_type": "execute_result"
    }
   ],
   "source": [
    "data"
   ]
  },
  {
   "cell_type": "code",
   "execution_count": 21,
   "metadata": {},
   "outputs": [
    {
     "data": {
      "text/plain": [
       "[]"
      ]
     },
     "execution_count": 21,
     "metadata": {},
     "output_type": "execute_result"
    }
   ],
   "source": [
    "get_execution_reports()\n"
   ]
  },
  {
   "cell_type": "code",
   "execution_count": null,
   "metadata": {},
   "outputs": [],
   "source": []
  },
  {
   "cell_type": "code",
   "execution_count": null,
   "metadata": {},
   "outputs": [],
   "source": []
  }
 ],
 "metadata": {
  "kernelspec": {
   "display_name": "quant",
   "language": "python",
   "name": "python3"
  },
  "language_info": {
   "codemirror_mode": {
    "name": "ipython",
    "version": 3
   },
   "file_extension": ".py",
   "mimetype": "text/x-python",
   "name": "python",
   "nbconvert_exporter": "python",
   "pygments_lexer": "ipython3",
   "version": "3.8.10"
  }
 },
 "nbformat": 4,
 "nbformat_minor": 2
}
