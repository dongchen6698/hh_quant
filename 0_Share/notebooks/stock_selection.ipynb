{
 "cells": [
  {
   "cell_type": "code",
   "execution_count": 112,
   "metadata": {},
   "outputs": [],
   "source": [
    "import sys\n",
    "sys.path.append('../')\n",
    "\n",
    "import warnings\n",
    "warnings.filterwarnings(\"ignore\")\n",
    "\n",
    "import pandas as pd\n",
    "import numpy as np\n",
    "import akshare as ak\n",
    "import json\n",
    "import os\n",
    "import time\n",
    "import sqlite3\n",
    "\n",
    "from datetime import datetime, timedelta\n",
    "from tqdm import tqdm\n",
    "from database.downloader.downloader_base import DownloaderBase\n",
    "import database.database_config as db_config\n",
    "\n",
    "pd.options.display.max_rows=None\n",
    "pd.options.display.max_columns=None"
   ]
  },
  {
   "cell_type": "code",
   "execution_count": 113,
   "metadata": {},
   "outputs": [],
   "source": [
    "db_conn = sqlite3.connect('../database/hh_quant.db')\n",
    "db_downloader = DownloaderBase(db_conn, db_config)"
   ]
  },
  {
   "cell_type": "code",
   "execution_count": 121,
   "metadata": {},
   "outputs": [],
   "source": [
    "# stock_code_list = ak.stock_info_a_code_name()['code'] # 获取A股所有股票列表\n",
    "# stock_code_list = ak.index_stock_cons(\"000016\")['品种代码'].tolist() # 获取中证50的股票代码列表\n",
    "stock_code_list = set(ak.index_stock_cons(\"000300\")['品种代码'].tolist()) # 获取沪深300的股票代码列表\n",
    "\n",
    "# 获取所有股票列表\n",
    "# stock_code_list = set(db_downloader._download_stock_base_info()['stock_code'])"
   ]
  },
  {
   "cell_type": "code",
   "execution_count": 122,
   "metadata": {},
   "outputs": [
    {
     "name": "stderr",
     "output_type": "stream",
     "text": [
      "100%|██████████| 284/284 [02:16<00:00,  2.08it/s]\n"
     ]
    }
   ],
   "source": [
    "def build_label(dataframe):\n",
    "    N = 5\n",
    "    df = dataframe.copy()\n",
    "    # 标签构建\n",
    "    df['close_N_min'] = df['close'].rolling(window=N).min().shift(-N)\n",
    "    df['close_N_max'] = df['close'].rolling(window=N).max().shift(-N)\n",
    "    df['max_return'] = df['close_N_max'] / df['open'].shift(-1) - 1 # 计算5日间最大收益率\n",
    "    df['min_return'] = df['close_N_min'] / df['open'].shift(-1) - 1 # 计算5日间最小收益率\n",
    "    # 极值处理\n",
    "    df['max_return'] = np.clip(df['max_return'], np.nanquantile(df['max_return'], 0.01), np.nanquantile(df['max_return'], 0.99))\n",
    "    df['min_return'] = np.clip(df['min_return'], np.nanquantile(df['min_return'], 0.01), np.nanquantile(df['min_return'], 0.99))\n",
    "    # 过滤一字涨停情况\n",
    "    df = df[df['high'].shift(-1) != df['low'].shift(-1)]\n",
    "    return df[['datetime', 'max_return', 'min_return']]\n",
    "\n",
    "stock_df_list = []\n",
    "for stock_code in tqdm(stock_code_list):\n",
    "    stock_data = db_downloader._download_stock_history_info(stock_code)\n",
    "    stock_label = build_label(stock_data)\n",
    "    stock_factor_date = db_downloader._download_stock_factor_date_info()\n",
    "    stock_factor_qlib = db_downloader._download_stock_factor_qlib_info(stock_code)\n",
    "    stock_df = stock_data.merge(stock_label, on=['datetime']).merge(stock_factor_date, on=['datetime']).merge(stock_factor_qlib, on=['stock_code', 'datetime'])\n",
    "    stock_df = stock_df.dropna()\n",
    "    if not stock_df.empty:\n",
    "        stock_df_list.append(stock_df)\n",
    "\n",
    "print(stock_df_list)"
   ]
  },
  {
   "cell_type": "code",
   "execution_count": null,
   "metadata": {},
   "outputs": [
    {
     "name": "stdout",
     "output_type": "stream",
     "text": [
      "['stock_code', 'stock_name', 'stock_adjust', 'datetime', 'open', 'close', 'high', 'low', 'volume', 'turnover', 'amplitude', 'change_pct', 'change_amount', 'turnover_rate', 'max_return', 'min_return', 'weekday', 'day_of_week', 'day_of_month', 'month', 'season', 'KMID', 'KLEN', 'KMID2', 'KUP', 'KUP2', 'KLOW', 'KLOW2', 'KSFT', 'KSFT2', 'OPEN0', 'OPEN1', 'OPEN2', 'OPEN3', 'OPEN4', 'HIGH0', 'HIGH1', 'HIGH2', 'HIGH3', 'HIGH4', 'LOW0', 'LOW1', 'LOW2', 'LOW3', 'LOW4', 'CLOSE0', 'CLOSE1', 'CLOSE2', 'CLOSE3', 'CLOSE4', 'VOLUME0', 'VOLUME1', 'VOLUME2', 'VOLUME3', 'VOLUME4', 'ROC5', 'ROC10', 'ROC20', 'ROC30', 'ROC60', 'MAX5', 'MAX10', 'MAX20', 'MAX30', 'MAX60', 'MIN5', 'MIN10', 'MIN20', 'MIN30', 'MIN60', 'MA5', 'MA10', 'MA20', 'MA30', 'MA60', 'STD5', 'STD10', 'STD20', 'STD30', 'STD60', 'BETA5', 'BETA10', 'BETA20', 'BETA30', 'BETA60', 'RSQR5', 'RSQR10', 'RSQR20', 'RSQR30', 'RSQR60', 'RESI5', 'RESI10', 'RESI20', 'RESI30', 'RESI60', 'QTLU5', 'QTLU10', 'QTLU20', 'QTLU30', 'QTLU60', 'QTLD5', 'QTLD10', 'QTLD20', 'QTLD30', 'QTLD60', 'TSRANK5', 'TSRANK10', 'TSRANK20', 'TSRANK30', 'TSRANK60', 'RSV5', 'RSV10', 'RSV20', 'RSV30', 'RSV60', 'IMAX5', 'IMAX10', 'IMAX20', 'IMAX30', 'IMAX60', 'IMIN5', 'IMIN10', 'IMIN20', 'IMIN30', 'IMIN60', 'IMXD5', 'IMXD10', 'IMXD20', 'IMXD30', 'IMXD60', 'CORR5', 'CORR10', 'CORR20', 'CORR30', 'CORR60', 'CORD5', 'CORD10', 'CORD20', 'CORD30', 'CORD60', 'CNTP5', 'CNTP10', 'CNTP20', 'CNTP30', 'CNTP60', 'CNTN5', 'CNTN10', 'CNTN20', 'CNTN30', 'CNTN60', 'CNTD5', 'CNTD10', 'CNTD20', 'CNTD30', 'CNTD60', 'SUMP5', 'SUMP10', 'SUMP20', 'SUMP30', 'SUMP60', 'SUMN5', 'SUMN10', 'SUMN20', 'SUMN30', 'SUMN60', 'SUMD5', 'SUMD10', 'SUMD20', 'SUMD30', 'SUMD60', 'VMA5', 'VMA10', 'VMA20', 'VMA30', 'VMA60', 'VSTD5', 'VSTD10', 'VSTD20', 'VSTD30', 'VSTD60', 'WVMA5', 'WVMA10', 'WVMA20', 'WVMA30', 'WVMA60', 'VSUMP5', 'VSUMP10', 'VSUMP20', 'VSUMP30', 'VSUMP60', 'VSUMN5', 'VSUMN10', 'VSUMN20', 'VSUMN30', 'VSUMN60', 'VSUMD5', 'VSUMD10', 'VSUMD20', 'VSUMD30', 'VSUMD60']\n"
     ]
    }
   ],
   "source": [
    "df = pd.concat(stock_df_list)\n",
    "# print([i for i in df.columns])"
   ]
  },
  {
   "cell_type": "markdown",
   "metadata": {},
   "source": [
    "## 使用Tensorflow"
   ]
  },
  {
   "cell_type": "code",
   "execution_count": 15,
   "metadata": {},
   "outputs": [
    {
     "name": "stderr",
     "output_type": "stream",
     "text": [
      "2024-03-05 14:02:30.533659: I tensorflow/core/platform/cpu_feature_guard.cc:182] This TensorFlow binary is optimized to use available CPU instructions in performance-critical operations.\n",
      "To enable the following instructions: AVX2 AVX512F AVX512_VNNI FMA, in other operations, rebuild TensorFlow with the appropriate compiler flags.\n"
     ]
    },
    {
     "name": "stdout",
     "output_type": "stream",
     "text": [
      "2.15.0\n"
     ]
    }
   ],
   "source": [
    "# 使用tensorflow处理原始数据\n",
    "import numpy as np\n",
    "import pandas as pd\n",
    "import tensorflow as tf\n",
    "print(tf.__version__)"
   ]
  },
  {
   "cell_type": "code",
   "execution_count": 42,
   "metadata": {},
   "outputs": [],
   "source": [
    "def transfer_data_type(df, columns, dtype):\n",
    "    for col in columns:\n",
    "        df[col] = df[col].astype(dtype)\n",
    "    return df\n",
    "\n",
    "def get_numeric_boundaries(series, num_bins=20):\n",
    "    if series.nunique() < num_bins:\n",
    "        boundaries = sorted(series.unique())\n",
    "    else:\n",
    "        boundaries = pd.qcut(series, num_bins, retbins=True, duplicates='drop')[1].tolist()\n",
    "    return boundaries"
   ]
  },
  {
   "cell_type": "code",
   "execution_count": 43,
   "metadata": {},
   "outputs": [],
   "source": [
    "TARGET_FEATURE_NAME = [\"max_return\", \"min_return\"]\n",
    "\n",
    "NUMERIC_FEATURES = ['KMID', 'KLEN', 'KMID2', 'KUP', 'KUP2', 'KLOW', 'KLOW2', 'KSFT', 'KSFT2', 'OPEN0', 'OPEN1', 'OPEN2', 'OPEN3', 'OPEN4', 'HIGH0', 'HIGH1', 'HIGH2', 'HIGH3', 'HIGH4', 'LOW0', 'LOW1', 'LOW2', 'LOW3', 'LOW4', 'CLOSE0', 'CLOSE1', 'CLOSE2', 'CLOSE3', 'CLOSE4', 'VOLUME0', 'VOLUME1', 'VOLUME2', 'VOLUME3', 'VOLUME4', 'ROC5', 'ROC10', 'ROC20', 'ROC30', 'ROC60', 'MAX5', 'MAX10', 'MAX20', 'MAX30', 'MAX60', 'MIN5', 'MIN10', 'MIN20', 'MIN30', 'MIN60', 'MA5', 'MA10', 'MA20', 'MA30', 'MA60', 'STD5', 'STD10', 'STD20', 'STD30', 'STD60', 'BETA5', 'BETA10', 'BETA20', 'BETA30', 'BETA60', 'RSQR5', 'RSQR10', 'RSQR20', 'RSQR30', 'RSQR60', 'RESI5', 'RESI10', 'RESI20', 'RESI30', 'RESI60', 'QTLU5', 'QTLU10', 'QTLU20', 'QTLU30', 'QTLU60', 'QTLD5', 'QTLD10', 'QTLD20', 'QTLD30', 'QTLD60', 'TSRANK5', 'TSRANK10', 'TSRANK20', 'TSRANK30', 'TSRANK60', 'RSV5', 'RSV10', 'RSV20', 'RSV30', 'RSV60', 'IMAX5', 'IMAX10', 'IMAX20', 'IMAX30', 'IMAX60', 'IMIN5', 'IMIN10', 'IMIN20', 'IMIN30', 'IMIN60', 'IMXD5', 'IMXD10', 'IMXD20', 'IMXD30', 'IMXD60', 'CORR5', 'CORR10', 'CORR20', 'CORR30', 'CORR60', 'CORD5', 'CORD10', 'CORD20', 'CORD30', 'CORD60', 'CNTP5', 'CNTP10', 'CNTP20', 'CNTP30', 'CNTP60', 'CNTN5', 'CNTN10', 'CNTN20', 'CNTN30', 'CNTN60', 'CNTD5', 'CNTD10', 'CNTD20', 'CNTD30', 'CNTD60', 'SUMP5', 'SUMP10', 'SUMP20', 'SUMP30', 'SUMP60', 'SUMN5', 'SUMN10', 'SUMN20', 'SUMN30', 'SUMN60', 'SUMD5', 'SUMD10', 'SUMD20', 'SUMD30', 'SUMD60', 'VMA5', 'VMA10', 'VMA20', 'VMA30', 'VMA60', 'VSTD5', 'VSTD10', 'VSTD20', 'VSTD30', 'VSTD60', 'WVMA5', 'WVMA10', 'WVMA20', 'WVMA30', 'WVMA60', 'VSUMP5', 'VSUMP10', 'VSUMP20', 'VSUMP30', 'VSUMP60', 'VSUMN5', 'VSUMN10', 'VSUMN20', 'VSUMN30', 'VSUMN60', 'VSUMD5', 'VSUMD10', 'VSUMD20', 'VSUMD30', 'VSUMD60']\n",
    "df = transfer_data_type(df, NUMERIC_FEATURES, 'float32')\n",
    "NUMERIC_FEATURES_WITH_BOUNDARIES = {k: get_numeric_boundaries(df[k])  for k in NUMERIC_FEATURES}\n",
    "\n",
    "INTEGER_CATEGORICAL_FEATURES = ['weekday', 'day_of_month', 'month']\n",
    "df = transfer_data_type(df, INTEGER_CATEGORICAL_FEATURES, 'int64')\n",
    "INTEGER_CATEGORICAL_FEATURES_WITH_VOCAB = {k: df[k].unique() for k in INTEGER_CATEGORICAL_FEATURES}\n",
    "\n",
    "STRING_CATEGORICAL_FEATURES = ['day_of_week', 'season']\n",
    "df = transfer_data_type(df, STRING_CATEGORICAL_FEATURES, 'string')\n",
    "STRING_CATEGORICAL_FEATURES_WITH_VOCAB = {k: df[k].unique() for k in STRING_CATEGORICAL_FEATURES}\n",
    "\n",
    "FEATURE_NAMES = NUMERIC_FEATURES + INTEGER_CATEGORICAL_FEATURES + STRING_CATEGORICAL_FEATURES"
   ]
  },
  {
   "cell_type": "code",
   "execution_count": 44,
   "metadata": {},
   "outputs": [
    {
     "name": "stdout",
     "output_type": "stream",
     "text": [
      "train_data_size: (2361, 200)\n",
      "validation_data_size: (243, 200)\n"
     ]
    }
   ],
   "source": [
    "# 6. 选择固定时间区间的数据\n",
    "train_start_date = pd.to_datetime('2010-01-01')\n",
    "train_end_date = pd.to_datetime('2019-12-31')\n",
    "val_start_date = pd.to_datetime('2020-01-01')\n",
    "val_end_date = pd.to_datetime('2020-12-31')\n",
    "\n",
    "train_data = df[(pd.to_datetime(df['datetime']) >= train_start_date) & (pd.to_datetime(df['datetime']) <= train_end_date)]\n",
    "validation_data = df[(pd.to_datetime(df['datetime']) >= val_start_date) & (pd.to_datetime(df['datetime']) <= val_end_date)]\n",
    "\n",
    "print(f\"train_data_size: {train_data.shape}\")\n",
    "print(f\"validation_data_size: {validation_data.shape}\")"
   ]
  },
  {
   "cell_type": "code",
   "execution_count": 45,
   "metadata": {},
   "outputs": [],
   "source": [
    "def df_to_dataset(dataframe, feature_cols, label_cols, shuffle=True, batch_size=32):\n",
    "  features = dataframe[feature_cols]\n",
    "  labels = dataframe[label_cols]\n",
    "  ds = tf.data.Dataset.from_tensor_slices((dict(features), labels))\n",
    "  if shuffle:\n",
    "    ds = ds.shuffle(buffer_size=len(features))\n",
    "  ds = ds.batch(batch_size)\n",
    "  ds = ds.prefetch(batch_size)\n",
    "  return ds\n",
    "\n",
    "train_ds = df_to_dataset(train_data, FEATURE_NAMES, TARGET_FEATURE_NAME, shuffle=True)\n",
    "val_ds = df_to_dataset(validation_data, FEATURE_NAMES, TARGET_FEATURE_NAME, shuffle=False)"
   ]
  },
  {
   "cell_type": "code",
   "execution_count": 46,
   "metadata": {},
   "outputs": [],
   "source": [
    "class Senet(tf.keras.layers.Layer):\n",
    "    def __init__(self, reduction_ratio=3, seed=1024, **kwargs):\n",
    "        super(Senet, self).__init__(**kwargs)\n",
    "        self.reduction_ratio = reduction_ratio\n",
    "        self.seed = seed  \n",
    "\n",
    "    def build(self, input_shape):\n",
    "        self.field_size = len(input_shape)\n",
    "        self.reduction_size = max(1, self.field_size // self.reduction_ratio)\n",
    "        self.scale_layer = tf.keras.layers.Dense(units=self.reduction_size, activation='relu')\n",
    "        self.expand_layer = tf.keras.layers.Dense(units=self.field_size, activation='relu')\n",
    "        super(Senet, self).build(input_shape)\n",
    "\n",
    "    def call(self, inputs, training=None):\n",
    "        inputs = [tf.expand_dims(i, axis=1) for i in inputs]\n",
    "        inputs = tf.concat(inputs, axis=1) # [B, N, dim]\n",
    "        Z = tf.reduce_mean(inputs, axis=-1) # [B, N]\n",
    "        A_1 = self.scale_layer(Z) # [B, X]\n",
    "        A_2 = self.expand_layer(A_1) # [B, N]\n",
    "        scale_inputs = tf.multiply(inputs, tf.expand_dims(A_2, axis=-1))\n",
    "        output = scale_inputs + inputs # skip-connection\n",
    "        return output # [B, N, dim]\n",
    "\n",
    "\n",
    "class Dnn(tf.keras.layers.Layer):\n",
    "    def __init__(self, hidden_units, activation=\"relu\", dropout_rate=0.2, use_bn=False, seed=1024, **kwargs):\n",
    "        super(Dnn, self).__init__(**kwargs)\n",
    "        self.hidden_units = hidden_units\n",
    "        self.activation = activation\n",
    "        self.dropout_rate = dropout_rate\n",
    "        self.use_bn = use_bn\n",
    "        self.seed = seed\n",
    "        self.dense_layers = []\n",
    "        self.dropout_layers = []\n",
    "        self.bn_layers = []\n",
    "        \n",
    "    def build(self, input_shape):\n",
    "        for units in self.hidden_units:\n",
    "            self.dense_layers.append(tf.keras.layers.Dense(units=units, activation=self.activation))\n",
    "            self.dropout_layers.append(tf.keras.layers.Dropout(rate=self.dropout_rate, seed=self.seed))\n",
    "            if self.use_bn:\n",
    "                self.bn_layers.append(tf.keras.layers.BatchNormalization())\n",
    "        super(Dnn, self).build(input_shape)  # Be sure to call this at the end\n",
    "    \n",
    "    def call(self, inputs, training=False):\n",
    "        x = inputs\n",
    "        for i in range(len(self.hidden_units)):\n",
    "            x = self.dense_layers[i](x)\n",
    "            if self.use_bn:\n",
    "                x = self.bn_layers[i](x, training=training)\n",
    "            x = self.dropout_layers[i](x, training=training)\n",
    "        return x"
   ]
  },
  {
   "cell_type": "code",
   "execution_count": 47,
   "metadata": {},
   "outputs": [],
   "source": [
    "class QuantModel(tf.keras.Model):\n",
    "\tdef __init__(self, config, **kwargs):\n",
    "\t\tsuper(QuantModel, self).__init__(**kwargs)\n",
    "\t\tself.config = config\n",
    "\n",
    "\t\t# 添加属性来存储预定义的层\n",
    "\t\tself.lookup_layers = {}\n",
    "\t\tself.embedding_layers = {}\n",
    "\n",
    "        # 创建连续特征的离散化层和嵌入层\n",
    "\t\tfor feature_name, boundaries in self.config.get(\"numeric_features_with_boundaries\").items():\n",
    "\t\t\tself.lookup_layers[feature_name] = tf.keras.layers.Discretization(bin_boundaries=boundaries, output_mode='int', name=f'{feature_name}_lookup')\n",
    "\t\t\tself.embedding_layers[feature_name] = tf.keras.layers.Embedding(input_dim=len(boundaries) + 1, output_dim=self.config.get(\"feature_embedding_dims\", 6), name=f'{feature_name}_embedding')\n",
    "        # 创建整数特征的查找层和嵌入层\n",
    "\t\tfor feature_name, vocab in self.config.get(\"integer_categorical_features_with_vocab\").items():\n",
    "\t\t\tself.lookup_layers[feature_name] = tf.keras.layers.IntegerLookup(vocabulary=vocab, name=f'{feature_name}_lookup')\n",
    "\t\t\tself.embedding_layers[feature_name] = tf.keras.layers.Embedding(input_dim=len(vocab) + 1, output_dim=self.config.get(\"feature_embedding_dims\", 6), name=f'{feature_name}_embedding')\n",
    "\t\t# 创建字符串特征的查找层和嵌入层\n",
    "\t\tfor feature_name, vocab in self.config.get(\"string_categorical_features_with_vocab\").items():\n",
    "\t\t\tself.lookup_layers[feature_name] = tf.keras.layers.StringLookup(vocabulary=vocab, name=f'{feature_name}_lookup')\n",
    "\t\t\tself.embedding_layers[feature_name] = tf.keras.layers.Embedding(input_dim=len(vocab) + 1, output_dim=self.config.get(\"feature_embedding_dims\", 6), name=f'{feature_name}_embedding')\n",
    "\n",
    "\t\tself.senet_layer = Senet(\n",
    "\t\t\treduction_ratio=self.config.get('reduction_ratio', 3), \n",
    "\t\t\tseed=self.config.get('seed', 1024),\n",
    "\t\t)\n",
    "\t\tself.dnn_layer = Dnn(\n",
    "\t\t\thidden_units=self.config.get('dnn_hidden_units', [64,32]),\n",
    "\t\t\tactivation=self.config.get('dnn_activation', 'relu'),\n",
    "\t\t\tdropout_rate=self.config.get('dnn_dropout', 0.2),\n",
    "\t\t\tuse_bn=self.config.get('dnn_use_bn', True)\n",
    "\t\t)\n",
    "\t\tself.output_layer_1 = tf.keras.layers.Dense(1, activation=None) # max_return\n",
    "\t\tself.output_layer_2 = tf.keras.layers.Dense(1, activation=None) # min_return\n",
    "\t\t\n",
    "\n",
    "\tdef call(self, inputs, training=False):\n",
    "\t\t# 确保inputs是一个字典类型，每个键值对应一个特征输入\n",
    "\t\tif not isinstance(inputs, dict): \n",
    "\t\t\traise ValueError('The inputs to the model should be a dictionary where keys are feature names.')\n",
    "\t\tencoded_features = []\n",
    "    \t# 现在使用已经实例化的层来编码输入\n",
    "\t\tfor feature_name, feature_value in inputs.items():\n",
    "        \t# 使用预定义的查找层和嵌入层\n",
    "\t\t\tlookup_layer = self.lookup_layers[feature_name]\n",
    "\t\t\tembedding_layer = self.embedding_layers[feature_name]\n",
    "\t\t\tencoded_feature = embedding_layer(lookup_layer(feature_value))\n",
    "\t\t\tencoded_features.append(encoded_feature)\n",
    "\n",
    "\t\tsenet_output = self.senet_layer(encoded_features, training=training)\n",
    "\t\tsenet_output = tf.keras.layers.Flatten()(senet_output) # [B, N * dim]\n",
    "\t\tdnn_output = self.dnn_layer(senet_output, training=training)\n",
    "\t\toutput_1 = self.output_layer_1(dnn_output, training=training)\n",
    "\t\toutput_2 = self.output_layer_2(dnn_output, training=training)\n",
    "\t\treturn output_1, output_2"
   ]
  },
  {
   "cell_type": "code",
   "execution_count": 48,
   "metadata": {},
   "outputs": [
    {
     "name": "stdout",
     "output_type": "stream",
     "text": [
      "Epoch 1/10\n",
      "74/74 - 29s - loss: 2.1748 - output_1_loss: 0.9801 - output_2_loss: 1.1947 - val_loss: 0.0771 - val_output_1_loss: 0.0593 - val_output_2_loss: 0.0177 - 29s/epoch - 388ms/step\n",
      "Epoch 2/10\n",
      "74/74 - 1s - loss: 0.9711 - output_1_loss: 0.4260 - output_2_loss: 0.5451 - val_loss: 0.1499 - val_output_1_loss: 0.1249 - val_output_2_loss: 0.0250 - 1s/epoch - 16ms/step\n",
      "Epoch 3/10\n",
      "74/74 - 1s - loss: 0.6131 - output_1_loss: 0.2701 - output_2_loss: 0.3431 - val_loss: 0.1522 - val_output_1_loss: 0.1257 - val_output_2_loss: 0.0265 - 1s/epoch - 17ms/step\n",
      "Epoch 4/10\n",
      "74/74 - 1s - loss: 0.4360 - output_1_loss: 0.1872 - output_2_loss: 0.2487 - val_loss: 0.1044 - val_output_1_loss: 0.0860 - val_output_2_loss: 0.0184 - 1s/epoch - 16ms/step\n",
      "Epoch 5/10\n",
      "74/74 - 1s - loss: 0.3235 - output_1_loss: 0.1354 - output_2_loss: 0.1881 - val_loss: 0.0688 - val_output_1_loss: 0.0533 - val_output_2_loss: 0.0155 - 1s/epoch - 17ms/step\n",
      "Epoch 6/10\n",
      "74/74 - 1s - loss: 0.2264 - output_1_loss: 0.1008 - output_2_loss: 0.1256 - val_loss: 0.0402 - val_output_1_loss: 0.0290 - val_output_2_loss: 0.0112 - 1s/epoch - 16ms/step\n",
      "Epoch 7/10\n",
      "74/74 - 1s - loss: 0.1785 - output_1_loss: 0.0763 - output_2_loss: 0.1022 - val_loss: 0.0229 - val_output_1_loss: 0.0139 - val_output_2_loss: 0.0090 - 1s/epoch - 20ms/step\n",
      "Epoch 8/10\n",
      "74/74 - 2s - loss: 0.1322 - output_1_loss: 0.0550 - output_2_loss: 0.0772 - val_loss: 0.0164 - val_output_1_loss: 0.0077 - val_output_2_loss: 0.0087 - 2s/epoch - 22ms/step\n",
      "Epoch 9/10\n",
      "74/74 - 2s - loss: 0.1103 - output_1_loss: 0.0445 - output_2_loss: 0.0658 - val_loss: 0.0138 - val_output_1_loss: 0.0055 - val_output_2_loss: 0.0083 - 2s/epoch - 21ms/step\n",
      "Epoch 10/10\n",
      "74/74 - 2s - loss: 0.0770 - output_1_loss: 0.0317 - output_2_loss: 0.0453 - val_loss: 0.0116 - val_output_1_loss: 0.0044 - val_output_2_loss: 0.0072 - 2s/epoch - 23ms/step\n"
     ]
    },
    {
     "data": {
      "text/plain": [
       "<keras.src.callbacks.History at 0x13d9bc0d0>"
      ]
     },
     "execution_count": 48,
     "metadata": {},
     "output_type": "execute_result"
    }
   ],
   "source": [
    "model_config = {\n",
    "    \"seed\": 1024,\n",
    "    \"reduction_ratio\": 3,\n",
    "    \"dnn_hidden_units\": [64,32],\n",
    "    \"dnn_activation\": 'relu',\n",
    "    \"dnn_dropout\": 0.2,\n",
    "    \"dnn_use_bn\": True,\n",
    "    \"numeric_features_with_boundaries\": NUMERIC_FEATURES_WITH_BOUNDARIES,\n",
    "    \"integer_categorical_features_with_vocab\": INTEGER_CATEGORICAL_FEATURES_WITH_VOCAB,\n",
    "    \"string_categorical_features_with_vocab\": STRING_CATEGORICAL_FEATURES_WITH_VOCAB,\n",
    "    \"feature_embedding_dims\": 6\n",
    "}\n",
    "\n",
    "model = QuantModel(model_config)\n",
    "\n",
    "optimizer = tf.keras.optimizers.legacy.Adam(learning_rate=1e-3)\n",
    "loss = [tf.keras.losses.MeanSquaredError(), tf.keras.losses.MeanSquaredError()]\n",
    "loss_weight = [1.0, 1.0]\n",
    "model.compile(optimizer, loss=loss, loss_weights=loss_weight)\n",
    "model.fit(\n",
    "        train_ds, \n",
    "        validation_data=val_ds, \n",
    "        epochs=10,\n",
    "        verbose=2,\n",
    "        callbacks=[])\n",
    "\n",
    "# early_stopping = tf.keras.callbacks.EarlyStopping(\n",
    "#     monitor='val_loss',\n",
    "#     verbose=1,\n",
    "#     patience=10,\n",
    "#     mode='max',\n",
    "#     restore_best_weights=True,\n",
    "# )"
   ]
  },
  {
   "cell_type": "code",
   "execution_count": 180,
   "metadata": {},
   "outputs": [],
   "source": [
    "# baseline_model.save('./stock_selection_base_model')\n",
    "# reloaded_model = tf.keras.models.load_model('./stock_selection_base_model')"
   ]
  },
  {
   "cell_type": "code",
   "execution_count": 72,
   "metadata": {},
   "outputs": [
    {
     "name": "stdout",
     "output_type": "stream",
     "text": [
      "1/8 [==>...........................] - ETA: 0s"
     ]
    },
    {
     "name": "stdout",
     "output_type": "stream",
     "text": [
      "8/8 [==============================] - 0s 15ms/step\n"
     ]
    },
    {
     "data": {
      "text/html": [
       "<div>\n",
       "<style scoped>\n",
       "    .dataframe tbody tr th:only-of-type {\n",
       "        vertical-align: middle;\n",
       "    }\n",
       "\n",
       "    .dataframe tbody tr th {\n",
       "        vertical-align: top;\n",
       "    }\n",
       "\n",
       "    .dataframe thead th {\n",
       "        text-align: right;\n",
       "    }\n",
       "</style>\n",
       "<table border=\"1\" class=\"dataframe\">\n",
       "  <thead>\n",
       "    <tr style=\"text-align: right;\">\n",
       "      <th></th>\n",
       "      <th>stock_code</th>\n",
       "      <th>stock_name</th>\n",
       "      <th>datetime</th>\n",
       "      <th>max_return</th>\n",
       "      <th>max_return_pred</th>\n",
       "      <th>min_return</th>\n",
       "      <th>min_return_pred</th>\n",
       "    </tr>\n",
       "  </thead>\n",
       "  <tbody>\n",
       "    <tr>\n",
       "      <th>4623</th>\n",
       "      <td>000001</td>\n",
       "      <td>平安银行</td>\n",
       "      <td>2020-01-02</td>\n",
       "      <td>0.013649</td>\n",
       "      <td>0.175426</td>\n",
       "      <td>-0.015927</td>\n",
       "      <td>0.225618</td>\n",
       "    </tr>\n",
       "    <tr>\n",
       "      <th>4624</th>\n",
       "      <td>000001</td>\n",
       "      <td>平安银行</td>\n",
       "      <td>2020-01-03</td>\n",
       "      <td>0.007934</td>\n",
       "      <td>0.033865</td>\n",
       "      <td>-0.019827</td>\n",
       "      <td>0.043286</td>\n",
       "    </tr>\n",
       "    <tr>\n",
       "      <th>4625</th>\n",
       "      <td>000001</td>\n",
       "      <td>平安银行</td>\n",
       "      <td>2020-01-06</td>\n",
       "      <td>0.001125</td>\n",
       "      <td>0.013085</td>\n",
       "      <td>-0.026448</td>\n",
       "      <td>-0.053612</td>\n",
       "    </tr>\n",
       "    <tr>\n",
       "      <th>4626</th>\n",
       "      <td>000001</td>\n",
       "      <td>平安银行</td>\n",
       "      <td>2020-01-07</td>\n",
       "      <td>-0.000569</td>\n",
       "      <td>0.048117</td>\n",
       "      <td>-0.019274</td>\n",
       "      <td>0.066644</td>\n",
       "    </tr>\n",
       "    <tr>\n",
       "      <th>4627</th>\n",
       "      <td>000001</td>\n",
       "      <td>平安银行</td>\n",
       "      <td>2020-01-08</td>\n",
       "      <td>0.010313</td>\n",
       "      <td>-0.054455</td>\n",
       "      <td>-0.016617</td>\n",
       "      <td>0.046566</td>\n",
       "    </tr>\n",
       "  </tbody>\n",
       "</table>\n",
       "</div>"
      ],
      "text/plain": [
       "     stock_code stock_name    datetime  max_return  max_return_pred  \\\n",
       "4623     000001       平安银行  2020-01-02    0.013649         0.175426   \n",
       "4624     000001       平安银行  2020-01-03    0.007934         0.033865   \n",
       "4625     000001       平安银行  2020-01-06    0.001125         0.013085   \n",
       "4626     000001       平安银行  2020-01-07   -0.000569         0.048117   \n",
       "4627     000001       平安银行  2020-01-08    0.010313        -0.054455   \n",
       "\n",
       "      min_return  min_return_pred  \n",
       "4623   -0.015927         0.225618  \n",
       "4624   -0.019827         0.043286  \n",
       "4625   -0.026448        -0.053612  \n",
       "4626   -0.019274         0.066644  \n",
       "4627   -0.016617         0.046566  "
      ]
     },
     "execution_count": 72,
     "metadata": {},
     "output_type": "execute_result"
    }
   ],
   "source": [
    "max_return_pred, min_return_pred = model.predict(val_ds)\n",
    "\n",
    "output_df = validation_data[['stock_code', 'stock_name', 'datetime']]\n",
    "output_df['max_return'] = validation_data['max_return']\n",
    "output_df['max_return_pred'] = max_return_pred.squeeze()\n",
    "output_df['min_return'] = validation_data['min_return']\n",
    "output_df['min_return_pred'] = min_return_pred.squeeze()\n",
    "\n",
    "output_df.head()"
   ]
  },
  {
   "cell_type": "code",
   "execution_count": 85,
   "metadata": {},
   "outputs": [
    {
     "data": {
      "text/plain": [
       "{'precision': 0.014705882352941176, 'recall': 0.14285714285714285}"
      ]
     },
     "execution_count": 85,
     "metadata": {},
     "output_type": "execute_result"
    }
   ],
   "source": [
    "from sklearn.metrics import precision_score, recall_score\n",
    "\n",
    "def calculate_performance(dataframe, target_col, threshold):\n",
    "    y_true = dataframe[target_col] >= threshold\n",
    "    y_pred = dataframe[target_col+'_pred'] >= threshold\n",
    "    output = {'precision': precision_score(y_true, y_pred), 'recall': recall_score(y_true, y_pred)}\n",
    "    return output\n",
    "\n",
    "calculate_performance(output_df, 'min_return', 0.03)"
   ]
  },
  {
   "cell_type": "code",
   "execution_count": 84,
   "metadata": {},
   "outputs": [],
   "source": [
    "# output = backtest_df[['stock_code', 'datetime', 'prediction']].rename(columns={\n",
    "#     'stock_code': 'instrument',\n",
    "#     'datetime': 'date',\n",
    "#     'prediction': 'pred'\n",
    "# })\n",
    "# output.head()"
   ]
  },
  {
   "cell_type": "code",
   "execution_count": 194,
   "metadata": {},
   "outputs": [],
   "source": [
    "output.to_csv('./stock_selection_result.csv', index=False)"
   ]
  },
  {
   "cell_type": "code",
   "execution_count": 59,
   "metadata": {},
   "outputs": [
    {
     "data": {
      "text/plain": [
       "'missy私人甜品店'"
      ]
     },
     "execution_count": 59,
     "metadata": {},
     "output_type": "execute_result"
    }
   ],
   "source": [
    "import re\n",
    "\n",
    "test = '00000000missy私人甜品店'\n",
    "\n",
    "re.sub(r\"^[a-z]?\\d+\", \"\", test).strip()"
   ]
  },
  {
   "cell_type": "code",
   "execution_count": 101,
   "metadata": {},
   "outputs": [],
   "source": [
    "sample = df['close'][-100:]"
   ]
  },
  {
   "cell_type": "code",
   "execution_count": 111,
   "metadata": {},
   "outputs": [
    {
     "data": {
      "image/png": "[encoded data removed]",
      "text/plain": [
       "<Figure size 1400x700 with 1 Axes>"
      ]
     },
     "metadata": {},
     "output_type": "display_data"
    }
   ],
   "source": [
    "import pandas as pd\n",
    "import matplotlib.pyplot as plt\n",
    "import numpy as np\n",
    "%matplotlib inline\n",
    "\n",
    "# 假设这是你的原始序列数据\n",
    "series = np.log(sample)\n",
    "\n",
    "# 创建画布和轴\n",
    "fig, ax = plt.subplots(figsize=(14, 7))\n",
    "\n",
    "# 绘制原始数据\n",
    "series.plot(ax=ax, label='Original Data')\n",
    "\n",
    "# 定义要用于均值和标准差的窗口列表\n",
    "windows = [5]\n",
    "\n",
    "# 对于每个窗口，计算滚动均值和滚动标准差\n",
    "for window in windows:\n",
    "    rolling_mean = series.rolling(window=window).mean()\n",
    "    rolling_std = series.rolling(window=window).std()\n",
    "    \n",
    "    # 绘制均值\n",
    "    rolling_mean.plot(ax=ax, linestyle='--', label=f'{window}-Day Rolling Mean')\n",
    "    # rolling_gap.plot(ax=ax, linestyle='-.', label=f'{window}-Day Rolling Gap')\n",
    "    \n",
    "    # 绘制标准差\n",
    "    ax.fill_between(series.index, \n",
    "                   (rolling_mean - 2*rolling_std),\n",
    "                   (rolling_mean + 2*rolling_std),\n",
    "                   alpha=0.2, label=f'±2*{window}-Day Rolling Std')\n",
    "    \n",
    "# 添加图例\n",
    "ax.legend()\n",
    "\n",
    "# 显示图表\n",
    "plt.show()"
   ]
  },
  {
   "cell_type": "code",
   "execution_count": null,
   "metadata": {},
   "outputs": [],
   "source": []
  }
 ],
 "metadata": {
  "kernelspec": {
   "display_name": ".venv",
   "language": "python",
   "name": "python3"
  },
  "language_info": {
   "codemirror_mode": {
    "name": "ipython",
    "version": 3
   },
   "file_extension": ".py",
   "mimetype": "text/x-python",
   "name": "python",
   "nbconvert_exporter": "python",
   "pygments_lexer": "ipython3",
   "version": "3.10.13"
  }
 },
 "nbformat": 4,
 "nbformat_minor": 2
}
