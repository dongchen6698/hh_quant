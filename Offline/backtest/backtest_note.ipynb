{
 "cells": [
  {
   "cell_type": "code",
   "execution_count": 26,
   "metadata": {},
   "outputs": [],
   "source": [
    "import warnings\n",
    "\n",
    "warnings.filterwarnings(\"ignore\")\n",
    "\n",
    "import sys\n",
    "\n",
    "# 配置搜索路径\n",
    "sys.path.append(\"./\")\n",
    "sys.path.append(\"../\")\n",
    "sys.path.append(\"../../\")\n",
    "import backtrader as bt\n",
    "import pandas as pd\n",
    "import pprint\n",
    "import sqlite3\n",
    "from tqdm import tqdm\n",
    "from datetime import datetime\n",
    "from strategies import CustomMLStrategy\n",
    "from backtest_utils import CustomCommissionSchema, CustomAnalyzer\n",
    "from Share.database.downloader.downloader_base import DownloaderBase\n",
    "import Share.database.database_config as db_config"
   ]
  },
  {
   "cell_type": "code",
   "execution_count": 27,
   "metadata": {},
   "outputs": [
    {
     "name": "stdout",
     "output_type": "stream",
     "text": [
      "Start: 20200102, End: 20200331\n"
     ]
    }
   ],
   "source": [
    "BACKTEST_INITIAL_CASH = 100000  # 初始化资金\n",
    "BACKTEST_INDEX_SYMBOLS = \"000016\"  # 【选股】策略的对比基准=指数index，【择时】策略的对比基准=单股自身\n",
    "\n",
    "# 读取模型预测文件\n",
    "model_pred_df = pd.read_pickle(\"./backtest_data/stock_selection_result.pkl\")\n",
    "# 构建数据里表\n",
    "BACKTEST_STOCK_SYMBOLS = model_pred_df['stock_code'].map(lambda x: str(x).zfill(6)).unique().tolist()\n",
    "BACKTEST_START_DATE = datetime.strptime(model_pred_df['datetime'].min(), \"%Y-%m-%d\").strftime(\"%Y%m%d\")  # 回测开始日期\n",
    "BACKTEST_END_DATE = datetime.strptime(model_pred_df['datetime'].max(), \"%Y-%m-%d\").strftime(\"%Y%m%d\")  # 回测结束日期\n",
    "print(f'Start: {BACKTEST_START_DATE}, End: {BACKTEST_END_DATE}')"
   ]
  },
  {
   "cell_type": "code",
   "execution_count": 28,
   "metadata": {},
   "outputs": [],
   "source": [
    "# 初始化db_downloader\n",
    "db_conn = sqlite3.connect(\"../../Share/database/hh_quant.db\")\n",
    "db_downloader = DownloaderBase(db_conn=db_conn, db_config=db_config)"
   ]
  },
  {
   "cell_type": "code",
   "execution_count": 29,
   "metadata": {},
   "outputs": [],
   "source": [
    "cerebro = bt.Cerebro()"
   ]
  },
  {
   "cell_type": "code",
   "execution_count": 30,
   "metadata": {},
   "outputs": [
    {
     "name": "stdout",
     "output_type": "stream",
     "text": [
      "开始设置回测基础参数...\n"
     ]
    }
   ],
   "source": [
    "print(\"开始设置回测基础参数...\")\n",
    "cerebro.broker.setcash(BACKTEST_INITIAL_CASH)  # 配置初始资金量\n",
    "cerebro.broker.addcommissioninfo(CustomCommissionSchema())  # 配置自定义的佣金类型"
   ]
  },
  {
   "cell_type": "code",
   "execution_count": 31,
   "metadata": {},
   "outputs": [
    {
     "name": "stdout",
     "output_type": "stream",
     "text": [
      "开始添加回测股票数据...\n"
     ]
    },
    {
     "name": "stderr",
     "output_type": "stream",
     "text": [
      "100%|██████████| 45/45 [00:00<00:00, 123.86it/s]\n"
     ]
    }
   ],
   "source": [
    "print(\"开始添加回测股票数据...\")\n",
    "for stock_symbol in tqdm(BACKTEST_STOCK_SYMBOLS):\n",
    "    stock_data = db_downloader._download_stock_history_info(stock_symbol, start_date=BACKTEST_START_DATE, end_date=BACKTEST_END_DATE)\n",
    "    if not stock_data.empty:\n",
    "        stock_data = stock_data[[\"datetime\", \"open\", \"high\", \"low\", \"close\", \"volume\"]]\n",
    "        stock_data[\"datetime\"] = pd.to_datetime(stock_data[\"datetime\"])\n",
    "        stock_data.set_index(\"datetime\", inplace=True)\n",
    "        stock_data_feeds = bt.feeds.PandasData(dataname=stock_data)  # 构建回测数据Feeds流\n",
    "        cerebro.adddata(stock_data_feeds, name=stock_symbol)  # 添加回测数据"
   ]
  },
  {
   "cell_type": "code",
   "execution_count": 32,
   "metadata": {},
   "outputs": [
    {
     "name": "stdout",
     "output_type": "stream",
     "text": [
      "开始添加基准数据...\n"
     ]
    },
    {
     "data": {
      "text/plain": [
       "<backtrader.feeds.pandafeed.PandasData at 0x1319777f0>"
      ]
     },
     "execution_count": 32,
     "metadata": {},
     "output_type": "execute_result"
    }
   ],
   "source": [
    "print(\"开始添加基准数据...\")\n",
    "benchmark_data = db_downloader._download_index_history_info(BACKTEST_INDEX_SYMBOLS, start_date=BACKTEST_START_DATE, end_date=BACKTEST_END_DATE)\n",
    "benchmark_data = benchmark_data[[\"datetime\", \"open\", \"high\", \"low\", \"close\", \"volume\"]]\n",
    "benchmark_data[\"datetime\"] = pd.to_datetime(benchmark_data[\"datetime\"])\n",
    "benchmark_data.set_index(\"datetime\", inplace=True)\n",
    "benchmark_name = f\"benchmark_{BACKTEST_INDEX_SYMBOLS}\"\n",
    "benchmark_data_feeds = bt.feeds.PandasData(dataname=benchmark_data)  # 构建基准数据Feeds流\n",
    "cerebro.adddata(benchmark_data_feeds, name=benchmark_name)  # 添加基准数据"
   ]
  },
  {
   "cell_type": "code",
   "execution_count": 33,
   "metadata": {},
   "outputs": [
    {
     "name": "stdout",
     "output_type": "stream",
     "text": [
      "开始添加策略...\n"
     ]
    },
    {
     "data": {
      "text/plain": [
       "0"
      ]
     },
     "execution_count": 33,
     "metadata": {},
     "output_type": "execute_result"
    }
   ],
   "source": [
    "print(\"开始添加策略...\")\n",
    "strategy_params = {\n",
    "        \"model_prediction_file\": \"./backtest_data/stock_selection_result.pkl\",\n",
    "        \"benchmark\": benchmark_name\n",
    "    }\n",
    "cerebro.addstrategy(CustomMLStrategy, **strategy_params)"
   ]
  },
  {
   "cell_type": "code",
   "execution_count": 34,
   "metadata": {},
   "outputs": [
    {
     "name": "stdout",
     "output_type": "stream",
     "text": [
      "开始添加分析器...\n"
     ]
    }
   ],
   "source": [
    "print(\"开始添加分析器...\")\n",
    "cerebro.addanalyzer(bt.analyzers.DrawDown, _name=\"drawdown\")  # 添加最大回撤的分析器，后续customAnalyzer中需要用到\n",
    "cerebro.addanalyzer(CustomAnalyzer, _name=\"custom_analyzer\")  # 添加自定义的分析器"
   ]
  },
  {
   "cell_type": "code",
   "execution_count": 35,
   "metadata": {},
   "outputs": [
    {
     "name": "stdout",
     "output_type": "stream",
     "text": [
      "开始添加观察器...\n"
     ]
    }
   ],
   "source": [
    "print(\"开始添加观察器...\")\n",
    "cerebro.addobserver(bt.observers.Benchmark, data=benchmark_data_feeds, timeframe=bt.TimeFrame.NoTimeFrame)  # 添加基准对比观察器"
   ]
  },
  {
   "cell_type": "code",
   "execution_count": 36,
   "metadata": {},
   "outputs": [
    {
     "name": "stdout",
     "output_type": "stream",
     "text": [
      "开始运行回测...\n",
      "启动基准对比...\n",
      "2020-01-15 订单取消/保证金不足/拒绝\n",
      "2020-01-15 买入执行, 引用: 198, 价格: 8.08, 成本: 46088.32, 手续费: 5.00, 数量: 5704.00, 股票: 600050\n",
      "2020-01-15 买入执行, 引用: 199, 价格: 44.95, 成本: 48725.80, 手续费: 5.00, 数量: 1084.00, 股票: 601601\n",
      "2020-01-16 买入执行, 引用: 201, 价格: 82.95, 成本: 1327.20, 手续费: 5.00, 数量: 16.00, 股票: 601899\n",
      "2020-01-16 买入执行, 引用: 202, 价格: 448.25, 成本: 2241.25, 手续费: 5.00, 数量: 5.00, 股票: 600406\n",
      "2020-01-16 ATR 触发止损... 执行平仓【股票: 601601】, 购入价格: 44.95, 止损价格: 43.99467721782591】\n",
      "2020-01-16 ATR 触发止损... 执行平仓【股票: 600050】, 购入价格: 8.08, 止损价格: 7.898754685547688】\n",
      "2020-01-16 ATR 触发止损... 执行平仓【股票: 600406】, 购入价格: 448.25, 止损价格: 436.9517992503124】\n",
      "2020-01-17 卖出执行, 引用: 203, 价格: 44.05, 成本: 48725.80, 手续费: 47.89, 数量: -1084.00, 股票: 601601\n",
      "2020-01-17 卖出执行, 引用: 204, 价格: 7.85, 成本: 46088.32, 手续费: 44.91, 数量: -5704.00, 股票: 600050\n",
      "2020-01-17 卖出执行, 引用: 205, 价格: 431.15, 成本: 2241.25, 手续费: 5.00, 数量: -5.00, 股票: 600406\n",
      "2020-01-17 买入执行, 引用: 206, 价格: 293.00, 成本: 586.00, 手续费: 5.00, 数量: 2.00, 股票: 600809\n",
      "2020-01-17 操作盈亏, 毛利润: -975.60, 净利润: -1028.49, 股票: 601601\n",
      "2020-01-17 操作盈亏, 毛利润: -1311.92, 净利润: -1361.83, 股票: 600050\n",
      "2020-01-17 操作盈亏, 毛利润: -85.50, 净利润: -95.50, 股票: 600406\n",
      "2020-01-20 订单取消/保证金不足/拒绝\n",
      "2020-01-20 买入执行, 引用: 207, 价格: 276.01, 成本: 28705.04, 手续费: 5.00, 数量: 104.00, 股票: 601012\n",
      "2020-01-20 买入执行, 引用: 208, 价格: 539.11, 成本: 37737.70, 手续费: 5.00, 数量: 70.00, 股票: 600436\n",
      "2020-01-21 买入执行, 引用: 210, 价格: 288.43, 成本: 13267.78, 手续费: 5.00, 数量: 46.00, 股票: 600048\n",
      "2020-01-21 买入执行, 引用: 211, 价格: 414.08, 成本: 12422.40, 手续费: 5.00, 数量: 30.00, 股票: 603288\n",
      "2020-01-21 ATR 触发止损... 执行平仓【股票: 600809】, 购入价格: 293.0, 止损价格: 285.4602783096936】\n",
      "2020-01-21 ATR 触发止损... 执行平仓【股票: 601899】, 购入价格: 82.95, 止损价格: 80.17747701091504】\n",
      "2020-01-22 卖出执行, 引用: 212, 价格: 283.64, 成本: 586.00, 手续费: 5.00, 数量: -2.00, 股票: 600809\n",
      "2020-01-22 卖出执行, 引用: 213, 价格: 78.90, 成本: 1327.20, 手续费: 5.00, 数量: -16.00, 股票: 601899\n",
      "2020-01-22 买入执行, 引用: 214, 价格: 138.07, 成本: 1104.56, 手续费: 5.00, 数量: 8.00, 股票: 603259\n",
      "2020-01-22 买入执行, 引用: 215, 价格: 81.84, 成本: 572.88, 手续费: 5.00, 数量: 7.00, 股票: 603799\n",
      "2020-01-22 操作盈亏, 毛利润: -18.72, 净利润: -28.72, 股票: 600809\n",
      "2020-01-22 操作盈亏, 毛利润: -64.80, 净利润: -74.80, 股票: 601899\n",
      "2020-01-23 买入执行, 引用: 216, 价格: 9.30, 成本: 1841.40, 手续费: 5.00, 数量: 198.00, 股票: 601668\n",
      "2020-01-23 ATR 触发止损... 执行平仓【股票: 603288】, 购入价格: 414.08, 止损价格: 403.3715530398559】\n",
      "2020-01-23 ATR 触发止损... 执行平仓【股票: 600048】, 购入价格: 288.43, 止损价格: 280.8643885435074】\n",
      "2020-02-03 卖出执行, 引用: 217, 价格: 360.76, 成本: 12422.40, 手续费: 10.86, 数量: -30.00, 股票: 603288\n",
      "2020-02-03 卖出执行, 引用: 218, 价格: 258.06, 成本: 13267.78, 手续费: 11.91, 数量: -46.00, 股票: 600048\n",
      "2020-02-03 买入执行, 引用: 219, 价格: 70.18, 成本: 491.26, 手续费: 5.00, 数量: 7.00, 股票: 600893\n",
      "2020-02-03 买入执行, 引用: 220, 价格: 241.87, 成本: 725.61, 手续费: 5.00, 数量: 3.00, 股票: 600089\n",
      "2020-02-03 买入执行, 引用: 221, 价格: 168.29, 成本: 841.45, 手续费: 5.00, 数量: 5.00, 股票: 601318\n",
      "2020-02-03 操作盈亏, 毛利润: -1599.60, 净利润: -1615.46, 股票: 603288\n",
      "2020-02-03 操作盈亏, 毛利润: -1397.02, 净利润: -1413.93, 股票: 600048\n",
      "2020-02-03 ATR 触发止损... 执行平仓【股票: 603259】, 购入价格: 138.07, 止损价格: 132.47646158191367】\n",
      "2020-02-03 ATR 触发止损... 执行平仓【股票: 601668】, 购入价格: 9.3, 止损价格: 9.017989336651581】\n",
      "2020-02-04 卖出执行, 引用: 222, 价格: 129.44, 成本: 1104.56, 手续费: 5.00, 数量: -8.00, 股票: 603259\n",
      "2020-02-04 卖出执行, 引用: 223, 价格: 8.46, 成本: 1841.40, 手续费: 5.00, 数量: -198.00, 股票: 601668\n",
      "2020-02-04 买入执行, 引用: 224, 价格: 1405.53, 成本: 5622.12, 手续费: 5.00, 数量: 4.00, 股票: 600309\n",
      "2020-02-04 买入执行, 引用: 225, 价格: 5403.08, 成本: 5403.08, 手续费: 5.00, 数量: 1.00, 股票: 600519\n",
      "2020-02-04 操作盈亏, 毛利润: -69.04, 净利润: -79.04, 股票: 603259\n",
      "2020-02-04 操作盈亏, 毛利润: -166.32, 净利润: -176.32, 股票: 601668\n",
      "2020-02-05 买入执行, 引用: 226, 价格: 192.23, 成本: 1730.07, 手续费: 5.00, 数量: 9.00, 股票: 603501\n",
      "2020-02-05 买入执行, 引用: 227, 价格: 130.65, 成本: 4964.70, 手续费: 5.00, 数量: 38.00, 股票: 600104\n",
      "2020-02-05 买入执行, 引用: 228, 价格: 8.95, 成本: 3499.45, 手续费: 5.00, 数量: 391.00, 股票: 601225\n",
      "2020-02-06 买入执行, 引用: 229, 价格: 377.69, 成本: 755.38, 手续费: 5.00, 数量: 2.00, 股票: 600406\n",
      "2020-02-06 买入执行, 引用: 230, 价格: 34.48, 成本: 930.96, 手续费: 5.00, 数量: 27.00, 股票: 601628\n",
      "2020-02-06 ATR 触发止盈... 执行平仓【股票: 601318】, 购入价格: 168.29, 止盈价格: 177.53266865420088】\n",
      "2020-02-07 卖出执行, 引用: 231, 价格: 176.47, 成本: 841.45, 手续费: 5.00, 数量: -5.00, 股票: 601318\n",
      "2020-02-07 买入执行, 引用: 232, 价格: 252.04, 成本: 252.04, 手续费: 5.00, 数量: 1.00, 股票: 600809\n",
      "2020-02-07 操作盈亏, 毛利润: 40.90, 净利润: 30.90, 股票: 601318\n",
      "2020-02-07 ATR 触发止盈... 执行平仓【股票: 601012】, 购入价格: 276.01, 止盈价格: 307.0244986693506】\n",
      "2020-02-07 ATR 触发止盈... 执行平仓【股票: 600519】, 购入价格: 5403.08, 止盈价格: 5697.058947300244】\n",
      "2020-02-10 卖出执行, 引用: 233, 价格: 312.57, 成本: 28705.04, 手续费: 32.60, 数量: -104.00, 股票: 601012\n",
      "2020-02-10 卖出执行, 引用: 234, 价格: 5639.25, 成本: 5403.08, 手续费: 5.66, 数量: -1.00, 股票: 600519\n",
      "2020-02-10 买入执行, 引用: 235, 价格: 142.79, 成本: 428.37, 手续费: 5.00, 数量: 3.00, 股票: 603259\n",
      "2020-02-10 操作盈亏, 毛利润: 3802.24, 净利润: 3764.64, 股票: 601012\n",
      "2020-02-10 操作盈亏, 毛利润: 236.17, 净利润: 225.51, 股票: 600519\n",
      "2020-02-11 买入执行, 引用: 236, 价格: 315.02, 成本: 7875.50, 手续费: 5.00, 数量: 25.00, 股票: 601012\n",
      "2020-02-11 ATR 触发止盈... 执行平仓【股票: 600089】, 购入价格: 241.87, 止盈价格: 259.586376247571】\n",
      "2020-02-12 卖出执行, 引用: 237, 价格: 277.60, 成本: 725.61, 手续费: 5.00, 数量: -3.00, 股票: 600089\n",
      "2020-02-12 买入执行, 引用: 238, 价格: 778.36, 成本: 4670.16, 手续费: 5.00, 数量: 6.00, 股票: 603986\n",
      "2020-02-12 操作盈亏, 毛利润: 107.19, 净利润: 97.19, 股票: 600089\n",
      "2020-02-12 ATR 触发止盈... 执行平仓【股票: 600406】, 购入价格: 377.69, 止盈价格: 406.1886439867256】\n",
      "2020-02-12 ATR 触发止盈... 执行平仓【股票: 603799】, 购入价格: 81.84, 止盈价格: 96.23809117138687】\n",
      "2020-02-13 卖出执行, 引用: 239, 价格: 410.51, 成本: 755.38, 手续费: 5.00, 数量: -2.00, 股票: 600406\n",
      "2020-02-13 卖出执行, 引用: 240, 价格: 100.84, 成本: 572.88, 手续费: 5.00, 数量: -7.00, 股票: 603799\n",
      "2020-02-13 买入执行, 引用: 241, 价格: 169.06, 成本: 7945.82, 手续费: 5.00, 数量: 47.00, 股票: 600111\n",
      "2020-02-13 操作盈亏, 毛利润: 65.64, 净利润: 55.64, 股票: 600406\n",
      "2020-02-13 操作盈亏, 毛利润: 133.00, 净利润: 123.00, 股票: 603799\n",
      "2020-02-14 买入执行, 引用: 242, 价格: 271.82, 成本: 5164.58, 手续费: 5.00, 数量: 19.00, 股票: 600089\n",
      "2020-02-14 买入执行, 引用: 243, 价格: 99.80, 成本: 2994.00, 手续费: 5.00, 数量: 30.00, 股票: 603799\n",
      "2020-02-14 买入执行, 引用: 244, 价格: 146.73, 成本: 4255.17, 手续费: 5.00, 数量: 29.00, 股票: 600438\n",
      "2020-02-17 ATR 触发止盈... 执行平仓【股票: 600893】, 购入价格: 70.18, 止盈价格: 75.61366143900104】\n",
      "2020-02-17 ATR 触发止盈... 执行平仓【股票: 603986】, 购入价格: 778.36, 止盈价格: 890.0628248276826】\n",
      "2020-02-17 ATR 触发止盈... 执行平仓【股票: 603259】, 购入价格: 142.79, 止盈价格: 156.35850406968413】\n",
      "2020-02-17 ATR 触发止盈... 执行平仓【股票: 600104】, 购入价格: 130.65, 止盈价格: 136.90067971056735】\n",
      "2020-02-18 卖出执行, 引用: 245, 价格: 87.55, 成本: 491.26, 手续费: 5.00, 数量: -7.00, 股票: 600893\n",
      "2020-02-18 卖出执行, 引用: 246, 价格: 894.98, 成本: 4670.16, 手续费: 5.39, 数量: -6.00, 股票: 603986\n",
      "2020-02-18 卖出执行, 引用: 247, 价格: 161.36, 成本: 428.37, 手续费: 5.00, 数量: -3.00, 股票: 603259\n",
      "2020-02-18 卖出执行, 引用: 248, 价格: 139.93, 成本: 4964.70, 手续费: 5.33, 数量: -38.00, 股票: 600104\n",
      "2020-02-18 操作盈亏, 毛利润: 121.59, 净利润: 111.59, 股票: 600893\n",
      "2020-02-18 操作盈亏, 毛利润: 699.72, 净利润: 689.33, 股票: 603986\n",
      "2020-02-18 操作盈亏, 毛利润: 55.71, 净利润: 45.71, 股票: 603259\n",
      "2020-02-18 操作盈亏, 毛利润: 352.64, 净利润: 342.31, 股票: 600104\n",
      "2020-02-18 ATR 触发止盈... 执行平仓【股票: 600438】, 购入价格: 146.73, 止盈价格: 164.55707115453095】\n",
      "2020-02-19 卖出执行, 引用: 249, 价格: 163.61, 成本: 4255.17, 手续费: 5.00, 数量: -29.00, 股票: 600438\n",
      "2020-02-19 买入执行, 引用: 250, 价格: 6.12, 成本: 11046.60, 手续费: 5.00, 数量: 1805.00, 股票: 601390\n",
      "2020-02-19 操作盈亏, 毛利润: 489.52, 净利润: 479.52, 股票: 600438\n",
      "2020-02-19 ATR 触发止损... 执行平仓【股票: 603799】, 购入价格: 99.8, 止损价格: 92.59582682963335】\n",
      "2020-02-20 订单取消/保证金不足/拒绝\n",
      "2020-02-20 订单取消/保证金不足/拒绝\n",
      "2020-02-20 卖出执行, 引用: 251, 价格: 88.10, 成本: 2994.00, 手续费: 5.00, 数量: -30.00, 股票: 603799\n",
      "2020-02-20 买入执行, 引用: 252, 价格: 5.87, 成本: 16993.65, 手续费: 5.00, 数量: 2895.00, 股票: 601988\n",
      "2020-02-20 操作盈亏, 毛利润: -351.00, 净利润: -361.00, 股票: 603799\n",
      "2020-02-20 ATR 触发止盈... 执行平仓【股票: 600809】, 购入价格: 252.04, 止盈价格: 269.3052507454124】\n",
      "2020-02-21 卖出执行, 引用: 255, 价格: 270.80, 成本: 252.04, 手续费: 5.00, 数量: -1.00, 股票: 600809\n",
      "2020-02-21 操作盈亏, 毛利润: 18.76, 净利润: 8.76, 股票: 600809\n",
      "2020-02-21 ATR 触发止盈... 执行平仓【股票: 601628】, 购入价格: 34.48, 止盈价格: 36.367932879623346】\n",
      "2020-02-24 卖出执行, 引用: 256, 价格: 35.98, 成本: 930.96, 手续费: 5.00, 数量: -27.00, 股票: 601628\n",
      "2020-02-24 买入执行, 引用: 257, 价格: 7.40, 成本: 488.40, 手续费: 5.00, 数量: 66.00, 股票: 600050\n",
      "2020-02-24 买入执行, 引用: 258, 价格: 156.73, 成本: 156.73, 手续费: 5.00, 数量: 1.00, 股票: 600438\n",
      "2020-02-24 操作盈亏, 毛利润: 40.50, 净利润: 30.50, 股票: 601628\n",
      "2020-02-24 ATR 触发止盈... 执行平仓【股票: 603501】, 购入价格: 192.23, 止盈价格: 219.08251005398665】\n",
      "2020-02-25 卖出执行, 引用: 259, 价格: 215.72, 成本: 1730.07, 手续费: 5.00, 数量: -9.00, 股票: 603501\n",
      "2020-02-25 买入执行, 引用: 260, 价格: 425.45, 成本: 425.45, 手续费: 5.00, 数量: 1.00, 股票: 600406\n",
      "2020-02-25 操作盈亏, 毛利润: 211.41, 净利润: 201.41, 股票: 603501\n",
      "2020-02-25 ATR 触发止损... 执行平仓【股票: 601988】, 购入价格: 5.87, 止损价格: 5.824915179368819】\n",
      "2020-02-25 ATR 触发止损... 执行平仓【股票: 601390】, 购入价格: 6.12, 止损价格: 6.009805187289093】\n",
      "2020-02-26 卖出执行, 引用: 261, 价格: 5.80, 成本: 16993.65, 手续费: 16.84, 数量: -2895.00, 股票: 601988\n",
      "2020-02-26 卖出执行, 引用: 262, 价格: 5.90, 成本: 11046.60, 手续费: 10.68, 数量: -1805.00, 股票: 601390\n",
      "2020-02-26 买入执行, 引用: 263, 价格: 86.87, 成本: 868.70, 手续费: 5.00, 数量: 10.00, 股票: 600030\n",
      "2020-02-26 买入执行, 引用: 264, 价格: 52.24, 成本: 992.56, 手续费: 5.00, 数量: 19.00, 股票: 600150\n",
      "2020-02-26 操作盈亏, 毛利润: -202.65, 净利润: -224.49, 股票: 601988\n",
      "2020-02-26 操作盈亏, 毛利润: -397.10, 净利润: -412.78, 股票: 601390\n",
      "2020-02-26 ATR 触发止损... 执行平仓【股票: 600406】, 购入价格: 425.45, 止损价格: 411.06016524817244】\n",
      "2020-02-27 订单取消/保证金不足/拒绝\n",
      "2020-02-27 卖出执行, 引用: 265, 价格: 415.04, 成本: 425.45, 手续费: 5.00, 数量: -1.00, 股票: 600406\n",
      "2020-02-27 买入执行, 引用: 266, 价格: 69.62, 成本: 18240.44, 手续费: 5.00, 数量: 262.00, 股票: 601166\n",
      "2020-02-27 买入执行, 引用: 267, 价格: 641.42, 成本: 8979.88, 手续费: 5.00, 数量: 14.00, 股票: 600690\n",
      "2020-02-27 操作盈亏, 毛利润: -10.41, 净利润: -20.41, 股票: 600406\n",
      "2020-02-28 买入执行, 引用: 269, 价格: 423.68, 成本: 423.68, 手续费: 5.00, 数量: 1.00, 股票: 600406\n",
      "2020-02-28 买入执行, 引用: 270, 价格: 8.88, 成本: 683.76, 手续费: 5.00, 数量: 77.00, 股票: 601668\n",
      "2020-02-28 ATR 触发止损... 执行平仓【股票: 600150】, 购入价格: 52.24, 止损价格: 49.90534936751256】\n",
      "2020-02-28 ATR 触发止损... 执行平仓【股票: 600111】, 购入价格: 169.06, 止损价格: 163.01266097970617】\n",
      "2020-02-28 ATR 触发止损... 执行平仓【股票: 600438】, 购入价格: 156.73, 止损价格: 148.2085492279535】\n",
      "2020-02-28 ATR 触发止损... 执行平仓【股票: 601012】, 购入价格: 315.02, 止损价格: 297.96384900335596】\n",
      "2020-02-28 ATR 触发止损... 执行平仓【股票: 600690】, 购入价格: 641.42, 止损价格: 621.8147677869712】\n",
      "2020-02-28 ATR 触发止损... 执行平仓【股票: 600309】, 购入价格: 1405.53, 止损价格: 1362.0607008153813】\n",
      "2020-02-28 ATR 触发止损... 执行平仓【股票: 601166】, 购入价格: 69.62, 止损价格: 68.48095488733925】\n",
      "2020-02-28 ATR 触发止损... 执行平仓【股票: 600030】, 购入价格: 86.87, 止损价格: 83.99428131684523】\n",
      "2020-03-02 卖出执行, 引用: 271, 价格: 49.24, 成本: 992.56, 手续费: 5.00, 数量: -19.00, 股票: 600150\n",
      "2020-03-02 卖出执行, 引用: 272, 价格: 156.78, 成本: 7945.82, 手续费: 7.39, 数量: -47.00, 股票: 600111\n",
      "2020-03-02 卖出执行, 引用: 273, 价格: 147.93, 成本: 156.73, 手续费: 5.00, 数量: -1.00, 股票: 600438\n",
      "2020-03-02 卖出执行, 引用: 274, 价格: 296.55, 成本: 7875.50, 手续费: 7.44, 数量: -25.00, 股票: 601012\n",
      "2020-03-02 卖出执行, 引用: 275, 价格: 621.88, 成本: 8979.88, 手续费: 8.73, 数量: -14.00, 股票: 600690\n",
      "2020-03-02 卖出执行, 引用: 276, 价格: 1362.38, 成本: 5622.12, 手续费: 5.47, 数量: -4.00, 股票: 600309\n",
      "2020-03-02 卖出执行, 引用: 277, 价格: 68.49, 成本: 18240.44, 手续费: 18.00, 数量: -262.00, 股票: 601166\n",
      "2020-03-02 卖出执行, 引用: 278, 价格: 84.17, 成本: 868.70, 手续费: 5.00, 数量: -10.00, 股票: 600030\n",
      "2020-03-02 操作盈亏, 毛利润: -57.00, 净利润: -67.00, 股票: 600150\n",
      "2020-03-02 操作盈亏, 毛利润: -577.16, 净利润: -589.55, 股票: 600111\n",
      "2020-03-02 操作盈亏, 毛利润: -8.80, 净利润: -18.80, 股票: 600438\n",
      "2020-03-02 操作盈亏, 毛利润: -461.75, 净利润: -474.19, 股票: 601012\n",
      "2020-03-02 操作盈亏, 毛利润: -273.56, 净利润: -287.29, 股票: 600690\n",
      "2020-03-02 操作盈亏, 毛利润: -172.60, 净利润: -183.07, 股票: 600309\n",
      "2020-03-02 操作盈亏, 毛利润: -296.06, 净利润: -319.06, 股票: 601166\n",
      "2020-03-02 操作盈亏, 毛利润: -27.00, 净利润: -37.00, 股票: 600030\n",
      "2020-03-02 ATR 触发止盈... 执行平仓【股票: 601668】, 购入价格: 8.88, 止盈价格: 9.468928856582044】\n",
      "2020-03-03 卖出执行, 引用: 279, 价格: 9.83, 成本: 683.76, 手续费: 5.00, 数量: -77.00, 股票: 601668\n",
      "2020-03-03 买入执行, 引用: 280, 价格: 72.27, 成本: 5781.60, 手续费: 5.00, 数量: 80.00, 股票: 603799\n",
      "2020-03-03 买入执行, 引用: 281, 价格: 143.47, 成本: 18938.04, 手续费: 5.00, 数量: 132.00, 股票: 600104\n",
      "2020-03-03 操作盈亏, 毛利润: 73.15, 净利润: 63.15, 股票: 601668\n",
      "2020-03-04 买入执行, 引用: 282, 价格: 753.30, 成本: 5273.10, 手续费: 5.00, 数量: 7.00, 股票: 600031\n",
      "2020-03-05 买入执行, 引用: 283, 价格: 909.31, 成本: 1818.62, 手续费: 5.00, 数量: 2.00, 股票: 603986\n",
      "2020-03-05 买入执行, 引用: 284, 价格: 91.00, 成本: 3458.00, 手续费: 5.00, 数量: 38.00, 股票: 600893\n",
      "2020-03-05 买入执行, 引用: 285, 价格: 273.86, 成本: 5751.06, 手续费: 5.00, 数量: 21.00, 股票: 600809\n",
      "2020-03-05 ATR 触发止盈... 执行平仓【股票: 600089】, 购入价格: 271.82, 止盈价格: 304.47904392529455】\n",
      "2020-03-05 ATR 触发止盈... 执行平仓【股票: 600809】, 购入价格: 273.86, 止盈价格: 297.21285856700405】\n",
      "2020-03-06 卖出执行, 引用: 286, 价格: 335.40, 成本: 5164.58, 手续费: 6.39, 数量: -19.00, 股票: 600089\n",
      "2020-03-06 卖出执行, 引用: 287, 价格: 295.97, 成本: 5751.06, 手续费: 6.23, 数量: -21.00, 股票: 600809\n",
      "2020-03-06 操作盈亏, 毛利润: 1208.02, 净利润: 1196.63, 股票: 600089\n",
      "2020-03-06 操作盈亏, 毛利润: 464.31, 净利润: 453.08, 股票: 600809\n",
      "2020-03-09 买入执行, 引用: 288, 价格: 326.47, 成本: 3917.64, 手续费: 5.00, 数量: 12.00, 股票: 600089\n",
      "2020-03-09 ATR 触发止损... 执行平仓【股票: 600893】, 购入价格: 91.0, 止损价格: 86.35120502870795】\n",
      "2020-03-09 ATR 触发止损... 执行平仓【股票: 600104】, 购入价格: 143.47, 止损价格: 140.18111496630556】\n",
      "2020-03-10 卖出执行, 引用: 289, 价格: 83.33, 成本: 3458.00, 手续费: 5.00, 数量: -38.00, 股票: 600893\n",
      "2020-03-10 卖出执行, 引用: 290, 价格: 137.21, 成本: 18938.04, 手续费: 18.17, 数量: -132.00, 股票: 600104\n",
      "2020-03-10 买入执行, 引用: 291, 价格: 126.97, 成本: 2793.34, 手续费: 5.00, 数量: 22.00, 股票: 600438\n",
      "2020-03-10 买入执行, 引用: 292, 价格: 10.67, 成本: 11704.99, 手续费: 5.00, 数量: 1097.00, 股票: 600028\n",
      "2020-03-10 操作盈亏, 毛利润: -291.46, 净利润: -301.46, 股票: 600893\n",
      "2020-03-10 操作盈亏, 毛利润: -826.32, 净利润: -849.49, 股票: 600104\n",
      "2020-03-11 买入执行, 引用: 293, 价格: 41.68, 成本: 16963.76, 手续费: 5.00, 数量: 407.00, 股票: 600900\n",
      "2020-03-11 ATR 触发止损... 执行平仓【股票: 603986】, 购入价格: 909.31, 止损价格: 831.6213652258539】\n",
      "2020-03-11 ATR 触发止损... 执行平仓【股票: 600031】, 购入价格: 753.3, 止损价格: 722.2409490918358】\n",
      "2020-03-12 卖出执行, 引用: 294, 价格: 809.21, 成本: 1818.62, 手续费: 5.00, 数量: -2.00, 股票: 603986\n",
      "2020-03-12 卖出执行, 引用: 295, 价格: 706.99, 成本: 5273.10, 手续费: 5.00, 数量: -7.00, 股票: 600031\n",
      "2020-03-12 买入执行, 引用: 296, 价格: 32.92, 成本: 1876.44, 手续费: 5.00, 数量: 57.00, 股票: 601633\n",
      "2020-03-12 买入执行, 引用: 297, 价格: 4.92, 成本: 2297.64, 手续费: 5.00, 数量: 467.00, 股票: 601919\n",
      "2020-03-12 操作盈亏, 毛利润: -200.20, 净利润: -210.20, 股票: 603986\n",
      "2020-03-12 操作盈亏, 毛利润: -324.17, 净利润: -334.17, 股票: 600031\n",
      "2020-03-12 ATR 触发止损... 执行平仓【股票: 601225】, 购入价格: 8.95, 止损价格: 8.721972809402027】\n",
      "2020-03-12 ATR 触发止损... 执行平仓【股票: 600028】, 购入价格: 10.67, 止损价格: 10.50712756360806】\n",
      "2020-03-13 卖出执行, 引用: 298, 价格: 8.39, 成本: 3499.45, 手续费: 5.00, 数量: -391.00, 股票: 601225\n",
      "2020-03-13 卖出执行, 引用: 299, 价格: 10.24, 成本: 11704.99, 手续费: 11.27, 数量: -1097.00, 股票: 600028\n",
      "2020-03-13 买入执行, 引用: 300, 价格: 135.85, 成本: 1766.05, 手续费: 5.00, 数量: 13.00, 股票: 603259\n",
      "2020-03-13 买入执行, 引用: 301, 价格: 1285.13, 成本: 1285.13, 手续费: 5.00, 数量: 1.00, 股票: 600309\n",
      "2020-03-13 操作盈亏, 毛利润: -218.96, 净利润: -228.96, 股票: 601225\n",
      "2020-03-13 操作盈亏, 毛利润: -471.71, 净利润: -487.98, 股票: 600028\n",
      "2020-03-13 ATR 触发止损... 执行平仓【股票: 603799】, 购入价格: 72.27, 止损价格: 67.22172211592273】\n",
      "2020-03-13 ATR 触发止损... 执行平仓【股票: 600900】, 购入价格: 41.68, 止损价格: 41.074149822783255】\n",
      "2020-03-16 卖出执行, 引用: 302, 价格: 65.48, 成本: 5781.60, 手续费: 5.25, 数量: -80.00, 股票: 603799\n",
      "2020-03-16 卖出执行, 引用: 303, 价格: 40.47, 成本: 16963.76, 手续费: 16.52, 数量: -407.00, 股票: 600900\n",
      "2020-03-16 买入执行, 引用: 304, 价格: 861.43, 成本: 1722.86, 手续费: 5.00, 数量: 2.00, 股票: 603986\n",
      "2020-03-16 操作盈亏, 毛利润: -543.20, 净利润: -553.45, 股票: 603799\n",
      "2020-03-16 操作盈亏, 毛利润: -492.47, 净利润: -513.99, 股票: 600900\n",
      "2020-03-16 ATR 触发止损... 执行平仓【股票: 600050】, 购入价格: 7.4, 止损价格: 7.114850319066594】\n",
      "2020-03-16 ATR 触发止损... 执行平仓【股票: 601919】, 购入价格: 4.92, 止损价格: 4.737568466729329】\n",
      "2020-03-16 ATR 触发止损... 执行平仓【股票: 600438】, 购入价格: 126.97, 止损价格: 118.48545434415469】\n",
      "2020-03-17 卖出执行, 引用: 305, 价格: 6.98, 成本: 488.40, 手续费: 5.00, 数量: -66.00, 股票: 600050\n",
      "2020-03-17 卖出执行, 引用: 306, 价格: 4.69, 成本: 2297.64, 手续费: 5.00, 数量: -467.00, 股票: 601919\n",
      "2020-03-17 卖出执行, 引用: 307, 价格: 115.61, 成本: 2793.34, 手续费: 5.00, 数量: -22.00, 股票: 600438\n",
      "2020-03-17 买入执行, 引用: 308, 价格: 64.63, 成本: 17902.51, 手续费: 5.00, 数量: 277.00, 股票: 601166\n",
      "2020-03-17 买入执行, 引用: 309, 价格: 215.00, 成本: 3440.00, 手续费: 5.00, 数量: 16.00, 股票: 688111\n",
      "2020-03-17 买入执行, 引用: 310, 价格: 34.56, 成本: 12579.84, 手续费: 5.00, 数量: 364.00, 股票: 601601\n",
      "2020-03-17 操作盈亏, 毛利润: -27.72, 净利润: -37.72, 股票: 600050\n",
      "2020-03-17 操作盈亏, 毛利润: -107.41, 净利润: -117.41, 股票: 601919\n",
      "2020-03-17 操作盈亏, 毛利润: -249.92, 净利润: -259.92, 股票: 600438\n",
      "2020-03-17 ATR 触发止损... 执行平仓【股票: 601633】, 购入价格: 32.92, 止损价格: 31.370440790578108】\n",
      "2020-03-17 ATR 触发止损... 执行平仓【股票: 600436】, 购入价格: 539.11, 止损价格: 516.6978087247991】\n",
      "2020-03-18 卖出执行, 引用: 311, 价格: 30.46, 成本: 1876.44, 手续费: 5.00, 数量: -57.00, 股票: 601633\n",
      "2020-03-18 卖出执行, 引用: 312, 价格: 517.55, 成本: 37737.70, 手续费: 36.34, 数量: -70.00, 股票: 600436\n",
      "2020-03-18 买入执行, 引用: 313, 价格: 561.29, 成本: 2806.45, 手续费: 5.00, 数量: 5.00, 股票: 600690\n",
      "2020-03-18 操作盈亏, 毛利润: -140.22, 净利润: -150.22, 股票: 601633\n",
      "2020-03-18 操作盈亏, 毛利润: -1509.20, 净利润: -1550.54, 股票: 600436\n",
      "2020-03-18 ATR 触发止损... 执行平仓【股票: 603986】, 购入价格: 861.43, 止损价格: 787.3990168379984】\n",
      "2020-03-19 卖出执行, 引用: 314, 价格: 772.11, 成本: 1722.86, 手续费: 5.00, 数量: -2.00, 股票: 603986\n",
      "2020-03-19 买入执行, 引用: 315, 价格: 63.45, 成本: 9517.50, 手续费: 5.00, 数量: 150.00, 股票: 601899\n",
      "2020-03-19 买入执行, 引用: 316, 价格: 39.73, 成本: 32300.49, 手续费: 5.00, 数量: 813.00, 股票: 600900\n",
      "2020-03-19 操作盈亏, 毛利润: -178.64, 净利润: -188.64, 股票: 603986\n",
      "2020-03-19 ATR 触发止损... 执行平仓【股票: 601601】, 购入价格: 34.56, 止损价格: 33.31182477590564】\n",
      "2020-03-19 ATR 触发止损... 执行平仓【股票: 603259】, 购入价格: 135.85, 止损价格: 127.4071393247】\n",
      "2020-03-19 ATR 触发止损... 执行平仓【股票: 600309】, 购入价格: 1285.13, 止损价格: 1221.4906075008194】\n",
      "2020-03-19 ATR 触发止损... 执行平仓【股票: 601166】, 购入价格: 64.63, 止损价格: 62.883851674981315】\n",
      "2020-03-20 卖出执行, 引用: 317, 价格: 33.25, 成本: 12579.84, 手续费: 12.14, 数量: -364.00, 股票: 601601\n",
      "2020-03-20 卖出执行, 引用: 318, 价格: 127.28, 成本: 1766.05, 手续费: 5.00, 数量: -13.00, 股票: 603259\n",
      "2020-03-20 卖出执行, 引用: 319, 价格: 1205.11, 成本: 1285.13, 手续费: 5.00, 数量: -1.00, 股票: 600309\n",
      "2020-03-20 卖出执行, 引用: 320, 价格: 61.39, 成本: 17902.51, 手续费: 17.06, 数量: -277.00, 股票: 601166\n",
      "2020-03-20 买入执行, 引用: 321, 价格: 80.42, 成本: 1769.24, 手续费: 5.00, 数量: 22.00, 股票: 600030\n",
      "2020-03-20 买入执行, 引用: 322, 价格: 60.60, 成本: 909.00, 手续费: 5.00, 数量: 15.00, 股票: 603799\n",
      "2020-03-20 买入执行, 引用: 323, 价格: 151.61, 成本: 1061.27, 手续费: 5.00, 数量: 7.00, 股票: 601888\n",
      "2020-03-20 操作盈亏, 毛利润: -476.84, 净利润: -493.98, 股票: 601601\n",
      "2020-03-20 操作盈亏, 毛利润: -111.41, 净利润: -121.41, 股票: 603259\n",
      "2020-03-20 操作盈亏, 毛利润: -80.02, 净利润: -90.02, 股票: 600309\n",
      "2020-03-20 操作盈亏, 毛利润: -897.48, 净利润: -919.54, 股票: 601166\n",
      "2020-03-23 买入执行, 引用: 324, 价格: 1156.70, 成本: 5783.50, 手续费: 5.00, 数量: 5.00, 股票: 600309\n",
      "2020-03-23 买入执行, 引用: 325, 价格: 141.51, 成本: 3820.77, 手续费: 5.00, 数量: 27.00, 股票: 603501\n",
      "2020-03-23 ATR 触发止损... 执行平仓【股票: 603799】, 购入价格: 60.6, 止损价格: 55.969724239394225】\n",
      "2020-03-23 ATR 触发止损... 执行平仓【股票: 600690】, 购入价格: 561.29, 止损价格: 538.0403339998335】\n",
      "2020-03-24 卖出执行, 引用: 326, 价格: 55.19, 成本: 909.00, 手续费: 5.00, 数量: -15.00, 股票: 603799\n",
      "2020-03-24 卖出执行, 引用: 327, 价格: 524.16, 成本: 2806.45, 手续费: 5.00, 数量: -5.00, 股票: 600690\n",
      "2020-03-24 买入执行, 引用: 328, 价格: 6.87, 成本: 6773.82, 手续费: 5.00, 数量: 986.00, 股票: 600050\n",
      "2020-03-24 买入执行, 引用: 329, 价格: 81.27, 成本: 4794.93, 手续费: 5.00, 数量: 59.00, 股票: 600893\n",
      "2020-03-24 买入执行, 引用: 330, 价格: 710.51, 成本: 2131.53, 手续费: 5.00, 数量: 3.00, 股票: 603986\n",
      "2020-03-24 操作盈亏, 毛利润: -81.15, 净利润: -91.15, 股票: 603799\n",
      "2020-03-24 操作盈亏, 毛利润: -185.65, 净利润: -195.65, 股票: 600690\n",
      "2020-03-24 ATR 触发止盈... 执行平仓【股票: 601899】, 购入价格: 63.45, 止盈价格: 69.96539198899504】\n",
      "2020-03-25 卖出执行, 引用: 331, 价格: 72.45, 成本: 9517.50, 手续费: 10.90, 数量: -150.00, 股票: 601899\n",
      "2020-03-25 买入执行, 引用: 332, 价格: 224.11, 成本: 2016.99, 手续费: 5.00, 数量: 9.00, 股票: 601012\n",
      "2020-03-25 买入执行, 引用: 333, 价格: 392.58, 成本: 3140.64, 手续费: 5.00, 数量: 8.00, 股票: 603288\n",
      "2020-03-25 操作盈亏, 毛利润: 1350.00, 净利润: 1334.10, 股票: 601899\n",
      "2020-03-26 买入执行, 引用: 334, 价格: 2925.83, 成本: 2925.83, 手续费: 5.00, 数量: 1.00, 股票: 600276\n",
      "2020-03-26 买入执行, 引用: 335, 价格: 129.24, 成本: 5298.84, 手续费: 5.00, 数量: 41.00, 股票: 600104\n",
      "2020-03-27 买入执行, 引用: 336, 价格: 32.80, 成本: 2722.40, 手续费: 5.00, 数量: 83.00, 股票: 601633\n",
      "2020-03-30 买入执行, 引用: 337, 价格: 8.85, 成本: 3584.25, 手续费: 5.00, 数量: 405.00, 股票: 601668\n",
      "2020-03-30 ATR 触发止损... 执行平仓【股票: 600893】, 购入价格: 81.27, 止损价格: 77.78309531365593】\n",
      "2020-03-30 ATR 触发止损... 执行平仓【股票: 601888】, 购入价格: 151.61, 止损价格: 143.40532596719905】\n",
      "2020-03-31 卖出执行, 引用: 338, 价格: 78.03, 成本: 4794.93, 手续费: 5.00, 数量: -59.00, 股票: 600893\n",
      "2020-03-31 卖出执行, 引用: 339, 价格: 142.19, 成本: 1061.27, 手续费: 5.00, 数量: -7.00, 股票: 601888\n",
      "2020-03-31 操作盈亏, 毛利润: -191.16, 净利润: -201.16, 股票: 600893\n",
      "2020-03-31 操作盈亏, 毛利润: -65.94, 净利润: -75.94, 股票: 601888\n",
      "2020-03-31 ATR 触发止盈... 执行平仓【股票: 603288】, 购入价格: 392.58, 止盈价格: 435.8173934074414】\n",
      "Start Portfolio Value: 100000\n",
      "Final Portfolio Value: 94729.17159880999\n"
     ]
    }
   ],
   "source": [
    "print(\"开始运行回测...\")\n",
    "# 运行回测\n",
    "results = cerebro.run()\n",
    "# 打印初始资金\n",
    "print(f\"Start Portfolio Value: {BACKTEST_INITIAL_CASH}\")\n",
    "# 打印最终资金\n",
    "print(f\"Final Portfolio Value: {cerebro.broker.getvalue()}\")"
   ]
  },
  {
   "cell_type": "code",
   "execution_count": 37,
   "metadata": {},
   "outputs": [
    {
     "name": "stdout",
     "output_type": "stream",
     "text": [
      "开始打印回测相关指标...\n",
      "{'其他': {'亏损次数': 43,\n",
      "        '夏普比率': -0.8267,\n",
      "        '日均超额收益': 0.0015,\n",
      "        '日胜率': 0.4035,\n",
      "        '最大回撤': 10.9979,\n",
      "        '最大回撤区间': 27,\n",
      "        '盈亏比': 1.397,\n",
      "        '盈利次数': 18,\n",
      "        '索提诺比率': -1.0208,\n",
      "        '胜率': 0.2951,\n",
      "        '贝塔': 0.6955,\n",
      "        '超额收益': 0.0772,\n",
      "        '超额收益夏普比率': 2.0731,\n",
      "        '阿尔法': 0.0008},\n",
      " '基准': {'基准年化收益': -0.4536, '基准收益': -0.1299, '基准波动率': 0.2857},\n",
      " '策略': {'策略年化收益': -0.2096, '策略收益': -0.0527, '策略波动率': 0.251}}\n"
     ]
    }
   ],
   "source": [
    "print(\"开始打印回测相关指标...\")\n",
    "custom_analysis = results[0].analyzers.custom_analyzer.get_analysis()\n",
    "format_analysis_result = {\"基准\": {}, \"策略\": {}, \"其他\": {}}\n",
    "for key, value in custom_analysis.items():\n",
    "    if key.startswith(\"基准\"):\n",
    "        format_analysis_result[\"基准\"][key] = round(value, 4)\n",
    "    elif key.startswith(\"策略\"):\n",
    "        format_analysis_result[\"策略\"][key] = round(value, 4)\n",
    "    else:\n",
    "        format_analysis_result[\"其他\"][key] = round(value, 4)\n",
    "pprint.pprint(format_analysis_result)"
   ]
  },
  {
   "cell_type": "code",
   "execution_count": 38,
   "metadata": {},
   "outputs": [],
   "source": [
    "strategy_returns = results[0].analyzers.custom_analyzer.get_strategy_returns()\n",
    "benchmark_returns = results[0].analyzers.custom_analyzer.get_benchmark_returns()"
   ]
  },
  {
   "cell_type": "code",
   "execution_count": 39,
   "metadata": {},
   "outputs": [],
   "source": [
    "strategy_returns = pd.Series(strategy_returns)\n",
    "benchmark_returns = pd.Series(benchmark_returns)"
   ]
  },
  {
   "cell_type": "code",
   "execution_count": 40,
   "metadata": {},
   "outputs": [
    {
     "data": {
      "image/png": "[encoded data removed]",
      "text/plain": [
       "<Figure size 1000x600 with 1 Axes>"
      ]
     },
     "metadata": {},
     "output_type": "display_data"
    }
   ],
   "source": [
    "import pandas as pd\n",
    "import matplotlib.pyplot as plt\n",
    "\n",
    "# 假设你的日收益率数据是这样的\n",
    "# strategy_returns = pd.Series(...)\n",
    "# benchmark_returns = pd.Series(...)\n",
    "\n",
    "# 检查index是否一致以保证对齐\n",
    "# if not strategy_returns.index.equals(benchmark_returns.index):\n",
    "#     raise ValueError(\"Indexes of strategy_returns and benchmark_returns must match\")\n",
    "\n",
    "# 计算累积收益率\n",
    "strategy_cumulative_returns = (1 + strategy_returns).cumprod() - 1\n",
    "benchmark_cumulative_returns = (1 + benchmark_returns).cumprod() - 1\n",
    "\n",
    "# 绘制累积收益率曲线\n",
    "plt.figure(figsize=(10, 6))\n",
    "plt.plot(strategy_cumulative_returns, label='Strategy')\n",
    "plt.plot(benchmark_cumulative_returns, label='Benchmark')\n",
    "\n",
    "# 添加标题和标签\n",
    "plt.title('Strategy vs Benchmark Cumulative Returns')\n",
    "plt.xlabel('Date')\n",
    "plt.ylabel('Cumulative Returns')\n",
    "\n",
    "# 显示图例\n",
    "plt.legend()\n",
    "\n",
    "# 显示网格\n",
    "plt.grid(True)\n",
    "\n",
    "# 显示绘制的图形\n",
    "plt.show()\n"
   ]
  },
  {
   "cell_type": "code",
   "execution_count": null,
   "metadata": {},
   "outputs": [],
   "source": []
  }
 ],
 "metadata": {
  "kernelspec": {
   "display_name": ".venv",
   "language": "python",
   "name": "python3"
  },
  "language_info": {
   "codemirror_mode": {
    "name": "ipython",
    "version": 3
   },
   "file_extension": ".py",
   "mimetype": "text/x-python",
   "name": "python",
   "nbconvert_exporter": "python",
   "pygments_lexer": "ipython3",
   "version": "3.10.13"
  }
 },
 "nbformat": 4,
 "nbformat_minor": 2
}
