{
 "cells": [
  {
   "cell_type": "code",
   "execution_count": 7,
   "metadata": {},
   "outputs": [],
   "source": [
    "import akshare as ak\n",
    "import pymysql\n",
    "from sqlalchemy import create_engine\n",
    "import pandas as pd\n",
    "import sqlite3"
   ]
  },
  {
   "cell_type": "code",
   "execution_count": 9,
   "metadata": {},
   "outputs": [],
   "source": [
    "db_conn = sqlite3.connect(\"../database/hh_quant.db\")"
   ]
  },
  {
   "cell_type": "code",
   "execution_count": 10,
   "metadata": {},
   "outputs": [],
   "source": [
    "df = db_conn.execute()"
   ]
  },
  {
   "cell_type": "code",
   "execution_count": 15,
   "metadata": {},
   "outputs": [],
   "source": [
    "df = pd.read_sql_query(\"select * from hh_quant_stock_base_info;\", db_conn)"
   ]
  },
  {
   "cell_type": "code",
   "execution_count": null,
   "metadata": {},
   "outputs": [],
   "source": []
  },
  {
   "cell_type": "code",
   "execution_count": 4,
   "metadata": {},
   "outputs": [],
   "source": [
    "MYSQL_USERNAME = \"root\"\n",
    "MYSQL_PASSWORD = \"ml123456\"\n",
    "MYSQL_HOST = \"127.0.0.1\"\n",
    "MYSQL_PORT = 3306\n",
    "MYSQL_DATABASE = \"hh_quant\"\n",
    "\n",
    "db_url = f'mysql+pymysql://{MYSQL_USERNAME}:{MYSQL_PASSWORD}@{MYSQL_HOST}/{MYSQL_DATABASE}'\n",
    "db_conn = create_engine(db_url)"
   ]
  },
  {
   "cell_type": "code",
   "execution_count": 5,
   "metadata": {},
   "outputs": [
    {
     "data": {
      "text/plain": [
       "5343"
      ]
     },
     "execution_count": 5,
     "metadata": {},
     "output_type": "execute_result"
    }
   ],
   "source": [
    "df.to_sql(\"hh_quant_stock_base_info\", db_conn, if_exists='replace', index=False)"
   ]
  },
  {
   "cell_type": "code",
   "execution_count": 11,
   "metadata": {},
   "outputs": [],
   "source": [
    "df = pd.DataFrame([ak.stock_individual_info_em(symbol='000001').set_index(\"item\").to_dict()[\"value\"]]).rename(columns={\n",
    "    \n",
    "})"
   ]
  },
  {
   "cell_type": "code",
   "execution_count": 17,
   "metadata": {},
   "outputs": [],
   "source": [
    "stock_info = ak.stock_zh_a_hist(symbol='000001', adjust=\"hfq\", start_date='20000101', end_date='20050101')\n",
    "stock_info = stock_info.rename(\n",
    "    columns={\n",
    "        \"日期\": \"date\",\n",
    "        \"开盘\": \"open\",\n",
    "        \"最高\": \"high\",\n",
    "        \"最低\": \"low\",\n",
    "        \"收盘\": \"close\",\n",
    "        \"成交量\": \"volume\",\n",
    "        \"成交额\": \"turnover\",\n",
    "        \"振幅\": \"amplitude\",\n",
    "        \"涨跌幅\": \"change_pct\",\n",
    "        \"涨跌额\": \"change_amount\",\n",
    "        \"换手率\": \"turnover_rate\",\n",
    "    }\n",
    ")\n",
    "stock_info.insert(0, \"stock_adjust\", 'hfq')\n",
    "stock_info.insert(0, \"stock_name\", '平安银行')\n",
    "stock_info.insert(0, \"stock_code\", '000001')"
   ]
  },
  {
   "cell_type": "code",
   "execution_count": 18,
   "metadata": {},
   "outputs": [
    {
     "data": {
      "text/html": [
       "<div>\n",
       "<style scoped>\n",
       "    .dataframe tbody tr th:only-of-type {\n",
       "        vertical-align: middle;\n",
       "    }\n",
       "\n",
       "    .dataframe tbody tr th {\n",
       "        vertical-align: top;\n",
       "    }\n",
       "\n",
       "    .dataframe thead th {\n",
       "        text-align: right;\n",
       "    }\n",
       "</style>\n",
       "<table border=\"1\" class=\"dataframe\">\n",
       "  <thead>\n",
       "    <tr style=\"text-align: right;\">\n",
       "      <th></th>\n",
       "      <th>stock_code</th>\n",
       "      <th>stock_name</th>\n",
       "      <th>stock_adjust</th>\n",
       "      <th>date</th>\n",
       "      <th>open</th>\n",
       "      <th>close</th>\n",
       "      <th>high</th>\n",
       "      <th>low</th>\n",
       "      <th>volume</th>\n",
       "      <th>turnover</th>\n",
       "      <th>amplitude</th>\n",
       "      <th>change_pct</th>\n",
       "      <th>change_amount</th>\n",
       "      <th>turnover_rate</th>\n",
       "    </tr>\n",
       "  </thead>\n",
       "  <tbody>\n",
       "    <tr>\n",
       "      <th>0</th>\n",
       "      <td>000001</td>\n",
       "      <td>平安银行</td>\n",
       "      <td>hfq</td>\n",
       "      <td>2000-01-04</td>\n",
       "      <td>576.58</td>\n",
       "      <td>601.56</td>\n",
       "      <td>609.79</td>\n",
       "      <td>567.10</td>\n",
       "      <td>82160</td>\n",
       "      <td>147324992.0</td>\n",
       "      <td>7.42</td>\n",
       "      <td>4.62</td>\n",
       "      <td>26.56</td>\n",
       "      <td>0.77</td>\n",
       "    </tr>\n",
       "    <tr>\n",
       "      <th>1</th>\n",
       "      <td>000001</td>\n",
       "      <td>平安银行</td>\n",
       "      <td>hfq</td>\n",
       "      <td>2000-01-05</td>\n",
       "      <td>603.46</td>\n",
       "      <td>594.29</td>\n",
       "      <td>619.27</td>\n",
       "      <td>592.39</td>\n",
       "      <td>93993</td>\n",
       "      <td>173475008.0</td>\n",
       "      <td>4.47</td>\n",
       "      <td>-1.21</td>\n",
       "      <td>-7.27</td>\n",
       "      <td>0.88</td>\n",
       "    </tr>\n",
       "    <tr>\n",
       "      <th>2</th>\n",
       "      <td>000001</td>\n",
       "      <td>平安银行</td>\n",
       "      <td>hfq</td>\n",
       "      <td>2000-01-06</td>\n",
       "      <td>593.03</td>\n",
       "      <td>617.06</td>\n",
       "      <td>625.60</td>\n",
       "      <td>584.49</td>\n",
       "      <td>120222</td>\n",
       "      <td>221192000.0</td>\n",
       "      <td>6.92</td>\n",
       "      <td>3.83</td>\n",
       "      <td>22.77</td>\n",
       "      <td>1.12</td>\n",
       "    </tr>\n",
       "    <tr>\n",
       "      <th>3</th>\n",
       "      <td>000001</td>\n",
       "      <td>平安银行</td>\n",
       "      <td>hfq</td>\n",
       "      <td>2000-01-07</td>\n",
       "      <td>624.02</td>\n",
       "      <td>641.09</td>\n",
       "      <td>648.36</td>\n",
       "      <td>620.85</td>\n",
       "      <td>229346</td>\n",
       "      <td>443592000.0</td>\n",
       "      <td>4.46</td>\n",
       "      <td>3.89</td>\n",
       "      <td>24.03</td>\n",
       "      <td>2.14</td>\n",
       "    </tr>\n",
       "    <tr>\n",
       "      <th>4</th>\n",
       "      <td>000001</td>\n",
       "      <td>平安银行</td>\n",
       "      <td>hfq</td>\n",
       "      <td>2000-01-10</td>\n",
       "      <td>649.00</td>\n",
       "      <td>660.06</td>\n",
       "      <td>670.82</td>\n",
       "      <td>648.36</td>\n",
       "      <td>185210</td>\n",
       "      <td>372294016.0</td>\n",
       "      <td>3.50</td>\n",
       "      <td>2.96</td>\n",
       "      <td>18.97</td>\n",
       "      <td>1.73</td>\n",
       "    </tr>\n",
       "  </tbody>\n",
       "</table>\n",
       "</div>"
      ],
      "text/plain": [
       "  stock_code stock_name stock_adjust        date    open   close    high  \\\n",
       "0     000001       平安银行          hfq  2000-01-04  576.58  601.56  609.79   \n",
       "1     000001       平安银行          hfq  2000-01-05  603.46  594.29  619.27   \n",
       "2     000001       平安银行          hfq  2000-01-06  593.03  617.06  625.60   \n",
       "3     000001       平安银行          hfq  2000-01-07  624.02  641.09  648.36   \n",
       "4     000001       平安银行          hfq  2000-01-10  649.00  660.06  670.82   \n",
       "\n",
       "      low  volume     turnover  amplitude  change_pct  change_amount  \\\n",
       "0  567.10   82160  147324992.0       7.42        4.62          26.56   \n",
       "1  592.39   93993  173475008.0       4.47       -1.21          -7.27   \n",
       "2  584.49  120222  221192000.0       6.92        3.83          22.77   \n",
       "3  620.85  229346  443592000.0       4.46        3.89          24.03   \n",
       "4  648.36  185210  372294016.0       3.50        2.96          18.97   \n",
       "\n",
       "   turnover_rate  \n",
       "0           0.77  \n",
       "1           0.88  \n",
       "2           1.12  \n",
       "3           2.14  \n",
       "4           1.73  "
      ]
     },
     "execution_count": 18,
     "metadata": {},
     "output_type": "execute_result"
    }
   ],
   "source": [
    "stock_info.head()"
   ]
  },
  {
   "cell_type": "code",
   "execution_count": null,
   "metadata": {},
   "outputs": [],
   "source": []
  }
 ],
 "metadata": {
  "kernelspec": {
   "display_name": ".venv",
   "language": "python",
   "name": "python3"
  },
  "language_info": {
   "codemirror_mode": {
    "name": "ipython",
    "version": 3
   },
   "file_extension": ".py",
   "mimetype": "text/x-python",
   "name": "python",
   "nbconvert_exporter": "python",
   "pygments_lexer": "ipython3",
   "version": "3.10.13"
  }
 },
 "nbformat": 4,
 "nbformat_minor": 2
}
