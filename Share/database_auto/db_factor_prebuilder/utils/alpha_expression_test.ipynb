{
 "cells": [
  {
   "cell_type": "code",
   "execution_count": 1,
   "metadata": {},
   "outputs": [],
   "source": [
    "import sys\n",
    "sys.path.append('../')\n",
    "sys.path.append('../../')\n",
    " \n",
    "from db_data_downloader.downloader_base import DownloaderBase\n",
    "from db_factor_prebuilder.utils.expression_excutor import AlphaExpressionExcutor\n",
    "import json\n",
    "import sqlite3\n",
    "import database_config as db_config\n",
    "\n",
    "db_conn = sqlite3.connect('../../hh_quant_auto.db')\n",
    "db_downloader = DownloaderBase(db_conn, db_config)\n",
    "exp_excutor = AlphaExpressionExcutor()\n",
    "\n",
    "alpha_factor_dict = json.loads(open(\"../factor_lib/alpha_101.json\", \"r\").read())\n",
    "stock_base = db_downloader._download_history_base_info('sh.600011', '2013-01-01', '2014-01-01')"
   ]
  },
  {
   "cell_type": "code",
   "execution_count": 2,
   "metadata": {},
   "outputs": [
    {
     "name": "stdout",
     "output_type": "stream",
     "text": [
      "alpha_001: (rank(tsargmax(signedpower(where(((close/shift(close,1)-1) < 0), std((close/shift(close,1)-1), 20), close), 2), 5)) -0.5)\n",
      "alpha_002: (-1 * corr(rank(delta(log(volume), 2)), rank(div((close - open), open)), 6))\n",
      "alpha_003: (-1 * corr(rank(open), rank(volume), 10))\n",
      "alpha_004: (-1 * tsrank(rank(low), 9))\n",
      "alpha_005: (rank((open - (sum(((high+low+open+close)*0.25), 10) / 10))) * (-1 * abs(rank((close - ((high+low+open+close)*0.25))))))\n",
      "alpha_006: (-1 * corr(open, volume, 10))\n",
      "alpha_007: where((mean(volume,20) < volume), ((-1 * tsrank(abs(delta(close, 7)), 60)) * sign(delta(close, 7))), (-1* 1))\n",
      "alpha_008: (-1 * rank(((sum(open, 5) * sum((close/shift(close,1)-1), 5)) - shift((sum(open, 5) * sum((close/shift(close,1)-1), 5)),10))))\n",
      "alpha_009: where((0 < tsmin(delta(close, 1), 5)), delta(close, 1), where((tsmax(delta(close, 1), 5) < 0), delta(close, 1), (-1 * delta(close, 1))))\n",
      "alpha_010: rank(where((0 < tsmin(delta(close, 1), 4)), delta(close, 1), where((tsmax(delta(close, 1), 4) < 0), delta(close, 1), (-1 * delta(close, 1)))))\n",
      "alpha_011: ((rank(tsmax((((high+low+open+close)*0.25) - close), 3)) + rank(tsmin((((high+low+open+close)*0.25) - close), 3))) *rank(delta(volume, 3)))\n",
      "alpha_012: (sign(delta(volume, 1)) * (-1 * delta(close, 1)))\n",
      "alpha_013: (-1 * rank(covariance(rank(close), rank(volume), 5)))\n",
      "alpha_014: ((-1 * rank(delta((close/shift(close,1)-1), 3))) * corr(open, volume, 10))\n",
      "alpha_015: (-1 * sum(rank(corr(rank(high), rank(volume), 3)), 3))\n",
      "alpha_016: (-1 * rank(covariance(rank(high), rank(volume), 5)))\n",
      "alpha_017: (((-1 * rank(tsrank(close, 10))) * rank(delta(delta(close, 1), 1))) *rank(tsrank((div(volume, mean(volume,20))), 5)))\n",
      "alpha_018: (-1 * rank(((std(abs((close - open)), 5) + (close - open)) + corr(close, open,10))))\n",
      "alpha_019: ((-1 * sign(((close - shift(close, 7)) + delta(close, 7)))) * (1 + rank((1 + sum((close/shift(close,1)-1),250)))))\n",
      "alpha_020: (((-1 * rank((open - shift(high, 1)))) * rank((open - shift(close, 1)))) * rank((open -shift(low, 1))))\n",
      "alpha_022: (-1 * (delta(corr(high, volume, 5), 5) * rank(std(close, 20))))\n",
      "alpha_023: where(((sum(high, 20) / 20) < high), (-1 * delta(high, 2)), 0)\n",
      "alpha_025: rank(((((-1 * (close/shift(close,1)-1)) * mean(volume,20)) * ((high+low+open+close)*0.25)) * (high - close)))\n",
      "alpha_026: (-1 * tsmax(corr(tsrank(volume, 5), tsrank(high, 5), 5), 3))\n",
      "alpha_027: where((0.5 < rank((sum(corr(rank(volume), rank(((high+low+open+close)*0.25)), 6), 2) / 2.0))), (-1 * 1), 1)\n",
      "alpha_028: scale(((corr(mean(volume,20), low, 5) + ((high + low) / 2)) - close))\n",
      "alpha_029: (min(product(rank(rank(scale(log(sum(tsmin(rank(rank((-1 * rank(delta((close - 1),5))))), 2), 1))))), 1), 5) + tsrank(shift((-1 * (close/shift(close,1)-1)), 6), 5))\n",
      "alpha_030: div(((1.0 - rank(((sign((close - shift(close, 1))) + sign((shift(close, 1) - shift(close, 2)))) +sign((shift(close, 2) - shift(close, 3)))))) * sum(volume, 5)), sum(volume, 20))\n",
      "alpha_031: ((rank(rank(rank(decaylinear((-1 * rank(rank(delta(close, 10)))), 10)))) + rank((-1 *delta(close, 3)))) + sign(scale(corr(mean(volume,20), low, 12))))\n",
      "alpha_032: (scale(((sum(close, 7) / 7) - close)) + (20 * scale(corr(((high+low+open+close)*0.25), shift(close, 5),230))))\n",
      "alpha_033: rank((-1 * ((1 - (open / close))**1)))\n",
      "alpha_034: rank(((1 - rank(div(std((close/shift(close,1)-1), 2), std((close/shift(close,1)-1), 5)))) + (1 - rank(delta(close, 1)))))\n",
      "alpha_035: ((tsrank(volume, 32) * (1 - tsrank(((close + high) - low), 16))) * (1 -tsrank((close/shift(close,1)-1), 32)))\n",
      "alpha_036: (((((2.21 * rank(corr((close - open), shift(volume, 1), 15))) + (0.7 * rank((open- close)))) + (0.73 * rank(tsrank(shift((-1 * (close/shift(close,1)-1)), 6), 5)))) + rank(abs(corr(((high+low+open+close)*0.25),mean(volume,20), 6)))) + (0.6 * rank((((sum(close, 200) / 200) - open) * (close - open)))))\n",
      "alpha_037: (rank(corr(shift((open - close), 1), close, 200)) + rank((open - close)))\n",
      "alpha_038: ((-1 * rank(tsrank(close, 10))) * rank((close / open)))\n",
      "alpha_039: ((-1 * rank((delta(close, 7) * (1 - rank(decaylinear(div(volume, mean(volume,20)), 9)))))) * (1 +rank(sum((close/shift(close,1)-1), 250))))\n",
      "alpha_040: ((-1 * rank(std(high, 10))) * corr(high, volume, 10))\n",
      "alpha_041: (((high * low)**0.5) - ((high+low+open+close)*0.25))\n",
      "alpha_042: div(rank((((high+low+open+close)*0.25) - close)), rank((((high+low+open+close)*0.25) + close)))\n",
      "alpha_043: (tsrank(div(volume, mean(volume,20)), 20) * tsrank((-1 * delta(close, 7)), 8))\n",
      "alpha_044: (-1 * corr(high, rank(volume), 5))\n",
      "alpha_045: (-1 * ((rank((sum(shift(close, 5), 20) / 20)) * corr(close, volume, 2)) *rank(corr(sum(close, 5), sum(close, 20), 2))))\n",
      "alpha_046: where((0.25 < (((shift(close, 20) - shift(close, 10)) / 10) - ((shift(close, 10) - close) / 10))), (-1 * 1), where(((((shift(close, 20) - shift(close, 10)) / 10) - ((shift(close, 10) - close) / 10)) < 0), 1, ((-1 * 1) * (close - shift(close, 1)))))\n",
      "alpha_047: ((div((rank((1 / close)) * volume), mean(volume,20)) * ((high * rank((high - close))) / (sum(high, 5) /5))) - rank((((high+low+open+close)*0.25) - shift(((high+low+open+close)*0.25), 5))))\n",
      "alpha_049: where(((((shift(close, 20) - shift(close, 10)) / 10) - ((shift(close, 10) - close) / 10)) < (-1 *0.1)), 1, ((-1 * 1) * (close - shift(close, 1))))\n",
      "alpha_050: (-1 * tsmax(rank(corr(rank(volume), rank(((high+low+open+close)*0.25)), 5)), 5))\n",
      "alpha_051: where(((((shift(close, 20) - shift(close, 10)) / 10) - ((shift(close, 10) - close) / 10)) < (-1 *0.05)), 1, ((-1 * 1) * (close - shift(close, 1))))\n",
      "alpha_052: ((((-1 * tsmin(low, 5)) + shift(tsmin(low, 5), 5)) * rank(((sum((close/shift(close,1)-1), 240) -sum((close/shift(close,1)-1), 20)) / 220))) * tsrank(volume, 5))\n",
      "alpha_053: (-1 * delta(div(((close - low) - (high - close)), (close - low)), 9))\n",
      "alpha_054: div((-1 * ((low - close) * (open**5))), ((low - high) * (close**5)))\n",
      "alpha_055: (-1 * corr(rank(div((close - tsmin(low, 12)), (tsmax(high, 12) - tsmin(low,12)))), rank(volume), 6))\n",
      "alpha_056: (0 - (1 * (rank(div(sum((close/shift(close,1)-1), 10), sum(sum((close/shift(close,1)-1), 2), 3))) * rank(((close/shift(close,1)-1) * market_cap_0)))))\n"
     ]
    },
    {
     "ename": "NameError",
     "evalue": "name 'market_cap_0' is not defined",
     "output_type": "error",
     "traceback": [
      "\u001b[0;31m---------------------------------------------------------------------------\u001b[0m",
      "\u001b[0;31mNameError\u001b[0m                                 Traceback (most recent call last)",
      "Cell \u001b[0;32mIn[2], line 4\u001b[0m\n\u001b[1;32m      2\u001b[0m \u001b[38;5;28;01mfor\u001b[39;00m alpha_name, alpha_expression \u001b[38;5;129;01min\u001b[39;00m alpha_factor_dict\u001b[38;5;241m.\u001b[39mitems():\n\u001b[1;32m      3\u001b[0m     \u001b[38;5;28mprint\u001b[39m(\u001b[38;5;124mf\u001b[39m\u001b[38;5;124m\"\u001b[39m\u001b[38;5;132;01m{\u001b[39;00malpha_name\u001b[38;5;132;01m}\u001b[39;00m\u001b[38;5;124m: \u001b[39m\u001b[38;5;132;01m{\u001b[39;00malpha_expression\u001b[38;5;132;01m}\u001b[39;00m\u001b[38;5;124m\"\u001b[39m)\n\u001b[0;32m----> 4\u001b[0m     dataframe[alpha_name] \u001b[38;5;241m=\u001b[39m \u001b[43mexp_excutor\u001b[49m\u001b[38;5;241;43m.\u001b[39;49m\u001b[43mexcute\u001b[49m\u001b[43m(\u001b[49m\u001b[43mstock_base\u001b[49m\u001b[43m,\u001b[49m\u001b[43m \u001b[49m\u001b[43malpha_expression\u001b[49m\u001b[43m)\u001b[49m\n",
      "File \u001b[0;32m/hy-tmp/Quant/hh_quant/Share/database_auto/db_factor_prebuilder/utils/../../db_factor_prebuilder/utils/expression_excutor.py:194\u001b[0m, in \u001b[0;36mAlphaExpressionExcutor.excute\u001b[0;34m(self, df, expression)\u001b[0m\n\u001b[1;32m    192\u001b[0m \u001b[38;5;66;03m# 表达式修正\u001b[39;00m\n\u001b[1;32m    193\u001b[0m expression \u001b[38;5;241m=\u001b[39m \u001b[38;5;28mself\u001b[39m\u001b[38;5;241m.\u001b[39mexpression_regex(expression)\n\u001b[0;32m--> 194\u001b[0m \u001b[38;5;28;01mreturn\u001b[39;00m \u001b[38;5;28;43meval\u001b[39;49m\u001b[43m(\u001b[49m\u001b[43mexpression\u001b[49m\u001b[43m,\u001b[49m\u001b[43m \u001b[49m\u001b[43m{\u001b[49m\u001b[38;5;124;43m\"\u001b[39;49m\u001b[38;5;124;43mnp\u001b[39;49m\u001b[38;5;124;43m\"\u001b[39;49m\u001b[43m:\u001b[49m\u001b[43m \u001b[49m\u001b[43mnp\u001b[49m\u001b[43m,\u001b[49m\u001b[43m \u001b[49m\u001b[38;5;124;43m\"\u001b[39;49m\u001b[38;5;124;43mnan\u001b[39;49m\u001b[38;5;124;43m\"\u001b[39;49m\u001b[43m:\u001b[49m\u001b[43m \u001b[49m\u001b[43mnp\u001b[49m\u001b[38;5;241;43m.\u001b[39;49m\u001b[43mnan\u001b[49m\u001b[43m}\u001b[49m\u001b[43m,\u001b[49m\u001b[43m \u001b[49m\u001b[38;5;28;43mself\u001b[39;49m\u001b[38;5;241;43m.\u001b[39;49m\u001b[43mlocal_ops\u001b[49m\u001b[43m)\u001b[49m\n",
      "File \u001b[0;32m<string>:1\u001b[0m\n",
      "\u001b[0;31mNameError\u001b[0m: name 'market_cap_0' is not defined"
     ]
    }
   ],
   "source": [
    "dataframe = stock_base[[\"code\", \"datetime\"]]\n",
    "for alpha_name, alpha_expression in alpha_factor_dict.items():\n",
    "    print(f\"{alpha_name}: {alpha_expression}\")\n",
    "    dataframe[alpha_name] = exp_excutor.excute(stock_base, alpha_expression)"
   ]
  },
  {
   "cell_type": "code",
   "execution_count": null,
   "metadata": {},
   "outputs": [],
   "source": []
  }
 ],
 "metadata": {
  "kernelspec": {
   "display_name": "quant",
   "language": "python",
   "name": "python3"
  },
  "language_info": {
   "codemirror_mode": {
    "name": "ipython",
    "version": 3
   },
   "file_extension": ".py",
   "mimetype": "text/x-python",
   "name": "python",
   "nbconvert_exporter": "python",
   "pygments_lexer": "ipython3",
   "version": "3.8.10"
  }
 },
 "nbformat": 4,
 "nbformat_minor": 2
}
