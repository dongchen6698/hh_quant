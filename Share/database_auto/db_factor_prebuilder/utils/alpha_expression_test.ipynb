{
 "cells": [
  {
   "cell_type": "code",
   "execution_count": 2,
   "metadata": {},
   "outputs": [],
   "source": [
    "import sys\n",
    "sys.path.append('../')\n",
    "sys.path.append('../../')\n",
    " \n",
    "from db_data_downloader.downloader_base import DownloaderBase\n",
    "from db_factor_prebuilder.utils.expression_excutor import AlphaExpressionExcutor\n",
    "import json\n",
    "import sqlite3\n",
    "import database_config as db_config\n",
    "\n",
    "db_conn = sqlite3.connect('../../hh_quant_auto.db')\n",
    "db_downloader = DownloaderBase(db_conn, db_config)\n",
    "exp_excutor = AlphaExpressionExcutor()\n",
    "\n",
    "stock_base = db_downloader._download_history_base_info('sh.600011', '2013-01-01', '2014-01-01')\n",
    "stock_base['vwap'] = stock_base[['open', 'high', 'low', 'close']].mean(axis=1)\n",
    "stock_base['ret'] = stock_base['close'].pct_change()"
   ]
  },
  {
   "cell_type": "code",
   "execution_count": 4,
   "metadata": {},
   "outputs": [],
   "source": [
    "# stock_base.head()"
   ]
  },
  {
   "cell_type": "code",
   "execution_count": 5,
   "metadata": {},
   "outputs": [
    {
     "name": "stdout",
     "output_type": "stream",
     "text": [
      "alpha_191_3: sum((close=shift(close,1)?0:close-(close>shift(close,1)?min(low,shift(close,1)):max(high,shift(close,1)))),6)\n",
      "invalid syntax (<string>, line 1)\n",
      "alpha_191_4: ((((sum(close,8)/8)+std(close,8))<(sum(close,2)/2))?(-1*1):(((sum(close,2)/2)<((sum(close,8)/8)-std(close,8)))?1:(((1<(volume/mean(volume,20)))||((volume/mean(volume,20))==1))?1:(-1*1))))\n",
      "invalid syntax (<string>, line 1)\n",
      "alpha_191_10: (rank(max(((ret<0)?std(ret,20):close)^2),5))\n",
      "invalid syntax (<string>, line 1)\n",
      "alpha_191_11: sum(((close-low)-(high-close))./(high-low).*volume,6)\n",
      "invalid syntax (<string>, line 1)\n",
      "alpha_191_19: (close<shift(close,5)?(close-shift(close,5))/shift(close,5):(close=shift(close,5)?0:(close-shift(close,5))/close))\n",
      "invalid syntax (<string>, line 1)\n",
      "alpha_191_21: regbeta(mean(close,6),sequence(6))\n",
      "name 'regbeta' is not defined\n",
      "alpha_191_22: smean(((close-mean(close,6))/mean(close,6)-shift((close-mean(close,6))/mean(close,6),3)),12,1)\n",
      "name 'smean' is not defined\n",
      "alpha_191_23: sma((close>shift(close,1)?std(close:20),0),20,1)/(sma((close>shift(close,1)?std(close,20):0),20,1)+sma((close<=shift(close,1)?std(close,20):0),20,1))*100\n",
      "invalid syntax (<string>, line 1)\n",
      "alpha_191_30: wma((regresi(close/shift(close)-1,mkt,smb,hml\\uff0c60))^2,20)\n",
      "unexpected character after line continuation character (<string>, line 1)\n",
      "alpha_191_36: rank(sum(correlation(rank(volume),rank(vwap)),6),2)\n",
      "correlation() missing 1 required positional argument: 'window'\n",
      "alpha_191_38: (((sum(high,20)/20)<high)?(-1*delta(high,2)):0)\n",
      "invalid syntax (<string>, line 1)\n",
      "alpha_191_40: sum((close>shift(close,1)?volume:0),26)/sum((close<=shift(close,1)?volume:0),26)*100\n",
      "invalid syntax (<string>, line 1)\n",
      "alpha_191_43: sum((close>shift(close,1)?volume:(close<shift(close,1)?-volume:0)),6)\n",
      "invalid syntax (<string>, line 1)\n",
      "alpha_191_49: sum(((high+low)>=(shift(high,1)+shift(low,1))?0:max(abs(high-shift(high,1)),abs(low-shift(low,1)))),12)/(sum(((high+low)>=(shift(high,1)+shift(low,1))?0:max(abs(high-shift(high,1)),abs(low-shift(low,1)))),12)+sum(((high+low)<=(shift(high,1)+shift(low,1))?0:max(abs(high-shift(high,1)),abs(low-shift(low,1)))),12))\n",
      "invalid syntax (<string>, line 1)\n",
      "alpha_191_50: sum(((high+low)<=(shift(high,1)+shift(low,1))?0:max(abs(high-shift(high,1)),abs(low-shift(low,1)))),12)/(sum(((high+low)<=(shift(high,1)+shift(low,1))?0:max(abs(high-shift(high,1)),abs(low-shift(low,1)))),12)+sum(((high+low)>=(shift(high,1)+shift(low,1))?0:max(abs(high-shift(high,1)),abs(low-shift(low,1)))),12))-sum(((high+low)>=(shift(high,1)+shift(low,1))?0:max(abs(high-shift(high,1)),abs(low-shift(low,1)))),12)/(sum(((high+low)>=(shift(high,1)+shift(low,1))?0:max(abs(high-shift(high,1)),abs(low-shift(low,1)))),12)+sum(((high+low)<=(shift(high,1)+shift(low,1))?0:max(abs(high-shift(high,1)),abs(low-shift(low,1)))),12))\n",
      "invalid syntax (<string>, line 1)\n",
      "alpha_191_51: sum(((high+low)<=(shift(high,1)+shift(low,1))?0:max(abs(high-shift(high,1)),abs(low-shift(low,1)))),12)/(sum(((high+low)<=(shift(high,1)+shift(low,1))?0:max(abs(high-shift(high,1)),abs(low-shift(low,1)))),12)+sum(((high+low)>=(shift(high,1)+shift(low,1))?0:max(abs(high-shift(high,1)),abs(low-shift(low,1)))),12))\n",
      "invalid syntax (<string>, line 1)\n",
      "alpha_191_52: sum(max(0,high-shift((high+low+close)/3,1)),26)/sum(max(0,shift((high+low+close)/3,1)-l),26)*100\n",
      "name 'l' is not defined\n",
      "alpha_191_53: count(close>shift(close,1),12)/12*100\n",
      "name 'count' is not defined\n",
      "alpha_191_54: (-1*rank((std(abs(close-open))+(close-open))+correlation(close,open,10)))\n",
      "std() missing 1 required positional argument: 'window'\n",
      "alpha_191_55: sum(16*(close-shift(close,1)+(close-open)/2+shift(close,1)-shift(open,1))/((abs(high-shift(close,1))>abs(low-shift(close,1))&abs(high-shift(close,1))>abs(high-shift(low,1))?abs(high-shift(close,1))+abs(low-shift(close,1))/2+abs(shift(close,1)-shift(open,1))/4:(abs(low-shift(close,1))>abs(high-shift(low,1))&abs(low-shift(close,1))>abs(high-shift(close,1))?abs(low-shift(close,1))+abs(high-shift(close,1))/2+abs(shift(close,1)-shift(open,1))/4:abs(high-shift(low,1))+abs(shift(close,1)-shift(open,1))/4)))*max(abs(high-shift(close,1)),abs(low-shift(close,1))),20)\n",
      "invalid syntax (<string>, line 1)\n",
      "alpha_191_58: count(close>shift(close,1),20)/20*100\n",
      "name 'count' is not defined\n",
      "alpha_191_59: sum((close=shift(close,1)?0:close-(close>shift(close,1)?min(low,shift(close,1)):max(high,shift(close,1)))),20)\n",
      "invalid syntax (<string>, line 1)\n",
      "alpha_191_60: sum(((close-low)-(high-close))./(high-low).*volume,20)\n",
      "invalid syntax (<string>, line 1)\n",
      "alpha_191_69: (sum(dtm,20)>sum(dbm,20)?(sum(dtm,20)-sum(dbm,20))/sum(dtm,20):(sum(dtm,20)=sum(dbm,20)?0:(sum(dtm,20)-sum(dbm,20))/sum(dbm,20)))\n",
      "invalid syntax (<string>, line 1)\n",
      "alpha_191_75: count(close>open&banchmarkindexclose<banchmarkindexopen,50)/count(banchmarkindexclose<banchmarkindexopen,50)\n",
      "name 'count' is not defined\n",
      "alpha_191_78: ((high+low+close)/3-ma((high+low+close)/3,12))/(0.015*mean(abs(close-mean((high+low+close)/3,12)),12))\n",
      "name 'ma' is not defined\n",
      "alpha_191_83: (-1*rank(coviance(rank(high),rank(volume),5)))\n",
      "name 'coviance' is not defined\n",
      "alpha_191_84: sum((close>shift(close,1)?volume:(close<shift(close,1)?-volume:0)),20)\n",
      "invalid syntax (<string>, line 1)\n",
      "alpha_191_86: ((0.25<(((shift(close,20)-shift(close,10))/10)-((shift(close,10)-close)/10)))?(-1*1):(((((shift(close,20)-shift(close,10))/10)-((shift(close,10)-close)/10))<0)?1:((-1*1)*(close-shift(close,1)))))\n",
      "invalid syntax (<string>, line 1)\n",
      "alpha_191_93: sum((open>=shift(open,1)?0:max((open-low),(open-shift(open,1)))),20)\n",
      "invalid syntax (<string>, line 1)\n",
      "alpha_191_94: sum((close>shift(close,1)?volume:(close<shift(close,1)?-volume:0)),30)\n",
      "invalid syntax (<string>, line 1)\n",
      "alpha_191_98: ((((delta((sum(close,100)/100),100)/shift(close,100))<0.05)||((delta((sum(close,100)/100),100)/shift(close,100))==0.05))?(-1*(close-tsmin(close,100))):(-1*delta(close,3)))\n",
      "invalid syntax (<string>, line 1)\n",
      "alpha_191_99: (-1*rank(coviance(rank(close),rank(volume),5)))\n",
      "name 'coviance' is not defined\n",
      "alpha_191_103: ((20-lowday(low,20))/20)*100\n",
      "name 'lowday' is not defined\n",
      "alpha_191_111: sma(vol*((close-low)-(high-close))/(high-low),11,2)-sma(vol*((close-low)-(high-close))/(high-low),4,2)\n",
      "name 'vol' is not defined\n",
      "alpha_191_112: (sum((close-shift(close,1)>0?close-shift(close,1):0),12)-sum((close-shift(close,1)<0?abs(close-shift(close,1)):0),12))/(sum((close-shift(close,1)>0?close-shift(close,1):0),12)+sum((close-shift(close,1)<0?abs(close-shift(close,1)):0),12))*100\n",
      "invalid syntax (<string>, line 1)\n",
      "alpha_191_116: regbeta(close,sequence,20)\n",
      "name 'regbeta' is not defined\n",
      "alpha_191_127: (mean((100*(close-max(close,12))/(max(close,12)))^2))^(1/2)\n",
      "mean() missing 1 required positional argument: 'window'\n",
      "alpha_191_128: 100-(100/(1+sum(((high+low+close)/3>shift((high+low+close)/3,1)?(high+low+close)/3*volume:0),14)/sum(((high+low+close)/3<shift((high+low+close)/3,1)?(high+low+close)/3*volume:0),14)))\n",
      "invalid syntax (<string>, line 1)\n",
      "alpha_191_129: sum((close-shift(close,1)<0?abs(close-shift(close,1)):0),12)\n",
      "invalid syntax (<string>, line 1)\n",
      "alpha_191_131: (rank(delat(vwap,1))^tsrank(correlation(close,mean(volume,50),18),18))\n",
      "name 'delat' is not defined\n",
      "alpha_191_133: ((20-highday(high,20))/20)*100-((20-lowday(low,20))/20)*100\n",
      "name 'highday' is not defined\n",
      "alpha_191_137: 16*(close-shift(close,1)+(close-open)/2+shift(close,1)-shift(open,1))/((abs(high-shift(close,1))>abs(low-shift(close,1))&abs(high-shift(close,1))>abs(high-shift(low,1))?abs(high-shift(close,1))+abs(low-shift(close,1))/2+abs(shift(close,1)-shift(open,1))/4:(abs(low-shift(close,1))>abs(high-shift(low,1))&abs(low-shift(close,1))>abs(high-shift(close,1))?abs(low-shift(close,1))+abs(high-shift(close,1))/2+abs(shift(close,1)-shift(open,1))/4:abs(high-shift(low,1))+abs(shift(close,1)-shift(open,1))/4)))*max(abs(high-shift(close,1)),abs(low-shift(close,1)))\n",
      "invalid syntax (<string>, line 1)\n",
      "alpha_191_143: close>shift(close,1)?(close-shift(close,1))/shift(close,1)*self:self\n",
      "invalid syntax (<string>, line 1)\n",
      "alpha_191_144: sumif(abs(close/shift(close,1)-1)/amount,20,close<shift(close,1))/count(close<shift(close,1),20)\n",
      "name 'sumif' is not defined\n",
      "alpha_191_146: mean((close-shift(close,1))/shift(close,1)-sma((close-shift(close,1))/shift(close,1),61,2),20)*((close-shift(close,1))/shift(close,1)-sma((close-shift(close,1))/shift(close,1),61,2))/sma(((close-shift(close,1))/shift(close,1)-((close-shift(close,1))/shift(close,1)-sma((close-shift(close,1))/shift(close,1),61,2)))^2,60)\n",
      "sma() missing 1 required positional argument: 'weight'\n",
      "alpha_191_147: regbeta(mean(close,12),sequence(12))\n",
      "name 'regbeta' is not defined\n",
      "alpha_191_149: regbeta(filter(close/shift(close,1)-1,banchmarkindexclose<shift(banchmarkindexclose,1)),filter(banchmarkindexclose/shift(banchmarkindexclose,1)-1,banchmarkindexclose<shift(banchmarkindexclose,1)),252)\n",
      "name 'regbeta' is not defined\n",
      "alpha_191_157: (min(prod(rank(rank(log(sum(tsmin(rank(rank((-1*rank(delta((close-1),5))))),2),1)))),1),5)+tsrank(shift((-1*ret),6),5))\n",
      "name 'prod' is not defined\n",
      "alpha_191_159: ((close-sum(min(low,shift(close,1)),6))/sum(max(hgih,shift(close,1))-min(low,shift(close,1)),6)*12*24+(close-sum(min(low,shift(close,1)),12))/sum(max(hgih,shift(close,1))-min(low,shift(close,1)),12)*6*24+(close-sum(min(low,shift(close,1)),24))/sum(max(hgih,shift(close,1))-min(low,shift(close,1)),24)*6*24)*100/(6*12+6*24+12*24)\n",
      "name 'hgih' is not defined\n",
      "alpha_191_160: sma((close<=shift(close,1)?std(close,20):0),20,1)\n",
      "invalid syntax (<string>, line 1)\n",
      "alpha_191_164: sma((((close>shift(close,1))?1/(close-shift(close,1)):1)-min(((close>shift(close,1))?1/(close-shift(close,1)):1),12))/(high-low)*100,13,2)\n",
      "invalid syntax (<string>, line 1)\n",
      "alpha_191_165: max(sumac(close-mean(close,48)))-min(sumac(close-mean(close,48)))/std(close,48)\n",
      "name 'sumac' is not defined\n",
      "alpha_191_166: -20*\\uff0820-1\\uff09^1.5*sum(close/shift(close,1)-1-mean(close/shift(close,1)-1,20),20)/((20-1)*(20-2)(sum((close/shift(close,1),20)^2,20))^1.5)\n",
      "unexpected character after line continuation character (<string>, line 1)\n",
      "alpha_191_167: sum((close-shift(close,1)>0?close-shift(close,1):0),12)\n",
      "invalid syntax (<string>, line 1)\n",
      "alpha_191_172: mean(abs(sum((ld>0&ld>hd)?ld:0,14)*100/sum(tr,14)-sum((hd>0&hd>ld)?hd:0,14)*100/sum(tr,14))/(sum((ld>0&ld>hd)?ld:0,14)*100/sum(tr,14)+sum((hd>0&hd>ld)?hd:0,14)*100/sum(tr,14))*100,6)\n",
      "invalid syntax (<string>, line 1)\n",
      "alpha_191_174: sma((close>shift(close,1)?std(close,20):0),20,1)\n",
      "invalid syntax (<string>, line 1)\n",
      "alpha_191_177: ((20-highday(high,20))/20)*100\n",
      "name 'highday' is not defined\n",
      "alpha_191_180: ((mean(volume,20)<volume)?((-1*tsrank(abs(delta(close,7)),60))*sign(delta(close,7)):(-1*volume)))\n",
      "invalid syntax (<string>, line 1)\n",
      "alpha_191_181: sum(((close/shift(close,1)-1)-mean((close/shift(close,1)-1),20))-(banchmarkindexclose-mean(banchmarkindexclose,20))^2,20)/sum((banchmarkindexclose-mean(banchmarkindexclose,20))^3)\n",
      "name 'banchmarkindexclose' is not defined\n",
      "alpha_191_182: count((close>open&banchmarkindexclose>banchmarkindexopen)or(close<open&banchmarkindexclose<banchmarkindexopen),20)/20\n",
      "name 'count' is not defined\n",
      "alpha_191_183: max(sumac(close-mean(close,24)))-min(sumac(close-mean(close,24)))/std(close,24)\n",
      "name 'sumac' is not defined\n",
      "alpha_191_186: (mean(abs(sum((ld>0&ld>hd)?ld:0,14)*100/sum(tr,14)-sum((hd>0&hd>ld)?hd:0,14)*100/sum(tr,14))/(sum((ld>0&ld>hd)?ld:0,14)*100/sum(tr,14)+sum((hd>0&hd>ld)?hd:0,14)*100/sum(tr,14))*100,6)+shift(mean(abs(sum((ld>0&ld>hd)?ld:0,14)*100/sum(tr,14)-sum((hd>0&hd>ld)?hd:0,14)*100/sum(tr,14))/(sum((ld>0&ld>hd)?ld:0,14)*100/sum(tr,14)+sum((hd>0&hd>ld)?hd:0,14)*100/sum(tr,14))*100,6),6))/2\n",
      "invalid syntax (<string>, line 1)\n",
      "alpha_191_187: sum((open<=shift(open,1)?0:max((high-open),(open-shift(open,1)))),20)\n",
      "invalid syntax (<string>, line 1)\n",
      "alpha_191_188: ((high-low\\u2013sma(high-low,11,2))/sma(high-low,11,2))*100\n",
      "unexpected character after line continuation character (<string>, line 1)\n",
      "alpha_191_190: log((count(close/shift(close)-1>((close/shift(close,19))^(1/20)-1),20)-1)*(sumif(((close/shift(close)-1-(close/shift(close,19))^(1/20)-1))^2,20,close/shift(close)-1<(close/shift(close,19))^(1/20)-1))/((count((close/shift(close)-1<(close/shift(close,19))^(1/20)-1),20))*(sumif((close/shift(close)-1-((close/shift(close,19))^(1/20)-1))^2,20,close/shift(close)-1>(close/shift(close,19))^(1/20)-1))))\n",
      "name 'count' is not defined\n"
     ]
    }
   ],
   "source": [
    "alpha_factor_dict = json.loads(open(\"../factor_lib/alpha_191.json\", \"r\").read())\n",
    "dataframe = stock_base[[\"code\", \"datetime\"]]\n",
    "\n",
    "error_expression_list = []\n",
    "for alpha_name, alpha_expression in alpha_factor_dict.items():\n",
    "    try:\n",
    "        dataframe[alpha_name] = exp_excutor.excute(stock_base, alpha_expression)\n",
    "    except Exception as e:\n",
    "        print(f\"{alpha_name}: {alpha_expression}\")\n",
    "        print(e)\n",
    "        error_expression_list.append(f\"{alpha_name}: {alpha_expression}\")\n",
    "        # break"
   ]
  },
  {
   "cell_type": "code",
   "execution_count": 6,
   "metadata": {},
   "outputs": [
    {
     "data": {
      "text/plain": [
       "66"
      ]
     },
     "execution_count": 6,
     "metadata": {},
     "output_type": "execute_result"
    }
   ],
   "source": [
    "len(error_expression_list)"
   ]
  },
  {
   "cell_type": "code",
   "execution_count": 4,
   "metadata": {},
   "outputs": [],
   "source": [
    "# error_expression_list"
   ]
  },
  {
   "cell_type": "code",
   "execution_count": 10,
   "metadata": {},
   "outputs": [],
   "source": [
    "# dataframe.tail()"
   ]
  },
  {
   "cell_type": "code",
   "execution_count": 4,
   "metadata": {},
   "outputs": [
    {
     "name": "stdout",
     "output_type": "stream",
     "text": [
      "0\n"
     ]
    }
   ],
   "source": [
    "print(dataframe.tail().isna().sum().sum())"
   ]
  },
  {
   "cell_type": "code",
   "execution_count": null,
   "metadata": {},
   "outputs": [],
   "source": []
  }
 ],
 "metadata": {
  "kernelspec": {
   "display_name": "quant",
   "language": "python",
   "name": "python3"
  },
  "language_info": {
   "codemirror_mode": {
    "name": "ipython",
    "version": 3
   },
   "file_extension": ".py",
   "mimetype": "text/x-python",
   "name": "python",
   "nbconvert_exporter": "python",
   "pygments_lexer": "ipython3",
   "version": "3.8.10"
  }
 },
 "nbformat": 4,
 "nbformat_minor": 2
}
