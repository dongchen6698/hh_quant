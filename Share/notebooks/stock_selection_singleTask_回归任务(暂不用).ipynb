{
 "cells": [
  {
   "cell_type": "code",
   "execution_count": 1,
   "metadata": {},
   "outputs": [
    {
     "name": "stdout",
     "output_type": "stream",
     "text": [
      "Python 3.8.10\n"
     ]
    }
   ],
   "source": [
    "import sys\n",
    "sys.path.append('../')\n",
    "\n",
    "import warnings\n",
    "warnings.filterwarnings(\"ignore\")\n",
    "\n",
    "import pandas as pd\n",
    "import akshare as ak\n",
    "import sqlite3\n",
    "import matplotlib.pyplot as plt\n",
    "%matplotlib inline\n",
    "\n",
    "from datetime import datetime\n",
    "from dateutil.relativedelta import relativedelta\n",
    "from tqdm import tqdm\n",
    "from database.downloader.downloader_base import DownloaderBase\n",
    "import database.database_config as db_config\n",
    "\n",
    "pd.options.display.max_rows=None\n",
    "pd.options.display.max_columns=None\n",
    "\n",
    "!python --version"
   ]
  },
  {
   "cell_type": "code",
   "execution_count": 2,
   "metadata": {},
   "outputs": [
    {
     "name": "stderr",
     "output_type": "stream",
     "text": [
      "2024-05-28 06:11:20.771526: I tensorflow/core/platform/cpu_feature_guard.cc:182] This TensorFlow binary is optimized to use available CPU instructions in performance-critical operations.\n",
      "To enable the following instructions: AVX2 FMA, in other operations, rebuild TensorFlow with the appropriate compiler flags.\n",
      "2024-05-28 06:11:21.735491: W tensorflow/compiler/tf2tensorrt/utils/py_utils.cc:38] TF-TRT Warning: Could not find TensorRT\n"
     ]
    },
    {
     "name": "stdout",
     "output_type": "stream",
     "text": [
      "Tensorflow Version: 2.13.1\n",
      "TensorFlow GPU version is installed\n",
      "GPU devices available: [PhysicalDevice(name='/physical_device:GPU:0', device_type='GPU')]\n"
     ]
    }
   ],
   "source": [
    "import tensorflow as tf\n",
    "\n",
    "# 只使用CPU进行训练\n",
    "tf.config.set_visible_devices([], 'GPU')\n",
    "\n",
    "# 打印Tensorflow版本\n",
    "print(f\"Tensorflow Version: {tf.__version__}\")\n",
    "\n",
    "# 检查是否有可用的GPU设备\n",
    "if tf.test.is_built_with_cuda():\n",
    "    print(\"TensorFlow GPU version is installed\")\n",
    "else:\n",
    "    print(\"TensorFlow CPU version is installed\")\n",
    "\n",
    "# 检查TensorFlow是否能够访问GPU\n",
    "gpus = tf.config.list_physical_devices('GPU')\n",
    "if gpus:\n",
    "    print(\"GPU devices available:\", gpus)\n",
    "else:\n",
    "    print(\"No GPU devices found. Running on CPU.\")\n",
    "\n",
    "# !nvidia-smi"
   ]
  },
  {
   "cell_type": "code",
   "execution_count": 3,
   "metadata": {},
   "outputs": [],
   "source": [
    "import matplotlib as mpl\n",
    "import matplotlib.pyplot as plt\n",
    "import numpy as np\n",
    "import pandas as pd\n",
    "import seaborn as sns\n",
    "from sklearn.metrics import confusion_matrix, accuracy_score, precision_score, recall_score\n",
    "\n",
    "mpl.rcParams['figure.figsize'] = (12, 10)\n",
    "colors = plt.rcParams['axes.prop_cycle'].by_key()['color']\n",
    "\n",
    "# 绘图相关函数\n",
    "def plot_series_dist(series):\n",
    "    data = series\n",
    "    plt.figure(figsize=(5,5))\n",
    "    # 使用matplotlib画直方图\n",
    "    plt.hist(data, bins=60, edgecolor='k', alpha=0.7)\n",
    "    plt.xlabel('Value')\n",
    "    plt.ylabel('Frequency')\n",
    "    plt.title('Histogram of Data')\n",
    "    plt.show()\n",
    "\n",
    "def plot_metrics(history):\n",
    "  metrics = ['loss', 'mean_squared_error']\n",
    "  for n, metric in enumerate(metrics):\n",
    "    name = metric.replace(\"_\",\" \").capitalize()\n",
    "    plt.subplot(2,2,n+1)\n",
    "    plt.plot(history.epoch, history.history[metric], color=colors[0], label='Train')\n",
    "    plt.plot(history.epoch, history.history['val_'+metric],\n",
    "             color=colors[0], linestyle=\"--\", label='Val')\n",
    "    plt.xlabel('Epoch')\n",
    "    plt.ylabel(name)\n",
    "    plt.ylim([0, plt.ylim()[1]])\n",
    "    plt.legend()\n",
    "\n",
    "def plot_cm(true_labels, pred_labels):\n",
    "    cm = confusion_matrix(true_labels, pred_labels)\n",
    "    plt.figure(figsize=(5,5))\n",
    "    sns.heatmap(cm, annot=True, fmt=\"g\", cmap='Blues')\n",
    "    plt.title('Confusion matrix')\n",
    "    plt.ylabel('Actual label')\n",
    "    plt.xlabel('Predicted label')\n",
    "\n",
    "    accuracy = accuracy_score(true_labels, pred_labels)\n",
    "    precision = precision_score(true_labels, pred_labels)\n",
    "    recall = recall_score(true_labels, pred_labels)\n",
    "    print(f\"Accuracy: {accuracy:.2f}, Precision: {precision:.2f}, Recall: {recall:.2f}\")"
   ]
  },
  {
   "cell_type": "code",
   "execution_count": 4,
   "metadata": {},
   "outputs": [],
   "source": [
    "class PreProcessing:\n",
    "    def __init__(self, db_downloader:DownloaderBase) -> None:\n",
    "        self.db_downloader = db_downloader\n",
    "\n",
    "    def _build_reg_label(self, stock_dataframe, N=15):\n",
    "        stock_df = stock_dataframe.copy()\n",
    "        # 计算未来N日内的最高收益率\n",
    "        stock_df['max_return'] = stock_df['close'].rolling(window=N).max().shift(-N) / stock_df['close'] - 1\n",
    "        # 计算未来N日内的最低收益率\n",
    "        stock_df['min_return'] = stock_df['close'].rolling(window=N).min().shift(-N) / stock_df['close'] - 1\n",
    "        # 计算未来N日内的收益率和（期望最高收益率越高越好，最低收益率也越高越好，由于最低收益率是负数，因此使用最高+最低来作为综合收益指标）\n",
    "        stock_df['return_sum'] = stock_df['max_return'] + stock_df['min_return']\n",
    "        # # 计算未来N日收益率的波动情况\n",
    "        # stock_df['volatility'] = stock_df['close'].pct_change().rolling(window=N).std().shift(-N)\n",
    "        # # 使用收益率 / 波动作为夏普label（期望收益率大的同时，波动更小）\n",
    "        # stock_df['label'] = stock_df['return_sum'] / stock_df['volatility']\n",
    "        stock_df['label'] = stock_df['return_sum']\n",
    "        # 过滤第二天涨停股票\n",
    "        stock_df = stock_df[stock_df['high'].shift(-1) != stock_df['low'].shift(-1)]\n",
    "        return stock_df[['datetime', 'label']]\n",
    "\n",
    "    def _process_one_stock(self, stock_code, start_date, end_date):\n",
    "        stock_base = self.db_downloader._download_stock_base_info(stock_code) # 获取基础代码\n",
    "        stock_individual = self.db_downloader._download_stock_individual_info(stock_code) # 获取profile信息\n",
    "        stock_history = self.db_downloader._download_stock_history_info(stock_code, start_date, end_date) # 获取个股历史行情\n",
    "        stock_indicator = self.db_downloader._download_stock_indicator_info(stock_code, start_date, end_date) # 获取指标数据\n",
    "        stock_factor_date = self.db_downloader._download_stock_factor_date_info() # 获取日期特征\n",
    "        stock_factor_qlib = self.db_downloader._download_stock_factor_qlib_info(stock_code, start_date, end_date) # 获取量价特征\n",
    "        stock_label = self._build_reg_label(stock_history) # 构建Label\n",
    "        stock_df = stock_base.merge(stock_individual, on=['stock_code']).merge(stock_history, on=['stock_code']).merge(stock_indicator, on=['stock_code', 'datetime']).merge(stock_label, on=['datetime']).merge(stock_factor_date, on=['datetime']).merge(stock_factor_qlib, on=['stock_code', 'datetime']) # 整合数据\n",
    "        stock_df = stock_base \\\n",
    "            .merge(stock_individual, on=['stock_code', 'stock_name']) \\\n",
    "            .merge(stock_history, on=['stock_code']) \\\n",
    "            .merge(stock_indicator, on=['stock_code', 'datetime']) \\\n",
    "            .merge(stock_label, on=['datetime']) \\\n",
    "            .merge(stock_factor_date, on=['datetime']) \\\n",
    "            .merge(stock_factor_qlib, on=['stock_code', 'datetime']) # 整合数据\n",
    "        stock_df = stock_df.dropna()\n",
    "        return stock_df\n",
    "\n",
    "    def _get_index_hist_cons(self, start_date, end_date):\n",
    "        import baostock as bs\n",
    "        bs.login()\n",
    "        index_stock_cons_set = set()\n",
    "        for cur_date in tqdm(pd.date_range(start=start_date, end=end_date, freq='B')):\n",
    "            cur_date = datetime.strftime(cur_date, '%Y-%m-%d')\n",
    "            dataframe = bs.query_sz50_stocks(date=cur_date).get_data()\n",
    "            if not dataframe.empty:\n",
    "                index_stock_cons_set.update(\n",
    "                    dataframe['code'].map(lambda x: x.split('.')[1]).unique()\n",
    "                )\n",
    "        bs.logout()\n",
    "        return index_stock_cons_set\n",
    "\n",
    "    def _process_all_stock(self, benchmark, start_date, end_date):\n",
    "        stock_code_list = list(ak.index_stock_cons(benchmark)['品种代码'].unique()) # 获取指数成分股列表\n",
    "        # stock_code_list = self._get_index_hist_cons(start_date, end_date)\n",
    "        stock_df_list = []\n",
    "        for stock_code in tqdm(stock_code_list, desc=f'Process: {benchmark} ...'):\n",
    "            stock_df = self._process_one_stock(stock_code, start_date, end_date)\n",
    "            if not stock_df.empty:\n",
    "                stock_df_list.append(stock_df)\n",
    "        return pd.concat(stock_df_list)"
   ]
  },
  {
   "cell_type": "code",
   "execution_count": 5,
   "metadata": {},
   "outputs": [],
   "source": [
    "def get_rolling_data_period(backtest_start_date, backtest_duration=5, train_period=6, val_period=0.5, test_period=0.5):\n",
    "    \"\"\"\n",
    "    Args:\n",
    "        backtest_start_date (_type_): _description_\n",
    "        backtest_duration (int, optional): _description_. Defaults to 5.\n",
    "        train_period (int, optional): _description_. Defaults to 6.\n",
    "        val_period (float, optional): _description_. Defaults to 0.5.\n",
    "        test_period (float, optional): _description_. Defaults to 0.5.\n",
    "    Returns:\n",
    "        result: _description_\n",
    "    \"\"\"\n",
    "    backtest_start_date = datetime.strptime(backtest_start_date, '%Y%m%d')\n",
    "    backtest_end_date = backtest_start_date + relativedelta(years=backtest_duration) # 回测5年数据\n",
    "    train_period = relativedelta(years=train_period) # 使用6年的训练数据\n",
    "    val_period = relativedelta(months=(12 * val_period)) # 使用半年的验证数据\n",
    "    test_period = relativedelta(months=(12 * test_period)) # 使用半年的测试数据(半年模型一更新)\n",
    "\n",
    "    result = []\n",
    "    rolling_flag = True\n",
    "    bench_date = backtest_start_date\n",
    "    while rolling_flag:\n",
    "        if bench_date < backtest_end_date:\n",
    "            test_start, test_end = bench_date, (bench_date + test_period - relativedelta(days=1))\n",
    "            val_start, val_end = (test_start - relativedelta(days=1) - val_period), (test_start - relativedelta(days=1))\n",
    "            train_start, train_end =(val_start - relativedelta(days=1) - train_period), (val_start - relativedelta(days=1))\n",
    "            result.append({\n",
    "                \"train\": [train_start.strftime(\"%Y%m%d\"), train_end.strftime(\"%Y%m%d\")],\n",
    "                \"val\": [val_start.strftime(\"%Y%m%d\"), val_end.strftime(\"%Y%m%d\")],\n",
    "                \"test\": [test_start.strftime(\"%Y%m%d\"), test_end.strftime(\"%Y%m%d\")]\n",
    "            })\n",
    "            bench_date += test_period\n",
    "        else:\n",
    "            rolling_flag = False \n",
    "    return result"
   ]
  },
  {
   "cell_type": "code",
   "execution_count": 6,
   "metadata": {},
   "outputs": [],
   "source": [
    "def extract_train_val_data(df, train_start_date, train_end_date, val_start_date, val_end_date, test_start_date, test_end_date):\n",
    "    train_start_date = pd.to_datetime(train_start_date)\n",
    "    train_end_date = pd.to_datetime(train_end_date)\n",
    "    val_start_date = pd.to_datetime(val_start_date)\n",
    "    val_end_date = pd.to_datetime(val_end_date)\n",
    "    test_start_date = pd.to_datetime(test_start_date)\n",
    "    test_end_date = pd.to_datetime(test_end_date)\n",
    "\n",
    "    train_data = df[(pd.to_datetime(df['datetime']) >= train_start_date) & (pd.to_datetime(df['datetime']) <= train_end_date)]\n",
    "    val_data = df[(pd.to_datetime(df['datetime']) >= val_start_date) & (pd.to_datetime(df['datetime']) <= val_end_date)]\n",
    "    test_data = df[(pd.to_datetime(df['datetime']) >= test_start_date) & (pd.to_datetime(df['datetime']) <= test_end_date)]\n",
    "\n",
    "    print(f\"train_data_size: {train_data.shape}\")\n",
    "    print(f\"validation_data_size: {val_data.shape}\")\n",
    "    print(f\"test_data_size: {test_data.shape}\")\n",
    "    return train_data, val_data, test_data\n",
    "\n",
    "def df_to_dataset(dataframe, feature_cols, label_cols, shuffle=False, batch_size=32):\n",
    "    features = dataframe[feature_cols]\n",
    "    labels = dataframe[label_cols]\n",
    "    ds = tf.data.Dataset.from_tensor_slices((dict(features), labels))\n",
    "    if shuffle:\n",
    "        ds = ds.shuffle(buffer_size=min(len(features), 10000), seed=1024)\n",
    "    ds = ds.cache().batch(batch_size).prefetch(tf.data.AUTOTUNE)\n",
    "    return ds"
   ]
  },
  {
   "cell_type": "code",
   "execution_count": 7,
   "metadata": {},
   "outputs": [],
   "source": [
    "from sklearn.pipeline import Pipeline\n",
    "from sklearn.base import BaseEstimator, TransformerMixin\n",
    "from sklearn.preprocessing import MinMaxScaler, StandardScaler, RobustScaler\n",
    "\n",
    "\n",
    "class QuantileClipTransformer(BaseEstimator, TransformerMixin):\n",
    "    def __init__(self, lower_quantile=0.01, upper_quantile=0.99):\n",
    "        self.lower_quantile = lower_quantile\n",
    "        self.upper_quantile = upper_quantile\n",
    "        \n",
    "    def fit(self, X, y=None):\n",
    "        # 计算给定分位数的分界值\n",
    "        self.lower_bound_ = np.nanquantile(X, self.lower_quantile, axis=0)\n",
    "        self.upper_bound_ = np.nanquantile(X, self.upper_quantile, axis=0)\n",
    "        return self\n",
    "    \n",
    "    def transform(self, X, y=None):\n",
    "        # 对整个数组应用剪辑操作\n",
    "        return np.clip(X, self.lower_bound_, self.upper_bound_)\n",
    "\n",
    "    def fit_transform(self, X, y=None, **fit_params):\n",
    "        return self.fit(X, y).transform(X)"
   ]
  },
  {
   "cell_type": "code",
   "execution_count": 8,
   "metadata": {},
   "outputs": [
    {
     "name": "stdout",
     "output_type": "stream",
     "text": [
      "关闭滚动回测...\n"
     ]
    },
    {
     "data": {
      "text/plain": [
       "[{'train': ['20090101', '20161231'],\n",
       "  'val': ['20170101', '20181231'],\n",
       "  'test': ['20190101', '20231231']}]"
      ]
     },
     "execution_count": 8,
     "metadata": {},
     "output_type": "execute_result"
    }
   ],
   "source": [
    "# 数据库初始化\n",
    "db_conn = sqlite3.connect('../database/hh_quant.db')\n",
    "db_downloader = DownloaderBase(db_conn, db_config)\n",
    "proprocessor = PreProcessing(db_downloader=db_downloader)\n",
    "\n",
    "# 相关配置\n",
    "rolling_flag = False\n",
    "# benchmark = '000905'\n",
    "benchmark = '000016'  # 上证50\n",
    "feature_config = {\n",
    "    \"target_features\": ['label'],\n",
    "    \"numeric_features\": ['turnover_rate', 'pe_ttm', 'ps_ttm', 'pcf_ncf_ttm', 'pb_mrq', 'KMID', 'KLEN', 'KMID2', 'KUP', 'KUP2', 'KLOW', 'KLOW2', 'KSFT', 'KSFT2', 'OPEN0', 'OPEN1', 'OPEN2', 'OPEN3', 'OPEN4', 'HIGH0', 'HIGH1', 'HIGH2', 'HIGH3', 'HIGH4', 'LOW0', 'LOW1', 'LOW2', 'LOW3', 'LOW4', 'CLOSE1', 'CLOSE2', 'CLOSE3', 'CLOSE4', 'VOLUME1', 'VOLUME2', 'VOLUME3', 'VOLUME4', 'ROC5', 'ROC10', 'ROC20', 'ROC30', 'ROC60', 'MAX5', 'MAX10', 'MAX20', 'MAX30', 'MAX60', 'MIN5', 'MIN10', 'MIN20', 'MIN30', 'MIN60', 'MA5', 'MA10', 'MA20', 'MA30', 'MA60', 'STD5', 'STD10', 'STD20', 'STD30', 'STD60', 'BETA5', 'BETA10', 'BETA20', 'BETA30', 'BETA60', 'RSQR5', 'RSQR10', 'RSQR20', 'RSQR30', 'RSQR60', 'RESI5', 'RESI10', 'RESI20', 'RESI30', 'RESI60', 'QTLU5', 'QTLU10', 'QTLU20', 'QTLU30', 'QTLU60', 'QTLD5', 'QTLD10', 'QTLD20', 'QTLD30', 'QTLD60', 'TSRANK5', 'TSRANK10', 'TSRANK20', 'TSRANK30', 'TSRANK60', 'RSV5', 'RSV10', 'RSV20', 'RSV30', 'RSV60', 'IMAX5', 'IMAX10', 'IMAX20', 'IMAX30', 'IMAX60', 'IMIN5', 'IMIN10', 'IMIN20', 'IMIN30', 'IMIN60', 'IMXD5', 'IMXD10', 'IMXD20', 'IMXD30', 'IMXD60', 'CORR5', 'CORR10', 'CORR20', 'CORR30', 'CORR60', 'CORD5', 'CORD10', 'CORD20', 'CORD30', 'CORD60', 'CNTP5', 'CNTP10', 'CNTP20', 'CNTP30', 'CNTP60', 'CNTN5', 'CNTN10', 'CNTN20', 'CNTN30', 'CNTN60', 'CNTD5', 'CNTD10', 'CNTD20', 'CNTD30', 'CNTD60', 'SUMP5', 'SUMP10', 'SUMP20', 'SUMP30', 'SUMP60', 'SUMN5', 'SUMN10', 'SUMN20', 'SUMN30', 'SUMN60', 'SUMD5', 'SUMD10', 'SUMD20', 'SUMD30', 'SUMD60', 'VMA5', 'VMA10', 'VMA20', 'VMA30', 'VMA60', 'VSTD5', 'VSTD10', 'VSTD20', 'VSTD30', 'VSTD60', 'WVMA5', 'WVMA10', 'WVMA20', 'WVMA30', 'WVMA60', 'VSUMP5', 'VSUMP10', 'VSUMP20', 'VSUMP30', 'VSUMP60', 'VSUMN5', 'VSUMN10', 'VSUMN20', 'VSUMN30', 'VSUMN60', 'VSUMD5', 'VSUMD10', 'VSUMD20', 'VSUMD30', 'VSUMD60'],\n",
    "    \"integer_categorical_features\": ['month'],\n",
    "    \"string_categorical_features\": ['industry', 'season'],\n",
    "}\n",
    "batch_size = 1024\n",
    "\n",
    "# 是否开启滚动训练&回测\n",
    "if rolling_flag:\n",
    "    print(\"开启滚动回测...\")\n",
    "    backtest_period = get_rolling_data_period(\n",
    "        backtest_start_date='20200101', # 回测开始日期\n",
    "        backtest_duration=4, # 一共回测多久的数据（单位：年）\n",
    "        train_period=6, # 使用过去多久的时间进行训练（单位：年）\n",
    "        val_period=1, # 验证数据周期（单位：年）\n",
    "        test_period=1, # 测试数据周期（单位：年）\n",
    "    )\n",
    "else:\n",
    "    print(\"关闭滚动回测...\")\n",
    "    backtest_period = [\n",
    "        {\n",
    "            'train': ['20090101', '20161231'], # 8年训练\n",
    "            'val': ['20170101', '20181231'], # 2年验证\n",
    "            'test': ['20190101', '20231231'] # 5年预测\n",
    "        }\n",
    "    ]\n",
    "\n",
    "backtest_period"
   ]
  },
  {
   "cell_type": "code",
   "execution_count": 9,
   "metadata": {},
   "outputs": [],
   "source": []
  },
  {
   "cell_type": "code",
   "execution_count": 10,
   "metadata": {},
   "outputs": [],
   "source": [
    "# df = proprocessor._process_all_stock('000016', '20000101', '20050101')\n",
    "# df.head(10)"
   ]
  },
  {
   "cell_type": "code",
   "execution_count": 11,
   "metadata": {},
   "outputs": [
    {
     "name": "stdout",
     "output_type": "stream",
     "text": [
      "{'train': ['20090101', '20161231'], 'val': ['20170101', '20181231'], 'test': ['20190101', '20231231']}\n",
      "开始加载原始数据...\n",
      "login success!\n"
     ]
    },
    {
     "name": "stderr",
     "output_type": "stream",
     "text": [
      "  3%|▎         | 113/3912 [00:13<07:22,  8.59it/s]\n"
     ]
    },
    {
     "ename": "KeyboardInterrupt",
     "evalue": "",
     "output_type": "error",
     "traceback": [
      "\u001b[0;31m---------------------------------------------------------------------------\u001b[0m",
      "\u001b[0;31mKeyboardInterrupt\u001b[0m                         Traceback (most recent call last)",
      "Cell \u001b[0;32mIn[11], line 8\u001b[0m\n\u001b[1;32m      6\u001b[0m \u001b[38;5;66;03m# 获取全区间数据\u001b[39;00m\n\u001b[1;32m      7\u001b[0m \u001b[38;5;28mprint\u001b[39m(\u001b[38;5;124m\"\u001b[39m\u001b[38;5;124m开始加载原始数据...\u001b[39m\u001b[38;5;124m\"\u001b[39m)\n\u001b[0;32m----> 8\u001b[0m df \u001b[38;5;241m=\u001b[39m \u001b[43mproprocessor\u001b[49m\u001b[38;5;241;43m.\u001b[39;49m\u001b[43m_process_all_stock\u001b[49m\u001b[43m(\u001b[49m\u001b[43mbenchmark\u001b[49m\u001b[38;5;241;43m=\u001b[39;49m\u001b[43mbenchmark\u001b[49m\u001b[43m,\u001b[49m\u001b[43m \u001b[49m\u001b[43mstart_date\u001b[49m\u001b[38;5;241;43m=\u001b[39;49m\u001b[43mtrain_start_date\u001b[49m\u001b[43m,\u001b[49m\u001b[43m \u001b[49m\u001b[43mend_date\u001b[49m\u001b[38;5;241;43m=\u001b[39;49m\u001b[43mtest_end_date\u001b[49m\u001b[43m)\u001b[49m\n\u001b[1;32m      9\u001b[0m \u001b[38;5;66;03m# 抽取训练验证数据\u001b[39;00m\n\u001b[1;32m     10\u001b[0m \u001b[38;5;28mprint\u001b[39m(\u001b[38;5;124m\"\u001b[39m\u001b[38;5;124m开始拆分训练、验证、测试集合...\u001b[39m\u001b[38;5;124m\"\u001b[39m)\n",
      "Cell \u001b[0;32mIn[4], line 57\u001b[0m, in \u001b[0;36mPreProcessing._process_all_stock\u001b[0;34m(self, benchmark, start_date, end_date)\u001b[0m\n\u001b[1;32m     55\u001b[0m \u001b[38;5;28;01mdef\u001b[39;00m \u001b[38;5;21m_process_all_stock\u001b[39m(\u001b[38;5;28mself\u001b[39m, benchmark, start_date, end_date):\n\u001b[1;32m     56\u001b[0m     \u001b[38;5;66;03m# stock_code_list = list(ak.index_stock_cons(benchmark)['品种代码'].unique()) # 获取指数成分股列表\u001b[39;00m\n\u001b[0;32m---> 57\u001b[0m     stock_code_list \u001b[38;5;241m=\u001b[39m \u001b[38;5;28;43mself\u001b[39;49m\u001b[38;5;241;43m.\u001b[39;49m\u001b[43m_get_index_hist_cons\u001b[49m\u001b[43m(\u001b[49m\u001b[43mstart_date\u001b[49m\u001b[43m,\u001b[49m\u001b[43m \u001b[49m\u001b[43mend_date\u001b[49m\u001b[43m)\u001b[49m\n\u001b[1;32m     58\u001b[0m     stock_df_list \u001b[38;5;241m=\u001b[39m []\n\u001b[1;32m     59\u001b[0m     \u001b[38;5;28;01mfor\u001b[39;00m stock_code \u001b[38;5;129;01min\u001b[39;00m tqdm(stock_code_list, desc\u001b[38;5;241m=\u001b[39m\u001b[38;5;124mf\u001b[39m\u001b[38;5;124m'\u001b[39m\u001b[38;5;124mProcess: \u001b[39m\u001b[38;5;132;01m{\u001b[39;00mbenchmark\u001b[38;5;132;01m}\u001b[39;00m\u001b[38;5;124m ...\u001b[39m\u001b[38;5;124m'\u001b[39m):\n",
      "Cell \u001b[0;32mIn[4], line 47\u001b[0m, in \u001b[0;36mPreProcessing._get_index_hist_cons\u001b[0;34m(self, start_date, end_date)\u001b[0m\n\u001b[1;32m     45\u001b[0m \u001b[38;5;28;01mfor\u001b[39;00m cur_date \u001b[38;5;129;01min\u001b[39;00m tqdm(pd\u001b[38;5;241m.\u001b[39mdate_range(start\u001b[38;5;241m=\u001b[39mstart_date, end\u001b[38;5;241m=\u001b[39mend_date, freq\u001b[38;5;241m=\u001b[39m\u001b[38;5;124m'\u001b[39m\u001b[38;5;124mB\u001b[39m\u001b[38;5;124m'\u001b[39m)):\n\u001b[1;32m     46\u001b[0m     cur_date \u001b[38;5;241m=\u001b[39m datetime\u001b[38;5;241m.\u001b[39mstrftime(cur_date, \u001b[38;5;124m'\u001b[39m\u001b[38;5;124m%\u001b[39m\u001b[38;5;124mY-\u001b[39m\u001b[38;5;124m%\u001b[39m\u001b[38;5;124mm-\u001b[39m\u001b[38;5;132;01m%d\u001b[39;00m\u001b[38;5;124m'\u001b[39m)\n\u001b[0;32m---> 47\u001b[0m     dataframe \u001b[38;5;241m=\u001b[39m \u001b[43mbs\u001b[49m\u001b[38;5;241;43m.\u001b[39;49m\u001b[43mquery_sz50_stocks\u001b[49m\u001b[43m(\u001b[49m\u001b[43mdate\u001b[49m\u001b[38;5;241;43m=\u001b[39;49m\u001b[43mcur_date\u001b[49m\u001b[43m)\u001b[49m\u001b[38;5;241m.\u001b[39mget_data()\n\u001b[1;32m     48\u001b[0m     \u001b[38;5;28;01mif\u001b[39;00m \u001b[38;5;129;01mnot\u001b[39;00m dataframe\u001b[38;5;241m.\u001b[39mempty:\n\u001b[1;32m     49\u001b[0m         index_stock_cons_set\u001b[38;5;241m.\u001b[39mupdate(\n\u001b[1;32m     50\u001b[0m             dataframe[\u001b[38;5;124m'\u001b[39m\u001b[38;5;124mcode\u001b[39m\u001b[38;5;124m'\u001b[39m]\u001b[38;5;241m.\u001b[39mmap(\u001b[38;5;28;01mlambda\u001b[39;00m x: x\u001b[38;5;241m.\u001b[39msplit(\u001b[38;5;124m'\u001b[39m\u001b[38;5;124m.\u001b[39m\u001b[38;5;124m'\u001b[39m)[\u001b[38;5;241m1\u001b[39m])\u001b[38;5;241m.\u001b[39munique()\n\u001b[1;32m     51\u001b[0m         )\n",
      "File \u001b[0;32m/hy-tmp/miniconda3/envs/quant/lib/python3.8/site-packages/baostock/security/sectorinfo.py:200\u001b[0m, in \u001b[0;36mquery_sz50_stocks\u001b[0;34m(date)\u001b[0m\n\u001b[1;32m    198\u001b[0m head_body \u001b[38;5;241m=\u001b[39m msg_header \u001b[38;5;241m+\u001b[39m msg_body\n\u001b[1;32m    199\u001b[0m crc32str \u001b[38;5;241m=\u001b[39m zlib\u001b[38;5;241m.\u001b[39mcrc32(\u001b[38;5;28mbytes\u001b[39m(head_body, encoding\u001b[38;5;241m=\u001b[39m\u001b[38;5;124m'\u001b[39m\u001b[38;5;124mutf-8\u001b[39m\u001b[38;5;124m'\u001b[39m))\n\u001b[0;32m--> 200\u001b[0m receive_data \u001b[38;5;241m=\u001b[39m \u001b[43msock\u001b[49m\u001b[38;5;241;43m.\u001b[39;49m\u001b[43msend_msg\u001b[49m\u001b[43m(\u001b[49m\u001b[43mhead_body\u001b[49m\u001b[43m \u001b[49m\u001b[38;5;241;43m+\u001b[39;49m\u001b[43m \u001b[49m\u001b[43mcons\u001b[49m\u001b[38;5;241;43m.\u001b[39;49m\u001b[43mMESSAGE_SPLIT\u001b[49m\u001b[43m \u001b[49m\u001b[38;5;241;43m+\u001b[39;49m\u001b[43m \u001b[49m\u001b[38;5;28;43mstr\u001b[39;49m\u001b[43m(\u001b[49m\u001b[43mcrc32str\u001b[49m\u001b[43m)\u001b[49m\u001b[43m)\u001b[49m\n\u001b[1;32m    202\u001b[0m \u001b[38;5;28;01mif\u001b[39;00m receive_data \u001b[38;5;129;01mis\u001b[39;00m \u001b[38;5;28;01mNone\u001b[39;00m \u001b[38;5;129;01mor\u001b[39;00m receive_data\u001b[38;5;241m.\u001b[39mstrip() \u001b[38;5;241m==\u001b[39m \u001b[38;5;124m\"\u001b[39m\u001b[38;5;124m\"\u001b[39m:\n\u001b[1;32m    203\u001b[0m     data\u001b[38;5;241m.\u001b[39merror_code \u001b[38;5;241m=\u001b[39m cons\u001b[38;5;241m.\u001b[39mBSERR_RECVSOCK_FAIL\n",
      "File \u001b[0;32m/hy-tmp/miniconda3/envs/quant/lib/python3.8/site-packages/baostock/util/socketutil.py:68\u001b[0m, in \u001b[0;36msend_msg\u001b[0;34m(msg)\u001b[0m\n\u001b[1;32m     66\u001b[0m receive \u001b[38;5;241m=\u001b[39m \u001b[38;5;124mb\u001b[39m\u001b[38;5;124m\"\u001b[39m\u001b[38;5;124m\"\u001b[39m\n\u001b[1;32m     67\u001b[0m \u001b[38;5;28;01mwhile\u001b[39;00m \u001b[38;5;28;01mTrue\u001b[39;00m:\n\u001b[0;32m---> 68\u001b[0m     recv \u001b[38;5;241m=\u001b[39m \u001b[43mdefault_socket\u001b[49m\u001b[38;5;241;43m.\u001b[39;49m\u001b[43mrecv\u001b[49m\u001b[43m(\u001b[49m\u001b[38;5;241;43m8192\u001b[39;49m\u001b[43m)\u001b[49m\n\u001b[1;32m     69\u001b[0m     receive \u001b[38;5;241m+\u001b[39m\u001b[38;5;241m=\u001b[39m recv\n\u001b[1;32m     70\u001b[0m     \u001b[38;5;66;03m# 判断是否读取完\u001b[39;00m\n",
      "\u001b[0;31mKeyboardInterrupt\u001b[0m: "
     ]
    }
   ],
   "source": [
    "date_period_params = backtest_period[0]\n",
    "print(date_period_params)\n",
    "train_start_date, train_end_date = date_period_params['train']\n",
    "val_start_date, val_end_date = date_period_params['val']\n",
    "test_start_date, test_end_date = date_period_params['test']\n",
    "# 获取全区间数据\n",
    "print(\"开始加载原始数据...\")\n",
    "df = proprocessor._process_all_stock(benchmark=benchmark, start_date=train_start_date, end_date=test_end_date)\n",
    "# 抽取训练验证数据\n",
    "print(\"开始拆分训练、验证、测试集合...\")\n",
    "train_data, val_data, test_data = extract_train_val_data(df, *[train_start_date, train_end_date, val_start_date, val_end_date, test_start_date, test_end_date])\n",
    "# 从data中抽取相关特征数据\n",
    "print(\"开始抽取特征数据...\")\n",
    "feature_columns = feature_config.get('numeric_features', []) + feature_config.get('integer_categorical_features', []) + feature_config.get('string_categorical_features', [])\n",
    "label_columns = feature_config.get('target_features', [])\n",
    "full_feature_columns = feature_columns + label_columns\n",
    "train_df, val_df, test_df = train_data[full_feature_columns], val_data[full_feature_columns], test_data[full_feature_columns]\n",
    "# 对相关特征进行特征工程\n",
    "print(\"开始对特征进行预处理...\")\n",
    "feature_preprocess_pipeline = Pipeline(steps=[\n",
    "    ('robust_scaler', RobustScaler()),\n",
    "    ('minmax_scaler', MinMaxScaler()),\n",
    "])\n",
    "preprocess_feature_columns = feature_config.get('numeric_features', [])\n",
    "train_df[preprocess_feature_columns] = feature_preprocess_pipeline.fit_transform(train_df[preprocess_feature_columns])\n",
    "val_df[preprocess_feature_columns] = feature_preprocess_pipeline.transform(val_df[preprocess_feature_columns])\n",
    "test_df[preprocess_feature_columns] = feature_preprocess_pipeline.transform(test_df[preprocess_feature_columns])\n",
    "\n",
    "print(\"开始对标签进行预处理...\")\n",
    "label_preprocess_pipeline = Pipeline(steps=[\n",
    "    ('quantile_clipper', QuantileClipTransformer()),\n",
    "    ('robust_scaler', RobustScaler()),\n",
    "    ('minmax_scaler', MinMaxScaler()),\n",
    "])\n",
    "preprocess_target_columns = feature_config.get('target_features', [])\n",
    "train_df[preprocess_target_columns] = label_preprocess_pipeline.fit_transform(train_df[preprocess_target_columns])\n",
    "val_df[preprocess_target_columns] = label_preprocess_pipeline.transform(val_df[preprocess_target_columns])\n",
    "test_df[preprocess_target_columns] = label_preprocess_pipeline.transform(test_df[preprocess_target_columns])"
   ]
  },
  {
   "cell_type": "code",
   "execution_count": 21,
   "metadata": {},
   "outputs": [
    {
     "name": "stdout",
     "output_type": "stream",
     "text": [
      "开始将DataFrame转换为DataSet...\n"
     ]
    }
   ],
   "source": [
    "# 转换为tensorflow所使用的dataset\n",
    "print(\"开始将DataFrame转换为DataSet...\")\n",
    "train_ds = df_to_dataset(train_df, feature_columns, label_columns, shuffle=True, batch_size=batch_size)\n",
    "val_ds = df_to_dataset(val_df, feature_columns, label_columns, shuffle=False, batch_size=batch_size)\n",
    "test_ds = df_to_dataset(test_df, feature_columns, label_columns, shuffle=False, batch_size=batch_size)  "
   ]
  },
  {
   "cell_type": "code",
   "execution_count": 22,
   "metadata": {},
   "outputs": [
    {
     "name": "stdout",
     "output_type": "stream",
     "text": [
      "开始模型初始化 & 训练...\n",
      "Epoch 1/500\n"
     ]
    },
    {
     "name": "stderr",
     "output_type": "stream",
     "text": [
      "2024-05-27 07:29:46.415447: I tensorflow/compiler/xla/service/service.cc:168] XLA service 0x14b084008ec0 initialized for platform Host (this does not guarantee that XLA will be used). Devices:\n",
      "2024-05-27 07:29:46.415535: I tensorflow/compiler/xla/service/service.cc:176]   StreamExecutor device (0): Host, Default Version\n",
      "2024-05-27 07:29:46.870102: I tensorflow/compiler/mlir/tensorflow/utils/dump_mlir_util.cc:255] disabling MLIR crash reproducer, set env var `MLIR_CRASH_REPRODUCER_DIRECTORY` to enable.\n"
     ]
    },
    {
     "name": "stdout",
     "output_type": "stream",
     "text": [
      " 3/50 [>.............................] - ETA: 3s - loss: 0.5217  "
     ]
    },
    {
     "name": "stderr",
     "output_type": "stream",
     "text": [
      "2024-05-27 07:29:47.783771: I ./tensorflow/compiler/jit/device_compiler.h:186] Compiled cluster using XLA!  This line is logged at most once for the lifetime of the process.\n"
     ]
    },
    {
     "name": "stdout",
     "output_type": "stream",
     "text": [
      "50/50 [==============================] - 16s 178ms/step - loss: 0.3501 - val_loss: 0.0476\n",
      "Epoch 2/500\n",
      "50/50 [==============================] - 5s 98ms/step - loss: 0.2280 - val_loss: 0.0303\n",
      "Epoch 3/500\n",
      "50/50 [==============================] - 4s 86ms/step - loss: 0.1585 - val_loss: 0.0273\n",
      "Epoch 4/500\n",
      "50/50 [==============================] - 5s 93ms/step - loss: 0.1159 - val_loss: 0.0245\n",
      "Epoch 5/500\n",
      "50/50 [==============================] - 5s 96ms/step - loss: 0.0866 - val_loss: 0.0319\n",
      "Epoch 6/500\n",
      "50/50 [==============================] - 5s 107ms/step - loss: 0.0672 - val_loss: 0.0219\n",
      "Epoch 7/500\n",
      "50/50 [==============================] - 4s 88ms/step - loss: 0.0578 - val_loss: 0.0189\n",
      "Epoch 8/500\n",
      "50/50 [==============================] - 5s 105ms/step - loss: 0.0474 - val_loss: 0.0168\n",
      "Epoch 9/500\n",
      "50/50 [==============================] - 5s 98ms/step - loss: 0.0408 - val_loss: 0.0158\n",
      "Epoch 10/500\n",
      "50/50 [==============================] - 4s 81ms/step - loss: 0.0363 - val_loss: 0.0152\n",
      "Epoch 11/500\n",
      "50/50 [==============================] - 4s 89ms/step - loss: 0.0325 - val_loss: 0.0147\n",
      "Epoch 12/500\n",
      "50/50 [==============================] - 5s 105ms/step - loss: 0.0298 - val_loss: 0.0144\n",
      "Epoch 13/500\n",
      "50/50 [==============================] - 4s 76ms/step - loss: 0.0279 - val_loss: 0.0140\n",
      "Epoch 14/500\n",
      "50/50 [==============================] - 5s 102ms/step - loss: 0.0263 - val_loss: 0.0138\n",
      "Epoch 15/500\n",
      "50/50 [==============================] - 5s 99ms/step - loss: 0.0248 - val_loss: 0.0136\n",
      "Epoch 16/500\n",
      "50/50 [==============================] - 5s 109ms/step - loss: 0.0241 - val_loss: 0.0135\n",
      "Epoch 17/500\n",
      "50/50 [==============================] - 5s 104ms/step - loss: 0.0230 - val_loss: 0.0133\n",
      "Epoch 18/500\n",
      "50/50 [==============================] - 6s 112ms/step - loss: 0.0218 - val_loss: 0.0131\n",
      "Epoch 19/500\n",
      "50/50 [==============================] - 4s 89ms/step - loss: 0.0208 - val_loss: 0.0131\n",
      "Epoch 20/500\n",
      "50/50 [==============================] - 5s 109ms/step - loss: 0.0199 - val_loss: 0.0130\n",
      "Epoch 21/500\n",
      "50/50 [==============================] - 5s 95ms/step - loss: 0.0191 - val_loss: 0.0127\n",
      "Epoch 22/500\n",
      "50/50 [==============================] - 5s 107ms/step - loss: 0.0186 - val_loss: 0.0131\n",
      "Epoch 23/500\n",
      "50/50 [==============================] - 5s 99ms/step - loss: 0.0180 - val_loss: 0.0126\n",
      "Epoch 24/500\n",
      "50/50 [==============================] - 5s 100ms/step - loss: 0.0176 - val_loss: 0.0125\n",
      "Epoch 25/500\n",
      "50/50 [==============================] - 5s 93ms/step - loss: 0.0171 - val_loss: 0.0124\n",
      "Epoch 26/500\n",
      "50/50 [==============================] - 5s 99ms/step - loss: 0.0168 - val_loss: 0.0124\n",
      "Epoch 27/500\n",
      "50/50 [==============================] - 5s 110ms/step - loss: 0.0165 - val_loss: 0.0124\n",
      "Epoch 28/500\n",
      "50/50 [==============================] - 4s 88ms/step - loss: 0.0162 - val_loss: 0.0123\n",
      "Epoch 29/500\n",
      "50/50 [==============================] - 4s 89ms/step - loss: 0.0160 - val_loss: 0.0122\n",
      "Epoch 30/500\n",
      "50/50 [==============================] - 6s 113ms/step - loss: 0.0159 - val_loss: 0.0121\n",
      "Epoch 31/500\n",
      "50/50 [==============================] - 5s 99ms/step - loss: 0.0158 - val_loss: 0.0121\n",
      "Epoch 32/500\n",
      "50/50 [==============================] - 6s 117ms/step - loss: 0.0157 - val_loss: 0.0120\n",
      "Epoch 33/500\n",
      "50/50 [==============================] - 6s 115ms/step - loss: 0.0156 - val_loss: 0.0120\n",
      "Epoch 34/500\n",
      "50/50 [==============================] - 6s 112ms/step - loss: 0.0156 - val_loss: 0.0120\n",
      "Epoch 35/500\n",
      "50/50 [==============================] - 4s 77ms/step - loss: 0.0155 - val_loss: 0.0119\n",
      "Epoch 36/500\n",
      "50/50 [==============================] - 6s 115ms/step - loss: 0.0154 - val_loss: 0.0119\n",
      "Epoch 37/500\n",
      "50/50 [==============================] - 4s 87ms/step - loss: 0.0154 - val_loss: 0.0119\n",
      "Epoch 38/500\n",
      "50/50 [==============================] - 5s 98ms/step - loss: 0.0154 - val_loss: 0.0118\n",
      "Epoch 39/500\n",
      "50/50 [==============================] - 5s 100ms/step - loss: 0.0153 - val_loss: 0.0117\n",
      "Epoch 40/500\n",
      "50/50 [==============================] - 6s 121ms/step - loss: 0.0153 - val_loss: 0.0117\n",
      "Epoch 41/500\n",
      "50/50 [==============================] - 6s 111ms/step - loss: 0.0153 - val_loss: 0.0117\n",
      "Epoch 42/500\n",
      "50/50 [==============================] - 5s 108ms/step - loss: 0.0152 - val_loss: 0.0117\n",
      "Epoch 43/500\n",
      "50/50 [==============================] - 5s 110ms/step - loss: 0.0152 - val_loss: 0.0117\n",
      "Epoch 44/500\n",
      "50/50 [==============================] - 5s 102ms/step - loss: 0.0152 - val_loss: 0.0117\n",
      "Epoch 45/500\n",
      "50/50 [==============================] - 5s 90ms/step - loss: 0.0152 - val_loss: 0.0116\n",
      "Epoch 46/500\n",
      "50/50 [==============================] - 4s 80ms/step - loss: 0.0151 - val_loss: 0.0116\n",
      "Epoch 47/500\n",
      "50/50 [==============================] - 4s 83ms/step - loss: 0.0151 - val_loss: 0.0116\n",
      "Epoch 48/500\n",
      "50/50 [==============================] - 4s 86ms/step - loss: 0.0151 - val_loss: 0.0116\n",
      "Epoch 49/500\n",
      "50/50 [==============================] - 4s 77ms/step - loss: 0.0151 - val_loss: 0.0115\n",
      "Epoch 50/500\n",
      "50/50 [==============================] - 5s 100ms/step - loss: 0.0150 - val_loss: 0.0115\n",
      "Epoch 51/500\n",
      "50/50 [==============================] - 4s 79ms/step - loss: 0.0150 - val_loss: 0.0115\n",
      "Epoch 52/500\n",
      "50/50 [==============================] - 4s 83ms/step - loss: 0.0150 - val_loss: 0.0115\n",
      "Epoch 53/500\n",
      "50/50 [==============================] - 4s 83ms/step - loss: 0.0150 - val_loss: 0.0115\n",
      "Epoch 54/500\n",
      "50/50 [==============================] - 4s 85ms/step - loss: 0.0149 - val_loss: 0.0115\n",
      "Epoch 55/500\n",
      "50/50 [==============================] - 4s 82ms/step - loss: 0.0149 - val_loss: 0.0115\n",
      "Epoch 56/500\n",
      "50/50 [==============================] - 4s 76ms/step - loss: 0.0149 - val_loss: 0.0115\n",
      "Epoch 57/500\n",
      "50/50 [==============================] - 4s 75ms/step - loss: 0.0148 - val_loss: 0.0115\n",
      "Epoch 58/500\n",
      "50/50 [==============================] - 4s 75ms/step - loss: 0.0148 - val_loss: 0.0115\n",
      "Epoch 59/500\n",
      "50/50 [==============================] - 4s 75ms/step - loss: 0.0148 - val_loss: 0.0115\n",
      "Epoch 60/500\n",
      "50/50 [==============================] - 5s 93ms/step - loss: 0.0148 - val_loss: 0.0115\n",
      "Epoch 61/500\n",
      "50/50 [==============================] - 5s 93ms/step - loss: 0.0147 - val_loss: 0.0115\n",
      "Epoch 62/500\n",
      "50/50 [==============================] - 5s 106ms/step - loss: 0.0146 - val_loss: 0.0115\n",
      "Epoch 63/500\n",
      "50/50 [==============================] - 6s 111ms/step - loss: 0.0146 - val_loss: 0.0115\n",
      "Epoch 64/500\n",
      "50/50 [==============================] - 4s 77ms/step - loss: 0.0146 - val_loss: 0.0115\n",
      "Epoch 65/500\n",
      "50/50 [==============================] - 5s 109ms/step - loss: 0.0145 - val_loss: 0.0115\n",
      "Epoch 66/500\n",
      "50/50 [==============================] - 5s 97ms/step - loss: 0.0145 - val_loss: 0.0115\n",
      "Epoch 67/500\n",
      "50/50 [==============================] - 4s 77ms/step - loss: 0.0144 - val_loss: 0.0116\n",
      "Epoch 68/500\n",
      "50/50 [==============================] - ETA: 0s - loss: 0.0144Restoring model weights from the end of the best epoch: 58.\n",
      "50/50 [==============================] - 5s 105ms/step - loss: 0.0144 - val_loss: 0.0115\n",
      "Epoch 68: early stopping\n"
     ]
    }
   ],
   "source": [
    "# 准备模型训练\n",
    "print(\"开始模型初始化 & 训练...\")\n",
    "from models.single_task.model_moe import QuantModel\n",
    "model_config = {\n",
    "        \"seed\": 1024,\n",
    "        \"feature_use_embedding\": False,\n",
    "        \"feature_embedding_dims\": 4,\n",
    "        \"numeric_features_with_boundaries\": {k: pd.qcut(train_df[k], q=20, retbins=True, duplicates='drop')[1].tolist() for k in feature_config.get('numeric_features', [])},\n",
    "        \"integer_categorical_features_with_vocab\": {k: list(train_df[k].unique()) for k in feature_config.get('integer_categorical_features', [])},\n",
    "        \"string_categorical_features_with_vocab\": {k: list(train_df[k].unique()) for k in feature_config.get('string_categorical_features', [])},\n",
    "    }\n",
    "model = QuantModel(config=model_config)\n",
    "\n",
    "initial_learning_rate = 5e-4\n",
    "\n",
    "# lr_schedule = tf.keras.optimizers.schedules.ExponentialDecay(\n",
    "#     initial_learning_rate,\n",
    "#     decay_steps=5 * (len(train_df) // batch_size), # 每5个batch进行一次调整\n",
    "#     decay_rate=0.9,\n",
    "#     staircase=True)\n",
    "model.compile(\n",
    "    # optimizer=tf.keras.optimizers.Adam(lr_schedule),\n",
    "    optimizer=tf.keras.optimizers.Adam(initial_learning_rate),\n",
    "    # loss=tf.keras.losses.MeanSquaredError(),\n",
    "    # loss=tf.keras.losses.MeanAbsoluteError(),\n",
    "    loss=tf.keras.losses.Huber(),\n",
    "    # metrics=[\n",
    "    #     # tf.keras.metrics.MeanSquaredError(),\n",
    "    #     # tf.keras.metrics.MeanAbsoluteError(),\n",
    "    # ],\n",
    "    )\n",
    "\n",
    "EPOCHS = 500\n",
    "\n",
    "early_stopping = tf.keras.callbacks.EarlyStopping(\n",
    "    monitor='val_loss', \n",
    "    verbose=1,\n",
    "    patience=10,\n",
    "    mode='min',\n",
    "    restore_best_weights=True)\n",
    "\n",
    "baseline_history = model.fit(\n",
    "    train_ds,\n",
    "    validation_data=val_ds,\n",
    "    epochs=EPOCHS,\n",
    "    callbacks = [early_stopping],\n",
    ")"
   ]
  },
  {
   "cell_type": "code",
   "execution_count": 23,
   "metadata": {},
   "outputs": [
    {
     "data": {
      "text/plain": [
       "dict_keys(['loss', 'val_loss'])"
      ]
     },
     "execution_count": 23,
     "metadata": {},
     "output_type": "execute_result"
    }
   ],
   "source": [
    "baseline_history.history.keys()"
   ]
  },
  {
   "cell_type": "code",
   "execution_count": 25,
   "metadata": {},
   "outputs": [],
   "source": [
    "# plot_metrics(baseline_history)"
   ]
  },
  {
   "cell_type": "code",
   "execution_count": 26,
   "metadata": {},
   "outputs": [],
   "source": [
    "# model.save(f'./tf_models/{benchmark}/')"
   ]
  },
  {
   "cell_type": "code",
   "execution_count": 27,
   "metadata": {},
   "outputs": [
    {
     "name": "stdout",
     "output_type": "stream",
     "text": [
      "开始保存回测预测结果...\n",
      "54/54 [==============================] - 7s 111ms/step\n"
     ]
    }
   ],
   "source": [
    "# 输出回测预测\n",
    "print(\"开始保存回测预测结果...\")\n",
    "model_pred_result = model.predict(test_ds)\n",
    "output_df = test_data[['stock_code', 'stock_name', 'datetime']]\n",
    "output_df['label'] = test_df['label']\n",
    "output_df['label_pred'] = model_pred_result\n",
    "output_df.to_pickle(f'../../Offline/backtest/backtest_data/test/{benchmark}_{test_start_date}_回归任务_v3.pkl') "
   ]
  },
  {
   "cell_type": "code",
   "execution_count": 29,
   "metadata": {},
   "outputs": [],
   "source": [
    "# output_df.head()"
   ]
  },
  {
   "cell_type": "code",
   "execution_count": null,
   "metadata": {},
   "outputs": [],
   "source": []
  }
 ],
 "metadata": {
  "kernelspec": {
   "display_name": ".venv",
   "language": "python",
   "name": "python3"
  },
  "language_info": {
   "codemirror_mode": {
    "name": "ipython",
    "version": 3
   },
   "file_extension": ".py",
   "mimetype": "text/x-python",
   "name": "python",
   "nbconvert_exporter": "python",
   "pygments_lexer": "ipython3",
   "version": "3.8.10"
  }
 },
 "nbformat": 4,
 "nbformat_minor": 2
}
