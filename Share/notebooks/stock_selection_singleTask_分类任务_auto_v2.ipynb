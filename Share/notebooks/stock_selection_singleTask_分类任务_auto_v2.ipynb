{
 "cells": [
  {
   "cell_type": "code",
   "execution_count": 1,
   "metadata": {},
   "outputs": [
    {
     "name": "stdout",
     "output_type": "stream",
     "text": [
      "login success!\n",
      "Python 3.8.10\n"
     ]
    }
   ],
   "source": [
    "import sys\n",
    "sys.path.append('../')\n",
    "\n",
    "import warnings\n",
    "warnings.filterwarnings(\"ignore\")\n",
    "\n",
    "import os\n",
    "import random\n",
    "import numpy as np\n",
    "import pandas as pd\n",
    "import sqlite3\n",
    "import matplotlib.pyplot as plt\n",
    "%matplotlib inline\n",
    "\n",
    "from datetime import datetime\n",
    "from dateutil.relativedelta import relativedelta\n",
    "from tqdm import tqdm\n",
    "import baostock as bs\n",
    "import json\n",
    "bs.login()\n",
    "\n",
    "from database_auto.db_factor_prebuilder.utils.expression_excutor import AlphaExpressionExcutor\n",
    "from database_auto.db_data_downloader.downloader_base import DownloaderBase\n",
    "import database_auto.database_config as db_config\n",
    "\n",
    "pd.options.display.max_rows=None\n",
    "pd.options.display.max_columns=None\n",
    "\n",
    "!python --version"
   ]
  },
  {
   "cell_type": "code",
   "execution_count": 2,
   "metadata": {},
   "outputs": [
    {
     "name": "stderr",
     "output_type": "stream",
     "text": [
      "2024-06-18 11:42:25.298706: I tensorflow/core/platform/cpu_feature_guard.cc:182] This TensorFlow binary is optimized to use available CPU instructions in performance-critical operations.\n",
      "To enable the following instructions: AVX2 FMA, in other operations, rebuild TensorFlow with the appropriate compiler flags.\n",
      "2024-06-18 11:42:26.182942: W tensorflow/compiler/tf2tensorrt/utils/py_utils.cc:38] TF-TRT Warning: Could not find TensorRT\n"
     ]
    },
    {
     "name": "stdout",
     "output_type": "stream",
     "text": [
      "配置全局初始化信息...避免GPU并行差异\n",
      "Tensorflow Version: 2.13.1\n",
      "TensorFlow GPU version is installed\n",
      "GPU devices available: [PhysicalDevice(name='/physical_device:GPU:0', device_type='GPU')]\n"
     ]
    }
   ],
   "source": [
    "import tensorflow as tf\n",
    "\n",
    "def set_global_determinism(seed=1024):\n",
    "    print(\"配置全局初始化信息...避免GPU并行差异\")\n",
    "    # 配置随机种子\n",
    "    os.environ['PYTHONHASHSEED'] = str(seed)\n",
    "    random.seed(seed)\n",
    "    tf.random.set_seed(seed)\n",
    "    np.random.seed(seed)\n",
    "\n",
    "    # 配置GPU并行参数\n",
    "    os.environ['TF_DETERMINISTIC_OPS'] = '1' \n",
    "    os.environ['TF_CUDNN_DETERMINISTIC'] = '1' \n",
    "    tf.config.threading.set_inter_op_parallelism_threads(1)\n",
    "    tf.config.threading.set_intra_op_parallelism_threads(1)\n",
    "\n",
    "set_global_determinism()\n",
    "\n",
    "os.environ['TF_CPP_MIN_LOG_LEVEL'] = '2'  # 只显示error日志\n",
    "\n",
    "# 只使用CPU进行训练\n",
    "tf.config.set_visible_devices([], 'GPU')\n",
    "\n",
    "# 打印Tensorflow版本\n",
    "print(f\"Tensorflow Version: {tf.__version__}\")\n",
    "\n",
    "# 检查是否有可用的GPU设备\n",
    "if tf.test.is_built_with_cuda():\n",
    "    print(\"TensorFlow GPU version is installed\")\n",
    "else:\n",
    "    print(\"TensorFlow CPU version is installed\")\n",
    "\n",
    "# 检查TensorFlow是否能够访问GPU\n",
    "gpus = tf.config.list_physical_devices('GPU')\n",
    "if gpus:\n",
    "    print(\"GPU devices available:\", gpus)\n",
    "else:\n",
    "    print(\"No GPU devices found. Running on CPU.\")\n",
    "\n",
    "# !nvidia-smi"
   ]
  },
  {
   "cell_type": "code",
   "execution_count": 3,
   "metadata": {},
   "outputs": [],
   "source": [
    "import matplotlib as mpl\n",
    "import matplotlib.pyplot as plt\n",
    "import numpy as np\n",
    "import pandas as pd\n",
    "import seaborn as sns\n",
    "from sklearn.metrics import confusion_matrix, accuracy_score, precision_score, recall_score\n",
    "\n",
    "mpl.rcParams['figure.figsize'] = (12, 10)\n",
    "colors = plt.rcParams['axes.prop_cycle'].by_key()['color']\n",
    "\n",
    "# 绘图相关函数\n",
    "def plot_series_dist(series):\n",
    "    data = series\n",
    "    plt.figure(figsize=(5,5))\n",
    "    # 使用matplotlib画直方图\n",
    "    plt.hist(data, bins=60, edgecolor='k', alpha=0.7)\n",
    "    plt.xlabel('Value')\n",
    "    plt.ylabel('Frequency')\n",
    "    plt.title('Histogram of Data')\n",
    "    plt.show()\n",
    "\n",
    "def plot_metrics(history):\n",
    "  metrics = ['loss', 'mean_squared_error']\n",
    "  for n, metric in enumerate(metrics):\n",
    "    name = metric.replace(\"_\",\" \").capitalize()\n",
    "    plt.subplot(2,2,n+1)\n",
    "    plt.plot(history.epoch, history.history[metric], color=colors[0], label='Train')\n",
    "    plt.plot(history.epoch, history.history['val_'+metric],\n",
    "             color=colors[0], linestyle=\"--\", label='Val')\n",
    "    plt.xlabel('Epoch')\n",
    "    plt.ylabel(name)\n",
    "    plt.ylim([0, plt.ylim()[1]])\n",
    "    plt.legend()\n",
    "\n",
    "def plot_cm(true_labels, pred_labels):\n",
    "    cm = confusion_matrix(true_labels, pred_labels)\n",
    "    plt.figure(figsize=(5,5))\n",
    "    sns.heatmap(cm, annot=True, fmt=\"g\", cmap='Blues')\n",
    "    plt.title('Confusion matrix')\n",
    "    plt.ylabel('Actual label')\n",
    "    plt.xlabel('Predicted label')\n",
    "\n",
    "    accuracy = accuracy_score(true_labels, pred_labels)\n",
    "    precision = precision_score(true_labels, pred_labels)\n",
    "    recall = recall_score(true_labels, pred_labels)\n",
    "    print(f\"Accuracy: {accuracy:.2f}, Precision: {precision:.2f}, Recall: {recall:.2f}\")"
   ]
  },
  {
   "cell_type": "code",
   "execution_count": 4,
   "metadata": {},
   "outputs": [],
   "source": [
    "from sklearn.pipeline import Pipeline\n",
    "from sklearn.base import BaseEstimator, TransformerMixin\n",
    "from sklearn.preprocessing import MinMaxScaler, RobustScaler\n",
    "\n",
    "\n",
    "class QuantileClipTransformer(BaseEstimator, TransformerMixin):\n",
    "    def __init__(self, lower_quantile=0.01, upper_quantile=0.99):\n",
    "        self.lower_quantile = lower_quantile\n",
    "        self.upper_quantile = upper_quantile\n",
    "        \n",
    "    def fit(self, X, y=None):\n",
    "        # 计算给定分位数的分界值\n",
    "        self.lower_bound_ = np.nanquantile(X, self.lower_quantile, axis=0)\n",
    "        self.upper_bound_ = np.nanquantile(X, self.upper_quantile, axis=0)\n",
    "        return self\n",
    "    \n",
    "    def transform(self, X, y=None):\n",
    "        # 对整个数组应用剪辑操作\n",
    "        return np.clip(X, self.lower_bound_, self.upper_bound_)\n",
    "\n",
    "    def fit_transform(self, X, y=None, **fit_params):\n",
    "        return self.fit(X, y).transform(X)"
   ]
  },
  {
   "cell_type": "code",
   "execution_count": 5,
   "metadata": {},
   "outputs": [],
   "source": [
    "def build_alpha_factor_sync(stock_history, alpha_factor_path, exp_excutor):\n",
    "    stock_history['vwap'] = stock_history[['open', 'high', 'low', 'close']].mean(axis=1)\n",
    "    stock_history['returns'] = stock_history['close'].pct_change()\n",
    "    alpha_factor_dict = json.loads(open(alpha_factor_path, \"r\").read())\n",
    "    dataframe = stock_history[[\"code\", \"datetime\"]]\n",
    "    for alpha_name, alpha_expression in tqdm(alpha_factor_dict.items(), desc='Alpha...'):\n",
    "        try:\n",
    "            dataframe[alpha_name] = exp_excutor.excute(stock_history, alpha_expression)\n",
    "        except Exception as e:\n",
    "            dataframe[alpha_name] = np.NaN\n",
    "    return dataframe\n",
    "\n",
    "def df_to_dataset(dataframe, feature_cols, label_cols, shuffle=False, batch_size=32):\n",
    "    features = dataframe[feature_cols]\n",
    "    if label_cols is not None:\n",
    "        labels = dataframe[label_cols]\n",
    "        ds = tf.data.Dataset.from_tensor_slices((dict(features), labels))\n",
    "    else:\n",
    "        ds = tf.data.Dataset.from_tensor_slices((dict(features)))\n",
    "    if shuffle:\n",
    "        ds = ds.shuffle(buffer_size=min(len(features), 10000), seed=1024)\n",
    "    ds = ds.cache().batch(batch_size).prefetch(tf.data.AUTOTUNE)\n",
    "    return ds"
   ]
  },
  {
   "cell_type": "code",
   "execution_count": 6,
   "metadata": {},
   "outputs": [],
   "source": [
    "# 初始化数据库\n",
    "db_conn = sqlite3.connect('../database_auto/hh_quant_auto.db')\n",
    "db_downloader = DownloaderBase(db_conn, db_config)\n",
    "exp_excutor = AlphaExpressionExcutor()\n",
    "\n",
    "# 初始化基础信息\n",
    "benchmark = '000016'  # 对比指数 = 上证50\n",
    "train_val_test_period = {\n",
    "    'train': ['2009-01-01', '2016-12-31'],\n",
    "    'val': ['2017-01-01', '2018-12-31'],\n",
    "    'test': ['2019-01-01', '2024-12-31']\n",
    "}\n",
    "\n",
    "train_start_date, train_end_date = train_val_test_period['train']\n",
    "val_start_date, val_end_date = train_val_test_period['val']\n",
    "test_start_date, test_end_date = train_val_test_period['test']"
   ]
  },
  {
   "cell_type": "code",
   "execution_count": 7,
   "metadata": {},
   "outputs": [],
   "source": [
    "# 获取benchmark对应的成分股\n",
    "# stock_pool = bs.query_sz50_stocks().get_data()['code'].unique()"
   ]
  },
  {
   "cell_type": "code",
   "execution_count": 8,
   "metadata": {},
   "outputs": [],
   "source": [
    "# # 预计算基础数据\n",
    "# stock_df_list = []\n",
    "# for stock_code in tqdm(stock_pool, desc='LoadingStockData'):\n",
    "#     # 1. 获取基础信息\n",
    "#     stock_history = db_downloader._download_history_base_info(stock_code, train_start_date, test_end_date)\n",
    "#     stock_profile = db_downloader._download_all_stock_info(stock_code)\n",
    "#     stock_indicator = db_downloader._download_history_indicator_info(stock_code, train_start_date, test_end_date)\n",
    "#     stock_indicator = stock_indicator.replace(\"\", np.NaN).ffill()\n",
    "#     stock_date_factor = db_downloader._download_history_date_factor_info(train_start_date, test_end_date)\n",
    "#     stock_alpha_184_factor = build_alpha_factor_sync(\n",
    "#         stock_history, \n",
    "#         '../database_auto/db_factor_prebuilder/factor_lib/alpha_184.json',\n",
    "#         exp_excutor)\n",
    "#     stock_alpha_101_factor = build_alpha_factor_sync(\n",
    "#         stock_history, \n",
    "#         '../database_auto/db_factor_prebuilder/factor_lib/alpha_101.json',\n",
    "#         exp_excutor)\n",
    "#     stock_alpha_191_factor = build_alpha_factor_sync(\n",
    "#         stock_history, \n",
    "#         '../database_auto/db_factor_prebuilder/factor_lib/alpha_191.json',\n",
    "#         exp_excutor)\n",
    "#     stock_df = stock_history.merge(stock_profile, on=['code']) \\\n",
    "#             .merge(stock_indicator, on=['code', 'datetime']) \\\n",
    "#             .merge(stock_date_factor, on=['datetime']) \\\n",
    "#             .merge(stock_alpha_184_factor, on=['code', 'datetime']) \\\n",
    "#             .merge(stock_alpha_101_factor, on=['code', 'datetime']) \\\n",
    "#             .merge(stock_alpha_191_factor, on=['code', 'datetime'])\n",
    "#     stock_df_list.append(stock_df)\n",
    "\n",
    "# # 保存原始数据\n",
    "# whole_stock_df = pd.concat(stock_df_list)\n",
    "# whole_stock_df.to_pickle(f'{benchmark}_{train_start_date}_{test_end_date}_base.pickle')"
   ]
  },
  {
   "cell_type": "code",
   "execution_count": 9,
   "metadata": {},
   "outputs": [],
   "source": [
    "# # 预计算label数据\n",
    "# def _build_reg_label(stock_dataframe, N=15):\n",
    "#     stock_df = stock_dataframe.copy()\n",
    "#     # 计算未来N日内的最高收益率\n",
    "#     stock_df['max_return'] = stock_df['close'].rolling(window=N).max().shift(-N) / stock_df['close'] - 1\n",
    "#     # 计算未来N日内的最低收益率\n",
    "#     stock_df['min_return'] = stock_df['close'].rolling(window=N).min().shift(-N) / stock_df['close'] - 1\n",
    "#     # 计算未来N日内的收益率和（期望最高收益率越高越好，最低收益率也越高越好，由于最低收益率是负数，因此使用最高+最低来作为综合收益指标）\n",
    "#     stock_df['label'] = stock_df['max_return'] + stock_df['min_return']\n",
    "#     # 过滤第二天一字涨停股票\n",
    "#     stock_df = stock_df[stock_df['high'].shift(-1) != stock_df['low'].shift(-1)]\n",
    "#     return stock_df[['code', 'datetime', 'label']]\n",
    "\n",
    "# stock_label_list = []\n",
    "# for stock_code in tqdm(stock_pool, desc='LoadingStockData'):\n",
    "#     # 1. 获取基础信息\n",
    "#     stock_history = db_downloader._download_history_base_info(stock_code, train_start_date, test_end_date)\n",
    "#     stock_label = _build_reg_label(stock_history)\n",
    "#     stock_label_list.append(stock_label)\n",
    "\n",
    "# # 保存标签数据\n",
    "# whole_label_df = pd.concat(stock_label_list)\n",
    "# whole_label_df.to_pickle(f'{benchmark}_{train_start_date}_{test_end_date}_label.pickle')"
   ]
  },
  {
   "cell_type": "code",
   "execution_count": 7,
   "metadata": {},
   "outputs": [],
   "source": [
    "factor_alpha_184_columns = [f\"alpha_184_{i+1}\" for i in range(184)]\n",
    "feature_config = {\n",
    "    \"numeric_features\": ['turnover_rate', 'pe_ttm', 'ps_ttm', 'pcf_ncf_ttm', 'pb_mrq'] + factor_alpha_184_columns,\n",
    "    \"integer_categorical_features\": ['month'],\n",
    "    \"string_categorical_features\": ['industry', 'season'],\n",
    "}\n",
    "full_feature_columns = ['code', 'code_name', 'datetime', 'high', 'low', 'close'] + [i for feas in feature_config.values() for i in feas]"
   ]
  },
  {
   "cell_type": "code",
   "execution_count": 8,
   "metadata": {},
   "outputs": [],
   "source": [
    "# 进行基本的数据清理\n",
    "def base_dataframe_cleaner(dataframe):\n",
    "    stock_df = dataframe.copy()\n",
    "    stock_df = stock_df.replace(\"\", np.NaN).ffill()\n",
    "    stock_df = stock_df.replace([np.inf, -np.inf], np.nan)\n",
    "    stock_df = stock_df.dropna(axis=1, how='all') # 过滤特征列全为空的column\n",
    "    stock_df = stock_df.dropna() # 剔除包含空值的行\n",
    "    return stock_df"
   ]
  },
  {
   "cell_type": "code",
   "execution_count": 9,
   "metadata": {},
   "outputs": [
    {
     "data": {
      "text/plain": [
       "(170869, 199)"
      ]
     },
     "execution_count": 9,
     "metadata": {},
     "output_type": "execute_result"
    }
   ],
   "source": [
    "# 从本地加载Base数据\n",
    "stock_base_df_raw = pd.read_pickle('./000016_2006-01-01_2024-12-31_base.pickle')\n",
    "stock_base_df = base_dataframe_cleaner(stock_base_df_raw[full_feature_columns])\n",
    "# 从本地加载Label数据\n",
    "stock_label_df = pd.read_pickle('./000016_2006-01-01_2024-12-31_label.pickle')\n",
    "stock_merge_df = stock_base_df.merge(stock_label_df, on=['code', 'datetime'])\n",
    "stock_merge_df.shape"
   ]
  },
  {
   "cell_type": "code",
   "execution_count": 10,
   "metadata": {},
   "outputs": [],
   "source": [
    "def calculate_downtrend_label(group, rate):\n",
    "    group['downtrend'] = 0  # 初始化新列为0\n",
    "    # 计算 True Range（TR）\n",
    "    group['h-l'] = group['high'] - group['low']\n",
    "    group['h-yc'] = abs(group['high'] - group['close'].shift(1))\n",
    "    group['l-yc'] = abs(group['low'] - group['close'].shift(1))\n",
    "    group['TR'] = group[['h-l', 'h-yc', 'l-yc']].max(axis=1)\n",
    "    # 设定 ATR 的计算周期\n",
    "    n = 14\n",
    "    # 计算 ATR\n",
    "    group['ATR'] = group['TR'].rolling(window=n, min_periods=1).mean()\n",
    "\n",
    "    group['high_loss'] = group['close']\n",
    "    group['low_loss'] = group['close']\n",
    "    for i in range(len(group)):\n",
    "        price1 = group.at[group.index[i], 'close']\n",
    "        atr = group.at[group.index[i], 'ATR']\n",
    "        low = price1 - rate * atr\n",
    "        high = price1 + rate * atr\n",
    "        future_prices = group['close'].iloc[i+1:i+15] # 获取当前日期之后14天的价格\n",
    "        group.at[group.index[i], 'high_loss'] = high\n",
    "        group.at[group.index[i], 'low_loss'] = low\n",
    "        if len(future_prices) > 0:  # 确保14天内有数据\n",
    "            if (future_prices < low).any():  # 如果14天内存在价格小于止损价\n",
    "                a = future_prices.idxmin()  # 找到第一个价格小于止损价的日期\n",
    "                if (group['close'].loc[group.index[i]:a-1] < high).all():  # 检查之前到当天的价格是否都小于最小止盈价\n",
    "                    group.at[group.index[i], 'downtrend'] = 1  # 满足条件时设置为1\n",
    "    return group\n",
    "stock_merge_label_df = stock_merge_df.sort_values(by='datetime').groupby('code', group_keys=False).apply(calculate_downtrend_label, rate=1.5)\n"
   ]
  },
  {
   "cell_type": "code",
   "execution_count": 58,
   "metadata": {},
   "outputs": [
    {
     "name": "stdout",
     "output_type": "stream",
     "text": [
      "开始拆分训练、验证、测试集合...\n",
      "train_data_size: (71297, 207)\n",
      "val_data_size: (19998, 207)\n",
      "test_data_size: (61755, 207)\n"
     ]
    }
   ],
   "source": [
    "print(\"开始拆分训练、验证、测试集合...\")\n",
    "def split_data_by_date(dataframe, start_date, end_date):\n",
    "    return dataframe[(dataframe['datetime'] >= start_date) & (dataframe['datetime'] <= end_date)]\n",
    "\n",
    "train_data = split_data_by_date(stock_merge_label_df, train_start_date, train_end_date)\n",
    "val_data = split_data_by_date(stock_merge_label_df, val_start_date, val_end_date)\n",
    "test_data = split_data_by_date(stock_merge_label_df, test_start_date, test_end_date)\n",
    "\n",
    "print(f\"train_data_size: {train_data.shape}\")\n",
    "print(f\"val_data_size: {val_data.shape}\")\n",
    "print(f\"test_data_size: {test_data.shape}\")"
   ]
  },
  {
   "cell_type": "code",
   "execution_count": 59,
   "metadata": {},
   "outputs": [
    {
     "name": "stdout",
     "output_type": "stream",
     "text": [
      "开始对特征进行预处理...\n"
     ]
    }
   ],
   "source": [
    "print(\"开始对特征进行预处理...\")\n",
    "feature_preprocess_pipeline = Pipeline(steps=[\n",
    "    ('robust_scaler', RobustScaler()),\n",
    "    ('minmax_scaler', MinMaxScaler()),\n",
    "])\n",
    "preprocess_feature_columns = feature_config.get('numeric_features', [])\n",
    "train_data[preprocess_feature_columns] = feature_preprocess_pipeline.fit_transform(train_data[preprocess_feature_columns])\n",
    "val_data[preprocess_feature_columns] = feature_preprocess_pipeline.transform(val_data[preprocess_feature_columns])\n",
    "test_data[preprocess_feature_columns] = feature_preprocess_pipeline.transform(test_data[preprocess_feature_columns])"
   ]
  },
  {
   "cell_type": "code",
   "execution_count": 14,
   "metadata": {},
   "outputs": [
    {
     "name": "stdout",
     "output_type": "stream",
     "text": [
      "开始对标签进行预处理...\n"
     ]
    }
   ],
   "source": [
    "# print(\"开始对标签进行预处理...\")\n",
    "# label_preprocess_pipeline = Pipeline(steps=[\n",
    "#     ('quantile_clipper', QuantileClipTransformer()),\n",
    "#     ('robust_scaler', RobustScaler()),\n",
    "#     ('minmax_scaler', MinMaxScaler()),\n",
    "# ])\n",
    "# preprocess_target_columns = ['label']\n",
    "# train_data[preprocess_target_columns] = label_preprocess_pipeline.fit_transform(train_data[preprocess_target_columns])\n",
    "# val_data[preprocess_target_columns] = label_preprocess_pipeline.transform(val_data[preprocess_target_columns])"
   ]
  },
  {
   "cell_type": "code",
   "execution_count": 53,
   "metadata": {},
   "outputs": [],
   "source": [
    "# train_y = train_data[['downtrend']]\n",
    "# val_y = val_data[['downtrend']]\n",
    "# test_y = test_data[['downtrend']]\n",
    "\n",
    "# train_data['industry'] = train_data['industry'].astype('category').cat.codes\n",
    "# val_data['industry'] = val_data['industry'].astype('category').cat.codes\n",
    "# test_data['industry'] = test_data['industry'].astype('category').cat.codes\n",
    "# train_data['season'] = train_data['season'].astype('category').cat.codes\n",
    "# val_data['season'] = val_data['season'].astype('category').cat.codes\n",
    "# test_data['season'] = test_data['season'].astype('category').cat.codes"
   ]
  },
  {
   "cell_type": "code",
   "execution_count": 54,
   "metadata": {},
   "outputs": [
    {
     "data": {
      "text/plain": [
       "['turnover_rate',\n",
       " 'pe_ttm',\n",
       " 'ps_ttm',\n",
       " 'pcf_ncf_ttm',\n",
       " 'pb_mrq',\n",
       " 'alpha_184_1',\n",
       " 'alpha_184_2',\n",
       " 'alpha_184_3',\n",
       " 'alpha_184_4',\n",
       " 'alpha_184_5',\n",
       " 'alpha_184_6',\n",
       " 'alpha_184_7',\n",
       " 'alpha_184_8',\n",
       " 'alpha_184_9',\n",
       " 'alpha_184_10',\n",
       " 'alpha_184_11',\n",
       " 'alpha_184_12',\n",
       " 'alpha_184_13',\n",
       " 'alpha_184_14',\n",
       " 'alpha_184_15',\n",
       " 'alpha_184_16',\n",
       " 'alpha_184_17',\n",
       " 'alpha_184_18',\n",
       " 'alpha_184_19',\n",
       " 'alpha_184_20',\n",
       " 'alpha_184_21',\n",
       " 'alpha_184_22',\n",
       " 'alpha_184_23',\n",
       " 'alpha_184_24',\n",
       " 'alpha_184_25',\n",
       " 'alpha_184_26',\n",
       " 'alpha_184_27',\n",
       " 'alpha_184_28',\n",
       " 'alpha_184_29',\n",
       " 'alpha_184_30',\n",
       " 'alpha_184_31',\n",
       " 'alpha_184_32',\n",
       " 'alpha_184_33',\n",
       " 'alpha_184_34',\n",
       " 'alpha_184_35',\n",
       " 'alpha_184_36',\n",
       " 'alpha_184_37',\n",
       " 'alpha_184_38',\n",
       " 'alpha_184_39',\n",
       " 'alpha_184_40',\n",
       " 'alpha_184_41',\n",
       " 'alpha_184_42',\n",
       " 'alpha_184_43',\n",
       " 'alpha_184_44',\n",
       " 'alpha_184_45',\n",
       " 'alpha_184_46',\n",
       " 'alpha_184_47',\n",
       " 'alpha_184_48',\n",
       " 'alpha_184_49',\n",
       " 'alpha_184_50',\n",
       " 'alpha_184_51',\n",
       " 'alpha_184_52',\n",
       " 'alpha_184_53',\n",
       " 'alpha_184_54',\n",
       " 'alpha_184_55',\n",
       " 'alpha_184_56',\n",
       " 'alpha_184_57',\n",
       " 'alpha_184_58',\n",
       " 'alpha_184_59',\n",
       " 'alpha_184_60',\n",
       " 'alpha_184_61',\n",
       " 'alpha_184_62',\n",
       " 'alpha_184_63',\n",
       " 'alpha_184_64',\n",
       " 'alpha_184_65',\n",
       " 'alpha_184_66',\n",
       " 'alpha_184_67',\n",
       " 'alpha_184_68',\n",
       " 'alpha_184_69',\n",
       " 'alpha_184_70',\n",
       " 'alpha_184_71',\n",
       " 'alpha_184_72',\n",
       " 'alpha_184_73',\n",
       " 'alpha_184_74',\n",
       " 'alpha_184_75',\n",
       " 'alpha_184_76',\n",
       " 'alpha_184_77',\n",
       " 'alpha_184_78',\n",
       " 'alpha_184_79',\n",
       " 'alpha_184_80',\n",
       " 'alpha_184_81',\n",
       " 'alpha_184_82',\n",
       " 'alpha_184_83',\n",
       " 'alpha_184_84',\n",
       " 'alpha_184_85',\n",
       " 'alpha_184_86',\n",
       " 'alpha_184_87',\n",
       " 'alpha_184_88',\n",
       " 'alpha_184_89',\n",
       " 'alpha_184_90',\n",
       " 'alpha_184_91',\n",
       " 'alpha_184_92',\n",
       " 'alpha_184_93',\n",
       " 'alpha_184_94',\n",
       " 'alpha_184_95',\n",
       " 'alpha_184_96',\n",
       " 'alpha_184_97',\n",
       " 'alpha_184_98',\n",
       " 'alpha_184_99',\n",
       " 'alpha_184_100',\n",
       " 'alpha_184_101',\n",
       " 'alpha_184_102',\n",
       " 'alpha_184_103',\n",
       " 'alpha_184_104',\n",
       " 'alpha_184_105',\n",
       " 'alpha_184_106',\n",
       " 'alpha_184_107',\n",
       " 'alpha_184_108',\n",
       " 'alpha_184_109',\n",
       " 'alpha_184_110',\n",
       " 'alpha_184_111',\n",
       " 'alpha_184_112',\n",
       " 'alpha_184_113',\n",
       " 'alpha_184_114',\n",
       " 'alpha_184_115',\n",
       " 'alpha_184_116',\n",
       " 'alpha_184_117',\n",
       " 'alpha_184_118',\n",
       " 'alpha_184_119',\n",
       " 'alpha_184_120',\n",
       " 'alpha_184_121',\n",
       " 'alpha_184_122',\n",
       " 'alpha_184_123',\n",
       " 'alpha_184_124',\n",
       " 'alpha_184_125',\n",
       " 'alpha_184_126',\n",
       " 'alpha_184_127',\n",
       " 'alpha_184_128',\n",
       " 'alpha_184_129',\n",
       " 'alpha_184_130',\n",
       " 'alpha_184_131',\n",
       " 'alpha_184_132',\n",
       " 'alpha_184_133',\n",
       " 'alpha_184_134',\n",
       " 'alpha_184_135',\n",
       " 'alpha_184_136',\n",
       " 'alpha_184_137',\n",
       " 'alpha_184_138',\n",
       " 'alpha_184_139',\n",
       " 'alpha_184_140',\n",
       " 'alpha_184_141',\n",
       " 'alpha_184_142',\n",
       " 'alpha_184_143',\n",
       " 'alpha_184_144',\n",
       " 'alpha_184_145',\n",
       " 'alpha_184_146',\n",
       " 'alpha_184_147',\n",
       " 'alpha_184_148',\n",
       " 'alpha_184_149',\n",
       " 'alpha_184_150',\n",
       " 'alpha_184_151',\n",
       " 'alpha_184_152',\n",
       " 'alpha_184_153',\n",
       " 'alpha_184_154',\n",
       " 'alpha_184_155',\n",
       " 'alpha_184_156',\n",
       " 'alpha_184_157',\n",
       " 'alpha_184_158',\n",
       " 'alpha_184_159',\n",
       " 'alpha_184_160',\n",
       " 'alpha_184_161',\n",
       " 'alpha_184_162',\n",
       " 'alpha_184_163',\n",
       " 'alpha_184_164',\n",
       " 'alpha_184_165',\n",
       " 'alpha_184_166',\n",
       " 'alpha_184_167',\n",
       " 'alpha_184_168',\n",
       " 'alpha_184_169',\n",
       " 'alpha_184_170',\n",
       " 'alpha_184_171',\n",
       " 'alpha_184_172',\n",
       " 'alpha_184_173',\n",
       " 'alpha_184_174',\n",
       " 'alpha_184_175',\n",
       " 'alpha_184_176',\n",
       " 'alpha_184_177',\n",
       " 'alpha_184_178',\n",
       " 'alpha_184_179',\n",
       " 'alpha_184_180',\n",
       " 'alpha_184_181',\n",
       " 'alpha_184_182',\n",
       " 'alpha_184_183',\n",
       " 'alpha_184_184',\n",
       " 'month',\n",
       " 'industry',\n",
       " 'season']"
      ]
     },
     "execution_count": 54,
     "metadata": {},
     "output_type": "execute_result"
    }
   ],
   "source": [
    "# all_feat_clos = []\n",
    "# [all_feat_clos.extend(x) for x in feature_config.values()]\n",
    "# all_feat_clos"
   ]
  },
  {
   "cell_type": "code",
   "execution_count": 55,
   "metadata": {},
   "outputs": [
    {
     "name": "stdout",
     "output_type": "stream",
     "text": [
      "[LightGBM] [Info] [cross_entropy:Init]: (objective) labels passed interval [0, 1] check\n",
      "[LightGBM] [Info] [cross_entropy:Init]: (metric) labels passed interval [0, 1] check\n",
      "[LightGBM] [Info] [cross_entropy:Init]: sum-of-weights = 71297.000000\n",
      "[LightGBM] [Info] Auto-choosing col-wise multi-threading, the overhead of testing was 0.417255 seconds.\n",
      "You can set `force_col_wise=true` to remove the overhead.\n",
      "[LightGBM] [Info] Total Bins 39919\n",
      "[LightGBM] [Info] Number of data points in the train set: 71297, number of used features: 191\n",
      "[LightGBM] [Info] [cross_entropy:Init]: (metric) labels passed interval [0, 1] check\n",
      "[LightGBM] [Info] [cross_entropy:Init]: sum-of-weights = 19998.000000\n",
      "[LightGBM] [Info] [cross_entropy:BoostFromScore]: pavg = 0.361039 -> initscore = -0.570857\n",
      "[LightGBM] [Info] Start training from score -0.570857\n",
      "[1]\ttraining's average_precision: 0.477901\ttraining's cross_entropy: 0.648741\tvalid_1's average_precision: 0.360691\tvalid_1's cross_entropy: 0.648311\n",
      "Training until validation scores don't improve for 10 rounds\n",
      "[2]\ttraining's average_precision: 0.51159\ttraining's cross_entropy: 0.644832\tvalid_1's average_precision: 0.363381\tvalid_1's cross_entropy: 0.647993\n",
      "[LightGBM] [Warning] No further splits with positive gain, best gain: -inf\n",
      "[3]\ttraining's average_precision: 0.523337\ttraining's cross_entropy: 0.642329\tvalid_1's average_precision: 0.365388\tvalid_1's cross_entropy: 0.647917\n",
      "[4]\ttraining's average_precision: 0.545602\ttraining's cross_entropy: 0.638333\tvalid_1's average_precision: 0.363989\tvalid_1's cross_entropy: 0.648215\n",
      "[5]\ttraining's average_precision: 0.558088\ttraining's cross_entropy: 0.634954\tvalid_1's average_precision: 0.368033\tvalid_1's cross_entropy: 0.648104\n",
      "[LightGBM] [Warning] No further splits with positive gain, best gain: -inf\n",
      "[6]\ttraining's average_precision: 0.564212\ttraining's cross_entropy: 0.632367\tvalid_1's average_precision: 0.366249\tvalid_1's cross_entropy: 0.64863\n",
      "[7]\ttraining's average_precision: 0.572485\ttraining's cross_entropy: 0.629429\tvalid_1's average_precision: 0.363163\tvalid_1's cross_entropy: 0.649111\n",
      "[8]\ttraining's average_precision: 0.578788\ttraining's cross_entropy: 0.626881\tvalid_1's average_precision: 0.365583\tvalid_1's cross_entropy: 0.64923\n",
      "[9]\ttraining's average_precision: 0.582728\ttraining's cross_entropy: 0.624584\tvalid_1's average_precision: 0.363586\tvalid_1's cross_entropy: 0.649689\n",
      "[10]\ttraining's average_precision: 0.591419\ttraining's cross_entropy: 0.622522\tvalid_1's average_precision: 0.365759\tvalid_1's cross_entropy: 0.649562\n",
      "[11]\ttraining's average_precision: 0.602501\ttraining's cross_entropy: 0.620032\tvalid_1's average_precision: 0.364806\tvalid_1's cross_entropy: 0.649891\n",
      "[12]\ttraining's average_precision: 0.609734\ttraining's cross_entropy: 0.617402\tvalid_1's average_precision: 0.364722\tvalid_1's cross_entropy: 0.650101\n",
      "[13]\ttraining's average_precision: 0.612616\ttraining's cross_entropy: 0.615458\tvalid_1's average_precision: 0.364422\tvalid_1's cross_entropy: 0.650292\n",
      "[LightGBM] [Warning] No further splits with positive gain, best gain: -inf\n",
      "[14]\ttraining's average_precision: 0.617047\ttraining's cross_entropy: 0.613443\tvalid_1's average_precision: 0.362995\tvalid_1's cross_entropy: 0.65097\n",
      "[15]\ttraining's average_precision: 0.621821\ttraining's cross_entropy: 0.611717\tvalid_1's average_precision: 0.364229\tvalid_1's cross_entropy: 0.650893\n",
      "Early stopping, best iteration is:\n",
      "[5]\ttraining's average_precision: 0.558088\ttraining's cross_entropy: 0.634954\tvalid_1's average_precision: 0.368033\tvalid_1's cross_entropy: 0.648104\n",
      "Evaluated only: average_precision\n",
      "auc: 0.5211899467942318\n"
     ]
    }
   ],
   "source": [
    "# import lightgbm as lgb\n",
    "# from sklearn.metrics import roc_auc_score\n",
    "\n",
    "# # 转换为LightGBM数据集格式\n",
    "# train_ds = lgb.Dataset(train_data[all_feat_clos], label=train_y, categorical_feature=feature_config.get('string_categorical_features', []))  # 指定类别特征的索引\n",
    "# val_ds = lgb.Dataset(val_data[all_feat_clos], label=val_y, reference=train_ds)\n",
    "# test_ds = lgb.Dataset(test_data[all_feat_clos], label=test_y, reference=train_ds)\n",
    "\n",
    "# # 定义参数\n",
    "# params = {\n",
    "#     'objective': 'cross_entropy',\n",
    "#     'metric': 'average_precision,cross_entropy,',\n",
    "#     'num_leaves': 45,\n",
    "#     'learning_rate': 0.1,\n",
    "#     'max_depth': 6,\n",
    "#     'feature_fraction':0.8\n",
    "# }\n",
    "# eval_dict = {}\n",
    "\n",
    "# # 训练模型\n",
    "# model = lgb.train(params, train_ds, valid_sets=[train_ds, val_ds], num_boost_round=1000, callbacks=[lgb.early_stopping(stopping_rounds=10, first_metric_only=True), lgb.log_evaluation(), lgb.record_evaluation(eval_dict)])\n",
    "\n",
    "# # 使用训练好的模型进行预测\n",
    "# y_pred = model.predict(val_data[all_feat_clos], num_iteration=model.best_iteration)\n",
    "\n",
    "# # 评估模型性能\n",
    "# auc = roc_auc_score(val_y, y_pred)\n",
    "# print('auc:', auc)\n",
    "\n"
   ]
  },
  {
   "cell_type": "code",
   "execution_count": 61,
   "metadata": {},
   "outputs": [
    {
     "name": "stdout",
     "output_type": "stream",
     "text": [
      "开始将DataFrame转换为DataSet...\n"
     ]
    }
   ],
   "source": [
    "# 转换为tensorflow所使用的dataset\n",
    "print(\"开始将DataFrame转换为DataSet...\")\n",
    "batch_size = 1024\n",
    "feature_columns = feature_config.get('numeric_features', []) + feature_config.get('integer_categorical_features', []) + feature_config.get('string_categorical_features', [])\n",
    "label_columns = ['downtrend']\n",
    "# 将data转换为dataset\n",
    "train_ds = df_to_dataset(train_data, feature_columns, label_columns, shuffle=True, batch_size=batch_size)\n",
    "val_ds = df_to_dataset(val_data, feature_columns, label_columns, shuffle=False, batch_size=batch_size)\n",
    "test_ds = df_to_dataset(test_data, feature_columns, None, shuffle=False, batch_size=batch_size)"
   ]
  },
  {
   "cell_type": "code",
   "execution_count": 88,
   "metadata": {},
   "outputs": [
    {
     "name": "stdout",
     "output_type": "stream",
     "text": [
      "开始模型初始化 & 训练...\n",
      "Epoch 1/500\n",
      "70/70 [==============================] - 59s 367ms/step - loss: 71.0193 - auc_19: 0.5036 - precision_19: 0.3626 - binary_accuracy: 0.3765 - val_loss: 35.6697 - val_auc_19: 0.5008 - val_precision_19: 0.3517 - val_binary_accuracy: 0.4007\n",
      "Epoch 2/500\n",
      "70/70 [==============================] - 15s 212ms/step - loss: 25.2629 - auc_19: 0.5069 - precision_19: 0.3646 - binary_accuracy: 0.4505 - val_loss: 19.4653 - val_auc_19: 0.5003 - val_precision_19: 0.3524 - val_binary_accuracy: 0.4738\n",
      "Epoch 3/500\n",
      "70/70 [==============================] - 15s 208ms/step - loss: 16.8916 - auc_19: 0.5080 - precision_19: 0.3666 - binary_accuracy: 0.4958 - val_loss: 15.4415 - val_auc_19: 0.5019 - val_precision_19: 0.3522 - val_binary_accuracy: 0.4987\n",
      "Epoch 4/500\n",
      "70/70 [==============================] - 14s 206ms/step - loss: 13.8912 - auc_19: 0.5106 - precision_19: 0.3701 - binary_accuracy: 0.5173 - val_loss: 13.1776 - val_auc_19: 0.5032 - val_precision_19: 0.3541 - val_binary_accuracy: 0.5181\n",
      "Epoch 5/500\n",
      "70/70 [==============================] - 15s 210ms/step - loss: 11.9354 - auc_19: 0.5131 - precision_19: 0.3738 - binary_accuracy: 0.5326 - val_loss: 11.4232 - val_auc_19: 0.5025 - val_precision_19: 0.3534 - val_binary_accuracy: 0.5328\n",
      "Epoch 6/500\n",
      "70/70 [==============================] - 15s 213ms/step - loss: 10.3378 - auc_19: 0.5161 - precision_19: 0.3770 - binary_accuracy: 0.5451 - val_loss: 9.9585 - val_auc_19: 0.5017 - val_precision_19: 0.3524 - val_binary_accuracy: 0.5417\n",
      "Epoch 7/500\n",
      "70/70 [==============================] - 15s 212ms/step - loss: 9.0036 - auc_19: 0.5221 - precision_19: 0.3855 - binary_accuracy: 0.5590 - val_loss: 8.8663 - val_auc_19: 0.5016 - val_precision_19: 0.3516 - val_binary_accuracy: 0.5468\n",
      "Epoch 8/500\n",
      "70/70 [==============================] - 15s 210ms/step - loss: 7.9052 - auc_19: 0.5308 - precision_19: 0.3942 - binary_accuracy: 0.5705 - val_loss: 8.0788 - val_auc_19: 0.5027 - val_precision_19: 0.3555 - val_binary_accuracy: 0.5552\n",
      "Epoch 9/500\n",
      "70/70 [==============================] - 15s 210ms/step - loss: 6.9259 - auc_19: 0.5465 - precision_19: 0.4116 - binary_accuracy: 0.5847 - val_loss: 7.4092 - val_auc_19: 0.5037 - val_precision_19: 0.3561 - val_binary_accuracy: 0.5605\n",
      "Epoch 10/500\n",
      "70/70 [==============================] - 15s 209ms/step - loss: 6.0537 - auc_19: 0.5633 - precision_19: 0.4320 - binary_accuracy: 0.5987 - val_loss: 6.9135 - val_auc_19: 0.5037 - val_precision_19: 0.3558 - val_binary_accuracy: 0.5656\n",
      "Epoch 11/500\n",
      "70/70 [==============================] - 15s 208ms/step - loss: 5.2282 - auc_19: 0.5851 - precision_19: 0.4595 - binary_accuracy: 0.6152 - val_loss: 6.4799 - val_auc_19: 0.5043 - val_precision_19: 0.3568 - val_binary_accuracy: 0.5719\n",
      "Epoch 12/500\n",
      "70/70 [==============================] - 15s 207ms/step - loss: 4.5173 - auc_19: 0.6111 - precision_19: 0.4887 - binary_accuracy: 0.6323 - val_loss: 6.0452 - val_auc_19: 0.5032 - val_precision_19: 0.3556 - val_binary_accuracy: 0.5772\n",
      "Epoch 13/500\n",
      "70/70 [==============================] - 15s 209ms/step - loss: 3.8801 - auc_19: 0.6390 - precision_19: 0.5186 - binary_accuracy: 0.6499 - val_loss: 5.6118 - val_auc_19: 0.5042 - val_precision_19: 0.3582 - val_binary_accuracy: 0.5823\n",
      "Epoch 14/500\n",
      "70/70 [==============================] - 15s 210ms/step - loss: 3.3036 - auc_19: 0.6688 - precision_19: 0.5508 - binary_accuracy: 0.6693 - val_loss: 5.1665 - val_auc_19: 0.5063 - val_precision_19: 0.3618 - val_binary_accuracy: 0.5893\n",
      "Epoch 15/500\n",
      "70/70 [==============================] - 15s 209ms/step - loss: 2.8314 - auc_19: 0.6963 - precision_19: 0.5799 - binary_accuracy: 0.6872 - val_loss: 4.8224 - val_auc_19: 0.5067 - val_precision_19: 0.3618 - val_binary_accuracy: 0.5904\n",
      "Epoch 16/500\n",
      "70/70 [==============================] - 15s 208ms/step - loss: 2.4750 - auc_19: 0.7206 - precision_19: 0.6082 - binary_accuracy: 0.7048 - val_loss: 4.4898 - val_auc_19: 0.5083 - val_precision_19: 0.3642 - val_binary_accuracy: 0.5915\n",
      "Epoch 17/500\n",
      "70/70 [==============================] - 15s 208ms/step - loss: 2.1807 - auc_19: 0.7429 - precision_19: 0.6299 - binary_accuracy: 0.7190 - val_loss: 4.2583 - val_auc_19: 0.5089 - val_precision_19: 0.3633 - val_binary_accuracy: 0.5907\n",
      "Epoch 18/500\n",
      "70/70 [==============================] - 15s 210ms/step - loss: 1.9424 - auc_19: 0.7628 - precision_19: 0.6549 - binary_accuracy: 0.7347 - val_loss: 4.1203 - val_auc_19: 0.5099 - val_precision_19: 0.3548 - val_binary_accuracy: 0.5870\n",
      "Epoch 19/500\n",
      "70/70 [==============================] - 15s 213ms/step - loss: 1.7450 - auc_19: 0.7812 - precision_19: 0.6755 - binary_accuracy: 0.7470 - val_loss: 4.0326 - val_auc_19: 0.5077 - val_precision_19: 0.3600 - val_binary_accuracy: 0.5898\n",
      "Epoch 20/500\n",
      "70/70 [==============================] - 15s 213ms/step - loss: 1.5859 - auc_19: 0.7988 - precision_19: 0.6990 - binary_accuracy: 0.7628 - val_loss: 3.9355 - val_auc_19: 0.5089 - val_precision_19: 0.3619 - val_binary_accuracy: 0.5866\n",
      "Epoch 21/500\n",
      "70/70 [==============================] - 15s 210ms/step - loss: 1.4474 - auc_19: 0.8147 - precision_19: 0.7164 - binary_accuracy: 0.7736 - val_loss: 3.9051 - val_auc_19: 0.5094 - val_precision_19: 0.3607 - val_binary_accuracy: 0.5892\n",
      "Epoch 22/500\n",
      "70/70 [==============================] - 15s 213ms/step - loss: 1.3242 - auc_19: 0.8308 - precision_19: 0.7367 - binary_accuracy: 0.7863 - val_loss: 3.8226 - val_auc_19: 0.5066 - val_precision_19: 0.3572 - val_binary_accuracy: 0.5858\n",
      "Epoch 23/500\n",
      "70/70 [==============================] - 15s 212ms/step - loss: 1.2538 - auc_19: 0.8378 - precision_19: 0.7464 - binary_accuracy: 0.7927 - val_loss: 3.7818 - val_auc_19: 0.5092 - val_precision_19: 0.3606 - val_binary_accuracy: 0.5869\n",
      "Epoch 24/500\n",
      "70/70 [==============================] - 15s 207ms/step - loss: 1.1383 - auc_19: 0.8532 - precision_19: 0.7627 - binary_accuracy: 0.8039 - val_loss: 3.7760 - val_auc_19: 0.5052 - val_precision_19: 0.3547 - val_binary_accuracy: 0.5848\n",
      "Epoch 25/500\n",
      "70/70 [==============================] - 15s 208ms/step - loss: 1.0529 - auc_19: 0.8630 - precision_19: 0.7771 - binary_accuracy: 0.8131 - val_loss: 3.8110 - val_auc_19: 0.5071 - val_precision_19: 0.3595 - val_binary_accuracy: 0.5908\n",
      "Epoch 26/500\n",
      "70/70 [==============================] - 15s 208ms/step - loss: 0.9816 - auc_19: 0.8715 - precision_19: 0.7911 - binary_accuracy: 0.8210 - val_loss: 3.8047 - val_auc_19: 0.5069 - val_precision_19: 0.3619 - val_binary_accuracy: 0.5912\n",
      "Epoch 27/500\n",
      "70/70 [==============================] - 15s 212ms/step - loss: 0.9088 - auc_19: 0.8830 - precision_19: 0.8051 - binary_accuracy: 0.8322 - val_loss: 3.7136 - val_auc_19: 0.5081 - val_precision_19: 0.3639 - val_binary_accuracy: 0.5888\n",
      "Epoch 28/500\n",
      "70/70 [==============================] - 15s 212ms/step - loss: 0.8551 - auc_19: 0.8896 - precision_19: 0.8169 - binary_accuracy: 0.8384 - val_loss: 3.7363 - val_auc_19: 0.5067 - val_precision_19: 0.3604 - val_binary_accuracy: 0.5867\n",
      "Epoch 29/500\n",
      "70/70 [==============================] - 15s 211ms/step - loss: 0.7767 - auc_19: 0.9000 - precision_19: 0.8250 - binary_accuracy: 0.8448 - val_loss: 3.7786 - val_auc_19: 0.5056 - val_precision_19: 0.3617 - val_binary_accuracy: 0.5882\n",
      "Epoch 30/500\n",
      "70/70 [==============================] - 14s 206ms/step - loss: 0.7314 - auc_19: 0.9079 - precision_19: 0.8383 - binary_accuracy: 0.8552 - val_loss: 3.7793 - val_auc_19: 0.5096 - val_precision_19: 0.3656 - val_binary_accuracy: 0.5906\n",
      "Epoch 31/500\n",
      "70/70 [==============================] - 15s 211ms/step - loss: 0.6837 - auc_19: 0.9144 - precision_19: 0.8468 - binary_accuracy: 0.8604 - val_loss: 3.7431 - val_auc_19: 0.5083 - val_precision_19: 0.3564 - val_binary_accuracy: 0.5779\n",
      "Epoch 32/500\n",
      "70/70 [==============================] - 15s 207ms/step - loss: 0.6571 - auc_19: 0.9185 - precision_19: 0.8558 - binary_accuracy: 0.8666 - val_loss: 3.7858 - val_auc_19: 0.5060 - val_precision_19: 0.3632 - val_binary_accuracy: 0.5887\n",
      "Epoch 33/500\n",
      "70/70 [==============================] - 15s 208ms/step - loss: 0.6179 - auc_19: 0.9238 - precision_19: 0.8615 - binary_accuracy: 0.8718 - val_loss: 3.8328 - val_auc_19: 0.5067 - val_precision_19: 0.3616 - val_binary_accuracy: 0.5876\n",
      "Epoch 34/500\n",
      "70/70 [==============================] - 15s 210ms/step - loss: 0.5650 - auc_19: 0.9309 - precision_19: 0.8714 - binary_accuracy: 0.8773 - val_loss: 3.8127 - val_auc_19: 0.5079 - val_precision_19: 0.3583 - val_binary_accuracy: 0.5856\n",
      "Epoch 35/500\n",
      "70/70 [==============================] - 15s 211ms/step - loss: 0.5401 - auc_19: 0.9358 - precision_19: 0.8752 - binary_accuracy: 0.8821 - val_loss: 3.8745 - val_auc_19: 0.5075 - val_precision_19: 0.3549 - val_binary_accuracy: 0.5829\n",
      "Epoch 36/500\n",
      "70/70 [==============================] - 15s 213ms/step - loss: 0.5087 - auc_19: 0.9393 - precision_19: 0.8828 - binary_accuracy: 0.8877 - val_loss: 3.9203 - val_auc_19: 0.5098 - val_precision_19: 0.3599 - val_binary_accuracy: 0.5877\n",
      "Epoch 37/500\n",
      "70/70 [==============================] - ETA: 0s - loss: 0.4921 - auc_19: 0.9416 - precision_19: 0.8878 - binary_accuracy: 0.8916Restoring model weights from the end of the best epoch: 27.\n",
      "70/70 [==============================] - 15s 214ms/step - loss: 0.4921 - auc_19: 0.9416 - precision_19: 0.8878 - binary_accuracy: 0.8916 - val_loss: 3.8155 - val_auc_19: 0.5117 - val_precision_19: 0.3652 - val_binary_accuracy: 0.5865\n",
      "Epoch 37: early stopping\n"
     ]
    }
   ],
   "source": [
    "# 准备模型训练\n",
    "print(\"开始模型初始化 & 训练...\")\n",
    "from models.single_task.model_moe_classification import QuantModel\n",
    "\n",
    "model_config = {\n",
    "        \"seed\": 1024,\n",
    "        \"feature_use_embedding\": True,\n",
    "        \"feature_embedding_dims\": 4,\n",
    "        \"numeric_features_with_boundaries\": {k: pd.qcut(train_data[k], q=20, retbins=True, duplicates='drop')[1].tolist() for k in feature_config.get('numeric_features', [])},\n",
    "        \"integer_categorical_features_with_vocab\": {k: list(train_data[k].unique()) for k in feature_config.get('integer_categorical_features', [])},\n",
    "        \"string_categorical_features_with_vocab\": {k: list(train_data[k].unique()) for k in feature_config.get('string_categorical_features', [])},\n",
    "    }\n",
    "model = QuantModel(config=model_config)\n",
    "\n",
    "initial_learning_rate = 5e-4\n",
    "t = 0.45\n",
    "\n",
    "model.compile(\n",
    "    optimizer=tf.keras.optimizers.Adam(initial_learning_rate),\n",
    "    loss=tf.keras.losses.BinaryCrossentropy(),\n",
    "    metrics=[tf.keras.metrics.AUC(),\n",
    "             tf.keras.metrics.Precision(thresholds=t),\n",
    "             tf.keras.metrics.BinaryAccuracy(threshold=t)\n",
    "             ]\n",
    "    )\n",
    "\n",
    "EPOCHS = 500\n",
    "\n",
    "early_stopping = tf.keras.callbacks.EarlyStopping(\n",
    "    monitor='val_loss', \n",
    "    verbose=1,\n",
    "    patience=10,\n",
    "    mode='min',\n",
    "    restore_best_weights=True)\n",
    "\n",
    "baseline_history = model.fit(\n",
    "    train_ds,\n",
    "    validation_data=val_ds,\n",
    "    epochs=EPOCHS,\n",
    "    callbacks = [early_stopping],\n",
    ")"
   ]
  },
  {
   "cell_type": "code",
   "execution_count": 89,
   "metadata": {},
   "outputs": [
    {
     "name": "stdout",
     "output_type": "stream",
     "text": [
      "开始保存回测预测结果...\n",
      "61/61 [==============================] - 7s 65ms/step\n"
     ]
    }
   ],
   "source": [
    "print(\"开始保存回测预测结果...\")\n",
    "model_pred_result = model.predict(test_ds)\n",
    "output_df = test_data[['code', 'code_name', 'datetime']]\n",
    "output_df['label_pred'] = model_pred_result\n",
    "output_df = output_df.rename(columns={\n",
    "    'code': 'stock_code',\n",
    "    'code_name': 'stock_name'\n",
    "})\n",
    "# output_df.to_pickle(f'../../Offline/backtest/backtest_data/test/{benchmark}_{test_start_date}_分类任务_v6.pkl') "
   ]
  },
  {
   "cell_type": "code",
   "execution_count": 22,
   "metadata": {},
   "outputs": [
    {
     "data": {
      "text/plain": [
       "0.35148514851485146"
      ]
     },
     "execution_count": 22,
     "metadata": {},
     "output_type": "execute_result"
    }
   ],
   "source": [
    "val_data['downtrend'].sum()/val_data['downtrend'].count()"
   ]
  },
  {
   "cell_type": "code",
   "execution_count": 92,
   "metadata": {},
   "outputs": [
    {
     "data": {
      "text/plain": [
       "0.809672236442566"
      ]
     },
     "execution_count": 92,
     "metadata": {},
     "output_type": "execute_result"
    }
   ],
   "source": [
    "# plot_series_dist(output_df['label_pred'])\n",
    "output_df['label_pred'].quantile(0.78)"
   ]
  },
  {
   "cell_type": "code",
   "execution_count": 93,
   "metadata": {},
   "outputs": [
    {
     "data": {
      "text/html": [
       "<div>\n",
       "<style scoped>\n",
       "    .dataframe tbody tr th:only-of-type {\n",
       "        vertical-align: middle;\n",
       "    }\n",
       "\n",
       "    .dataframe tbody tr th {\n",
       "        vertical-align: top;\n",
       "    }\n",
       "\n",
       "    .dataframe thead th {\n",
       "        text-align: right;\n",
       "    }\n",
       "</style>\n",
       "<table border=\"1\" class=\"dataframe\">\n",
       "  <thead>\n",
       "    <tr style=\"text-align: right;\">\n",
       "      <th></th>\n",
       "      <th>stock_code</th>\n",
       "      <th>stock_name</th>\n",
       "      <th>datetime</th>\n",
       "      <th>label_pred</th>\n",
       "    </tr>\n",
       "  </thead>\n",
       "  <tbody>\n",
       "    <tr>\n",
       "      <th>107959</th>\n",
       "      <td>sh.601288</td>\n",
       "      <td>农业银行</td>\n",
       "      <td>2024-03-08</td>\n",
       "      <td>9.999571e-01</td>\n",
       "    </tr>\n",
       "    <tr>\n",
       "      <th>146064</th>\n",
       "      <td>sh.601888</td>\n",
       "      <td>中国中免</td>\n",
       "      <td>2024-03-08</td>\n",
       "      <td>9.996482e-01</td>\n",
       "    </tr>\n",
       "    <tr>\n",
       "      <th>39206</th>\n",
       "      <td>sh.600111</td>\n",
       "      <td>北方稀土</td>\n",
       "      <td>2024-03-08</td>\n",
       "      <td>9.868326e-01</td>\n",
       "    </tr>\n",
       "    <tr>\n",
       "      <th>86322</th>\n",
       "      <td>sh.600893</td>\n",
       "      <td>航发动力</td>\n",
       "      <td>2024-03-08</td>\n",
       "      <td>9.831203e-01</td>\n",
       "    </tr>\n",
       "    <tr>\n",
       "      <th>73757</th>\n",
       "      <td>sh.600690</td>\n",
       "      <td>海尔智家</td>\n",
       "      <td>2024-03-08</td>\n",
       "      <td>9.785581e-01</td>\n",
       "    </tr>\n",
       "    <tr>\n",
       "      <th>97941</th>\n",
       "      <td>sh.601088</td>\n",
       "      <td>中国神华</td>\n",
       "      <td>2024-03-08</td>\n",
       "      <td>4.883349e-01</td>\n",
       "    </tr>\n",
       "    <tr>\n",
       "      <th>91089</th>\n",
       "      <td>sh.600905</td>\n",
       "      <td>三峡能源</td>\n",
       "      <td>2024-03-08</td>\n",
       "      <td>3.163901e-01</td>\n",
       "    </tr>\n",
       "    <tr>\n",
       "      <th>137933</th>\n",
       "      <td>sh.601669</td>\n",
       "      <td>中国电建</td>\n",
       "      <td>2024-03-08</td>\n",
       "      <td>1.981530e-01</td>\n",
       "    </tr>\n",
       "    <tr>\n",
       "      <th>149913</th>\n",
       "      <td>sh.601899</td>\n",
       "      <td>紫金矿业</td>\n",
       "      <td>2024-03-08</td>\n",
       "      <td>1.060798e-01</td>\n",
       "    </tr>\n",
       "    <tr>\n",
       "      <th>167865</th>\n",
       "      <td>sh.688041</td>\n",
       "      <td>海光信息</td>\n",
       "      <td>2024-03-08</td>\n",
       "      <td>3.496948e-02</td>\n",
       "    </tr>\n",
       "    <tr>\n",
       "      <th>131419</th>\n",
       "      <td>sh.601633</td>\n",
       "      <td>长城汽车</td>\n",
       "      <td>2024-03-08</td>\n",
       "      <td>1.712002e-02</td>\n",
       "    </tr>\n",
       "    <tr>\n",
       "      <th>52173</th>\n",
       "      <td>sh.600309</td>\n",
       "      <td>万华化学</td>\n",
       "      <td>2024-03-08</td>\n",
       "      <td>8.805784e-03</td>\n",
       "    </tr>\n",
       "    <tr>\n",
       "      <th>65068</th>\n",
       "      <td>sh.600438</td>\n",
       "      <td>通威股份</td>\n",
       "      <td>2024-03-08</td>\n",
       "      <td>8.368131e-03</td>\n",
       "    </tr>\n",
       "    <tr>\n",
       "      <th>69454</th>\n",
       "      <td>sh.600519</td>\n",
       "      <td>贵州茅台</td>\n",
       "      <td>2024-03-08</td>\n",
       "      <td>7.810093e-03</td>\n",
       "    </tr>\n",
       "    <tr>\n",
       "      <th>56421</th>\n",
       "      <td>sh.600406</td>\n",
       "      <td>国电南瑞</td>\n",
       "      <td>2024-03-08</td>\n",
       "      <td>5.157260e-03</td>\n",
       "    </tr>\n",
       "    <tr>\n",
       "      <th>104609</th>\n",
       "      <td>sh.601225</td>\n",
       "      <td>陕西煤业</td>\n",
       "      <td>2024-03-08</td>\n",
       "      <td>4.616024e-03</td>\n",
       "    </tr>\n",
       "    <tr>\n",
       "      <th>167444</th>\n",
       "      <td>sh.603986</td>\n",
       "      <td>兆易创新</td>\n",
       "      <td>2024-03-08</td>\n",
       "      <td>2.746747e-03</td>\n",
       "    </tr>\n",
       "    <tr>\n",
       "      <th>26137</th>\n",
       "      <td>sh.600050</td>\n",
       "      <td>中国联通</td>\n",
       "      <td>2024-03-08</td>\n",
       "      <td>7.243983e-04</td>\n",
       "    </tr>\n",
       "    <tr>\n",
       "      <th>120208</th>\n",
       "      <td>sh.601398</td>\n",
       "      <td>工商银行</td>\n",
       "      <td>2024-03-08</td>\n",
       "      <td>3.991796e-04</td>\n",
       "    </tr>\n",
       "    <tr>\n",
       "      <th>93978</th>\n",
       "      <td>sh.601012</td>\n",
       "      <td>隆基绿能</td>\n",
       "      <td>2024-03-08</td>\n",
       "      <td>2.815601e-04</td>\n",
       "    </tr>\n",
       "    <tr>\n",
       "      <th>21815</th>\n",
       "      <td>sh.600048</td>\n",
       "      <td>保利发展</td>\n",
       "      <td>2024-03-08</td>\n",
       "      <td>2.477485e-04</td>\n",
       "    </tr>\n",
       "    <tr>\n",
       "      <th>102109</th>\n",
       "      <td>sh.601166</td>\n",
       "      <td>兴业银行</td>\n",
       "      <td>2024-03-08</td>\n",
       "      <td>7.242777e-05</td>\n",
       "    </tr>\n",
       "    <tr>\n",
       "      <th>163595</th>\n",
       "      <td>sh.603501</td>\n",
       "      <td>韦尔股份</td>\n",
       "      <td>2024-03-08</td>\n",
       "      <td>6.507923e-05</td>\n",
       "    </tr>\n",
       "    <tr>\n",
       "      <th>112073</th>\n",
       "      <td>sh.601318</td>\n",
       "      <td>中国平安</td>\n",
       "      <td>2024-03-08</td>\n",
       "      <td>4.609586e-05</td>\n",
       "    </tr>\n",
       "    <tr>\n",
       "      <th>43485</th>\n",
       "      <td>sh.600150</td>\n",
       "      <td>中国船舶</td>\n",
       "      <td>2024-03-08</td>\n",
       "      <td>4.055596e-05</td>\n",
       "    </tr>\n",
       "    <tr>\n",
       "      <th>153820</th>\n",
       "      <td>sh.601919</td>\n",
       "      <td>中远海控</td>\n",
       "      <td>2024-03-08</td>\n",
       "      <td>6.263929e-06</td>\n",
       "    </tr>\n",
       "    <tr>\n",
       "      <th>60822</th>\n",
       "      <td>sh.600436</td>\n",
       "      <td>片仔癀</td>\n",
       "      <td>2024-03-08</td>\n",
       "      <td>1.744011e-06</td>\n",
       "    </tr>\n",
       "    <tr>\n",
       "      <th>128383</th>\n",
       "      <td>sh.601628</td>\n",
       "      <td>中国人寿</td>\n",
       "      <td>2024-03-08</td>\n",
       "      <td>1.054304e-06</td>\n",
       "    </tr>\n",
       "    <tr>\n",
       "      <th>78162</th>\n",
       "      <td>sh.600809</td>\n",
       "      <td>山西汾酒</td>\n",
       "      <td>2024-03-08</td>\n",
       "      <td>1.006353e-06</td>\n",
       "    </tr>\n",
       "    <tr>\n",
       "      <th>170827</th>\n",
       "      <td>sh.688981</td>\n",
       "      <td>中芯国际</td>\n",
       "      <td>2024-03-08</td>\n",
       "      <td>8.995318e-07</td>\n",
       "    </tr>\n",
       "    <tr>\n",
       "      <th>30419</th>\n",
       "      <td>sh.600089</td>\n",
       "      <td>特变电工</td>\n",
       "      <td>2024-03-08</td>\n",
       "      <td>7.288816e-07</td>\n",
       "    </tr>\n",
       "    <tr>\n",
       "      <th>124179</th>\n",
       "      <td>sh.601601</td>\n",
       "      <td>中国太保</td>\n",
       "      <td>2024-03-08</td>\n",
       "      <td>7.204001e-07</td>\n",
       "    </tr>\n",
       "    <tr>\n",
       "      <th>159581</th>\n",
       "      <td>sh.603259</td>\n",
       "      <td>药明康德</td>\n",
       "      <td>2024-03-08</td>\n",
       "      <td>7.181632e-07</td>\n",
       "    </tr>\n",
       "    <tr>\n",
       "      <th>17520</th>\n",
       "      <td>sh.600036</td>\n",
       "      <td>招商银行</td>\n",
       "      <td>2024-03-08</td>\n",
       "      <td>7.036785e-07</td>\n",
       "    </tr>\n",
       "    <tr>\n",
       "      <th>158136</th>\n",
       "      <td>sh.601988</td>\n",
       "      <td>中国银行</td>\n",
       "      <td>2024-03-08</td>\n",
       "      <td>3.968909e-07</td>\n",
       "    </tr>\n",
       "    <tr>\n",
       "      <th>169901</th>\n",
       "      <td>sh.688599</td>\n",
       "      <td>天合光能</td>\n",
       "      <td>2024-03-08</td>\n",
       "      <td>7.110241e-08</td>\n",
       "    </tr>\n",
       "    <tr>\n",
       "      <th>82522</th>\n",
       "      <td>sh.600887</td>\n",
       "      <td>伊利股份</td>\n",
       "      <td>2024-03-08</td>\n",
       "      <td>3.895095e-08</td>\n",
       "    </tr>\n",
       "    <tr>\n",
       "      <th>34789</th>\n",
       "      <td>sh.600104</td>\n",
       "      <td>上汽集团</td>\n",
       "      <td>2024-03-08</td>\n",
       "      <td>2.751278e-08</td>\n",
       "    </tr>\n",
       "    <tr>\n",
       "      <th>138588</th>\n",
       "      <td>sh.601728</td>\n",
       "      <td>中国电信</td>\n",
       "      <td>2024-03-08</td>\n",
       "      <td>7.227058e-09</td>\n",
       "    </tr>\n",
       "    <tr>\n",
       "      <th>165797</th>\n",
       "      <td>sh.603799</td>\n",
       "      <td>华友钴业</td>\n",
       "      <td>2024-03-08</td>\n",
       "      <td>1.493696e-09</td>\n",
       "    </tr>\n",
       "    <tr>\n",
       "      <th>13120</th>\n",
       "      <td>sh.600031</td>\n",
       "      <td>三一重工</td>\n",
       "      <td>2024-03-08</td>\n",
       "      <td>1.154213e-09</td>\n",
       "    </tr>\n",
       "    <tr>\n",
       "      <th>162076</th>\n",
       "      <td>sh.603288</td>\n",
       "      <td>海天味业</td>\n",
       "      <td>2024-03-08</td>\n",
       "      <td>6.274293e-10</td>\n",
       "    </tr>\n",
       "    <tr>\n",
       "      <th>142594</th>\n",
       "      <td>sh.601857</td>\n",
       "      <td>中国石油</td>\n",
       "      <td>2024-03-08</td>\n",
       "      <td>4.820606e-10</td>\n",
       "    </tr>\n",
       "    <tr>\n",
       "      <th>8698</th>\n",
       "      <td>sh.600030</td>\n",
       "      <td>中信证券</td>\n",
       "      <td>2024-03-08</td>\n",
       "      <td>4.085510e-10</td>\n",
       "    </tr>\n",
       "    <tr>\n",
       "      <th>47903</th>\n",
       "      <td>sh.600276</td>\n",
       "      <td>恒瑞医药</td>\n",
       "      <td>2024-03-08</td>\n",
       "      <td>3.015789e-10</td>\n",
       "    </tr>\n",
       "    <tr>\n",
       "      <th>90386</th>\n",
       "      <td>sh.600900</td>\n",
       "      <td>长江电力</td>\n",
       "      <td>2024-03-08</td>\n",
       "      <td>2.192977e-10</td>\n",
       "    </tr>\n",
       "    <tr>\n",
       "      <th>135002</th>\n",
       "      <td>sh.601668</td>\n",
       "      <td>中国建筑</td>\n",
       "      <td>2024-03-08</td>\n",
       "      <td>2.624463e-11</td>\n",
       "    </tr>\n",
       "    <tr>\n",
       "      <th>168951</th>\n",
       "      <td>sh.688111</td>\n",
       "      <td>金山办公</td>\n",
       "      <td>2024-03-08</td>\n",
       "      <td>6.286589e-12</td>\n",
       "    </tr>\n",
       "    <tr>\n",
       "      <th>4314</th>\n",
       "      <td>sh.600028</td>\n",
       "      <td>中国石化</td>\n",
       "      <td>2024-03-08</td>\n",
       "      <td>6.029777e-13</td>\n",
       "    </tr>\n",
       "    <tr>\n",
       "      <th>115969</th>\n",
       "      <td>sh.601390</td>\n",
       "      <td>中国中铁</td>\n",
       "      <td>2024-03-08</td>\n",
       "      <td>5.027899e-14</td>\n",
       "    </tr>\n",
       "  </tbody>\n",
       "</table>\n",
       "</div>"
      ],
      "text/plain": [
       "       stock_code stock_name    datetime    label_pred\n",
       "107959  sh.601288       农业银行  2024-03-08  9.999571e-01\n",
       "146064  sh.601888       中国中免  2024-03-08  9.996482e-01\n",
       "39206   sh.600111       北方稀土  2024-03-08  9.868326e-01\n",
       "86322   sh.600893       航发动力  2024-03-08  9.831203e-01\n",
       "73757   sh.600690       海尔智家  2024-03-08  9.785581e-01\n",
       "97941   sh.601088       中国神华  2024-03-08  4.883349e-01\n",
       "91089   sh.600905       三峡能源  2024-03-08  3.163901e-01\n",
       "137933  sh.601669       中国电建  2024-03-08  1.981530e-01\n",
       "149913  sh.601899       紫金矿业  2024-03-08  1.060798e-01\n",
       "167865  sh.688041       海光信息  2024-03-08  3.496948e-02\n",
       "131419  sh.601633       长城汽车  2024-03-08  1.712002e-02\n",
       "52173   sh.600309       万华化学  2024-03-08  8.805784e-03\n",
       "65068   sh.600438       通威股份  2024-03-08  8.368131e-03\n",
       "69454   sh.600519       贵州茅台  2024-03-08  7.810093e-03\n",
       "56421   sh.600406       国电南瑞  2024-03-08  5.157260e-03\n",
       "104609  sh.601225       陕西煤业  2024-03-08  4.616024e-03\n",
       "167444  sh.603986       兆易创新  2024-03-08  2.746747e-03\n",
       "26137   sh.600050       中国联通  2024-03-08  7.243983e-04\n",
       "120208  sh.601398       工商银行  2024-03-08  3.991796e-04\n",
       "93978   sh.601012       隆基绿能  2024-03-08  2.815601e-04\n",
       "21815   sh.600048       保利发展  2024-03-08  2.477485e-04\n",
       "102109  sh.601166       兴业银行  2024-03-08  7.242777e-05\n",
       "163595  sh.603501       韦尔股份  2024-03-08  6.507923e-05\n",
       "112073  sh.601318       中国平安  2024-03-08  4.609586e-05\n",
       "43485   sh.600150       中国船舶  2024-03-08  4.055596e-05\n",
       "153820  sh.601919       中远海控  2024-03-08  6.263929e-06\n",
       "60822   sh.600436        片仔癀  2024-03-08  1.744011e-06\n",
       "128383  sh.601628       中国人寿  2024-03-08  1.054304e-06\n",
       "78162   sh.600809       山西汾酒  2024-03-08  1.006353e-06\n",
       "170827  sh.688981       中芯国际  2024-03-08  8.995318e-07\n",
       "30419   sh.600089       特变电工  2024-03-08  7.288816e-07\n",
       "124179  sh.601601       中国太保  2024-03-08  7.204001e-07\n",
       "159581  sh.603259       药明康德  2024-03-08  7.181632e-07\n",
       "17520   sh.600036       招商银行  2024-03-08  7.036785e-07\n",
       "158136  sh.601988       中国银行  2024-03-08  3.968909e-07\n",
       "169901  sh.688599       天合光能  2024-03-08  7.110241e-08\n",
       "82522   sh.600887       伊利股份  2024-03-08  3.895095e-08\n",
       "34789   sh.600104       上汽集团  2024-03-08  2.751278e-08\n",
       "138588  sh.601728       中国电信  2024-03-08  7.227058e-09\n",
       "165797  sh.603799       华友钴业  2024-03-08  1.493696e-09\n",
       "13120   sh.600031       三一重工  2024-03-08  1.154213e-09\n",
       "162076  sh.603288       海天味业  2024-03-08  6.274293e-10\n",
       "142594  sh.601857       中国石油  2024-03-08  4.820606e-10\n",
       "8698    sh.600030       中信证券  2024-03-08  4.085510e-10\n",
       "47903   sh.600276       恒瑞医药  2024-03-08  3.015789e-10\n",
       "90386   sh.600900       长江电力  2024-03-08  2.192977e-10\n",
       "135002  sh.601668       中国建筑  2024-03-08  2.624463e-11\n",
       "168951  sh.688111       金山办公  2024-03-08  6.286589e-12\n",
       "4314    sh.600028       中国石化  2024-03-08  6.029777e-13\n",
       "115969  sh.601390       中国中铁  2024-03-08  5.027899e-14"
      ]
     },
     "execution_count": 93,
     "metadata": {},
     "output_type": "execute_result"
    }
   ],
   "source": [
    "# plot_series_dist(output_df['label_pred'])\n",
    "output_df[output_df['datetime'] == '2024-03-08'].sort_values(by='label_pred', ascending=False)\n",
    "# output_df"
   ]
  },
  {
   "cell_type": "markdown",
   "metadata": {},
   "source": [
    "## 保存模型、预处理等模块"
   ]
  },
  {
   "cell_type": "code",
   "execution_count": 20,
   "metadata": {},
   "outputs": [
    {
     "name": "stdout",
     "output_type": "stream",
     "text": [
      "WARNING:tensorflow:Skipping full serialization of Keras layer <keras.src.layers.reshaping.flatten.Flatten object at 0x14df70e27f70>, because it is not built.\n",
      "INFO:tensorflow:Unsupported signature for serialization: ((TensorSpec(shape=(227, 75), dtype=tf.float32, name='gradient'), <tensorflow.python.framework.func_graph.UnknownArgument object at 0x14df70ad0160>, 22949907461008), {}).\n"
     ]
    },
    {
     "name": "stderr",
     "output_type": "stream",
     "text": [
      "INFO:tensorflow:Unsupported signature for serialization: ((TensorSpec(shape=(227, 75), dtype=tf.float32, name='gradient'), <tensorflow.python.framework.func_graph.UnknownArgument object at 0x14df70ad0160>, 22949907461008), {}).\n"
     ]
    },
    {
     "name": "stdout",
     "output_type": "stream",
     "text": [
      "INFO:tensorflow:Unsupported signature for serialization: ((TensorSpec(shape=(75, 227), dtype=tf.float32, name='gradient'), <tensorflow.python.framework.func_graph.UnknownArgument object at 0x14df70c3c7f0>, 22949907460816), {}).\n"
     ]
    },
    {
     "name": "stderr",
     "output_type": "stream",
     "text": [
      "INFO:tensorflow:Unsupported signature for serialization: ((TensorSpec(shape=(75, 227), dtype=tf.float32, name='gradient'), <tensorflow.python.framework.func_graph.UnknownArgument object at 0x14df70c3c7f0>, 22949907460816), {}).\n"
     ]
    },
    {
     "name": "stdout",
     "output_type": "stream",
     "text": [
      "INFO:tensorflow:Unsupported signature for serialization: ((TensorSpec(shape=(227, 64), dtype=tf.float32, name='gradient'), <tensorflow.python.framework.func_graph.UnknownArgument object at 0x14df70c403a0>, 22949910358976), {}).\n"
     ]
    },
    {
     "name": "stderr",
     "output_type": "stream",
     "text": [
      "INFO:tensorflow:Unsupported signature for serialization: ((TensorSpec(shape=(227, 64), dtype=tf.float32, name='gradient'), <tensorflow.python.framework.func_graph.UnknownArgument object at 0x14df70c403a0>, 22949910358976), {}).\n"
     ]
    },
    {
     "name": "stdout",
     "output_type": "stream",
     "text": [
      "INFO:tensorflow:Unsupported signature for serialization: ((TensorSpec(shape=(64,), dtype=tf.float32, name='gradient'), <tensorflow.python.framework.func_graph.UnknownArgument object at 0x14df70c16370>, 22949905254800), {}).\n"
     ]
    },
    {
     "name": "stderr",
     "output_type": "stream",
     "text": [
      "INFO:tensorflow:Unsupported signature for serialization: ((TensorSpec(shape=(64,), dtype=tf.float32, name='gradient'), <tensorflow.python.framework.func_graph.UnknownArgument object at 0x14df70c16370>, 22949905254800), {}).\n"
     ]
    },
    {
     "name": "stdout",
     "output_type": "stream",
     "text": [
      "INFO:tensorflow:Unsupported signature for serialization: ((TensorSpec(shape=(64, 32), dtype=tf.float32, name='gradient'), <tensorflow.python.framework.func_graph.UnknownArgument object at 0x14df707e9910>, 22949905211600), {}).\n"
     ]
    },
    {
     "name": "stderr",
     "output_type": "stream",
     "text": [
      "INFO:tensorflow:Unsupported signature for serialization: ((TensorSpec(shape=(64, 32), dtype=tf.float32, name='gradient'), <tensorflow.python.framework.func_graph.UnknownArgument object at 0x14df707e9910>, 22949905211600), {}).\n"
     ]
    },
    {
     "name": "stdout",
     "output_type": "stream",
     "text": [
      "INFO:tensorflow:Unsupported signature for serialization: ((TensorSpec(shape=(32,), dtype=tf.float32, name='gradient'), <tensorflow.python.framework.func_graph.UnknownArgument object at 0x14df70a9b850>, 22949905212160), {}).\n"
     ]
    },
    {
     "name": "stderr",
     "output_type": "stream",
     "text": [
      "INFO:tensorflow:Unsupported signature for serialization: ((TensorSpec(shape=(32,), dtype=tf.float32, name='gradient'), <tensorflow.python.framework.func_graph.UnknownArgument object at 0x14df70a9b850>, 22949905212160), {}).\n"
     ]
    },
    {
     "name": "stdout",
     "output_type": "stream",
     "text": [
      "INFO:tensorflow:Unsupported signature for serialization: ((TensorSpec(shape=(64,), dtype=tf.float32, name='gradient'), <tensorflow.python.framework.func_graph.UnknownArgument object at 0x14df70aa5850>, 22949906038480), {}).\n"
     ]
    },
    {
     "name": "stderr",
     "output_type": "stream",
     "text": [
      "INFO:tensorflow:Unsupported signature for serialization: ((TensorSpec(shape=(64,), dtype=tf.float32, name='gradient'), <tensorflow.python.framework.func_graph.UnknownArgument object at 0x14df70aa5850>, 22949906038480), {}).\n"
     ]
    },
    {
     "name": "stdout",
     "output_type": "stream",
     "text": [
      "INFO:tensorflow:Unsupported signature for serialization: ((TensorSpec(shape=(64,), dtype=tf.float32, name='gradient'), <tensorflow.python.framework.func_graph.UnknownArgument object at 0x14df70eaf850>, 22949905248304), {}).\n"
     ]
    },
    {
     "name": "stderr",
     "output_type": "stream",
     "text": [
      "INFO:tensorflow:Unsupported signature for serialization: ((TensorSpec(shape=(64,), dtype=tf.float32, name='gradient'), <tensorflow.python.framework.func_graph.UnknownArgument object at 0x14df70eaf850>, 22949905248304), {}).\n"
     ]
    },
    {
     "name": "stdout",
     "output_type": "stream",
     "text": [
      "INFO:tensorflow:Unsupported signature for serialization: ((TensorSpec(shape=(32,), dtype=tf.float32, name='gradient'), <tensorflow.python.framework.func_graph.UnknownArgument object at 0x14df70e9c850>, 22949905068272), {}).\n"
     ]
    },
    {
     "name": "stderr",
     "output_type": "stream",
     "text": [
      "INFO:tensorflow:Unsupported signature for serialization: ((TensorSpec(shape=(32,), dtype=tf.float32, name='gradient'), <tensorflow.python.framework.func_graph.UnknownArgument object at 0x14df70e9c850>, 22949905068272), {}).\n"
     ]
    },
    {
     "name": "stdout",
     "output_type": "stream",
     "text": [
      "INFO:tensorflow:Unsupported signature for serialization: ((TensorSpec(shape=(32,), dtype=tf.float32, name='gradient'), <tensorflow.python.framework.func_graph.UnknownArgument object at 0x14df70e9f850>, 22949905068656), {}).\n"
     ]
    },
    {
     "name": "stderr",
     "output_type": "stream",
     "text": [
      "INFO:tensorflow:Unsupported signature for serialization: ((TensorSpec(shape=(32,), dtype=tf.float32, name='gradient'), <tensorflow.python.framework.func_graph.UnknownArgument object at 0x14df70e9f850>, 22949905068656), {}).\n"
     ]
    },
    {
     "name": "stdout",
     "output_type": "stream",
     "text": [
      "INFO:tensorflow:Unsupported signature for serialization: ((TensorSpec(shape=(227, 75), dtype=tf.float32, name='gradient'), <tensorflow.python.framework.func_graph.UnknownArgument object at 0x14df70e867f0>, 22949910556176), {}).\n"
     ]
    },
    {
     "name": "stderr",
     "output_type": "stream",
     "text": [
      "INFO:tensorflow:Unsupported signature for serialization: ((TensorSpec(shape=(227, 75), dtype=tf.float32, name='gradient'), <tensorflow.python.framework.func_graph.UnknownArgument object at 0x14df70e867f0>, 22949910556176), {}).\n"
     ]
    },
    {
     "name": "stdout",
     "output_type": "stream",
     "text": [
      "INFO:tensorflow:Unsupported signature for serialization: ((TensorSpec(shape=(75, 227), dtype=tf.float32, name='gradient'), <tensorflow.python.framework.func_graph.UnknownArgument object at 0x14df705ed790>, 22949910556368), {}).\n"
     ]
    },
    {
     "name": "stderr",
     "output_type": "stream",
     "text": [
      "INFO:tensorflow:Unsupported signature for serialization: ((TensorSpec(shape=(75, 227), dtype=tf.float32, name='gradient'), <tensorflow.python.framework.func_graph.UnknownArgument object at 0x14df705ed790>, 22949910556368), {}).\n"
     ]
    },
    {
     "name": "stdout",
     "output_type": "stream",
     "text": [
      "INFO:tensorflow:Unsupported signature for serialization: ((TensorSpec(shape=(227, 64), dtype=tf.float32, name='gradient'), <tensorflow.python.framework.func_graph.UnknownArgument object at 0x14df705f6730>, 22949910385648), {}).\n"
     ]
    },
    {
     "name": "stderr",
     "output_type": "stream",
     "text": [
      "INFO:tensorflow:Unsupported signature for serialization: ((TensorSpec(shape=(227, 64), dtype=tf.float32, name='gradient'), <tensorflow.python.framework.func_graph.UnknownArgument object at 0x14df705f6730>, 22949910385648), {}).\n"
     ]
    },
    {
     "name": "stdout",
     "output_type": "stream",
     "text": [
      "INFO:tensorflow:Unsupported signature for serialization: ((TensorSpec(shape=(64,), dtype=tf.float32, name='gradient'), <tensorflow.python.framework.func_graph.UnknownArgument object at 0x14df705c9730>, 22949910383472), {}).\n"
     ]
    },
    {
     "name": "stderr",
     "output_type": "stream",
     "text": [
      "INFO:tensorflow:Unsupported signature for serialization: ((TensorSpec(shape=(64,), dtype=tf.float32, name='gradient'), <tensorflow.python.framework.func_graph.UnknownArgument object at 0x14df705c9730>, 22949910383472), {}).\n"
     ]
    },
    {
     "name": "stdout",
     "output_type": "stream",
     "text": [
      "INFO:tensorflow:Unsupported signature for serialization: ((TensorSpec(shape=(64, 32), dtype=tf.float32, name='gradient'), <tensorflow.python.framework.func_graph.UnknownArgument object at 0x14df70b776d0>, 22949910458976), {}).\n"
     ]
    },
    {
     "name": "stderr",
     "output_type": "stream",
     "text": [
      "INFO:tensorflow:Unsupported signature for serialization: ((TensorSpec(shape=(64, 32), dtype=tf.float32, name='gradient'), <tensorflow.python.framework.func_graph.UnknownArgument object at 0x14df70b776d0>, 22949910458976), {}).\n"
     ]
    },
    {
     "name": "stdout",
     "output_type": "stream",
     "text": [
      "INFO:tensorflow:Unsupported signature for serialization: ((TensorSpec(shape=(32,), dtype=tf.float32, name='gradient'), <tensorflow.python.framework.func_graph.UnknownArgument object at 0x14df70b5e700>, 22949910459536), {}).\n"
     ]
    },
    {
     "name": "stderr",
     "output_type": "stream",
     "text": [
      "INFO:tensorflow:Unsupported signature for serialization: ((TensorSpec(shape=(32,), dtype=tf.float32, name='gradient'), <tensorflow.python.framework.func_graph.UnknownArgument object at 0x14df70b5e700>, 22949910459536), {}).\n"
     ]
    },
    {
     "name": "stdout",
     "output_type": "stream",
     "text": [
      "INFO:tensorflow:Unsupported signature for serialization: ((TensorSpec(shape=(64,), dtype=tf.float32, name='gradient'), <tensorflow.python.framework.func_graph.UnknownArgument object at 0x14df70b4a700>, 22949910435280), {}).\n"
     ]
    },
    {
     "name": "stderr",
     "output_type": "stream",
     "text": [
      "INFO:tensorflow:Unsupported signature for serialization: ((TensorSpec(shape=(64,), dtype=tf.float32, name='gradient'), <tensorflow.python.framework.func_graph.UnknownArgument object at 0x14df70b4a700>, 22949910435280), {}).\n"
     ]
    },
    {
     "name": "stdout",
     "output_type": "stream",
     "text": [
      "INFO:tensorflow:Unsupported signature for serialization: ((TensorSpec(shape=(64,), dtype=tf.float32, name='gradient'), <tensorflow.python.framework.func_graph.UnknownArgument object at 0x14df70b59700>, 22949910435760), {}).\n"
     ]
    },
    {
     "name": "stderr",
     "output_type": "stream",
     "text": [
      "INFO:tensorflow:Unsupported signature for serialization: ((TensorSpec(shape=(64,), dtype=tf.float32, name='gradient'), <tensorflow.python.framework.func_graph.UnknownArgument object at 0x14df70b59700>, 22949910435760), {}).\n"
     ]
    },
    {
     "name": "stdout",
     "output_type": "stream",
     "text": [
      "INFO:tensorflow:Unsupported signature for serialization: ((TensorSpec(shape=(32,), dtype=tf.float32, name='gradient'), <tensorflow.python.framework.func_graph.UnknownArgument object at 0x14df70bef700>, 22949910414608), {}).\n"
     ]
    },
    {
     "name": "stderr",
     "output_type": "stream",
     "text": [
      "INFO:tensorflow:Unsupported signature for serialization: ((TensorSpec(shape=(32,), dtype=tf.float32, name='gradient'), <tensorflow.python.framework.func_graph.UnknownArgument object at 0x14df70bef700>, 22949910414608), {}).\n"
     ]
    },
    {
     "name": "stdout",
     "output_type": "stream",
     "text": [
      "INFO:tensorflow:Unsupported signature for serialization: ((TensorSpec(shape=(32,), dtype=tf.float32, name='gradient'), <tensorflow.python.framework.func_graph.UnknownArgument object at 0x14df70bdb700>, 22949910415376), {}).\n"
     ]
    },
    {
     "name": "stderr",
     "output_type": "stream",
     "text": [
      "INFO:tensorflow:Unsupported signature for serialization: ((TensorSpec(shape=(32,), dtype=tf.float32, name='gradient'), <tensorflow.python.framework.func_graph.UnknownArgument object at 0x14df70bdb700>, 22949910415376), {}).\n"
     ]
    },
    {
     "name": "stdout",
     "output_type": "stream",
     "text": [
      "INFO:tensorflow:Unsupported signature for serialization: ((TensorSpec(shape=(227, 75), dtype=tf.float32, name='gradient'), <tensorflow.python.framework.func_graph.UnknownArgument object at 0x14df70c006a0>, 22949910523600), {}).\n"
     ]
    },
    {
     "name": "stderr",
     "output_type": "stream",
     "text": [
      "INFO:tensorflow:Unsupported signature for serialization: ((TensorSpec(shape=(227, 75), dtype=tf.float32, name='gradient'), <tensorflow.python.framework.func_graph.UnknownArgument object at 0x14df70c006a0>, 22949910523600), {}).\n"
     ]
    },
    {
     "name": "stdout",
     "output_type": "stream",
     "text": [
      "INFO:tensorflow:Unsupported signature for serialization: ((TensorSpec(shape=(75, 227), dtype=tf.float32, name='gradient'), <tensorflow.python.framework.func_graph.UnknownArgument object at 0x14e08ffa8640>, 22949910520912), {}).\n"
     ]
    },
    {
     "name": "stderr",
     "output_type": "stream",
     "text": [
      "INFO:tensorflow:Unsupported signature for serialization: ((TensorSpec(shape=(75, 227), dtype=tf.float32, name='gradient'), <tensorflow.python.framework.func_graph.UnknownArgument object at 0x14e08ffa8640>, 22949910520912), {}).\n"
     ]
    },
    {
     "name": "stdout",
     "output_type": "stream",
     "text": [
      "INFO:tensorflow:Unsupported signature for serialization: ((TensorSpec(shape=(227, 64), dtype=tf.float32, name='gradient'), <tensorflow.python.framework.func_graph.UnknownArgument object at 0x14e08ffba5e0>, 22949900235440), {}).\n"
     ]
    },
    {
     "name": "stderr",
     "output_type": "stream",
     "text": [
      "INFO:tensorflow:Unsupported signature for serialization: ((TensorSpec(shape=(227, 64), dtype=tf.float32, name='gradient'), <tensorflow.python.framework.func_graph.UnknownArgument object at 0x14e08ffba5e0>, 22949900235440), {}).\n"
     ]
    },
    {
     "name": "stdout",
     "output_type": "stream",
     "text": [
      "INFO:tensorflow:Unsupported signature for serialization: ((TensorSpec(shape=(64,), dtype=tf.float32, name='gradient'), <tensorflow.python.framework.func_graph.UnknownArgument object at 0x14e08ffcf5e0>, 22949900234800), {}).\n"
     ]
    },
    {
     "name": "stderr",
     "output_type": "stream",
     "text": [
      "INFO:tensorflow:Unsupported signature for serialization: ((TensorSpec(shape=(64,), dtype=tf.float32, name='gradient'), <tensorflow.python.framework.func_graph.UnknownArgument object at 0x14e08ffcf5e0>, 22949900234800), {}).\n"
     ]
    },
    {
     "name": "stdout",
     "output_type": "stream",
     "text": [
      "INFO:tensorflow:Unsupported signature for serialization: ((TensorSpec(shape=(64, 32), dtype=tf.float32, name='gradient'), <tensorflow.python.framework.func_graph.UnknownArgument object at 0x14df70f61640>, 22949910461536), {}).\n"
     ]
    },
    {
     "name": "stderr",
     "output_type": "stream",
     "text": [
      "INFO:tensorflow:Unsupported signature for serialization: ((TensorSpec(shape=(64, 32), dtype=tf.float32, name='gradient'), <tensorflow.python.framework.func_graph.UnknownArgument object at 0x14df70f61640>, 22949910461536), {}).\n"
     ]
    },
    {
     "name": "stdout",
     "output_type": "stream",
     "text": [
      "INFO:tensorflow:Unsupported signature for serialization: ((TensorSpec(shape=(32,), dtype=tf.float32, name='gradient'), <tensorflow.python.framework.func_graph.UnknownArgument object at 0x14df71020370>, 22949910460656), {}).\n"
     ]
    },
    {
     "name": "stderr",
     "output_type": "stream",
     "text": [
      "INFO:tensorflow:Unsupported signature for serialization: ((TensorSpec(shape=(32,), dtype=tf.float32, name='gradient'), <tensorflow.python.framework.func_graph.UnknownArgument object at 0x14df71020370>, 22949910460656), {}).\n"
     ]
    },
    {
     "name": "stdout",
     "output_type": "stream",
     "text": [
      "INFO:tensorflow:Unsupported signature for serialization: ((TensorSpec(shape=(64,), dtype=tf.float32, name='gradient'), <tensorflow.python.framework.func_graph.UnknownArgument object at 0x14df713b8850>, 22949910416624), {}).\n"
     ]
    },
    {
     "name": "stderr",
     "output_type": "stream",
     "text": [
      "INFO:tensorflow:Unsupported signature for serialization: ((TensorSpec(shape=(64,), dtype=tf.float32, name='gradient'), <tensorflow.python.framework.func_graph.UnknownArgument object at 0x14df713b8850>, 22949910416624), {}).\n"
     ]
    },
    {
     "name": "stdout",
     "output_type": "stream",
     "text": [
      "INFO:tensorflow:Unsupported signature for serialization: ((TensorSpec(shape=(64,), dtype=tf.float32, name='gradient'), <tensorflow.python.framework.func_graph.UnknownArgument object at 0x14df70b1f400>, 22949910416144), {}).\n"
     ]
    },
    {
     "name": "stderr",
     "output_type": "stream",
     "text": [
      "INFO:tensorflow:Unsupported signature for serialization: ((TensorSpec(shape=(64,), dtype=tf.float32, name='gradient'), <tensorflow.python.framework.func_graph.UnknownArgument object at 0x14df70b1f400>, 22949910416144), {}).\n"
     ]
    },
    {
     "name": "stdout",
     "output_type": "stream",
     "text": [
      "INFO:tensorflow:Unsupported signature for serialization: ((TensorSpec(shape=(32,), dtype=tf.float32, name='gradient'), <tensorflow.python.framework.func_graph.UnknownArgument object at 0x14df70ff5a30>, 22949910434704), {}).\n"
     ]
    },
    {
     "name": "stderr",
     "output_type": "stream",
     "text": [
      "INFO:tensorflow:Unsupported signature for serialization: ((TensorSpec(shape=(32,), dtype=tf.float32, name='gradient'), <tensorflow.python.framework.func_graph.UnknownArgument object at 0x14df70ff5a30>, 22949910434704), {}).\n"
     ]
    },
    {
     "name": "stdout",
     "output_type": "stream",
     "text": [
      "INFO:tensorflow:Unsupported signature for serialization: ((TensorSpec(shape=(32,), dtype=tf.float32, name='gradient'), <tensorflow.python.framework.func_graph.UnknownArgument object at 0x14df71616730>, 22949900100688), {}).\n"
     ]
    },
    {
     "name": "stderr",
     "output_type": "stream",
     "text": [
      "INFO:tensorflow:Unsupported signature for serialization: ((TensorSpec(shape=(32,), dtype=tf.float32, name='gradient'), <tensorflow.python.framework.func_graph.UnknownArgument object at 0x14df71616730>, 22949900100688), {}).\n"
     ]
    },
    {
     "name": "stdout",
     "output_type": "stream",
     "text": [
      "INFO:tensorflow:Unsupported signature for serialization: ((TensorSpec(shape=(227, 3), dtype=tf.float32, name='gradient'), <tensorflow.python.framework.func_graph.UnknownArgument object at 0x14df70c3c6a0>, 22949905536144), {}).\n"
     ]
    },
    {
     "name": "stderr",
     "output_type": "stream",
     "text": [
      "INFO:tensorflow:Unsupported signature for serialization: ((TensorSpec(shape=(227, 3), dtype=tf.float32, name='gradient'), <tensorflow.python.framework.func_graph.UnknownArgument object at 0x14df70c3c6a0>, 22949905536144), {}).\n"
     ]
    },
    {
     "name": "stdout",
     "output_type": "stream",
     "text": [
      "INFO:tensorflow:Unsupported signature for serialization: ((TensorSpec(shape=(3,), dtype=tf.float32, name='gradient'), <tensorflow.python.framework.func_graph.UnknownArgument object at 0x14df712e4a90>, 22949905536464), {}).\n"
     ]
    },
    {
     "name": "stderr",
     "output_type": "stream",
     "text": [
      "INFO:tensorflow:Unsupported signature for serialization: ((TensorSpec(shape=(3,), dtype=tf.float32, name='gradient'), <tensorflow.python.framework.func_graph.UnknownArgument object at 0x14df712e4a90>, 22949905536464), {}).\n"
     ]
    },
    {
     "name": "stdout",
     "output_type": "stream",
     "text": [
      "INFO:tensorflow:Unsupported signature for serialization: ((TensorSpec(shape=(32, 64), dtype=tf.float32, name='gradient'), <tensorflow.python.framework.func_graph.UnknownArgument object at 0x14df712e9040>, 22949900262640), {}).\n"
     ]
    },
    {
     "name": "stderr",
     "output_type": "stream",
     "text": [
      "INFO:tensorflow:Unsupported signature for serialization: ((TensorSpec(shape=(32, 64), dtype=tf.float32, name='gradient'), <tensorflow.python.framework.func_graph.UnknownArgument object at 0x14df712e9040>, 22949900262640), {}).\n"
     ]
    },
    {
     "name": "stdout",
     "output_type": "stream",
     "text": [
      "INFO:tensorflow:Unsupported signature for serialization: ((TensorSpec(shape=(64,), dtype=tf.float32, name='gradient'), <tensorflow.python.framework.func_graph.UnknownArgument object at 0x14df710c9670>, 22949900263024), {}).\n"
     ]
    },
    {
     "name": "stderr",
     "output_type": "stream",
     "text": [
      "INFO:tensorflow:Unsupported signature for serialization: ((TensorSpec(shape=(64,), dtype=tf.float32, name='gradient'), <tensorflow.python.framework.func_graph.UnknownArgument object at 0x14df710c9670>, 22949900263024), {}).\n"
     ]
    },
    {
     "name": "stdout",
     "output_type": "stream",
     "text": [
      "INFO:tensorflow:Unsupported signature for serialization: ((TensorSpec(shape=(64, 32), dtype=tf.float32, name='gradient'), <tensorflow.python.framework.func_graph.UnknownArgument object at 0x14df711bda30>, 22949905341488), {}).\n"
     ]
    },
    {
     "name": "stderr",
     "output_type": "stream",
     "text": [
      "INFO:tensorflow:Unsupported signature for serialization: ((TensorSpec(shape=(64, 32), dtype=tf.float32, name='gradient'), <tensorflow.python.framework.func_graph.UnknownArgument object at 0x14df711bda30>, 22949905341488), {}).\n"
     ]
    },
    {
     "name": "stdout",
     "output_type": "stream",
     "text": [
      "INFO:tensorflow:Unsupported signature for serialization: ((TensorSpec(shape=(32,), dtype=tf.float32, name='gradient'), <tensorflow.python.framework.func_graph.UnknownArgument object at 0x14df7114e0d0>, 22949905341008), {}).\n"
     ]
    },
    {
     "name": "stderr",
     "output_type": "stream",
     "text": [
      "INFO:tensorflow:Unsupported signature for serialization: ((TensorSpec(shape=(32,), dtype=tf.float32, name='gradient'), <tensorflow.python.framework.func_graph.UnknownArgument object at 0x14df7114e0d0>, 22949905341008), {}).\n"
     ]
    },
    {
     "name": "stdout",
     "output_type": "stream",
     "text": [
      "INFO:tensorflow:Unsupported signature for serialization: ((TensorSpec(shape=(64,), dtype=tf.float32, name='gradient'), <tensorflow.python.framework.func_graph.UnknownArgument object at 0x14df7114cd30>, 22949900184688), {}).\n"
     ]
    },
    {
     "name": "stderr",
     "output_type": "stream",
     "text": [
      "INFO:tensorflow:Unsupported signature for serialization: ((TensorSpec(shape=(64,), dtype=tf.float32, name='gradient'), <tensorflow.python.framework.func_graph.UnknownArgument object at 0x14df7114cd30>, 22949900184688), {}).\n"
     ]
    },
    {
     "name": "stdout",
     "output_type": "stream",
     "text": [
      "INFO:tensorflow:Unsupported signature for serialization: ((TensorSpec(shape=(64,), dtype=tf.float32, name='gradient'), <tensorflow.python.framework.func_graph.UnknownArgument object at 0x14df711823d0>, 22949900185472), {}).\n"
     ]
    },
    {
     "name": "stderr",
     "output_type": "stream",
     "text": [
      "INFO:tensorflow:Unsupported signature for serialization: ((TensorSpec(shape=(64,), dtype=tf.float32, name='gradient'), <tensorflow.python.framework.func_graph.UnknownArgument object at 0x14df711823d0>, 22949900185472), {}).\n"
     ]
    },
    {
     "name": "stdout",
     "output_type": "stream",
     "text": [
      "INFO:tensorflow:Unsupported signature for serialization: ((TensorSpec(shape=(32,), dtype=tf.float32, name='gradient'), <tensorflow.python.framework.func_graph.UnknownArgument object at 0x14df710048e0>, 22949905474480), {}).\n"
     ]
    },
    {
     "name": "stderr",
     "output_type": "stream",
     "text": [
      "INFO:tensorflow:Unsupported signature for serialization: ((TensorSpec(shape=(32,), dtype=tf.float32, name='gradient'), <tensorflow.python.framework.func_graph.UnknownArgument object at 0x14df710048e0>, 22949905474480), {}).\n"
     ]
    },
    {
     "name": "stdout",
     "output_type": "stream",
     "text": [
      "INFO:tensorflow:Unsupported signature for serialization: ((TensorSpec(shape=(32,), dtype=tf.float32, name='gradient'), <tensorflow.python.framework.func_graph.UnknownArgument object at 0x14df71654070>, 22949905475264), {}).\n"
     ]
    },
    {
     "name": "stderr",
     "output_type": "stream",
     "text": [
      "INFO:tensorflow:Unsupported signature for serialization: ((TensorSpec(shape=(32,), dtype=tf.float32, name='gradient'), <tensorflow.python.framework.func_graph.UnknownArgument object at 0x14df71654070>, 22949905475264), {}).\n"
     ]
    },
    {
     "name": "stdout",
     "output_type": "stream",
     "text": [
      "INFO:tensorflow:Unsupported signature for serialization: ((TensorSpec(shape=(189, 1), dtype=tf.float32, name='gradient'), <tensorflow.python.framework.func_graph.UnknownArgument object at 0x14df7146adc0>, 22949906114560), {}).\n"
     ]
    },
    {
     "name": "stderr",
     "output_type": "stream",
     "text": [
      "INFO:tensorflow:Unsupported signature for serialization: ((TensorSpec(shape=(189, 1), dtype=tf.float32, name='gradient'), <tensorflow.python.framework.func_graph.UnknownArgument object at 0x14df7146adc0>, 22949906114560), {}).\n"
     ]
    },
    {
     "name": "stdout",
     "output_type": "stream",
     "text": [
      "INFO:tensorflow:Unsupported signature for serialization: ((TensorSpec(shape=(1,), dtype=tf.float32, name='gradient'), <tensorflow.python.framework.func_graph.UnknownArgument object at 0x14df7166f130>, 22949906200256), {}).\n"
     ]
    },
    {
     "name": "stderr",
     "output_type": "stream",
     "text": [
      "INFO:tensorflow:Unsupported signature for serialization: ((TensorSpec(shape=(1,), dtype=tf.float32, name='gradient'), <tensorflow.python.framework.func_graph.UnknownArgument object at 0x14df7166f130>, 22949906200256), {}).\n"
     ]
    },
    {
     "name": "stdout",
     "output_type": "stream",
     "text": [
      "INFO:tensorflow:Unsupported signature for serialization: ((TensorSpec(shape=(32, 1), dtype=tf.float32, name='gradient'), <tensorflow.python.framework.func_graph.UnknownArgument object at 0x14df71660460>, 22949905526096), {}).\n"
     ]
    },
    {
     "name": "stderr",
     "output_type": "stream",
     "text": [
      "INFO:tensorflow:Unsupported signature for serialization: ((TensorSpec(shape=(32, 1), dtype=tf.float32, name='gradient'), <tensorflow.python.framework.func_graph.UnknownArgument object at 0x14df71660460>, 22949905526096), {}).\n"
     ]
    },
    {
     "name": "stdout",
     "output_type": "stream",
     "text": [
      "INFO:tensorflow:Unsupported signature for serialization: ((TensorSpec(shape=(1,), dtype=tf.float32, name='gradient'), <tensorflow.python.framework.func_graph.UnknownArgument object at 0x14df7117a9d0>, 22949905526416), {}).\n"
     ]
    },
    {
     "name": "stderr",
     "output_type": "stream",
     "text": [
      "INFO:tensorflow:Unsupported signature for serialization: ((TensorSpec(shape=(1,), dtype=tf.float32, name='gradient'), <tensorflow.python.framework.func_graph.UnknownArgument object at 0x14df7117a9d0>, 22949905526416), {}).\n"
     ]
    },
    {
     "name": "stdout",
     "output_type": "stream",
     "text": [
      "INFO:tensorflow:Unsupported signature for serialization: ((TensorSpec(shape=(227, 75), dtype=tf.float32, name='gradient'), <tensorflow.python.framework.func_graph.UnknownArgument object at 0x14df70ad0160>, 22949907461008), {}).\n"
     ]
    },
    {
     "name": "stderr",
     "output_type": "stream",
     "text": [
      "INFO:tensorflow:Unsupported signature for serialization: ((TensorSpec(shape=(227, 75), dtype=tf.float32, name='gradient'), <tensorflow.python.framework.func_graph.UnknownArgument object at 0x14df70ad0160>, 22949907461008), {}).\n"
     ]
    },
    {
     "name": "stdout",
     "output_type": "stream",
     "text": [
      "INFO:tensorflow:Unsupported signature for serialization: ((TensorSpec(shape=(75, 227), dtype=tf.float32, name='gradient'), <tensorflow.python.framework.func_graph.UnknownArgument object at 0x14df70c3c7f0>, 22949907460816), {}).\n"
     ]
    },
    {
     "name": "stderr",
     "output_type": "stream",
     "text": [
      "INFO:tensorflow:Unsupported signature for serialization: ((TensorSpec(shape=(75, 227), dtype=tf.float32, name='gradient'), <tensorflow.python.framework.func_graph.UnknownArgument object at 0x14df70c3c7f0>, 22949907460816), {}).\n"
     ]
    },
    {
     "name": "stdout",
     "output_type": "stream",
     "text": [
      "INFO:tensorflow:Unsupported signature for serialization: ((TensorSpec(shape=(227, 64), dtype=tf.float32, name='gradient'), <tensorflow.python.framework.func_graph.UnknownArgument object at 0x14df70c403a0>, 22949910358976), {}).\n"
     ]
    },
    {
     "name": "stderr",
     "output_type": "stream",
     "text": [
      "INFO:tensorflow:Unsupported signature for serialization: ((TensorSpec(shape=(227, 64), dtype=tf.float32, name='gradient'), <tensorflow.python.framework.func_graph.UnknownArgument object at 0x14df70c403a0>, 22949910358976), {}).\n"
     ]
    },
    {
     "name": "stdout",
     "output_type": "stream",
     "text": [
      "INFO:tensorflow:Unsupported signature for serialization: ((TensorSpec(shape=(64,), dtype=tf.float32, name='gradient'), <tensorflow.python.framework.func_graph.UnknownArgument object at 0x14df70c16370>, 22949905254800), {}).\n"
     ]
    },
    {
     "name": "stderr",
     "output_type": "stream",
     "text": [
      "INFO:tensorflow:Unsupported signature for serialization: ((TensorSpec(shape=(64,), dtype=tf.float32, name='gradient'), <tensorflow.python.framework.func_graph.UnknownArgument object at 0x14df70c16370>, 22949905254800), {}).\n"
     ]
    },
    {
     "name": "stdout",
     "output_type": "stream",
     "text": [
      "INFO:tensorflow:Unsupported signature for serialization: ((TensorSpec(shape=(64, 32), dtype=tf.float32, name='gradient'), <tensorflow.python.framework.func_graph.UnknownArgument object at 0x14df707e9910>, 22949905211600), {}).\n"
     ]
    },
    {
     "name": "stderr",
     "output_type": "stream",
     "text": [
      "INFO:tensorflow:Unsupported signature for serialization: ((TensorSpec(shape=(64, 32), dtype=tf.float32, name='gradient'), <tensorflow.python.framework.func_graph.UnknownArgument object at 0x14df707e9910>, 22949905211600), {}).\n"
     ]
    },
    {
     "name": "stdout",
     "output_type": "stream",
     "text": [
      "INFO:tensorflow:Unsupported signature for serialization: ((TensorSpec(shape=(32,), dtype=tf.float32, name='gradient'), <tensorflow.python.framework.func_graph.UnknownArgument object at 0x14df70a9b850>, 22949905212160), {}).\n"
     ]
    },
    {
     "name": "stderr",
     "output_type": "stream",
     "text": [
      "INFO:tensorflow:Unsupported signature for serialization: ((TensorSpec(shape=(32,), dtype=tf.float32, name='gradient'), <tensorflow.python.framework.func_graph.UnknownArgument object at 0x14df70a9b850>, 22949905212160), {}).\n"
     ]
    },
    {
     "name": "stdout",
     "output_type": "stream",
     "text": [
      "INFO:tensorflow:Unsupported signature for serialization: ((TensorSpec(shape=(64,), dtype=tf.float32, name='gradient'), <tensorflow.python.framework.func_graph.UnknownArgument object at 0x14df70aa5850>, 22949906038480), {}).\n"
     ]
    },
    {
     "name": "stderr",
     "output_type": "stream",
     "text": [
      "INFO:tensorflow:Unsupported signature for serialization: ((TensorSpec(shape=(64,), dtype=tf.float32, name='gradient'), <tensorflow.python.framework.func_graph.UnknownArgument object at 0x14df70aa5850>, 22949906038480), {}).\n"
     ]
    },
    {
     "name": "stdout",
     "output_type": "stream",
     "text": [
      "INFO:tensorflow:Unsupported signature for serialization: ((TensorSpec(shape=(64,), dtype=tf.float32, name='gradient'), <tensorflow.python.framework.func_graph.UnknownArgument object at 0x14df70eaf850>, 22949905248304), {}).\n"
     ]
    },
    {
     "name": "stderr",
     "output_type": "stream",
     "text": [
      "INFO:tensorflow:Unsupported signature for serialization: ((TensorSpec(shape=(64,), dtype=tf.float32, name='gradient'), <tensorflow.python.framework.func_graph.UnknownArgument object at 0x14df70eaf850>, 22949905248304), {}).\n"
     ]
    },
    {
     "name": "stdout",
     "output_type": "stream",
     "text": [
      "INFO:tensorflow:Unsupported signature for serialization: ((TensorSpec(shape=(32,), dtype=tf.float32, name='gradient'), <tensorflow.python.framework.func_graph.UnknownArgument object at 0x14df70e9c850>, 22949905068272), {}).\n"
     ]
    },
    {
     "name": "stderr",
     "output_type": "stream",
     "text": [
      "INFO:tensorflow:Unsupported signature for serialization: ((TensorSpec(shape=(32,), dtype=tf.float32, name='gradient'), <tensorflow.python.framework.func_graph.UnknownArgument object at 0x14df70e9c850>, 22949905068272), {}).\n"
     ]
    },
    {
     "name": "stdout",
     "output_type": "stream",
     "text": [
      "INFO:tensorflow:Unsupported signature for serialization: ((TensorSpec(shape=(32,), dtype=tf.float32, name='gradient'), <tensorflow.python.framework.func_graph.UnknownArgument object at 0x14df70e9f850>, 22949905068656), {}).\n"
     ]
    },
    {
     "name": "stderr",
     "output_type": "stream",
     "text": [
      "INFO:tensorflow:Unsupported signature for serialization: ((TensorSpec(shape=(32,), dtype=tf.float32, name='gradient'), <tensorflow.python.framework.func_graph.UnknownArgument object at 0x14df70e9f850>, 22949905068656), {}).\n"
     ]
    },
    {
     "name": "stdout",
     "output_type": "stream",
     "text": [
      "INFO:tensorflow:Unsupported signature for serialization: ((TensorSpec(shape=(227, 75), dtype=tf.float32, name='gradient'), <tensorflow.python.framework.func_graph.UnknownArgument object at 0x14df70e867f0>, 22949910556176), {}).\n"
     ]
    },
    {
     "name": "stderr",
     "output_type": "stream",
     "text": [
      "INFO:tensorflow:Unsupported signature for serialization: ((TensorSpec(shape=(227, 75), dtype=tf.float32, name='gradient'), <tensorflow.python.framework.func_graph.UnknownArgument object at 0x14df70e867f0>, 22949910556176), {}).\n"
     ]
    },
    {
     "name": "stdout",
     "output_type": "stream",
     "text": [
      "INFO:tensorflow:Unsupported signature for serialization: ((TensorSpec(shape=(75, 227), dtype=tf.float32, name='gradient'), <tensorflow.python.framework.func_graph.UnknownArgument object at 0x14df705ed790>, 22949910556368), {}).\n"
     ]
    },
    {
     "name": "stderr",
     "output_type": "stream",
     "text": [
      "INFO:tensorflow:Unsupported signature for serialization: ((TensorSpec(shape=(75, 227), dtype=tf.float32, name='gradient'), <tensorflow.python.framework.func_graph.UnknownArgument object at 0x14df705ed790>, 22949910556368), {}).\n"
     ]
    },
    {
     "name": "stdout",
     "output_type": "stream",
     "text": [
      "INFO:tensorflow:Unsupported signature for serialization: ((TensorSpec(shape=(227, 64), dtype=tf.float32, name='gradient'), <tensorflow.python.framework.func_graph.UnknownArgument object at 0x14df705f6730>, 22949910385648), {}).\n"
     ]
    },
    {
     "name": "stderr",
     "output_type": "stream",
     "text": [
      "INFO:tensorflow:Unsupported signature for serialization: ((TensorSpec(shape=(227, 64), dtype=tf.float32, name='gradient'), <tensorflow.python.framework.func_graph.UnknownArgument object at 0x14df705f6730>, 22949910385648), {}).\n"
     ]
    },
    {
     "name": "stdout",
     "output_type": "stream",
     "text": [
      "INFO:tensorflow:Unsupported signature for serialization: ((TensorSpec(shape=(64,), dtype=tf.float32, name='gradient'), <tensorflow.python.framework.func_graph.UnknownArgument object at 0x14df705c9730>, 22949910383472), {}).\n"
     ]
    },
    {
     "name": "stderr",
     "output_type": "stream",
     "text": [
      "INFO:tensorflow:Unsupported signature for serialization: ((TensorSpec(shape=(64,), dtype=tf.float32, name='gradient'), <tensorflow.python.framework.func_graph.UnknownArgument object at 0x14df705c9730>, 22949910383472), {}).\n"
     ]
    },
    {
     "name": "stdout",
     "output_type": "stream",
     "text": [
      "INFO:tensorflow:Unsupported signature for serialization: ((TensorSpec(shape=(64, 32), dtype=tf.float32, name='gradient'), <tensorflow.python.framework.func_graph.UnknownArgument object at 0x14df70b776d0>, 22949910458976), {}).\n"
     ]
    },
    {
     "name": "stderr",
     "output_type": "stream",
     "text": [
      "INFO:tensorflow:Unsupported signature for serialization: ((TensorSpec(shape=(64, 32), dtype=tf.float32, name='gradient'), <tensorflow.python.framework.func_graph.UnknownArgument object at 0x14df70b776d0>, 22949910458976), {}).\n"
     ]
    },
    {
     "name": "stdout",
     "output_type": "stream",
     "text": [
      "INFO:tensorflow:Unsupported signature for serialization: ((TensorSpec(shape=(32,), dtype=tf.float32, name='gradient'), <tensorflow.python.framework.func_graph.UnknownArgument object at 0x14df70b5e700>, 22949910459536), {}).\n"
     ]
    },
    {
     "name": "stderr",
     "output_type": "stream",
     "text": [
      "INFO:tensorflow:Unsupported signature for serialization: ((TensorSpec(shape=(32,), dtype=tf.float32, name='gradient'), <tensorflow.python.framework.func_graph.UnknownArgument object at 0x14df70b5e700>, 22949910459536), {}).\n"
     ]
    },
    {
     "name": "stdout",
     "output_type": "stream",
     "text": [
      "INFO:tensorflow:Unsupported signature for serialization: ((TensorSpec(shape=(64,), dtype=tf.float32, name='gradient'), <tensorflow.python.framework.func_graph.UnknownArgument object at 0x14df70b4a700>, 22949910435280), {}).\n"
     ]
    },
    {
     "name": "stderr",
     "output_type": "stream",
     "text": [
      "INFO:tensorflow:Unsupported signature for serialization: ((TensorSpec(shape=(64,), dtype=tf.float32, name='gradient'), <tensorflow.python.framework.func_graph.UnknownArgument object at 0x14df70b4a700>, 22949910435280), {}).\n"
     ]
    },
    {
     "name": "stdout",
     "output_type": "stream",
     "text": [
      "INFO:tensorflow:Unsupported signature for serialization: ((TensorSpec(shape=(64,), dtype=tf.float32, name='gradient'), <tensorflow.python.framework.func_graph.UnknownArgument object at 0x14df70b59700>, 22949910435760), {}).\n"
     ]
    },
    {
     "name": "stderr",
     "output_type": "stream",
     "text": [
      "INFO:tensorflow:Unsupported signature for serialization: ((TensorSpec(shape=(64,), dtype=tf.float32, name='gradient'), <tensorflow.python.framework.func_graph.UnknownArgument object at 0x14df70b59700>, 22949910435760), {}).\n"
     ]
    },
    {
     "name": "stdout",
     "output_type": "stream",
     "text": [
      "INFO:tensorflow:Unsupported signature for serialization: ((TensorSpec(shape=(32,), dtype=tf.float32, name='gradient'), <tensorflow.python.framework.func_graph.UnknownArgument object at 0x14df70bef700>, 22949910414608), {}).\n"
     ]
    },
    {
     "name": "stderr",
     "output_type": "stream",
     "text": [
      "INFO:tensorflow:Unsupported signature for serialization: ((TensorSpec(shape=(32,), dtype=tf.float32, name='gradient'), <tensorflow.python.framework.func_graph.UnknownArgument object at 0x14df70bef700>, 22949910414608), {}).\n"
     ]
    },
    {
     "name": "stdout",
     "output_type": "stream",
     "text": [
      "INFO:tensorflow:Unsupported signature for serialization: ((TensorSpec(shape=(32,), dtype=tf.float32, name='gradient'), <tensorflow.python.framework.func_graph.UnknownArgument object at 0x14df70bdb700>, 22949910415376), {}).\n"
     ]
    },
    {
     "name": "stderr",
     "output_type": "stream",
     "text": [
      "INFO:tensorflow:Unsupported signature for serialization: ((TensorSpec(shape=(32,), dtype=tf.float32, name='gradient'), <tensorflow.python.framework.func_graph.UnknownArgument object at 0x14df70bdb700>, 22949910415376), {}).\n"
     ]
    },
    {
     "name": "stdout",
     "output_type": "stream",
     "text": [
      "INFO:tensorflow:Unsupported signature for serialization: ((TensorSpec(shape=(227, 75), dtype=tf.float32, name='gradient'), <tensorflow.python.framework.func_graph.UnknownArgument object at 0x14df70c006a0>, 22949910523600), {}).\n"
     ]
    },
    {
     "name": "stderr",
     "output_type": "stream",
     "text": [
      "INFO:tensorflow:Unsupported signature for serialization: ((TensorSpec(shape=(227, 75), dtype=tf.float32, name='gradient'), <tensorflow.python.framework.func_graph.UnknownArgument object at 0x14df70c006a0>, 22949910523600), {}).\n"
     ]
    },
    {
     "name": "stdout",
     "output_type": "stream",
     "text": [
      "INFO:tensorflow:Unsupported signature for serialization: ((TensorSpec(shape=(75, 227), dtype=tf.float32, name='gradient'), <tensorflow.python.framework.func_graph.UnknownArgument object at 0x14e08ffa8640>, 22949910520912), {}).\n"
     ]
    },
    {
     "name": "stderr",
     "output_type": "stream",
     "text": [
      "INFO:tensorflow:Unsupported signature for serialization: ((TensorSpec(shape=(75, 227), dtype=tf.float32, name='gradient'), <tensorflow.python.framework.func_graph.UnknownArgument object at 0x14e08ffa8640>, 22949910520912), {}).\n"
     ]
    },
    {
     "name": "stdout",
     "output_type": "stream",
     "text": [
      "INFO:tensorflow:Unsupported signature for serialization: ((TensorSpec(shape=(227, 64), dtype=tf.float32, name='gradient'), <tensorflow.python.framework.func_graph.UnknownArgument object at 0x14e08ffba5e0>, 22949900235440), {}).\n"
     ]
    },
    {
     "name": "stderr",
     "output_type": "stream",
     "text": [
      "INFO:tensorflow:Unsupported signature for serialization: ((TensorSpec(shape=(227, 64), dtype=tf.float32, name='gradient'), <tensorflow.python.framework.func_graph.UnknownArgument object at 0x14e08ffba5e0>, 22949900235440), {}).\n"
     ]
    },
    {
     "name": "stdout",
     "output_type": "stream",
     "text": [
      "INFO:tensorflow:Unsupported signature for serialization: ((TensorSpec(shape=(64,), dtype=tf.float32, name='gradient'), <tensorflow.python.framework.func_graph.UnknownArgument object at 0x14e08ffcf5e0>, 22949900234800), {}).\n"
     ]
    },
    {
     "name": "stderr",
     "output_type": "stream",
     "text": [
      "INFO:tensorflow:Unsupported signature for serialization: ((TensorSpec(shape=(64,), dtype=tf.float32, name='gradient'), <tensorflow.python.framework.func_graph.UnknownArgument object at 0x14e08ffcf5e0>, 22949900234800), {}).\n"
     ]
    },
    {
     "name": "stdout",
     "output_type": "stream",
     "text": [
      "INFO:tensorflow:Unsupported signature for serialization: ((TensorSpec(shape=(64, 32), dtype=tf.float32, name='gradient'), <tensorflow.python.framework.func_graph.UnknownArgument object at 0x14df70f61640>, 22949910461536), {}).\n"
     ]
    },
    {
     "name": "stderr",
     "output_type": "stream",
     "text": [
      "INFO:tensorflow:Unsupported signature for serialization: ((TensorSpec(shape=(64, 32), dtype=tf.float32, name='gradient'), <tensorflow.python.framework.func_graph.UnknownArgument object at 0x14df70f61640>, 22949910461536), {}).\n"
     ]
    },
    {
     "name": "stdout",
     "output_type": "stream",
     "text": [
      "INFO:tensorflow:Unsupported signature for serialization: ((TensorSpec(shape=(32,), dtype=tf.float32, name='gradient'), <tensorflow.python.framework.func_graph.UnknownArgument object at 0x14df71020370>, 22949910460656), {}).\n"
     ]
    },
    {
     "name": "stderr",
     "output_type": "stream",
     "text": [
      "INFO:tensorflow:Unsupported signature for serialization: ((TensorSpec(shape=(32,), dtype=tf.float32, name='gradient'), <tensorflow.python.framework.func_graph.UnknownArgument object at 0x14df71020370>, 22949910460656), {}).\n"
     ]
    },
    {
     "name": "stdout",
     "output_type": "stream",
     "text": [
      "INFO:tensorflow:Unsupported signature for serialization: ((TensorSpec(shape=(64,), dtype=tf.float32, name='gradient'), <tensorflow.python.framework.func_graph.UnknownArgument object at 0x14df713b8850>, 22949910416624), {}).\n"
     ]
    },
    {
     "name": "stderr",
     "output_type": "stream",
     "text": [
      "INFO:tensorflow:Unsupported signature for serialization: ((TensorSpec(shape=(64,), dtype=tf.float32, name='gradient'), <tensorflow.python.framework.func_graph.UnknownArgument object at 0x14df713b8850>, 22949910416624), {}).\n"
     ]
    },
    {
     "name": "stdout",
     "output_type": "stream",
     "text": [
      "INFO:tensorflow:Unsupported signature for serialization: ((TensorSpec(shape=(64,), dtype=tf.float32, name='gradient'), <tensorflow.python.framework.func_graph.UnknownArgument object at 0x14df70b1f400>, 22949910416144), {}).\n"
     ]
    },
    {
     "name": "stderr",
     "output_type": "stream",
     "text": [
      "INFO:tensorflow:Unsupported signature for serialization: ((TensorSpec(shape=(64,), dtype=tf.float32, name='gradient'), <tensorflow.python.framework.func_graph.UnknownArgument object at 0x14df70b1f400>, 22949910416144), {}).\n"
     ]
    },
    {
     "name": "stdout",
     "output_type": "stream",
     "text": [
      "INFO:tensorflow:Unsupported signature for serialization: ((TensorSpec(shape=(32,), dtype=tf.float32, name='gradient'), <tensorflow.python.framework.func_graph.UnknownArgument object at 0x14df70ff5a30>, 22949910434704), {}).\n"
     ]
    },
    {
     "name": "stderr",
     "output_type": "stream",
     "text": [
      "INFO:tensorflow:Unsupported signature for serialization: ((TensorSpec(shape=(32,), dtype=tf.float32, name='gradient'), <tensorflow.python.framework.func_graph.UnknownArgument object at 0x14df70ff5a30>, 22949910434704), {}).\n"
     ]
    },
    {
     "name": "stdout",
     "output_type": "stream",
     "text": [
      "INFO:tensorflow:Unsupported signature for serialization: ((TensorSpec(shape=(32,), dtype=tf.float32, name='gradient'), <tensorflow.python.framework.func_graph.UnknownArgument object at 0x14df71616730>, 22949900100688), {}).\n"
     ]
    },
    {
     "name": "stderr",
     "output_type": "stream",
     "text": [
      "INFO:tensorflow:Unsupported signature for serialization: ((TensorSpec(shape=(32,), dtype=tf.float32, name='gradient'), <tensorflow.python.framework.func_graph.UnknownArgument object at 0x14df71616730>, 22949900100688), {}).\n"
     ]
    },
    {
     "name": "stdout",
     "output_type": "stream",
     "text": [
      "INFO:tensorflow:Unsupported signature for serialization: ((TensorSpec(shape=(227, 3), dtype=tf.float32, name='gradient'), <tensorflow.python.framework.func_graph.UnknownArgument object at 0x14df70c3c6a0>, 22949905536144), {}).\n"
     ]
    },
    {
     "name": "stderr",
     "output_type": "stream",
     "text": [
      "INFO:tensorflow:Unsupported signature for serialization: ((TensorSpec(shape=(227, 3), dtype=tf.float32, name='gradient'), <tensorflow.python.framework.func_graph.UnknownArgument object at 0x14df70c3c6a0>, 22949905536144), {}).\n"
     ]
    },
    {
     "name": "stdout",
     "output_type": "stream",
     "text": [
      "INFO:tensorflow:Unsupported signature for serialization: ((TensorSpec(shape=(3,), dtype=tf.float32, name='gradient'), <tensorflow.python.framework.func_graph.UnknownArgument object at 0x14df712e4a90>, 22949905536464), {}).\n"
     ]
    },
    {
     "name": "stderr",
     "output_type": "stream",
     "text": [
      "INFO:tensorflow:Unsupported signature for serialization: ((TensorSpec(shape=(3,), dtype=tf.float32, name='gradient'), <tensorflow.python.framework.func_graph.UnknownArgument object at 0x14df712e4a90>, 22949905536464), {}).\n"
     ]
    },
    {
     "name": "stdout",
     "output_type": "stream",
     "text": [
      "INFO:tensorflow:Unsupported signature for serialization: ((TensorSpec(shape=(32, 64), dtype=tf.float32, name='gradient'), <tensorflow.python.framework.func_graph.UnknownArgument object at 0x14df712e9040>, 22949900262640), {}).\n"
     ]
    },
    {
     "name": "stderr",
     "output_type": "stream",
     "text": [
      "INFO:tensorflow:Unsupported signature for serialization: ((TensorSpec(shape=(32, 64), dtype=tf.float32, name='gradient'), <tensorflow.python.framework.func_graph.UnknownArgument object at 0x14df712e9040>, 22949900262640), {}).\n"
     ]
    },
    {
     "name": "stdout",
     "output_type": "stream",
     "text": [
      "INFO:tensorflow:Unsupported signature for serialization: ((TensorSpec(shape=(64,), dtype=tf.float32, name='gradient'), <tensorflow.python.framework.func_graph.UnknownArgument object at 0x14df710c9670>, 22949900263024), {}).\n"
     ]
    },
    {
     "name": "stderr",
     "output_type": "stream",
     "text": [
      "INFO:tensorflow:Unsupported signature for serialization: ((TensorSpec(shape=(64,), dtype=tf.float32, name='gradient'), <tensorflow.python.framework.func_graph.UnknownArgument object at 0x14df710c9670>, 22949900263024), {}).\n"
     ]
    },
    {
     "name": "stdout",
     "output_type": "stream",
     "text": [
      "INFO:tensorflow:Unsupported signature for serialization: ((TensorSpec(shape=(64, 32), dtype=tf.float32, name='gradient'), <tensorflow.python.framework.func_graph.UnknownArgument object at 0x14df711bda30>, 22949905341488), {}).\n"
     ]
    },
    {
     "name": "stderr",
     "output_type": "stream",
     "text": [
      "INFO:tensorflow:Unsupported signature for serialization: ((TensorSpec(shape=(64, 32), dtype=tf.float32, name='gradient'), <tensorflow.python.framework.func_graph.UnknownArgument object at 0x14df711bda30>, 22949905341488), {}).\n"
     ]
    },
    {
     "name": "stdout",
     "output_type": "stream",
     "text": [
      "INFO:tensorflow:Unsupported signature for serialization: ((TensorSpec(shape=(32,), dtype=tf.float32, name='gradient'), <tensorflow.python.framework.func_graph.UnknownArgument object at 0x14df7114e0d0>, 22949905341008), {}).\n"
     ]
    },
    {
     "name": "stderr",
     "output_type": "stream",
     "text": [
      "INFO:tensorflow:Unsupported signature for serialization: ((TensorSpec(shape=(32,), dtype=tf.float32, name='gradient'), <tensorflow.python.framework.func_graph.UnknownArgument object at 0x14df7114e0d0>, 22949905341008), {}).\n"
     ]
    },
    {
     "name": "stdout",
     "output_type": "stream",
     "text": [
      "INFO:tensorflow:Unsupported signature for serialization: ((TensorSpec(shape=(64,), dtype=tf.float32, name='gradient'), <tensorflow.python.framework.func_graph.UnknownArgument object at 0x14df7114cd30>, 22949900184688), {}).\n"
     ]
    },
    {
     "name": "stderr",
     "output_type": "stream",
     "text": [
      "INFO:tensorflow:Unsupported signature for serialization: ((TensorSpec(shape=(64,), dtype=tf.float32, name='gradient'), <tensorflow.python.framework.func_graph.UnknownArgument object at 0x14df7114cd30>, 22949900184688), {}).\n"
     ]
    },
    {
     "name": "stdout",
     "output_type": "stream",
     "text": [
      "INFO:tensorflow:Unsupported signature for serialization: ((TensorSpec(shape=(64,), dtype=tf.float32, name='gradient'), <tensorflow.python.framework.func_graph.UnknownArgument object at 0x14df711823d0>, 22949900185472), {}).\n"
     ]
    },
    {
     "name": "stderr",
     "output_type": "stream",
     "text": [
      "INFO:tensorflow:Unsupported signature for serialization: ((TensorSpec(shape=(64,), dtype=tf.float32, name='gradient'), <tensorflow.python.framework.func_graph.UnknownArgument object at 0x14df711823d0>, 22949900185472), {}).\n"
     ]
    },
    {
     "name": "stdout",
     "output_type": "stream",
     "text": [
      "INFO:tensorflow:Unsupported signature for serialization: ((TensorSpec(shape=(32,), dtype=tf.float32, name='gradient'), <tensorflow.python.framework.func_graph.UnknownArgument object at 0x14df710048e0>, 22949905474480), {}).\n"
     ]
    },
    {
     "name": "stderr",
     "output_type": "stream",
     "text": [
      "INFO:tensorflow:Unsupported signature for serialization: ((TensorSpec(shape=(32,), dtype=tf.float32, name='gradient'), <tensorflow.python.framework.func_graph.UnknownArgument object at 0x14df710048e0>, 22949905474480), {}).\n"
     ]
    },
    {
     "name": "stdout",
     "output_type": "stream",
     "text": [
      "INFO:tensorflow:Unsupported signature for serialization: ((TensorSpec(shape=(32,), dtype=tf.float32, name='gradient'), <tensorflow.python.framework.func_graph.UnknownArgument object at 0x14df71654070>, 22949905475264), {}).\n"
     ]
    },
    {
     "name": "stderr",
     "output_type": "stream",
     "text": [
      "INFO:tensorflow:Unsupported signature for serialization: ((TensorSpec(shape=(32,), dtype=tf.float32, name='gradient'), <tensorflow.python.framework.func_graph.UnknownArgument object at 0x14df71654070>, 22949905475264), {}).\n"
     ]
    },
    {
     "name": "stdout",
     "output_type": "stream",
     "text": [
      "INFO:tensorflow:Unsupported signature for serialization: ((TensorSpec(shape=(189, 1), dtype=tf.float32, name='gradient'), <tensorflow.python.framework.func_graph.UnknownArgument object at 0x14df7146adc0>, 22949906114560), {}).\n"
     ]
    },
    {
     "name": "stderr",
     "output_type": "stream",
     "text": [
      "INFO:tensorflow:Unsupported signature for serialization: ((TensorSpec(shape=(189, 1), dtype=tf.float32, name='gradient'), <tensorflow.python.framework.func_graph.UnknownArgument object at 0x14df7146adc0>, 22949906114560), {}).\n"
     ]
    },
    {
     "name": "stdout",
     "output_type": "stream",
     "text": [
      "INFO:tensorflow:Unsupported signature for serialization: ((TensorSpec(shape=(1,), dtype=tf.float32, name='gradient'), <tensorflow.python.framework.func_graph.UnknownArgument object at 0x14df7166f130>, 22949906200256), {}).\n"
     ]
    },
    {
     "name": "stderr",
     "output_type": "stream",
     "text": [
      "INFO:tensorflow:Unsupported signature for serialization: ((TensorSpec(shape=(1,), dtype=tf.float32, name='gradient'), <tensorflow.python.framework.func_graph.UnknownArgument object at 0x14df7166f130>, 22949906200256), {}).\n"
     ]
    },
    {
     "name": "stdout",
     "output_type": "stream",
     "text": [
      "INFO:tensorflow:Unsupported signature for serialization: ((TensorSpec(shape=(32, 1), dtype=tf.float32, name='gradient'), <tensorflow.python.framework.func_graph.UnknownArgument object at 0x14df71660460>, 22949905526096), {}).\n"
     ]
    },
    {
     "name": "stderr",
     "output_type": "stream",
     "text": [
      "INFO:tensorflow:Unsupported signature for serialization: ((TensorSpec(shape=(32, 1), dtype=tf.float32, name='gradient'), <tensorflow.python.framework.func_graph.UnknownArgument object at 0x14df71660460>, 22949905526096), {}).\n"
     ]
    },
    {
     "name": "stdout",
     "output_type": "stream",
     "text": [
      "INFO:tensorflow:Unsupported signature for serialization: ((TensorSpec(shape=(1,), dtype=tf.float32, name='gradient'), <tensorflow.python.framework.func_graph.UnknownArgument object at 0x14df7117a9d0>, 22949905526416), {}).\n"
     ]
    },
    {
     "name": "stderr",
     "output_type": "stream",
     "text": [
      "INFO:tensorflow:Unsupported signature for serialization: ((TensorSpec(shape=(1,), dtype=tf.float32, name='gradient'), <tensorflow.python.framework.func_graph.UnknownArgument object at 0x14df7117a9d0>, 22949905526416), {}).\n"
     ]
    },
    {
     "name": "stdout",
     "output_type": "stream",
     "text": [
      "INFO:tensorflow:Assets written to: ../../Online/enhance_sz50/tf_models/assets\n"
     ]
    },
    {
     "name": "stderr",
     "output_type": "stream",
     "text": [
      "INFO:tensorflow:Assets written to: ../../Online/enhance_sz50/tf_models/assets\n"
     ]
    }
   ],
   "source": [
    "def save_json_file(data, path):\n",
    "    import json\n",
    "    with open(path, 'w', encoding='utf-8') as f:\n",
    "        json.dump(data, f, ensure_ascii=False, indent=4)\n",
    "\n",
    "def save_sklearn_pipeline(pipeline, path):\n",
    "    import joblib\n",
    "    joblib.dump(pipeline, path)\n",
    "\n",
    "# 保存特征json\n",
    "save_json_file(feature_config, '../../Online/enhance_sz50/feature_config.json')\n",
    "# 保存特征预处理pipeline\n",
    "save_sklearn_pipeline(feature_preprocess_pipeline, '../../Online/enhance_sz50/feature_preprocess_pipeline.joblib')\n",
    "# 保存模型\n",
    "model.save(f'../../Online/enhance_sz50/tf_models/')\n"
   ]
  },
  {
   "cell_type": "code",
   "execution_count": null,
   "metadata": {},
   "outputs": [],
   "source": []
  }
 ],
 "metadata": {
  "kernelspec": {
   "display_name": ".venv",
   "language": "python",
   "name": "python3"
  },
  "language_info": {
   "codemirror_mode": {
    "name": "ipython",
    "version": 3
   },
   "file_extension": ".py",
   "mimetype": "text/x-python",
   "name": "python",
   "nbconvert_exporter": "python",
   "pygments_lexer": "ipython3",
   "version": "3.8.10"
  }
 },
 "nbformat": 4,
 "nbformat_minor": 2
}
