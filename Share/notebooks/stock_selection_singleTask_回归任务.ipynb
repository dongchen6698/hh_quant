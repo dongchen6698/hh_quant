{
 "cells": [
  {
   "cell_type": "code",
   "execution_count": 1,
   "metadata": {},
   "outputs": [
    {
     "name": "stdout",
     "output_type": "stream",
     "text": [
      "Python 3.8.10\n"
     ]
    }
   ],
   "source": [
    "import sys\n",
    "sys.path.append('../')\n",
    "\n",
    "import warnings\n",
    "warnings.filterwarnings(\"ignore\")\n",
    "\n",
    "import os\n",
    "import pandas as pd\n",
    "import numpy as np\n",
    "import akshare as ak\n",
    "import sqlite3\n",
    "import matplotlib.pyplot as plt\n",
    "%matplotlib inline\n",
    "\n",
    "from datetime import datetime\n",
    "from dateutil.relativedelta import relativedelta\n",
    "from tqdm import tqdm\n",
    "from database.downloader.downloader_base import DownloaderBase\n",
    "import database.database_config as db_config\n",
    "\n",
    "pd.options.display.max_rows=None\n",
    "pd.options.display.max_columns=None\n",
    "\n",
    "!python --version"
   ]
  },
  {
   "cell_type": "code",
   "execution_count": 2,
   "metadata": {},
   "outputs": [
    {
     "name": "stderr",
     "output_type": "stream",
     "text": [
      "2024-05-05 13:50:29.896031: I tensorflow/core/platform/cpu_feature_guard.cc:182] This TensorFlow binary is optimized to use available CPU instructions in performance-critical operations.\n",
      "To enable the following instructions: AVX2 FMA, in other operations, rebuild TensorFlow with the appropriate compiler flags.\n",
      "2024-05-05 13:50:31.149566: W tensorflow/compiler/tf2tensorrt/utils/py_utils.cc:38] TF-TRT Warning: Could not find TensorRT\n"
     ]
    },
    {
     "name": "stdout",
     "output_type": "stream",
     "text": [
      "Tensorflow Version: 2.13.1\n",
      "TensorFlow GPU version is installed\n",
      "GPU devices available: [PhysicalDevice(name='/physical_device:GPU:0', device_type='GPU')]\n"
     ]
    }
   ],
   "source": [
    "import tensorflow as tf\n",
    "\n",
    "# 只使用CPU进行训练\n",
    "tf.config.set_visible_devices([], 'GPU')\n",
    "\n",
    "# 打印Tensorflow版本\n",
    "print(f\"Tensorflow Version: {tf.__version__}\")\n",
    "\n",
    "# 检查是否有可用的GPU设备\n",
    "if tf.test.is_built_with_cuda():\n",
    "    print(\"TensorFlow GPU version is installed\")\n",
    "else:\n",
    "    print(\"TensorFlow CPU version is installed\")\n",
    "\n",
    "# 检查TensorFlow是否能够访问GPU\n",
    "gpus = tf.config.list_physical_devices('GPU')\n",
    "if gpus:\n",
    "    print(\"GPU devices available:\", gpus)\n",
    "else:\n",
    "    print(\"No GPU devices found. Running on CPU.\")\n",
    "\n",
    "# !nvidia-smi"
   ]
  },
  {
   "cell_type": "code",
   "execution_count": 3,
   "metadata": {},
   "outputs": [],
   "source": [
    "import matplotlib as mpl\n",
    "import matplotlib.pyplot as plt\n",
    "import numpy as np\n",
    "import pandas as pd\n",
    "import seaborn as sns\n",
    "from sklearn.metrics import confusion_matrix, accuracy_score, precision_score, recall_score\n",
    "\n",
    "mpl.rcParams['figure.figsize'] = (12, 10)\n",
    "colors = plt.rcParams['axes.prop_cycle'].by_key()['color']\n",
    "\n",
    "# 绘图相关函数\n",
    "def plot_series_dist(series):\n",
    "    data = series\n",
    "    plt.figure(figsize=(5,5))\n",
    "    # 使用matplotlib画直方图\n",
    "    plt.hist(data, bins=60, edgecolor='k', alpha=0.7)\n",
    "    plt.xlabel('Value')\n",
    "    plt.ylabel('Frequency')\n",
    "    plt.title('Histogram of Data')\n",
    "    plt.show()\n",
    "\n",
    "def plot_metrics(history):\n",
    "  metrics = ['loss', 'mean_absolute_error']\n",
    "  for n, metric in enumerate(metrics):\n",
    "    name = metric.replace(\"_\",\" \").capitalize()\n",
    "    plt.subplot(2,2,n+1)\n",
    "    plt.plot(history.epoch, history.history[metric], color=colors[0], label='Train')\n",
    "    plt.plot(history.epoch, history.history['val_'+metric],\n",
    "             color=colors[0], linestyle=\"--\", label='Val')\n",
    "    plt.xlabel('Epoch')\n",
    "    plt.ylabel(name)\n",
    "    plt.ylim([0, plt.ylim()[1]])\n",
    "    plt.legend()\n",
    "\n",
    "def plot_cm(true_labels, pred_labels):\n",
    "    cm = confusion_matrix(true_labels, pred_labels)\n",
    "    plt.figure(figsize=(5,5))\n",
    "    sns.heatmap(cm, annot=True, fmt=\"g\", cmap='Blues')\n",
    "    plt.title('Confusion matrix')\n",
    "    plt.ylabel('Actual label')\n",
    "    plt.xlabel('Predicted label')\n",
    "\n",
    "    accuracy = accuracy_score(true_labels, pred_labels)\n",
    "    precision = precision_score(true_labels, pred_labels)\n",
    "    recall = recall_score(true_labels, pred_labels)\n",
    "    print(f\"Accuracy: {accuracy:.2f}, Precision: {precision:.2f}, Recall: {recall:.2f}\")"
   ]
  },
  {
   "cell_type": "code",
   "execution_count": 4,
   "metadata": {},
   "outputs": [],
   "source": [
    "class PreProcessing:\n",
    "    def __init__(self, db_downloader:DownloaderBase) -> None:\n",
    "        self.db_downloader = db_downloader\n",
    "\n",
    "    def _build_reg_label(self, stock_dataframe):\n",
    "        df = stock_dataframe.copy()\n",
    "        \n",
    "        N = 15 # 最大持仓周期\n",
    "        # M = 15 # 计算过去M日的波动率\n",
    "        # # 1. 计算N日后的收益率\n",
    "        # df['future_N_return'] = df['close'].shift(-N) / df['close'] - 1\n",
    "        # # 2. 计算每日的收益率\n",
    "        # df['daily_return'] = df['close'].pct_change()\n",
    "        # # 3. 计算N日内的波动率\n",
    "        # df['volatility'] = df['daily_return'].rolling(window=M).std()\n",
    "        # # 4. 计算Label\n",
    "        # df['label'] = df['future_N_return'] / df['volatility']\n",
    "        df['label'] = df['close'].shift(-N) / df['close'] - 1\n",
    "        # 5. 极值处理 - quantile处理\n",
    "        df['label'] = np.clip(\n",
    "            df['label'], \n",
    "            np.nanquantile(df['label'], 0.01), \n",
    "            np.nanquantile(df['label'], 0.99),\n",
    "            )\n",
    "        # 6. 过滤第二天一字涨停情况\n",
    "        df = df[df['high'].shift(-1) != df['low'].shift(-1)]\n",
    "        return df[['datetime', 'label']]\n",
    "\n",
    "    def _process_one_stock(self, stock_code, start_date, end_date):\n",
    "        stock_base = self.db_downloader._download_stock_base_info(stock_code) # 获取基础代码\n",
    "        stock_individual = self.db_downloader._download_stock_individual_info(stock_code) # 获取profile信息\n",
    "        stock_history = self.db_downloader._download_stock_history_info(stock_code, start_date, end_date) # 获取历史行情\n",
    "        stock_indicator = self.db_downloader._download_stock_indicator_info(stock_code, start_date, end_date) # 获取指标数据\n",
    "        stock_factor_date = self.db_downloader._download_stock_factor_date_info() # 获取日期特征\n",
    "        stock_factor_qlib = self.db_downloader._download_stock_factor_qlib_info(stock_code, start_date, end_date) # 获取量价特征\n",
    "        stock_label = self._build_reg_label(stock_history) # 构建Label\n",
    "        stock_df = stock_base.merge(stock_individual, on=['stock_code']).merge(stock_history, on=['stock_code']).merge(stock_indicator, on=['stock_code', 'datetime']).merge(stock_label, on=['datetime']).merge(stock_factor_date, on=['datetime']).merge(stock_factor_qlib, on=['stock_code', 'datetime']) # 整合数据\n",
    "        stock_df = stock_base \\\n",
    "            .merge(stock_individual, on=['stock_code', 'stock_name']) \\\n",
    "            .merge(stock_history, on=['stock_code']) \\\n",
    "            .merge(stock_indicator, on=['stock_code', 'datetime']) \\\n",
    "            .merge(stock_label, on=['datetime']) \\\n",
    "            .merge(stock_factor_date, on=['datetime']) \\\n",
    "            .merge(stock_factor_qlib, on=['stock_code', 'datetime']) # 整合数据\n",
    "        stock_df = stock_df.dropna()\n",
    "        return stock_df\n",
    "    \n",
    "    def _process_all_stock(self, code_type, start_date, end_date):\n",
    "        # stock_code_list = list(ak.stock_info_a_code_name()['code'].unique()) # 获取A股所有股票列表\n",
    "        stock_code_list = list(ak.index_stock_cons(code_type)['品种代码'].unique()) # 获取沪深300的股票代码列表\n",
    "        stock_df_list = []\n",
    "        for stock_code in tqdm(stock_code_list, desc=f'Process: {code_type} ...'):\n",
    "            stock_df = self._process_one_stock(stock_code, start_date, end_date)\n",
    "            if not stock_df.empty:\n",
    "                stock_df_list.append(stock_df)\n",
    "        return pd.concat(stock_df_list)"
   ]
  },
  {
   "cell_type": "code",
   "execution_count": 5,
   "metadata": {},
   "outputs": [],
   "source": [
    "def get_rolling_data_period(backtest_start_date, backtest_duration=5, train_period=6, val_period=0.5, test_period=0.5):\n",
    "    \"\"\"\n",
    "    Args:\n",
    "        backtest_start_date (_type_): _description_\n",
    "        backtest_duration (int, optional): _description_. Defaults to 5.\n",
    "        train_period (int, optional): _description_. Defaults to 6.\n",
    "        val_period (float, optional): _description_. Defaults to 0.5.\n",
    "        test_period (float, optional): _description_. Defaults to 0.5.\n",
    "    Returns:\n",
    "        result: _description_\n",
    "    \"\"\"\n",
    "    backtest_start_date = datetime.strptime(backtest_start_date, '%Y%m%d')\n",
    "    backtest_end_date = backtest_start_date + relativedelta(years=backtest_duration) # 回测5年数据\n",
    "    train_period = relativedelta(years=train_period) # 使用6年的训练数据\n",
    "    val_period = relativedelta(months=(12 * val_period)) # 使用半年的验证数据\n",
    "    test_period = relativedelta(months=(12 * test_period)) # 使用半年的测试数据(半年模型一更新)\n",
    "\n",
    "    result = []\n",
    "    rolling_flag = True\n",
    "    bench_date = backtest_start_date\n",
    "    while rolling_flag:\n",
    "        if bench_date < backtest_end_date:\n",
    "            test_start, test_end = bench_date, (bench_date + test_period - relativedelta(days=1))\n",
    "            val_start, val_end = (test_start - relativedelta(days=1) - val_period), (test_start - relativedelta(days=1))\n",
    "            train_start, train_end =(val_start - relativedelta(days=1) - train_period), (val_start - relativedelta(days=1))\n",
    "            result.append({\n",
    "                \"train\": [train_start.strftime(\"%Y%m%d\"), train_end.strftime(\"%Y%m%d\")],\n",
    "                \"val\": [val_start.strftime(\"%Y%m%d\"), val_end.strftime(\"%Y%m%d\")],\n",
    "                \"test\": [test_start.strftime(\"%Y%m%d\"), test_end.strftime(\"%Y%m%d\")]\n",
    "            })\n",
    "            bench_date += test_period\n",
    "        else:\n",
    "            rolling_flag = False \n",
    "    return result"
   ]
  },
  {
   "cell_type": "code",
   "execution_count": 6,
   "metadata": {},
   "outputs": [],
   "source": [
    "def extract_train_val_data(df, train_start_date, train_end_date, val_start_date, val_end_date, test_start_date, test_end_date):\n",
    "    train_start_date = pd.to_datetime(train_start_date)\n",
    "    train_end_date = pd.to_datetime(train_end_date)\n",
    "    val_start_date = pd.to_datetime(val_start_date)\n",
    "    val_end_date = pd.to_datetime(val_end_date)\n",
    "    test_start_date = pd.to_datetime(test_start_date)\n",
    "    test_end_date = pd.to_datetime(test_end_date)\n",
    "\n",
    "    train_data = df[(pd.to_datetime(df['datetime']) >= train_start_date) & (pd.to_datetime(df['datetime']) <= train_end_date)]\n",
    "    val_data = df[(pd.to_datetime(df['datetime']) >= val_start_date) & (pd.to_datetime(df['datetime']) <= val_end_date)]\n",
    "    test_data = df[(pd.to_datetime(df['datetime']) >= test_start_date) & (pd.to_datetime(df['datetime']) <= test_end_date)]\n",
    "\n",
    "    print(f\"train_data_size: {train_data.shape}\")\n",
    "    print(f\"validation_data_size: {val_data.shape}\")\n",
    "    print(f\"test_data_size: {test_data.shape}\")\n",
    "    return train_data, val_data, test_data\n",
    "\n",
    "def df_to_dataset(dataframe, feature_cols, label_cols, shuffle=True, batch_size=32):\n",
    "    features = dataframe[feature_cols]\n",
    "    labels = dataframe[label_cols]\n",
    "    ds = tf.data.Dataset.from_tensor_slices((dict(features), labels))\n",
    "    if shuffle:\n",
    "        ds = ds.shuffle(buffer_size=min(len(features), 10000))\n",
    "    ds = ds.cache().batch(batch_size).prefetch(tf.data.AUTOTUNE)\n",
    "    return ds"
   ]
  },
  {
   "cell_type": "code",
   "execution_count": 7,
   "metadata": {},
   "outputs": [],
   "source": [
    "from sklearn.base import BaseEstimator, TransformerMixin\n",
    "from sklearn.preprocessing import MinMaxScaler, StandardScaler\n",
    "\n",
    "class CustomPreprocessor(BaseEstimator, TransformerMixin):\n",
    "    def __init__(self, outlier_process=True, minmax_scale=True, standard_scale=False):\n",
    "        # 配置异常值处理\n",
    "        self.outlier_process = outlier_process\n",
    "        self.outlier_params = {}\n",
    "        # 配置MinMaxScaler\n",
    "        self.minmax_scale = minmax_scale\n",
    "        # 配置StandardScaler\n",
    "        self.standard_scale = standard_scale\n",
    "        \n",
    "    def _fit_outlier_cap(self, X):\n",
    "        # 计算并存储异常值处理参数\n",
    "        lower_bound, upper_bound = np.nanpercentile(X, [0.01, 0.99], axis=0)\n",
    "        self.outlier_params['outliers_lower_bounds_'] = lower_bound\n",
    "        self.outlier_params['outliers_upper_bounds_'] = upper_bound\n",
    "        \n",
    "    def _transform_outlier_cap(self, X):\n",
    "        # 根据存储的参数应用异常值限制\n",
    "        return np.clip(X, self.outlier_params['outliers_lower_bounds_'], self.outlier_params['outliers_upper_bounds_'])\n",
    "    \n",
    "    def fit(self, X, y=None):\n",
    "        if self.outlier_process:\n",
    "            self._fit_outlier_cap(X)\n",
    "        self.scalers_ = []\n",
    "        if self.minmax_scale:\n",
    "            minmax_scaler = MinMaxScaler()\n",
    "            minmax_scaler.fit(X)\n",
    "            self.scalers_.append(minmax_scaler)\n",
    "        if self.standard_scale:\n",
    "            standard_scaler = StandardScaler()\n",
    "            standard_scaler.fit(X)\n",
    "            self.scalers_.append(standard_scaler)\n",
    "        return self\n",
    "    \n",
    "    def transform(self, X, y=None):\n",
    "        if self.outlier_process:\n",
    "            X = self._transform_outlier_cap(X)\n",
    "        # 应用归一化和标准化转换\n",
    "        for scaler in self.scalers_:\n",
    "            X = scaler.transform(X)\n",
    "        return X"
   ]
  },
  {
   "cell_type": "code",
   "execution_count": 8,
   "metadata": {},
   "outputs": [
    {
     "name": "stdout",
     "output_type": "stream",
     "text": [
      "关闭滚动回测...\n"
     ]
    },
    {
     "data": {
      "text/plain": [
       "[{'train': ['20120101', '20171231'],\n",
       "  'val': ['20180101', '20181231'],\n",
       "  'test': ['20190101', '20231231']}]"
      ]
     },
     "execution_count": 8,
     "metadata": {},
     "output_type": "execute_result"
    }
   ],
   "source": [
    "# 数据库初始化\n",
    "db_conn = sqlite3.connect('../database/hh_quant.db')\n",
    "db_downloader = DownloaderBase(db_conn, db_config)\n",
    "proprocessor = PreProcessing(db_downloader=db_downloader)\n",
    "\n",
    "# 相关配置\n",
    "rolling_flag = False\n",
    "benchmark = '000905'\n",
    "feature_config = {\n",
    "    \"target_features\": ['label'],\n",
    "    \"numeric_features\": ['turnover_rate', 'pe_ttm', 'ps_ttm', 'pcf_ncf_ttm', 'pb_mrq', 'KMID', 'KLEN', 'KMID2', 'KUP', 'KUP2', 'KLOW', 'KLOW2', 'KSFT', 'KSFT2', 'OPEN0', 'OPEN1', 'OPEN2', 'OPEN3', 'OPEN4', 'HIGH0', 'HIGH1', 'HIGH2', 'HIGH3', 'HIGH4', 'LOW0', 'LOW1', 'LOW2', 'LOW3', 'LOW4', 'CLOSE1', 'CLOSE2', 'CLOSE3', 'CLOSE4', 'VOLUME1', 'VOLUME2', 'VOLUME3', 'VOLUME4', 'ROC5', 'ROC10', 'ROC20', 'ROC30', 'ROC60', 'MAX5', 'MAX10', 'MAX20', 'MAX30', 'MAX60', 'MIN5', 'MIN10', 'MIN20', 'MIN30', 'MIN60', 'MA5', 'MA10', 'MA20', 'MA30', 'MA60', 'STD5', 'STD10', 'STD20', 'STD30', 'STD60', 'BETA5', 'BETA10', 'BETA20', 'BETA30', 'BETA60', 'RSQR5', 'RSQR10', 'RSQR20', 'RSQR30', 'RSQR60', 'RESI5', 'RESI10', 'RESI20', 'RESI30', 'RESI60', 'QTLU5', 'QTLU10', 'QTLU20', 'QTLU30', 'QTLU60', 'QTLD5', 'QTLD10', 'QTLD20', 'QTLD30', 'QTLD60', 'TSRANK5', 'TSRANK10', 'TSRANK20', 'TSRANK30', 'TSRANK60', 'RSV5', 'RSV10', 'RSV20', 'RSV30', 'RSV60', 'IMAX5', 'IMAX10', 'IMAX20', 'IMAX30', 'IMAX60', 'IMIN5', 'IMIN10', 'IMIN20', 'IMIN30', 'IMIN60', 'IMXD5', 'IMXD10', 'IMXD20', 'IMXD30', 'IMXD60', 'CORR5', 'CORR10', 'CORR20', 'CORR30', 'CORR60', 'CORD5', 'CORD10', 'CORD20', 'CORD30', 'CORD60', 'CNTP5', 'CNTP10', 'CNTP20', 'CNTP30', 'CNTP60', 'CNTN5', 'CNTN10', 'CNTN20', 'CNTN30', 'CNTN60', 'CNTD5', 'CNTD10', 'CNTD20', 'CNTD30', 'CNTD60', 'SUMP5', 'SUMP10', 'SUMP20', 'SUMP30', 'SUMP60', 'SUMN5', 'SUMN10', 'SUMN20', 'SUMN30', 'SUMN60', 'SUMD5', 'SUMD10', 'SUMD20', 'SUMD30', 'SUMD60', 'VMA5', 'VMA10', 'VMA20', 'VMA30', 'VMA60', 'VSTD5', 'VSTD10', 'VSTD20', 'VSTD30', 'VSTD60', 'WVMA5', 'WVMA10', 'WVMA20', 'WVMA30', 'WVMA60', 'VSUMP5', 'VSUMP10', 'VSUMP20', 'VSUMP30', 'VSUMP60', 'VSUMN5', 'VSUMN10', 'VSUMN20', 'VSUMN30', 'VSUMN60', 'VSUMD5', 'VSUMD10', 'VSUMD20', 'VSUMD30', 'VSUMD60'],\n",
    "    \"integer_categorical_features\": ['month'],\n",
    "    \"string_categorical_features\": ['industry', 'season'],\n",
    "}\n",
    "batch_size = 1024\n",
    "\n",
    "# 是否开启滚动训练&回测\n",
    "if rolling_flag:\n",
    "    print(\"开启滚动回测...\")\n",
    "    backtest_period = get_rolling_data_period(\n",
    "        backtest_start_date='20200101', # 回测开始日期\n",
    "        backtest_duration=4, # 一共回测多久的数据（单位：年）\n",
    "        train_period=6, # 使用过去多久的时间进行训练（单位：年）\n",
    "        val_period=1, # 验证数据周期（单位：年）\n",
    "        test_period=1, # 测试数据周期（单位：年）\n",
    "    )\n",
    "else:\n",
    "    print(\"关闭滚动回测...\")\n",
    "    backtest_period = [\n",
    "        {\n",
    "            'train': ['20120101', '20171231'],\n",
    "            'val': ['20180101', '20181231'],\n",
    "            'test': ['20190101', '20231231']\n",
    "        }\n",
    "    ]\n",
    "\n",
    "backtest_period"
   ]
  },
  {
   "cell_type": "code",
   "execution_count": 9,
   "metadata": {},
   "outputs": [],
   "source": [
    "# df = proprocessor._process_all_stock('000016', '20000101', '20050101')"
   ]
  },
  {
   "cell_type": "code",
   "execution_count": 10,
   "metadata": {},
   "outputs": [
    {
     "name": "stdout",
     "output_type": "stream",
     "text": [
      "{'train': ['20120101', '20171231'], 'val': ['20180101', '20181231'], 'test': ['20190101', '20231231']}\n",
      "开始加载原始数据...\n"
     ]
    },
    {
     "name": "stderr",
     "output_type": "stream",
     "text": [
      "Process: 000905 ...: 100%|██████████| 430/430 [01:18<00:00,  5.49it/s]\n"
     ]
    }
   ],
   "source": [
    "date_period_params = backtest_period[0]\n",
    "print(date_period_params)\n",
    "train_start_date, train_end_date = date_period_params['train']\n",
    "val_start_date, val_end_date = date_period_params['val']\n",
    "test_start_date, test_end_date = date_period_params['test']\n",
    "# 获取全区间数据\n",
    "print(\"开始加载原始数据...\")\n",
    "df = proprocessor._process_all_stock(code_type=benchmark, start_date=train_start_date, end_date=test_end_date)\n",
    "# 抽取训练验证数据\n",
    "print(\"开始拆分训练、验证、测试集合...\")\n",
    "train_data, val_data, test_data = extract_train_val_data(df, *[train_start_date, train_end_date, val_start_date, val_end_date, test_start_date, test_end_date])\n",
    "# 从data中抽取相关特征数据\n",
    "print(\"开始抽取特征数据...\")\n",
    "feature_columns = feature_config.get('numeric_features', []) + feature_config.get('integer_categorical_features', []) + feature_config.get('string_categorical_features', [])\n",
    "label_columns = feature_config.get('target_features', [])\n",
    "full_feature_columns = feature_columns + label_columns\n",
    "train_df, val_df, test_df = train_data[full_feature_columns], val_data[full_feature_columns], test_data[full_feature_columns]\n",
    "# 对相关特征进行特征工程\n",
    "print(\"开始对特征进行特征工程...\")\n",
    "feature_preprocess_pipeline = CustomPreprocessor()\n",
    "preprocess_feature_columns = feature_config.get('numeric_features', [])\n",
    "train_df[preprocess_feature_columns] = feature_preprocess_pipeline.fit_transform(train_df[preprocess_feature_columns])\n",
    "val_df[preprocess_feature_columns] = feature_preprocess_pipeline.transform(val_df[preprocess_feature_columns])\n",
    "test_df[preprocess_feature_columns] = feature_preprocess_pipeline.transform(test_df[preprocess_feature_columns])\n",
    "\n",
    "label_preprocess_pipeline = CustomPreprocessor()\n",
    "preprocess_target_columns = feature_config.get('target_features', [])\n",
    "train_df[preprocess_target_columns] = label_preprocess_pipeline.fit_transform(train_df[preprocess_target_columns])\n",
    "val_df[preprocess_target_columns] = label_preprocess_pipeline.transform(val_df[preprocess_target_columns])\n",
    "test_df[preprocess_target_columns] = label_preprocess_pipeline.transform(test_df[preprocess_target_columns])\n",
    "\n",
    "# 转换为tensorflow所使用的dataset\n",
    "print(\"开始将DataFrame转换为DataSet...\")\n",
    "train_ds = df_to_dataset(train_df, feature_columns, label_columns, shuffle=True, batch_size=batch_size)\n",
    "val_ds = df_to_dataset(val_df, feature_columns, label_columns, shuffle=False, batch_size=batch_size)\n",
    "test_ds = df_to_dataset(test_df, feature_columns, label_columns, shuffle=False, batch_size=batch_size)  "
   ]
  },
  {
   "cell_type": "code",
   "execution_count": null,
   "metadata": {},
   "outputs": [
    {
     "name": "stdout",
     "output_type": "stream",
     "text": [
      "开始模型初始化 & 训练...\n",
      "Epoch 1/500\n"
     ]
    },
    {
     "name": "stderr",
     "output_type": "stream",
     "text": [
      "2024-05-05 09:12:16.300767: I tensorflow/compiler/xla/service/service.cc:168] XLA service 0x14fe700473c0 initialized for platform Host (this does not guarantee that XLA will be used). Devices:\n",
      "2024-05-05 09:12:16.300864: I tensorflow/compiler/xla/service/service.cc:176]   StreamExecutor device (0): Host, Default Version\n",
      "2024-05-05 09:12:16.411063: I tensorflow/compiler/mlir/tensorflow/utils/dump_mlir_util.cc:255] disabling MLIR crash reproducer, set env var `MLIR_CRASH_REPRODUCER_DIRECTORY` to enable.\n",
      "2024-05-05 09:12:16.634727: I ./tensorflow/compiler/jit/device_compiler.h:186] Compiled cluster using XLA!  This line is logged at most once for the lifetime of the process.\n"
     ]
    },
    {
     "name": "stdout",
     "output_type": "stream",
     "text": [
      "306/306 [==============================] - 96s 239ms/step - loss: 0.3562 - mean_absolute_error: 0.3562 - val_loss: 0.0157 - val_mean_absolute_error: 0.0157\n",
      "Epoch 2/500\n",
      "306/306 [==============================] - 56s 184ms/step - loss: 0.0820 - mean_absolute_error: 0.0820 - val_loss: 0.0093 - val_mean_absolute_error: 0.0093\n",
      "Epoch 3/500\n",
      "306/306 [==============================] - 56s 181ms/step - loss: 0.0491 - mean_absolute_error: 0.0491 - val_loss: 0.0101 - val_mean_absolute_error: 0.0101\n",
      "Epoch 4/500\n",
      "306/306 [==============================] - 55s 181ms/step - loss: 0.0347 - mean_absolute_error: 0.0347 - val_loss: 0.0047 - val_mean_absolute_error: 0.0047\n",
      "Epoch 5/500\n",
      "306/306 [==============================] - 56s 182ms/step - loss: 0.0255 - mean_absolute_error: 0.0255 - val_loss: 0.0035 - val_mean_absolute_error: 0.0035\n",
      "Epoch 6/500\n",
      "306/306 [==============================] - 57s 186ms/step - loss: 0.0207 - mean_absolute_error: 0.0207 - val_loss: 0.0047 - val_mean_absolute_error: 0.0047\n",
      "Epoch 7/500\n",
      "306/306 [==============================] - 56s 184ms/step - loss: 0.0174 - mean_absolute_error: 0.0174 - val_loss: 0.0047 - val_mean_absolute_error: 0.0047\n",
      "Epoch 8/500\n",
      "306/306 [==============================] - 56s 183ms/step - loss: 0.0144 - mean_absolute_error: 0.0144 - val_loss: 0.0046 - val_mean_absolute_error: 0.0046\n",
      "Epoch 9/500\n",
      "306/306 [==============================] - 57s 185ms/step - loss: 0.0122 - mean_absolute_error: 0.0122 - val_loss: 0.0033 - val_mean_absolute_error: 0.0033\n",
      "Epoch 10/500\n",
      "306/306 [==============================] - 57s 188ms/step - loss: 0.0107 - mean_absolute_error: 0.0107 - val_loss: 0.0047 - val_mean_absolute_error: 0.0047\n",
      "Epoch 11/500\n",
      "306/306 [==============================] - 57s 187ms/step - loss: 0.0095 - mean_absolute_error: 0.0095 - val_loss: 0.0035 - val_mean_absolute_error: 0.0035\n"
     ]
    }
   ],
   "source": [
    "# 准备模型训练\n",
    "print(\"开始模型初始化 & 训练...\")\n",
    "from models.single_task.model_moe import QuantModel\n",
    "model_config = {\n",
    "        \"seed\": 1024,\n",
    "        \"feature_use_embedding\": True,\n",
    "        \"feature_embedding_dims\": 4,\n",
    "        \"numeric_features_with_boundaries\": {k: pd.qcut(train_df[k], q=40, retbins=True, duplicates='drop')[1].tolist() for k in feature_config.get('numeric_features', [])},\n",
    "        \"integer_categorical_features_with_vocab\": {k: list(train_df[k].unique()) for k in feature_config.get('integer_categorical_features', [])},\n",
    "        \"string_categorical_features_with_vocab\": {k: list(train_df[k].unique()) for k in feature_config.get('string_categorical_features', [])},\n",
    "    }\n",
    "model = QuantModel(config=model_config)\n",
    "\n",
    "initial_learning_rate = 5e-4\n",
    "lr_schedule = tf.keras.optimizers.schedules.InverseTimeDecay(\n",
    "    initial_learning_rate,\n",
    "    decay_steps=(len(train_data) // batch_size)*10,\n",
    "    decay_rate=1,\n",
    "    staircase=False)\n",
    "model.compile(\n",
    "    optimizer=tf.keras.optimizers.Adam(lr_schedule),\n",
    "    loss=tf.keras.losses.MeanAbsoluteError(),\n",
    "    metrics=[\n",
    "        tf.keras.metrics.MeanAbsoluteError()\n",
    "    ])\n",
    "\n",
    "EPOCHS = 500\n",
    "\n",
    "early_stopping = tf.keras.callbacks.EarlyStopping(\n",
    "    monitor='val_loss', \n",
    "    verbose=1,\n",
    "    patience=10,\n",
    "    mode='min',\n",
    "    restore_best_weights=True)\n",
    "\n",
    "baseline_history = model.fit(\n",
    "    train_ds,\n",
    "    validation_data=val_ds,\n",
    "    epochs=EPOCHS,\n",
    "    callbacks = [early_stopping],\n",
    ")"
   ]
  },
  {
   "cell_type": "code",
   "execution_count": null,
   "metadata": {},
   "outputs": [],
   "source": [
    "model.save(f'./tf_models/{benchmark}/')"
   ]
  },
  {
   "cell_type": "code",
   "execution_count": null,
   "metadata": {},
   "outputs": [],
   "source": [
    "# plot_series_dist(test_df['label'])"
   ]
  },
  {
   "cell_type": "code",
   "execution_count": null,
   "metadata": {},
   "outputs": [
    {
     "name": "stdout",
     "output_type": "stream",
     "text": [
      "开始保存回测预测结果...\n",
      "55/55 [==============================] - 4s 58ms/step\n"
     ]
    }
   ],
   "source": [
    "# 输出回测预测\n",
    "print(\"开始保存回测预测结果...\")\n",
    "model_pred_result = model.predict(test_ds)\n",
    "output_df = test_data[['stock_code', 'stock_name', 'datetime']]\n",
    "output_df['label'] = test_df['label']\n",
    "output_df['label_pred'] = model_pred_result\n",
    "output_df.to_pickle(f'../../Offline/backtest/backtest_data/test/{benchmark}_{test_start_date}_回归任务.pkl') "
   ]
  },
  {
   "cell_type": "code",
   "execution_count": null,
   "metadata": {},
   "outputs": [],
   "source": [
    "# plot_series_dist(output_df['label'])\n",
    "# output_df.head(50)"
   ]
  },
  {
   "cell_type": "code",
   "execution_count": null,
   "metadata": {},
   "outputs": [],
   "source": []
  },
  {
   "cell_type": "code",
   "execution_count": null,
   "metadata": {},
   "outputs": [],
   "source": [
    "# plot_cm(\n",
    "#     true_labels = (np.array(output_df['label']) > 0).astype(int), \n",
    "#     pred_labels = (np.array(output_df['label_pred']) > 0).astype(int)\n",
    "# )"
   ]
  },
  {
   "cell_type": "code",
   "execution_count": null,
   "metadata": {},
   "outputs": [],
   "source": []
  }
 ],
 "metadata": {
  "kernelspec": {
   "display_name": ".venv",
   "language": "python",
   "name": "python3"
  },
  "language_info": {
   "codemirror_mode": {
    "name": "ipython",
    "version": 3
   },
   "file_extension": ".py",
   "mimetype": "text/x-python",
   "name": "python",
   "nbconvert_exporter": "python",
   "pygments_lexer": "ipython3",
   "version": "3.8.10"
  }
 },
 "nbformat": 4,
 "nbformat_minor": 2
}
