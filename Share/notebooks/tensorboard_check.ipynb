{
 "cells": [
  {
   "cell_type": "code",
   "execution_count": 1,
   "metadata": {},
   "outputs": [],
   "source": [
    "# %tensorboard --logdir ./logs/fit"
   ]
  },
  {
   "cell_type": "code",
   "execution_count": 46,
   "metadata": {},
   "outputs": [
    {
     "name": "stdout",
     "output_type": "stream",
     "text": [
      "login success!\n"
     ]
    },
    {
     "data": {
      "text/plain": [
       "<baostock.data.resultset.ResultData at 0x12bc37070>"
      ]
     },
     "execution_count": 46,
     "metadata": {},
     "output_type": "execute_result"
    }
   ],
   "source": [
    "import baostock as bs\n",
    "import pandas as pd\n",
    "import akshare as ak\n",
    "\n",
    "bs.login()"
   ]
  },
  {
   "cell_type": "code",
   "execution_count": 76,
   "metadata": {},
   "outputs": [
    {
     "data": {
      "text/html": [
       "<div>\n",
       "<style scoped>\n",
       "    .dataframe tbody tr th:only-of-type {\n",
       "        vertical-align: middle;\n",
       "    }\n",
       "\n",
       "    .dataframe tbody tr th {\n",
       "        vertical-align: top;\n",
       "    }\n",
       "\n",
       "    .dataframe thead th {\n",
       "        text-align: right;\n",
       "    }\n",
       "</style>\n",
       "<table border=\"1\" class=\"dataframe\">\n",
       "  <thead>\n",
       "    <tr style=\"text-align: right;\">\n",
       "      <th></th>\n",
       "      <th>date</th>\n",
       "      <th>open</th>\n",
       "      <th>high</th>\n",
       "      <th>low</th>\n",
       "      <th>close</th>\n",
       "      <th>volume</th>\n",
       "      <th>amount</th>\n",
       "      <th>outstanding_share</th>\n",
       "      <th>turnover</th>\n",
       "    </tr>\n",
       "  </thead>\n",
       "  <tbody>\n",
       "    <tr>\n",
       "      <th>7822</th>\n",
       "      <td>2024-03-08</td>\n",
       "      <td>10.35</td>\n",
       "      <td>10.44</td>\n",
       "      <td>10.30</td>\n",
       "      <td>10.38</td>\n",
       "      <td>111397428.0</td>\n",
       "      <td>1.154491e+09</td>\n",
       "      <td>1.940555e+10</td>\n",
       "      <td>0.005740</td>\n",
       "    </tr>\n",
       "    <tr>\n",
       "      <th>7823</th>\n",
       "      <td>2024-03-11</td>\n",
       "      <td>10.38</td>\n",
       "      <td>10.47</td>\n",
       "      <td>10.34</td>\n",
       "      <td>10.47</td>\n",
       "      <td>121067298.0</td>\n",
       "      <td>1.260212e+09</td>\n",
       "      <td>1.940555e+10</td>\n",
       "      <td>0.006239</td>\n",
       "    </tr>\n",
       "    <tr>\n",
       "      <th>7824</th>\n",
       "      <td>2024-03-12</td>\n",
       "      <td>10.48</td>\n",
       "      <td>10.59</td>\n",
       "      <td>10.41</td>\n",
       "      <td>10.56</td>\n",
       "      <td>164126237.0</td>\n",
       "      <td>1.722000e+09</td>\n",
       "      <td>1.940555e+10</td>\n",
       "      <td>0.008458</td>\n",
       "    </tr>\n",
       "    <tr>\n",
       "      <th>7825</th>\n",
       "      <td>2024-03-13</td>\n",
       "      <td>10.53</td>\n",
       "      <td>10.55</td>\n",
       "      <td>10.30</td>\n",
       "      <td>10.33</td>\n",
       "      <td>176803911.0</td>\n",
       "      <td>1.834655e+09</td>\n",
       "      <td>1.940555e+10</td>\n",
       "      <td>0.009111</td>\n",
       "    </tr>\n",
       "    <tr>\n",
       "      <th>7826</th>\n",
       "      <td>2024-03-14</td>\n",
       "      <td>10.30</td>\n",
       "      <td>10.38</td>\n",
       "      <td>10.20</td>\n",
       "      <td>10.23</td>\n",
       "      <td>140939973.0</td>\n",
       "      <td>1.448500e+09</td>\n",
       "      <td>1.940555e+10</td>\n",
       "      <td>0.007263</td>\n",
       "    </tr>\n",
       "  </tbody>\n",
       "</table>\n",
       "</div>"
      ],
      "text/plain": [
       "            date   open   high    low  close       volume        amount  \\\n",
       "7822  2024-03-08  10.35  10.44  10.30  10.38  111397428.0  1.154491e+09   \n",
       "7823  2024-03-11  10.38  10.47  10.34  10.47  121067298.0  1.260212e+09   \n",
       "7824  2024-03-12  10.48  10.59  10.41  10.56  164126237.0  1.722000e+09   \n",
       "7825  2024-03-13  10.53  10.55  10.30  10.33  176803911.0  1.834655e+09   \n",
       "7826  2024-03-14  10.30  10.38  10.20  10.23  140939973.0  1.448500e+09   \n",
       "\n",
       "      outstanding_share  turnover  \n",
       "7822       1.940555e+10  0.005740  \n",
       "7823       1.940555e+10  0.006239  \n",
       "7824       1.940555e+10  0.008458  \n",
       "7825       1.940555e+10  0.009111  \n",
       "7826       1.940555e+10  0.007263  "
      ]
     },
     "execution_count": 76,
     "metadata": {},
     "output_type": "execute_result"
    }
   ],
   "source": [
    "df = ak.stock_zh_a_daily('sz000001')\n",
    "df.tail()"
   ]
  },
  {
   "cell_type": "code",
   "execution_count": 77,
   "metadata": {},
   "outputs": [
    {
     "data": {
      "text/html": [
       "<div>\n",
       "<style scoped>\n",
       "    .dataframe tbody tr th:only-of-type {\n",
       "        vertical-align: middle;\n",
       "    }\n",
       "\n",
       "    .dataframe tbody tr th {\n",
       "        vertical-align: top;\n",
       "    }\n",
       "\n",
       "    .dataframe thead th {\n",
       "        text-align: right;\n",
       "    }\n",
       "</style>\n",
       "<table border=\"1\" class=\"dataframe\">\n",
       "  <thead>\n",
       "    <tr style=\"text-align: right;\">\n",
       "      <th></th>\n",
       "      <th>date</th>\n",
       "      <th>open</th>\n",
       "      <th>high</th>\n",
       "      <th>low</th>\n",
       "      <th>close</th>\n",
       "      <th>volume</th>\n",
       "      <th>amount</th>\n",
       "      <th>outstanding_share</th>\n",
       "      <th>turnover</th>\n",
       "    </tr>\n",
       "  </thead>\n",
       "  <tbody>\n",
       "    <tr>\n",
       "      <th>8040</th>\n",
       "      <td>2024-03-08</td>\n",
       "      <td>3026.16</td>\n",
       "      <td>3049.19</td>\n",
       "      <td>3016.90</td>\n",
       "      <td>3046.02</td>\n",
       "      <td>3.192044e+10</td>\n",
       "      <td>3.706475e+11</td>\n",
       "      <td>1.940555e+10</td>\n",
       "      <td>1.644913</td>\n",
       "    </tr>\n",
       "    <tr>\n",
       "      <th>8041</th>\n",
       "      <td>2024-03-11</td>\n",
       "      <td>3042.62</td>\n",
       "      <td>3068.46</td>\n",
       "      <td>3035.44</td>\n",
       "      <td>3068.46</td>\n",
       "      <td>3.616088e+10</td>\n",
       "      <td>4.278514e+11</td>\n",
       "      <td>1.940555e+10</td>\n",
       "      <td>1.863430</td>\n",
       "    </tr>\n",
       "    <tr>\n",
       "      <th>8042</th>\n",
       "      <td>2024-03-12</td>\n",
       "      <td>3068.18</td>\n",
       "      <td>3075.13</td>\n",
       "      <td>3044.86</td>\n",
       "      <td>3055.94</td>\n",
       "      <td>4.157439e+10</td>\n",
       "      <td>4.945585e+11</td>\n",
       "      <td>1.940555e+10</td>\n",
       "      <td>2.142397</td>\n",
       "    </tr>\n",
       "    <tr>\n",
       "      <th>8043</th>\n",
       "      <td>2024-03-13</td>\n",
       "      <td>3053.34</td>\n",
       "      <td>3061.95</td>\n",
       "      <td>3031.90</td>\n",
       "      <td>3043.84</td>\n",
       "      <td>3.650475e+10</td>\n",
       "      <td>4.424539e+11</td>\n",
       "      <td>1.940555e+10</td>\n",
       "      <td>1.881150</td>\n",
       "    </tr>\n",
       "    <tr>\n",
       "      <th>8044</th>\n",
       "      <td>2024-03-14</td>\n",
       "      <td>3042.41</td>\n",
       "      <td>3060.00</td>\n",
       "      <td>3020.64</td>\n",
       "      <td>3038.23</td>\n",
       "      <td>3.640723e+10</td>\n",
       "      <td>4.363388e+11</td>\n",
       "      <td>1.940555e+10</td>\n",
       "      <td>1.876125</td>\n",
       "    </tr>\n",
       "  </tbody>\n",
       "</table>\n",
       "</div>"
      ],
      "text/plain": [
       "            date     open     high      low    close        volume  \\\n",
       "8040  2024-03-08  3026.16  3049.19  3016.90  3046.02  3.192044e+10   \n",
       "8041  2024-03-11  3042.62  3068.46  3035.44  3068.46  3.616088e+10   \n",
       "8042  2024-03-12  3068.18  3075.13  3044.86  3055.94  4.157439e+10   \n",
       "8043  2024-03-13  3053.34  3061.95  3031.90  3043.84  3.650475e+10   \n",
       "8044  2024-03-14  3042.41  3060.00  3020.64  3038.23  3.640723e+10   \n",
       "\n",
       "            amount  outstanding_share  turnover  \n",
       "8040  3.706475e+11       1.940555e+10  1.644913  \n",
       "8041  4.278514e+11       1.940555e+10  1.863430  \n",
       "8042  4.945585e+11       1.940555e+10  2.142397  \n",
       "8043  4.424539e+11       1.940555e+10  1.881150  \n",
       "8044  4.363388e+11       1.940555e+10  1.876125  "
      ]
     },
     "execution_count": 77,
     "metadata": {},
     "output_type": "execute_result"
    }
   ],
   "source": [
    "df = ak.stock_zh_a_daily('sh000001')\n",
    "df.tail()"
   ]
  },
  {
   "cell_type": "code",
   "execution_count": 78,
   "metadata": {},
   "outputs": [
    {
     "data": {
      "text/html": [
       "<div>\n",
       "<style scoped>\n",
       "    .dataframe tbody tr th:only-of-type {\n",
       "        vertical-align: middle;\n",
       "    }\n",
       "\n",
       "    .dataframe tbody tr th {\n",
       "        vertical-align: top;\n",
       "    }\n",
       "\n",
       "    .dataframe thead th {\n",
       "        text-align: right;\n",
       "    }\n",
       "</style>\n",
       "<table border=\"1\" class=\"dataframe\">\n",
       "  <thead>\n",
       "    <tr style=\"text-align: right;\">\n",
       "      <th></th>\n",
       "      <th>日期</th>\n",
       "      <th>开盘</th>\n",
       "      <th>收盘</th>\n",
       "      <th>最高</th>\n",
       "      <th>最低</th>\n",
       "      <th>成交量</th>\n",
       "      <th>成交额</th>\n",
       "      <th>振幅</th>\n",
       "      <th>涨跌幅</th>\n",
       "      <th>涨跌额</th>\n",
       "      <th>换手率</th>\n",
       "    </tr>\n",
       "  </thead>\n",
       "  <tbody>\n",
       "    <tr>\n",
       "      <th>7867</th>\n",
       "      <td>2024-03-11</td>\n",
       "      <td>10.38</td>\n",
       "      <td>10.47</td>\n",
       "      <td>10.47</td>\n",
       "      <td>10.34</td>\n",
       "      <td>1210673</td>\n",
       "      <td>1.260212e+09</td>\n",
       "      <td>1.25</td>\n",
       "      <td>0.87</td>\n",
       "      <td>0.09</td>\n",
       "      <td>0.62</td>\n",
       "    </tr>\n",
       "    <tr>\n",
       "      <th>7868</th>\n",
       "      <td>2024-03-12</td>\n",
       "      <td>10.48</td>\n",
       "      <td>10.56</td>\n",
       "      <td>10.59</td>\n",
       "      <td>10.41</td>\n",
       "      <td>1641262</td>\n",
       "      <td>1.722000e+09</td>\n",
       "      <td>1.72</td>\n",
       "      <td>0.86</td>\n",
       "      <td>0.09</td>\n",
       "      <td>0.85</td>\n",
       "    </tr>\n",
       "    <tr>\n",
       "      <th>7869</th>\n",
       "      <td>2024-03-13</td>\n",
       "      <td>10.53</td>\n",
       "      <td>10.33</td>\n",
       "      <td>10.55</td>\n",
       "      <td>10.30</td>\n",
       "      <td>1768039</td>\n",
       "      <td>1.834655e+09</td>\n",
       "      <td>2.37</td>\n",
       "      <td>-2.18</td>\n",
       "      <td>-0.23</td>\n",
       "      <td>0.91</td>\n",
       "    </tr>\n",
       "    <tr>\n",
       "      <th>7870</th>\n",
       "      <td>2024-03-14</td>\n",
       "      <td>10.30</td>\n",
       "      <td>10.23</td>\n",
       "      <td>10.38</td>\n",
       "      <td>10.20</td>\n",
       "      <td>1409400</td>\n",
       "      <td>1.448500e+09</td>\n",
       "      <td>1.74</td>\n",
       "      <td>-0.97</td>\n",
       "      <td>-0.10</td>\n",
       "      <td>0.73</td>\n",
       "    </tr>\n",
       "    <tr>\n",
       "      <th>7871</th>\n",
       "      <td>2024-03-15</td>\n",
       "      <td>10.55</td>\n",
       "      <td>10.60</td>\n",
       "      <td>10.75</td>\n",
       "      <td>10.50</td>\n",
       "      <td>3750208</td>\n",
       "      <td>3.973799e+09</td>\n",
       "      <td>2.44</td>\n",
       "      <td>3.62</td>\n",
       "      <td>0.37</td>\n",
       "      <td>1.93</td>\n",
       "    </tr>\n",
       "  </tbody>\n",
       "</table>\n",
       "</div>"
      ],
      "text/plain": [
       "              日期     开盘     收盘     最高     最低      成交量           成交额    振幅  \\\n",
       "7867  2024-03-11  10.38  10.47  10.47  10.34  1210673  1.260212e+09  1.25   \n",
       "7868  2024-03-12  10.48  10.56  10.59  10.41  1641262  1.722000e+09  1.72   \n",
       "7869  2024-03-13  10.53  10.33  10.55  10.30  1768039  1.834655e+09  2.37   \n",
       "7870  2024-03-14  10.30  10.23  10.38  10.20  1409400  1.448500e+09  1.74   \n",
       "7871  2024-03-15  10.55  10.60  10.75  10.50  3750208  3.973799e+09  2.44   \n",
       "\n",
       "       涨跌幅   涨跌额   换手率  \n",
       "7867  0.87  0.09  0.62  \n",
       "7868  0.86  0.09  0.85  \n",
       "7869 -2.18 -0.23  0.91  \n",
       "7870 -0.97 -0.10  0.73  \n",
       "7871  3.62  0.37  1.93  "
      ]
     },
     "execution_count": 78,
     "metadata": {},
     "output_type": "execute_result"
    }
   ],
   "source": [
    "df = ak.stock_zh_a_hist('000001')\n",
    "df.tail()"
   ]
  },
  {
   "cell_type": "code",
   "execution_count": 42,
   "metadata": {},
   "outputs": [
    {
     "ename": "TypeError",
     "evalue": "query_history_k_data_plus() missing 1 required positional argument: 'fields'",
     "output_type": "error",
     "traceback": [
      "\u001b[0;31m---------------------------------------------------------------------------\u001b[0m",
      "\u001b[0;31mTypeError\u001b[0m                                 Traceback (most recent call last)",
      "Cell \u001b[0;32mIn[42], line 1\u001b[0m\n\u001b[0;32m----> 1\u001b[0m rs \u001b[38;5;241m=\u001b[39m \u001b[43mbs\u001b[49m\u001b[38;5;241;43m.\u001b[39;49m\u001b[43mquery_history_k_data_plus\u001b[49m\u001b[43m(\u001b[49m\n\u001b[1;32m      2\u001b[0m \u001b[43m    \u001b[49m\u001b[43mcode\u001b[49m\u001b[38;5;241;43m=\u001b[39;49m\u001b[38;5;124;43m\"\u001b[39;49m\u001b[38;5;124;43msh\u001b[39;49m\u001b[38;5;124;43m\"\u001b[39;49m\u001b[43m,\u001b[49m\n\u001b[1;32m      3\u001b[0m \u001b[43m    \u001b[49m\u001b[43mstart_date\u001b[49m\u001b[38;5;241;43m=\u001b[39;49m\u001b[38;5;124;43m'\u001b[39;49m\u001b[38;5;124;43m2000-01-01\u001b[39;49m\u001b[38;5;124;43m'\u001b[39;49m\u001b[43m,\u001b[49m\u001b[43m \u001b[49m\u001b[43mend_date\u001b[49m\u001b[38;5;241;43m=\u001b[39;49m\u001b[38;5;124;43m'\u001b[39;49m\u001b[38;5;124;43m2050-07-31\u001b[39;49m\u001b[38;5;124;43m'\u001b[39;49m\u001b[43m,\u001b[49m\n\u001b[1;32m      4\u001b[0m \u001b[43m    \u001b[49m\u001b[43mfrequency\u001b[49m\u001b[38;5;241;43m=\u001b[39;49m\u001b[38;5;124;43m\"\u001b[39;49m\u001b[38;5;124;43md\u001b[39;49m\u001b[38;5;124;43m\"\u001b[39;49m\u001b[43m,\u001b[49m\u001b[43m \u001b[49m\u001b[43madjustflag\u001b[49m\u001b[38;5;241;43m=\u001b[39;49m\u001b[38;5;124;43m\"\u001b[39;49m\u001b[38;5;124;43m1\u001b[39;49m\u001b[38;5;124;43m\"\u001b[39;49m\u001b[43m)\u001b[49m\n",
      "\u001b[0;31mTypeError\u001b[0m: query_history_k_data_plus() missing 1 required positional argument: 'fields'"
     ]
    }
   ],
   "source": [
    "rs = bs.query_history_k_data_plus(\n",
    "    code=\"sh.600519\",\n",
    "    start_date='2000-01-01', end_date='2001-07-31',\n",
    "    frequency=\"d\", adjustflag=\"1\")"
   ]
  },
  {
   "cell_type": "code",
   "execution_count": 58,
   "metadata": {},
   "outputs": [],
   "source": [
    "all_code = bs.query_all_stock(day='2024-03-13').get_data()"
   ]
  },
  {
   "cell_type": "code",
   "execution_count": 80,
   "metadata": {},
   "outputs": [],
   "source": [
    "df = pd.DataFrame()\n",
    "df['prefix'] = all_code['code'].map(lambda x: x.split('.')[0])\n",
    "df['code'] = all_code['code'].map(lambda x: x.split('.')[1])\n",
    "df['name'] = all_code['code_name']"
   ]
  },
  {
   "cell_type": "code",
   "execution_count": 81,
   "metadata": {},
   "outputs": [
    {
     "data": {
      "text/plain": [
       "array(['bj', 'sh', 'sz'], dtype=object)"
      ]
     },
     "execution_count": 81,
     "metadata": {},
     "output_type": "execute_result"
    }
   ],
   "source": [
    "df['prefix'].unique()"
   ]
  },
  {
   "cell_type": "code",
   "execution_count": 82,
   "metadata": {},
   "outputs": [
    {
     "data": {
      "text/plain": [
       "array(['0', '6'], dtype=object)"
      ]
     },
     "execution_count": 82,
     "metadata": {},
     "output_type": "execute_result"
    }
   ],
   "source": [
    "df[df['prefix'] == 'sh']['code'].map(lambda x: str(x)[0]).unique()"
   ]
  },
  {
   "cell_type": "code",
   "execution_count": 83,
   "metadata": {},
   "outputs": [
    {
     "data": {
      "text/plain": [
       "array(['4', '8'], dtype=object)"
      ]
     },
     "execution_count": 83,
     "metadata": {},
     "output_type": "execute_result"
    }
   ],
   "source": [
    "df[df['prefix'] == 'bj']['code'].map(lambda x: str(x)[0]).unique()"
   ]
  },
  {
   "cell_type": "code",
   "execution_count": 84,
   "metadata": {},
   "outputs": [
    {
     "data": {
      "text/plain": [
       "array(['0', '3'], dtype=object)"
      ]
     },
     "execution_count": 84,
     "metadata": {},
     "output_type": "execute_result"
    }
   ],
   "source": [
    "df[df['prefix'] == 'sz']['code'].map(lambda x: str(x)[0]).unique()"
   ]
  },
  {
   "cell_type": "code",
   "execution_count": null,
   "metadata": {},
   "outputs": [],
   "source": []
  }
 ],
 "metadata": {
  "kernelspec": {
   "display_name": ".venv",
   "language": "python",
   "name": "python3"
  },
  "language_info": {
   "codemirror_mode": {
    "name": "ipython",
    "version": 3
   },
   "file_extension": ".py",
   "mimetype": "text/x-python",
   "name": "python",
   "nbconvert_exporter": "python",
   "pygments_lexer": "ipython3",
   "version": "3.10.13"
  }
 },
 "nbformat": 4,
 "nbformat_minor": 2
}
