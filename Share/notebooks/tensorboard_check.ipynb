{
 "cells": [
  {
   "cell_type": "code",
   "execution_count": null,
   "metadata": {},
   "outputs": [],
   "source": [
    "# %tensorboard --logdir ./logs/fit"
   ]
  },
  {
   "cell_type": "code",
   "execution_count": null,
   "metadata": {},
   "outputs": [
    {
     "name": "stdout",
     "output_type": "stream",
     "text": [
      "login success!\n"
     ]
    },
    {
     "data": {
      "text/plain": [
       "<baostock.data.resultset.ResultData at 0x10564bcd0>"
      ]
     },
     "execution_count": 1,
     "metadata": {},
     "output_type": "execute_result"
    }
   ],
   "source": [
    "import baostock as bs\n",
    "import pandas as pd\n",
    "import akshare as ak\n",
    "\n",
    "bs.login()"
   ]
  },
  {
   "cell_type": "code",
   "execution_count": 2,
   "metadata": {},
   "outputs": [],
   "source": [
    "stock_info = bs.query_history_k_data_plus(\n",
    "                            code='sh.000016',\n",
    "                            fields=\"code,date,peTTM,psTTM,pcfNcfTTM,pbMRQ\",\n",
    "                            start_date='2000-01-01',\n",
    "                            end_date='2010-01-01',\n",
    "                            frequency=\"d\",\n",
    "                            adjustflag=\"1\",\n",
    "                        ).get_data()"
   ]
  },
  {
   "cell_type": "code",
   "execution_count": 3,
   "metadata": {},
   "outputs": [
    {
     "data": {
      "text/plain": [
       "code         object\n",
       "date         object\n",
       "peTTM        object\n",
       "psTTM        object\n",
       "pcfNcfTTM    object\n",
       "pbMRQ        object\n",
       "dtype: object"
      ]
     },
     "execution_count": 3,
     "metadata": {},
     "output_type": "execute_result"
    }
   ],
   "source": [
    "stock_info.dtypes"
   ]
  },
  {
   "cell_type": "code",
   "execution_count": 4,
   "metadata": {},
   "outputs": [],
   "source": [
    "df = bs.query_history_k_data_plus(\n",
    "                            code='sh.000016',\n",
    "                            fields=\"code,date,open,high,low,close,volume,amount\",\n",
    "                            start_date='2000-01-01',\n",
    "                            end_date='2010-01-01',\n",
    "                            frequency=\"d\",\n",
    "                            adjustflag=\"1\",\n",
    "                        ).get_data()"
   ]
  },
  {
   "cell_type": "code",
   "execution_count": 5,
   "metadata": {},
   "outputs": [
    {
     "data": {
      "text/plain": [
       "code      object\n",
       "date      object\n",
       "open      object\n",
       "high      object\n",
       "low       object\n",
       "close     object\n",
       "volume    object\n",
       "amount    object\n",
       "dtype: object"
      ]
     },
     "execution_count": 5,
     "metadata": {},
     "output_type": "execute_result"
    }
   ],
   "source": [
    "df.dtypes"
   ]
  },
  {
   "cell_type": "code",
   "execution_count": null,
   "metadata": {},
   "outputs": [],
   "source": []
  }
 ],
 "metadata": {
  "kernelspec": {
   "display_name": ".venv",
   "language": "python",
   "name": "python3"
  },
  "language_info": {
   "codemirror_mode": {
    "name": "ipython",
    "version": 3
   },
   "file_extension": ".py",
   "mimetype": "text/x-python",
   "name": "python",
   "nbconvert_exporter": "python",
   "pygments_lexer": "ipython3",
   "version": "3.10.6"
  }
 },
 "nbformat": 4,
 "nbformat_minor": 2
}
