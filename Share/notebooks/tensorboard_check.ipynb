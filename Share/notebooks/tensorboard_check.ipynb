{
 "cells": [
  {
   "cell_type": "code",
   "execution_count": null,
   "metadata": {},
   "outputs": [],
   "source": [
    "%tensorboard --logdir ./logs/fit"
   ]
  },
  {
   "cell_type": "code",
   "execution_count": 1,
   "metadata": {},
   "outputs": [
    {
     "name": "stderr",
     "output_type": "stream",
     "text": [
      "/hy-tmp/miniconda3/envs/quant/lib/python3.8/site-packages/akshare/__init__.py:2735: UserWarning: 为了支持更多特性，请将 Pandas 升级到 2.1.0 及以上版本！\n",
      "  warnings.warn(\n",
      "/hy-tmp/miniconda3/envs/quant/lib/python3.8/site-packages/akshare/__init__.py:2740: UserWarning: 为了支持更多特性，请将 Python 升级到 3.9.0 及以上版本！\n",
      "  warnings.warn(\n"
     ]
    }
   ],
   "source": [
    "import akshare as ak\n",
    "\n",
    "df = ak.index_stock_cons('000016')"
   ]
  },
  {
   "cell_type": "code",
   "execution_count": 4,
   "metadata": {},
   "outputs": [],
   "source": [
    "import sys\n",
    "sys.path.append('../')\n",
    "\n",
    "from database_auto.db_data_downloader.downloader_base import DownloaderBase\n",
    "import database_auto.database_config as db_config\n",
    "import sqlite3\n",
    "\n",
    "db_conn = sqlite3.connect('../database_auto/hh_quant_auto.db')\n",
    "db_downloader = DownloaderBase(db_conn, db_config)"
   ]
  },
  {
   "cell_type": "code",
   "execution_count": 11,
   "metadata": {},
   "outputs": [
    {
     "data": {
      "text/html": [
       "<div>\n",
       "<style scoped>\n",
       "    .dataframe tbody tr th:only-of-type {\n",
       "        vertical-align: middle;\n",
       "    }\n",
       "\n",
       "    .dataframe tbody tr th {\n",
       "        vertical-align: top;\n",
       "    }\n",
       "\n",
       "    .dataframe thead th {\n",
       "        text-align: right;\n",
       "    }\n",
       "</style>\n",
       "<table border=\"1\" class=\"dataframe\">\n",
       "  <thead>\n",
       "    <tr style=\"text-align: right;\">\n",
       "      <th></th>\n",
       "      <th>datetime</th>\n",
       "      <th>weekday</th>\n",
       "      <th>day_of_week</th>\n",
       "      <th>day_of_month</th>\n",
       "      <th>month</th>\n",
       "      <th>season</th>\n",
       "    </tr>\n",
       "  </thead>\n",
       "  <tbody>\n",
       "    <tr>\n",
       "      <th>80</th>\n",
       "      <td>2024-05-08</td>\n",
       "      <td>2</td>\n",
       "      <td>Wednesday</td>\n",
       "      <td>8</td>\n",
       "      <td>5</td>\n",
       "      <td>Spring</td>\n",
       "    </tr>\n",
       "    <tr>\n",
       "      <th>81</th>\n",
       "      <td>2024-05-09</td>\n",
       "      <td>3</td>\n",
       "      <td>Thursday</td>\n",
       "      <td>9</td>\n",
       "      <td>5</td>\n",
       "      <td>Spring</td>\n",
       "    </tr>\n",
       "    <tr>\n",
       "      <th>82</th>\n",
       "      <td>2024-05-10</td>\n",
       "      <td>4</td>\n",
       "      <td>Friday</td>\n",
       "      <td>10</td>\n",
       "      <td>5</td>\n",
       "      <td>Spring</td>\n",
       "    </tr>\n",
       "    <tr>\n",
       "      <th>83</th>\n",
       "      <td>2024-05-13</td>\n",
       "      <td>0</td>\n",
       "      <td>Monday</td>\n",
       "      <td>13</td>\n",
       "      <td>5</td>\n",
       "      <td>Spring</td>\n",
       "    </tr>\n",
       "    <tr>\n",
       "      <th>84</th>\n",
       "      <td>2024-05-14</td>\n",
       "      <td>1</td>\n",
       "      <td>Tuesday</td>\n",
       "      <td>14</td>\n",
       "      <td>5</td>\n",
       "      <td>Spring</td>\n",
       "    </tr>\n",
       "  </tbody>\n",
       "</table>\n",
       "</div>"
      ],
      "text/plain": [
       "      datetime  weekday day_of_week  day_of_month  month  season\n",
       "80  2024-05-08        2   Wednesday             8      5  Spring\n",
       "81  2024-05-09        3    Thursday             9      5  Spring\n",
       "82  2024-05-10        4      Friday            10      5  Spring\n",
       "83  2024-05-13        0      Monday            13      5  Spring\n",
       "84  2024-05-14        1     Tuesday            14      5  Spring"
      ]
     },
     "execution_count": 11,
     "metadata": {},
     "output_type": "execute_result"
    }
   ],
   "source": [
    "# db_downloader._download_history_indicator_info('sh.600028', '2024-01-01', '2024-12-31').tail()\n",
    "db_downloader._download_history_date_factor_info('2024-01-01', '2024-12-31').tail()"
   ]
  },
  {
   "cell_type": "code",
   "execution_count": 8,
   "metadata": {},
   "outputs": [
    {
     "data": {
      "text/html": [
       "<div>\n",
       "<style scoped>\n",
       "    .dataframe tbody tr th:only-of-type {\n",
       "        vertical-align: middle;\n",
       "    }\n",
       "\n",
       "    .dataframe tbody tr th {\n",
       "        vertical-align: top;\n",
       "    }\n",
       "\n",
       "    .dataframe thead th {\n",
       "        text-align: right;\n",
       "    }\n",
       "</style>\n",
       "<table border=\"1\" class=\"dataframe\">\n",
       "  <thead>\n",
       "    <tr style=\"text-align: right;\">\n",
       "      <th></th>\n",
       "      <th>code</th>\n",
       "      <th>datetime</th>\n",
       "      <th>open</th>\n",
       "      <th>high</th>\n",
       "      <th>low</th>\n",
       "      <th>close</th>\n",
       "      <th>volume</th>\n",
       "      <th>amount</th>\n",
       "      <th>turnover_rate</th>\n",
       "    </tr>\n",
       "  </thead>\n",
       "  <tbody>\n",
       "    <tr>\n",
       "      <th>79</th>\n",
       "      <td>sh.600028</td>\n",
       "      <td>2024-05-07</td>\n",
       "      <td>20.3996</td>\n",
       "      <td>20.6259</td>\n",
       "      <td>20.3349</td>\n",
       "      <td>20.5935</td>\n",
       "      <td>123966317.0</td>\n",
       "      <td>7.862712e+08</td>\n",
       "      <td>0.1305</td>\n",
       "    </tr>\n",
       "    <tr>\n",
       "      <th>80</th>\n",
       "      <td>sh.600028</td>\n",
       "      <td>2024-05-08</td>\n",
       "      <td>20.5612</td>\n",
       "      <td>20.9492</td>\n",
       "      <td>20.4966</td>\n",
       "      <td>20.7552</td>\n",
       "      <td>126175777.0</td>\n",
       "      <td>8.116725e+08</td>\n",
       "      <td>0.1329</td>\n",
       "    </tr>\n",
       "    <tr>\n",
       "      <th>81</th>\n",
       "      <td>sh.600028</td>\n",
       "      <td>2024-05-09</td>\n",
       "      <td>20.8199</td>\n",
       "      <td>20.9168</td>\n",
       "      <td>20.6259</td>\n",
       "      <td>20.6582</td>\n",
       "      <td>121513339.0</td>\n",
       "      <td>7.794047e+08</td>\n",
       "      <td>0.1279</td>\n",
       "    </tr>\n",
       "    <tr>\n",
       "      <th>82</th>\n",
       "      <td>sh.600028</td>\n",
       "      <td>2024-05-10</td>\n",
       "      <td>20.6905</td>\n",
       "      <td>20.8199</td>\n",
       "      <td>20.6259</td>\n",
       "      <td>20.6905</td>\n",
       "      <td>125549135.0</td>\n",
       "      <td>8.048338e+08</td>\n",
       "      <td>0.1322</td>\n",
       "    </tr>\n",
       "    <tr>\n",
       "      <th>83</th>\n",
       "      <td>sh.600028</td>\n",
       "      <td>2024-05-13</td>\n",
       "      <td>20.6905</td>\n",
       "      <td>20.8199</td>\n",
       "      <td>20.5289</td>\n",
       "      <td>20.6582</td>\n",
       "      <td>111637147.0</td>\n",
       "      <td>7.152156e+08</td>\n",
       "      <td>0.1175</td>\n",
       "    </tr>\n",
       "  </tbody>\n",
       "</table>\n",
       "</div>"
      ],
      "text/plain": [
       "         code    datetime     open     high      low    close       volume  \\\n",
       "79  sh.600028  2024-05-07  20.3996  20.6259  20.3349  20.5935  123966317.0   \n",
       "80  sh.600028  2024-05-08  20.5612  20.9492  20.4966  20.7552  126175777.0   \n",
       "81  sh.600028  2024-05-09  20.8199  20.9168  20.6259  20.6582  121513339.0   \n",
       "82  sh.600028  2024-05-10  20.6905  20.8199  20.6259  20.6905  125549135.0   \n",
       "83  sh.600028  2024-05-13  20.6905  20.8199  20.5289  20.6582  111637147.0   \n",
       "\n",
       "          amount  turnover_rate  \n",
       "79  7.862712e+08         0.1305  \n",
       "80  8.116725e+08         0.1329  \n",
       "81  7.794047e+08         0.1279  \n",
       "82  8.048338e+08         0.1322  \n",
       "83  7.152156e+08         0.1175  "
      ]
     },
     "execution_count": 8,
     "metadata": {},
     "output_type": "execute_result"
    }
   ],
   "source": [
    "df.tail()"
   ]
  },
  {
   "cell_type": "code",
   "execution_count": 53,
   "metadata": {},
   "outputs": [
    {
     "name": "stdout",
     "output_type": "stream",
     "text": [
      "login success!\n",
      "login respond error_code:0\n",
      "login respond  error_msg:success\n"
     ]
    }
   ],
   "source": [
    "import baostock as bs\n",
    "import pandas as pd\n",
    "\n",
    "# 登陆系统\n",
    "lg = bs.login()\n",
    "# 显示登陆返回信息\n",
    "print('login respond error_code:'+lg.error_code)\n",
    "print('login respond  error_msg:'+lg.error_msg)\n",
    "\n",
    "# # 获取上证50成分股\n",
    "# rs = bs.query_sz50_stocks(date='2010-04-28')\n",
    "\n",
    "# # 登出系统\n",
    "# bs.logout()"
   ]
  },
  {
   "cell_type": "code",
   "execution_count": 54,
   "metadata": {},
   "outputs": [],
   "source": [
    "df = bs.query_stock_basic().get_data()\n",
    "dd = bs.query_stock_industry().get_data()\n",
    "if not df.empty and not dd.empty:\n",
    "    dataframe = df.merge(dd[[\"code\", \"industry\"]], on=[\"code\"], how='left')\n",
    "    dataframe = dataframe.rename(\n",
    "        columns={\n",
    "            \"code\": \"code\",\n",
    "            \"code_name\": \"code_name\",\n",
    "            \"industry\": \"industry\",\n",
    "            \"ipoDate\": \"in_date\",\n",
    "            \"outDate\": \"out_date\",\n",
    "            \"type\": \"type\",\n",
    "            \"status\": \"status\",\n",
    "        }\n",
    "    )\n",
    "    dataframe[\"industry\"] = dataframe[\"industry\"].replace(\"\", \"其他\")\n",
    "    dataframe[\"type\"] = dataframe[\"type\"].map(lambda x: {\"1\": \"股票\", \"2\": \"指数\", \"3\": \"其它\", \"4\": \"可转债\", \"5\": \"ETF\"}.get(x, \"其他\"))\n",
    "    dataframe[\"status\"] = dataframe[\"status\"].map(lambda x: {\"1\": \"上市\", \"2\": \"退市\"}.get(x, \"其他\"))"
   ]
  },
  {
   "cell_type": "code",
   "execution_count": 61,
   "metadata": {},
   "outputs": [
    {
     "data": {
      "text/plain": [
       "sz    3881\n",
       "sh    3068\n",
       "of     971\n",
       "Name: code, dtype: int64"
      ]
     },
     "execution_count": 61,
     "metadata": {},
     "output_type": "execute_result"
    }
   ],
   "source": [
    "dataframe['code'].map(lambda x: x.split('.')[0]).value_counts()"
   ]
  },
  {
   "cell_type": "code",
   "execution_count": null,
   "metadata": {},
   "outputs": [],
   "source": [
    "dataframe[dataframe['code'].str.startswith(('sh', 'sz'))]['code'].shape"
   ]
  },
  {
   "cell_type": "code",
   "execution_count": 8,
   "metadata": {},
   "outputs": [],
   "source": [
    "code = 'sh.600356'\n",
    "\n",
    "df = bs.query_history_k_data_plus(\n",
    "                code=code,\n",
    "                fields=\"code,date,open,high,low,close,volume,amount,turn\",\n",
    "                start_date='2000-01-01',\n",
    "                end_date='2024-05-14',\n",
    "                frequency=\"d\",\n",
    "                adjustflag=\"1\",\n",
    "            ).get_data()"
   ]
  },
  {
   "cell_type": "code",
   "execution_count": 9,
   "metadata": {},
   "outputs": [
    {
     "data": {
      "text/html": [
       "<div>\n",
       "<style scoped>\n",
       "    .dataframe tbody tr th:only-of-type {\n",
       "        vertical-align: middle;\n",
       "    }\n",
       "\n",
       "    .dataframe tbody tr th {\n",
       "        vertical-align: top;\n",
       "    }\n",
       "\n",
       "    .dataframe thead th {\n",
       "        text-align: right;\n",
       "    }\n",
       "</style>\n",
       "<table border=\"1\" class=\"dataframe\">\n",
       "  <thead>\n",
       "    <tr style=\"text-align: right;\">\n",
       "      <th></th>\n",
       "    </tr>\n",
       "  </thead>\n",
       "  <tbody>\n",
       "  </tbody>\n",
       "</table>\n",
       "</div>"
      ],
      "text/plain": [
       "Empty DataFrame\n",
       "Columns: []\n",
       "Index: []"
      ]
     },
     "execution_count": 9,
     "metadata": {},
     "output_type": "execute_result"
    }
   ],
   "source": [
    "df.head()"
   ]
  },
  {
   "cell_type": "code",
   "execution_count": 12,
   "metadata": {},
   "outputs": [],
   "source": [
    "df = bs.query_stock_basic().get_data()\n",
    "dd = bs.query_stock_industry().get_data()\n",
    "if not df.empty and not dd.empty:\n",
    "    dataframe = df.merge(dd[['code', 'code_name', 'industry']], on=['code', 'code_name'])"
   ]
  },
  {
   "cell_type": "code",
   "execution_count": 21,
   "metadata": {},
   "outputs": [
    {
     "data": {
      "text/plain": [
       "其他      889\n",
       "机械设备    472\n",
       "化工      425\n",
       "医药生物    397\n",
       "电子      342\n",
       "计算机     265\n",
       "电气设备    242\n",
       "汽车      213\n",
       "公用事业    205\n",
       "传媒      166\n",
       "轻工制造    150\n",
       "建筑装饰    148\n",
       "有色金属    134\n",
       "交通运输    126\n",
       "食品饮料    120\n",
       "房地产     115\n",
       "通信      109\n",
       "纺织服装     94\n",
       "农林牧渔     94\n",
       "商业贸易     92\n",
       "国防军工     89\n",
       "非银金融     82\n",
       "建筑材料     73\n",
       "家用电器     71\n",
       "采掘       63\n",
       "银行       41\n",
       "综合       38\n",
       "休闲服务     36\n",
       "钢铁       36\n",
       "Name: industry, dtype: int64"
      ]
     },
     "execution_count": 21,
     "metadata": {},
     "output_type": "execute_result"
    }
   ],
   "source": [
    "dataframe['industry'].replace(\"\", \"其他\").value_counts()"
   ]
  },
  {
   "cell_type": "code",
   "execution_count": 3,
   "metadata": {},
   "outputs": [],
   "source": [
    "dd = bs.query_stock_basic().get_data()"
   ]
  },
  {
   "cell_type": "code",
   "execution_count": 7,
   "metadata": {},
   "outputs": [
    {
     "data": {
      "text/plain": [
       "sz    3881\n",
       "sh    3068\n",
       "of     971\n",
       "Name: code, dtype: int64"
      ]
     },
     "execution_count": 7,
     "metadata": {},
     "output_type": "execute_result"
    }
   ],
   "source": [
    "dd['code'].map(lambda x: x.split('.')[0]).value_counts()"
   ]
  },
  {
   "cell_type": "code",
   "execution_count": 2,
   "metadata": {},
   "outputs": [],
   "source": [
    "df = bs.query_trade_dates(start_date='2013-02-05', end_date='2014-02-05').get_data()\n",
    "df = df[df[\"is_trading_day\"] == \"1\"][\"calendar_date\"]  # 选择交易日(%Y-%m-%d)"
   ]
  },
  {
   "cell_type": "code",
   "execution_count": 6,
   "metadata": {},
   "outputs": [
    {
     "data": {
      "text/html": [
       "<div>\n",
       "<style scoped>\n",
       "    .dataframe tbody tr th:only-of-type {\n",
       "        vertical-align: middle;\n",
       "    }\n",
       "\n",
       "    .dataframe tbody tr th {\n",
       "        vertical-align: top;\n",
       "    }\n",
       "\n",
       "    .dataframe thead th {\n",
       "        text-align: right;\n",
       "    }\n",
       "</style>\n",
       "<table border=\"1\" class=\"dataframe\">\n",
       "  <thead>\n",
       "    <tr style=\"text-align: right;\">\n",
       "      <th></th>\n",
       "      <th>datetime</th>\n",
       "    </tr>\n",
       "  </thead>\n",
       "  <tbody>\n",
       "    <tr>\n",
       "      <th>0</th>\n",
       "      <td>2013-02-05</td>\n",
       "    </tr>\n",
       "  </tbody>\n",
       "</table>\n",
       "</div>"
      ],
      "text/plain": [
       "     datetime\n",
       "0  2013-02-05"
      ]
     },
     "execution_count": 6,
     "metadata": {},
     "output_type": "execute_result"
    }
   ],
   "source": [
    "pd.DataFrame([{'datetime': '2013-02-05'}])"
   ]
  },
  {
   "cell_type": "code",
   "execution_count": 15,
   "metadata": {},
   "outputs": [],
   "source": [
    "df = bs.query_all_stock(day='2013-02-05').get_data()"
   ]
  },
  {
   "cell_type": "code",
   "execution_count": 27,
   "metadata": {},
   "outputs": [],
   "source": [
    "dd = bs.query_trade_dates(start_date='2013-02-05', end_date='2014-02-05').get_data().to_records(index=False)"
   ]
  },
  {
   "cell_type": "code",
   "execution_count": null,
   "metadata": {},
   "outputs": [],
   "source": []
  },
  {
   "cell_type": "code",
   "execution_count": 24,
   "metadata": {},
   "outputs": [],
   "source": [
    "sample = df.head().to_records(index=False)"
   ]
  },
  {
   "cell_type": "code",
   "execution_count": 13,
   "metadata": {},
   "outputs": [],
   "source": [
    "dd = bs.query_all_stock()"
   ]
  },
  {
   "cell_type": "code",
   "execution_count": 2,
   "metadata": {},
   "outputs": [],
   "source": [
    "import sqlite3\n",
    "import pandas as pd\n",
    "\n",
    "db_conn = sqlite3.connect('../database_auto/hh_quant_auto.db')\n"
   ]
  },
  {
   "cell_type": "code",
   "execution_count": 3,
   "metadata": {},
   "outputs": [],
   "source": [
    "code = pd.read_sql_query('select distinct code from hh_quant_history_alpha158_factor_info;', db_conn)"
   ]
  },
  {
   "cell_type": "code",
   "execution_count": 4,
   "metadata": {},
   "outputs": [
    {
     "data": {
      "text/plain": [
       "'sz.300029'"
      ]
     },
     "execution_count": 4,
     "metadata": {},
     "output_type": "execute_result"
    }
   ],
   "source": [
    "code['code'].tolist()[-1]"
   ]
  },
  {
   "cell_type": "code",
   "execution_count": 5,
   "metadata": {},
   "outputs": [],
   "source": [
    "all_stock_info = pd.read_sql_query('select * from hh_quant_all_stock_info;', db_conn)\n",
    "all_stock_set = list(sorted(all_stock_info[all_stock_info[\"code\"].str.startswith((\"sh\", \"sz\"))][\"code\"].unique()))"
   ]
  },
  {
   "cell_type": "code",
   "execution_count": 9,
   "metadata": {},
   "outputs": [
    {
     "data": {
      "text/plain": [
       "6949"
      ]
     },
     "execution_count": 9,
     "metadata": {},
     "output_type": "execute_result"
    }
   ],
   "source": [
    "len(all_stock_set)"
   ]
  },
  {
   "cell_type": "code",
   "execution_count": 21,
   "metadata": {},
   "outputs": [
    {
     "data": {
      "text/plain": [
       "'sz.300030'"
      ]
     },
     "execution_count": 21,
     "metadata": {},
     "output_type": "execute_result"
    }
   ],
   "source": [
    "all_stock_set[5245]"
   ]
  },
  {
   "cell_type": "code",
   "execution_count": 20,
   "metadata": {},
   "outputs": [
    {
     "data": {
      "text/plain": [
       "datetime.datetime(2024, 5, 7, 0, 0)"
      ]
     },
     "execution_count": 20,
     "metadata": {},
     "output_type": "execute_result"
    }
   ],
   "source": [
    "from datetime import datetime\n",
    "datetime.strptime('2024-05-07', \"%Y-%m-%d\")"
   ]
  },
  {
   "cell_type": "code",
   "execution_count": 1,
   "metadata": {},
   "outputs": [
    {
     "name": "stderr",
     "output_type": "stream",
     "text": [
      "2024-05-16 01:51:28.847155: I tensorflow/core/platform/cpu_feature_guard.cc:182] This TensorFlow binary is optimized to use available CPU instructions in performance-critical operations.\n",
      "To enable the following instructions: AVX2 FMA, in other operations, rebuild TensorFlow with the appropriate compiler flags.\n",
      "2024-05-16 01:51:30.047017: W tensorflow/compiler/tf2tensorrt/utils/py_utils.cc:38] TF-TRT Warning: Could not find TensorRT\n"
     ]
    }
   ],
   "source": [
    "import tensorflow as tf\n",
    "import numpy as np"
   ]
  },
  {
   "cell_type": "code",
   "execution_count": 3,
   "metadata": {},
   "outputs": [
    {
     "name": "stdout",
     "output_type": "stream",
     "text": [
      "version_2: [0.33333333 0.33333333 0.33333333]\n"
     ]
    }
   ],
   "source": [
    "# sample_1 = np.array([0,0,0])\n",
    "sample_2 = np.array([-1e9,-1e9,-1e9])\n",
    "\n",
    "# print(f\"version_1: {tf.nn.softmax(sample_1)}\")\n",
    "print(f\"version_2: {tf.nn.softmax(sample_2)}\")"
   ]
  },
  {
   "cell_type": "code",
   "execution_count": null,
   "metadata": {},
   "outputs": [],
   "source": []
  },
  {
   "cell_type": "code",
   "execution_count": 7,
   "metadata": {},
   "outputs": [
    {
     "data": {
      "text/plain": [
       "<tf.Tensor: shape=(4,), dtype=float64, numpy=array([0.09003057, 0.24472847, 0.66524096, 0.        ])>"
      ]
     },
     "execution_count": 7,
     "metadata": {},
     "output_type": "execute_result"
    }
   ],
   "source": [
    "test = np.array([1,2,3,-65504.])\n",
    "\n",
    "tf.nn.softmax(test)"
   ]
  },
  {
   "cell_type": "code",
   "execution_count": 8,
   "metadata": {},
   "outputs": [
    {
     "data": {
      "text/html": [
       "<div>\n",
       "<style scoped>\n",
       "    .dataframe tbody tr th:only-of-type {\n",
       "        vertical-align: middle;\n",
       "    }\n",
       "\n",
       "    .dataframe tbody tr th {\n",
       "        vertical-align: top;\n",
       "    }\n",
       "\n",
       "    .dataframe thead th {\n",
       "        text-align: right;\n",
       "    }\n",
       "</style>\n",
       "<table border=\"1\" class=\"dataframe\">\n",
       "  <thead>\n",
       "    <tr style=\"text-align: right;\">\n",
       "      <th></th>\n",
       "      <th>datetime</th>\n",
       "    </tr>\n",
       "  </thead>\n",
       "  <tbody>\n",
       "    <tr>\n",
       "      <th>0</th>\n",
       "      <td>1</td>\n",
       "    </tr>\n",
       "    <tr>\n",
       "      <th>1</th>\n",
       "      <td>2</td>\n",
       "    </tr>\n",
       "    <tr>\n",
       "      <th>2</th>\n",
       "      <td>3</td>\n",
       "    </tr>\n",
       "    <tr>\n",
       "      <th>3</th>\n",
       "      <td>4</td>\n",
       "    </tr>\n",
       "    <tr>\n",
       "      <th>4</th>\n",
       "      <td>5</td>\n",
       "    </tr>\n",
       "  </tbody>\n",
       "</table>\n",
       "</div>"
      ],
      "text/plain": [
       "   datetime\n",
       "0         1\n",
       "1         2\n",
       "2         3\n",
       "3         4\n",
       "4         5"
      ]
     },
     "execution_count": 8,
     "metadata": {},
     "output_type": "execute_result"
    }
   ],
   "source": [
    "pd.DataFrame({\"datetime\": [1,2,3,4,5]})"
   ]
  },
  {
   "cell_type": "code",
   "execution_count": 1,
   "metadata": {},
   "outputs": [
    {
     "name": "stdout",
     "output_type": "stream",
     "text": [
      "Python 3.8.10\n"
     ]
    }
   ],
   "source": [
    "import sys\n",
    "sys.path.append('../')\n",
    "\n",
    "import warnings\n",
    "warnings.filterwarnings(\"ignore\")\n",
    "\n",
    "import os\n",
    "import pandas as pd\n",
    "import numpy as np\n",
    "import akshare as ak\n",
    "import sqlite3\n",
    "import matplotlib.pyplot as plt\n",
    "%matplotlib inline\n",
    "\n",
    "from datetime import datetime\n",
    "from dateutil.relativedelta import relativedelta\n",
    "from tqdm import tqdm\n",
    "from database_auto.db_data_downloader.downloader_base import DownloaderBase\n",
    "import database_auto.database_config as db_config\n",
    "\n",
    "pd.options.display.max_rows=None\n",
    "pd.options.display.max_columns=None\n",
    "\n",
    "!python --version\n",
    "\n",
    "db_conn = sqlite3.connect('../database_auto/hh_quant_auto.db')\n",
    "db_downloader = DownloaderBase(db_conn, db_config)"
   ]
  },
  {
   "cell_type": "code",
   "execution_count": null,
   "metadata": {},
   "outputs": [],
   "source": [
    "dd = db_downloader._download_history_alpha158_factor_info()['code'].unique()"
   ]
  },
  {
   "cell_type": "code",
   "execution_count": 5,
   "metadata": {},
   "outputs": [
    {
     "data": {
      "text/html": [
       "<div>\n",
       "<style scoped>\n",
       "    .dataframe tbody tr th:only-of-type {\n",
       "        vertical-align: middle;\n",
       "    }\n",
       "\n",
       "    .dataframe tbody tr th {\n",
       "        vertical-align: top;\n",
       "    }\n",
       "\n",
       "    .dataframe thead th {\n",
       "        text-align: right;\n",
       "    }\n",
       "</style>\n",
       "<table border=\"1\" class=\"dataframe\">\n",
       "  <thead>\n",
       "    <tr style=\"text-align: right;\">\n",
       "      <th></th>\n",
       "      <th>code</th>\n",
       "      <th>datetime</th>\n",
       "      <th>KMID</th>\n",
       "      <th>KLEN</th>\n",
       "      <th>KMID2</th>\n",
       "      <th>KUP</th>\n",
       "      <th>KUP2</th>\n",
       "      <th>KLOW</th>\n",
       "      <th>KLOW2</th>\n",
       "      <th>KSFT</th>\n",
       "      <th>KSFT2</th>\n",
       "      <th>OPEN0</th>\n",
       "      <th>OPEN1</th>\n",
       "      <th>OPEN2</th>\n",
       "      <th>OPEN3</th>\n",
       "      <th>OPEN4</th>\n",
       "      <th>HIGH0</th>\n",
       "      <th>HIGH1</th>\n",
       "      <th>HIGH2</th>\n",
       "      <th>HIGH3</th>\n",
       "      <th>HIGH4</th>\n",
       "      <th>LOW0</th>\n",
       "      <th>LOW1</th>\n",
       "      <th>LOW2</th>\n",
       "      <th>LOW3</th>\n",
       "      <th>LOW4</th>\n",
       "      <th>CLOSE0</th>\n",
       "      <th>CLOSE1</th>\n",
       "      <th>CLOSE2</th>\n",
       "      <th>CLOSE3</th>\n",
       "      <th>CLOSE4</th>\n",
       "      <th>VOLUME0</th>\n",
       "      <th>VOLUME1</th>\n",
       "      <th>VOLUME2</th>\n",
       "      <th>VOLUME3</th>\n",
       "      <th>VOLUME4</th>\n",
       "      <th>ROC5</th>\n",
       "      <th>ROC10</th>\n",
       "      <th>ROC20</th>\n",
       "      <th>ROC30</th>\n",
       "      <th>ROC60</th>\n",
       "      <th>MAX5</th>\n",
       "      <th>MAX10</th>\n",
       "      <th>MAX20</th>\n",
       "      <th>MAX30</th>\n",
       "      <th>MAX60</th>\n",
       "      <th>MIN5</th>\n",
       "      <th>MIN10</th>\n",
       "      <th>MIN20</th>\n",
       "      <th>MIN30</th>\n",
       "      <th>MIN60</th>\n",
       "      <th>MA5</th>\n",
       "      <th>MA10</th>\n",
       "      <th>MA20</th>\n",
       "      <th>MA30</th>\n",
       "      <th>MA60</th>\n",
       "      <th>STD5</th>\n",
       "      <th>STD10</th>\n",
       "      <th>STD20</th>\n",
       "      <th>STD30</th>\n",
       "      <th>STD60</th>\n",
       "      <th>BETA5</th>\n",
       "      <th>BETA10</th>\n",
       "      <th>BETA20</th>\n",
       "      <th>BETA30</th>\n",
       "      <th>BETA60</th>\n",
       "      <th>RSQR5</th>\n",
       "      <th>RSQR10</th>\n",
       "      <th>RSQR20</th>\n",
       "      <th>RSQR30</th>\n",
       "      <th>RSQR60</th>\n",
       "      <th>RESI5</th>\n",
       "      <th>RESI10</th>\n",
       "      <th>RESI20</th>\n",
       "      <th>RESI30</th>\n",
       "      <th>RESI60</th>\n",
       "      <th>QTLU5</th>\n",
       "      <th>QTLU10</th>\n",
       "      <th>QTLU20</th>\n",
       "      <th>QTLU30</th>\n",
       "      <th>QTLU60</th>\n",
       "      <th>QTLD5</th>\n",
       "      <th>QTLD10</th>\n",
       "      <th>QTLD20</th>\n",
       "      <th>QTLD30</th>\n",
       "      <th>QTLD60</th>\n",
       "      <th>TSRANK5</th>\n",
       "      <th>TSRANK10</th>\n",
       "      <th>TSRANK20</th>\n",
       "      <th>TSRANK30</th>\n",
       "      <th>TSRANK60</th>\n",
       "      <th>RSV5</th>\n",
       "      <th>RSV10</th>\n",
       "      <th>RSV20</th>\n",
       "      <th>RSV30</th>\n",
       "      <th>RSV60</th>\n",
       "      <th>IMAX5</th>\n",
       "      <th>IMAX10</th>\n",
       "      <th>IMAX20</th>\n",
       "      <th>IMAX30</th>\n",
       "      <th>IMAX60</th>\n",
       "      <th>IMIN5</th>\n",
       "      <th>IMIN10</th>\n",
       "      <th>IMIN20</th>\n",
       "      <th>IMIN30</th>\n",
       "      <th>IMIN60</th>\n",
       "      <th>IMXD5</th>\n",
       "      <th>IMXD10</th>\n",
       "      <th>IMXD20</th>\n",
       "      <th>IMXD30</th>\n",
       "      <th>IMXD60</th>\n",
       "      <th>CORR5</th>\n",
       "      <th>CORR10</th>\n",
       "      <th>CORR20</th>\n",
       "      <th>CORR30</th>\n",
       "      <th>CORR60</th>\n",
       "      <th>CORD5</th>\n",
       "      <th>CORD10</th>\n",
       "      <th>CORD20</th>\n",
       "      <th>CORD30</th>\n",
       "      <th>CORD60</th>\n",
       "      <th>CNTP5</th>\n",
       "      <th>CNTP10</th>\n",
       "      <th>CNTP20</th>\n",
       "      <th>CNTP30</th>\n",
       "      <th>CNTP60</th>\n",
       "      <th>CNTN5</th>\n",
       "      <th>CNTN10</th>\n",
       "      <th>CNTN20</th>\n",
       "      <th>CNTN30</th>\n",
       "      <th>CNTN60</th>\n",
       "      <th>CNTD5</th>\n",
       "      <th>CNTD10</th>\n",
       "      <th>CNTD20</th>\n",
       "      <th>CNTD30</th>\n",
       "      <th>CNTD60</th>\n",
       "      <th>SUMP5</th>\n",
       "      <th>SUMP10</th>\n",
       "      <th>SUMP20</th>\n",
       "      <th>SUMP30</th>\n",
       "      <th>SUMP60</th>\n",
       "      <th>SUMN5</th>\n",
       "      <th>SUMN10</th>\n",
       "      <th>SUMN20</th>\n",
       "      <th>SUMN30</th>\n",
       "      <th>SUMN60</th>\n",
       "      <th>SUMD5</th>\n",
       "      <th>SUMD10</th>\n",
       "      <th>SUMD20</th>\n",
       "      <th>SUMD30</th>\n",
       "      <th>SUMD60</th>\n",
       "      <th>VMA5</th>\n",
       "      <th>VMA10</th>\n",
       "      <th>VMA20</th>\n",
       "      <th>VMA30</th>\n",
       "      <th>VMA60</th>\n",
       "      <th>VSTD5</th>\n",
       "      <th>VSTD10</th>\n",
       "      <th>VSTD20</th>\n",
       "      <th>VSTD30</th>\n",
       "      <th>VSTD60</th>\n",
       "      <th>WVMA5</th>\n",
       "      <th>WVMA10</th>\n",
       "      <th>WVMA20</th>\n",
       "      <th>WVMA30</th>\n",
       "      <th>WVMA60</th>\n",
       "      <th>VSUMP5</th>\n",
       "      <th>VSUMP10</th>\n",
       "      <th>VSUMP20</th>\n",
       "      <th>VSUMP30</th>\n",
       "      <th>VSUMP60</th>\n",
       "      <th>VSUMN5</th>\n",
       "      <th>VSUMN10</th>\n",
       "      <th>VSUMN20</th>\n",
       "      <th>VSUMN30</th>\n",
       "      <th>VSUMN60</th>\n",
       "      <th>VSUMD5</th>\n",
       "      <th>VSUMD10</th>\n",
       "      <th>VSUMD20</th>\n",
       "      <th>VSUMD30</th>\n",
       "      <th>VSUMD60</th>\n",
       "    </tr>\n",
       "  </thead>\n",
       "  <tbody>\n",
       "  </tbody>\n",
       "</table>\n",
       "</div>"
      ],
      "text/plain": [
       "Empty DataFrame\n",
       "Columns: [code, datetime, KMID, KLEN, KMID2, KUP, KUP2, KLOW, KLOW2, KSFT, KSFT2, OPEN0, OPEN1, OPEN2, OPEN3, OPEN4, HIGH0, HIGH1, HIGH2, HIGH3, HIGH4, LOW0, LOW1, LOW2, LOW3, LOW4, CLOSE0, CLOSE1, CLOSE2, CLOSE3, CLOSE4, VOLUME0, VOLUME1, VOLUME2, VOLUME3, VOLUME4, ROC5, ROC10, ROC20, ROC30, ROC60, MAX5, MAX10, MAX20, MAX30, MAX60, MIN5, MIN10, MIN20, MIN30, MIN60, MA5, MA10, MA20, MA30, MA60, STD5, STD10, STD20, STD30, STD60, BETA5, BETA10, BETA20, BETA30, BETA60, RSQR5, RSQR10, RSQR20, RSQR30, RSQR60, RESI5, RESI10, RESI20, RESI30, RESI60, QTLU5, QTLU10, QTLU20, QTLU30, QTLU60, QTLD5, QTLD10, QTLD20, QTLD30, QTLD60, TSRANK5, TSRANK10, TSRANK20, TSRANK30, TSRANK60, RSV5, RSV10, RSV20, RSV30, RSV60, IMAX5, IMAX10, IMAX20, IMAX30, ...]\n",
       "Index: []"
      ]
     },
     "execution_count": 5,
     "metadata": {},
     "output_type": "execute_result"
    }
   ],
   "source": [
    "df.head()"
   ]
  },
  {
   "cell_type": "code",
   "execution_count": null,
   "metadata": {},
   "outputs": [],
   "source": []
  }
 ],
 "metadata": {
  "kernelspec": {
   "display_name": ".venv",
   "language": "python",
   "name": "python3"
  },
  "language_info": {
   "codemirror_mode": {
    "name": "ipython",
    "version": 3
   },
   "file_extension": ".py",
   "mimetype": "text/x-python",
   "name": "python",
   "nbconvert_exporter": "python",
   "pygments_lexer": "ipython3",
   "version": "3.8.10"
  }
 },
 "nbformat": 4,
 "nbformat_minor": 2
}
