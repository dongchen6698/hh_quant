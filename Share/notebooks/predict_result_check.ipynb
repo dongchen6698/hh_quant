{
 "cells": [
  {
   "cell_type": "code",
   "execution_count": 25,
   "metadata": {},
   "outputs": [],
   "source": [
    "import warnings\n",
    "warnings.filterwarnings(\"ignore\")\n",
    "\n",
    "import os\n",
    "import pandas as pd\n",
    "import matplotlib.pyplot as plt\n",
    "%matplotlib inline\n",
    "\n",
    "from sklearn.metrics import accuracy_score, precision_score, recall_score, confusion_matrix"
   ]
  },
  {
   "cell_type": "code",
   "execution_count": 26,
   "metadata": {},
   "outputs": [],
   "source": [
    "def plot_series_dist(series):\n",
    "    data = series\n",
    "    # 使用matplotlib画直方图\n",
    "    plt.hist(data, bins=60, edgecolor='k', alpha=0.7)\n",
    "    plt.xlabel('Value')\n",
    "    plt.ylabel('Frequency')\n",
    "    plt.title('Histogram of Data')\n",
    "    plt.show()"
   ]
  },
  {
   "cell_type": "code",
   "execution_count": 27,
   "metadata": {},
   "outputs": [],
   "source": [
    "root_path = '../../Offline/backtest/backtest_data/000016/'\n",
    "file_list = sorted(os.listdir(root_path))"
   ]
  },
  {
   "cell_type": "code",
   "execution_count": 28,
   "metadata": {},
   "outputs": [
    {
     "name": "stdout",
     "output_type": "stream",
     "text": [
      "stock_selection_results_20190101.pkl\n",
      "Accuracy: 0.59, Precision: 0.61, Recall: 0.91\n",
      "Confusion:                  Predicted Negative  Predicted Positive\n",
      "Actual Negative                 122                1477\n",
      "Actual Positive                 236                2350\n",
      "\n",
      "\n"
     ]
    }
   ],
   "source": [
    "for i in file_list:\n",
    "    # df = pd.read_pickle(root_path + i).groupby('datetime', group_keys=False).apply(lambda x: x.nlargest(20, 'future_return_pred'))\n",
    "    df = pd.read_pickle(root_path + i)\n",
    "    true_label = (df['future_return'] > 0).astype(int)\n",
    "    pred_label = (df['future_return_pred'] > 0).astype(int)\n",
    "\n",
    "    accuracy = accuracy_score(true_label, pred_label)\n",
    "    precision = precision_score(true_label, pred_label)\n",
    "    recall = recall_score(true_label, pred_label)\n",
    "    confusion = confusion_matrix(true_label, pred_label)\n",
    "    print(f\"{i}\")\n",
    "    print(f\"Accuracy: {accuracy:.2f}, Precision: {precision:.2f}, Recall: {recall:.2f}\")\n",
    "    print(f\"Confusion: {pd.DataFrame(confusion, index=['Actual Negative', 'Actual Positive'], columns=['Predicted Negative', 'Predicted Positive'])}\")\n",
    "    print(f\"\\n\")"
   ]
  }
 ],
 "metadata": {
  "kernelspec": {
   "display_name": ".venv",
   "language": "python",
   "name": "python3"
  },
  "language_info": {
   "codemirror_mode": {
    "name": "ipython",
    "version": 3
   },
   "file_extension": ".py",
   "mimetype": "text/x-python",
   "name": "python",
   "nbconvert_exporter": "python",
   "pygments_lexer": "ipython3",
   "version": "3.10.13"
  }
 },
 "nbformat": 4,
 "nbformat_minor": 2
}
