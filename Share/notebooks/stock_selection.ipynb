{
 "cells": [
  {
   "cell_type": "code",
   "execution_count": 1,
   "metadata": {},
   "outputs": [],
   "source": [
    "import sys\n",
    "sys.path.append('../')\n",
    "\n",
    "import warnings\n",
    "warnings.filterwarnings(\"ignore\")\n",
    "\n",
    "import pandas as pd\n",
    "import numpy as np\n",
    "import akshare as ak\n",
    "import sqlite3\n",
    "import matplotlib.pyplot as plt\n",
    "%matplotlib inline\n",
    "\n",
    "from datetime import datetime, date\n",
    "from dateutil.relativedelta import relativedelta\n",
    "from tqdm import tqdm\n",
    "from database.downloader.downloader_base import DownloaderBase\n",
    "import database.database_config as db_config\n",
    "\n",
    "pd.options.display.max_rows=None\n",
    "pd.options.display.max_columns=None"
   ]
  },
  {
   "cell_type": "code",
   "execution_count": 2,
   "metadata": {},
   "outputs": [],
   "source": [
    "def plot_series_dist(series):\n",
    "    data = series\n",
    "    # 使用matplotlib画直方图\n",
    "    plt.hist(data, bins=60, edgecolor='k', alpha=0.7)\n",
    "    plt.xlabel('Value')\n",
    "    plt.ylabel('Frequency')\n",
    "    plt.title('Histogram of Data')\n",
    "    plt.show()\n",
    "\n",
    "class PreProcessing:\n",
    "    def __init__(self, db_downloader:DownloaderBase) -> None:\n",
    "        self.db_downloader = db_downloader\n",
    "\n",
    "    def _build_label(self, stock_dataframe):\n",
    "        N = 5 # 最大持仓周期 = N天，第N+1天开盘卖出\n",
    "        df = stock_dataframe.copy()\n",
    "        # 标签构建\n",
    "        df['future_return'] = df['close'].shift(-N) / df['open'].shift(-1) - 1 # 计算第N日收益率\n",
    "        # 极值处理\n",
    "        df['future_return'] = np.clip(\n",
    "            df['future_return'], \n",
    "            np.nanquantile(df['future_return'], 0.01), \n",
    "            np.nanquantile(df['future_return'], 0.99),\n",
    "            )\n",
    "        # 过滤第二天一字涨停情况\n",
    "        df = df[df['high'].shift(-1) != df['low'].shift(-1)]\n",
    "        return df[['datetime', 'future_return']]\n",
    "\n",
    "\n",
    "    def _process_one_stock(self, stock_code, start_date, end_date):\n",
    "        stock_base = self.db_downloader._download_stock_base_info(stock_code) # 获取基础代码\n",
    "        stock_individual = self.db_downloader._download_stock_individual_info(stock_code) # 获取profile信息\n",
    "        stock_history = self.db_downloader._download_stock_history_info(stock_code, start_date, end_date) # 获取历史行情\n",
    "        stock_indicator = self.db_downloader._download_stock_indicator_info(stock_code, start_date, end_date) # 获取指标数据\n",
    "        stock_factor_date = self.db_downloader._download_stock_factor_date_info() # 获取日期特征\n",
    "        stock_factor_qlib = self.db_downloader._download_stock_factor_qlib_info(stock_code, start_date, end_date) # 获取量价特征\n",
    "        stock_label = self._build_label(stock_history) # 构建label\n",
    "        stock_df = stock_base.merge(stock_individual, on=['stock_code']).merge(stock_history, on=['stock_code']).merge(stock_indicator, on=['stock_code', 'datetime']).merge(stock_label, on=['datetime']).merge(stock_factor_date, on=['datetime']).merge(stock_factor_qlib, on=['stock_code', 'datetime']) # 整合数据\n",
    "        stock_df = stock_base \\\n",
    "            .merge(stock_individual, on=['stock_code', 'stock_name']) \\\n",
    "            .merge(stock_history, on=['stock_code']) \\\n",
    "            .merge(stock_indicator, on=['stock_code', 'datetime']) \\\n",
    "            .merge(stock_label, on=['datetime']) \\\n",
    "            .merge(stock_factor_date, on=['datetime']) \\\n",
    "            .merge(stock_factor_qlib, on=['stock_code', 'datetime']) # 整合数据\n",
    "        stock_df = stock_df.dropna()\n",
    "        return stock_df\n",
    "    \n",
    "    def _process_all_stock(self, code_type, start_date, end_date):\n",
    "        # stock_code_list = list(ak.stock_info_a_code_name()['code'].unique()) # 获取A股所有股票列表\n",
    "        # stock_code_list = list(ak.index_stock_cons(\"000905\")['品种代码'].unique()) # 获取中证500的股票代码列表\n",
    "        stock_code_list = list(ak.index_stock_cons(code_type)['品种代码'].unique()) # 获取沪深300的股票代码列表\n",
    "        # stock_code_list = list(ak.index_stock_cons(code_type)['品种代码'].unique()) # 获取中证50的股票代码列表\n",
    "        stock_df_list = []\n",
    "        for stock_code in tqdm(stock_code_list, desc=f'Process: {code_type} ...'):\n",
    "            stock_df = self._process_one_stock(stock_code, start_date, end_date)\n",
    "            if not stock_df.empty:\n",
    "                stock_df_list.append(stock_df)\n",
    "        return pd.concat(stock_df_list)\n",
    "        # return stock_df_list"
   ]
  },
  {
   "cell_type": "code",
   "execution_count": 3,
   "metadata": {},
   "outputs": [],
   "source": [
    "db_conn = sqlite3.connect('../database/hh_quant.db')\n",
    "db_downloader = DownloaderBase(db_conn, db_config)\n",
    "proprocessor = PreProcessing(db_downloader=db_downloader)"
   ]
  },
  {
   "cell_type": "markdown",
   "metadata": {},
   "source": [
    "## 使用Tensorflow"
   ]
  },
  {
   "cell_type": "code",
   "execution_count": 4,
   "metadata": {},
   "outputs": [
    {
     "name": "stderr",
     "output_type": "stream",
     "text": [
      "2024-03-18 17:19:44.138655: I tensorflow/core/platform/cpu_feature_guard.cc:182] This TensorFlow binary is optimized to use available CPU instructions in performance-critical operations.\n",
      "To enable the following instructions: AVX2 AVX512F AVX512_VNNI FMA, in other operations, rebuild TensorFlow with the appropriate compiler flags.\n"
     ]
    },
    {
     "name": "stdout",
     "output_type": "stream",
     "text": [
      "2.15.0\n"
     ]
    }
   ],
   "source": [
    "# 使用tensorflow处理原始数据\n",
    "import numpy as np\n",
    "import pandas as pd\n",
    "import tensorflow as tf\n",
    "from model import QuantModel\n",
    "print(tf.__version__)"
   ]
  },
  {
   "cell_type": "code",
   "execution_count": 5,
   "metadata": {},
   "outputs": [],
   "source": [
    "def extract_train_val_data(df, train_start_date, train_end_date, val_start_date, val_end_date):\n",
    "    train_start_date = pd.to_datetime(train_start_date)\n",
    "    train_end_date = pd.to_datetime(train_end_date)\n",
    "    val_start_date = pd.to_datetime(val_start_date)\n",
    "    val_end_date = pd.to_datetime(val_end_date)\n",
    "\n",
    "    train_data = df[(pd.to_datetime(df['datetime']) >= train_start_date) & (pd.to_datetime(df['datetime']) <= train_end_date)]\n",
    "    val_data = df[(pd.to_datetime(df['datetime']) >= val_start_date) & (pd.to_datetime(df['datetime']) <= val_end_date)]\n",
    "\n",
    "    print(f\"train_data_size: {train_data.shape}\")\n",
    "    print(f\"validation_data_size: {val_data.shape}\")\n",
    "    return train_data, val_data\n",
    "\n",
    "def transfer_data_type(df, columns, dtype):\n",
    "    for col in columns:\n",
    "        df[col] = df[col].astype(dtype)\n",
    "    return df\n",
    "\n",
    "def get_numeric_boundaries(series, num_bins=30):\n",
    "    if series.nunique() < num_bins:\n",
    "        boundaries = sorted(series.unique())\n",
    "    else:\n",
    "        boundaries = pd.qcut(series, num_bins, retbins=True, duplicates='drop')[1].tolist()\n",
    "    return boundaries\n",
    "\n",
    "def df_to_dataset(dataframe, feature_cols, label_cols, shuffle=True, batch_size=32):\n",
    "    features = dataframe[feature_cols]\n",
    "    labels = [dataframe[label_col] for label_col in label_cols]\n",
    "    ds = tf.data.Dataset.from_tensor_slices((dict(features), tuple(labels)))\n",
    "    if shuffle:\n",
    "        ds = ds.shuffle(buffer_size=len(features))\n",
    "    ds = ds.batch(batch_size)\n",
    "    ds = ds.prefetch(batch_size)\n",
    "    return ds"
   ]
  },
  {
   "cell_type": "code",
   "execution_count": 6,
   "metadata": {},
   "outputs": [
    {
     "data": {
      "text/plain": [
       "[['20140101', '20191231', '20200101', '20200630'],\n",
       " ['20140701', '20200630', '20200701', '20201231'],\n",
       " ['20150101', '20201231', '20210101', '20210630'],\n",
       " ['20150701', '20210630', '20210701', '20211231'],\n",
       " ['20160101', '20211231', '20220101', '20220630'],\n",
       " ['20160701', '20220630', '20220701', '20221231'],\n",
       " ['20170101', '20221231', '20230101', '20230630'],\n",
       " ['20170701', '20230630', '20230701', '20231231']]"
      ]
     },
     "execution_count": 6,
     "metadata": {},
     "output_type": "execute_result"
    }
   ],
   "source": [
    "backtest_start_date = '20200101'\n",
    "backtest_end_date = '20240101'\n",
    "train_period = 6 # year：训练数据周期长度\n",
    "update_period = 6 # month：模型更新周期长度\n",
    "\n",
    "def get_rolling_date_period(backtest_start_date, backtest_end_date, training_period, update_period):\n",
    "    backtest_start_date = datetime.strptime(backtest_start_date, '%Y%m%d')\n",
    "    backtest_end_date = datetime.strptime(backtest_end_date, '%Y%m%d')\n",
    "    result = []\n",
    "    rolling_flag = True\n",
    "    while rolling_flag:\n",
    "        current_val_start_date = backtest_start_date\n",
    "        current_val_end_date = current_val_start_date + relativedelta(months=update_period) - relativedelta(days=1)\n",
    "        if current_val_start_date < backtest_end_date:\n",
    "            current_train_start_date = current_val_start_date - relativedelta(years=training_period)\n",
    "            current_train_end_date = current_val_start_date - relativedelta(days=1)\n",
    "            result.append([\n",
    "                current_train_start_date.strftime(\"%Y%m%d\"),\n",
    "                current_train_end_date.strftime(\"%Y%m%d\"),\n",
    "                current_val_start_date.strftime(\"%Y%m%d\"),\n",
    "                current_val_end_date.strftime(\"%Y%m%d\")\n",
    "                ])\n",
    "            backtest_start_date += relativedelta(months=update_period) \n",
    "        else:\n",
    "            rolling_flag=False # 结束滚动训练\n",
    "    return result\n",
    "\n",
    "rolling_period = get_rolling_date_period(backtest_start_date, backtest_end_date, train_period, update_period)\n",
    "rolling_period"
   ]
  },
  {
   "cell_type": "code",
   "execution_count": 7,
   "metadata": {},
   "outputs": [],
   "source": [
    "# df = proprocessor._process_all_stock(code_type='000300', start_date='20170701', end_date='20231231')"
   ]
  },
  {
   "cell_type": "code",
   "execution_count": 8,
   "metadata": {},
   "outputs": [
    {
     "name": "stderr",
     "output_type": "stream",
     "text": [
      "Rolling Training...:   0%|          | 0/8 [00:00<?, ?it/s]"
     ]
    },
    {
     "name": "stdout",
     "output_type": "stream",
     "text": [
      "train_start: 20140101, train_end: 20191231, val_start: 20200101, val_end: 20200630\n"
     ]
    },
    {
     "name": "stderr",
     "output_type": "stream",
     "text": [
      "Process: 000300 ...: 100%|██████████| 284/284 [00:43<00:00,  6.46it/s]\n"
     ]
    },
    {
     "name": "stdout",
     "output_type": "stream",
     "text": [
      "train_data_size: (267459, 207)\n",
      "validation_data_size: (27100, 207)\n",
      "CrossNet parameterization: vector\n",
      "Epoch 1/50\n"
     ]
    },
    {
     "name": "stderr",
     "output_type": "stream",
     "text": [
      "2024-03-18 17:34:03.639264: I tensorflow/core/kernels/data/shuffle_dataset_op.cc:422] ShuffleDatasetV3:1: Filling up shuffle buffer (this may take a while): 106847 of 267459\n",
      "2024-03-18 17:34:13.638095: I tensorflow/core/kernels/data/shuffle_dataset_op.cc:422] ShuffleDatasetV3:1: Filling up shuffle buffer (this may take a while): 217663 of 267459\n",
      "2024-03-18 17:34:18.675005: I tensorflow/core/kernels/data/shuffle_dataset_op.cc:452] Shuffle buffer filled.\n"
     ]
    },
    {
     "name": "stdout",
     "output_type": "stream",
     "text": [
      "1045/1045 - 112s - loss: 0.1996 - val_loss: 0.0061 - 112s/epoch - 107ms/step\n",
      "Epoch 2/50\n"
     ]
    },
    {
     "name": "stderr",
     "output_type": "stream",
     "text": [
      "2024-03-18 17:35:29.318955: I tensorflow/core/kernels/data/shuffle_dataset_op.cc:422] ShuffleDatasetV3:1: Filling up shuffle buffer (this may take a while): 121848 of 267459\n",
      "2024-03-18 17:35:39.318967: I tensorflow/core/kernels/data/shuffle_dataset_op.cc:422] ShuffleDatasetV3:1: Filling up shuffle buffer (this may take a while): 236929 of 267459\n",
      "2024-03-18 17:35:42.481298: I tensorflow/core/kernels/data/shuffle_dataset_op.cc:452] Shuffle buffer filled.\n"
     ]
    },
    {
     "name": "stdout",
     "output_type": "stream",
     "text": [
      "1045/1045 - 60s - loss: 0.0216 - val_loss: 0.0041 - 60s/epoch - 57ms/step\n",
      "Epoch 3/50\n"
     ]
    },
    {
     "name": "stderr",
     "output_type": "stream",
     "text": [
      "2024-03-18 17:36:29.043362: I tensorflow/core/kernels/data/shuffle_dataset_op.cc:422] ShuffleDatasetV3:1: Filling up shuffle buffer (this may take a while): 137183 of 267459\n",
      "2024-03-18 17:36:39.043355: I tensorflow/core/kernels/data/shuffle_dataset_op.cc:422] ShuffleDatasetV3:1: Filling up shuffle buffer (this may take a while): 264304 of 267459\n",
      "2024-03-18 17:36:39.287105: I tensorflow/core/kernels/data/shuffle_dataset_op.cc:452] Shuffle buffer filled.\n"
     ]
    },
    {
     "name": "stdout",
     "output_type": "stream",
     "text": [
      "1045/1045 - 55s - loss: 0.0055 - val_loss: 0.0040 - 55s/epoch - 52ms/step\n",
      "Epoch 4/50\n"
     ]
    },
    {
     "name": "stderr",
     "output_type": "stream",
     "text": [
      "2024-03-18 17:37:23.619625: I tensorflow/core/kernels/data/shuffle_dataset_op.cc:422] ShuffleDatasetV3:1: Filling up shuffle buffer (this may take a while): 137026 of 267459\n",
      "2024-03-18 17:37:33.619643: I tensorflow/core/kernels/data/shuffle_dataset_op.cc:422] ShuffleDatasetV3:1: Filling up shuffle buffer (this may take a while): 263858 of 267459\n",
      "2024-03-18 17:37:33.924950: I tensorflow/core/kernels/data/shuffle_dataset_op.cc:452] Shuffle buffer filled.\n"
     ]
    },
    {
     "name": "stdout",
     "output_type": "stream",
     "text": [
      "1045/1045 - 54s - loss: 0.0032 - val_loss: 0.0039 - 54s/epoch - 52ms/step\n",
      "Epoch 5/50\n"
     ]
    },
    {
     "name": "stderr",
     "output_type": "stream",
     "text": [
      "2024-03-18 17:38:18.051701: I tensorflow/core/kernels/data/shuffle_dataset_op.cc:422] ShuffleDatasetV3:1: Filling up shuffle buffer (this may take a while): 123764 of 267459\n",
      "2024-03-18 17:38:33.281254: I tensorflow/core/kernels/data/shuffle_dataset_op.cc:452] Shuffle buffer filled.\n"
     ]
    },
    {
     "name": "stdout",
     "output_type": "stream",
     "text": [
      "1045/1045 - 69s - loss: 0.0030 - val_loss: 0.0039 - 69s/epoch - 66ms/step\n",
      "Epoch 6/50\n"
     ]
    },
    {
     "name": "stderr",
     "output_type": "stream",
     "text": [
      "2024-03-18 17:39:27.074108: I tensorflow/core/kernels/data/shuffle_dataset_op.cc:422] ShuffleDatasetV3:1: Filling up shuffle buffer (this may take a while): 120500 of 267459\n",
      "2024-03-18 17:39:37.074095: I tensorflow/core/kernels/data/shuffle_dataset_op.cc:422] ShuffleDatasetV3:1: Filling up shuffle buffer (this may take a while): 232068 of 267459\n",
      "2024-03-18 17:39:40.110206: I tensorflow/core/kernels/data/shuffle_dataset_op.cc:452] Shuffle buffer filled.\n"
     ]
    },
    {
     "name": "stdout",
     "output_type": "stream",
     "text": [
      "1045/1045 - 56s - loss: 0.0030 - val_loss: 0.0039 - 56s/epoch - 54ms/step\n",
      "Epoch 7/50\n"
     ]
    },
    {
     "name": "stderr",
     "output_type": "stream",
     "text": [
      "2024-03-18 17:40:23.502268: I tensorflow/core/kernels/data/shuffle_dataset_op.cc:422] ShuffleDatasetV3:1: Filling up shuffle buffer (this may take a while): 138098 of 267459\n",
      "2024-03-18 17:40:33.613323: I tensorflow/core/kernels/data/shuffle_dataset_op.cc:452] Shuffle buffer filled.\n"
     ]
    },
    {
     "name": "stdout",
     "output_type": "stream",
     "text": [
      "1045/1045 - 51s - loss: 0.0030 - val_loss: 0.0040 - 51s/epoch - 49ms/step\n",
      "Epoch 8/50\n"
     ]
    },
    {
     "name": "stderr",
     "output_type": "stream",
     "text": [
      "2024-03-18 17:41:14.798709: I tensorflow/core/kernels/data/shuffle_dataset_op.cc:422] ShuffleDatasetV3:1: Filling up shuffle buffer (this may take a while): 137653 of 267459\n",
      "2024-03-18 17:41:24.798789: I tensorflow/core/kernels/data/shuffle_dataset_op.cc:422] ShuffleDatasetV3:1: Filling up shuffle buffer (this may take a while): 249168 of 267459\n",
      "2024-03-18 17:41:26.798068: I tensorflow/core/kernels/data/shuffle_dataset_op.cc:452] Shuffle buffer filled.\n"
     ]
    },
    {
     "name": "stdout",
     "output_type": "stream",
     "text": [
      "1045/1045 - 64s - loss: 0.0030 - val_loss: 0.0039 - 64s/epoch - 61ms/step\n",
      "Epoch 9/50\n"
     ]
    },
    {
     "name": "stderr",
     "output_type": "stream",
     "text": [
      "2024-03-18 17:42:18.492046: I tensorflow/core/kernels/data/shuffle_dataset_op.cc:422] ShuffleDatasetV3:1: Filling up shuffle buffer (this may take a while): 115383 of 267459\n",
      "2024-03-18 17:42:28.492103: I tensorflow/core/kernels/data/shuffle_dataset_op.cc:422] ShuffleDatasetV3:1: Filling up shuffle buffer (this may take a while): 219427 of 267459\n",
      "2024-03-18 17:42:33.498617: I tensorflow/core/kernels/data/shuffle_dataset_op.cc:452] Shuffle buffer filled.\n"
     ]
    },
    {
     "name": "stdout",
     "output_type": "stream",
     "text": [
      "1045/1045 - 63s - loss: 0.0030 - val_loss: 0.0039 - 63s/epoch - 60ms/step\n",
      "Epoch 10/50\n"
     ]
    },
    {
     "name": "stderr",
     "output_type": "stream",
     "text": [
      "2024-03-18 17:43:21.346662: I tensorflow/core/kernels/data/shuffle_dataset_op.cc:422] ShuffleDatasetV3:1: Filling up shuffle buffer (this may take a while): 119934 of 267459\n",
      "2024-03-18 17:43:31.346698: I tensorflow/core/kernels/data/shuffle_dataset_op.cc:422] ShuffleDatasetV3:1: Filling up shuffle buffer (this may take a while): 222594 of 267459\n",
      "2024-03-18 17:43:35.353373: I tensorflow/core/kernels/data/shuffle_dataset_op.cc:452] Shuffle buffer filled.\n"
     ]
    },
    {
     "name": "stdout",
     "output_type": "stream",
     "text": [
      "1045/1045 - 64s - loss: 0.0030 - val_loss: 0.0040 - 64s/epoch - 61ms/step\n",
      "Epoch 11/50\n"
     ]
    },
    {
     "name": "stderr",
     "output_type": "stream",
     "text": [
      "2024-03-18 17:44:25.334583: I tensorflow/core/kernels/data/shuffle_dataset_op.cc:422] ShuffleDatasetV3:1: Filling up shuffle buffer (this may take a while): 118230 of 267459\n",
      "2024-03-18 17:44:35.334561: I tensorflow/core/kernels/data/shuffle_dataset_op.cc:422] ShuffleDatasetV3:1: Filling up shuffle buffer (this may take a while): 220860 of 267459\n",
      "2024-03-18 17:44:40.306879: I tensorflow/core/kernels/data/shuffle_dataset_op.cc:452] Shuffle buffer filled.\n"
     ]
    },
    {
     "name": "stdout",
     "output_type": "stream",
     "text": [
      "1045/1045 - 64s - loss: 0.0030 - val_loss: 0.0041 - 64s/epoch - 62ms/step\n",
      "Epoch 12/50\n"
     ]
    },
    {
     "name": "stderr",
     "output_type": "stream",
     "text": [
      "2024-03-18 17:45:29.671395: I tensorflow/core/kernels/data/shuffle_dataset_op.cc:422] ShuffleDatasetV3:1: Filling up shuffle buffer (this may take a while): 128763 of 267459\n",
      "2024-03-18 17:45:39.678342: I tensorflow/core/kernels/data/shuffle_dataset_op.cc:422] ShuffleDatasetV3:1: Filling up shuffle buffer (this may take a while): 245047 of 267459\n",
      "2024-03-18 17:45:41.753539: I tensorflow/core/kernels/data/shuffle_dataset_op.cc:452] Shuffle buffer filled.\n"
     ]
    },
    {
     "name": "stdout",
     "output_type": "stream",
     "text": [
      "1045/1045 - 57s - loss: 0.0029 - val_loss: 0.0042 - 57s/epoch - 55ms/step\n",
      "Epoch 13/50\n"
     ]
    },
    {
     "name": "stderr",
     "output_type": "stream",
     "text": [
      "2024-03-18 17:46:26.741041: I tensorflow/core/kernels/data/shuffle_dataset_op.cc:422] ShuffleDatasetV3:1: Filling up shuffle buffer (this may take a while): 124266 of 267459\n",
      "2024-03-18 17:46:36.741057: I tensorflow/core/kernels/data/shuffle_dataset_op.cc:422] ShuffleDatasetV3:1: Filling up shuffle buffer (this may take a while): 237480 of 267459\n",
      "2024-03-18 17:46:39.583228: I tensorflow/core/kernels/data/shuffle_dataset_op.cc:452] Shuffle buffer filled.\n"
     ]
    },
    {
     "name": "stdout",
     "output_type": "stream",
     "text": [
      "1045/1045 - 56s - loss: 0.0028 - val_loss: 0.0042 - 56s/epoch - 53ms/step\n",
      "Epoch 14/50\n"
     ]
    },
    {
     "name": "stderr",
     "output_type": "stream",
     "text": [
      "2024-03-18 17:47:22.606241: I tensorflow/core/kernels/data/shuffle_dataset_op.cc:422] ShuffleDatasetV3:1: Filling up shuffle buffer (this may take a while): 140847 of 267459\n",
      "2024-03-18 17:47:32.638830: I tensorflow/core/kernels/data/shuffle_dataset_op.cc:422] ShuffleDatasetV3:1: Filling up shuffle buffer (this may take a while): 245582 of 267459\n",
      "2024-03-18 17:47:35.048655: I tensorflow/core/kernels/data/shuffle_dataset_op.cc:452] Shuffle buffer filled.\n"
     ]
    },
    {
     "name": "stdout",
     "output_type": "stream",
     "text": [
      "Restoring model weights from the end of the best epoch: 4.\n",
      "1045/1045 - 62s - loss: 0.0027 - val_loss: 0.0043 - 62s/epoch - 59ms/step\n",
      "Epoch 14: early stopping\n",
      "106/106 [==============================] - 5s 27ms/step\n"
     ]
    },
    {
     "name": "stderr",
     "output_type": "stream",
     "text": [
      "Rolling Training...:  12%|█▎        | 1/8 [28:32<3:19:44, 1712.02s/it]"
     ]
    },
    {
     "name": "stdout",
     "output_type": "stream",
     "text": [
      "train_start: 20140701, train_end: 20200630, val_start: 20200701, val_end: 20201231\n"
     ]
    },
    {
     "name": "stderr",
     "output_type": "stream",
     "text": [
      "Process: 000300 ...: 100%|██████████| 284/284 [00:53<00:00,  5.27it/s]\n"
     ]
    },
    {
     "name": "stdout",
     "output_type": "stream",
     "text": [
      "train_data_size: (276942, 207)\n",
      "validation_data_size: (30338, 207)\n",
      "CrossNet parameterization: vector\n",
      "Epoch 1/50\n"
     ]
    },
    {
     "name": "stderr",
     "output_type": "stream",
     "text": [
      "2024-03-18 18:03:11.246954: I tensorflow/core/kernels/data/shuffle_dataset_op.cc:422] ShuffleDatasetV3:10: Filling up shuffle buffer (this may take a while): 110704 of 276942\n",
      "2024-03-18 18:03:27.356596: I tensorflow/core/kernels/data/shuffle_dataset_op.cc:452] Shuffle buffer filled.\n"
     ]
    },
    {
     "name": "stdout",
     "output_type": "stream",
     "text": [
      "1082/1082 - 118s - loss: 0.0956 - val_loss: 0.0042 - 118s/epoch - 109ms/step\n",
      "Epoch 2/50\n"
     ]
    },
    {
     "name": "stderr",
     "output_type": "stream",
     "text": [
      "2024-03-18 18:04:43.986794: I tensorflow/core/kernels/data/shuffle_dataset_op.cc:422] ShuffleDatasetV3:10: Filling up shuffle buffer (this may take a while): 118638 of 276942\n",
      "2024-03-18 18:04:58.734318: I tensorflow/core/kernels/data/shuffle_dataset_op.cc:452] Shuffle buffer filled.\n"
     ]
    },
    {
     "name": "stdout",
     "output_type": "stream",
     "text": [
      "1082/1082 - 64s - loss: 0.0103 - val_loss: 0.0038 - 64s/epoch - 59ms/step\n",
      "Epoch 3/50\n"
     ]
    },
    {
     "name": "stderr",
     "output_type": "stream",
     "text": [
      "2024-03-18 18:05:47.542457: I tensorflow/core/kernels/data/shuffle_dataset_op.cc:422] ShuffleDatasetV3:10: Filling up shuffle buffer (this may take a while): 115449 of 276942\n",
      "2024-03-18 18:05:57.542508: I tensorflow/core/kernels/data/shuffle_dataset_op.cc:422] ShuffleDatasetV3:10: Filling up shuffle buffer (this may take a while): 224758 of 276942\n",
      "2024-03-18 18:06:02.651933: I tensorflow/core/kernels/data/shuffle_dataset_op.cc:452] Shuffle buffer filled.\n"
     ]
    },
    {
     "name": "stdout",
     "output_type": "stream",
     "text": [
      "1082/1082 - 68s - loss: 0.0039 - val_loss: 0.0037 - 68s/epoch - 63ms/step\n",
      "Epoch 4/50\n"
     ]
    },
    {
     "name": "stderr",
     "output_type": "stream",
     "text": [
      "2024-03-18 18:07:09.512739: I tensorflow/core/kernels/data/shuffle_dataset_op.cc:422] ShuffleDatasetV3:10: Filling up shuffle buffer (this may take a while): 109134 of 276942\n",
      "2024-03-18 18:07:25.041982: I tensorflow/core/kernels/data/shuffle_dataset_op.cc:452] Shuffle buffer filled.\n"
     ]
    },
    {
     "name": "stdout",
     "output_type": "stream",
     "text": [
      "1082/1082 - 71s - loss: 0.0033 - val_loss: 0.0038 - 71s/epoch - 66ms/step\n",
      "Epoch 5/50\n"
     ]
    },
    {
     "name": "stderr",
     "output_type": "stream",
     "text": [
      "2024-03-18 18:08:20.923175: I tensorflow/core/kernels/data/shuffle_dataset_op.cc:422] ShuffleDatasetV3:10: Filling up shuffle buffer (this may take a while): 114542 of 276942\n",
      "2024-03-18 18:08:36.063513: I tensorflow/core/kernels/data/shuffle_dataset_op.cc:452] Shuffle buffer filled.\n"
     ]
    },
    {
     "name": "stdout",
     "output_type": "stream",
     "text": [
      "1082/1082 - 69s - loss: 0.0032 - val_loss: 0.0037 - 69s/epoch - 64ms/step\n",
      "Epoch 6/50\n"
     ]
    },
    {
     "name": "stderr",
     "output_type": "stream",
     "text": [
      "2024-03-18 18:09:29.842305: I tensorflow/core/kernels/data/shuffle_dataset_op.cc:422] ShuffleDatasetV3:10: Filling up shuffle buffer (this may take a while): 117419 of 276942\n",
      "2024-03-18 18:09:39.842348: I tensorflow/core/kernels/data/shuffle_dataset_op.cc:422] ShuffleDatasetV3:10: Filling up shuffle buffer (this may take a while): 232731 of 276942\n",
      "2024-03-18 18:09:43.864425: I tensorflow/core/kernels/data/shuffle_dataset_op.cc:452] Shuffle buffer filled.\n"
     ]
    },
    {
     "name": "stdout",
     "output_type": "stream",
     "text": [
      "1082/1082 - 66s - loss: 0.0032 - val_loss: 0.0037 - 66s/epoch - 61ms/step\n",
      "Epoch 7/50\n"
     ]
    },
    {
     "name": "stderr",
     "output_type": "stream",
     "text": [
      "2024-03-18 18:10:35.833909: I tensorflow/core/kernels/data/shuffle_dataset_op.cc:422] ShuffleDatasetV3:10: Filling up shuffle buffer (this may take a while): 115359 of 276942\n",
      "2024-03-18 18:10:45.833973: I tensorflow/core/kernels/data/shuffle_dataset_op.cc:422] ShuffleDatasetV3:10: Filling up shuffle buffer (this may take a while): 214528 of 276942\n",
      "2024-03-18 18:10:52.007053: I tensorflow/core/kernels/data/shuffle_dataset_op.cc:452] Shuffle buffer filled.\n"
     ]
    },
    {
     "name": "stdout",
     "output_type": "stream",
     "text": [
      "1082/1082 - 65s - loss: 0.0032 - val_loss: 0.0038 - 65s/epoch - 60ms/step\n",
      "Epoch 8/50\n"
     ]
    },
    {
     "name": "stderr",
     "output_type": "stream",
     "text": [
      "2024-03-18 18:11:40.781730: I tensorflow/core/kernels/data/shuffle_dataset_op.cc:422] ShuffleDatasetV3:10: Filling up shuffle buffer (this may take a while): 129852 of 276942\n",
      "2024-03-18 18:11:50.781856: I tensorflow/core/kernels/data/shuffle_dataset_op.cc:422] ShuffleDatasetV3:10: Filling up shuffle buffer (this may take a while): 227358 of 276942\n",
      "2024-03-18 18:11:57.388458: I tensorflow/core/kernels/data/shuffle_dataset_op.cc:452] Shuffle buffer filled.\n"
     ]
    },
    {
     "name": "stdout",
     "output_type": "stream",
     "text": [
      "1082/1082 - 78s - loss: 0.0032 - val_loss: 0.0038 - 78s/epoch - 72ms/step\n",
      "Epoch 9/50\n"
     ]
    },
    {
     "name": "stderr",
     "output_type": "stream",
     "text": [
      "2024-03-18 18:12:59.148524: I tensorflow/core/kernels/data/shuffle_dataset_op.cc:422] ShuffleDatasetV3:10: Filling up shuffle buffer (this may take a while): 122134 of 276942\n",
      "2024-03-18 18:13:12.123762: I tensorflow/core/kernels/data/shuffle_dataset_op.cc:452] Shuffle buffer filled.\n"
     ]
    },
    {
     "name": "stdout",
     "output_type": "stream",
     "text": [
      "1082/1082 - 59s - loss: 0.0031 - val_loss: 0.0037 - 59s/epoch - 54ms/step\n",
      "Epoch 10/50\n"
     ]
    },
    {
     "name": "stderr",
     "output_type": "stream",
     "text": [
      "2024-03-18 18:13:57.695580: I tensorflow/core/kernels/data/shuffle_dataset_op.cc:422] ShuffleDatasetV3:10: Filling up shuffle buffer (this may take a while): 122841 of 276942\n",
      "2024-03-18 18:14:07.695603: I tensorflow/core/kernels/data/shuffle_dataset_op.cc:422] ShuffleDatasetV3:10: Filling up shuffle buffer (this may take a while): 229725 of 276942\n",
      "2024-03-18 18:14:12.805971: I tensorflow/core/kernels/data/shuffle_dataset_op.cc:452] Shuffle buffer filled.\n"
     ]
    },
    {
     "name": "stdout",
     "output_type": "stream",
     "text": [
      "1082/1082 - 67s - loss: 0.0031 - val_loss: 0.0038 - 67s/epoch - 62ms/step\n",
      "Epoch 11/50\n"
     ]
    },
    {
     "name": "stderr",
     "output_type": "stream",
     "text": [
      "2024-03-18 18:15:04.808347: I tensorflow/core/kernels/data/shuffle_dataset_op.cc:422] ShuffleDatasetV3:10: Filling up shuffle buffer (this may take a while): 115162 of 276942\n",
      "2024-03-18 18:15:14.808366: I tensorflow/core/kernels/data/shuffle_dataset_op.cc:422] ShuffleDatasetV3:10: Filling up shuffle buffer (this may take a while): 219582 of 276942\n",
      "2024-03-18 18:15:20.557883: I tensorflow/core/kernels/data/shuffle_dataset_op.cc:452] Shuffle buffer filled.\n"
     ]
    },
    {
     "name": "stdout",
     "output_type": "stream",
     "text": [
      "1082/1082 - 66s - loss: 0.0030 - val_loss: 0.0038 - 66s/epoch - 61ms/step\n",
      "Epoch 12/50\n"
     ]
    },
    {
     "name": "stderr",
     "output_type": "stream",
     "text": [
      "2024-03-18 18:16:10.886630: I tensorflow/core/kernels/data/shuffle_dataset_op.cc:422] ShuffleDatasetV3:10: Filling up shuffle buffer (this may take a while): 110077 of 276942\n",
      "2024-03-18 18:16:20.886619: I tensorflow/core/kernels/data/shuffle_dataset_op.cc:422] ShuffleDatasetV3:10: Filling up shuffle buffer (this may take a while): 200652 of 276942\n",
      "2024-03-18 18:16:29.089287: I tensorflow/core/kernels/data/shuffle_dataset_op.cc:452] Shuffle buffer filled.\n"
     ]
    },
    {
     "name": "stdout",
     "output_type": "stream",
     "text": [
      "1082/1082 - 71s - loss: 0.0029 - val_loss: 0.0038 - 71s/epoch - 65ms/step\n",
      "Epoch 13/50\n"
     ]
    },
    {
     "name": "stderr",
     "output_type": "stream",
     "text": [
      "2024-03-18 18:17:21.763410: I tensorflow/core/kernels/data/shuffle_dataset_op.cc:422] ShuffleDatasetV3:10: Filling up shuffle buffer (this may take a while): 108045 of 276942\n",
      "2024-03-18 18:17:31.763447: I tensorflow/core/kernels/data/shuffle_dataset_op.cc:422] ShuffleDatasetV3:10: Filling up shuffle buffer (this may take a while): 220987 of 276942\n",
      "2024-03-18 18:17:36.682552: I tensorflow/core/kernels/data/shuffle_dataset_op.cc:452] Shuffle buffer filled.\n"
     ]
    },
    {
     "name": "stdout",
     "output_type": "stream",
     "text": [
      "1082/1082 - 74s - loss: 0.0028 - val_loss: 0.0039 - 74s/epoch - 69ms/step\n",
      "Epoch 14/50\n"
     ]
    },
    {
     "name": "stderr",
     "output_type": "stream",
     "text": [
      "2024-03-18 18:18:36.168870: I tensorflow/core/kernels/data/shuffle_dataset_op.cc:422] ShuffleDatasetV3:10: Filling up shuffle buffer (this may take a while): 119712 of 276942\n",
      "2024-03-18 18:18:46.168923: I tensorflow/core/kernels/data/shuffle_dataset_op.cc:422] ShuffleDatasetV3:10: Filling up shuffle buffer (this may take a while): 236390 of 276942\n",
      "2024-03-18 18:18:49.586557: I tensorflow/core/kernels/data/shuffle_dataset_op.cc:452] Shuffle buffer filled.\n"
     ]
    },
    {
     "name": "stdout",
     "output_type": "stream",
     "text": [
      "1082/1082 - 59s - loss: 0.0027 - val_loss: 0.0040 - 59s/epoch - 55ms/step\n",
      "Epoch 15/50\n"
     ]
    },
    {
     "name": "stderr",
     "output_type": "stream",
     "text": [
      "2024-03-18 18:19:35.371372: I tensorflow/core/kernels/data/shuffle_dataset_op.cc:422] ShuffleDatasetV3:10: Filling up shuffle buffer (this may take a while): 129163 of 276942\n",
      "2024-03-18 18:19:45.371474: I tensorflow/core/kernels/data/shuffle_dataset_op.cc:422] ShuffleDatasetV3:10: Filling up shuffle buffer (this may take a while): 242558 of 276942\n",
      "2024-03-18 18:19:48.694198: I tensorflow/core/kernels/data/shuffle_dataset_op.cc:452] Shuffle buffer filled.\n"
     ]
    },
    {
     "name": "stdout",
     "output_type": "stream",
     "text": [
      "1082/1082 - 60s - loss: 0.0026 - val_loss: 0.0040 - 60s/epoch - 55ms/step\n",
      "Epoch 16/50\n"
     ]
    },
    {
     "name": "stderr",
     "output_type": "stream",
     "text": [
      "2024-03-18 18:20:35.289359: I tensorflow/core/kernels/data/shuffle_dataset_op.cc:422] ShuffleDatasetV3:10: Filling up shuffle buffer (this may take a while): 113660 of 276942\n",
      "2024-03-18 18:20:45.289374: I tensorflow/core/kernels/data/shuffle_dataset_op.cc:422] ShuffleDatasetV3:10: Filling up shuffle buffer (this may take a while): 219140 of 276942\n",
      "2024-03-18 18:20:51.458327: I tensorflow/core/kernels/data/shuffle_dataset_op.cc:452] Shuffle buffer filled.\n"
     ]
    },
    {
     "name": "stdout",
     "output_type": "stream",
     "text": [
      "1082/1082 - 70s - loss: 0.0025 - val_loss: 0.0040 - 70s/epoch - 65ms/step\n",
      "Epoch 17/50\n"
     ]
    },
    {
     "name": "stderr",
     "output_type": "stream",
     "text": [
      "2024-03-18 18:21:45.219206: I tensorflow/core/kernels/data/shuffle_dataset_op.cc:422] ShuffleDatasetV3:10: Filling up shuffle buffer (this may take a while): 139111 of 276942\n",
      "2024-03-18 18:21:55.219249: I tensorflow/core/kernels/data/shuffle_dataset_op.cc:422] ShuffleDatasetV3:10: Filling up shuffle buffer (this may take a while): 270822 of 276942\n",
      "2024-03-18 18:21:55.723390: I tensorflow/core/kernels/data/shuffle_dataset_op.cc:452] Shuffle buffer filled.\n"
     ]
    },
    {
     "name": "stdout",
     "output_type": "stream",
     "text": [
      "1082/1082 - 55s - loss: 0.0024 - val_loss: 0.0040 - 55s/epoch - 51ms/step\n",
      "Epoch 18/50\n"
     ]
    },
    {
     "name": "stderr",
     "output_type": "stream",
     "text": [
      "2024-03-18 18:22:40.455085: I tensorflow/core/kernels/data/shuffle_dataset_op.cc:422] ShuffleDatasetV3:10: Filling up shuffle buffer (this may take a while): 115934 of 276942\n",
      "2024-03-18 18:22:50.455084: I tensorflow/core/kernels/data/shuffle_dataset_op.cc:422] ShuffleDatasetV3:10: Filling up shuffle buffer (this may take a while): 229745 of 276942\n",
      "2024-03-18 18:22:54.599527: I tensorflow/core/kernels/data/shuffle_dataset_op.cc:452] Shuffle buffer filled.\n"
     ]
    },
    {
     "name": "stdout",
     "output_type": "stream",
     "text": [
      "1082/1082 - 66s - loss: 0.0024 - val_loss: 0.0042 - 66s/epoch - 61ms/step\n",
      "Epoch 19/50\n"
     ]
    },
    {
     "name": "stderr",
     "output_type": "stream",
     "text": [
      "2024-03-18 18:23:46.378924: I tensorflow/core/kernels/data/shuffle_dataset_op.cc:422] ShuffleDatasetV3:10: Filling up shuffle buffer (this may take a while): 124260 of 276942\n",
      "2024-03-18 18:23:56.378962: I tensorflow/core/kernels/data/shuffle_dataset_op.cc:422] ShuffleDatasetV3:10: Filling up shuffle buffer (this may take a while): 241487 of 276942\n",
      "2024-03-18 18:23:59.616715: I tensorflow/core/kernels/data/shuffle_dataset_op.cc:452] Shuffle buffer filled.\n"
     ]
    },
    {
     "name": "stdout",
     "output_type": "stream",
     "text": [
      "Restoring model weights from the end of the best epoch: 9.\n",
      "1082/1082 - 91s - loss: 0.0023 - val_loss: 0.0042 - 91s/epoch - 84ms/step\n",
      "Epoch 19: early stopping\n",
      "119/119 [==============================] - 6s 28ms/step\n"
     ]
    },
    {
     "name": "stderr",
     "output_type": "stream",
     "text": [
      "Rolling Training...:  25%|██▌       | 2/8 [1:05:26<3:20:44, 2007.45s/it]"
     ]
    },
    {
     "name": "stdout",
     "output_type": "stream",
     "text": [
      "train_start: 20150101, train_end: 20201231, val_start: 20210101, val_end: 20210630\n"
     ]
    },
    {
     "name": "stderr",
     "output_type": "stream",
     "text": [
      "Process: 000300 ...: 100%|██████████| 284/284 [00:50<00:00,  5.68it/s]\n"
     ]
    },
    {
     "name": "stdout",
     "output_type": "stream",
     "text": [
      "train_data_size: (288905, 207)\n",
      "validation_data_size: (29351, 207)\n",
      "CrossNet parameterization: vector\n",
      "Epoch 1/50\n"
     ]
    },
    {
     "name": "stderr",
     "output_type": "stream",
     "text": [
      "2024-03-18 18:40:35.599244: I tensorflow/core/kernels/data/shuffle_dataset_op.cc:422] ShuffleDatasetV3:19: Filling up shuffle buffer (this may take a while): 119320 of 288905\n",
      "2024-03-18 18:40:45.598597: I tensorflow/core/kernels/data/shuffle_dataset_op.cc:422] ShuffleDatasetV3:19: Filling up shuffle buffer (this may take a while): 231809 of 288905\n",
      "2024-03-18 18:40:50.918389: I tensorflow/core/kernels/data/shuffle_dataset_op.cc:452] Shuffle buffer filled.\n"
     ]
    },
    {
     "name": "stdout",
     "output_type": "stream",
     "text": [
      "1129/1129 - 95s - loss: 0.1610 - val_loss: 0.0055 - 95s/epoch - 84ms/step\n",
      "Epoch 2/50\n"
     ]
    },
    {
     "name": "stderr",
     "output_type": "stream",
     "text": [
      "2024-03-18 18:41:50.552172: I tensorflow/core/kernels/data/shuffle_dataset_op.cc:422] ShuffleDatasetV3:19: Filling up shuffle buffer (this may take a while): 139035 of 288905\n",
      "2024-03-18 18:42:02.034280: I tensorflow/core/kernels/data/shuffle_dataset_op.cc:452] Shuffle buffer filled.\n"
     ]
    },
    {
     "name": "stdout",
     "output_type": "stream",
     "text": [
      "1129/1129 - 55s - loss: 0.0158 - val_loss: 0.0042 - 55s/epoch - 49ms/step\n",
      "Epoch 3/50\n"
     ]
    },
    {
     "name": "stderr",
     "output_type": "stream",
     "text": [
      "2024-03-18 18:42:45.979619: I tensorflow/core/kernels/data/shuffle_dataset_op.cc:422] ShuffleDatasetV3:19: Filling up shuffle buffer (this may take a while): 139670 of 288905\n",
      "2024-03-18 18:42:55.979566: I tensorflow/core/kernels/data/shuffle_dataset_op.cc:422] ShuffleDatasetV3:19: Filling up shuffle buffer (this may take a while): 268469 of 288905\n",
      "2024-03-18 18:42:57.698986: I tensorflow/core/kernels/data/shuffle_dataset_op.cc:452] Shuffle buffer filled.\n"
     ]
    },
    {
     "name": "stdout",
     "output_type": "stream",
     "text": [
      "1129/1129 - 57s - loss: 0.0044 - val_loss: 0.0041 - 57s/epoch - 51ms/step\n",
      "Epoch 4/50\n"
     ]
    },
    {
     "name": "stderr",
     "output_type": "stream",
     "text": [
      "2024-03-18 18:43:43.317343: I tensorflow/core/kernels/data/shuffle_dataset_op.cc:422] ShuffleDatasetV3:19: Filling up shuffle buffer (this may take a while): 141562 of 288905\n",
      "2024-03-18 18:43:53.317306: I tensorflow/core/kernels/data/shuffle_dataset_op.cc:422] ShuffleDatasetV3:19: Filling up shuffle buffer (this may take a while): 275251 of 288905\n",
      "2024-03-18 18:43:54.354767: I tensorflow/core/kernels/data/shuffle_dataset_op.cc:452] Shuffle buffer filled.\n"
     ]
    },
    {
     "name": "stdout",
     "output_type": "stream",
     "text": [
      "1129/1129 - 59s - loss: 0.0033 - val_loss: 0.0041 - 59s/epoch - 52ms/step\n",
      "Epoch 5/50\n"
     ]
    },
    {
     "name": "stderr",
     "output_type": "stream",
     "text": [
      "2024-03-18 18:44:42.593104: I tensorflow/core/kernels/data/shuffle_dataset_op.cc:422] ShuffleDatasetV3:19: Filling up shuffle buffer (this may take a while): 139905 of 288905\n",
      "2024-03-18 18:44:52.593114: I tensorflow/core/kernels/data/shuffle_dataset_op.cc:422] ShuffleDatasetV3:19: Filling up shuffle buffer (this may take a while): 273805 of 288905\n",
      "2024-03-18 18:44:53.731364: I tensorflow/core/kernels/data/shuffle_dataset_op.cc:452] Shuffle buffer filled.\n"
     ]
    },
    {
     "name": "stdout",
     "output_type": "stream",
     "text": [
      "1129/1129 - 54s - loss: 0.0033 - val_loss: 0.0042 - 54s/epoch - 48ms/step\n",
      "Epoch 6/50\n"
     ]
    },
    {
     "name": "stderr",
     "output_type": "stream",
     "text": [
      "2024-03-18 18:45:36.889315: I tensorflow/core/kernels/data/shuffle_dataset_op.cc:422] ShuffleDatasetV3:19: Filling up shuffle buffer (this may take a while): 141443 of 288905\n",
      "2024-03-18 18:45:47.920327: I tensorflow/core/kernels/data/shuffle_dataset_op.cc:452] Shuffle buffer filled.\n"
     ]
    },
    {
     "name": "stdout",
     "output_type": "stream",
     "text": [
      "1129/1129 - 54s - loss: 0.0033 - val_loss: 0.0041 - 54s/epoch - 48ms/step\n",
      "Epoch 7/50\n"
     ]
    },
    {
     "name": "stderr",
     "output_type": "stream",
     "text": [
      "2024-03-18 18:46:31.178585: I tensorflow/core/kernels/data/shuffle_dataset_op.cc:422] ShuffleDatasetV3:19: Filling up shuffle buffer (this may take a while): 141983 of 288905\n",
      "2024-03-18 18:46:42.170752: I tensorflow/core/kernels/data/shuffle_dataset_op.cc:452] Shuffle buffer filled.\n"
     ]
    },
    {
     "name": "stdout",
     "output_type": "stream",
     "text": [
      "1129/1129 - 59s - loss: 0.0033 - val_loss: 0.0042 - 59s/epoch - 52ms/step\n",
      "Epoch 8/50\n"
     ]
    },
    {
     "name": "stderr",
     "output_type": "stream",
     "text": [
      "2024-03-18 18:47:30.048939: I tensorflow/core/kernels/data/shuffle_dataset_op.cc:422] ShuffleDatasetV3:19: Filling up shuffle buffer (this may take a while): 122919 of 288905\n",
      "2024-03-18 18:47:47.691541: I tensorflow/core/kernels/data/shuffle_dataset_op.cc:452] Shuffle buffer filled.\n"
     ]
    },
    {
     "name": "stdout",
     "output_type": "stream",
     "text": [
      "1129/1129 - 90s - loss: 0.0033 - val_loss: 0.0042 - 90s/epoch - 79ms/step\n",
      "Epoch 9/50\n"
     ]
    },
    {
     "name": "stderr",
     "output_type": "stream",
     "text": [
      "2024-03-18 18:48:59.652714: I tensorflow/core/kernels/data/shuffle_dataset_op.cc:422] ShuffleDatasetV3:19: Filling up shuffle buffer (this may take a while): 112197 of 288905\n",
      "2024-03-18 18:49:15.114716: I tensorflow/core/kernels/data/shuffle_dataset_op.cc:452] Shuffle buffer filled.\n"
     ]
    },
    {
     "name": "stdout",
     "output_type": "stream",
     "text": [
      "1129/1129 - 68s - loss: 0.0033 - val_loss: 0.0042 - 68s/epoch - 60ms/step\n",
      "Epoch 10/50\n"
     ]
    },
    {
     "name": "stderr",
     "output_type": "stream",
     "text": [
      "2024-03-18 18:50:07.749166: I tensorflow/core/kernels/data/shuffle_dataset_op.cc:422] ShuffleDatasetV3:19: Filling up shuffle buffer (this may take a while): 130798 of 288905\n",
      "2024-03-18 18:50:17.749154: I tensorflow/core/kernels/data/shuffle_dataset_op.cc:422] ShuffleDatasetV3:19: Filling up shuffle buffer (this may take a while): 251843 of 288905\n",
      "2024-03-18 18:50:20.843573: I tensorflow/core/kernels/data/shuffle_dataset_op.cc:452] Shuffle buffer filled.\n"
     ]
    },
    {
     "name": "stdout",
     "output_type": "stream",
     "text": [
      "1129/1129 - 70s - loss: 0.0032 - val_loss: 0.0043 - 70s/epoch - 62ms/step\n",
      "Epoch 11/50\n"
     ]
    },
    {
     "name": "stderr",
     "output_type": "stream",
     "text": [
      "2024-03-18 18:51:17.365057: I tensorflow/core/kernels/data/shuffle_dataset_op.cc:422] ShuffleDatasetV3:19: Filling up shuffle buffer (this may take a while): 114868 of 288905\n",
      "2024-03-18 18:51:27.365104: I tensorflow/core/kernels/data/shuffle_dataset_op.cc:422] ShuffleDatasetV3:19: Filling up shuffle buffer (this may take a while): 209274 of 288905\n",
      "2024-03-18 18:51:35.489556: I tensorflow/core/kernels/data/shuffle_dataset_op.cc:452] Shuffle buffer filled.\n"
     ]
    },
    {
     "name": "stdout",
     "output_type": "stream",
     "text": [
      "1129/1129 - 67s - loss: 0.0031 - val_loss: 0.0043 - 67s/epoch - 59ms/step\n",
      "Epoch 12/50\n"
     ]
    },
    {
     "name": "stderr",
     "output_type": "stream",
     "text": [
      "2024-03-18 18:52:24.189196: I tensorflow/core/kernels/data/shuffle_dataset_op.cc:422] ShuffleDatasetV3:19: Filling up shuffle buffer (this may take a while): 139684 of 288905\n",
      "2024-03-18 18:52:34.189245: I tensorflow/core/kernels/data/shuffle_dataset_op.cc:422] ShuffleDatasetV3:19: Filling up shuffle buffer (this may take a while): 272029 of 288905\n",
      "2024-03-18 18:52:35.516631: I tensorflow/core/kernels/data/shuffle_dataset_op.cc:452] Shuffle buffer filled.\n"
     ]
    },
    {
     "name": "stdout",
     "output_type": "stream",
     "text": [
      "1129/1129 - 56s - loss: 0.0030 - val_loss: 0.0044 - 56s/epoch - 49ms/step\n",
      "Epoch 13/50\n"
     ]
    },
    {
     "name": "stderr",
     "output_type": "stream",
     "text": [
      "2024-03-18 18:53:19.883390: I tensorflow/core/kernels/data/shuffle_dataset_op.cc:422] ShuffleDatasetV3:19: Filling up shuffle buffer (this may take a while): 139903 of 288905\n",
      "2024-03-18 18:53:29.883397: I tensorflow/core/kernels/data/shuffle_dataset_op.cc:422] ShuffleDatasetV3:19: Filling up shuffle buffer (this may take a while): 273198 of 288905\n",
      "2024-03-18 18:53:31.094745: I tensorflow/core/kernels/data/shuffle_dataset_op.cc:452] Shuffle buffer filled.\n"
     ]
    },
    {
     "name": "stdout",
     "output_type": "stream",
     "text": [
      "1129/1129 - 57s - loss: 0.0030 - val_loss: 0.0045 - 57s/epoch - 50ms/step\n",
      "Epoch 14/50\n"
     ]
    },
    {
     "name": "stderr",
     "output_type": "stream",
     "text": [
      "2024-03-18 18:54:16.652087: I tensorflow/core/kernels/data/shuffle_dataset_op.cc:422] ShuffleDatasetV3:19: Filling up shuffle buffer (this may take a while): 139549 of 288905\n",
      "2024-03-18 18:54:27.955875: I tensorflow/core/kernels/data/shuffle_dataset_op.cc:452] Shuffle buffer filled.\n"
     ]
    },
    {
     "name": "stdout",
     "output_type": "stream",
     "text": [
      "1129/1129 - 63s - loss: 0.0029 - val_loss: 0.0045 - 63s/epoch - 56ms/step\n",
      "Epoch 15/50\n"
     ]
    },
    {
     "name": "stderr",
     "output_type": "stream",
     "text": [
      "2024-03-18 18:55:20.139004: I tensorflow/core/kernels/data/shuffle_dataset_op.cc:422] ShuffleDatasetV3:19: Filling up shuffle buffer (this may take a while): 124853 of 288905\n",
      "2024-03-18 18:55:30.139110: I tensorflow/core/kernels/data/shuffle_dataset_op.cc:422] ShuffleDatasetV3:19: Filling up shuffle buffer (this may take a while): 236650 of 288905\n",
      "2024-03-18 18:55:34.917374: I tensorflow/core/kernels/data/shuffle_dataset_op.cc:452] Shuffle buffer filled.\n"
     ]
    },
    {
     "name": "stdout",
     "output_type": "stream",
     "text": [
      "1129/1129 - 67s - loss: 0.0028 - val_loss: 0.0045 - 67s/epoch - 59ms/step\n",
      "Epoch 16/50\n"
     ]
    },
    {
     "name": "stderr",
     "output_type": "stream",
     "text": [
      "2024-03-18 18:56:26.852761: I tensorflow/core/kernels/data/shuffle_dataset_op.cc:422] ShuffleDatasetV3:19: Filling up shuffle buffer (this may take a while): 111856 of 288905\n",
      "2024-03-18 18:56:44.066740: I tensorflow/core/kernels/data/shuffle_dataset_op.cc:452] Shuffle buffer filled.\n"
     ]
    },
    {
     "name": "stdout",
     "output_type": "stream",
     "text": [
      "Restoring model weights from the end of the best epoch: 6.\n",
      "1129/1129 - 74s - loss: 0.0027 - val_loss: 0.0046 - 74s/epoch - 65ms/step\n",
      "Epoch 16: early stopping\n",
      "115/115 [==============================] - 6s 29ms/step\n"
     ]
    },
    {
     "name": "stderr",
     "output_type": "stream",
     "text": [
      "Rolling Training...:  38%|███▊      | 3/8 [1:37:49<2:44:50, 1978.04s/it]"
     ]
    },
    {
     "name": "stdout",
     "output_type": "stream",
     "text": [
      "train_start: 20150701, train_end: 20210630, val_start: 20210701, val_end: 20211231\n"
     ]
    },
    {
     "name": "stderr",
     "output_type": "stream",
     "text": [
      "Process: 000300 ...: 100%|██████████| 284/284 [00:51<00:00,  5.53it/s]\n"
     ]
    },
    {
     "name": "stdout",
     "output_type": "stream",
     "text": [
      "train_data_size: (302083, 207)\n",
      "validation_data_size: (31627, 207)\n",
      "CrossNet parameterization: vector\n",
      "Epoch 1/50\n"
     ]
    },
    {
     "name": "stderr",
     "output_type": "stream",
     "text": [
      "2024-03-18 19:14:38.017783: I tensorflow/core/kernels/data/shuffle_dataset_op.cc:422] ShuffleDatasetV3:28: Filling up shuffle buffer (this may take a while): 111944 of 302083\n",
      "2024-03-18 19:14:57.061316: I tensorflow/core/kernels/data/shuffle_dataset_op.cc:452] Shuffle buffer filled.\n"
     ]
    },
    {
     "name": "stdout",
     "output_type": "stream",
     "text": [
      "1181/1181 - 125s - loss: 0.1338 - val_loss: 0.0051 - 125s/epoch - 106ms/step\n",
      "Epoch 2/50\n"
     ]
    },
    {
     "name": "stderr",
     "output_type": "stream",
     "text": [
      "2024-03-18 19:16:20.849779: I tensorflow/core/kernels/data/shuffle_dataset_op.cc:422] ShuffleDatasetV3:28: Filling up shuffle buffer (this may take a while): 102921 of 302083\n",
      "2024-03-18 19:16:30.849727: I tensorflow/core/kernels/data/shuffle_dataset_op.cc:422] ShuffleDatasetV3:28: Filling up shuffle buffer (this may take a while): 194572 of 302083\n",
      "2024-03-18 19:16:40.665051: I tensorflow/core/kernels/data/shuffle_dataset_op.cc:452] Shuffle buffer filled.\n"
     ]
    },
    {
     "name": "stdout",
     "output_type": "stream",
     "text": [
      "1181/1181 - 86s - loss: 0.0122 - val_loss: 0.0039 - 86s/epoch - 73ms/step\n",
      "Epoch 3/50\n"
     ]
    },
    {
     "name": "stderr",
     "output_type": "stream",
     "text": [
      "2024-03-18 19:17:46.556973: I tensorflow/core/kernels/data/shuffle_dataset_op.cc:422] ShuffleDatasetV3:28: Filling up shuffle buffer (this may take a while): 115487 of 302083\n",
      "2024-03-18 19:17:56.556943: I tensorflow/core/kernels/data/shuffle_dataset_op.cc:422] ShuffleDatasetV3:28: Filling up shuffle buffer (this may take a while): 225925 of 302083\n",
      "2024-03-18 19:18:06.556993: I tensorflow/core/kernels/data/shuffle_dataset_op.cc:422] ShuffleDatasetV3:28: Filling up shuffle buffer (this may take a while): 295751 of 302083\n",
      "2024-03-18 19:18:07.145245: I tensorflow/core/kernels/data/shuffle_dataset_op.cc:452] Shuffle buffer filled.\n"
     ]
    },
    {
     "name": "stdout",
     "output_type": "stream",
     "text": [
      "1181/1181 - 80s - loss: 0.0038 - val_loss: 0.0038 - 80s/epoch - 68ms/step\n",
      "Epoch 4/50\n"
     ]
    },
    {
     "name": "stderr",
     "output_type": "stream",
     "text": [
      "2024-03-18 19:19:06.781412: I tensorflow/core/kernels/data/shuffle_dataset_op.cc:422] ShuffleDatasetV3:28: Filling up shuffle buffer (this may take a while): 138392 of 302083\n",
      "2024-03-18 19:19:16.781393: I tensorflow/core/kernels/data/shuffle_dataset_op.cc:422] ShuffleDatasetV3:28: Filling up shuffle buffer (this may take a while): 267653 of 302083\n",
      "2024-03-18 19:19:19.457770: I tensorflow/core/kernels/data/shuffle_dataset_op.cc:452] Shuffle buffer filled.\n"
     ]
    },
    {
     "name": "stdout",
     "output_type": "stream",
     "text": [
      "1181/1181 - 67s - loss: 0.0032 - val_loss: 0.0039 - 67s/epoch - 56ms/step\n",
      "Epoch 5/50\n"
     ]
    },
    {
     "name": "stderr",
     "output_type": "stream",
     "text": [
      "2024-03-18 19:20:13.388709: I tensorflow/core/kernels/data/shuffle_dataset_op.cc:422] ShuffleDatasetV3:28: Filling up shuffle buffer (this may take a while): 118097 of 302083\n",
      "2024-03-18 19:20:23.388834: I tensorflow/core/kernels/data/shuffle_dataset_op.cc:422] ShuffleDatasetV3:28: Filling up shuffle buffer (this may take a while): 233763 of 302083\n",
      "2024-03-18 19:20:30.296170: I tensorflow/core/kernels/data/shuffle_dataset_op.cc:452] Shuffle buffer filled.\n"
     ]
    },
    {
     "name": "stdout",
     "output_type": "stream",
     "text": [
      "1181/1181 - 73s - loss: 0.0032 - val_loss: 0.0039 - 73s/epoch - 62ms/step\n",
      "Epoch 6/50\n"
     ]
    },
    {
     "name": "stderr",
     "output_type": "stream",
     "text": [
      "2024-03-18 19:21:26.819814: I tensorflow/core/kernels/data/shuffle_dataset_op.cc:422] ShuffleDatasetV3:28: Filling up shuffle buffer (this may take a while): 128660 of 302083\n",
      "2024-03-18 19:21:36.819792: I tensorflow/core/kernels/data/shuffle_dataset_op.cc:422] ShuffleDatasetV3:28: Filling up shuffle buffer (this may take a while): 249359 of 302083\n",
      "2024-03-18 19:21:41.318090: I tensorflow/core/kernels/data/shuffle_dataset_op.cc:452] Shuffle buffer filled.\n"
     ]
    },
    {
     "name": "stdout",
     "output_type": "stream",
     "text": [
      "1181/1181 - 64s - loss: 0.0032 - val_loss: 0.0039 - 64s/epoch - 54ms/step\n",
      "Epoch 7/50\n"
     ]
    },
    {
     "name": "stderr",
     "output_type": "stream",
     "text": [
      "2024-03-18 19:22:31.038120: I tensorflow/core/kernels/data/shuffle_dataset_op.cc:422] ShuffleDatasetV3:28: Filling up shuffle buffer (this may take a while): 128644 of 302083\n",
      "2024-03-18 19:22:41.038101: I tensorflow/core/kernels/data/shuffle_dataset_op.cc:422] ShuffleDatasetV3:28: Filling up shuffle buffer (this may take a while): 248749 of 302083\n",
      "2024-03-18 19:22:45.733823: I tensorflow/core/kernels/data/shuffle_dataset_op.cc:452] Shuffle buffer filled.\n",
      "Rolling Training...:  38%|███▊      | 3/8 [2:03:34<3:25:57, 2471.56s/it]\n"
     ]
    },
    {
     "ename": "KeyboardInterrupt",
     "evalue": "",
     "output_type": "error",
     "traceback": [
      "\u001b[0;31m---------------------------------------------------------------------------\u001b[0m",
      "\u001b[0;31mKeyboardInterrupt\u001b[0m                         Traceback (most recent call last)",
      "Cell \u001b[0;32mIn[8], line 61\u001b[0m\n\u001b[1;32m     59\u001b[0m loss \u001b[38;5;241m=\u001b[39m [tf\u001b[38;5;241m.\u001b[39mkeras\u001b[38;5;241m.\u001b[39mlosses\u001b[38;5;241m.\u001b[39mMeanSquaredError()]\n\u001b[1;32m     60\u001b[0m model\u001b[38;5;241m.\u001b[39mcompile(optimizer\u001b[38;5;241m=\u001b[39moptimizer, loss\u001b[38;5;241m=\u001b[39mloss)\n\u001b[0;32m---> 61\u001b[0m \u001b[43mmodel\u001b[49m\u001b[38;5;241;43m.\u001b[39;49m\u001b[43mfit\u001b[49m\u001b[43m(\u001b[49m\n\u001b[1;32m     62\u001b[0m \u001b[43m        \u001b[49m\u001b[43mtrain_ds\u001b[49m\u001b[43m,\u001b[49m\u001b[43m \u001b[49m\n\u001b[1;32m     63\u001b[0m \u001b[43m        \u001b[49m\u001b[43mvalidation_data\u001b[49m\u001b[38;5;241;43m=\u001b[39;49m\u001b[43mval_ds\u001b[49m\u001b[43m,\u001b[49m\u001b[43m \u001b[49m\n\u001b[1;32m     64\u001b[0m \u001b[43m        \u001b[49m\u001b[43mepochs\u001b[49m\u001b[38;5;241;43m=\u001b[39;49m\u001b[38;5;241;43m50\u001b[39;49m\u001b[43m,\u001b[49m\n\u001b[1;32m     65\u001b[0m \u001b[43m        \u001b[49m\u001b[43mverbose\u001b[49m\u001b[38;5;241;43m=\u001b[39;49m\u001b[38;5;241;43m2\u001b[39;49m\u001b[43m,\u001b[49m\n\u001b[1;32m     66\u001b[0m \u001b[43m        \u001b[49m\u001b[43mcallbacks\u001b[49m\u001b[38;5;241;43m=\u001b[39;49m\u001b[43m[\u001b[49m\u001b[43mtensorboard_callback\u001b[49m\u001b[43m,\u001b[49m\u001b[43m \u001b[49m\u001b[43mearly_stopping\u001b[49m\u001b[43m]\u001b[49m\n\u001b[1;32m     67\u001b[0m \u001b[43m\u001b[49m\u001b[43m)\u001b[49m\n\u001b[1;32m     68\u001b[0m \u001b[38;5;66;03m# 9. 配置保存模型功能\u001b[39;00m\n\u001b[1;32m     69\u001b[0m \u001b[38;5;66;03m# model_save_path = f'./models/saved_model/model_of_{val_start_date}'\u001b[39;00m\n\u001b[1;32m     70\u001b[0m \u001b[38;5;66;03m# model.save(model_save_path)\u001b[39;00m\n\u001b[1;32m     71\u001b[0m \u001b[38;5;66;03m# best_model = tf.keras.models.load_model('./best_model')\u001b[39;00m\n\u001b[1;32m     72\u001b[0m \n\u001b[1;32m     73\u001b[0m \u001b[38;5;66;03m# 10. 记录预测集合\u001b[39;00m\n\u001b[1;32m     74\u001b[0m model_red_result \u001b[38;5;241m=\u001b[39m model\u001b[38;5;241m.\u001b[39mpredict(val_ds)\n",
      "File \u001b[0;32m~/VscodeProject/hh_quant/.venv/lib/python3.10/site-packages/keras/src/utils/traceback_utils.py:65\u001b[0m, in \u001b[0;36mfilter_traceback.<locals>.error_handler\u001b[0;34m(*args, **kwargs)\u001b[0m\n\u001b[1;32m     63\u001b[0m filtered_tb \u001b[38;5;241m=\u001b[39m \u001b[38;5;28;01mNone\u001b[39;00m\n\u001b[1;32m     64\u001b[0m \u001b[38;5;28;01mtry\u001b[39;00m:\n\u001b[0;32m---> 65\u001b[0m     \u001b[38;5;28;01mreturn\u001b[39;00m \u001b[43mfn\u001b[49m\u001b[43m(\u001b[49m\u001b[38;5;241;43m*\u001b[39;49m\u001b[43margs\u001b[49m\u001b[43m,\u001b[49m\u001b[43m \u001b[49m\u001b[38;5;241;43m*\u001b[39;49m\u001b[38;5;241;43m*\u001b[39;49m\u001b[43mkwargs\u001b[49m\u001b[43m)\u001b[49m\n\u001b[1;32m     66\u001b[0m \u001b[38;5;28;01mexcept\u001b[39;00m \u001b[38;5;167;01mException\u001b[39;00m \u001b[38;5;28;01mas\u001b[39;00m e:\n\u001b[1;32m     67\u001b[0m     filtered_tb \u001b[38;5;241m=\u001b[39m _process_traceback_frames(e\u001b[38;5;241m.\u001b[39m__traceback__)\n",
      "File \u001b[0;32m~/VscodeProject/hh_quant/.venv/lib/python3.10/site-packages/keras/src/engine/training.py:1807\u001b[0m, in \u001b[0;36mModel.fit\u001b[0;34m(self, x, y, batch_size, epochs, verbose, callbacks, validation_split, validation_data, shuffle, class_weight, sample_weight, initial_epoch, steps_per_epoch, validation_steps, validation_batch_size, validation_freq, max_queue_size, workers, use_multiprocessing)\u001b[0m\n\u001b[1;32m   1799\u001b[0m \u001b[38;5;28;01mwith\u001b[39;00m tf\u001b[38;5;241m.\u001b[39mprofiler\u001b[38;5;241m.\u001b[39mexperimental\u001b[38;5;241m.\u001b[39mTrace(\n\u001b[1;32m   1800\u001b[0m     \u001b[38;5;124m\"\u001b[39m\u001b[38;5;124mtrain\u001b[39m\u001b[38;5;124m\"\u001b[39m,\n\u001b[1;32m   1801\u001b[0m     epoch_num\u001b[38;5;241m=\u001b[39mepoch,\n\u001b[0;32m   (...)\u001b[0m\n\u001b[1;32m   1804\u001b[0m     _r\u001b[38;5;241m=\u001b[39m\u001b[38;5;241m1\u001b[39m,\n\u001b[1;32m   1805\u001b[0m ):\n\u001b[1;32m   1806\u001b[0m     callbacks\u001b[38;5;241m.\u001b[39mon_train_batch_begin(step)\n\u001b[0;32m-> 1807\u001b[0m     tmp_logs \u001b[38;5;241m=\u001b[39m \u001b[38;5;28;43mself\u001b[39;49m\u001b[38;5;241;43m.\u001b[39;49m\u001b[43mtrain_function\u001b[49m\u001b[43m(\u001b[49m\u001b[43miterator\u001b[49m\u001b[43m)\u001b[49m\n\u001b[1;32m   1808\u001b[0m     \u001b[38;5;28;01mif\u001b[39;00m data_handler\u001b[38;5;241m.\u001b[39mshould_sync:\n\u001b[1;32m   1809\u001b[0m         context\u001b[38;5;241m.\u001b[39masync_wait()\n",
      "File \u001b[0;32m~/VscodeProject/hh_quant/.venv/lib/python3.10/site-packages/tensorflow/python/util/traceback_utils.py:150\u001b[0m, in \u001b[0;36mfilter_traceback.<locals>.error_handler\u001b[0;34m(*args, **kwargs)\u001b[0m\n\u001b[1;32m    148\u001b[0m filtered_tb \u001b[38;5;241m=\u001b[39m \u001b[38;5;28;01mNone\u001b[39;00m\n\u001b[1;32m    149\u001b[0m \u001b[38;5;28;01mtry\u001b[39;00m:\n\u001b[0;32m--> 150\u001b[0m   \u001b[38;5;28;01mreturn\u001b[39;00m \u001b[43mfn\u001b[49m\u001b[43m(\u001b[49m\u001b[38;5;241;43m*\u001b[39;49m\u001b[43margs\u001b[49m\u001b[43m,\u001b[49m\u001b[43m \u001b[49m\u001b[38;5;241;43m*\u001b[39;49m\u001b[38;5;241;43m*\u001b[39;49m\u001b[43mkwargs\u001b[49m\u001b[43m)\u001b[49m\n\u001b[1;32m    151\u001b[0m \u001b[38;5;28;01mexcept\u001b[39;00m \u001b[38;5;167;01mException\u001b[39;00m \u001b[38;5;28;01mas\u001b[39;00m e:\n\u001b[1;32m    152\u001b[0m   filtered_tb \u001b[38;5;241m=\u001b[39m _process_traceback_frames(e\u001b[38;5;241m.\u001b[39m__traceback__)\n",
      "File \u001b[0;32m~/VscodeProject/hh_quant/.venv/lib/python3.10/site-packages/tensorflow/python/eager/polymorphic_function/polymorphic_function.py:832\u001b[0m, in \u001b[0;36mFunction.__call__\u001b[0;34m(self, *args, **kwds)\u001b[0m\n\u001b[1;32m    829\u001b[0m compiler \u001b[38;5;241m=\u001b[39m \u001b[38;5;124m\"\u001b[39m\u001b[38;5;124mxla\u001b[39m\u001b[38;5;124m\"\u001b[39m \u001b[38;5;28;01mif\u001b[39;00m \u001b[38;5;28mself\u001b[39m\u001b[38;5;241m.\u001b[39m_jit_compile \u001b[38;5;28;01melse\u001b[39;00m \u001b[38;5;124m\"\u001b[39m\u001b[38;5;124mnonXla\u001b[39m\u001b[38;5;124m\"\u001b[39m\n\u001b[1;32m    831\u001b[0m \u001b[38;5;28;01mwith\u001b[39;00m OptionalXlaContext(\u001b[38;5;28mself\u001b[39m\u001b[38;5;241m.\u001b[39m_jit_compile):\n\u001b[0;32m--> 832\u001b[0m   result \u001b[38;5;241m=\u001b[39m \u001b[38;5;28;43mself\u001b[39;49m\u001b[38;5;241;43m.\u001b[39;49m\u001b[43m_call\u001b[49m\u001b[43m(\u001b[49m\u001b[38;5;241;43m*\u001b[39;49m\u001b[43margs\u001b[49m\u001b[43m,\u001b[49m\u001b[43m \u001b[49m\u001b[38;5;241;43m*\u001b[39;49m\u001b[38;5;241;43m*\u001b[39;49m\u001b[43mkwds\u001b[49m\u001b[43m)\u001b[49m\n\u001b[1;32m    834\u001b[0m new_tracing_count \u001b[38;5;241m=\u001b[39m \u001b[38;5;28mself\u001b[39m\u001b[38;5;241m.\u001b[39mexperimental_get_tracing_count()\n\u001b[1;32m    835\u001b[0m without_tracing \u001b[38;5;241m=\u001b[39m (tracing_count \u001b[38;5;241m==\u001b[39m new_tracing_count)\n",
      "File \u001b[0;32m~/VscodeProject/hh_quant/.venv/lib/python3.10/site-packages/tensorflow/python/eager/polymorphic_function/polymorphic_function.py:868\u001b[0m, in \u001b[0;36mFunction._call\u001b[0;34m(self, *args, **kwds)\u001b[0m\n\u001b[1;32m    865\u001b[0m   \u001b[38;5;28mself\u001b[39m\u001b[38;5;241m.\u001b[39m_lock\u001b[38;5;241m.\u001b[39mrelease()\n\u001b[1;32m    866\u001b[0m   \u001b[38;5;66;03m# In this case we have created variables on the first call, so we run the\u001b[39;00m\n\u001b[1;32m    867\u001b[0m   \u001b[38;5;66;03m# defunned version which is guaranteed to never create variables.\u001b[39;00m\n\u001b[0;32m--> 868\u001b[0m   \u001b[38;5;28;01mreturn\u001b[39;00m \u001b[43mtracing_compilation\u001b[49m\u001b[38;5;241;43m.\u001b[39;49m\u001b[43mcall_function\u001b[49m\u001b[43m(\u001b[49m\n\u001b[1;32m    869\u001b[0m \u001b[43m      \u001b[49m\u001b[43margs\u001b[49m\u001b[43m,\u001b[49m\u001b[43m \u001b[49m\u001b[43mkwds\u001b[49m\u001b[43m,\u001b[49m\u001b[43m \u001b[49m\u001b[38;5;28;43mself\u001b[39;49m\u001b[38;5;241;43m.\u001b[39;49m\u001b[43m_no_variable_creation_config\u001b[49m\n\u001b[1;32m    870\u001b[0m \u001b[43m  \u001b[49m\u001b[43m)\u001b[49m\n\u001b[1;32m    871\u001b[0m \u001b[38;5;28;01melif\u001b[39;00m \u001b[38;5;28mself\u001b[39m\u001b[38;5;241m.\u001b[39m_variable_creation_config \u001b[38;5;129;01mis\u001b[39;00m \u001b[38;5;129;01mnot\u001b[39;00m \u001b[38;5;28;01mNone\u001b[39;00m:\n\u001b[1;32m    872\u001b[0m   \u001b[38;5;66;03m# Release the lock early so that multiple threads can perform the call\u001b[39;00m\n\u001b[1;32m    873\u001b[0m   \u001b[38;5;66;03m# in parallel.\u001b[39;00m\n\u001b[1;32m    874\u001b[0m   \u001b[38;5;28mself\u001b[39m\u001b[38;5;241m.\u001b[39m_lock\u001b[38;5;241m.\u001b[39mrelease()\n",
      "File \u001b[0;32m~/VscodeProject/hh_quant/.venv/lib/python3.10/site-packages/tensorflow/python/eager/polymorphic_function/tracing_compilation.py:139\u001b[0m, in \u001b[0;36mcall_function\u001b[0;34m(args, kwargs, tracing_options)\u001b[0m\n\u001b[1;32m    137\u001b[0m bound_args \u001b[38;5;241m=\u001b[39m function\u001b[38;5;241m.\u001b[39mfunction_type\u001b[38;5;241m.\u001b[39mbind(\u001b[38;5;241m*\u001b[39margs, \u001b[38;5;241m*\u001b[39m\u001b[38;5;241m*\u001b[39mkwargs)\n\u001b[1;32m    138\u001b[0m flat_inputs \u001b[38;5;241m=\u001b[39m function\u001b[38;5;241m.\u001b[39mfunction_type\u001b[38;5;241m.\u001b[39munpack_inputs(bound_args)\n\u001b[0;32m--> 139\u001b[0m \u001b[38;5;28;01mreturn\u001b[39;00m \u001b[43mfunction\u001b[49m\u001b[38;5;241;43m.\u001b[39;49m\u001b[43m_call_flat\u001b[49m\u001b[43m(\u001b[49m\u001b[43m  \u001b[49m\u001b[38;5;66;43;03m# pylint: disable=protected-access\u001b[39;49;00m\n\u001b[1;32m    140\u001b[0m \u001b[43m    \u001b[49m\u001b[43mflat_inputs\u001b[49m\u001b[43m,\u001b[49m\u001b[43m \u001b[49m\u001b[43mcaptured_inputs\u001b[49m\u001b[38;5;241;43m=\u001b[39;49m\u001b[43mfunction\u001b[49m\u001b[38;5;241;43m.\u001b[39;49m\u001b[43mcaptured_inputs\u001b[49m\n\u001b[1;32m    141\u001b[0m \u001b[43m\u001b[49m\u001b[43m)\u001b[49m\n",
      "File \u001b[0;32m~/VscodeProject/hh_quant/.venv/lib/python3.10/site-packages/tensorflow/python/eager/polymorphic_function/concrete_function.py:1323\u001b[0m, in \u001b[0;36mConcreteFunction._call_flat\u001b[0;34m(self, tensor_inputs, captured_inputs)\u001b[0m\n\u001b[1;32m   1319\u001b[0m possible_gradient_type \u001b[38;5;241m=\u001b[39m gradients_util\u001b[38;5;241m.\u001b[39mPossibleTapeGradientTypes(args)\n\u001b[1;32m   1320\u001b[0m \u001b[38;5;28;01mif\u001b[39;00m (possible_gradient_type \u001b[38;5;241m==\u001b[39m gradients_util\u001b[38;5;241m.\u001b[39mPOSSIBLE_GRADIENT_TYPES_NONE\n\u001b[1;32m   1321\u001b[0m     \u001b[38;5;129;01mand\u001b[39;00m executing_eagerly):\n\u001b[1;32m   1322\u001b[0m   \u001b[38;5;66;03m# No tape is watching; skip to running the function.\u001b[39;00m\n\u001b[0;32m-> 1323\u001b[0m   \u001b[38;5;28;01mreturn\u001b[39;00m \u001b[38;5;28;43mself\u001b[39;49m\u001b[38;5;241;43m.\u001b[39;49m\u001b[43m_inference_function\u001b[49m\u001b[38;5;241;43m.\u001b[39;49m\u001b[43mcall_preflattened\u001b[49m\u001b[43m(\u001b[49m\u001b[43margs\u001b[49m\u001b[43m)\u001b[49m\n\u001b[1;32m   1324\u001b[0m forward_backward \u001b[38;5;241m=\u001b[39m \u001b[38;5;28mself\u001b[39m\u001b[38;5;241m.\u001b[39m_select_forward_and_backward_functions(\n\u001b[1;32m   1325\u001b[0m     args,\n\u001b[1;32m   1326\u001b[0m     possible_gradient_type,\n\u001b[1;32m   1327\u001b[0m     executing_eagerly)\n\u001b[1;32m   1328\u001b[0m forward_function, args_with_tangents \u001b[38;5;241m=\u001b[39m forward_backward\u001b[38;5;241m.\u001b[39mforward()\n",
      "File \u001b[0;32m~/VscodeProject/hh_quant/.venv/lib/python3.10/site-packages/tensorflow/python/eager/polymorphic_function/atomic_function.py:216\u001b[0m, in \u001b[0;36mAtomicFunction.call_preflattened\u001b[0;34m(self, args)\u001b[0m\n\u001b[1;32m    214\u001b[0m \u001b[38;5;28;01mdef\u001b[39;00m \u001b[38;5;21mcall_preflattened\u001b[39m(\u001b[38;5;28mself\u001b[39m, args: Sequence[core\u001b[38;5;241m.\u001b[39mTensor]) \u001b[38;5;241m-\u001b[39m\u001b[38;5;241m>\u001b[39m Any:\n\u001b[1;32m    215\u001b[0m \u001b[38;5;250m  \u001b[39m\u001b[38;5;124;03m\"\"\"Calls with flattened tensor inputs and returns the structured output.\"\"\"\u001b[39;00m\n\u001b[0;32m--> 216\u001b[0m   flat_outputs \u001b[38;5;241m=\u001b[39m \u001b[38;5;28;43mself\u001b[39;49m\u001b[38;5;241;43m.\u001b[39;49m\u001b[43mcall_flat\u001b[49m\u001b[43m(\u001b[49m\u001b[38;5;241;43m*\u001b[39;49m\u001b[43margs\u001b[49m\u001b[43m)\u001b[49m\n\u001b[1;32m    217\u001b[0m   \u001b[38;5;28;01mreturn\u001b[39;00m \u001b[38;5;28mself\u001b[39m\u001b[38;5;241m.\u001b[39mfunction_type\u001b[38;5;241m.\u001b[39mpack_output(flat_outputs)\n",
      "File \u001b[0;32m~/VscodeProject/hh_quant/.venv/lib/python3.10/site-packages/tensorflow/python/eager/polymorphic_function/atomic_function.py:251\u001b[0m, in \u001b[0;36mAtomicFunction.call_flat\u001b[0;34m(self, *args)\u001b[0m\n\u001b[1;32m    249\u001b[0m \u001b[38;5;28;01mwith\u001b[39;00m record\u001b[38;5;241m.\u001b[39mstop_recording():\n\u001b[1;32m    250\u001b[0m   \u001b[38;5;28;01mif\u001b[39;00m \u001b[38;5;28mself\u001b[39m\u001b[38;5;241m.\u001b[39m_bound_context\u001b[38;5;241m.\u001b[39mexecuting_eagerly():\n\u001b[0;32m--> 251\u001b[0m     outputs \u001b[38;5;241m=\u001b[39m \u001b[38;5;28;43mself\u001b[39;49m\u001b[38;5;241;43m.\u001b[39;49m\u001b[43m_bound_context\u001b[49m\u001b[38;5;241;43m.\u001b[39;49m\u001b[43mcall_function\u001b[49m\u001b[43m(\u001b[49m\n\u001b[1;32m    252\u001b[0m \u001b[43m        \u001b[49m\u001b[38;5;28;43mself\u001b[39;49m\u001b[38;5;241;43m.\u001b[39;49m\u001b[43mname\u001b[49m\u001b[43m,\u001b[49m\n\u001b[1;32m    253\u001b[0m \u001b[43m        \u001b[49m\u001b[38;5;28;43mlist\u001b[39;49m\u001b[43m(\u001b[49m\u001b[43margs\u001b[49m\u001b[43m)\u001b[49m\u001b[43m,\u001b[49m\n\u001b[1;32m    254\u001b[0m \u001b[43m        \u001b[49m\u001b[38;5;28;43mlen\u001b[39;49m\u001b[43m(\u001b[49m\u001b[38;5;28;43mself\u001b[39;49m\u001b[38;5;241;43m.\u001b[39;49m\u001b[43mfunction_type\u001b[49m\u001b[38;5;241;43m.\u001b[39;49m\u001b[43mflat_outputs\u001b[49m\u001b[43m)\u001b[49m\u001b[43m,\u001b[49m\n\u001b[1;32m    255\u001b[0m \u001b[43m    \u001b[49m\u001b[43m)\u001b[49m\n\u001b[1;32m    256\u001b[0m   \u001b[38;5;28;01melse\u001b[39;00m:\n\u001b[1;32m    257\u001b[0m     outputs \u001b[38;5;241m=\u001b[39m make_call_op_in_graph(\n\u001b[1;32m    258\u001b[0m         \u001b[38;5;28mself\u001b[39m,\n\u001b[1;32m    259\u001b[0m         \u001b[38;5;28mlist\u001b[39m(args),\n\u001b[1;32m    260\u001b[0m         \u001b[38;5;28mself\u001b[39m\u001b[38;5;241m.\u001b[39m_bound_context\u001b[38;5;241m.\u001b[39mfunction_call_options\u001b[38;5;241m.\u001b[39mas_attrs(),\n\u001b[1;32m    261\u001b[0m     )\n",
      "File \u001b[0;32m~/VscodeProject/hh_quant/.venv/lib/python3.10/site-packages/tensorflow/python/eager/context.py:1486\u001b[0m, in \u001b[0;36mContext.call_function\u001b[0;34m(self, name, tensor_inputs, num_outputs)\u001b[0m\n\u001b[1;32m   1484\u001b[0m cancellation_context \u001b[38;5;241m=\u001b[39m cancellation\u001b[38;5;241m.\u001b[39mcontext()\n\u001b[1;32m   1485\u001b[0m \u001b[38;5;28;01mif\u001b[39;00m cancellation_context \u001b[38;5;129;01mis\u001b[39;00m \u001b[38;5;28;01mNone\u001b[39;00m:\n\u001b[0;32m-> 1486\u001b[0m   outputs \u001b[38;5;241m=\u001b[39m \u001b[43mexecute\u001b[49m\u001b[38;5;241;43m.\u001b[39;49m\u001b[43mexecute\u001b[49m\u001b[43m(\u001b[49m\n\u001b[1;32m   1487\u001b[0m \u001b[43m      \u001b[49m\u001b[43mname\u001b[49m\u001b[38;5;241;43m.\u001b[39;49m\u001b[43mdecode\u001b[49m\u001b[43m(\u001b[49m\u001b[38;5;124;43m\"\u001b[39;49m\u001b[38;5;124;43mutf-8\u001b[39;49m\u001b[38;5;124;43m\"\u001b[39;49m\u001b[43m)\u001b[49m\u001b[43m,\u001b[49m\n\u001b[1;32m   1488\u001b[0m \u001b[43m      \u001b[49m\u001b[43mnum_outputs\u001b[49m\u001b[38;5;241;43m=\u001b[39;49m\u001b[43mnum_outputs\u001b[49m\u001b[43m,\u001b[49m\n\u001b[1;32m   1489\u001b[0m \u001b[43m      \u001b[49m\u001b[43minputs\u001b[49m\u001b[38;5;241;43m=\u001b[39;49m\u001b[43mtensor_inputs\u001b[49m\u001b[43m,\u001b[49m\n\u001b[1;32m   1490\u001b[0m \u001b[43m      \u001b[49m\u001b[43mattrs\u001b[49m\u001b[38;5;241;43m=\u001b[39;49m\u001b[43mattrs\u001b[49m\u001b[43m,\u001b[49m\n\u001b[1;32m   1491\u001b[0m \u001b[43m      \u001b[49m\u001b[43mctx\u001b[49m\u001b[38;5;241;43m=\u001b[39;49m\u001b[38;5;28;43mself\u001b[39;49m\u001b[43m,\u001b[49m\n\u001b[1;32m   1492\u001b[0m \u001b[43m  \u001b[49m\u001b[43m)\u001b[49m\n\u001b[1;32m   1493\u001b[0m \u001b[38;5;28;01melse\u001b[39;00m:\n\u001b[1;32m   1494\u001b[0m   outputs \u001b[38;5;241m=\u001b[39m execute\u001b[38;5;241m.\u001b[39mexecute_with_cancellation(\n\u001b[1;32m   1495\u001b[0m       name\u001b[38;5;241m.\u001b[39mdecode(\u001b[38;5;124m\"\u001b[39m\u001b[38;5;124mutf-8\u001b[39m\u001b[38;5;124m\"\u001b[39m),\n\u001b[1;32m   1496\u001b[0m       num_outputs\u001b[38;5;241m=\u001b[39mnum_outputs,\n\u001b[0;32m   (...)\u001b[0m\n\u001b[1;32m   1500\u001b[0m       cancellation_manager\u001b[38;5;241m=\u001b[39mcancellation_context,\n\u001b[1;32m   1501\u001b[0m   )\n",
      "File \u001b[0;32m~/VscodeProject/hh_quant/.venv/lib/python3.10/site-packages/tensorflow/python/eager/execute.py:53\u001b[0m, in \u001b[0;36mquick_execute\u001b[0;34m(op_name, num_outputs, inputs, attrs, ctx, name)\u001b[0m\n\u001b[1;32m     51\u001b[0m \u001b[38;5;28;01mtry\u001b[39;00m:\n\u001b[1;32m     52\u001b[0m   ctx\u001b[38;5;241m.\u001b[39mensure_initialized()\n\u001b[0;32m---> 53\u001b[0m   tensors \u001b[38;5;241m=\u001b[39m \u001b[43mpywrap_tfe\u001b[49m\u001b[38;5;241;43m.\u001b[39;49m\u001b[43mTFE_Py_Execute\u001b[49m\u001b[43m(\u001b[49m\u001b[43mctx\u001b[49m\u001b[38;5;241;43m.\u001b[39;49m\u001b[43m_handle\u001b[49m\u001b[43m,\u001b[49m\u001b[43m \u001b[49m\u001b[43mdevice_name\u001b[49m\u001b[43m,\u001b[49m\u001b[43m \u001b[49m\u001b[43mop_name\u001b[49m\u001b[43m,\u001b[49m\n\u001b[1;32m     54\u001b[0m \u001b[43m                                      \u001b[49m\u001b[43minputs\u001b[49m\u001b[43m,\u001b[49m\u001b[43m \u001b[49m\u001b[43mattrs\u001b[49m\u001b[43m,\u001b[49m\u001b[43m \u001b[49m\u001b[43mnum_outputs\u001b[49m\u001b[43m)\u001b[49m\n\u001b[1;32m     55\u001b[0m \u001b[38;5;28;01mexcept\u001b[39;00m core\u001b[38;5;241m.\u001b[39m_NotOkStatusException \u001b[38;5;28;01mas\u001b[39;00m e:\n\u001b[1;32m     56\u001b[0m   \u001b[38;5;28;01mif\u001b[39;00m name \u001b[38;5;129;01mis\u001b[39;00m \u001b[38;5;129;01mnot\u001b[39;00m \u001b[38;5;28;01mNone\u001b[39;00m:\n",
      "\u001b[0;31mKeyboardInterrupt\u001b[0m: "
     ]
    }
   ],
   "source": [
    "feature_config = {\n",
    "    \"target_feature_name\": [\"future_return\"],\n",
    "    \"numeric_features\": ['turnover_rate', 'pe_ttm', 'ps_ttm', 'pcf_ncf_ttm', 'pb_mrq', 'KMID', 'KLEN', 'KMID2', 'KUP', 'KUP2', 'KLOW', 'KLOW2', 'KSFT', 'KSFT2', 'OPEN0', 'OPEN1', 'OPEN2', 'OPEN3', 'OPEN4', 'HIGH0', 'HIGH1', 'HIGH2', 'HIGH3', 'HIGH4', 'LOW0', 'LOW1', 'LOW2', 'LOW3', 'LOW4', 'CLOSE0', 'CLOSE1', 'CLOSE2', 'CLOSE3', 'CLOSE4', 'VOLUME0', 'VOLUME1', 'VOLUME2', 'VOLUME3', 'VOLUME4', 'ROC5', 'ROC10', 'ROC20', 'ROC30', 'ROC60', 'MAX5', 'MAX10', 'MAX20', 'MAX30', 'MAX60', 'MIN5', 'MIN10', 'MIN20', 'MIN30', 'MIN60', 'MA5', 'MA10', 'MA20', 'MA30', 'MA60', 'STD5', 'STD10', 'STD20', 'STD30', 'STD60', 'BETA5', 'BETA10', 'BETA20', 'BETA30', 'BETA60', 'RSQR5', 'RSQR10', 'RSQR20', 'RSQR30', 'RSQR60', 'RESI5', 'RESI10', 'RESI20', 'RESI30', 'RESI60', 'QTLU5', 'QTLU10', 'QTLU20', 'QTLU30', 'QTLU60', 'QTLD5', 'QTLD10', 'QTLD20', 'QTLD30', 'QTLD60', 'TSRANK5', 'TSRANK10', 'TSRANK20', 'TSRANK30', 'TSRANK60', 'RSV5', 'RSV10', 'RSV20', 'RSV30', 'RSV60', 'IMAX5', 'IMAX10', 'IMAX20', 'IMAX30', 'IMAX60', 'IMIN5', 'IMIN10', 'IMIN20', 'IMIN30', 'IMIN60', 'IMXD5', 'IMXD10', 'IMXD20', 'IMXD30', 'IMXD60', 'CORR5', 'CORR10', 'CORR20', 'CORR30', 'CORR60', 'CORD5', 'CORD10', 'CORD20', 'CORD30', 'CORD60', 'CNTP5', 'CNTP10', 'CNTP20', 'CNTP30', 'CNTP60', 'CNTN5', 'CNTN10', 'CNTN20', 'CNTN30', 'CNTN60', 'CNTD5', 'CNTD10', 'CNTD20', 'CNTD30', 'CNTD60', 'SUMP5', 'SUMP10', 'SUMP20', 'SUMP30', 'SUMP60', 'SUMN5', 'SUMN10', 'SUMN20', 'SUMN30', 'SUMN60', 'SUMD5', 'SUMD10', 'SUMD20', 'SUMD30', 'SUMD60', 'VMA5', 'VMA10', 'VMA20', 'VMA30', 'VMA60', 'VSTD5', 'VSTD10', 'VSTD20', 'VSTD30', 'VSTD60', 'WVMA5', 'WVMA10', 'WVMA20', 'WVMA30', 'WVMA60', 'VSUMP5', 'VSUMP10', 'VSUMP20', 'VSUMP30', 'VSUMP60', 'VSUMN5', 'VSUMN10', 'VSUMN20', 'VSUMN30', 'VSUMN60', 'VSUMD5', 'VSUMD10', 'VSUMD20', 'VSUMD30', 'VSUMD60'],\n",
    "    \"integer_categorical_features\": ['weekday', 'day_of_month', 'month'],\n",
    "    \"string_categorical_features\": ['industry', 'day_of_week', 'season']\n",
    "}\n",
    "full_feature_names = feature_config.get('numeric_features', []) + feature_config.get('integer_categorical_features', []) + feature_config.get('string_categorical_features', [])\n",
    "stock_pool = '000300' # [上证50:000016, 沪深300:000300, 中证500:000905]所有股票作为训练数据\n",
    "batch_size = 256\n",
    "\n",
    "for date_period in tqdm(rolling_period, desc='Rolling Training...'):\n",
    "    train_start_date, train_end_date, val_start_date, val_end_date = date_period\n",
    "    print(f\"train_start: {train_start_date}, train_end: {train_end_date}, val_start: {val_start_date}, val_end: {val_end_date}\")\n",
    "    # 1. 获取所有股票信息\n",
    "    df = proprocessor._process_all_stock(code_type=stock_pool, start_date=train_start_date, end_date=val_end_date)\n",
    "    # 2. 拆分训练数据&验证数据\n",
    "    train_data, val_data = extract_train_val_data(df, train_start_date, train_end_date, val_start_date, val_end_date)\n",
    "    # 3. 构建训练集和验证集\n",
    "    train_ds = df_to_dataset(train_data, full_feature_names, feature_config.get('target_feature_name', []), shuffle=True, batch_size=batch_size)\n",
    "    val_ds = df_to_dataset(val_data, full_feature_names, feature_config.get('target_feature_name', []), shuffle=False, batch_size=batch_size)\n",
    "    # 4. 配置模型相关参数\n",
    "    model_config = {\n",
    "        \"seed\": 1024,\n",
    "        \"reduction_ratio\": 3,\n",
    "        \"cross_layer_num\": 2,\n",
    "        \"parameterization\": 'matrix', # vector, matrix\n",
    "        \"dnn_hidden_units\": [64,32],\n",
    "        \"dnn_activation\": 'relu',\n",
    "        \"dnn_dropout\": 0.2,\n",
    "        \"dnn_use_bn\": True,\n",
    "        \"numeric_features_with_boundaries\": {k: list(get_numeric_boundaries(train_data[k])) for k in feature_config.get('numeric_features', [])},\n",
    "        \"integer_categorical_features_with_vocab\": {k: list(train_data[k].unique()) for k in feature_config.get('integer_categorical_features', [])},\n",
    "        \"string_categorical_features_with_vocab\": {k: list(train_data[k].unique()) for k in feature_config.get('string_categorical_features', [])},\n",
    "        \"feature_embedding_dims\": 6,\n",
    "        \"task_type\": ['reg'],\n",
    "    }\n",
    "    # 5. 初始化模型\n",
    "    model = QuantModel(model_config)\n",
    "    # 6. 配置训练相关参数\n",
    "    early_stopping = tf.keras.callbacks.EarlyStopping(\n",
    "        monitor='val_loss',\n",
    "        verbose=2,\n",
    "        patience=10,\n",
    "        mode='min',\n",
    "        restore_best_weights=True,\n",
    "    )\n",
    "    # 7. 配置Tensorboard记录功能\n",
    "    log_dir = \"./logs/fit/\" + datetime.now().strftime(\"%Y%m%d-%H%M%S\")\n",
    "    tensorboard_callback = tf.keras.callbacks.TensorBoard(log_dir=log_dir, histogram_freq=1)\n",
    "\n",
    "    # 8. 配置optimizer\n",
    "    initial_learning_rate = 5e-4\n",
    "    # lr_schedule = tf.keras.optimizers.schedules.ExponentialDecay(\n",
    "    #     initial_learning_rate,\n",
    "    #     decay_steps=1000,\n",
    "    #     decay_rate=0.8,\n",
    "    #     staircase=True)\n",
    "    # optimizer = tf.keras.optimizers.legacy.Adam(learning_rate=initial_learning_rate) # for Mac M1/M2\n",
    "    optimizer = tf.keras.optimizers.Adam(learning_rate=initial_learning_rate) # for intel\n",
    "    loss = [tf.keras.losses.MeanSquaredError()]\n",
    "    model.compile(optimizer=optimizer, loss=loss)\n",
    "    model.fit(\n",
    "            train_ds, \n",
    "            validation_data=val_ds, \n",
    "            epochs=50,\n",
    "            verbose=2,\n",
    "            callbacks=[tensorboard_callback, early_stopping]\n",
    "    )\n",
    "    # 9. 配置保存模型功能\n",
    "    # model_save_path = f'./models/saved_model/model_of_{val_start_date}'\n",
    "    # model.save(model_save_path)\n",
    "    # best_model = tf.keras.models.load_model('./best_model')\n",
    "\n",
    "    # 10. 记录预测集合\n",
    "    model_red_result = model.predict(val_ds)\n",
    "    output_df = val_data[['stock_code', 'stock_name', 'datetime']]\n",
    "    output_df['future_return'] = val_data['future_return']\n",
    "    output_df['future_return_pred'] = model_red_result\n",
    "    output_file_path = f'../../Offline/backtest/backtest_data/stock_selection_results_{val_start_date}.pkl'\n",
    "    output_df.to_pickle(output_file_path)"
   ]
  },
  {
   "cell_type": "code",
   "execution_count": null,
   "metadata": {},
   "outputs": [],
   "source": [
    "# model.summary()"
   ]
  },
  {
   "cell_type": "code",
   "execution_count": null,
   "metadata": {},
   "outputs": [],
   "source": []
  },
  {
   "cell_type": "code",
   "execution_count": 9,
   "metadata": {},
   "outputs": [
    {
     "data": {
      "text/plain": [
       "{'seed': 1024,\n",
       " 'reduction_ratio': 3,\n",
       " 'cross_layer_num': 1,\n",
       " 'dnn_hidden_units': ListWrapper([64, 32]),\n",
       " 'dnn_activation': 'relu',\n",
       " 'dnn_dropout': 0.1,\n",
       " 'dnn_use_bn': True,\n",
       " 'numeric_features_with_boundaries': {'turnover_rate': ListWrapper([0.0044, 0.0822, 0.133, 0.1787, 0.2217, 0.2642, 0.3065, 0.3491, 0.393, 0.4388, 0.4863, 0.535, 0.5876, 0.6435, 0.7049, 0.7695, 0.8422, 0.9216, 1.0108, 1.1115599999999977, 1.2295, 1.3673, 1.5272, 1.7216, 1.9582, 2.267, 2.6735400000000022, 3.256379999999999, 4.165019999999996, 5.977059999999986, 48.0089]),\n",
       "  'pe_ttm': ListWrapper([-13343.970644, -12.4208332, 5.751325, 6.6932036, 7.7512612, 9.078301, 10.5933854, 12.052986, 13.362868599999999, 14.774811199999998, 16.125140999999996, 17.7369758, 19.21677, 20.810897, 22.519195399999994, 24.517737, 26.620819399999995, 29.0810812, 31.6705172, 34.48067299999999, 37.561443999999995, 41.066705799999994, 45.152682999999996, 50.289314799999985, 57.262058600000024, 66.76766500000002, 77.95702500000002, 92.99423219999998, 118.71187739999965, 196.97191199999938, 661439.606023]),\n",
       "  'ps_ttm': ListWrapper([-1050.446444, 0.3310558, 0.5143302, 0.6824208, 0.8372392, 0.9696289999999997, 1.1279694, 1.2990553999999999, 1.4574992, 1.615402, 1.777856, 1.9440063999999997, 2.120335, 2.313091, 2.5325119999999983, 2.805242, 3.12706, 3.470999799999998, 3.8529073999999994, 4.287103799999998, 4.84269, 5.467543599999999, 6.191617399999997, 7.0877064, 8.141477400000001, 9.642828, 11.34353, 13.7898856, 18.2757354, 28.379521599999986, 3072.831746]),\n",
       "  'pcf_ncf_ttm': ListWrapper([-855576.552931, -473.87456440000005, -198.3572982, -123.5368692, -78.70674480000001, -51.63815900000001, -34.8192008, -23.237503000000025, -14.545818, -8.695840400000005, -3.702421, 1.507251, 4.360201000000001, 6.617672600000001, 9.039642999999995, 11.840789, 15.075324799999999, 19.067115599999997, 23.423894999999998, 28.453201799999984, 34.19294299999996, 40.970298, 49.61613679999999, 60.34647579999999, 74.49199540000002, 92.2945740000001, 116.59128080000006, 160.3036218, 253.53432059999992, 483.3225801999989, 43250.668067]),\n",
       "  'pb_mrq': ListWrapper([0.406224, 0.7343398, 0.8614606, 0.9660350000000001, 1.0842182, 1.2029949999999998, 1.315644, 1.4232014, 1.5332512, 1.6445838, 1.7692779999999997, 1.9224329999999998, 2.088188, 2.2821582000000005, 2.510698599999998, 2.768462, 3.0455952, 3.354612, 3.6920904, 4.083599, 4.5272879999999995, 5.0204678000000005, 5.599502599999999, 6.184439199999999, 6.9371726, 7.917136000000005, 9.1259072, 10.737200399999999, 13.120772199999983, 17.29673479999998, 534.895494]),\n",
       "  'KMID': ListWrapper([-0.1817964862199814, -0.041794313675484286, -0.03007231492527472, -0.023816097357310412, -0.01950448829537045, -0.01627269807679884, -0.013657000565001512, -0.011461411168008431, -0.00957407805794123, -0.007867534678696483, -0.006298152829423627, -0.004871866198168076, -0.003460426066310066, -0.0021832681112239206, -0.0007983779979725872, 0.0, 0.0016617445473666344, 0.0028875570595265536, 0.004210488590264026, 0.005665699518209711, 0.007274786548179172, 0.009051234692109758, 0.011075861330920828, 0.01339422683208335, 0.01612743735806254, 0.019464798461371696, 0.023580040954305, 0.02916252887480608, 0.037127992370773036, 0.05179956451311996, 0.223116785962007]),\n",
       "  'KLEN': ListWrapper([0.0, 0.008969635012051067, 0.01101548966232202, 0.01265578337577953, 0.014137295530675921, 0.01550374013904853, 0.01683709873048947, 0.01812163565418044, 0.01939885419506287, 0.020662511275856322, 0.02193623345631857, 0.023240560617549415, 0.0245693539700175, 0.025912529802805832, 0.027347298903564878, 0.028795863264460316, 0.03034082241354242, 0.03198229533993513, 0.033713229716819046, 0.03557566357471707, 0.03765135179963514, 0.03987428949975061, 0.04236528466421624, 0.04521807835026526, 0.0486307610770271, 0.052661989269500505, 0.057692403635396586, 0.06446038275301082, 0.07420846361218143, 0.090611546328167, 0.2468354430379747]),\n",
       "  'KMID2': ListWrapper([-0.9999999999999986, -0.8571421926179609, -0.7740087157844805, -0.7051279740862519, -0.6428605990223567, -0.5832433599648228, -0.5219857184072976, -0.4679481829764588, -0.4069632153907829, -0.34821519925282696, -0.29063873741855484, -0.2308163408203172, -0.1674803118231364, -0.1071222639237901, -0.033361737449275564, 0.0, 0.07696651461175515, 0.14061921005751057, 0.1990849535815884, 0.24999999999996744, 0.307072515666937, 0.3601643760865202, 0.41632596307901515, 0.47222179160038824, 0.5254326590987578, 0.5834384195015436, 0.6430433769882782, 0.7049107999060413, 0.7728805519180084, 0.8571428571345623, 0.9999999999999983]),\n",
       "  'KUP': ListWrapper([0.0, 0.0003520140890104339, 0.0010917507651758973, 0.0015747751274499857, 0.001993962593662293, 0.0024511504763080746, 0.002878429902286191, 0.003320456658633972, 0.003789602411694452, 0.004297252971732002, 0.004816144869944454, 0.005343520694066605, 0.005882859950702921, 0.006474283376254503, 0.0070876640017905465, 0.007742360667617261, 0.008456785383540078, 0.009230852179502402, 0.010061401428307854, 0.011011033851923471, 0.01207760059295763, 0.013293432815221573, 0.01470385238939192, 0.016399462466404245, 0.018481580272164896, 0.021224146898952412, 0.02518802770018665, 0.03241727183854329, 0.20870987431185584]),\n",
       "  'KUP2': ListWrapper([0.0, 0.010075917815382958, 0.037137592528409244, 0.05913919349444561, 0.07921588166498084, 0.09977691952986227, 0.11718324868471293, 0.13513779281539612, 0.15382403680261098, 0.17033670745748655, 0.19048294105624922, 0.20779173903875017, 0.22857360546891176, 0.24998800901709534, 0.26785732699851983, 0.28906082671945377, 0.3125654816763519, 0.333333333333302, 0.3583323970388015, 0.38467022220272645, 0.4119972069649335, 0.44423076922692256, 0.4769269410208001, 0.5004344048609933, 0.5476917638749395, 0.5960697479012466, 0.6511598310989574, 0.7272768753420168, 0.9999999999999881]),\n",
       "  'KLOW': ListWrapper([0.0, 0.0006661697685953728, 0.001261383887338724, 0.0017087477684264035, 0.0021169030456623743, 0.002518833058903815, 0.002903615068364652, 0.003300021022446946, 0.003718999412577563, 0.004147008133062694, 0.004594016904755015, 0.005033593517162685, 0.0054932423561264414, 0.005976799390349018, 0.006509827776713859, 0.00707535484355413, 0.007685155216956598, 0.00833667676925523, 0.009049798470942621, 0.009846660611150868, 0.010752626943493099, 0.011781429748198964, 0.013008879156018728, 0.014461358863115182, 0.01626848854189415, 0.018652392233025297, 0.022225304285595156, 0.028901853505719312, 0.18192091134338725]),\n",
       "  'KLOW2': ListWrapper([0.0, 0.019999917378986338, 0.04227438090971233, 0.06151821346690094, 0.07813771451051092, 0.09524326994310517, 0.11112430166241025, 0.12704860976763335, 0.14296936370739957, 0.16216855135156918, 0.17780653663912047, 0.19867646404448572, 0.21279282404420508, 0.23119015047721292, 0.24999999999989317, 0.2708653238598488, 0.2913898565514539, 0.3157162725997232, 0.33337077389606357, 0.3620267168549094, 0.38893344128003243, 0.41668714384354766, 0.44998872484662605, 0.49243085880622633, 0.5208322901602198, 0.57142717604173, 0.6279518048634363, 0.7105403181944502, 0.9999999999999906]),\n",
       "  'KSFT': ListWrapper([-0.20870987431185584, -0.04590725913465774, -0.03378464051802348, -0.02722410362793824, -0.022694210262215048, -0.019208905300530512, -0.016336326499664273, -0.013905560318820941, -0.011764807848008544, -0.0098870455773408, -0.00815048983094915, -0.006471201399375245, -0.0048776010718034205, -0.003302483581026171, -0.0018335605952165628, -9.24770818571144e-07, 0.0012242199819739068, 0.0027689219319673867, 0.004414388375409937, 0.006122432388712142, 0.00791394792945272, 0.00990081630369822, 0.01211828924230484, 0.01455649098064772, 0.01734912577992474, 0.02072055869218443, 0.024883682922296018, 0.030259542644820944, 0.037999703332631925, 0.05241845171758576, 0.22999999325730736]),\n",
       "  'KSFT2': ListWrapper([-0.9999999999999988, -0.9555837206681221, -0.8749972777690285, -0.8064806552797456, -0.7435862488089353, -0.6777706598312698, -0.6153711840178943, -0.5554231227623259, -0.4990439770459164, -0.4283976145242723, -0.35470398049500645, -0.29415406496250107, -0.22224204092587826, -0.1537997341172026, -0.08318614140655076, -4.955646961281131e-05, 0.05000463864921043, 0.12510505324660015, 0.19994364778734233, 0.26712217799153, 0.3333333333325973, 0.40025707962662094, 0.4734132019662379, 0.5379652763376578, 0.600091076949285, 0.6667115721397378, 0.7389078498262008, 0.8079052989538585, 0.8824975520174121, 0.9800140243568596, 0.9999999999999986]),\n",
       "  'OPEN0': ListWrapper([0.8175834159723996, 0.950751487012986, 0.9642011471642145, 0.9716638256285745, 0.9769631684765009, 0.9809068459345051, 0.9841285287997157, 0.9867828072457508, 0.9890454695295157, 0.9910299552877796, 0.9927777537516758, 0.9943662197876261, 0.9958071652924703, 0.9971207569191773, 0.998341012266454, 1.0, 1.0007990159147893, 1.0021880452005396, 1.0034724421958015, 1.0048957174786701, 1.0063380709690304, 1.0079299236278432, 1.009666627100358, 1.0115942981867356, 1.0138460967156708, 1.016541879080702, 1.0198924809573693, 1.024397142068047, 1.0310046979669865, 1.0436172674324822, 1.2221898136077414]),\n",
       "  'OPEN1': ListWrapper([0.7432568484184331, 0.9292164145174002, 0.9477839985497755, 0.9585846716146974, 0.9658527217775594, 0.9713784808578301, 0.9759256017238332, 0.9797699544748484, 0.983086755755787, 0.9860267043699721, 0.9887037296363722, 0.9911444354646705, 0.9934011788134179, 0.9955136172638697, 0.9975170410822792, 1.0, 1.0014459048569635, 1.0033090360733716, 1.005291633702859, 1.0073099578374964, 1.0094880241575732, 1.0118335685270923, 1.0144644007685535, 1.0174090231623218, 1.020829757879783, 1.024821404747177, 1.0297172704534283, 1.0363492490096542, 1.0464516129032257, 1.0662252218277495, 1.3580755763058066]),\n",
       "  'OPEN2': ListWrapper([0.6757505558309489, 0.9141363460594206, 0.9358046332072892, 0.9484112073405637, 0.9573610380179337, 0.9641784444157807, 0.9697399818573094, 0.9744610381262653, 0.9785848862933711, 0.9821936999430063, 0.9854762233577316, 0.9884843686061024, 0.9913483071743329, 0.994003408519433, 0.9965112787362794, 0.9989782827214051, 1.0014473613121941, 1.0038895157765602, 1.0064281293750315, 1.0090801496197435, 1.011837004821783, 1.014806001215875, 1.018119811039531, 1.0218064674237506, 1.0260920783651652, 1.0311788354360645, 1.0375100289691528, 1.0457909974575323, 1.0584264644558055, 1.0830430585843096, 1.5067410932897838]),\n",
       "  'OPEN3': ListWrapper([0.6180721037325055, 0.9012770765736394, 0.9256424979063632, 0.9397898597168899, 0.9498747683086003, 0.9577242957596593, 0.9642154093434471, 0.9697347696213215, 0.9745522639539632, 0.9788735207228717, 0.9827585778473096, 0.986354813078275, 0.9896391119249268, 0.9927457639115088, 0.9957239794810856, 0.9985571561706676, 1.001430013797004, 1.0043258282544805, 1.0072753073461598, 1.010329214524795, 1.0136461978934317, 1.0173047992329223, 1.02122557161698, 1.0256349342577191, 1.0306271854847722, 1.0366748713358693, 1.0443039934496674, 1.0542359008013802, 1.0691611195639323, 1.097073324172745, 1.526391021343771]),\n",
       "  'OPEN4': ListWrapper([0.5739374934031501, 0.8897529491218011, 0.9166666518894464, 0.9324286914807361, 0.9435092649471983, 0.9522860817065234, 0.9594938311078559, 0.9655506935646041, 0.9709586022091005, 0.9758034658223861, 0.9801279455826383, 0.9841715409048923, 0.9879106491519497, 0.9915123400938993, 0.9948700696565048, 0.9981682410235482, 1.0015276045141763, 1.0047570569290039, 1.0081450315901197, 1.0116028596862474, 1.0154196808135179, 1.0194551078784584, 1.0238994573877962, 1.0289054906396962, 1.0346754809462109, 1.041495383154449, 1.050001206052341, 1.06128040062262, 1.0779233107421817, 1.1092093502348626, 1.7230974301340145]),\n",
       "  'HIGH0': ListWrapper([1.0, 1.0003265109148038, 1.0015399152975542, 1.0023630552932603, 1.0031320799995662, 1.0039232490872294, 1.0047345169909052, 1.0055045231898738, 1.0062887161513492, 1.0070717947974102, 1.0078762028280852, 1.0086982826982394, 1.0095591005857887, 1.0104375878915648, 1.0114069699456953, 1.0123857813856234, 1.0134246744404614, 1.0145425223771933, 1.0157480611369438, 1.0170496133120173, 1.0184246389878744, 1.0199997924871453, 1.0217473208348564, 1.023742536162659, 1.0260494464562726, 1.0288739755495295, 1.0323982977946378, 1.0370499879683122, 1.0440462867936233, 1.0573269597071022, 1.2221898136077414]),\n",
       "  'HIGH1': ListWrapper([0.84609072653591, 0.9649367388107952, 0.9782351953761199, 0.9854379891581957, 0.9902876749351158, 0.9940181680928268, 0.9970014980229395, 0.9999496998105207, 1.0016536374704463, 1.0034000680893864, 1.0051718558839695, 1.0067950511490784, 1.008403100665447, 1.0100058851003972, 1.0116618147183258, 1.0133079950605492, 1.015060249583758, 1.0169209936056638, 1.0188674815679812, 1.0209890129541297, 1.0232876712328767, 1.025785724159591, 1.028501058059707, 1.0316312390397784, 1.0351724014993673, 1.0394422164170867, 1.0448485213827603, 1.0521272055384878, 1.062921244368528, 1.0842232627058952, 1.3580755763058066]),\n",
       "  'HIGH2': ListWrapper([0.7407899797846103, 0.9460153722633858, 0.9639869904479248, 0.973904635229153, 0.9806359637774557, 0.985819836097309, 0.990038891021289, 0.9935516531244131, 0.9966792395822207, 0.9996611977008676, 1.0019525623379533, 1.004260284404468, 1.006487684906624, 1.008689767489054, 1.010925812972685, 1.0131750866833338, 1.015490882352741, 1.0179159723208486, 1.0204591715219158, 1.0231614043048414, 1.0261314298329531, 1.0292635766943716, 1.0327840541170148, 1.0367903925023745, 1.041431373935004, 1.0468659634060538, 1.0536460216937649, 1.062881571088878, 1.0767840486579672, 1.1030287968071506, 1.5067410932897838]),\n",
       "  'HIGH3': ListWrapper([0.7099050850482652, 0.9314218315111752, 0.9525675871191848, 0.9643624988442182, 0.9725534832298166, 0.9789720656161679, 0.9842455545721291, 0.9886233857380645, 0.9923879903523963, 0.9958366274166014, 0.9989993104492171, 1.0019581340692794, 1.004766003909638, 1.0074206021195244, 1.0100576575112739, 1.0128189503307223, 1.0155770099085053, 1.0185050726647271, 1.0215456393369715, 1.0247784133773465, 1.0282441186394937, 1.0320284736317926, 1.0362565436667166, 1.041051077476804, 1.0465177218146455, 1.0530106077383532, 1.061267396443422, 1.072209822224283, 1.0884501140864657, 1.118311104756578, 1.5742539714099748]),\n",
       "  'HIGH4': ListWrapper([0.6741674545577123, 0.9186756122934923, 0.9422016111516723, 0.9559882068280243, 0.9656314038369723, 0.9730012995397578, 0.9791992453392179, 0.9842456080331906, 0.9887420901799544, 0.9926834881049733, 0.9964049804173729, 1.0, 1.003172529625828, 1.0063101956004235, 1.009409891940771, 1.0125028441410695, 1.015723384440357, 1.019017788068289, 1.0225321077207068, 1.0261986211815282, 1.0302112378866375, 1.0345574033340676, 1.039359775729798, 1.0447266908205617, 1.0509479540127078, 1.0583286551997293, 1.067654985749922, 1.0799521632783415, 1.0979361298467425, 1.1312732026400778, 1.7492830047104921]),\n",
       "  'LOW0': ListWrapper([0.8095655475039357, 0.9394032924737327, 0.9530838256906264, 0.9606086172298165, 0.9657641083108406, 0.9697493426075153, 0.9729728249205267, 0.9755992983823816, 0.9778756967541247, 0.9798500908610467, 0.981587471045079, 0.9831405483709827, 0.9845436962778817, 0.9858477039542266, 0.9870571282703142, 0.9881449197303729, 0.9891582397357872, 0.990134382824032, 0.991022045345831, 0.9918683330082667, 0.9926672578365354, 0.9934427626679074, 0.9941864584830136, 0.9948782298576673, 0.9955718440773574, 0.9962829884772643, 0.9969739181149181, 0.997659292840827, 0.9983744833865524, 0.999334355320829, 1.0]),\n",
       "  'LOW1': ListWrapper([0.7400642824345697, 0.9152186199633386, 0.9344482074484015, 0.945176120257758, 0.9526781363485475, 0.9583908060735234, 0.9630895434711367, 0.9669655720361442, 0.970407432413459, 0.9734043063748455, 0.9760869178383408, 0.9785160655444705, 0.9807637537455995, 0.9828510956330773, 0.9848039853531934, 0.98664640784455, 0.9883837847727295, 0.990066007581368, 0.9916712030121105, 0.9932690776918197, 0.9948138315701971, 0.9964520505061046, 0.9980887834285671, 1.0, 1.0022003084954614, 1.004816075728639, 1.0080000641178573, 1.012154698926713, 1.0185900202510005, 1.031516549021656, 1.218724276029631]),\n",
       "  'LOW2': ListWrapper([0.6757505558309489, 0.89941937385833, 0.9214935736499664, 0.9341969750226639, 0.9433370586970793, 0.9502758009907424, 0.9560487706556567, 0.9610060495886937, 0.9652511948118908, 0.9690639293246945, 0.9725101907660558, 0.9756146171811894, 0.9785204799597903, 0.9811500833789043, 0.9836866955685847, 0.9861116686067514, 0.9884238829858224, 0.9906816702806213, 0.9928795445742854, 0.9949997241909424, 0.9972309423680625, 1.0, 1.0020874009118659, 1.004859155024091, 1.0079786392357144, 1.0116476765531226, 1.0163235229277023, 1.0226014396866503, 1.0319137779765808, 1.0501756769589259, 1.2352935137465864]),\n",
       "  'LOW3': ListWrapper([0.6180721037325055, 0.8861005108749549, 0.9107645043187262, 0.9252477636316018, 0.9354850979287457, 0.943606821693523, 0.9502685184328606, 0.9559450890097396, 0.9609361003644191, 0.9654335346532261, 0.9694366607737932, 0.9731539669117848, 0.976603718804644, 0.9797980122599005, 0.9828183919821313, 0.9856830154186612, 0.9884380336641723, 0.9910745290177106, 0.9937096302525308, 0.9963632785896025, 0.9991800448817538, 1.0020320045572824, 1.0052052970908039, 1.008678595490317, 1.01276187022103, 1.0174085549481469, 1.0233480904695806, 1.031148432281962, 1.042896345478363, 1.065617332040061, 1.372375192191339]),\n",
       "  'LOW4': ListWrapper([0.5739374934031501, 0.8746430020639822, 0.9016699355809419, 0.9174648578243522, 0.9288653397165516, 0.937730627306273, 0.9452112810281055, 0.9516644656357635, 0.9571982862629372, 0.9622008084457372, 0.966748780497611, 0.9709679097576573, 0.9747394990161001, 0.9783633200380895, 0.9818356989378647, 0.9851061385725803, 0.9883038023602928, 0.9913628112360412, 0.9943369777761552, 0.9974557820386384, 1.0005742920525713, 1.0041393929804951, 1.0078852051393383, 1.0119299605171803, 1.016742738842099, 1.0224085953721584, 1.029340992606022, 1.038707024420129, 1.052626995044369, 1.0788031988600353, 1.5250396309926288]),\n",
       "  'CLOSE0': ListWrapper([1.0]),\n",
       "  'CLOSE1': ListWrapper([0.8333117695675915, 0.9482318867565207, 0.9626950279403724, 0.970672903158448, 0.9763202960816458, 0.9805138571200595, 0.9838434117644101, 0.9865904621310512, 0.9889777509105868, 0.9910544811787189, 0.9929090849141697, 0.99457616197618, 0.9960894757165185, 0.9974565756823821, 0.9987197555217598, 1.0, 1.0012398798659883, 1.0026163430408075, 1.0040698151945155, 1.005582993586821, 1.0071712631704355, 1.0088833197754292, 1.0107686105323836, 1.0129131284377282, 1.0154139146260193, 1.0183560726498642, 1.0220447118924492, 1.0270852686644005, 1.034486249912447, 1.049821017743337, 1.24993531694696]),\n",
       "  'CLOSE2': ListWrapper([0.7138761861926315, 0.9280104821391877, 0.9471059694512685, 0.9578955925216273, 0.9653948652921233, 0.9710795397023589, 0.975789193472222, 0.9797676973047449, 0.9831998295241433, 0.9862726392197135, 0.9890283190390328, 0.9915114774233125, 0.9937946408177414, 0.9959443510345088, 0.997988842108314, 1.0, 1.0019597298894352, 1.0039530116621564, 1.0059755488645556, 1.0081085786247872, 1.0103629853261251, 1.0128497017942923, 1.015608852368541, 1.0187144601581328, 1.022306961750586, 1.0265639450592314, 1.0318313802677124, 1.0390107648904632, 1.0499175261013287, 1.0709245396618168, 1.33666001330672]),\n",
       "  'CLOSE3': ListWrapper([0.6887913881944798, 0.9132568152253735, 0.9352300729601535, 0.9479585015628232, 0.9571680183159835, 0.9640199524631436, 0.9695917657420644, 0.9744433551236048, 0.9786828974546066, 0.9824050870551488, 0.9857207449263904, 0.9888041532173366, 0.9916884168621273, 0.9943663846996017, 0.9969924964234104, 1.0, 1.0020020682505058, 1.004510735570472, 1.0071138873589154, 1.0098278213770562, 1.0127011701736548, 1.015801642191783, 1.0192521457273926, 1.0231744798016131, 1.0276254373056692, 1.0329535939966983, 1.0395581628268185, 1.0482993314426359, 1.0616635861595536, 1.0870990703333665, 1.372375192191339]),\n",
       "  'CLOSE4': ListWrapper([0.6732848428869804, 0.900239148049492, 0.9251719268846991, 0.9394563980801958, 0.9497998092061039, 0.9578708418805548, 0.9642866712782402, 0.969909626149072, 0.9747941976693155, 0.9791177137781222, 0.9829808991636536, 0.9866557977269772, 0.9900245124875873, 0.9931618108662614, 0.9961905082500573, 0.9991478088949274, 1.0020321019803073, 1.0049529840885283, 1.0079180733203508, 1.0110998879529967, 1.014461414582197, 1.0181253212543455, 1.0222384563166107, 1.0267983926079467, 1.0320091644999572, 1.0382601092896175, 1.0460880328311484, 1.0564517711806078, 1.0720388019731968, 1.1011183934645918, 1.5250396309926288]),\n",
       "  'VOLUME0': ListWrapper([1.0]),\n",
       "  'VOLUME1': ListWrapper([0.0031114512515172396, 0.43315934966908226, 0.5226428676260446, 0.5871550702788607, 0.6393678589911114, 0.6844255177736802, 0.7256643096371537, 0.763609488224377, 0.7999808759921213, 0.8349805039492295, 0.8689976535064539, 0.9018758192740786, 0.9343861792105134, 0.9667900045074352, 0.9997235699323674, 1.0326118519683365, 1.0667780468462278, 1.1015943520048124, 1.1376508105932903, 1.1745262551452997, 1.2148202677607876, 1.2569546281448574, 1.3018880518839127, 1.3509848316185888, 1.406438525597585, 1.4715105437888019, 1.5454349369072824, 1.638323047051467, 1.7662949187213777, 1.9775139178500114, 160.629440433213]),\n",
       "  'VOLUME2': ListWrapper([0.0017314560666174025, 0.3816196078835639, 0.4739407247102441, 0.5402044151373767, 0.5947483485263667, 0.6428616706132868, 0.6864818298016396, 0.727451318445192, 0.7664208967911417, 0.8043679754816285, 0.8417089544056247, 0.8778438034550962, 0.914527892802011, 0.9511613483657622, 0.9888669019452746, 1.0269414213990002, 1.0660923594207672, 1.107253989975905, 1.1504343694587518, 1.196045908540617, 1.2438776171580754, 1.2957561698588325, 1.3522362890095796, 1.4152418405845277, 1.485491768367164, 1.5691229606808708, 1.669895403387347, 1.7988725063162865, 1.9801926349365957, 2.2993334597206623, 89.14849097472924]),\n",
       "  'VOLUME3': ListWrapper([0.002165823390377601, 0.3575324305788709, 0.4504794692518906, 0.5183308961487955, 0.5745169697128886, 0.6239219980679757, 0.6695853137176307, 0.7120742239855389, 0.7525812384790388, 0.7927366096506859, 0.8321014974520747, 0.8700861715221859, 0.909323969933286, 0.9474911266979729, 0.9867375723426615, 1.0265356055109682, 1.0689904747903636, 1.1121396971059667, 1.1577053387145517, 1.206698261065795, 1.2578758112115844, 1.3138541786597446, 1.3763845617251385, 1.4451932055260637, 1.5241712281828101, 1.6157415886276405, 1.7282835118628437, 1.8726077699754893, 2.0816218510737103, 2.4520895209273696, 109.63007220216606]),\n",
       "  'VOLUME4': ListWrapper([0.005046192297925049, 0.34514389822116154, 0.43656197756687287, 0.503405257405563, 0.5593095987274628, 0.6095039968073327, 0.655410907665006, 0.6987291211677594, 0.7413034852644564, 0.7825119800681852, 0.8227770430525836, 0.8618258225095, 0.9020615222725933, 0.9428384296918133, 0.9840564484583917, 1.0259909872522837, 1.0696337007929364, 1.1152110478168995, 1.1630188514567674, 1.2143909378438607, 1.2697647652841841, 1.3287754767201225, 1.3952190970487666, 1.467458634495604, 1.552438852225875, 1.6522635438282214, 1.774474144607876, 1.9332395474310815, 2.164418284758605, 2.572771800909571, 122.26301444043321]),\n",
       "  'ROC5': ListWrapper([0.5892556502219275, 0.8892727267762884, 0.9163250972959776, 0.9320933745664285, 0.9433687747354673, 0.9522011122342634, 0.959466776034018, 0.9656916147074343, 0.9712090402560529, 0.9761132650515805, 0.9805186720472239, 0.9845313159740273, 0.9883194561734859, 0.991930944149939, 0.9953479277303431, 0.9986794533193158, 1.0020224259246033, 1.0053270567201602, 1.0087380893803293, 1.0124159676321018, 1.0161609377389205, 1.0203500105285048, 1.0249863632568308, 1.0301404343733662, 1.036054229484109, 1.0430840385012292, 1.051823427874119, 1.0635297264325358, 1.0807442591433623, 1.1133586327939893, 1.6946689538068522]),\n",
       "  'ROC10': ListWrapper([0.47033035641575505, 0.8476711769871318, 0.8830685287082132, 0.904293710926333, 0.9195779429947828, 0.9315664839020802, 0.9416412908641048, 0.9503249517473835, 0.9579720329055764, 0.9647218547317629, 0.9709403249905071, 0.9767137618544062, 0.9821129301954307, 0.9872989980723492, 0.9922108415445132, 0.9970104072263622, 1.001762483283903, 1.006384223844996, 1.0112328996122484, 1.0163843360234983, 1.0217010780920555, 1.0276181077109492, 1.034109136394773, 1.0415054363412515, 1.0500296078815905, 1.06016950112313, 1.0725838521939057, 1.0891360457972001, 1.113764811371792, 1.15899332810732, 2.3923769947767872]),\n",
       "  'ROC20': ListWrapper([0.36803156963841754, 0.7880231197353121, 0.8341706270612955, 0.8625990962053913, 0.8832696462143511, 0.9001253270858327, 0.9142173645133072, 0.926388935845072, 0.937347525767797, 0.9471999841184743, 0.9561817645323105, 0.9645529468238011, 0.9724663026203627, 0.9798828643921788, 0.9870703094818192, 0.9941058282605623, 1.0012061047730454, 1.0081890558103457, 1.0154289983435416, 1.0230408710113212, 1.0310127665400282, 1.0396099892826358, 1.0490090422212353, 1.0596357743895437, 1.071895763667991, 1.086063344814931, 1.1039182962077723, 1.1272729358629954, 1.1615599313738245, 1.227668037675341, 2.730437903804738]),\n",
       "  'ROC30': ListWrapper([0.3633026662695393, 0.7404220134929691, 0.7951162475665277, 0.8295947131295994, 0.8550026740087541, 0.875072817396954, 0.8925276317741845, 0.9078698178432384, 0.9215810780780267, 0.9337670793176012, 0.9449102849771315, 0.955534823691851, 0.9653765415346132, 0.9749301532351524, 0.983919606637383, 0.9926729635248784, 1.0012752750897194, 1.009810094604873, 1.0187076508496806, 1.028094295926022, 1.0378644591248414, 1.0486284432143556, 1.0603915335375562, 1.0732624949554228, 1.0877567080106332, 1.1053341551214613, 1.1271471307428687, 1.1565577756309116, 1.200381225218147, 1.2835770993258777, 2.9486719310839917]),\n",
       "  'ROC60': ListWrapper([0.05701357466063348, 0.6503893526601836, 0.7193728111596012, 0.7633803078085405, 0.7968769719075711, 0.8235190097259063, 0.846122759639567, 0.8658011595928297, 0.8844674518442293, 0.9018357757654543, 0.917834017066454, 0.9330467213466352, 0.9470634898940034, 0.9603129327718012, 0.973140350990817, 0.9856094402072241, 0.9979382987686356, 1.0102014633169436, 1.0230853408496636, 1.036342770088286, 1.0503312888928684, 1.0657199385479736, 1.0825664872916079, 1.1012270828452915, 1.121887597994078, 1.1465851585411846, 1.1763239437257529, 1.2151707757358818, 1.2724762794977251, 1.3790898904268725, 3.635155471299861]),\n",
       "  'MAX5': ListWrapper([1.0, 1.000434898476005, 1.001584067113689, 1.0024154059302475, 1.0032258064516129, 1.0040404803262593, 1.0048669324960713, 1.0056570955924875, 1.0064647193952552, 1.0072719107334094, 1.0081014340432737, 1.0089475866231858, 1.009826989206075, 1.0107650890934476, 1.0117582151622497, 1.0127792355152117, 1.013850931659095, 1.0150222976891017, 1.0162908791765037, 1.0176383123804102, 1.0191048198516635, 1.0207826630666035, 1.0226434151721613, 1.0247933325365675, 1.0273507654188816, 1.0304857129063008, 1.0345056156745926, 1.0400275616113217, 1.0491625939832638, 1.0706257723541555, 2.1292905203986034]),\n",
       "  'MAX10': ListWrapper([1.0, 1.0007505378866537, 1.001879548711859, 1.0029311505418943, 1.003921260288789, 1.0048879278942073, 1.0058581908090984, 1.0068027667974135, 1.007766504619984, 1.0087576730192587, 1.0097717185630148, 1.0108339526270218, 1.0119709160835966, 1.0131334769903038, 1.0143801839786173, 1.0157359013667022, 1.0171941252218057, 1.01875556219089, 1.020519254560024, 1.022515652483109, 1.0247934330206157, 1.027537806550085, 1.0308810673563271, 1.0352282911979283, 1.04129210829885, 1.051452742491141, 1.075779333561966, 1.1929472962675403, 1.4434388499161925, 1.777765140746674, 4.258581040797207]),\n",
       "  'MAX20': ListWrapper([1.0, 1.0009824221652253, 1.002278526254934, 1.0034867011232067, 1.0046872517093628, 1.0058427974479496, 1.0069810041270835, 1.0081402812513998, 1.0093164408625597, 1.0105442437839145, 1.0118728495431404, 1.0132304928148603, 1.014697126211682, 1.0162908791765037, 1.0180151714099088, 1.019924494401249, 1.0221239015420132, 1.0246686963671219, 1.0277513340753552, 1.031653260130114, 1.0368825116203573, 1.0447916266037278, 1.060914552896749, 1.1263290683005949, 1.3939224979091163, 1.6924769400016966, 2.0235173187203914, 2.3843642935816285, 2.886877699832385, 3.555530281493348, 8.517162081594414]),\n",
       "  'MAX30': ListWrapper([1.0, 1.0011130720574217, 1.0025764059385174, 1.0039547267677653, 1.0052782366296475, 1.0065725601974125, 1.0078515559945278, 1.00916378523582, 1.0105061888115852, 1.0119761471157975, 1.01349021703004, 1.0151282454178046, 1.0169490579032774, 1.018883259782279, 1.0211273290044929, 1.0237241169305724, 1.0268456096421728, 1.0307878928937722, 1.0361927460504767, 1.044496528216726, 1.0623855882198063, 1.1605568506552022, 1.3902533968524662, 1.6774207979911044, 2.0908837468636743, 2.538715410002545, 3.0352759780805876, 3.5765464403724425, 4.330316549748577, 5.333295422240022, 12.77574312239162]),\n",
       "  'MAX60': ListWrapper([1.0, 1.0015127107441557, 1.003367094011836, 1.0050927097203788, 1.0067423561483142, 1.0083879126641933, 1.0100470770207413, 1.0118917443745505, 1.0138051280991351, 1.0159619376415445, 1.018304776161354, 1.0210304979142397, 1.0242803283595925, 1.0283134802215788, 1.0339157399889178, 1.0426327070551367, 1.0616824502586633, 1.143196835631159, 1.3345783467298427, 1.5502177542210172, 1.8649003987778674, 2.318598638982599, 2.7805067937049324, 3.354841595982209, 4.181767493727349, 5.07743082000509, 6.070551956161175, 7.153092880744885, 8.660633099497154, 10.666590844480044, 25.55148624478324]),\n",
       "  'MIN5': ListWrapper([0.0002927299778183859, 0.003508188167313537, 0.006170159724223016, 0.009189845632788116, 0.011784006704348506, 0.015038028165625227, 0.018487578532266753, 0.021780991606657276, 0.02554281026088006, 0.029947303526914885, 0.03544166337649888, 0.041206085644376646, 0.046603577849878695, 0.05408629533373592, 0.06269537446125448, 0.07192609449937999, 0.08186674517147018, 0.09513172890501477, 0.1112148622274869, 0.12918481285175143, 0.1554083665648223, 0.19321655324854992, 0.23170889947541104, 0.2795701329985174, 0.34848062447727907, 0.42311923500042414, 0.5058793296800979, 0.5960910733954071, 0.7217194249580963, 0.8887498522146604, 1.0]),\n",
       "  'MIN10': ListWrapper([0.0005854599556367718, 0.007016376334627074, 0.012340319448446033, 0.01837969126557623, 0.023568013408697013, 0.030076056331250454, 0.036975157064533505, 0.04356198321331455, 0.05108562052176012, 0.05989460705382977, 0.07088332675299776, 0.08241217128875329, 0.09320715569975739, 0.10817259066747184, 0.12539074892250895, 0.14385218899875998, 0.16373349034294035, 0.19026345781002954, 0.2224297244549738, 0.25836962570350286, 0.3108167331296446, 0.38643310649709983, 0.4634177989508221, 0.5591402659970348, 0.6969612489545581, 0.8461382251404589, 0.9667611650134977, 0.9858079579615462, 0.9922908771153528, 0.9961919764547965, 1.0]),\n",
       "  'MIN20': ListWrapper([0.0011709199112735437, 0.014032752669254148, 0.024680638896892065, 0.03675938253115246, 0.047136026817394025, 0.06015211266250091, 0.07395031412906701, 0.0871239664266291, 0.10217124104352024, 0.11978921410765954, 0.14176665350599552, 0.16482434257750658, 0.18641431139951478, 0.21634518133494368, 0.2507814978450179, 0.28770437799751997, 0.3274669806858807, 0.3805269156200591, 0.4448594489099476, 0.5167392514070057, 0.6216334662592892, 0.7728662129941997, 0.9174729922580358, 0.9693898279193879, 0.9812212537910927, 0.9870451167473752, 0.9907939809927875, 0.9934721757183144, 0.9956086837655005, 0.997577405457952, 1.0]),\n",
       "  'MIN30': ListWrapper([0.0017563798669103154, 0.02104912900388122, 0.0370209583453381, 0.055139073796728694, 0.07070404022609103, 0.09022816899375137, 0.11092547119360051, 0.13068594963994365, 0.15325686156528034, 0.1796838211614893, 0.21264998025899326, 0.24723651386625986, 0.27962146709927216, 0.32451777200241555, 0.37617224676752686, 0.43155656699628, 0.4912004710288211, 0.5707903734300886, 0.6672891733649213, 0.7751088771105086, 0.9169348701161741, 0.9655230749760046, 0.9776386108707408, 0.9836645510857194, 0.9877137885668209, 0.9906093174524544, 0.9928526733725521, 0.9946925949247676, 0.9964257941018125, 0.9980026028749325, 1.0]),\n",
       "  'MIN60': ListWrapper([0.003512759733820631, 0.04209825800776244, 0.0740419166906762, 0.11027814759345739, 0.14140808045218206, 0.18045633798750274, 0.22185094238720102, 0.2613718992798873, 0.3065137231305607, 0.3593676423229786, 0.4252999605179865, 0.4944730277325197, 0.5592429341985443, 0.6490355440048311, 0.7523444935350537, 0.8622659486865533, 0.937282742445034, 0.9619154446815197, 0.9720821844556737, 0.9781481698847742, 0.9823013906540005, 0.9854408448777436, 0.9879721922846703, 0.990067668916439, 0.9918117173025796, 0.9933297537666531, 0.9946722399246092, 0.9959871454325132, 0.997217815971835, 0.9984444902550371, 1.0]),\n",
       "  'MA5': ListWrapper([0.7878668578666267, 0.9448451950607821, 0.9593487109614183, 0.9675042010506648, 0.9732079761316651, 0.9775594194392833, 0.9811004145926944, 0.9840830838818861, 0.9867112441564118, 0.9889952272236305, 0.9911100023812496, 0.9930265615649099, 0.9947993249271286, 0.9964968547729834, 0.9981720455616847, 0.9997983648650777, 1.001413989460735, 1.0029794041608753, 1.0045380844100618, 1.006157626761743, 1.00788985682032, 1.0097878416301562, 1.011897636843323, 1.0142870894900302, 1.0170433777006198, 1.0203876089933608, 1.024495585699464, 1.030120255504356, 1.038501840539205, 1.0550126222511025, 1.248788083161111]),\n",
       "  'MA10': ListWrapper([0.6860058160297944, 0.917269931974353, 0.9378384760755094, 0.9496994752261521, 0.9579277440941997, 0.9645359658995774, 0.9699495128817033, 0.9745371076907842, 0.9786262314547903, 0.9822563377918737, 0.985531829678032, 0.9885510273046112, 0.9913316449764289, 0.9940354973838127, 0.9966085454320619, 0.999151966068974, 1.001697086129123, 1.0041240853707694, 1.0065894436419904, 1.0091607125572875, 1.0118110236220472, 1.0147214607996116, 1.0179794150673738, 1.021710936091106, 1.0259758180100313, 1.0310679332102228, 1.0375622017198, 1.0462363183035537, 1.0593565025176466, 1.0841651616700971, 1.5974954947530953]),\n",
       "  'MA20': ListWrapper([0.5409095045835125, 0.8798661389153127, 0.9084837881176638, 0.9252242064096448, 0.93702016028371, 0.9462503316810601, 0.9542562515366313, 0.9611707353478708, 0.9671437270466654, 0.9725088836660104, 0.9773426270971817, 0.9818071017463296, 0.9859694438401752, 0.9898741421198609, 0.9937036321262219, 0.9976057696292505, 1.0016981641017149, 1.0056461656091147, 1.0095237187621997, 1.013487445519648, 1.0174841849428014, 1.0218702512662177, 1.0268186575748206, 1.0324281381890148, 1.0387516377049335, 1.0463362893409844, 1.0558823347301087, 1.0686327570589305, 1.0879480369032575, 1.124398552682241, 1.9673924929029545]),\n",
       "  'MA30': ListWrapper([0.4836057149580994, 0.8510931555645425, 0.885045096355638, 0.9056617537413566, 0.9202176654155682, 0.9319574499682418, 0.941889601253631, 0.9505375149594208, 0.9582345031555927, 0.9651143074847089, 0.971303917895966, 0.9770000916382254, 0.9823368955882038, 0.9872974715621506, 0.9922717363377753, 0.9971218131678419, 1.0022011825023744, 1.0069688754276198, 1.0117991497805656, 1.0166673517125218, 1.0218013900930158, 1.0272658550214324, 1.0334448230815543, 1.0403701513419066, 1.0484424461492052, 1.057886178177251, 1.069627339615997, 1.0855465006480487, 1.1098037500201534, 1.1543583020170713, 2.330270399617133]),\n",
       "  'MA60': ListWrapper([0.4169175892922857, 0.7902956175379294, 0.8359452225650787, 0.8640997755476385, 0.884855539484424, 0.9012440956914365, 0.9153999510811921, 0.9280260987142626, 0.9390212376841608, 0.9488690478206696, 0.957872622733304, 0.9661227055936279, 0.9737280139248792, 0.9808396873555297, 0.9878438489285588, 0.9947864233015752, 1.0020850590429762, 1.0092277549354671, 1.0163420875311342, 1.0233939197084987, 1.0307345112228588, 1.0387693283752544, 1.04737741533553, 1.057015508065634, 1.068272300191755, 1.0822183098591551, 1.0992997445453068, 1.1224649436848344, 1.1560464494603049, 1.2186806620093436, 2.2307953948060137]),\n",
       "  'STD5': ListWrapper([0.00019859587784018935, 0.004023021851664717, 0.005261479779967274, 0.00626603991369756, 0.0071827479868324185, 0.008037460489763565, 0.008865813147119667, 0.009686824619262235, 0.010496385215370233, 0.011301776920498007, 0.012121972119160138, 0.012957718558436538, 0.013823482100083167, 0.01471227665178448, 0.01565386351621868, 0.01662868819693741, 0.01765458759627519, 0.018788305829110848, 0.019989037252767617, 0.021272881360948757, 0.02271717679595922, 0.02430877017711507, 0.026092510022835892, 0.028162625155342833, 0.03059241013044716, 0.03351981000584495, 0.03710507663619097, 0.041703318928822876, 0.048500905206206334, 0.06016876127193514, 0.20768309114040828]),\n",
       "  'STD10': ListWrapper([0.0007952661779951386, 0.006692182181433151, 0.008503664545378603, 0.009954015428177006, 0.011198765785165501, 0.012434101026284805, 0.01355244709395882, 0.014652509591186256, 0.015728741159381204, 0.016842622509690527, 0.017939811561247514, 0.019057223322325602, 0.02020797283738787, 0.0214003389852735, 0.022629782225328042, 0.02393128685267654, 0.025318308427340595, 0.026801347459201798, 0.0283596188532966, 0.030069242419998452, 0.031902405756010575, 0.03390046190679294, 0.03616814279112342, 0.038729801410015724, 0.04161621475999703, 0.04515733890482963, 0.049471092139426874, 0.055187454587512536, 0.06347338256603786, 0.07823895380754284, 0.42094709976809486]),\n",
       "  'STD20': ListWrapper([0.0027579387944226407, 0.010281110965273767, 0.01277377406432923, 0.0148074055197114, 0.01658022904669195, 0.018240029082560366, 0.019816893060964662, 0.021378929968166635, 0.02290337562744696, 0.024431958952118703, 0.025946052839549982, 0.02746935093079092, 0.029082457403173743, 0.030699619885686417, 0.03236686356650331, 0.03410639482007965, 0.03591912269303916, 0.03782785857551563, 0.03987482101634045, 0.042086758806509944, 0.044473163806856245, 0.04709749495225385, 0.0500361182003452, 0.05336674957148747, 0.057279665394957324, 0.061936884180038655, 0.0676273741712436, 0.07519133806358566, 0.08634548681527086, 0.10669639520633235, 0.5629270992686125]),\n",
       "  'STD30': ListWrapper([0.0032846295613335823, 0.013020918500583019, 0.01608412384690134, 0.018598391353455163, 0.020742373513723395, 0.02272926492438765, 0.024665467024865894, 0.026512665255089995, 0.028434684064430383, 0.030312558538614736, 0.032131384071595145, 0.034008214895886874, 0.03592301475392614, 0.037826677333711034, 0.03981187292307853, 0.04184395122837609, 0.0440061428172746, 0.046311400444987064, 0.048773737066961385, 0.05145700697519216, 0.054287683909151695, 0.057407390682237165, 0.06091168394504893, 0.06497014216463641, 0.06961697028044848, 0.07524913909837283, 0.08223689109605761, 0.0914593143064925, 0.10520494409709569, 0.130218722315259, 0.7429503329671596]),\n",
       "  'STD60': ListWrapper([0.005417660384610845, 0.01933490813462035, 0.023709812653403283, 0.027330985346196986, 0.030398556391128085, 0.03319606789840269, 0.035880874511859825, 0.03843095864414802, 0.04104745391812457, 0.04368388928338218, 0.046291033010599766, 0.048870350423213096, 0.051487367867956386, 0.0541362608929291, 0.05685251562876414, 0.05963726782455541, 0.06252168241138338, 0.06562644914981444, 0.0691048936573738, 0.07292893299534485, 0.07702807551193504, 0.08160588232987259, 0.0866775886938614, 0.09259335197400329, 0.09950150091306378, 0.10750364077148201, 0.11735615625705743, 0.1295860880196329, 0.14728498617673327, 0.17906450531205098, 0.6867254002609436]),\n",
       "  'BETA5': ListWrapper([-0.1310984561803746, -0.02575185244061375, -0.01825420669056881, -0.014326102326694283, -0.011707833185585693, -0.009727852060563275, -0.008125129018513961, -0.006810419282947965, -0.005650108686121223, -0.004629983396370545, -0.0036956156559719384, -0.00283214662841215, -0.0020289954380197563, -0.0012641614140402116, -0.0005158321793790271, 0.0002264408568183061, 0.000952313837161112, 0.0017200659736909705, 0.0025134305168700087, 0.003360862225213768, 0.004291773070389486, 0.005283455209960731, 0.006390288404481554, 0.0076274479700608935, 0.00903806145818721, 0.01071078452238377, 0.012719328519715259, 0.015317932176334622, 0.019010051409786014, 0.025382115748586658, 0.09058535644651855]),\n",
       "  'BETA10': ListWrapper([-0.13809570031542143, -0.01767106149777868, -0.012509289236192513, -0.009787168628968803, -0.00793531059609857, -0.0065754374733247335, -0.0054820215524918935, -0.004555535908866454, -0.003759720189433653, -0.003060430913783322, -0.00242212610029715, -0.001832984282922686, -0.001274659325852749, -0.0007382459190087977, -0.00022201199617682694, 0.0002800506382113214, 0.0008009914992215682, 0.001334007035236693, 0.0018945861905295053, 0.002483659946010692, 0.0031267451690359053, 0.0038192845238376022, 0.00457850645991744, 0.005420928269382776, 0.006397888460454887, 0.007513813498407105, 0.008850375880120024, 0.010526972934235148, 0.01287879150756876, 0.016937748412008645, 0.06293196537450889]),\n",
       "  'BETA20': ListWrapper([-0.09383275129676309, -0.012491047710264996, -0.0088886578448327, -0.006960883919082563, -0.0056712349820426155, -0.004685201479995211, -0.003910840273759996, -0.0032513726511178643, -0.002678370667555645, -0.0021644393920775113, -0.001697431000435753, -0.0012671701364367703, -0.0008480396521562313, -0.00044868739492553224, -6.20708654983636e-05, 0.0003207716541636934, 0.0007019313504116016, 0.0010979865114114288, 0.0015066881875296619, 0.0019288528197610316, 0.002374495084143018, 0.002859779003064499, 0.00339037442228134, 0.003980450801889018, 0.004635356186574513, 0.0053960202218093336, 0.0062896006013351, 0.007421956262638068, 0.008982094121485854, 0.011611007447472798, 0.042237263140554655]),\n",
       "  'BETA30': ListWrapper([-0.08239177773501219, -0.010330884187284168, -0.007212995834244197, -0.005663014522249211, -0.004615959385806926, -0.0038310566484800147, -0.003195175318632786, -0.0026677262424199995, -0.002200177293566393, -0.0017795255171778556, -0.0013960728808012086, -0.0010421428547713989, -0.00070847078738086, -0.0003750769007941609, -6.12302070153624e-05, 0.000257695574957382, 0.0005823865214641133, 0.0009102508249057912, 0.0012525052584037761, 0.0016006171119018822, 0.0019788419996656773, 0.002384695649139289, 0.0028321297137214236, 0.0033283403149015696, 0.003862999559885779, 0.004481574350069943, 0.005221966755655987, 0.006157420714643377, 0.007433989490969219, 0.00946055722187655, 0.030990588614266363]),\n",
       "  'BETA60': ListWrapper([-0.030501977730228613, -0.007126512097065661, -0.005146538717722028, -0.004058065262383755, -0.003308195689071766, -0.002737378435659612, -0.002273721790524959, -0.0018812651393823095, -0.0015498485805984271, -0.0012502729236124324, -0.0009735023167366828, -0.0007117348328409374, -0.00047407940968856966, -0.00024242771173255473, -1.8171614515414482e-05, 0.00020520206945261389, 0.0004337678904608926, 0.0006684565686610954, 0.0009107869913813451, 0.0011693742880294798, 0.0014414784022600275, 0.00174461807324565, 0.0020590997058139928, 0.0024012952174026266, 0.0027879974337543263, 0.003230193560408929, 0.003753201190132143, 0.004387044333517294, 0.0052350189209847565, 0.00654391428503975, 0.017990351769408032]),\n",
       "  'RSQR5': ListWrapper([-2.0650148258027912e-13, 0.004183019130030962, 0.01672737242107063, 0.036451093164394724, 0.0637951202232372, 0.09703082246670477, 0.13456048182078462, 0.1752588401783495, 0.22014434005720962, 0.2668348795625741, 0.3132354880597941, 0.35790133214552433, 0.404112111099301, 0.44871629860665385, 0.4915285044843928, 0.5322695797492564, 0.5710572568165935, 0.6078809759340397, 0.6422610171518922, 0.6750992594738404, 0.7058696214751419, 0.7356598924987038, 0.7639074043790232, 0.7903225806451634, 0.8166755483160576, 0.8423660776727264, 0.8681748352465966, 0.8929459833648234, 0.9195087750169436, 0.9483327412140609, 1.0]),\n",
       "  'RSQR10': ListWrapper([-1.1102230246251565e-14, 0.0029710268979706187, 0.011760598121198384, 0.02640468826600888, 0.046199311624195216, 0.07116461478282386, 0.09970507484434518, 0.13281211961923967, 0.16867895752376724, 0.20622746913304305, 0.24550495670179642, 0.28565056668496486, 0.327255722427017, 0.36839304593750505, 0.4084789578747235, 0.4473245664936407, 0.4865068812572352, 0.5237094253561718, 0.5595753187203127, 0.5940035296648037, 0.6275988806922894, 0.6593877776110834, 0.6902747900221428, 0.7200734616146286, 0.7491798307473887, 0.7776908037391582, 0.8057344330176895, 0.8352931438530251, 0.8659861744785273, 0.9026348716903473, 0.9907192859814025]),\n",
       "  'RSQR20': ListWrapper([-1.7763568394002505e-15, 0.0030827160181597034, 0.012034566704529247, 0.026703622174156273, 0.046618413877673466, 0.07142088965466606, 0.1001849151138379, 0.1330350465331341, 0.168628680601864, 0.2062694897330426, 0.24453929010332592, 0.2845546601826987, 0.3249371039198303, 0.3648810265106898, 0.40392097937927607, 0.44205885343036455, 0.4793737280461359, 0.514442399456618, 0.5490613008413635, 0.5827395425514132, 0.6142114684683503, 0.6449884429269854, 0.6749205847851564, 0.7036432286634237, 0.7319155238766542, 0.7599208070870669, 0.7887733007028852, 0.8178787199330623, 0.8491476488114358, 0.8860510589016043, 0.9909808595481437]),\n",
       "  'RSQR30': ListWrapper([3.877120846595972e-12, 0.002999511051662584, 0.011975347495023958, 0.026599425320223902, 0.04644330140035613, 0.07104976937658757, 0.0989095712883602, 0.13073230430939387, 0.1651593942593857, 0.20205961981457346, 0.24011337430187063, 0.2803546100567039, 0.32013245379015526, 0.35961038573025844, 0.3987769852913352, 0.4371533248065175, 0.47510804456001365, 0.5107375906838989, 0.5462604259908297, 0.580245481744783, 0.6131512450202479, 0.6450938697359564, 0.6758650288088361, 0.7054328973478897, 0.7341438969121132, 0.76218710873193, 0.7903305566179811, 0.818682194523874, 0.8491871080839162, 0.8843944128645943, 0.9814531240951962]),\n",
       "  'RSQR60': ListWrapper([5.362765786998125e-11, 0.0027676561329996073, 0.010810949039976148, 0.024253994230937992, 0.043170877318079934, 0.06608128490566177, 0.0937246159573677, 0.12455382899291406, 0.15875961907658778, 0.19513600823739335, 0.2314835478252512, 0.27015582073501165, 0.3091774826387, 0.34801257636451544, 0.3868174122410188, 0.425380934465009, 0.461683373598, 0.49747201037724087, 0.5322592558115345, 0.5665176716861315, 0.5995572610375262, 0.6318098618485147, 0.6627417192809003, 0.6933111151319444, 0.7226715323254097, 0.7529870316270345, 0.7828265477000215, 0.8137014189613158, 0.8455543184837454, 0.8834033846115797, 0.9793674275870634]),\n",
       "  'RESI5': ListWrapper([-0.12716688227684345, -0.024395807703354876, -0.017766515551849448, -0.01419203743004827, -0.011742336273877097, -0.009861504399986487, -0.00833668263840816, -0.007032743415432072, -0.005885163454659316, -0.004855397607760294, -0.0039183541723294205, -0.0030599810984046263, -0.0022618283235342103, -0.0015082928848573652, -0.0007558201648775364, 1.3893743904329586e-16, 0.0006947875669656295, 0.001433829189686802, 0.0021873129902476632, 0.0029904736459037654, 0.0038547675369689045, 0.004775494540649937, 0.005799765811602132, 0.006965457625712787, 0.008322117141620117, 0.009944886033674098, 0.01192134880502898, 0.014516790971112307, 0.018279836176854553, 0.025146467466238127, 0.10751040070067917]),\n",
       "  'RESI10': ListWrapper([-0.24166817879392666, -0.04659225308413384, -0.03401640137096327, -0.027153292179175535, -0.022422842325936818, -0.018773426641607232, -0.015830937248876412, -0.013349235815547863, -0.011176027602148845, -0.009216340212009493, -0.00739718434810489, -0.005753105202412118, -0.004202811646227477, -0.0027592972370585112, -0.0013355701603392234, 4.343295859602075e-05, 0.0014227286931957934, 0.0028312721155351562, 0.0043084409434649504, 0.005905949787808282, 0.007591406797531073, 0.009393207415550562, 0.011375050019406268, 0.013596157095285527, 0.01614761893929071, 0.019180947623718744, 0.022892349779786453, 0.02770637221674644, 0.034475443930177055, 0.04635217242276854, 0.22882839093967344]),\n",
       "  'RESI20': ListWrapper([-0.4274221014909806, -0.07463989195546902, -0.05438196244543415, -0.04345922234198658, -0.035614921402639436, -0.029735108894461612, -0.024925702346330094, -0.020880017384638183, -0.01733128408154043, -0.014184128957846643, -0.011295892812464667, -0.008640068144437452, -0.006174499096219188, -0.003805811192500516, -0.0014983515660636478, 0.0007670785867720138, 0.0030371626776547877, 0.005329402936607637, 0.0077326050842276405, 0.010214431440782679, 0.012851071894999207, 0.015720156838991767, 0.01885522124780172, 0.022415274825200185, 0.026458679265102925, 0.03106034048910418, 0.0366849803763574, 0.043819443293935084, 0.05380151721916739, 0.07139763263085906, 0.35002652486284946]),\n",
       "  'RESI30': ListWrapper([-0.6328568706673814, -0.09584637314988717, -0.06984375478627267, -0.055524499979329886, -0.04570375164891672, -0.038081569014245864, -0.03197236679960712, -0.02671116184050427, -0.02203530109482298, -0.017999682907102375, -0.014271381824087371, -0.010823151681406953, -0.007644520038823024, -0.004532503296319772, -0.0015749136216568623, 0.0013478347840501005, 0.004305751942241132, 0.007289304602385834, 0.010392406809203678, 0.01369777007573692, 0.017062143555805563, 0.02070294119106825, 0.024718662421898175, 0.029057372374419292, 0.03405303345582954, 0.03994557083415108, 0.04690380136759815, 0.05561960257129726, 0.06811982043842785, 0.08964097853357732, 0.37984890108821406]),\n",
       "  'RESI60': ListWrapper([-1.3380057979201219, -0.142045767414425, -0.1037243510790392, -0.08232189850953432, -0.06780967941227709, -0.05653225586126483, -0.04731239090195684, -0.0393793928183492, -0.0326148028479022, -0.026629323692651852, -0.02125614586744818, -0.016196072800637396, -0.011384800799708742, -0.006768268168767485, -0.0022661403284426227, 0.0022284693682291055, 0.006604359766979749, 0.011146852739306963, 0.01573842239285891, 0.0206183790280953, 0.025779649932084793, 0.031276672438835994, 0.03722124041616686, 0.04381142818331068, 0.05130771285511267, 0.060235246122375775, 0.07098385129649368, 0.08458992025761113, 0.10263994516718523, 0.13214406775517565, 0.515014695745694]),\n",
       "  'QTLU5': ListWrapper([0.8666666666666667, 0.9690053771604328, 0.9802400412189979, 0.9864286165597822, 0.9905401681293005, 0.9937069094412971, 0.9962081677209803, 0.9982597816414768, 1.0, 1.0004371544876751, 1.0009696921422597, 1.001616654008327, 1.0024268183589475, 1.0034498612043643, 1.0047281873144616, 1.006258243377403, 1.0080550910422998, 1.0099745626052177, 1.0120658295521194, 1.0143361125742179, 1.0168188036270902, 1.019554978785842, 1.0226840614697188, 1.0262079395551056, 1.0303588065787315, 1.035305834745932, 1.0415962878201164, 1.0502485633891647, 1.0632942201284894, 1.0890027160596054, 1.402908079951597]),\n",
       "  'QTLU10': ListWrapper([0.7424223879824117, 0.9530565170444055, 0.9692769759414614, 0.9784441048806529, 0.9847530966157094, 0.9895232663286346, 0.9933508098219036, 0.9963870593611496, 0.9989478509191491, 1.0003332341459759, 1.0011799098008838, 1.002556034976555, 1.0045058845788064, 1.0068632093538579, 1.0093388478575964, 1.0119672368186032, 1.0147056084205937, 1.0176051883887964, 1.0207305487764355, 1.0241295075692538, 1.0278003285064286, 1.0319231197985752, 1.0364578780038627, 1.0418052362305585, 1.0481080539220782, 1.0557881486316378, 1.065422194323127, 1.078486172969372, 1.0979716431630608, 1.1346139553643013, 1.9150233448774634]),\n",
       "  'QTLU20': ListWrapper([0.6846691495331871, 0.9298732957774009, 0.9529778953705877, 0.966075828037633, 0.9754429264744756, 0.9824765862130533, 0.9882910606731262, 0.992994246405985, 0.9969491001636025, 1.0, 1.0013548332185607, 1.0040070947332274, 1.0074395567019792, 1.01102074241881, 1.014830043472123, 1.0186993440722538, 1.0227881147581432, 1.0271957690619513, 1.0318105741687995, 1.0368761293324502, 1.0424201655613, 1.048545694386307, 1.0554822935681867, 1.0635162291904492, 1.072692089292744, 1.0838207311772567, 1.0978825139585313, 1.116912193744046, 1.1456435620025354, 1.2000028815500512, 2.4577489223004942]),\n",
       "  'QTLU30': ListWrapper([0.5754664445860321, 0.9118670222860779, 0.9399203244245669, 0.956198401825583, 0.9677468213193978, 0.9766871946048539, 0.9839329908436623, 0.9900877882272167, 0.9952556986787057, 0.9998436503189472, 1.0015629090358382, 1.0054278056172192, 1.0097641546173846, 1.0142669956968997, 1.0189954874374005, 1.0239201484973752, 1.029026229882545, 1.0343910421619333, 1.040159871375884, 1.046508712793062, 1.0535100897751561, 1.061030421300728, 1.069540335862664, 1.079417829738466, 1.090961636346597, 1.105029891866581, 1.122829059060826, 1.1458845044951635, 1.1815088216609488, 1.2517553247181274, 3.1514716439339554]),\n",
       "  'QTLU60': ListWrapper([0.40965681569977175, 0.8727218043883549, 0.9122679765857712, 0.9346125941624827, 0.9512429385278466, 0.9646140950415887, 0.9754010427290163, 0.9843838981184073, 0.9922101264744165, 0.9987927613364276, 1.003024282541563, 1.0092044354392566, 1.0154316429009957, 1.0217710183382769, 1.0284575882703635, 1.0354081626716878, 1.042860417845339, 1.0507185144079327, 1.0592541461227003, 1.0683150597024422, 1.0784223436155072, 1.0892442878078592, 1.1014584554082882, 1.1158048982539233, 1.1323082328600564, 1.1523107257650653, 1.1779324559000635, 1.2124045878994547, 1.2646419396035955, 1.3603676222869492, 2.8211773151471644]),\n",
       "  'QTLD5': ListWrapper([0.6877608285291567, 0.911938224198268, 0.9338095016863627, 0.9461173075374181, 0.9548249700576777, 0.9614053471649645, 0.9666686367911758, 0.9711278635150596, 0.9750271771184256, 0.9784555375707209, 0.9815562316716364, 0.9843130079265268, 0.9868410001661785, 0.9891714381309743, 0.9912752780532205, 0.9931925209685959, 0.9948718221295026, 0.9962807172784244, 0.9973804073570824, 0.998257700663452, 0.9989325807614754, 0.9994646195815545, 0.9999355718034351, 1.0011405940897504, 1.0030534845521528, 1.00531715411679, 1.008151891676208, 1.0119617550659727, 1.0175653033108278, 1.0286054765222408, 1.1717813215239015]),\n",
       "  'QTLD10': ListWrapper([0.52122090835662, 0.8703342371033146, 0.900154694850179, 0.9168315459635336, 0.9288558306997973, 0.9383210719148264, 0.9460012849043146, 0.9526622397560215, 0.9583892756783763, 0.9634241736411618, 0.9679840014516641, 0.9721579531879405, 0.9760192589498622, 0.9795550170774211, 0.9828400901494057, 0.9858950302571182, 0.988779329621192, 0.991533822046731, 0.9940531323054715, 0.9962677363828908, 0.9979929771906233, 0.9992070691845624, 0.9999531089439306, 1.001721908892014, 1.0043490478174453, 1.007502679528403, 1.011648104273548, 1.0172792745794872, 1.0259643758816848, 1.0430117780126562, 1.2107800140966403]),\n",
       "  'QTLD20': ListWrapper([0.36496839527418345, 0.8149717975233965, 0.8546121432649625, 0.8781156996971685, 0.8948609464445436, 0.9078845111995367, 0.9187316400580682, 0.9279715155320994, 0.936200625472579, 0.9436287635856284, 0.9501506995685657, 0.9561832120542044, 0.9616108277415524, 0.9667407710915684, 0.9714836852884804, 0.976033395822283, 0.9803343388145381, 0.9844574067322883, 0.9883296915322182, 0.9920453199605354, 0.995544050429998, 0.9983673482922016, 0.9998636795181615, 1.0024046763656063, 1.0060726528095905, 1.010568346575422, 1.0164690120013522, 1.024556926921575, 1.0373123139871818, 1.0620691377474054, 1.4945067432323709]),\n",
       "  'QTLD30': ListWrapper([0.36496839527418345, 0.7717423523793426, 0.8189755416734595, 0.8477945812582811, 0.868297222051847, 0.8843543346513115, 0.8977825609881367, 0.9092078683333957, 0.9193961904658637, 0.9286459009354595, 0.9370306512948008, 0.944499092858995, 0.9514151585654101, 0.9577884876381146, 0.9636494578408394, 0.969202074604511, 0.9744893860091055, 0.9796248274153254, 0.9843989579484355, 0.9889616877923042, 0.9933414482136387, 0.9972436294311271, 0.9997377674787019, 1.0027433641954335, 1.007117835180952, 1.0125941088713875, 1.0197604656794292, 1.0296072645145635, 1.0450401073259934, 1.075574268232975, 1.8111493954347389]),\n",
       "  'QTLD60': ListWrapper([0.19337721102426988, 0.6841030112559161, 0.744479956257395, 0.7816734395430165, 0.8096513790993404, 0.8322490939000698, 0.8510104266407286, 0.8671169953022623, 0.8815886290693876, 0.8944597458937491, 0.9059964727798969, 0.91683199577367, 0.9268138585710415, 0.9358383743687233, 0.9445206200717692, 0.9524964989392826, 0.9601325252163436, 0.9673391499539457, 0.9743001088168207, 0.9810006370742227, 0.9874444646661454, 0.9935155494771865, 0.9990513450899825, 1.0030230335669308, 1.009262856061253, 1.016843103134135, 1.0268469823419397, 1.040799170306406, 1.0619637335650898, 1.101238081254642, 2.0690369046367367]),\n",
       "  'TSRANK5': ListWrapper([1.0, 1.5, 2.0, 2.5, 3.0, 3.5, 4.0, 4.5, 5.0]),\n",
       "  'TSRANK10': ListWrapper([1.0, 1.5, 2.0, 2.5, 3.0, 3.5, 4.0, 4.5, 5.0, 5.5, 6.0, 6.5, 7.0, 7.5, 8.0, 8.5, 9.0, 9.5, 10.0]),\n",
       "  'TSRANK20': ListWrapper([1.0, 1.5, 2.0, 2.5, 3.0, 4.0, 5.0, 5.5, 6.0, 7.0, 8.0, 9.0, 10.0, 11.0, 12.0, 13.0, 14.0, 15.0, 16.0, 16.5, 17.0, 18.0, 19.0, 20.0]),\n",
       "  'TSRANK30': ListWrapper([1.0, 2.0, 3.0, 4.0, 5.0, 6.0, 7.0, 8.0, 9.0, 11.0, 12.0, 14.0, 15.0, 16.5, 18.0, 19.5, 21.0, 22.0, 23.5, 25.0, 26.0, 27.0, 27.5, 28.0, 29.0, 29.5, 30.0]),\n",
       "  'TSRANK60': ListWrapper([1.0, 2.0, 3.5, 5.0, 7.0, 9.0, 11.0, 13.5, 16.0, 19.0, 22.0, 24.5, 27.5, 30.5, 33.5, 36.0, 39.0, 42.0, 44.0, 47.0, 49.0, 51.0, 53.0, 55.0, 56.0, 58.0, 59.0, 60.0]),\n",
       "  'RSV5': ListWrapper([0.0, 0.8830817231485757, 0.9319185283573062, 0.9472774541570752, 0.9555831269033457, 0.961172271401145, 0.9654157473567333, 0.9688041019494784, 0.9716646506825369, 0.9740437391172335, 0.9761190350914385, 0.9779828820495325, 0.9796660776541571, 0.9812104567681623, 0.9826460835548712, 0.9839846599012462, 0.9852670939020807, 0.9864556454369119, 0.9876079751791706, 0.9887184188208249, 0.9897893379191464, 0.9908146367932003, 0.9918180155069076, 0.9928183701236128, 0.9938269957238771, 0.9948496545081895, 0.9958804100878387, 0.9969413825234058, 0.9980989033644948, 0.9995398036149526, 0.9999999999999999]),\n",
       "  'RSV10': ListWrapper([0.0, 0.007160073829950154, 0.019058325750192708, 0.05213983975726624, 0.3984138579075778, 0.8962981288231161, 0.9325883049455972, 0.9472463985465523, 0.9557449956588941, 0.9616505606648262, 0.9661191445550837, 0.9696586196006839, 0.9726024084622046, 0.9751325576038727, 0.9773535234057911, 0.9793352332748892, 0.9811325546307856, 0.9828163288861895, 0.9843983325967541, 0.985880220949321, 0.9872719795347585, 0.9886260863692307, 0.9899258539727113, 0.9911545518915542, 0.9924169538438118, 0.9936546664581986, 0.9949237003553665, 0.9962049995794979, 0.9975802024507031, 0.9991065554459471, 0.9999999999999999]),\n",
       "  'RSV20': ListWrapper([0.0, 0.0015819176182988285, 0.0032813434971508786, 0.00554913536326207, 0.009152926685509963, 0.01603799862196132, 0.03224445907893998, 0.10393261151935011, 0.8153665757336808, 0.9164738430980147, 0.9397186628766728, 0.9512446329518425, 0.95869754465163, 0.9641051174446716, 0.968249057311669, 0.9717736643595121, 0.9747788785687103, 0.9773319662861863, 0.9796349316487749, 0.9817628154042882, 0.9836985201697316, 0.9855128634119512, 0.9872237840395361, 0.9888841546670587, 0.9904876626151593, 0.9920533350604746, 0.9935966303138498, 0.9951871899900685, 0.9968869228308415, 0.9987202883359569, 0.9999999999999999]),\n",
       "  'RSV30': ListWrapper([0.0, 0.0008379128601078815, 0.0016924252822180105, 0.0027580508763785966, 0.004155245307975929, 0.006456282961437357, 0.010080045509292626, 0.0169374032404728, 0.03262648125681715, 0.09131953735603851, 0.7947964966507995, 0.9095681541785127, 0.9356476830401123, 0.9486243064854322, 0.9570072442465863, 0.9630094914312672, 0.96772119131246, 0.9716071966785855, 0.9748958849522281, 0.9777414516561154, 0.9803146782351853, 0.9826342228644497, 0.9847963502841578, 0.9867949759495844, 0.9888046507360994, 0.990640619262715, 0.992492505154754, 0.9943558153270556, 0.9963043743433362, 0.9984527572198493, 0.9999999999999999]),\n",
       "  'RSV60': ListWrapper([0.0, 0.0003197396675842677, 0.0006524225432737686, 0.001021031621872028, 0.001493035182819063, 0.002110577052173651, 0.0029757897116598803, 0.0042412435735448535, 0.006110123983913771, 0.009069245528407072, 0.014085918535509329, 0.02339830595388949, 0.04351489608675276, 0.1074918201427152, 0.6071184997107918, 0.8779666506317481, 0.9229719387811864, 0.9424147654826203, 0.9540326480169908, 0.961999911113298, 0.9681050399318425, 0.9729938762600193, 0.9769517880688434, 0.980465123852512, 0.983581300219057, 0.9865214779596835, 0.9892801251664981, 0.9919477106157389, 0.9945674672059247, 0.9975654959888993, 0.9999999999999999]),\n",
       "  'IMAX5': ListWrapper([0.0, 0.2, 0.4, 0.6, 0.8]),\n",
       "  'IMAX10': ListWrapper([0.0, 0.1, 0.2, 0.3, 0.4, 0.5, 0.6, 0.7, 0.8, 0.9]),\n",
       "  'IMAX20': ListWrapper([0.0, 0.05, 0.1, 0.15, 0.2, 0.25, 0.3, 0.35, 0.4, 0.45, 0.5, 0.55, 0.6, 0.65, 0.7, 0.75, 0.8, 0.85, 0.9, 0.95]),\n",
       "  'IMAX30': ListWrapper([0.0, 0.03333333333333333, 0.06666666666666667, 0.1, 0.13333333333333333, 0.16666666666666666, 0.2, 0.26666666666666666, 0.3, 0.3333333333333333, 0.4, 0.43333333333333335, 0.5, 0.5333333333333333, 0.6, 0.6333333333333333, 0.7, 0.7333333333333333, 0.7666666666666667, 0.8333333333333334, 0.8666666666666667, 0.9, 0.9333333333333333, 0.9666666666666667]),\n",
       "  'IMAX60': ListWrapper([0.0, 0.016666666666666666, 0.03333333333333333, 0.05, 0.06666666666666667, 0.1, 0.13333333333333333, 0.18333333333333332, 0.21666666666666667, 0.26666666666666666, 0.31666666666666665, 0.35, 0.4, 0.45, 0.5, 0.55, 0.6, 0.65, 0.7, 0.7333333333333333, 0.7833333333333333, 0.8166666666666667, 0.85, 0.8833333333333333, 0.9166666666666666, 0.95, 0.9666666666666667, 0.9833333333333333]),\n",
       "  'IMIN5': ListWrapper([0.0, 0.2, 0.4, 0.6, 0.8]),\n",
       "  'IMIN10': ListWrapper([0.0, 0.1, 0.2, 0.3, 0.4, 0.5, 0.6, 0.7, 0.8, 0.9]),\n",
       "  'IMIN20': ListWrapper([0.0, 0.05, 0.1, 0.15, 0.2, 0.25, 0.3, 0.35, 0.4, 0.45, 0.5, 0.55, 0.6, 0.65, 0.7, 0.75, 0.8, 0.85, 0.9, 0.95]),\n",
       "  'IMIN30': ListWrapper([0.0, 0.03333333333333333, 0.06666666666666667, 0.13333333333333333, 0.16666666666666666, 0.2, 0.23333333333333334, 0.3, 0.3333333333333333, 0.4, 0.43333333333333335, 0.5, 0.5333333333333333, 0.6, 0.6333333333333333, 0.6666666666666666, 0.7333333333333333, 0.7666666666666667, 0.8, 0.8333333333333334, 0.8666666666666667, 0.9, 0.9333333333333333, 0.9666666666666667]),\n",
       "  'IMIN60': ListWrapper([0.0, 0.03333333333333333, 0.06666666666666667, 0.1, 0.13333333333333333, 0.18333333333333332, 0.23333333333333334, 0.2833333333333333, 0.3333333333333333, 0.36666666666666664, 0.4166666666666667, 0.4666666666666667, 0.5166666666666667, 0.5666666666666667, 0.6166666666666667, 0.65, 0.7, 0.7333333333333333, 0.7833333333333333, 0.8166666666666667, 0.85, 0.8833333333333333, 0.9, 0.9333333333333333, 0.95, 0.9666666666666667, 0.9833333333333333]),\n",
       "  'IMXD5': ListWrapper([-0.8, -0.6, -0.4, -0.2, 0.0, 0.2, 0.4, 0.6, 0.8]),\n",
       "  'IMXD10': ListWrapper([-0.9, -0.8, -0.7, -0.6, -0.5, -0.4, -0.3, -0.2, -0.1, 0.0, 0.1, 0.2, 0.3, 0.4, 0.5, 0.6, 0.7, 0.8, 0.9]),\n",
       "  'IMXD20': ListWrapper([-0.95, -0.9, -0.85, -0.8, -0.75, -0.7, -0.65, -0.6, -0.55, -0.5, -0.45, -0.4, -0.35, -0.3, -0.25, -0.2, -0.05, 0.2, 0.25, 0.35, 0.4, 0.45, 0.5, 0.55, 0.6, 0.65, 0.7, 0.75, 0.8, 0.9, 0.95]),\n",
       "  'IMXD30': ListWrapper([-0.9666666666666667, -0.9333333333333333, -0.8666666666666667, -0.8, -0.7666666666666667, -0.7, -0.6666666666666666, -0.6, -0.5666666666666667, -0.5333333333333333, -0.4666666666666667, -0.43333333333333335, -0.36666666666666664, -0.3333333333333333, -0.26666666666666666, -0.2, -0.06666666666666667, 0.2, 0.26666666666666666, 0.3333333333333333, 0.36666666666666664, 0.43333333333333335, 0.4666666666666667, 0.5333333333333333, 0.5666666666666667, 0.6333333333333333, 0.7, 0.7333333333333333, 0.8, 0.9, 0.9666666666666667]),\n",
       "  'IMXD60': ListWrapper([-0.9833333333333333, -0.9333333333333333, -0.8666666666666667, -0.8166666666666667, -0.7666666666666667, -0.7166666666666667, -0.6666666666666666, -0.6166666666666667, -0.5666666666666667, -0.5333333333333333, -0.48333333333333334, -0.43333333333333335, -0.38333333333333336, -0.3333333333333333, -0.26666666666666666, -0.21666666666666667, -0.1, 0.16666666666666666, 0.23333333333333334, 0.2833333333333333, 0.35, 0.4, 0.45, 0.5166666666666667, 0.5666666666666667, 0.6166666666666667, 0.6833333333333333, 0.7333333333333333, 0.8, 0.8833333333333333, 0.9833333333333333]),\n",
       "  'CORR5': ListWrapper([-0.9997787926147205, -0.818046098336932, -0.6883576421692575, -0.5706950674296916, -0.462996923065049, -0.3624906622468568, -0.2676133073793664, -0.17883877803548215, -0.09447911801705788, -0.016016409596139876, 0.05904858456460198, 0.1302800761559819, 0.19711599355635429, 0.26059194452524276, 0.3215992578370982, 0.3793388388126965, 0.43445842927156936, 0.48673709176165775, 0.5360610446518367, 0.5832491027168228, 0.6272018411383744, 0.6692756959066859, 0.709475940026591, 0.7484815420403587, 0.7853941900164202, 0.820824686778142, 0.855330115461108, 0.888834099403976, 0.9217292988272868, 0.9547961359522381, 0.9998237747045425]),\n",
       "  'CORR10': ListWrapper([-0.9867874880159612, -0.5957800403842288, -0.44811438985846047, -0.33446501070664825, -0.24115311912594448, -0.15941755552126477, -0.08706409238586307, -0.021430416584740996, 0.037955613662522536, 0.09328004650015832, 0.14574528983398247, 0.19568405472080308, 0.24204590145139732, 0.28807124597943734, 0.3313588974771884, 0.3726075315148754, 0.41177562424025577, 0.44978080806807885, 0.4864004577499884, 0.5224825227483977, 0.5580955513547736, 0.5924735852169042, 0.6265482502004901, 0.6600219891404441, 0.6940223555674234, 0.7281656855877782, 0.7630783062008605, 0.7997406075648655, 0.8398603150982601, 0.8868612291069478, 0.993589764399295]),\n",
       "  'CORR20': ListWrapper([-0.9631342567156976, -0.45261101047406427, -0.3120562871481924, -0.20966544477470023, -0.1263296186103809, -0.055231748899226885, 0.006984193962941095, 0.06314534511115, 0.11377197280747176, 0.16024686123400522, 0.20355268070373309, 0.24412637881339297, 0.28237862387174206, 0.3186460594739633, 0.35408740674450306, 0.38817764147851114, 0.42055584386537703, 0.45211225252645065, 0.48251493597125134, 0.5123581657499918, 0.5417661813126349, 0.570868562214333, 0.6001370783442666, 0.6292682041767047, 0.6593853536699871, 0.6899637000011738, 0.7222728146339702, 0.7562986861948476, 0.7952515280123368, 0.8434922261873009, 0.9767007854594211]),\n",
       "  'CORR30': ListWrapper([-0.938592062342664, -0.3917360490059742, -0.2551732739879551, -0.15788945512749958, -0.08222586841255364, -0.015764459123314898, 0.04200586591770792, 0.09284114754771824, 0.13923428153724718, 0.18298158705404977, 0.22365161034761247, 0.2616629852231782, 0.29806412414807315, 0.3328970869350451, 0.3657212595693697, 0.39776522876002246, 0.42888368777660724, 0.4588460664022448, 0.48797555147631494, 0.516568541904288, 0.544486894484192, 0.5720410067923395, 0.5997888270440137, 0.627642880407401, 0.6564716563516844, 0.6852453676915561, 0.7160860759556539, 0.7488001426238124, 0.786259332805053, 0.8350007154162495, 0.9754194796116598]),\n",
       "  'CORR60': ListWrapper([-0.8950348258299279, -0.3137216626136175, -0.18075096505458568, -0.08801080439938876, -0.018815984911502198, 0.040589816109672106, 0.09346551608714287, 0.14063608154659474, 0.1840495482386917, 0.2246249826305916, 0.26241702380041354, 0.29776367239063795, 0.3310147861097258, 0.36183225077777403, 0.3912091137450848, 0.4192890372898346, 0.4470842253571166, 0.4744944953520446, 0.5004291018500402, 0.5261054884349331, 0.5510897717440656, 0.5759166420302335, 0.6018066700786212, 0.6279899010892954, 0.6552625933277959, 0.6823220188414761, 0.7116365881237968, 0.743212442242829, 0.7792655847121738, 0.8234203764165562, 0.9587336002155753]),\n",
       "  'CORD5': ListWrapper([-0.9997831658014775, -0.8761978027381202, -0.7798936009428202, -0.6849640411271206, -0.5902708726194454, -0.49503632169729467, -0.3998676288924763, -0.3063506329979161, -0.21131653334045858, -0.11558177658414098, -0.025838443849962815, 0.060839425536741425, 0.14275187067189168, 0.21958622347313056, 0.2921981465194969, 0.360464571530044, 0.42379762942707094, 0.4830568691954298, 0.5378212590316117, 0.5884218259955308, 0.6363133434150748, 0.680613690880751, 0.72215820176815, 0.7615049841222895, 0.797880289990992, 0.832515943280946, 0.8646296173232416, 0.8957208437947924, 0.9259683146668307, 0.9569888137282968, 0.9999652040848491]),\n",
       "  'CORD10': ListWrapper([-0.9888215254601627, -0.6450081077911888, -0.5153495894925444, -0.41391124457399525, -0.3226560448824808, -0.24268048588321736, -0.17022967590822471, -0.10320928261112315, -0.038857440829006884, 0.021353607788914215, 0.07820616138585246, 0.1322708190992183, 0.1831434397714675, 0.23146099036454057, 0.2786707580536394, 0.32338085575078374, 0.3650180542829182, 0.405833162683342, 0.44586909241731854, 0.48555692426929664, 0.5228871117100202, 0.5592319075581512, 0.5951215993574249, 0.6309209841405881, 0.6659989804317215, 0.7007111205318978, 0.7367485602361746, 0.7751690900548203, 0.8161504739528684, 0.8648357780161113, 0.9926226065131348]),\n",
       "  'CORD20': ListWrapper([-0.9220865843084571, -0.432065259854268, -0.31354407686229635, -0.2251245538427825, -0.15271090405646798, -0.09221127792857563, -0.03952650232697366, 0.009574079288681462, 0.05507693331473131, 0.09668449679235769, 0.1360547582716505, 0.17239286427034903, 0.20647165601235534, 0.23964333871042395, 0.2715111069416107, 0.3027209022913098, 0.3321131117328423, 0.36107644891040064, 0.39009816017845345, 0.418854305572645, 0.44740895605411385, 0.47589523546022344, 0.5047578043962929, 0.5340696459646743, 0.5635240902113602, 0.5942739659802104, 0.6264891913971514, 0.6626934584816705, 0.705054764867614, 0.7603193560122655, 0.9558954536999758]),\n",
       "  'CORD30': ListWrapper([-0.8480949025936914, -0.32603716324313353, -0.217469001206629, -0.13875695368919203, -0.0787158693076137, -0.028938629207303536, 0.014550208817580802, 0.05500787734186054, 0.09145430509469603, 0.12503561685581246, 0.1566212574689183, 0.18615467631878888, 0.2148948996826478, 0.24206297107226218, 0.268498365717313, 0.2943637870548234, 0.31919107617575077, 0.34312113405568, 0.3675579608764651, 0.39162395451496074, 0.4150794237395498, 0.4395842157637673, 0.46442059963407445, 0.48943571834569966, 0.5152876543106593, 0.5426990208732624, 0.5720831853817885, 0.6046233843941577, 0.6437753330644658, 0.6966842370315964, 0.9230730357875679]),\n",
       "  'CORD60': ListWrapper([-0.6808956326303012, -0.17805619827307045, -0.08922794026407434, -0.03087388115714454, 0.014342126971844735, 0.05118206922622352, 0.08339853118392335, 0.1124391478532778, 0.13878674611977498, 0.16282208668864884, 0.18476419319151005, 0.20598194004853887, 0.22619664368778306, 0.24492927869922887, 0.2635721018013262, 0.28107059499315373, 0.2986909649309312, 0.31602191822366715, 0.33363473148647843, 0.3511079836999542, 0.36873463646310256, 0.386968187827339, 0.40543693770228284, 0.4249132531222103, 0.44531684923659137, 0.46792402545311057, 0.49263864351254155, 0.521282491456208, 0.5558512565126454, 0.6023908726777957, 0.8327932462496219]),\n",
       "  'CNTP5': ListWrapper([0.0, 0.2, 0.4, 0.6, 0.8, 1.0]),\n",
       "  'CNTP10': ListWrapper([0.0, 0.1, 0.2, 0.3, 0.4, 0.5, 0.6, 0.7, 0.8, 0.9, 1.0]),\n",
       "  'CNTP20': ListWrapper([0.05, 0.1, 0.15, 0.2, 0.25, 0.3, 0.35, 0.4, 0.45, 0.5, 0.55, 0.6, 0.65, 0.7, 0.75, 0.8, 0.85, 0.9]),\n",
       "  'CNTP30': ListWrapper([0.13333333333333333, 0.16666666666666666, 0.2, 0.23333333333333334, 0.26666666666666666, 0.3, 0.3333333333333333, 0.36666666666666664, 0.4, 0.43333333333333335, 0.4666666666666667, 0.5, 0.5333333333333333, 0.5666666666666667, 0.6, 0.6333333333333333, 0.6666666666666666, 0.7, 0.7333333333333333, 0.7666666666666667, 0.8, 0.8333333333333334]),\n",
       "  'CNTP60': ListWrapper([0.21666666666666667, 0.36666666666666664, 0.38333333333333336, 0.4, 0.4166666666666667, 0.43333333333333335, 0.45, 0.4666666666666667, 0.48333333333333334, 0.5, 0.5166666666666667, 0.5333333333333333, 0.55, 0.5666666666666667, 0.5833333333333334, 0.6, 0.7833333333333333]),\n",
       "  'CNTN5': ListWrapper([0.0, 0.2, 0.4, 0.6, 0.8, 1.0]),\n",
       "  'CNTN10': ListWrapper([0.0, 0.1, 0.2, 0.3, 0.4, 0.5, 0.6, 0.7, 0.8, 0.9, 1.0]),\n",
       "  'CNTN20': ListWrapper([0.1, 0.15, 0.2, 0.25, 0.3, 0.35, 0.4, 0.45, 0.5, 0.55, 0.6, 0.65, 0.7, 0.75, 0.8, 0.85, 0.9]),\n",
       "  'CNTN30': ListWrapper([0.13333333333333333, 0.16666666666666666, 0.2, 0.23333333333333334, 0.26666666666666666, 0.3, 0.3333333333333333, 0.36666666666666664, 0.4, 0.43333333333333335, 0.4666666666666667, 0.5, 0.5333333333333333, 0.5666666666666667, 0.6, 0.6333333333333333, 0.6666666666666666, 0.7, 0.7333333333333333, 0.7666666666666667, 0.8, 0.8333333333333334]),\n",
       "  'CNTN60': ListWrapper([0.2, 0.38333333333333336, 0.4, 0.4166666666666667, 0.43333333333333335, 0.45, 0.4666666666666667, 0.48333333333333334, 0.5, 0.5166666666666667, 0.5333333333333333, 0.55, 0.5666666666666667, 0.5833333333333334, 0.7166666666666667]),\n",
       "  'CNTD5': ListWrapper([-1.0, -0.8, -0.6000000000000001, -0.6, -0.4, -0.39999999999999997, -0.2, -0.19999999999999996, 0.0, 0.19999999999999996, 0.2, 0.39999999999999997, 0.4, 0.6, 0.6000000000000001, 0.8, 1.0]),\n",
       "  'CNTD10': ListWrapper([-1.0, -0.49999999999999994, -0.39999999999999997, -0.3, -0.2, -0.19999999999999996, -0.09999999999999998, 0.0, 0.09999999999999998, 0.19999999999999996, 0.2, 0.39999999999999997, 0.6000000000000001, 1.0]),\n",
       "  'CNTD20': ListWrapper([-0.8, -0.35000000000000003, -0.30000000000000004, -0.25, -0.19999999999999996, -0.15000000000000002, -0.10000000000000003, -0.09999999999999998, -0.04999999999999999, 0.0, 0.04999999999999999, 0.10000000000000003, 0.15000000000000002, 0.19999999999999996, 0.25000000000000006, 0.30000000000000004, 0.39999999999999997, 0.8]),\n",
       "  'CNTD30': ListWrapper([-0.6666666666666667, -0.3, -0.23333333333333334, -0.19999999999999996, -0.16666666666666669, -0.13333333333333336, -0.1333333333333333, -0.09999999999999998, -0.06666666666666665, -0.033333333333333326, 0.0, 0.033333333333333326, 0.06666666666666665, 0.09999999999999998, 0.1333333333333333, 0.16666666666666663, 0.19999999999999996, 0.26666666666666666, 0.3, 0.6666666666666667]),\n",
       "  'CNTD60': ListWrapper([-0.43333333333333335, -0.2, -0.16666666666666669, -0.14999999999999997, -0.1333333333333333, -0.10000000000000003, -0.09999999999999998, -0.08333333333333331, -0.06666666666666665, -0.04999999999999999, -0.03333333333333338, -0.033333333333333326, -0.016666666666666663, 0.0, 0.016666666666666663, 0.033333333333333326, 0.03333333333333338, 0.050000000000000044, 0.06666666666666665, 0.06666666666666671, 0.08333333333333337, 0.10000000000000003, 0.1166666666666667, 0.1333333333333333, 0.14999999999999997, 0.1833333333333333, 0.21666666666666662, 0.5666666666666667]),\n",
       "  'SUMP5': ListWrapper([0.0, 0.02085382836707503, 0.08008065652806634, 0.1250110442740235, 0.16664424779483214, 0.2031667352863521, 0.2395837146292577, 0.2733107600759352, 0.30640181752505324, 0.33537225578053254, 0.3683785963958915, 0.39777643286856934, 0.426474297910506, 0.45454320009971516, 0.48315660744059075, 0.510147234380202, 0.5384696429405041, 0.5660267873549313, 0.5937533006183741, 0.6216098886926541, 0.6494978576770769, 0.6779907250769098, 0.7075459538623597, 0.7376984824538879, 0.769210765905618, 0.8003629370519344, 0.8360661023668355, 0.8749999999997835, 0.9206361601814562, 0.9810933650617375, 0.9999999999999991]),\n",
       "  'SUMP10': ListWrapper([0.0, 0.15388320190524174, 0.20708462080518636, 0.24590681641144796, 0.27798983171865466, 0.30574285049917255, 0.33154062518815286, 0.3544415686465138, 0.37639271074134045, 0.39807903456481447, 0.41822094227756845, 0.437499999999073, 0.4566450468428101, 0.47503566333747244, 0.49363770632678633, 0.5116305983097893, 0.5294358470477937, 0.5477710785959296, 0.5662524427204434, 0.5846138241829695, 0.6032783778660212, 0.6228479794662306, 0.6428561851371082, 0.6638882303291107, 0.6856595685313123, 0.7096103896085456, 0.7361105312069044, 0.7663592138809813, 0.8029055120935222, 0.8531889869774016, 0.9999999999999988]),\n",
       "  'SUMP20': ListWrapper([0.02768672292149458, 0.25585327722392887, 0.29531868370850123, 0.3235773376867932, 0.34639595186040106, 0.3663873227666855, 0.3841934132998326, 0.4001467143742202, 0.41577170483217396, 0.4305233117453146, 0.4444457376295273, 0.4583211603698259, 0.4716590746324191, 0.4849910941721602, 0.498001526486336, 0.5107239859520557, 0.5235295168790461, 0.5361217719218015, 0.5488996462546764, 0.5621310911893106, 0.5757432751294383, 0.5895382737093933, 0.6037942030415504, 0.6186736804482166, 0.634099125078239, 0.6511895791496349, 0.6698864488132993, 0.691826548505388, 0.7193083847408518, 0.7602076001768032, 0.9740289908937949]),\n",
       "  'SUMP30': ListWrapper([0.060122811841256854, 0.3034383445270242, 0.33668904695951074, 0.3598418598630887, 0.3781103781729931, 0.3940617523979181, 0.4082122516415904, 0.4212043242915322, 0.43334511569094036, 0.4447514717509513, 0.4560023293707644, 0.46692638842744344, 0.47783286404566533, 0.4881619497313417, 0.49859553614655244, 0.5087914226026856, 0.519224794072629, 0.5295933370828945, 0.5402547710742656, 0.5510229191881619, 0.5621749276054675, 0.5737171678875588, 0.5856672902370785, 0.598214053802613, 0.6117319050471102, 0.6260953446261989, 0.642433323565455, 0.6610539019675753, 0.6845396923305161, 0.7190444370317879, 0.953084093808225]),\n",
       "  'SUMP60': ListWrapper([0.19048051479384645, 0.36732623217041, 0.3907264018863551, 0.40654721645688086, 0.4193067651907674, 0.43014608535133636, 0.43981482923412013, 0.44868476751784303, 0.45689218772059814, 0.4647887736016435, 0.47229723991503414, 0.47974358774390347, 0.4870056140927602, 0.4941564136161121, 0.5011762253602503, 0.5082455580380698, 0.5153409164578985, 0.5224843093960777, 0.5299760233559994, 0.5375498391462707, 0.5453614993919973, 0.5532422898395555, 0.5614856530478859, 0.5702716407043728, 0.5796295605864848, 0.5901018546670634, 0.6019528451794988, 0.6154215495995451, 0.6329534847422948, 0.659098603329672, 0.8906765155060836]),\n",
       "  'SUMN5': ListWrapper([0.0, 0.018906634938211386, 0.07936383981839915, 0.12499999999957695, 0.16393389763284197, 0.19963706294806355, 0.23078923409343632, 0.26230151754498127, 0.2924540461375548, 0.3220092749221979, 0.35050214232269544, 0.37839011130697614, 0.40624669938142444, 0.4339732126447629, 0.4615303570590753, 0.4898527656178084, 0.5168433925592026, 0.5454567999000609, 0.5735257020892532, 0.6022235671312814, 0.6316214036014195, 0.6646277442192802, 0.6935981824736743, 0.7266892399240327, 0.7604162853707249, 0.7968332647136462, 0.8333557522038229, 0.8749889557252303, 0.9199193434705468, 0.9791461716324142, 0.9999999999999992]),\n",
       "  'SUMN10': ListWrapper([0.0, 0.14681101302247618, 0.19709448790618783, 0.23364078611891603, 0.2638894687926643, 0.2903896103888571, 0.3143404314686447, 0.33611176967086825, 0.3571438148628605, 0.37715202053356234, 0.39672162213366285, 0.4153861758168486, 0.433747557278068, 0.4522289214040601, 0.4705641529513874, 0.4883694016890534, 0.5063622936731625, 0.5249643366612308, 0.5433549531571386, 0.5624999999995507, 0.5817790577224302, 0.6019209654351539, 0.6236072892578264, 0.6455584313533611, 0.6684593748118264, 0.6942571494985026, 0.7220101682786697, 0.7540931835882348, 0.7929153791947536, 0.8461167980913669, 0.9999999999999973]),\n",
       "  'SUMN20': ListWrapper([0.025971009106112202, 0.23979239982316494, 0.28069161525902, 0.30817345149436465, 0.3301135511866215, 0.3488104208503471, 0.36590087492170514, 0.3813263195517694, 0.39620579695713526, 0.4104617262905837, 0.4242567248699716, 0.4378689088106696, 0.4511003537452795, 0.4638782280781915, 0.4764704831209278, 0.48927601404792437, 0.5019984735135702, 0.5150089058277801, 0.528340925367578, 0.5416788396293934, 0.5555542623704146, 0.5694766882546285, 0.5842282951677682, 0.5998532856257681, 0.6158065867001432, 0.6336126772332805, 0.6536040481395808, 0.6764226623130463, 0.7046813162914878, 0.7441467227760579, 0.9723132770784894]),\n",
       "  'SUMN30': ListWrapper([0.0469159061917359, 0.28095556296815555, 0.31546030766944805, 0.33894609803241715, 0.35756667643430307, 0.3739046553737982, 0.3882680949528844, 0.4017859461973822, 0.4143327097628007, 0.42628283211239715, 0.43782507239447616, 0.4489770808110672, 0.4597452289257062, 0.470406662917083, 0.4807752059266575, 0.49120857739726326, 0.5014044638533406, 0.5118380502686463, 0.5221671359543094, 0.5330736115723332, 0.5439976706291796, 0.5552485282490386, 0.5666548843084572, 0.5787956757083775, 0.5917877483583921, 0.6059382476020571, 0.6218896218269024, 0.6401581401368996, 0.6633109530403842, 0.6965616554724618, 0.9398771881586859]),\n",
       "  'SUMN60': ListWrapper([0.10932348449388223, 0.34090139667032365, 0.36704651525765164, 0.3845784504004541, 0.3980471548204915, 0.40989814533292174, 0.4203704394135145, 0.4297283592955555, 0.43851434695206776, 0.44675771016043675, 0.45463850060797995, 0.4624501608536564, 0.4700239766437047, 0.47751569060387955, 0.4846590835420692, 0.4917544419618922, 0.49882377463974886, 0.5058435863838805, 0.5129943859072286, 0.5202564122560135, 0.5277027600848808, 0.5352112263983534, 0.5431078122793199, 0.5513152324821273, 0.5601851707658749, 0.5698539146485879, 0.5806932348091981, 0.5934527835430567, 0.6092735981136355, 0.6326737678295494, 0.8095194852061456]),\n",
       "  'SUMD5': ListWrapper([-0.9999999999999992, -0.9582923432653394, -0.8398386869424811, -0.7499779114512067, -0.6667115044089905, -0.5936665294272941, -0.5208325707414672, -0.45337847984809754, -0.3871963649486212, -0.3292554884387477, -0.26324280720552823, -0.20444713426271224, -0.14705140417874732, -0.09091359980034577, -0.03368678511861203, 0.020294468762393637, 0.07693928588142888, 0.13205357471016835, 0.1875066012369497, 0.24321977738567782, 0.29899571535438063, 0.35598145015471194, 0.41509190772480486, 0.4753969649089066, 0.5384215318121816, 0.600725874103871, 0.6721322047339936, 0.7499999999998144, 0.8412723203630571, 0.9621867301235258, 0.9999999999999991]),\n",
       "  'SUMD10': ListWrapper([-0.9999999999999973, -0.6922335961861251, -0.5858307583895674, -0.508186367176787, -0.44402033656001477, -0.38851429899933004, -0.3369187496236736, -0.2911168627068474, -0.247214578516486, -0.2038419308703395, -0.1635581154448621, -0.1249999999998995, -0.08670990631432868, -0.04992867332375835, -0.012724587346376211, 0.023261196620735895, 0.058871694096406295, 0.09554215719186947, 0.1325048854423753, 0.1692276483661208, 0.20655675573235832, 0.2456959589326682, 0.28571237027424773, 0.3277764606582424, 0.37131913706266756, 0.4192207792196887, 0.4722210624143851, 0.5327184277620652, 0.6058110241873343, 0.706377973954925, 0.9999999999999988]),\n",
       "  'SUMD20': ListWrapper([-0.9446265541569948, -0.48829344555212895, -0.40936263258298655, -0.35284532462625307, -0.3072080962791797, -0.26722535446659484, -0.23161317340031062, -0.19970657125154787, -0.1684565903355943, -0.13895337650931391, -0.1111085247408873, -0.08335767925956754, -0.05668185073515891, -0.030017811655619994, -0.003996947027234308, 0.021447971904131363, 0.04705903375811835, 0.07224354384361001, 0.09779929250939681, 0.12426218237864095, 0.15148655025946664, 0.17907654741880957, 0.207588406084415, 0.23734736089644715, 0.26819825015653376, 0.302379158299288, 0.33977289762667784, 0.38365309701102335, 0.4386167694818312, 0.5204152003536382, 0.9480579817876826]),\n",
       "  'SUMD30': ListWrapper([-0.8797543763174291, -0.3931233109454377, -0.32662190608087355, -0.28031628027381095, -0.24377924365390927, -0.21187649520413895, -0.18357549671680165, -0.1575913514168454, -0.13330976861751684, -0.11049705649808736, -0.08799534125841531, -0.06614722314488984, -0.04433427190864407, -0.023676100537304567, -0.0028089277067881208, 0.0175828452054224, 0.03844958814597147, 0.059186674165811505, 0.08050954214855933, 0.10204583837709469, 0.12434985521099129, 0.1474343357751616, 0.17133458047427783, 0.19642810760523075, 0.22346381009422583, 0.25219068925240073, 0.28486664713115206, 0.32210780393515814, 0.36907938466106804, 0.4380888740636323, 0.9061681876164892]),\n",
       "  'SUMD60': ListWrapper([-0.6190389704122992, -0.2653475356591396, -0.21854719622728042, -0.1869055670861759, -0.16138646961843056, -0.1397078292972516, -0.12037034153175477, -0.10263046496428424, -0.08621562455872174, -0.07042245279670989, -0.05540552016984682, -0.040512824512110045, -0.02598877181446835, -0.01168717276776836, 0.0023524507205014426, 0.016491116076177603, 0.030681832915829176, 0.044968618792198115, 0.059952046712294635, 0.07509967829261431, 0.09072299878401734, 0.10648457967911873, 0.12297130609581815, 0.14054328140881722, 0.15925912117297036, 0.18020370933414168, 0.20390569035900738, 0.23084309919909105, 0.26590696948464304, 0.31819720665934825, 0.7813530310122014]),\n",
       "  'VMA5': ListWrapper([0.21537560294287683, 0.5642813321418567, 0.6412951784103688, 0.6955514408667134, 0.7390720492248983, 0.7768542402546306, 0.8114488278957591, 0.8435824911692481, 0.8734627268309056, 0.9021527745452851, 0.9299893828739613, 0.9564245293399266, 0.9833269854910591, 1.0096278467653867, 1.0362147350282114, 1.062643294684585, 1.0896989823737804, 1.1170029977882598, 1.1450942989194468, 1.1745127426730337, 1.205703219156152, 1.2385133937984543, 1.274163290927652, 1.3126298117729935, 1.3560117726599643, 1.4057739633558342, 1.4636203595164132, 1.5358765587214045, 1.6381096488788247, 1.808764087730811, 96.53420361010829]),\n",
       "  'VMA10': ListWrapper([0.12277609872719338, 0.505479110446869, 0.5922626484063356, 0.6554554706154463, 0.7067343483201687, 0.7509428840644988, 0.7911938693565042, 0.8289854010791039, 0.8638465097801726, 0.8972570370262476, 0.9302973269359561, 0.962648222597437, 0.995002089529914, 1.0256996510153034, 1.0576685105538293, 1.090363226213714, 1.122766521003732, 1.156847686537239, 1.1916320033365846, 1.2275814752787608, 1.2653290556985237, 1.3060163915740919, 1.3493435813572494, 1.3963745890776584, 1.45027532062324, 1.511390329166495, 1.5835667319821634, 1.673611876438541, 1.7974107531613481, 2.007511304556172, 131.67396209386283]),\n",
       "  'VMA20': ListWrapper([0.07673276305950119, 0.46155716157068166, 0.5574821492701385, 0.6233660062590693, 0.6789125030195076, 0.7282646789709581, 0.7726740795596831, 0.8144873755322373, 0.8532853723027402, 0.8913125802603046, 0.9279735793469089, 0.9648287567975401, 1.001822291736471, 1.0383925993078118, 1.0751764683461733, 1.1125816510843263, 1.1517174889232031, 1.191415440248186, 1.2326173189939211, 1.2755475883542198, 1.3219376267958673, 1.3707750569201802, 1.423025922940207, 1.4816292243349818, 1.5475899623855782, 1.6226773079109642, 1.7125204740533073, 1.8255979878925763, 1.9838374178838898, 2.2497695000313622, 170.50132184115523]),\n",
       "  'VMA30': ListWrapper([0.056173229274689616, 0.43900656010742584, 0.5347898512361793, 0.605299604661409, 0.6631024868694125, 0.7143528315824437, 0.7607825467422853, 0.8051581815454836, 0.8463043322263014, 0.8869982903873858, 0.9265538220999932, 0.965983628556757, 1.0053000299443915, 1.044758732541907, 1.0853027810533973, 1.12598081080648, 1.1689111650857162, 1.2131545291759067, 1.2588303011536073, 1.3068484431516292, 1.358374173063447, 1.414117521585237, 1.4741660524278486, 1.540518827052593, 1.616212084619945, 1.7036646896556729, 1.808331202484162, 1.940451889152242, 2.1238357673052812, 2.438240252562485, 210.0974259927798]),\n",
       "  'VMA60': ListWrapper([0.03352238961576211, 0.4071279897289779, 0.5053511621937297, 0.5776530754884734, 0.6403833435747873, 0.6945882094921397, 0.7449126607143113, 0.7928206223104954, 0.8388458258445876, 0.8840826038089643, 0.9283508384781387, 0.9728959742192376, 1.0179297339572115, 1.0636242932461673, 1.1099102923203885, 1.1576558156968522, 1.207082897172233, 1.259384046837901, 1.315571102190855, 1.3738967745771284, 1.4366249474122148, 1.5039642736257188, 1.578602490856397, 1.660006607205591, 1.7527652495492885, 1.8625387584876794, 1.9951584754998108, 2.1656626147596536, 2.403598177985523, 2.8169382063040196, 298.35452184115525]),\n",
       "  'VSTD5': ListWrapper([0.00619522113763557, 0.10981489759021561, 0.1332639960459045, 0.1499113971816297, 0.16377685917077364, 0.17573073960074484, 0.18691188785839, 0.19731632406729355, 0.20744814064334322, 0.21733082204338117, 0.22723949250548478, 0.23705182094115862, 0.24703418232344931, 0.2573932051309204, 0.26840828535818534, 0.27983756851971414, 0.2919658520829323, 0.30528806238790596, 0.3197887783161119, 0.3357462894918954, 0.35363554619209125, 0.3742894498877638, 0.39757328246453116, 0.425086723706405, 0.45702975596914486, 0.4949603222011743, 0.5424421560904525, 0.6032523123016531, 0.6920703244203366, 0.858488256702441, 59.42012637752919]),\n",
       "  'VSTD10': ListWrapper([0.05991593890576816, 0.16365635663575448, 0.18266557011301396, 0.19652239606043567, 0.20843985419885216, 0.2193580059183753, 0.22967258745747215, 0.2401388216567136, 0.250796911744132, 0.2620852974949383, 0.27394592565806747, 0.2863674513424405, 0.29936584006721423, 0.3132276555283364, 0.3275680524273446, 0.3428107938492757, 0.3587473736560471, 0.3760182092003674, 0.3945338220043739, 0.4144593398098544, 0.43629472114642437, 0.4601757513585963, 0.4870792676419424, 0.5174419780407786, 0.5530735998723381, 0.5951804818553939, 0.6484641656686001, 0.7177147761788464, 0.8182881194601693, 0.9978064159948412, 58.31444064461884]),\n",
       "  'VSTD20': ListWrapper([0.10517320921171698, 0.18692889911131264, 0.20553500202302208, 0.22270198151031298, 0.2386489415582985, 0.2539760714605036, 0.26901349158065135, 0.2840234912972965, 0.29916780848553554, 0.314468776432326, 0.3298266494433885, 0.34519744966223714, 0.36110242417467603, 0.3776206699938481, 0.394744403673644, 0.41274203634439516, 0.431434969795778, 0.4517397379451476, 0.4735986545309852, 0.49705610873418893, 0.5225925298199378, 0.5506542824193111, 0.5822180511150871, 0.6183703593940191, 0.6590644831863757, 0.7085667978209149, 0.7711931774977977, 0.8522539825901901, 0.9737101733148377, 1.1972669883458253, 79.61864310616195]),\n",
       "  'VSTD30': ListWrapper([0.11678385091355452, 0.19224536833268138, 0.2174082665127536, 0.23823065363042603, 0.2574086737751911, 0.2755640635775992, 0.2930002439877799, 0.3100161292982878, 0.3266973474656929, 0.34374450157097386, 0.3609602160950753, 0.3785163377772374, 0.3959240418939402, 0.4146094851503634, 0.4336935683028503, 0.45435228829583324, 0.4759100149095256, 0.4990732669631512, 0.5237435835437987, 0.5506705299712259, 0.5797604178035114, 0.6122336115176864, 0.6480503480527108, 0.6892977852236158, 0.7376074793105656, 0.7950538019547074, 0.8682788795896291, 0.9657119265117468, 1.106980827938438, 1.3721263801091517, 97.34466595069831]),\n",
       "  'VSTD60': ListWrapper([0.11321857810069434, 0.20462451957005223, 0.23928128551451214, 0.2664204832252913, 0.2904175714544746, 0.3125196657256742, 0.3341085614605047, 0.35483488839824956, 0.3756551966569735, 0.3969045515668243, 0.4183574025832405, 0.440231153736282, 0.4626961672932125, 0.48580963129219995, 0.5097766877658776, 0.5359029035890446, 0.5630622220636097, 0.5923520352213324, 0.6244954459960743, 0.6585874881218133, 0.6968284365865798, 0.7387126218709908, 0.7864025588121707, 0.8408929297648314, 0.9053627601074441, 0.9821546266810457, 1.0805086907537815, 1.212398608155687, 1.4064278958845837, 1.7621803621790502, 200.64833932444768]),\n",
       "  'WVMA5': ListWrapper([0.024266010717344945, 0.4284187011942189, 0.5085731313999307, 0.5634744351125875, 0.6055506699230426, 0.6419273640793492, 0.6749341779022675, 0.705960483241531, 0.7351521699720497, 0.7634133067956858, 0.7907748523027353, 0.8172882484839814, 0.8436052264993776, 0.8698282726439162, 0.8965454265324416, 0.923497838928157, 0.9505758242942377, 0.9793613456276211, 1.0095114286013172, 1.0401898435270347, 1.0727654538507374, 1.10810991056168, 1.1463287649360363, 1.1879485010712156, 1.2340908189433988, 1.2879806037218557, 1.351404245873919, 1.4297924465389085, 1.52818592803046, 1.6711733465023666, 2.236067977692778]),\n",
       "  'WVMA10': ListWrapper([0.21587757102234434, 0.6103968087957319, 0.676795073523942, 0.7212057803972041, 0.7577939992980548, 0.7889625992186325, 0.8171956320652572, 0.8436791606607492, 0.8695774660372488, 0.8939926773502108, 0.9186511942967471, 0.9427099149305579, 0.9675145287490335, 0.9924681774221769, 1.0170433957015155, 1.0425562681596243, 1.0695166862300218, 1.0975075680090653, 1.12636225215155, 1.1578526155734983, 1.1911217138702386, 1.227318807102322, 1.2666891434044316, 1.3110161021376052, 1.3606738977532384, 1.4184003849393967, 1.4885884844889967, 1.5774660275248156, 1.69755223803847, 1.8894802240612703, 3.1086348491943814]),\n",
       "  'WVMA20': ListWrapper([0.3662452188975738, 0.7555459912399695, 0.8149677439853852, 0.8564583441583719, 0.8898293817895367, 0.9192873757438818, 0.9458266971263313, 0.9710740302499378, 0.9952633008762539, 1.0192192394360582, 1.0434242981798831, 1.0673687579087658, 1.0914021919294914, 1.115784162858386, 1.1406448396904738, 1.1664560458967135, 1.193587149326393, 1.2219675105093195, 1.25220804428049, 1.2850534788639079, 1.3197907248042606, 1.3573619256988438, 1.3996834666674751, 1.4475539117923688, 1.5017141358535733, 1.5658462242006734, 1.6434646246263946, 1.7429098629616167, 1.884672029139277, 2.121729672766011, 4.146688806492936]),\n",
       "  'WVMA30': ListWrapper([0.4587709021492678, 0.8315053288906062, 0.8892141818764322, 0.9290373642749596, 0.9618384653640466, 0.9906125420216587, 1.0174207556725612, 1.0426856258987274, 1.0676781663094417, 1.0916569198353052, 1.1158278679809701, 1.1395633844339468, 1.1639367425692468, 1.1890290674801411, 1.2145338065338198, 1.2414334708640604, 1.2693918303583474, 1.2988466924383677, 1.330247668885102, 1.363394507297703, 1.3994732331546589, 1.4388541542215931, 1.483558654758143, 1.533176602610165, 1.5896615838510353, 1.6561250079718879, 1.7375461429319692, 1.8451476211303954, 1.9974915132299451, 2.2623452807824345, 4.768918144060219]),\n",
       "  'WVMA60': ListWrapper([0.5788928628559081, 0.9503823397494716, 1.0082617160729193, 1.0494216337436668, 1.0828774801391985, 1.1131678384024004, 1.141974568114701, 1.1694935970751414, 1.1955989605141764, 1.220957081743654, 1.246349352864752, 1.2718570954264243, 1.2973489077098614, 1.3231562960835397, 1.3497602948449137, 1.3772736565105337, 1.406890670788549, 1.4383545847443857, 1.4716859290847908, 1.5083305950848833, 1.5471146989919362, 1.5895652133002776, 1.6356169539334169, 1.6866890168040243, 1.746784834937097, 1.8179124311748303, 1.9082478632114017, 2.0293322243967817, 2.2046941401159246, 2.501840181435469, 5.548135710650638]),\n",
       "  'VSUMP5': ListWrapper([0.0, 0.10050242884643731, 0.17815834479460957, 0.23116545550409923, 0.2716717162312824, 0.3051210068061435, 0.3337509838943264, 0.35900699098391764, 0.38107093589168367, 0.4010197727780469, 0.419094193468396, 0.4357013035264335, 0.4512044852686327, 0.46553331537384984, 0.4793107745328271, 0.4926163370021623, 0.5055956350833897, 0.518417601833583, 0.531356906611855, 0.5448658504110186, 0.5592121065833281, 0.5743820311593503, 0.5912384987024655, 0.6100429597128585, 0.6317127602456188, 0.6563334951854014, 0.6864168326095258, 0.7236018987044537, 0.7737143006875553, 0.8455944913486643, 1.0]),\n",
       "  'VSUMP10': ListWrapper([0.0, 0.28568601675777866, 0.3345753184854592, 0.36467339464633036, 0.38661248396642833, 0.40388859455661796, 0.4183964509107768, 0.43050002605792653, 0.44126902642121363, 0.4508279093545616, 0.4596680171698112, 0.4678559533600787, 0.4755486386937819, 0.4827421066451068, 0.489645995891399, 0.4963133582476478, 0.5030233686094796, 0.5097081272997388, 0.516469362968278, 0.523471871425221, 0.5308240603353399, 0.5387984905265825, 0.5474324106025951, 0.5569430280674746, 0.5680995584983747, 0.5808439918748203, 0.5965123669217492, 0.616637145567811, 0.644895448852234, 0.6926432614502553, 0.9855343151541104]),\n",
       "  'VSUMP20': ListWrapper([0.07714094722924944, 0.3826720368174225, 0.4110206328704731, 0.42768022772922676, 0.4395887072161806, 0.44898119709497086, 0.4567500887309907, 0.46341494431383573, 0.46909666226741364, 0.47413315865446654, 0.478774819569225, 0.48311658789775247, 0.48718684231371245, 0.4910136524178551, 0.4947079867602467, 0.4983585155500391, 0.501963195697433, 0.5055823184563186, 0.5092718933803445, 0.5130456107478206, 0.5170410457078781, 0.5213484219221323, 0.526026828561813, 0.5312023720430924, 0.5371474795949481, 0.5440239577363248, 0.5524806551637658, 0.5634856618105109, 0.5794504249915858, 0.6076494604072106, 0.9808121258095334]),\n",
       "  'VSUMP30': ListWrapper([0.15158643245175854, 0.4181469822964424, 0.4384795404513106, 0.4501670619913595, 0.4583202140453962, 0.4646300661241306, 0.46988232520479634, 0.47436058053932995, 0.4782670013330402, 0.4817926479000656, 0.4850633467672389, 0.48806082531601247, 0.49087520872222923, 0.4935315403795404, 0.49613234239370596, 0.49866718303860635, 0.5012084459095026, 0.5037396347513042, 0.5063246138387606, 0.5090139269977473, 0.5118275579734024, 0.514850848108594, 0.5181280981159593, 0.5218955544920142, 0.5261182968952738, 0.5310701506712049, 0.5370685289180989, 0.5449256139481606, 0.5561554652078585, 0.5767459600616653, 0.9543140335609955]),\n",
       "  'VSUMP60': ListWrapper([0.21975846866907767, 0.45308121755747016, 0.46525372179399027, 0.47193371356733094, 0.47661689453703837, 0.4803080027658971, 0.48324556077566566, 0.48575354397423026, 0.48793916272750176, 0.4898685765879001, 0.49165645189907553, 0.49332605871440466, 0.49487274115733115, 0.4963352032877335, 0.49775041220546934, 0.4991086704740905, 0.5004752379300756, 0.501851018589992, 0.5032632047992067, 0.5047119353344722, 0.5062687292399073, 0.5079169850208789, 0.5097410338450807, 0.5117683831663362, 0.5141127528438336, 0.516839344548088, 0.5202035706295667, 0.5245934313577314, 0.5309849115469679, 0.5425751893101866, 0.9191796997672464]),\n",
       "  'VSUMN5': ListWrapper([0.0, 0.1544055086513351, 0.22628569931244405, 0.2763981012955464, 0.3135831673904743, 0.3436665048145987, 0.36828723975438127, 0.38995704028714145, 0.40876150129753447, 0.42561796884064973, 0.44078789341667185, 0.4551341495889814, 0.468643093388145, 0.48158239816641707, 0.49440436491661033, 0.5073836629978377, 0.5206892254671729, 0.5344666846261501, 0.5487955147313673, 0.5642986964735665, 0.5809058065316038, 0.5989802272219531, 0.6189290641083162, 0.6409930090160824, 0.6662490161056737, 0.6948789931938565, 0.7283282837687177, 0.7688345444959007, 0.8218416552053902, 0.8994975711535625, 1.0]),\n",
       "  'VSUMN10': ListWrapper([0.014465684845889577, 0.30735673854974466, 0.3551045511477657, 0.383362854432189, 0.4034876330782508, 0.4191560081251797, 0.4319004415016254, 0.44305697193252525, 0.4525675893974049, 0.4612015094734175, 0.4691759396646601, 0.476528128574779, 0.48353063703172205, 0.49029187270026126, 0.4969766313905204, 0.5036866417523522, 0.510354004108601, 0.5172578933548931, 0.5244513613062181, 0.5321440466399213, 0.5403319828301887, 0.5491720906454385, 0.5587309735787863, 0.5694999739420734, 0.5816035490892232, 0.596111405443382, 0.6133875160335717, 0.6353266053536697, 0.6654246815145405, 0.7143139832422212, 1.0]),\n",
       "  'VSUMN20': ListWrapper([0.019187874190466643, 0.3923505395927893, 0.42054957500841406, 0.43651433818948926, 0.4475193448362343, 0.45597604226367516, 0.46285252040505187, 0.4687976279569076, 0.473973171438187, 0.47865157807786773, 0.4829589542921219, 0.48695438925217943, 0.49072810661965555, 0.4944176815436813, 0.498036804302567, 0.5016414844499608, 0.5052920132397533, 0.5089863475821449, 0.5128131576862875, 0.5168834121022475, 0.5212251804307749, 0.5258668413455335, 0.5309033377325864, 0.5365850556861643, 0.5432499112690093, 0.5510188029050291, 0.5604112927838194, 0.5723197722707731, 0.5889793671295268, 0.6173279631825774, 0.9228590527707505]),\n",
       "  'VSUMN30': ListWrapper([0.045685966439004515, 0.4232540399383346, 0.44384453479214137, 0.45507438605183936, 0.46293147108190125, 0.4689298493287951, 0.4738817031047262, 0.4781044455079858, 0.4818719018840407, 0.48514915189140595, 0.4881724420265976, 0.4909860730022527, 0.4936753861612394, 0.4962603652486958, 0.4987915540904973, 0.5013328169613936, 0.503867657606294, 0.5064684596204596, 0.5091247912777707, 0.5119391746839875, 0.5149366532327612, 0.5182073520999343, 0.5217329986669599, 0.52563941946067, 0.5301176747952037, 0.5353699338758694, 0.5416797859546039, 0.5498329380086405, 0.5615204595486893, 0.5818530177035576, 0.8484135675482415]),\n",
       "  'VSUMN60': ListWrapper([0.08082030023275359, 0.45742481068981333, 0.469015088453032, 0.47540656864226855, 0.47979642937043326, 0.483160655451912, 0.4858872471561664, 0.48823161683366373, 0.4902589661549192, 0.49208301497912116, 0.4937312707600927, 0.49528806466552777, 0.4967367952007933, 0.49814898141000796, 0.49952476206992436, 0.5008913295259094, 0.5022495877945307, 0.5036647967122665, 0.5051272588426688, 0.5066739412855954, 0.5083435481009245, 0.5101314234120999, 0.5120608372724983, 0.5142464560257697, 0.5167544392243343, 0.5196919972341029, 0.5233831054629616, 0.528066286432669, 0.5347462782060097, 0.5469187824425298, 0.7802415313309223]),\n",
       "  'VSUMD5': ListWrapper([-1.0, -0.7989951423071253, -0.6436833104107809, -0.5376690889918015, -0.4566565675374353, -0.38975798638771303, -0.33249803221134727, -0.2819860180321648, -0.23785812821663263, -0.1979604544439062, -0.16181161306320796, -0.12859739294713302, -0.09759102946273461, -0.06893336925230026, -0.04137845093434577, -0.014767325995675427, 0.011191270166779297, 0.03683520366716589, 0.06271381322370989, 0.08973170082203723, 0.11842421316665616, 0.14876406231870046, 0.18247699740493106, 0.22008591942571698, 0.2634255204912375, 0.31266699037080276, 0.3728336652190515, 0.44720379740890726, 0.5474286013751107, 0.6911889826973285, 1.0]),\n",
       "  'VSUMD10': ListWrapper([-1.0, -0.4286279664844428, -0.3308493630290817, -0.27065321070733933, -0.22677503206714328, -0.19222281088676413, -0.16320709817844636, -0.13899994788414693, -0.11746194715757267, -0.09834418129087688, -0.08066396566037752, -0.06428809327984263, -0.048902722612436146, -0.03451578670978631, -0.020708008217202003, -0.007373283504704477, 0.006046737218959179, 0.019416254599477493, 0.03293872593655587, 0.04694374285044198, 0.06164812067067981, 0.07759698105316502, 0.09486482120519023, 0.11388605613494943, 0.1361991169967493, 0.16168798374964063, 0.19302473384349844, 0.23327429113562195, 0.2897908977044682, 0.3852865229005107, 0.9710686303082209]),\n",
       "  'VSUMD20': ListWrapper([-0.8457181055415011, -0.23465592636515498, -0.17795873425905384, -0.14463954454154643, -0.12082258556763883, -0.10203760581005826, -0.08649982253801863, -0.07317011137232857, -0.06180667546517268, -0.05173368269106692, -0.04245036086154993, -0.03376682420449507, -0.025626315372575134, -0.017972695164289763, -0.010584026479506608, -0.0032829688999217012, 0.003926391394865939, 0.011164636912637341, 0.018543786760688914, 0.026091221495641165, 0.03408209141575623, 0.04269684384426453, 0.05205365712362602, 0.062404744086184676, 0.0742949591898963, 0.08804791547264977, 0.10496131032753152, 0.12697132362102156, 0.1589008499831716, 0.2152989208144212, 0.9616242516190667]),\n",
       "  'VSUMD30': ListWrapper([-0.696827135096483, -0.1637060354071151, -0.12304091909737877, -0.099665876017281, -0.08335957190920762, -0.07073986775173881, -0.060235349590407335, -0.05127883892134007, -0.04346599733391969, -0.036414704199868725, -0.029873306465522276, -0.0238783493679751, -0.01824958255554147, -0.012936919240919208, -0.007735315212588137, -0.0026656339227872504, 0.0024168918190053644, 0.007479269502608432, 0.012649227677521172, 0.018027853995494558, 0.023655115946804757, 0.029701696217188156, 0.03625619623191857, 0.04379110898402832, 0.05223659379054752, 0.06214030134240981, 0.07413705783619762, 0.08985122789632122, 0.11231093041571699, 0.1534919201233307, 0.908628067121991]),\n",
       "  'VSUMD60': ListWrapper([-0.5604830626618447, -0.09383756488505965, -0.06949255641201948, -0.056132572865338085, -0.0467662109259232, -0.03938399446820582, -0.0335088784486686, -0.028492912051539428, -0.024121674544996485, -0.02026284682419975, -0.016687096201848956, -0.013347882571190734, -0.01025451768533763, -0.007329593424532973, -0.004499175589061331, -0.0017826590518189185, 0.000950475860151223, 0.0037020371799841223, 0.006526409598413446, 0.009423870668944465, 0.012537458479814592, 0.015833970041757697, 0.019482067690161614, 0.023536766332672474, 0.028225505687667206, 0.033678689096176, 0.040407141259133424, 0.049186862715462853, 0.061969823093935936, 0.08515037862037303, 0.8383593995344928])},\n",
       " 'integer_categorical_features_with_vocab': {'weekday': ListWrapper([3, 4, 0, 1, 2]),\n",
       "  'day_of_month': ListWrapper([27, 28, 2, 3, 4, 5, 6, 9, 10, 11, 12, 13, 16, 17, 18, 19, 20, 23, 24, 25, 26, 30, 31, 1, 7, 8, 14, 15, 21, 22, 29]),\n",
       "  'month': ListWrapper([2, 3, 4, 5, 6, 7, 8, 9, 10, 11, 12, 1])},\n",
       " 'string_categorical_features_with_vocab': {'industry': ListWrapper(['银行', '航空机场', '中药', '贵金属', '电力行业', '通信设备', '航天航空', '煤炭行业', '航运港口', '多元金融', '电源设备', '旅游酒店', '光伏设备', '医药商业', '燃气', '物流行业', '风电设备', '电子元件', '计算机设备', '汽车零部件', '工程建设', '半导体', '化肥行业', '软件开发', '有色金属', '电池', '美容护理', '化学原料', '水泥建材', '化学制品', '家电行业', '非金属材料', '医疗器械', '医疗服务', '能源金属', '食品饮料', '证券', '酿酒行业', '汽车整车', '船舶制造', '生物制品', '消费电子', '互联网服务', '工程机械', '钢铁行业', '家用轻工', '文化传媒', '农牧饲渔', '保险', '装修建材', '化学制药', '化纤行业', '采掘行业', '玻璃玻纤', '游戏', '房地产开发', '电网设备', '小金属', '光学光电子', '交运设备', '石油行业', '通信服务']),\n",
       "  'day_of_week': ListWrapper(['Thursday', 'Friday', 'Monday', 'Tuesday', 'Wednesday']),\n",
       "  'season': ListWrapper(['Winter', 'Spring', 'Summer', 'Autumn'])},\n",
       " 'feature_embedding_dims': 6,\n",
       " 'task_type': ListWrapper(['reg'])}"
      ]
     },
     "execution_count": 9,
     "metadata": {},
     "output_type": "execute_result"
    }
   ],
   "source": [
    "model_config"
   ]
  },
  {
   "cell_type": "code",
   "execution_count": null,
   "metadata": {},
   "outputs": [],
   "source": []
  }
 ],
 "metadata": {
  "kernelspec": {
   "display_name": ".venv",
   "language": "python",
   "name": "python3"
  },
  "language_info": {
   "codemirror_mode": {
    "name": "ipython",
    "version": 3
   },
   "file_extension": ".py",
   "mimetype": "text/x-python",
   "name": "python",
   "nbconvert_exporter": "python",
   "pygments_lexer": "ipython3",
   "version": "3.10.13"
  }
 },
 "nbformat": 4,
 "nbformat_minor": 2
}
