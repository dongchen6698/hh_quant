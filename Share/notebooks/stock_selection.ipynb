{
 "cells": [
  {
   "cell_type": "code",
   "execution_count": 1,
   "metadata": {},
   "outputs": [
    {
     "name": "stdout",
     "output_type": "stream",
     "text": [
      "Python 3.8.10\n"
     ]
    }
   ],
   "source": [
    "import sys\n",
    "sys.path.append('../')\n",
    "\n",
    "import warnings\n",
    "warnings.filterwarnings(\"ignore\")\n",
    "\n",
    "import os\n",
    "import pandas as pd\n",
    "import numpy as np\n",
    "import akshare as ak\n",
    "import sqlite3\n",
    "import matplotlib.pyplot as plt\n",
    "%matplotlib inline\n",
    "\n",
    "from datetime import datetime\n",
    "from dateutil.relativedelta import relativedelta\n",
    "from tqdm import tqdm\n",
    "from database.downloader.downloader_base import DownloaderBase\n",
    "import database.database_config as db_config\n",
    "\n",
    "pd.options.display.max_rows=None\n",
    "pd.options.display.max_columns=None\n",
    "\n",
    "!python --version"
   ]
  },
  {
   "cell_type": "code",
   "execution_count": 2,
   "metadata": {},
   "outputs": [
    {
     "name": "stderr",
     "output_type": "stream",
     "text": [
      "2024-03-28 06:01:40.266438: I tensorflow/core/platform/cpu_feature_guard.cc:182] This TensorFlow binary is optimized to use available CPU instructions in performance-critical operations.\n",
      "To enable the following instructions: AVX2 FMA, in other operations, rebuild TensorFlow with the appropriate compiler flags.\n",
      "2024-03-28 06:01:41.222157: W tensorflow/compiler/tf2tensorrt/utils/py_utils.cc:38] TF-TRT Warning: Could not find TensorRT\n"
     ]
    },
    {
     "name": "stdout",
     "output_type": "stream",
     "text": [
      "Tensorflow Version: 2.13.1\n",
      "TensorFlow GPU version is installed\n",
      "GPU devices available: [PhysicalDevice(name='/physical_device:GPU:0', device_type='GPU')]\n"
     ]
    }
   ],
   "source": [
    "import tensorflow as tf\n",
    "\n",
    "# 只使用CPU进行训练\n",
    "tf.config.set_visible_devices([], 'GPU')\n",
    "\n",
    "# 打印Tensorflow版本\n",
    "print(f\"Tensorflow Version: {tf.__version__}\")\n",
    "\n",
    "# 检查是否有可用的GPU设备\n",
    "if tf.test.is_built_with_cuda():\n",
    "    print(\"TensorFlow GPU version is installed\")\n",
    "else:\n",
    "    print(\"TensorFlow CPU version is installed\")\n",
    "\n",
    "# 检查TensorFlow是否能够访问GPU\n",
    "gpus = tf.config.list_physical_devices('GPU')\n",
    "if gpus:\n",
    "    print(\"GPU devices available:\", gpus)\n",
    "else:\n",
    "    print(\"No GPU devices found. Running on CPU.\")\n",
    "\n",
    "# !nvidia-smi"
   ]
  },
  {
   "cell_type": "code",
   "execution_count": 3,
   "metadata": {},
   "outputs": [],
   "source": [
    "# 绘图相关函数\n",
    "def plot_series_dist(series):\n",
    "    data = series\n",
    "    # 使用matplotlib画直方图\n",
    "    plt.hist(data, bins=60, edgecolor='k', alpha=0.7)\n",
    "    plt.xlabel('Value')\n",
    "    plt.ylabel('Frequency')\n",
    "    plt.title('Histogram of Data')\n",
    "    plt.show()"
   ]
  },
  {
   "cell_type": "code",
   "execution_count": 4,
   "metadata": {},
   "outputs": [],
   "source": [
    "class PreProcessing:\n",
    "    def __init__(self, db_downloader:DownloaderBase) -> None:\n",
    "        self.db_downloader = db_downloader\n",
    "\n",
    "    def _build_reg_label(self, stock_dataframe):\n",
    "        N = 5 # 最大持仓周期 = N天，第N+1天开盘卖出\n",
    "        df = stock_dataframe.copy()\n",
    "        # 标签构建\n",
    "        df['label'] = df['open'].shift(-N-1) / df['open'].shift(-1) - 1 # 计算第N日收益率\n",
    "        # 极值处理 - quantile处理\n",
    "        df['label'] = np.clip(\n",
    "            df['label'], \n",
    "            np.nanquantile(df['label'], 0.01), \n",
    "            np.nanquantile(df['label'], 0.99),\n",
    "            )\n",
    "        # 过滤第二天一字涨停情况\n",
    "        df = df[df['high'].shift(-1) != df['low'].shift(-1)]\n",
    "        return df[['datetime', 'label']]\n",
    "    \n",
    "    # def _build_reg_label(self, stock_dataframe):\n",
    "    #     N = 10  # 最大持仓周期 = N天\n",
    "    #     df = stock_dataframe.copy()\n",
    "    #     # 计算未来N天内的最高收盘价\n",
    "    #     df['max_open_future'] = df['open'].shift(-N).rolling(window=N).max()\n",
    "    #     # 计算标签：即未来N天内最大收益率\n",
    "    #     df['label'] = df['max_open_future'] / df['open'].shift(-1) - 1\n",
    "    #     # 可选的极值处理 - quantile处理\n",
    "    #     df['label'] = np.clip(\n",
    "    #         df['label'],\n",
    "    #         np.nanquantile(df['label'], 0.01),\n",
    "    #         np.nanquantile(df['label'], 0.99),\n",
    "    #     )\n",
    "    #     # 过滤第二天一字涨停情况\n",
    "    #     df = df[df['high'].shift(-1) != df['low'].shift(-1)]\n",
    "    #     return df[['datetime', 'label']]\n",
    "\n",
    "    def _process_one_stock(self, stock_code, start_date, end_date):\n",
    "        stock_base = self.db_downloader._download_stock_base_info(stock_code) # 获取基础代码\n",
    "        stock_individual = self.db_downloader._download_stock_individual_info(stock_code) # 获取profile信息\n",
    "        stock_history = self.db_downloader._download_stock_history_info(stock_code, start_date, end_date) # 获取历史行情\n",
    "        stock_indicator = self.db_downloader._download_stock_indicator_info(stock_code, start_date, end_date) # 获取指标数据\n",
    "        stock_factor_date = self.db_downloader._download_stock_factor_date_info() # 获取日期特征\n",
    "        stock_factor_qlib = self.db_downloader._download_stock_factor_qlib_info(stock_code, start_date, end_date) # 获取量价特征\n",
    "        stock_label = self._build_reg_label(stock_history) # 构建Label\n",
    "        stock_df = stock_base.merge(stock_individual, on=['stock_code']).merge(stock_history, on=['stock_code']).merge(stock_indicator, on=['stock_code', 'datetime']).merge(stock_label, on=['datetime']).merge(stock_factor_date, on=['datetime']).merge(stock_factor_qlib, on=['stock_code', 'datetime']) # 整合数据\n",
    "        stock_df = stock_base \\\n",
    "            .merge(stock_individual, on=['stock_code', 'stock_name']) \\\n",
    "            .merge(stock_history, on=['stock_code']) \\\n",
    "            .merge(stock_indicator, on=['stock_code', 'datetime']) \\\n",
    "            .merge(stock_label, on=['datetime']) \\\n",
    "            .merge(stock_factor_date, on=['datetime']) \\\n",
    "            .merge(stock_factor_qlib, on=['stock_code', 'datetime']) # 整合数据\n",
    "        stock_df = stock_df.dropna()\n",
    "        return stock_df\n",
    "    \n",
    "    def _process_all_stock(self, code_type, start_date, end_date):\n",
    "        # stock_code_list = list(ak.stock_info_a_code_name()['code'].unique()) # 获取A股所有股票列表\n",
    "        stock_code_list = list(ak.index_stock_cons(code_type)['品种代码'].unique()) # 获取沪深300的股票代码列表\n",
    "        stock_df_list = []\n",
    "        for stock_code in tqdm(stock_code_list, desc=f'Process: {code_type} ...'):\n",
    "            stock_df = self._process_one_stock(stock_code, start_date, end_date)\n",
    "            if not stock_df.empty:\n",
    "                stock_df_list.append(stock_df)\n",
    "        return pd.concat(stock_df_list)"
   ]
  },
  {
   "cell_type": "code",
   "execution_count": 5,
   "metadata": {},
   "outputs": [],
   "source": [
    "db_conn = sqlite3.connect('../database/hh_quant.db')\n",
    "db_downloader = DownloaderBase(db_conn, db_config)\n",
    "proprocessor = PreProcessing(db_downloader=db_downloader)"
   ]
  },
  {
   "cell_type": "code",
   "execution_count": 67,
   "metadata": {},
   "outputs": [
    {
     "name": "stderr",
     "output_type": "stream",
     "text": [
      "Process: 000905 ...: 100%|██████████| 430/430 [01:07<00:00,  6.35it/s]\n"
     ]
    }
   ],
   "source": [
    "benchmark = '000905'\n",
    "df = proprocessor._process_all_stock(code_type=benchmark, start_date='20130101', end_date='20231231')\n",
    "# df = proprocessor._process_one_stock('601398', start_date='20130101', end_date='20181231')\n",
    "# df = proprocessor.db_downloader._download_stock_history_info('601398', start_date='20130101', end_date='20181231')"
   ]
  },
  {
   "cell_type": "code",
   "execution_count": 68,
   "metadata": {},
   "outputs": [
    {
     "data": {
      "text/plain": [
       "(826230, 207)"
      ]
     },
     "execution_count": 68,
     "metadata": {},
     "output_type": "execute_result"
    }
   ],
   "source": [
    "df.shape"
   ]
  },
  {
   "cell_type": "code",
   "execution_count": 69,
   "metadata": {},
   "outputs": [
    {
     "name": "stdout",
     "output_type": "stream",
     "text": [
      "train_data_size: (357834, 207)\n",
      "validation_data_size: (271740, 207)\n"
     ]
    }
   ],
   "source": [
    "def extract_train_val_data(df, train_start_date, train_end_date, val_start_date, val_end_date):\n",
    "    train_start_date = pd.to_datetime(train_start_date)\n",
    "    train_end_date = pd.to_datetime(train_end_date)\n",
    "    val_start_date = pd.to_datetime(val_start_date)\n",
    "    val_end_date = pd.to_datetime(val_end_date)\n",
    "    train_data = df[(pd.to_datetime(df['datetime']) >= train_start_date) & (pd.to_datetime(df['datetime']) <= train_end_date)]\n",
    "    val_data = df[(pd.to_datetime(df['datetime']) >= val_start_date) & (pd.to_datetime(df['datetime']) <= val_end_date)]\n",
    "\n",
    "    print(f\"train_data_size: {train_data.shape}\")\n",
    "    print(f\"validation_data_size: {val_data.shape}\")\n",
    "    return train_data, val_data\n",
    "\n",
    "sample_dates = ['20130101', '20181231', '20190101', '20211231']\n",
    "train_data, val_data = extract_train_val_data(df, *sample_dates)"
   ]
  },
  {
   "cell_type": "code",
   "execution_count": 78,
   "metadata": {},
   "outputs": [],
   "source": [
    "feature_config = {\n",
    "    \"target_features\": [\"label\"],\n",
    "    \"numeric_features\": ['turnover_rate', 'pe_ttm', 'ps_ttm', 'pcf_ncf_ttm', 'pb_mrq', 'KMID', 'KLEN', 'KMID2', 'KUP', 'KUP2', 'KLOW', 'KLOW2', 'KSFT', 'KSFT2', 'OPEN0', 'OPEN1', 'OPEN2', 'OPEN3', 'OPEN4', 'HIGH0', 'HIGH1', 'HIGH2', 'HIGH3', 'HIGH4', 'LOW0', 'LOW1', 'LOW2', 'LOW3', 'LOW4', 'CLOSE1', 'CLOSE2', 'CLOSE3', 'CLOSE4', 'VOLUME1', 'VOLUME2', 'VOLUME3', 'VOLUME4', 'ROC5', 'ROC10', 'ROC20', 'ROC30', 'ROC60', 'MAX5', 'MAX10', 'MAX20', 'MAX30', 'MAX60', 'MIN5', 'MIN10', 'MIN20', 'MIN30', 'MIN60', 'MA5', 'MA10', 'MA20', 'MA30', 'MA60', 'STD5', 'STD10', 'STD20', 'STD30', 'STD60', 'BETA5', 'BETA10', 'BETA20', 'BETA30', 'BETA60', 'RSQR5', 'RSQR10', 'RSQR20', 'RSQR30', 'RSQR60', 'RESI5', 'RESI10', 'RESI20', 'RESI30', 'RESI60', 'QTLU5', 'QTLU10', 'QTLU20', 'QTLU30', 'QTLU60', 'QTLD5', 'QTLD10', 'QTLD20', 'QTLD30', 'QTLD60', 'TSRANK5', 'TSRANK10', 'TSRANK20', 'TSRANK30', 'TSRANK60', 'RSV5', 'RSV10', 'RSV20', 'RSV30', 'RSV60', 'IMAX5', 'IMAX10', 'IMAX20', 'IMAX30', 'IMAX60', 'IMIN5', 'IMIN10', 'IMIN20', 'IMIN30', 'IMIN60', 'IMXD5', 'IMXD10', 'IMXD20', 'IMXD30', 'IMXD60', 'CORR5', 'CORR10', 'CORR20', 'CORR30', 'CORR60', 'CORD5', 'CORD10', 'CORD20', 'CORD30', 'CORD60', 'CNTP5', 'CNTP10', 'CNTP20', 'CNTP30', 'CNTP60', 'CNTN5', 'CNTN10', 'CNTN20', 'CNTN30', 'CNTN60', 'CNTD5', 'CNTD10', 'CNTD20', 'CNTD30', 'CNTD60', 'SUMP5', 'SUMP10', 'SUMP20', 'SUMP30', 'SUMP60', 'SUMN5', 'SUMN10', 'SUMN20', 'SUMN30', 'SUMN60', 'SUMD5', 'SUMD10', 'SUMD20', 'SUMD30', 'SUMD60', 'VMA5', 'VMA10', 'VMA20', 'VMA30', 'VMA60', 'VSTD5', 'VSTD10', 'VSTD20', 'VSTD30', 'VSTD60', 'WVMA5', 'WVMA10', 'WVMA20', 'WVMA30', 'WVMA60', 'VSUMP5', 'VSUMP10', 'VSUMP20', 'VSUMP30', 'VSUMP60', 'VSUMN5', 'VSUMN10', 'VSUMN20', 'VSUMN30', 'VSUMN60', 'VSUMD5', 'VSUMD10', 'VSUMD20', 'VSUMD30', 'VSUMD60'],\n",
    "    \"integer_categorical_features\": ['month'],\n",
    "    \"string_categorical_features\": ['industry', 'season'],\n",
    "}\n",
    "features_columns = feature_config.get('numeric_features', []) + \\\n",
    "                        feature_config.get('integer_categorical_features', []) + \\\n",
    "                        feature_config.get('string_categorical_features', [])\n",
    "label_columns = feature_config.get('target_features', [])\n",
    "\n",
    "full_columns = features_columns + label_columns\n",
    "\n",
    "train_df, val_df = train_data[full_columns], val_data[full_columns]"
   ]
  },
  {
   "cell_type": "code",
   "execution_count": 79,
   "metadata": {},
   "outputs": [],
   "source": [
    "from sklearn.pipeline import Pipeline\n",
    "from sklearn.preprocessing import QuantileTransformer, KBinsDiscretizer, StandardScaler\n",
    "\n",
    "preprocessing_pipeline = Pipeline([\n",
    "        ('quantile_transformer', QuantileTransformer(output_distribution='uniform', n_quantiles=1000)),\n",
    "    ])\n",
    "\n",
    "numeric_feature_columns = feature_config.get('numeric_features', [])\n",
    "train_df[numeric_feature_columns] = preprocessing_pipeline.fit_transform(train_df[numeric_feature_columns])\n",
    "val_df[numeric_feature_columns] = preprocessing_pipeline.transform(val_df[numeric_feature_columns])"
   ]
  },
  {
   "cell_type": "code",
   "execution_count": 59,
   "metadata": {},
   "outputs": [],
   "source": [
    "def df_to_dataset(dataframe, feature_cols, label_cols, shuffle=True, batch_size=32):\n",
    "    features = dataframe[feature_cols]\n",
    "    labels = dataframe[label_cols]\n",
    "    ds = tf.data.Dataset.from_tensor_slices((dict(features), labels))\n",
    "    if shuffle:\n",
    "        ds = ds.shuffle(buffer_size=min(len(features), 10000))\n",
    "    ds = ds.cache().batch(batch_size).prefetch(tf.data.AUTOTUNE)\n",
    "    return ds\n",
    "\n",
    "batch_size = 512\n",
    "train_ds = df_to_dataset(train_df, features_columns, label_columns, shuffle=True, batch_size=batch_size)\n",
    "val_ds = df_to_dataset(val_df, features_columns, label_columns, shuffle=False, batch_size=batch_size)"
   ]
  },
  {
   "cell_type": "code",
   "execution_count": 60,
   "metadata": {},
   "outputs": [
    {
     "name": "stdout",
     "output_type": "stream",
     "text": [
      "Epoch 1/500\n"
     ]
    },
    {
     "name": "stderr",
     "output_type": "stream",
     "text": [
      "2024-03-28 07:26:32.470106: I tensorflow/core/kernels/data/shuffle_dataset_op.cc:422] Filling up shuffle buffer (this may take a while): 156472 of 357834\n",
      "2024-03-28 07:26:42.470075: I tensorflow/core/kernels/data/shuffle_dataset_op.cc:422] Filling up shuffle buffer (this may take a while): 312886 of 357834\n"
     ]
    },
    {
     "name": "stdout",
     "output_type": "stream",
     "text": [
      "  1/699 [..............................] - ETA: 5:02:35 - loss: 1.5664 - mean_absolute_error: 1.4249 - mean_squared_error: 3.2195"
     ]
    },
    {
     "name": "stderr",
     "output_type": "stream",
     "text": [
      "2024-03-28 07:26:45.331942: I tensorflow/core/kernels/data/shuffle_dataset_op.cc:450] Shuffle buffer filled.\n"
     ]
    },
    {
     "name": "stdout",
     "output_type": "stream",
     "text": [
      "699/699 [==============================] - 82s 80ms/step - loss: 0.2969 - mean_absolute_error: 0.1975 - mean_squared_error: 0.1723 - val_loss: 0.1384 - val_mean_absolute_error: 0.0736 - val_mean_squared_error: 0.0086\n",
      "Epoch 2/500\n"
     ]
    },
    {
     "name": "stderr",
     "output_type": "stream",
     "text": [
      "2024-03-28 07:27:51.335042: I tensorflow/core/kernels/data/shuffle_dataset_op.cc:422] Filling up shuffle buffer (this may take a while): 158517 of 357834\n",
      "2024-03-28 07:28:01.335045: I tensorflow/core/kernels/data/shuffle_dataset_op.cc:422] Filling up shuffle buffer (this may take a while): 314383 of 357834\n"
     ]
    },
    {
     "name": "stdout",
     "output_type": "stream",
     "text": [
      "  5/699 [..............................] - ETA: 24s - loss: 0.1292 - mean_absolute_error: 0.0646 - mean_squared_error: 0.0168   "
     ]
    },
    {
     "name": "stderr",
     "output_type": "stream",
     "text": [
      "2024-03-28 07:28:04.055885: I tensorflow/core/kernels/data/shuffle_dataset_op.cc:450] Shuffle buffer filled.\n"
     ]
    },
    {
     "name": "stdout",
     "output_type": "stream",
     "text": [
      "699/699 [==============================] - 71s 69ms/step - loss: 0.0970 - mean_absolute_error: 0.0551 - mean_squared_error: 0.0123 - val_loss: 0.0727 - val_mean_absolute_error: 0.0482 - val_mean_squared_error: 0.0043\n",
      "Epoch 3/500\n"
     ]
    },
    {
     "name": "stderr",
     "output_type": "stream",
     "text": [
      "2024-03-28 07:29:02.122704: I tensorflow/core/kernels/data/shuffle_dataset_op.cc:422] Filling up shuffle buffer (this may take a while): 161262 of 357834\n",
      "2024-03-28 07:29:12.122720: I tensorflow/core/kernels/data/shuffle_dataset_op.cc:422] Filling up shuffle buffer (this may take a while): 316069 of 357834\n"
     ]
    },
    {
     "name": "stdout",
     "output_type": "stream",
     "text": [
      "  5/699 [..............................] - ETA: 25s - loss: 0.0729 - mean_absolute_error: 0.0485 - mean_squared_error: 0.0042   "
     ]
    },
    {
     "name": "stderr",
     "output_type": "stream",
     "text": [
      "2024-03-28 07:29:14.886918: I tensorflow/core/kernels/data/shuffle_dataset_op.cc:450] Shuffle buffer filled.\n"
     ]
    },
    {
     "name": "stdout",
     "output_type": "stream",
     "text": [
      "699/699 [==============================] - 72s 70ms/step - loss: 0.0625 - mean_absolute_error: 0.0472 - mean_squared_error: 0.0040 - val_loss: 0.0555 - val_mean_absolute_error: 0.0467 - val_mean_squared_error: 0.0041\n",
      "Epoch 4/500\n"
     ]
    },
    {
     "name": "stderr",
     "output_type": "stream",
     "text": [
      "2024-03-28 07:30:14.156965: I tensorflow/core/kernels/data/shuffle_dataset_op.cc:422] Filling up shuffle buffer (this may take a while): 169316 of 357834\n",
      "2024-03-28 07:30:24.156940: I tensorflow/core/kernels/data/shuffle_dataset_op.cc:422] Filling up shuffle buffer (this may take a while): 326937 of 357834\n"
     ]
    },
    {
     "name": "stdout",
     "output_type": "stream",
     "text": [
      "  5/699 [..............................] - ETA: 24s - loss: 0.0530 - mean_absolute_error: 0.0443 - mean_squared_error: 0.0036   "
     ]
    },
    {
     "name": "stderr",
     "output_type": "stream",
     "text": [
      "2024-03-28 07:30:26.147127: I tensorflow/core/kernels/data/shuffle_dataset_op.cc:450] Shuffle buffer filled.\n"
     ]
    },
    {
     "name": "stdout",
     "output_type": "stream",
     "text": [
      "699/699 [==============================] - 70s 69ms/step - loss: 0.0514 - mean_absolute_error: 0.0458 - mean_squared_error: 0.0038 - val_loss: 0.0515 - val_mean_absolute_error: 0.0481 - val_mean_squared_error: 0.0042\n",
      "Epoch 5/500\n"
     ]
    },
    {
     "name": "stderr",
     "output_type": "stream",
     "text": [
      "2024-03-28 07:31:24.546940: I tensorflow/core/kernels/data/shuffle_dataset_op.cc:422] Filling up shuffle buffer (this may take a while): 165746 of 357834\n",
      "2024-03-28 07:31:34.546938: I tensorflow/core/kernels/data/shuffle_dataset_op.cc:422] Filling up shuffle buffer (this may take a while): 317763 of 357834\n"
     ]
    },
    {
     "name": "stdout",
     "output_type": "stream",
     "text": [
      "  5/699 [..............................] - ETA: 25s - loss: 0.0493 - mean_absolute_error: 0.0460 - mean_squared_error: 0.0038   "
     ]
    },
    {
     "name": "stderr",
     "output_type": "stream",
     "text": [
      "2024-03-28 07:31:38.459045: I tensorflow/core/kernels/data/shuffle_dataset_op.cc:450] Shuffle buffer filled.\n"
     ]
    },
    {
     "name": "stdout",
     "output_type": "stream",
     "text": [
      "699/699 [==============================] - 72s 69ms/step - loss: 0.0471 - mean_absolute_error: 0.0448 - mean_squared_error: 0.0037 - val_loss: 0.0490 - val_mean_absolute_error: 0.0474 - val_mean_squared_error: 0.0043\n",
      "Epoch 6/500\n"
     ]
    },
    {
     "name": "stderr",
     "output_type": "stream",
     "text": [
      "2024-03-28 07:32:37.021230: I tensorflow/core/kernels/data/shuffle_dataset_op.cc:422] Filling up shuffle buffer (this may take a while): 166937 of 357834\n",
      "2024-03-28 07:32:47.021249: I tensorflow/core/kernels/data/shuffle_dataset_op.cc:422] Filling up shuffle buffer (this may take a while): 331851 of 357834\n"
     ]
    },
    {
     "name": "stdout",
     "output_type": "stream",
     "text": [
      "  5/699 [..............................] - ETA: 22s - loss: 0.0467 - mean_absolute_error: 0.0451 - mean_squared_error: 0.0037   "
     ]
    },
    {
     "name": "stderr",
     "output_type": "stream",
     "text": [
      "2024-03-28 07:32:48.680777: I tensorflow/core/kernels/data/shuffle_dataset_op.cc:450] Shuffle buffer filled.\n"
     ]
    },
    {
     "name": "stdout",
     "output_type": "stream",
     "text": [
      "699/699 [==============================] - 69s 68ms/step - loss: 0.0453 - mean_absolute_error: 0.0440 - mean_squared_error: 0.0036 - val_loss: 0.0482 - val_mean_absolute_error: 0.0472 - val_mean_squared_error: 0.0043\n",
      "Epoch 7/500\n"
     ]
    },
    {
     "name": "stderr",
     "output_type": "stream",
     "text": [
      "2024-03-28 07:33:46.335741: I tensorflow/core/kernels/data/shuffle_dataset_op.cc:422] Filling up shuffle buffer (this may take a while): 165948 of 357834\n",
      "2024-03-28 07:33:56.335718: I tensorflow/core/kernels/data/shuffle_dataset_op.cc:422] Filling up shuffle buffer (this may take a while): 327968 of 357834\n"
     ]
    },
    {
     "name": "stdout",
     "output_type": "stream",
     "text": [
      "  5/699 [..............................] - ETA: 23s - loss: 0.0449 - mean_absolute_error: 0.0439 - mean_squared_error: 0.0036   "
     ]
    },
    {
     "name": "stderr",
     "output_type": "stream",
     "text": [
      "2024-03-28 07:33:58.342889: I tensorflow/core/kernels/data/shuffle_dataset_op.cc:450] Shuffle buffer filled.\n"
     ]
    },
    {
     "name": "stdout",
     "output_type": "stream",
     "text": [
      "699/699 [==============================] - 67s 65ms/step - loss: 0.0444 - mean_absolute_error: 0.0435 - mean_squared_error: 0.0035 - val_loss: 0.0492 - val_mean_absolute_error: 0.0484 - val_mean_squared_error: 0.0042\n",
      "Epoch 8/500\n"
     ]
    },
    {
     "name": "stderr",
     "output_type": "stream",
     "text": [
      "2024-03-28 07:34:53.868755: I tensorflow/core/kernels/data/shuffle_dataset_op.cc:422] Filling up shuffle buffer (this may take a while): 169137 of 357834\n",
      "2024-03-28 07:35:03.868792: I tensorflow/core/kernels/data/shuffle_dataset_op.cc:422] Filling up shuffle buffer (this may take a while): 337194 of 357834\n"
     ]
    },
    {
     "name": "stdout",
     "output_type": "stream",
     "text": [
      "  5/699 [..............................] - ETA: 20s - loss: 0.0437 - mean_absolute_error: 0.0429 - mean_squared_error: 0.0034   "
     ]
    },
    {
     "name": "stderr",
     "output_type": "stream",
     "text": [
      "2024-03-28 07:35:05.157274: I tensorflow/core/kernels/data/shuffle_dataset_op.cc:450] Shuffle buffer filled.\n"
     ]
    },
    {
     "name": "stdout",
     "output_type": "stream",
     "text": [
      "699/699 [==============================] - 68s 67ms/step - loss: 0.0440 - mean_absolute_error: 0.0432 - mean_squared_error: 0.0035 - val_loss: 0.0478 - val_mean_absolute_error: 0.0470 - val_mean_squared_error: 0.0041\n",
      "Epoch 9/500\n"
     ]
    },
    {
     "name": "stderr",
     "output_type": "stream",
     "text": [
      "2024-03-28 07:36:02.206458: I tensorflow/core/kernels/data/shuffle_dataset_op.cc:422] Filling up shuffle buffer (this may take a while): 168504 of 357834\n",
      "2024-03-28 07:36:12.206501: I tensorflow/core/kernels/data/shuffle_dataset_op.cc:422] Filling up shuffle buffer (this may take a while): 331216 of 357834\n"
     ]
    },
    {
     "name": "stdout",
     "output_type": "stream",
     "text": [
      "  3/699 [..............................] - ETA: 28s - loss: 0.0428 - mean_absolute_error: 0.0420 - mean_squared_error: 0.0033    "
     ]
    },
    {
     "name": "stderr",
     "output_type": "stream",
     "text": [
      "2024-03-28 07:36:14.146575: I tensorflow/core/kernels/data/shuffle_dataset_op.cc:450] Shuffle buffer filled.\n"
     ]
    },
    {
     "name": "stdout",
     "output_type": "stream",
     "text": [
      "699/699 [==============================] - 75s 76ms/step - loss: 0.0434 - mean_absolute_error: 0.0426 - mean_squared_error: 0.0034 - val_loss: 0.0536 - val_mean_absolute_error: 0.0529 - val_mean_squared_error: 0.0050\n",
      "Epoch 10/500\n"
     ]
    },
    {
     "name": "stderr",
     "output_type": "stream",
     "text": [
      "2024-03-28 07:37:17.048994: I tensorflow/core/kernels/data/shuffle_dataset_op.cc:422] Filling up shuffle buffer (this may take a while): 166563 of 357834\n",
      "2024-03-28 07:37:27.048940: I tensorflow/core/kernels/data/shuffle_dataset_op.cc:422] Filling up shuffle buffer (this may take a while): 330154 of 357834\n"
     ]
    },
    {
     "name": "stdout",
     "output_type": "stream",
     "text": [
      "  5/699 [..............................] - ETA: 23s - loss: 0.0441 - mean_absolute_error: 0.0434 - mean_squared_error: 0.0035   "
     ]
    },
    {
     "name": "stderr",
     "output_type": "stream",
     "text": [
      "2024-03-28 07:37:29.008485: I tensorflow/core/kernels/data/shuffle_dataset_op.cc:450] Shuffle buffer filled.\n"
     ]
    },
    {
     "name": "stdout",
     "output_type": "stream",
     "text": [
      "699/699 [==============================] - 75s 75ms/step - loss: 0.0430 - mean_absolute_error: 0.0423 - mean_squared_error: 0.0033 - val_loss: 0.0501 - val_mean_absolute_error: 0.0494 - val_mean_squared_error: 0.0043\n",
      "Epoch 11/500\n"
     ]
    },
    {
     "name": "stderr",
     "output_type": "stream",
     "text": [
      "2024-03-28 07:38:31.928431: I tensorflow/core/kernels/data/shuffle_dataset_op.cc:422] Filling up shuffle buffer (this may take a while): 164626 of 357834\n",
      "2024-03-28 07:38:41.928410: I tensorflow/core/kernels/data/shuffle_dataset_op.cc:422] Filling up shuffle buffer (this may take a while): 326368 of 357834\n"
     ]
    },
    {
     "name": "stdout",
     "output_type": "stream",
     "text": [
      "  3/699 [..............................] - ETA: 26s - loss: 0.0414 - mean_absolute_error: 0.0407 - mean_squared_error: 0.0030    "
     ]
    },
    {
     "name": "stderr",
     "output_type": "stream",
     "text": [
      "2024-03-28 07:38:44.129358: I tensorflow/core/kernels/data/shuffle_dataset_op.cc:450] Shuffle buffer filled.\n"
     ]
    },
    {
     "name": "stdout",
     "output_type": "stream",
     "text": [
      "699/699 [==============================] - 69s 67ms/step - loss: 0.0426 - mean_absolute_error: 0.0420 - mean_squared_error: 0.0033 - val_loss: 0.0488 - val_mean_absolute_error: 0.0482 - val_mean_squared_error: 0.0042\n",
      "Epoch 12/500\n"
     ]
    },
    {
     "name": "stderr",
     "output_type": "stream",
     "text": [
      "2024-03-28 07:39:41.085921: I tensorflow/core/kernels/data/shuffle_dataset_op.cc:422] Filling up shuffle buffer (this may take a while): 161570 of 357834\n",
      "2024-03-28 07:39:51.085855: I tensorflow/core/kernels/data/shuffle_dataset_op.cc:422] Filling up shuffle buffer (this may take a while): 315333 of 357834\n"
     ]
    },
    {
     "name": "stdout",
     "output_type": "stream",
     "text": [
      "  3/699 [..............................] - ETA: 27s - loss: 0.0426 - mean_absolute_error: 0.0420 - mean_squared_error: 0.0032    "
     ]
    },
    {
     "name": "stderr",
     "output_type": "stream",
     "text": [
      "2024-03-28 07:39:53.934237: I tensorflow/core/kernels/data/shuffle_dataset_op.cc:450] Shuffle buffer filled.\n"
     ]
    },
    {
     "name": "stdout",
     "output_type": "stream",
     "text": [
      "699/699 [==============================] - 78s 79ms/step - loss: 0.0425 - mean_absolute_error: 0.0419 - mean_squared_error: 0.0033 - val_loss: 0.0534 - val_mean_absolute_error: 0.0528 - val_mean_squared_error: 0.0047\n",
      "Epoch 13/500\n"
     ]
    },
    {
     "name": "stderr",
     "output_type": "stream",
     "text": [
      "2024-03-28 07:40:59.484511: I tensorflow/core/kernels/data/shuffle_dataset_op.cc:422] Filling up shuffle buffer (this may take a while): 163095 of 357834\n",
      "2024-03-28 07:41:09.484521: I tensorflow/core/kernels/data/shuffle_dataset_op.cc:422] Filling up shuffle buffer (this may take a while): 322694 of 357834\n"
     ]
    },
    {
     "name": "stdout",
     "output_type": "stream",
     "text": [
      "  5/699 [..............................] - ETA: 26s - loss: 0.0419 - mean_absolute_error: 0.0413 - mean_squared_error: 0.0032   "
     ]
    },
    {
     "name": "stderr",
     "output_type": "stream",
     "text": [
      "2024-03-28 07:41:11.855474: I tensorflow/core/kernels/data/shuffle_dataset_op.cc:450] Shuffle buffer filled.\n"
     ]
    },
    {
     "name": "stdout",
     "output_type": "stream",
     "text": [
      "699/699 [==============================] - 74s 74ms/step - loss: 0.0422 - mean_absolute_error: 0.0417 - mean_squared_error: 0.0033 - val_loss: 0.0468 - val_mean_absolute_error: 0.0463 - val_mean_squared_error: 0.0041\n",
      "Epoch 14/500\n"
     ]
    },
    {
     "name": "stderr",
     "output_type": "stream",
     "text": [
      "2024-03-28 07:42:13.803853: I tensorflow/core/kernels/data/shuffle_dataset_op.cc:422] Filling up shuffle buffer (this may take a while): 164020 of 357834\n",
      "2024-03-28 07:42:23.803859: I tensorflow/core/kernels/data/shuffle_dataset_op.cc:422] Filling up shuffle buffer (this may take a while): 318545 of 357834\n"
     ]
    },
    {
     "name": "stdout",
     "output_type": "stream",
     "text": [
      "  5/699 [..............................] - ETA: 26s - loss: 0.0415 - mean_absolute_error: 0.0410 - mean_squared_error: 0.0032   "
     ]
    },
    {
     "name": "stderr",
     "output_type": "stream",
     "text": [
      "2024-03-28 07:42:26.577229: I tensorflow/core/kernels/data/shuffle_dataset_op.cc:450] Shuffle buffer filled.\n"
     ]
    },
    {
     "name": "stdout",
     "output_type": "stream",
     "text": [
      "699/699 [==============================] - 72s 70ms/step - loss: 0.0419 - mean_absolute_error: 0.0413 - mean_squared_error: 0.0032 - val_loss: 0.0472 - val_mean_absolute_error: 0.0466 - val_mean_squared_error: 0.0042\n",
      "Epoch 15/500\n"
     ]
    },
    {
     "name": "stderr",
     "output_type": "stream",
     "text": [
      "2024-03-28 07:43:25.424346: I tensorflow/core/kernels/data/shuffle_dataset_op.cc:422] Filling up shuffle buffer (this may take a while): 162557 of 357834\n",
      "2024-03-28 07:43:35.424340: I tensorflow/core/kernels/data/shuffle_dataset_op.cc:422] Filling up shuffle buffer (this may take a while): 325270 of 357834\n"
     ]
    },
    {
     "name": "stdout",
     "output_type": "stream",
     "text": [
      "  5/699 [..............................] - ETA: 24s - loss: 0.0405 - mean_absolute_error: 0.0400 - mean_squared_error: 0.0030   "
     ]
    },
    {
     "name": "stderr",
     "output_type": "stream",
     "text": [
      "2024-03-28 07:43:37.604598: I tensorflow/core/kernels/data/shuffle_dataset_op.cc:450] Shuffle buffer filled.\n"
     ]
    },
    {
     "name": "stdout",
     "output_type": "stream",
     "text": [
      "699/699 [==============================] - 68s 66ms/step - loss: 0.0418 - mean_absolute_error: 0.0413 - mean_squared_error: 0.0032 - val_loss: 0.0466 - val_mean_absolute_error: 0.0461 - val_mean_squared_error: 0.0040\n",
      "Epoch 16/500\n"
     ]
    },
    {
     "name": "stderr",
     "output_type": "stream",
     "text": [
      "2024-03-28 07:44:33.437781: I tensorflow/core/kernels/data/shuffle_dataset_op.cc:422] Filling up shuffle buffer (this may take a while): 164791 of 357834\n",
      "2024-03-28 07:44:43.437763: I tensorflow/core/kernels/data/shuffle_dataset_op.cc:422] Filling up shuffle buffer (this may take a while): 329010 of 357834\n"
     ]
    },
    {
     "name": "stdout",
     "output_type": "stream",
     "text": [
      "  5/699 [..............................] - ETA: 26s - loss: 0.0409 - mean_absolute_error: 0.0404 - mean_squared_error: 0.0031   "
     ]
    },
    {
     "name": "stderr",
     "output_type": "stream",
     "text": [
      "2024-03-28 07:44:45.430339: I tensorflow/core/kernels/data/shuffle_dataset_op.cc:450] Shuffle buffer filled.\n"
     ]
    },
    {
     "name": "stdout",
     "output_type": "stream",
     "text": [
      "699/699 [==============================] - 70s 68ms/step - loss: 0.0416 - mean_absolute_error: 0.0411 - mean_squared_error: 0.0032 - val_loss: 0.0466 - val_mean_absolute_error: 0.0461 - val_mean_squared_error: 0.0041\n",
      "Epoch 17/500\n"
     ]
    },
    {
     "name": "stderr",
     "output_type": "stream",
     "text": [
      "2024-03-28 07:45:43.233562: I tensorflow/core/kernels/data/shuffle_dataset_op.cc:422] Filling up shuffle buffer (this may take a while): 164144 of 357834\n",
      "2024-03-28 07:45:53.233487: I tensorflow/core/kernels/data/shuffle_dataset_op.cc:422] Filling up shuffle buffer (this may take a while): 332973 of 357834\n"
     ]
    },
    {
     "name": "stdout",
     "output_type": "stream",
     "text": [
      "  5/699 [..............................] - ETA: 22s - loss: 0.0414 - mean_absolute_error: 0.0409 - mean_squared_error: 0.0033   "
     ]
    },
    {
     "name": "stderr",
     "output_type": "stream",
     "text": [
      "2024-03-28 07:45:54.756177: I tensorflow/core/kernels/data/shuffle_dataset_op.cc:450] Shuffle buffer filled.\n"
     ]
    },
    {
     "name": "stdout",
     "output_type": "stream",
     "text": [
      "699/699 [==============================] - 66s 64ms/step - loss: 0.0414 - mean_absolute_error: 0.0409 - mean_squared_error: 0.0032 - val_loss: 0.0472 - val_mean_absolute_error: 0.0468 - val_mean_squared_error: 0.0041\n",
      "Epoch 18/500\n"
     ]
    },
    {
     "name": "stderr",
     "output_type": "stream",
     "text": [
      "2024-03-28 07:46:49.778812: I tensorflow/core/kernels/data/shuffle_dataset_op.cc:422] Filling up shuffle buffer (this may take a while): 163810 of 357834\n",
      "2024-03-28 07:46:59.778848: I tensorflow/core/kernels/data/shuffle_dataset_op.cc:422] Filling up shuffle buffer (this may take a while): 328475 of 357834\n"
     ]
    },
    {
     "name": "stdout",
     "output_type": "stream",
     "text": [
      "  5/699 [..............................] - ETA: 22s - loss: 0.0413 - mean_absolute_error: 0.0408 - mean_squared_error: 0.0031   "
     ]
    },
    {
     "name": "stderr",
     "output_type": "stream",
     "text": [
      "2024-03-28 07:47:01.749806: I tensorflow/core/kernels/data/shuffle_dataset_op.cc:450] Shuffle buffer filled.\n"
     ]
    },
    {
     "name": "stdout",
     "output_type": "stream",
     "text": [
      "699/699 [==============================] - 69s 68ms/step - loss: 0.0413 - mean_absolute_error: 0.0408 - mean_squared_error: 0.0031 - val_loss: 0.0470 - val_mean_absolute_error: 0.0466 - val_mean_squared_error: 0.0042\n",
      "Epoch 19/500\n"
     ]
    },
    {
     "name": "stderr",
     "output_type": "stream",
     "text": [
      "2024-03-28 07:47:58.988977: I tensorflow/core/kernels/data/shuffle_dataset_op.cc:422] Filling up shuffle buffer (this may take a while): 160684 of 357834\n",
      "2024-03-28 07:48:08.988949: I tensorflow/core/kernels/data/shuffle_dataset_op.cc:422] Filling up shuffle buffer (this may take a while): 321463 of 357834\n"
     ]
    },
    {
     "name": "stdout",
     "output_type": "stream",
     "text": [
      "  3/699 [..............................] - ETA: 25s - loss: 0.0432 - mean_absolute_error: 0.0428 - mean_squared_error: 0.0034    "
     ]
    },
    {
     "name": "stderr",
     "output_type": "stream",
     "text": [
      "2024-03-28 07:48:11.624213: I tensorflow/core/kernels/data/shuffle_dataset_op.cc:450] Shuffle buffer filled.\n"
     ]
    },
    {
     "name": "stdout",
     "output_type": "stream",
     "text": [
      "699/699 [==============================] - 72s 70ms/step - loss: 0.0412 - mean_absolute_error: 0.0408 - mean_squared_error: 0.0031 - val_loss: 0.0475 - val_mean_absolute_error: 0.0471 - val_mean_squared_error: 0.0041\n",
      "Epoch 20/500\n"
     ]
    },
    {
     "name": "stderr",
     "output_type": "stream",
     "text": [
      "2024-03-28 07:49:10.687409: I tensorflow/core/kernels/data/shuffle_dataset_op.cc:422] Filling up shuffle buffer (this may take a while): 165666 of 357834\n",
      "2024-03-28 07:49:20.687353: I tensorflow/core/kernels/data/shuffle_dataset_op.cc:422] Filling up shuffle buffer (this may take a while): 335129 of 357834\n"
     ]
    },
    {
     "name": "stdout",
     "output_type": "stream",
     "text": [
      "  5/699 [..............................] - ETA: 22s - loss: 0.0411 - mean_absolute_error: 0.0407 - mean_squared_error: 0.0031   "
     ]
    },
    {
     "name": "stderr",
     "output_type": "stream",
     "text": [
      "2024-03-28 07:49:22.067454: I tensorflow/core/kernels/data/shuffle_dataset_op.cc:450] Shuffle buffer filled.\n"
     ]
    },
    {
     "name": "stdout",
     "output_type": "stream",
     "text": [
      "699/699 [==============================] - 66s 63ms/step - loss: 0.0410 - mean_absolute_error: 0.0406 - mean_squared_error: 0.0031 - val_loss: 0.0504 - val_mean_absolute_error: 0.0500 - val_mean_squared_error: 0.0044\n",
      "Epoch 21/500\n"
     ]
    },
    {
     "name": "stderr",
     "output_type": "stream",
     "text": [
      "2024-03-28 07:50:16.460048: I tensorflow/core/kernels/data/shuffle_dataset_op.cc:422] Filling up shuffle buffer (this may take a while): 167598 of 357834\n",
      "2024-03-28 07:50:26.459997: I tensorflow/core/kernels/data/shuffle_dataset_op.cc:422] Filling up shuffle buffer (this may take a while): 336501 of 357834\n"
     ]
    },
    {
     "name": "stdout",
     "output_type": "stream",
     "text": [
      "  5/699 [..............................] - ETA: 21s - loss: 0.0407 - mean_absolute_error: 0.0403 - mean_squared_error: 0.0029   "
     ]
    },
    {
     "name": "stderr",
     "output_type": "stream",
     "text": [
      "2024-03-28 07:50:27.834641: I tensorflow/core/kernels/data/shuffle_dataset_op.cc:450] Shuffle buffer filled.\n"
     ]
    },
    {
     "name": "stdout",
     "output_type": "stream",
     "text": [
      "699/699 [==============================] - 66s 64ms/step - loss: 0.0409 - mean_absolute_error: 0.0405 - mean_squared_error: 0.0031 - val_loss: 0.0469 - val_mean_absolute_error: 0.0465 - val_mean_squared_error: 0.0041\n",
      "Epoch 22/500\n"
     ]
    },
    {
     "name": "stderr",
     "output_type": "stream",
     "text": [
      "2024-03-28 07:51:22.862333: I tensorflow/core/kernels/data/shuffle_dataset_op.cc:422] Filling up shuffle buffer (this may take a while): 167593 of 357834\n",
      "2024-03-28 07:51:32.862345: I tensorflow/core/kernels/data/shuffle_dataset_op.cc:422] Filling up shuffle buffer (this may take a while): 327501 of 357834\n"
     ]
    },
    {
     "name": "stdout",
     "output_type": "stream",
     "text": [
      "  3/699 [..............................] - ETA: 24s - loss: 0.0409 - mean_absolute_error: 0.0405 - mean_squared_error: 0.0031    "
     ]
    },
    {
     "name": "stderr",
     "output_type": "stream",
     "text": [
      "2024-03-28 07:51:34.925346: I tensorflow/core/kernels/data/shuffle_dataset_op.cc:450] Shuffle buffer filled.\n"
     ]
    },
    {
     "name": "stdout",
     "output_type": "stream",
     "text": [
      "699/699 [==============================] - 70s 68ms/step - loss: 0.0408 - mean_absolute_error: 0.0404 - mean_squared_error: 0.0031 - val_loss: 0.0477 - val_mean_absolute_error: 0.0473 - val_mean_squared_error: 0.0043\n",
      "Epoch 23/500\n"
     ]
    },
    {
     "name": "stderr",
     "output_type": "stream",
     "text": [
      "2024-03-28 07:52:32.822155: I tensorflow/core/kernels/data/shuffle_dataset_op.cc:422] Filling up shuffle buffer (this may take a while): 165838 of 357834\n",
      "2024-03-28 07:52:42.822144: I tensorflow/core/kernels/data/shuffle_dataset_op.cc:422] Filling up shuffle buffer (this may take a while): 329185 of 357834\n"
     ]
    },
    {
     "name": "stdout",
     "output_type": "stream",
     "text": [
      "  5/699 [..............................] - ETA: 25s - loss: 0.0392 - mean_absolute_error: 0.0388 - mean_squared_error: 0.0028   "
     ]
    },
    {
     "name": "stderr",
     "output_type": "stream",
     "text": [
      "2024-03-28 07:52:44.618243: I tensorflow/core/kernels/data/shuffle_dataset_op.cc:450] Shuffle buffer filled.\n"
     ]
    },
    {
     "name": "stdout",
     "output_type": "stream",
     "text": [
      "699/699 [==============================] - 74s 74ms/step - loss: 0.0407 - mean_absolute_error: 0.0403 - mean_squared_error: 0.0031 - val_loss: 0.0506 - val_mean_absolute_error: 0.0502 - val_mean_squared_error: 0.0044\n",
      "Epoch 24/500\n"
     ]
    },
    {
     "name": "stderr",
     "output_type": "stream",
     "text": [
      "2024-03-28 07:53:46.399128: I tensorflow/core/kernels/data/shuffle_dataset_op.cc:422] Filling up shuffle buffer (this may take a while): 165788 of 357834\n",
      "2024-03-28 07:53:56.399098: I tensorflow/core/kernels/data/shuffle_dataset_op.cc:422] Filling up shuffle buffer (this may take a while): 330640 of 357834\n"
     ]
    },
    {
     "name": "stdout",
     "output_type": "stream",
     "text": [
      "  5/699 [..............................] - ETA: 23s - loss: 0.0411 - mean_absolute_error: 0.0407 - mean_squared_error: 0.0031   "
     ]
    },
    {
     "name": "stderr",
     "output_type": "stream",
     "text": [
      "2024-03-28 07:53:58.185461: I tensorflow/core/kernels/data/shuffle_dataset_op.cc:450] Shuffle buffer filled.\n"
     ]
    },
    {
     "name": "stdout",
     "output_type": "stream",
     "text": [
      "699/699 [==============================] - 68s 66ms/step - loss: 0.0405 - mean_absolute_error: 0.0401 - mean_squared_error: 0.0031 - val_loss: 0.0468 - val_mean_absolute_error: 0.0464 - val_mean_squared_error: 0.0042\n",
      "Epoch 25/500\n"
     ]
    },
    {
     "name": "stderr",
     "output_type": "stream",
     "text": [
      "2024-03-28 07:54:54.486954: I tensorflow/core/kernels/data/shuffle_dataset_op.cc:422] Filling up shuffle buffer (this may take a while): 166083 of 357834\n",
      "2024-03-28 07:55:04.481375: I tensorflow/core/kernels/data/shuffle_dataset_op.cc:422] Filling up shuffle buffer (this may take a while): 330347 of 357834\n"
     ]
    },
    {
     "name": "stdout",
     "output_type": "stream",
     "text": [
      "  5/699 [..............................] - ETA: 23s - loss: 0.0411 - mean_absolute_error: 0.0407 - mean_squared_error: 0.0031   "
     ]
    },
    {
     "name": "stderr",
     "output_type": "stream",
     "text": [
      "2024-03-28 07:55:06.390440: I tensorflow/core/kernels/data/shuffle_dataset_op.cc:450] Shuffle buffer filled.\n"
     ]
    },
    {
     "name": "stdout",
     "output_type": "stream",
     "text": [
      "699/699 [==============================] - ETA: 0s - loss: 0.0405 - mean_absolute_error: 0.0401 - mean_squared_error: 0.0031Restoring model weights from the end of the best epoch: 15.\n",
      "699/699 [==============================] - 69s 68ms/step - loss: 0.0405 - mean_absolute_error: 0.0401 - mean_squared_error: 0.0031 - val_loss: 0.0482 - val_mean_absolute_error: 0.0478 - val_mean_squared_error: 0.0041\n",
      "Epoch 25: early stopping\n"
     ]
    }
   ],
   "source": [
    "from model.layers import DnnLayer, BitWiseSeNet\n",
    "\n",
    "\n",
    "class QuantModel(tf.keras.Model):\n",
    "    def __init__(self, config, **kwargs):\n",
    "        super(QuantModel, self).__init__(**kwargs)\n",
    "        self.config = config\n",
    "        self.lookup_layers = {}\n",
    "        self.embedding_layers = {}\n",
    "\n",
    "        # 创建整数特征的查找层和嵌入层\n",
    "        for feature_name, vocab in self.config.get(\"integer_categorical_features_with_vocab\").items():\n",
    "            self.lookup_layers[feature_name] = tf.keras.layers.IntegerLookup(vocabulary=vocab, name=f\"{feature_name}_lookup\")\n",
    "            self.embedding_layers[feature_name] = tf.keras.layers.Embedding(\n",
    "                input_dim=len(vocab) + 1, \n",
    "                output_dim=self.config.get(\"feature_embedding_dims\", 4), \n",
    "                embeddings_initializer=tf.keras.initializers.glorot_normal(self.config.get('seed', 1024)),\n",
    "                name=f\"{feature_name}_embedding\"\n",
    "            )\n",
    "        # 创建字符串特征的查找层和嵌入层\n",
    "        for feature_name, vocab in self.config.get(\"string_categorical_features_with_vocab\").items():\n",
    "            self.lookup_layers[feature_name] = tf.keras.layers.StringLookup(vocabulary=vocab, name=f\"{feature_name}_lookup\")\n",
    "            self.embedding_layers[feature_name] = tf.keras.layers.Embedding(\n",
    "                input_dim=len(vocab) + 1, \n",
    "                output_dim=self.config.get(\"feature_embedding_dims\", 4), \n",
    "                embeddings_initializer=tf.keras.initializers.glorot_normal(self.config.get('seed', 1024)),\n",
    "                name=f\"{feature_name}_embedding\"\n",
    "            )\n",
    "\n",
    "            # 自定义层相关\n",
    "        self.bitwise_senet_layer = BitWiseSeNet(\n",
    "            reduction_ratio=self.config.get(\"reduction_ratio\", 3),\n",
    "            l2_reg=self.config.get(\"l2_reg\", 0.0),\n",
    "            seed=self.config.get(\"seed\", 1024),\n",
    "        )\n",
    "        self.dnn_layer = DnnLayer(\n",
    "            hidden_units=self.config.get(\"dnn_hidden_units\", [64, 32]),\n",
    "            activation=self.config.get(\"dnn_activation\", \"relu\"),\n",
    "            dropout_rate=self.config.get(\"dnn_dropout\", 0.2),\n",
    "            use_bn=self.config.get(\"dnn_use_bn\", True),\n",
    "            l2_reg=self.config.get(\"l2_reg\", 0.001),\n",
    "            seed=self.config.get(\"seed\", 1024),\n",
    "        )\n",
    "\n",
    "        self.wide_output_layer = tf.keras.layers.Dense(1, activation=None)\n",
    "        self.deep_output_layer = tf.keras.layers.Dense(1, activation=None)\n",
    "\n",
    "    def call(self, inputs, training=False):\n",
    "        if not isinstance(inputs, dict):\n",
    "            raise ValueError(\"The inputs to the model should be a dictionary where keys are feature names.\")\n",
    "        # 处理Deep侧特征 - 首先使用seNet进行特征权重调整\n",
    "        dense_features = [] # [B, N]\n",
    "        encode_features = [] # list of [B, emb]\n",
    "        for feature_name, feature_value in inputs.items():\n",
    "            if feature_name in self.lookup_layers:\n",
    "                lookup_layer = self.lookup_layers[feature_name]\n",
    "                embedding_layer = self.embedding_layers[feature_name]\n",
    "                encode_feature = embedding_layer(lookup_layer(feature_value))\n",
    "                encode_features.append(encode_feature)\n",
    "            else:\n",
    "                dense_features.append(feature_value)\n",
    "        dense_emb = tf.stack(dense_features, axis=-1)\n",
    "        encode_emb = tf.concat(encode_features, axis=-1)\n",
    "        # print(f\"dense_emb_shape: {dense_emb.get_shape()}\")\n",
    "        # print(f\"encode_emb_shape: {encode_emb.get_shpe()}\")\n",
    "        \n",
    "        # ..........................................................................................\n",
    "        # 处理Wide侧DNN特征\n",
    "        wide_logit = self.wide_output_layer(dense_emb)\n",
    "        # ..........................................................................................\n",
    "\n",
    "        # ..........................................................................................\n",
    "        # 处理Deep侧DNN特征\n",
    "        deep_output = tf.concat([dense_emb, encode_emb], axis=-1)\n",
    "        deep_output = self.bitwise_senet_layer(deep_output, training=training)\n",
    "        deep_output = self.dnn_layer(deep_output, training=training)\n",
    "        deep_logit = self.deep_output_layer(deep_output)\n",
    "        # ..........................................................................................\n",
    "\n",
    "        final_logit = deep_logit + wide_logit\n",
    "        return final_logit\n",
    "    \n",
    "\n",
    "    def get_config(self):\n",
    "        # 调用基类的get_config方法（如果基类实现了get_config）\n",
    "        config = super(QuantModel, self).get_config()\n",
    "        # 添加QuantModel特有的配置信息\n",
    "        config.update(\n",
    "            {\n",
    "                # 假设self.config是一个可序列化的字典，如果不是，你可能需要在这里适当地处理它\n",
    "                \"config\": self.config\n",
    "            }\n",
    "        )\n",
    "        return config\n",
    "    \n",
    "model_config = {\n",
    "        \"seed\": 1024,\n",
    "        \"feature_embedding_dims\": 4,\n",
    "        \"integer_categorical_features_with_vocab\": {k: list(train_data[k].unique()) for k in feature_config.get('integer_categorical_features', [])},\n",
    "        \"string_categorical_features_with_vocab\": {k: list(train_data[k].unique()) for k in feature_config.get('string_categorical_features', [])},\n",
    "    }\n",
    "model = QuantModel(config=model_config)\n",
    "\n",
    "initial_learning_rate = 1e-3\n",
    "lr_schedule = tf.keras.optimizers.schedules.InverseTimeDecay(\n",
    "    initial_learning_rate,\n",
    "    decay_steps=(len(train_data) // batch_size)*10,\n",
    "    decay_rate=1,\n",
    "    staircase=False)\n",
    "model.compile(\n",
    "    optimizer=tf.keras.optimizers.Adam(lr_schedule),\n",
    "    loss = tf.keras.losses.MeanAbsoluteError(),\n",
    "    metrics=[\n",
    "        tf.keras.metrics.MeanAbsoluteError(),\n",
    "        tf.keras.metrics.MeanSquaredError(),\n",
    "    ]\n",
    ")\n",
    "\n",
    "EPOCHS = 500\n",
    "\n",
    "early_stopping = tf.keras.callbacks.EarlyStopping(\n",
    "    monitor='val_loss', \n",
    "    verbose=1,\n",
    "    patience=10,\n",
    "    mode='min',\n",
    "    restore_best_weights=True)\n",
    "\n",
    "baseline_history = model.fit(\n",
    "    train_ds,\n",
    "    validation_data=val_ds,\n",
    "    epochs=EPOCHS,\n",
    "    callbacks = [early_stopping],\n",
    ")"
   ]
  },
  {
   "cell_type": "code",
   "execution_count": 64,
   "metadata": {},
   "outputs": [
    {
     "data": {
      "image/png": "[encoded data removed]",
      "text/plain": [
       "<Figure size 1200x1000 with 3 Axes>"
      ]
     },
     "metadata": {},
     "output_type": "display_data"
    }
   ],
   "source": [
    "import matplotlib as mpl\n",
    "import matplotlib.pyplot as plt\n",
    "import numpy as np\n",
    "import pandas as pd\n",
    "import seaborn as sns\n",
    "\n",
    "mpl.rcParams['figure.figsize'] = (12, 10)\n",
    "colors = plt.rcParams['axes.prop_cycle'].by_key()['color']\n",
    "\n",
    "def plot_metrics(history):\n",
    "  metrics = ['loss', 'mean_absolute_error', 'mean_squared_error']\n",
    "  for n, metric in enumerate(metrics):\n",
    "    name = metric.replace(\"_\",\" \").capitalize()\n",
    "    plt.subplot(2,2,n+1)\n",
    "    plt.plot(history.epoch, history.history[metric], color=colors[0], label='Train')\n",
    "    plt.plot(history.epoch, history.history['val_'+metric],\n",
    "             color=colors[0], linestyle=\"--\", label='Val')\n",
    "    plt.xlabel('Epoch')\n",
    "    plt.ylabel(name)\n",
    "    plt.ylim([0, plt.ylim()[1]])\n",
    "    plt.legend()\n",
    "\n",
    "plot_metrics(baseline_history)"
   ]
  },
  {
   "cell_type": "code",
   "execution_count": 65,
   "metadata": {},
   "outputs": [
    {
     "name": "stdout",
     "output_type": "stream",
     "text": [
      "loss :  0.04658547416329384\n",
      "mean_absolute_error :  0.04607889801263809\n",
      "mean_squared_error :  0.004021011292934418\n",
      "\n",
      "527/527 [==============================] - 24s 46ms/step\n",
      "Accuracy: 0.52, Precision: 0.52, Recall: 0.60\n"
     ]
    },
    {
     "data": {
      "image/png": "[encoded data removed]",
      "text/plain": [
       "<Figure size 500x500 with 2 Axes>"
      ]
     },
     "metadata": {},
     "output_type": "display_data"
    }
   ],
   "source": [
    "from sklearn.metrics import confusion_matrix, accuracy_score, precision_score, recall_score\n",
    "\n",
    "def plot_cm(true_labels, pred_labels, p=0.5):\n",
    "    cm = confusion_matrix(true_labels, pred_labels > p)\n",
    "    plt.figure(figsize=(5,5))\n",
    "    sns.heatmap(cm, annot=True, fmt=\"d\")\n",
    "    plt.title('Confusion matrix @{:.2f}'.format(p))\n",
    "    plt.ylabel('Actual label')\n",
    "    plt.xlabel('Predicted label')\n",
    "\n",
    "    accuracy = accuracy_score(true_labels, pred_labels)\n",
    "    precision = precision_score(true_labels, pred_labels)\n",
    "    recall = recall_score(true_labels, pred_labels)\n",
    "    print(f\"Accuracy: {accuracy:.2f}, Precision: {precision:.2f}, Recall: {recall:.2f}\")\n",
    "\n",
    "\n",
    "baseline_results = model.evaluate(val_ds, verbose=0)\n",
    "for name, value in zip(model.metrics_names, baseline_results):\n",
    "  print(name, ': ', value)\n",
    "print()\n",
    "\n",
    "true_labels = val_data['label']\n",
    "pred_labels = model.predict(val_ds)\n",
    "\n",
    "true_label = (np.array(true_labels) > 0).astype(int)\n",
    "pred_label = (np.array(pred_labels) > 0).astype(int)\n",
    "\n",
    "plot_cm(true_label, pred_label)"
   ]
  },
  {
   "cell_type": "code",
   "execution_count": 83,
   "metadata": {},
   "outputs": [
    {
     "name": "stdout",
     "output_type": "stream",
     "text": [
      "  1/531 [..............................] - ETA: 39s"
     ]
    },
    {
     "name": "stdout",
     "output_type": "stream",
     "text": [
      "531/531 [==============================] - 23s 43ms/step\n"
     ]
    }
   ],
   "source": [
    "model_pred_result = model.predict(val_ds)\n",
    "output_df = val_data[['stock_code', 'industry', 'stock_name', 'datetime']]\n",
    "# 回归结果\n",
    "output_df['label'] = val_data['label']\n",
    "output_df['label_pred'] = model_pred_result\n",
    "output_df.to_pickle(f'../../Offline/backtest/backtest_data/{benchmark}/stock_selection_results_20190101.pkl')"
   ]
  },
  {
   "cell_type": "code",
   "execution_count": 84,
   "metadata": {},
   "outputs": [],
   "source": [
    "# # 9. 配置保存模型功能\n",
    "# model_save_path = f'./models/saved_model/model_of_20240328_reg'\n",
    "# model.save(model_save_path)\n",
    "# best_model = tf.keras.models.load_model(model_save_path)"
   ]
  },
  {
   "cell_type": "code",
   "execution_count": 6,
   "metadata": {},
   "outputs": [
    {
     "data": {
      "text/plain": [
       "[['20130101', '20181231', '20190101', '20190630'],\n",
       " ['20130701', '20190630', '20190701', '20191231'],\n",
       " ['20140101', '20191231', '20200101', '20200630'],\n",
       " ['20140701', '20200630', '20200701', '20201231'],\n",
       " ['20150101', '20201231', '20210101', '20210630'],\n",
       " ['20150701', '20210630', '20210701', '20211231'],\n",
       " ['20160101', '20211231', '20220101', '20220630'],\n",
       " ['20160701', '20220630', '20220701', '20221231'],\n",
       " ['20170101', '20221231', '20230101', '20230630'],\n",
       " ['20170701', '20230630', '20230701', '20231231']]"
      ]
     },
     "execution_count": 6,
     "metadata": {},
     "output_type": "execute_result"
    }
   ],
   "source": [
    "backtest_start_date = '20190101'\n",
    "backtest_end_date = '20240101'\n",
    "train_period = 6 # year：训练数据周期长度\n",
    "update_period = 6 # month：模型更新周期长度\n",
    "\n",
    "def get_rolling_date_period(backtest_start_date, backtest_end_date, training_period, update_period):\n",
    "    backtest_start_date = datetime.strptime(backtest_start_date, '%Y%m%d')\n",
    "    backtest_end_date = datetime.strptime(backtest_end_date, '%Y%m%d')\n",
    "    result = []\n",
    "    rolling_flag = True\n",
    "    while rolling_flag:\n",
    "        current_val_start_date = backtest_start_date\n",
    "        current_val_end_date = current_val_start_date + relativedelta(months=update_period) - relativedelta(days=1)\n",
    "        if current_val_start_date < backtest_end_date:\n",
    "            current_train_start_date = current_val_start_date - relativedelta(years=training_period)\n",
    "            current_train_end_date = current_val_start_date - relativedelta(days=1)\n",
    "            result.append([\n",
    "                current_train_start_date.strftime(\"%Y%m%d\"),\n",
    "                current_train_end_date.strftime(\"%Y%m%d\"),\n",
    "                current_val_start_date.strftime(\"%Y%m%d\"),\n",
    "                current_val_end_date.strftime(\"%Y%m%d\")\n",
    "                ])\n",
    "            backtest_start_date += relativedelta(months=update_period) \n",
    "        else:\n",
    "            rolling_flag=False # 结束滚动训练\n",
    "    return result\n",
    "\n",
    "rolling_period = get_rolling_date_period(backtest_start_date, backtest_end_date, train_period, update_period)\n",
    "rolling_period"
   ]
  },
  {
   "cell_type": "code",
   "execution_count": null,
   "metadata": {},
   "outputs": [],
   "source": []
  },
  {
   "cell_type": "code",
   "execution_count": null,
   "metadata": {},
   "outputs": [],
   "source": [
    "# model.summary()\n",
    "# model_config"
   ]
  },
  {
   "cell_type": "code",
   "execution_count": null,
   "metadata": {},
   "outputs": [],
   "source": []
  }
 ],
 "metadata": {
  "kernelspec": {
   "display_name": ".venv",
   "language": "python",
   "name": "python3"
  },
  "language_info": {
   "codemirror_mode": {
    "name": "ipython",
    "version": 3
   },
   "file_extension": ".py",
   "mimetype": "text/x-python",
   "name": "python",
   "nbconvert_exporter": "python",
   "pygments_lexer": "ipython3",
   "version": "3.8.10"
  }
 },
 "nbformat": 4,
 "nbformat_minor": 2
}
