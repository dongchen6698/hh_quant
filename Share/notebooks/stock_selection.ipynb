{
 "cells": [
  {
   "cell_type": "code",
   "execution_count": 54,
   "metadata": {},
   "outputs": [],
   "source": [
    "import sys\n",
    "sys.path.append('../')\n",
    "\n",
    "import warnings\n",
    "warnings.filterwarnings(\"ignore\")\n",
    "\n",
    "import pandas as pd\n",
    "import numpy as np\n",
    "import akshare as ak\n",
    "import json\n",
    "import os\n",
    "import time\n",
    "import sqlite3\n",
    "\n",
    "from datetime import datetime, timedelta\n",
    "from tqdm import tqdm\n",
    "from database.downloader.downloader_base import DownloaderBase\n",
    "import database.database_config as db_config\n",
    "\n",
    "pd.options.display.max_rows=None\n",
    "pd.options.display.max_columns=None"
   ]
  },
  {
   "cell_type": "code",
   "execution_count": 55,
   "metadata": {},
   "outputs": [],
   "source": [
    "db_conn = sqlite3.connect('../database/hh_quant.db')\n",
    "db_downloader = DownloaderBase(db_conn, db_config)"
   ]
  },
  {
   "cell_type": "code",
   "execution_count": 56,
   "metadata": {},
   "outputs": [
    {
     "name": "stdout",
     "output_type": "stream",
     "text": [
      "50\n"
     ]
    }
   ],
   "source": [
    "# stock_code_list = ak.stock_info_a_code_name()['code'] # 获取A股所有股票列表\n",
    "stock_code_list = ak.index_stock_cons(\"000016\")['品种代码'].tolist() # 获取中证50的股票代码列表\n",
    "# stock_code_list = ak.index_stock_cons(\"000905\")['品种代码'].tolist() # 获取中证500的股票代码列表\n",
    "# stock_code_list = set(ak.index_stock_cons(\"000300\")['品种代码'].tolist()) # 获取沪深300的股票代码列表\n",
    "\n",
    "print(len(stock_code_list))"
   ]
  },
  {
   "cell_type": "code",
   "execution_count": 79,
   "metadata": {},
   "outputs": [
    {
     "name": "stderr",
     "output_type": "stream",
     "text": [
      "100%|██████████| 50/50 [00:07<00:00,  7.04it/s]\n"
     ]
    },
    {
     "data": {
      "text/plain": [
       "50"
      ]
     },
     "execution_count": 79,
     "metadata": {},
     "output_type": "execute_result"
    }
   ],
   "source": [
    "def build_label(dataframe):\n",
    "    N = 5 # 最大持仓周期 = N天，第N+1天开盘卖出\n",
    "    df = dataframe.copy()\n",
    "    # 标签构建\n",
    "    df['future_return'] = df['close'].shift(-N-1) / df['open'].shift(-1) - 1 # 计算第N日收益率\n",
    "    df['future_label'] = (df['future_return'] > 0).astype(int)\n",
    "    # 极值处理\n",
    "    df['future_return'] = np.clip(df['future_return'], np.nanquantile(df['future_return'], 0.01), np.nanquantile(df['future_return'], 0.99))\n",
    "    # 过滤一字涨停情况\n",
    "    df = df[df['high'].shift(-1) != df['low'].shift(-1)]\n",
    "    return df[['datetime', 'future_return', 'future_label']]\n",
    "\n",
    "stock_df_list = []\n",
    "for stock_code in tqdm(stock_code_list):\n",
    "    stock_data = db_downloader._download_stock_history_info(stock_code)\n",
    "    stock_label = build_label(stock_data)\n",
    "    stock_factor_date = db_downloader._download_stock_factor_date_info()\n",
    "    stock_factor_qlib = db_downloader._download_stock_factor_qlib_info(stock_code)\n",
    "    stock_df = stock_data.merge(stock_label, on=['datetime']).merge(stock_factor_date, on=['datetime']).merge(stock_factor_qlib, on=['stock_code', 'datetime'])\n",
    "    stock_df = stock_df.dropna()\n",
    "    if not stock_df.empty:\n",
    "        stock_df_list.append(stock_df)\n",
    "\n",
    "len(stock_df_list)"
   ]
  },
  {
   "cell_type": "code",
   "execution_count": 80,
   "metadata": {},
   "outputs": [],
   "source": [
    "df = pd.concat(stock_df_list)\n",
    "# df.head()\n",
    "# print([i for i in df.columns])"
   ]
  },
  {
   "cell_type": "code",
   "execution_count": 82,
   "metadata": {},
   "outputs": [
    {
     "data": {
      "image/png": "[encoded data removed]",
      "text/plain": [
       "<Figure size 640x480 with 1 Axes>"
      ]
     },
     "metadata": {},
     "output_type": "display_data"
    }
   ],
   "source": [
    "def plot_series_dist(series):\n",
    "    import pandas as pd\n",
    "    import matplotlib.pyplot as plt\n",
    "    %matplotlib inline\n",
    "    # 假设您有一个名为data的pandas Series\n",
    "    data = series\n",
    "    # 使用matplotlib画直方图\n",
    "    plt.hist(data, bins=60, edgecolor='k', alpha=0.7)\n",
    "    plt.xlabel('Value')\n",
    "    plt.ylabel('Frequency')\n",
    "    plt.title('Histogram of Data')\n",
    "    plt.show()\n",
    "\n",
    "plot_series_dist(df['future_return'])"
   ]
  },
  {
   "cell_type": "code",
   "execution_count": 83,
   "metadata": {},
   "outputs": [],
   "source": [
    "# from sklearn.preprocessing import StandardScaler\n",
    "# ss = StandardScaler()\n",
    "\n",
    "# series_reshape = df['future_return'].values.reshape(-1, 1)\n",
    "# scaled_data = ss.fit_transform(series_reshape)\n",
    "# scaled_series = pd.Series(scaled_data.flatten())\n",
    "# plot_series_dist(scaled_series)\n",
    "\n",
    "# df['future_return'] = scaled_series"
   ]
  },
  {
   "cell_type": "markdown",
   "metadata": {},
   "source": [
    "## 使用Tensorflow"
   ]
  },
  {
   "cell_type": "code",
   "execution_count": 84,
   "metadata": {},
   "outputs": [
    {
     "name": "stdout",
     "output_type": "stream",
     "text": [
      "2.15.0\n"
     ]
    }
   ],
   "source": [
    "# 使用tensorflow处理原始数据\n",
    "import numpy as np\n",
    "import pandas as pd\n",
    "import tensorflow as tf\n",
    "print(tf.__version__)"
   ]
  },
  {
   "cell_type": "code",
   "execution_count": 85,
   "metadata": {},
   "outputs": [],
   "source": [
    "def transfer_data_type(df, columns, dtype):\n",
    "    for col in columns:\n",
    "        df[col] = df[col].astype(dtype)\n",
    "    return df\n",
    "\n",
    "def get_numeric_boundaries(series, num_bins=20):\n",
    "    if series.nunique() < num_bins:\n",
    "        boundaries = sorted(series.unique())\n",
    "    else:\n",
    "        boundaries = pd.qcut(series, num_bins, retbins=True, duplicates='drop')[1].tolist()\n",
    "    return boundaries"
   ]
  },
  {
   "cell_type": "code",
   "execution_count": 86,
   "metadata": {},
   "outputs": [
    {
     "name": "stdout",
     "output_type": "stream",
     "text": [
      "train_data_size: (93653, 200)\n",
      "validation_data_size: (11027, 200)\n"
     ]
    }
   ],
   "source": [
    "# 6. 选择固定时间区间的数据(训练数据=6年，测试数据=1年，后续滚动窗口=3个月)\n",
    "train_start_date = pd.to_datetime('2010-01-01')\n",
    "train_end_date = pd.to_datetime('2019-12-31')\n",
    "val_start_date = pd.to_datetime('2020-01-01')\n",
    "val_end_date = pd.to_datetime('2020-12-31')\n",
    "\n",
    "train_data = df[(pd.to_datetime(df['datetime']) >= train_start_date) & (pd.to_datetime(df['datetime']) <= train_end_date)]\n",
    "validation_data = df[(pd.to_datetime(df['datetime']) >= val_start_date) & (pd.to_datetime(df['datetime']) <= val_end_date)]\n",
    "\n",
    "print(f\"train_data_size: {train_data.shape}\")\n",
    "print(f\"validation_data_size: {validation_data.shape}\")"
   ]
  },
  {
   "cell_type": "code",
   "execution_count": 87,
   "metadata": {},
   "outputs": [],
   "source": [
    "# neg, pos = np.bincount(train_data['future_label'])\n",
    "# total = neg + pos\n",
    "# print('Examples:\\n    Total: {}\\n    Positive: {} ({:.2f}% of total)\\n'.format(\n",
    "#     total, pos, 100 * pos / total))\n",
    "\n",
    "# # Scaling by total/2 helps keep the loss to a similar magnitude.\n",
    "# # The sum of the weights of all examples stays the same.\n",
    "# weight_for_0 = (1 / neg) * (total / 2.0)\n",
    "# weight_for_1 = (1 / pos) * (total / 2.0)\n",
    "\n",
    "# class_weight = {0: weight_for_0, 1: weight_for_1}\n",
    "\n",
    "# print('Weight for class 0: {:.2f}'.format(weight_for_0))\n",
    "# print('Weight for class 1: {:.2f}'.format(weight_for_1))\n",
    "# print(class_weight)"
   ]
  },
  {
   "cell_type": "code",
   "execution_count": 88,
   "metadata": {},
   "outputs": [],
   "source": [
    "TARGET_FEATURE_NAME = [\"future_return\"] # 多任务模型还需要再优化\n",
    "\n",
    "NUMERIC_FEATURES = ['KMID', 'KLEN', 'KMID2', 'KUP', 'KUP2', 'KLOW', 'KLOW2', 'KSFT', 'KSFT2', 'OPEN0', 'OPEN1', 'OPEN2', 'OPEN3', 'OPEN4', 'HIGH0', 'HIGH1', 'HIGH2', 'HIGH3', 'HIGH4', 'LOW0', 'LOW1', 'LOW2', 'LOW3', 'LOW4', 'CLOSE0', 'CLOSE1', 'CLOSE2', 'CLOSE3', 'CLOSE4', 'VOLUME0', 'VOLUME1', 'VOLUME2', 'VOLUME3', 'VOLUME4', 'ROC5', 'ROC10', 'ROC20', 'ROC30', 'ROC60', 'MAX5', 'MAX10', 'MAX20', 'MAX30', 'MAX60', 'MIN5', 'MIN10', 'MIN20', 'MIN30', 'MIN60', 'MA5', 'MA10', 'MA20', 'MA30', 'MA60', 'STD5', 'STD10', 'STD20', 'STD30', 'STD60', 'BETA5', 'BETA10', 'BETA20', 'BETA30', 'BETA60', 'RSQR5', 'RSQR10', 'RSQR20', 'RSQR30', 'RSQR60', 'RESI5', 'RESI10', 'RESI20', 'RESI30', 'RESI60', 'QTLU5', 'QTLU10', 'QTLU20', 'QTLU30', 'QTLU60', 'QTLD5', 'QTLD10', 'QTLD20', 'QTLD30', 'QTLD60', 'TSRANK5', 'TSRANK10', 'TSRANK20', 'TSRANK30', 'TSRANK60', 'RSV5', 'RSV10', 'RSV20', 'RSV30', 'RSV60', 'IMAX5', 'IMAX10', 'IMAX20', 'IMAX30', 'IMAX60', 'IMIN5', 'IMIN10', 'IMIN20', 'IMIN30', 'IMIN60', 'IMXD5', 'IMXD10', 'IMXD20', 'IMXD30', 'IMXD60', 'CORR5', 'CORR10', 'CORR20', 'CORR30', 'CORR60', 'CORD5', 'CORD10', 'CORD20', 'CORD30', 'CORD60', 'CNTP5', 'CNTP10', 'CNTP20', 'CNTP30', 'CNTP60', 'CNTN5', 'CNTN10', 'CNTN20', 'CNTN30', 'CNTN60', 'CNTD5', 'CNTD10', 'CNTD20', 'CNTD30', 'CNTD60', 'SUMP5', 'SUMP10', 'SUMP20', 'SUMP30', 'SUMP60', 'SUMN5', 'SUMN10', 'SUMN20', 'SUMN30', 'SUMN60', 'SUMD5', 'SUMD10', 'SUMD20', 'SUMD30', 'SUMD60', 'VMA5', 'VMA10', 'VMA20', 'VMA30', 'VMA60', 'VSTD5', 'VSTD10', 'VSTD20', 'VSTD30', 'VSTD60', 'WVMA5', 'WVMA10', 'WVMA20', 'WVMA30', 'WVMA60', 'VSUMP5', 'VSUMP10', 'VSUMP20', 'VSUMP30', 'VSUMP60', 'VSUMN5', 'VSUMN10', 'VSUMN20', 'VSUMN30', 'VSUMN60', 'VSUMD5', 'VSUMD10', 'VSUMD20', 'VSUMD30', 'VSUMD60']\n",
    "INTEGER_CATEGORICAL_FEATURES = ['weekday', 'day_of_month', 'month']\n",
    "STRING_CATEGORICAL_FEATURES = ['day_of_week', 'season']\n",
    "\n",
    "train_data = transfer_data_type(train_data, NUMERIC_FEATURES, 'float32')\n",
    "train_data = transfer_data_type(train_data, INTEGER_CATEGORICAL_FEATURES, 'int32')\n",
    "train_data = transfer_data_type(train_data, STRING_CATEGORICAL_FEATURES, 'string')\n",
    "\n",
    "validation_data = transfer_data_type(validation_data, NUMERIC_FEATURES, 'float32')\n",
    "validation_data = transfer_data_type(validation_data, INTEGER_CATEGORICAL_FEATURES, 'int64')\n",
    "validation_data = transfer_data_type(validation_data, STRING_CATEGORICAL_FEATURES, 'string')\n",
    "\n",
    "NUMERIC_FEATURES_WITH_BOUNDARIES = {k: list(get_numeric_boundaries(train_data[k])) for k in NUMERIC_FEATURES}\n",
    "INTEGER_CATEGORICAL_FEATURES_WITH_VOCAB = {k: list(train_data[k].unique()) for k in INTEGER_CATEGORICAL_FEATURES}\n",
    "STRING_CATEGORICAL_FEATURES_WITH_VOCAB = {k: list(train_data[k].unique()) for k in STRING_CATEGORICAL_FEATURES}\n",
    "\n",
    "FEATURE_NAMES = NUMERIC_FEATURES + INTEGER_CATEGORICAL_FEATURES + STRING_CATEGORICAL_FEATURES"
   ]
  },
  {
   "cell_type": "code",
   "execution_count": 89,
   "metadata": {},
   "outputs": [],
   "source": [
    "def df_to_dataset(dataframe, feature_cols, label_cols, shuffle=True, batch_size=32):\n",
    "  features = dataframe[feature_cols]\n",
    "  labels = [dataframe[label_col] for label_col in label_cols]\n",
    "  ds = tf.data.Dataset.from_tensor_slices((dict(features), tuple(labels)))\n",
    "  if shuffle:\n",
    "    ds = ds.shuffle(buffer_size=len(features))\n",
    "  ds = ds.batch(batch_size)\n",
    "  return ds\n",
    "\n",
    "batch_size = 64\n",
    "train_ds = df_to_dataset(train_data, FEATURE_NAMES, TARGET_FEATURE_NAME, shuffle=True, batch_size=batch_size)\n",
    "val_ds = df_to_dataset(validation_data, FEATURE_NAMES, TARGET_FEATURE_NAME, shuffle=False, batch_size=batch_size)"
   ]
  },
  {
   "cell_type": "code",
   "execution_count": 90,
   "metadata": {},
   "outputs": [
    {
     "name": "stdout",
     "output_type": "stream",
     "text": [
      "(<tf.Tensor: shape=(64,), dtype=float64, numpy=\n",
      "array([-0.00068388, -0.01675042, -0.00603116,  0.06433566,  0.08055556,\n",
      "        0.10124802,  0.11310345,  0.07600342,  0.10742955,  0.06388206,\n",
      "        0.0695145 ,  0.05616   , -0.04423676, -0.04830769, -0.03297724,\n",
      "       -0.07082707, -0.08760108, -0.06320611, -0.02655008, -0.01405493,\n",
      "       -0.02606332, -0.00486934, -0.00741962, -0.03789992, -0.04100895,\n",
      "       -0.02629417, -0.02901896, -0.00652529, -0.00165865, -0.00359527,\n",
      "        0.02462636,  0.039209  ,  0.01994254, -0.00098264,  0.02521432,\n",
      "        0.00597411, -0.03421488, -0.09270217, -0.0665    , -0.09729286,\n",
      "       -0.11176471, -0.10097344, -0.0125    , -0.00368936, -0.06263158,\n",
      "       -0.03271984, -0.02469365,  0.04593443,  0.04980913,  0.07888889,\n",
      "        0.10677966,  0.16464705,  0.13034351,  0.08052632,  0.07418194,\n",
      "       -0.00833333,  0.        ,  0.        , -0.0083612 , -0.01170569,\n",
      "       -0.00672269, -0.00837521, -0.01172529, -0.01172529])>,)\n"
     ]
    }
   ],
   "source": [
    "for features, labels in val_ds.take(1):\n",
    "    print(labels)"
   ]
  },
  {
   "cell_type": "code",
   "execution_count": 91,
   "metadata": {},
   "outputs": [],
   "source": [
    "class Senet(tf.keras.layers.Layer):\n",
    "    def __init__(self, reduction_ratio=3, seed=1024, **kwargs):\n",
    "        super(Senet, self).__init__(**kwargs)\n",
    "        self.reduction_ratio = reduction_ratio\n",
    "        self.seed = seed  \n",
    "\n",
    "    def build(self, input_shape):\n",
    "        self.field_size = len(input_shape)\n",
    "        self.reduction_size = max(1, self.field_size // self.reduction_ratio)\n",
    "        self.scale_layer = tf.keras.layers.Dense(units=self.reduction_size, activation='relu')\n",
    "        self.expand_layer = tf.keras.layers.Dense(units=self.field_size, activation='relu')\n",
    "        super(Senet, self).build(input_shape)\n",
    "\n",
    "    def call(self, inputs, training=False):\n",
    "        # print(f\"Senet Is Training Mode: {training}\")\n",
    "        inputs = [tf.expand_dims(i, axis=1) for i in inputs]\n",
    "        inputs = tf.concat(inputs, axis=1) # [B, N, dim]\n",
    "        Z = tf.reduce_mean(inputs, axis=-1) # [B, N]\n",
    "        A_1 = self.scale_layer(Z, training=training) # [B, X]\n",
    "        A_2 = self.expand_layer(A_1, training=training) # [B, N]\n",
    "        scale_inputs = tf.multiply(inputs, tf.expand_dims(A_2, axis=-1))\n",
    "        output = scale_inputs + inputs # skip-connection\n",
    "        return output # [B, N, dim]\n",
    "\n",
    "    def get_config(self):\n",
    "        config = super(Senet, self).get_config()\n",
    "        config.update({\n",
    "            'reduction_ratio': self.reduction_ratio,\n",
    "            'seed': self.seed\n",
    "        })\n",
    "        return config\n",
    "\n",
    "class Dnn(tf.keras.layers.Layer):\n",
    "    def __init__(self, hidden_units=[64,32], activation=\"relu\", dropout_rate=0.2, use_bn=True, seed=1024, **kwargs):\n",
    "        super(Dnn, self).__init__(**kwargs)\n",
    "        self.hidden_units = hidden_units\n",
    "        self.activation = activation\n",
    "        self.dropout_rate = dropout_rate\n",
    "        self.use_bn = use_bn\n",
    "        self.seed = seed\n",
    "        self.dense_layers = []\n",
    "        self.dropout_layers = []\n",
    "        self.bn_layers = []\n",
    "        \n",
    "    def build(self, input_shape):\n",
    "        for units in self.hidden_units:\n",
    "            self.dense_layers.append(tf.keras.layers.Dense(units=units, activation=self.activation))\n",
    "            self.dropout_layers.append(tf.keras.layers.Dropout(rate=self.dropout_rate, seed=self.seed))\n",
    "            if self.use_bn:\n",
    "                self.bn_layers.append(tf.keras.layers.BatchNormalization())\n",
    "        super(Dnn, self).build(input_shape)  # Be sure to call this at the end\n",
    "    \n",
    "    def call(self, inputs, training=False):\n",
    "        # print(f\"Dnn Is Training Mode: {training}\")\n",
    "        x = inputs\n",
    "        for i in range(len(self.hidden_units)):\n",
    "            x = self.dense_layers[i](x)\n",
    "            if self.use_bn:\n",
    "                x = self.bn_layers[i](x, training=training)\n",
    "            x = self.dropout_layers[i](x, training=training)\n",
    "        return x\n",
    "\n",
    "    def get_config(self):\n",
    "        config = super(Dnn, self).get_config()\n",
    "        config.update({\n",
    "            'hidden_units': self.hidden_units,\n",
    "            'activation': self.activation,\n",
    "            'dropout_rate': self.dropout_rate,\n",
    "            'use_bn': self.use_bn,\n",
    "            'seed': self.seed\n",
    "        })\n",
    "        return config"
   ]
  },
  {
   "cell_type": "code",
   "execution_count": 92,
   "metadata": {},
   "outputs": [],
   "source": [
    "class QuantModel(tf.keras.Model):\n",
    "\tdef __init__(self, config, **kwargs):\n",
    "\t\tsuper(QuantModel, self).__init__(**kwargs)\n",
    "\t\tself.config = config\n",
    "\n",
    "\t\t# 添加属性来存储预定义的层\n",
    "\t\tself.lookup_layers = {}\n",
    "\t\tself.embedding_layers = {}\n",
    "\n",
    "        # 创建连续特征的离散化层和嵌入层\n",
    "\t\tfor feature_name, boundaries in self.config.get(\"numeric_features_with_boundaries\").items():\n",
    "\t\t\tself.lookup_layers[feature_name] = tf.keras.layers.Discretization(bin_boundaries=boundaries, output_mode='int', name=f'{feature_name}_lookup')\n",
    "\t\t\tself.embedding_layers[feature_name] = tf.keras.layers.Embedding(input_dim=len(boundaries) + 1, output_dim=self.config.get(\"feature_embedding_dims\", 6), name=f'{feature_name}_embedding')\n",
    "        # 创建整数特征的查找层和嵌入层\n",
    "\t\tfor feature_name, vocab in self.config.get(\"integer_categorical_features_with_vocab\").items():\n",
    "\t\t\tself.lookup_layers[feature_name] = tf.keras.layers.IntegerLookup(vocabulary=vocab, name=f'{feature_name}_lookup')\n",
    "\t\t\tself.embedding_layers[feature_name] = tf.keras.layers.Embedding(input_dim=len(vocab) + 1, output_dim=self.config.get(\"feature_embedding_dims\", 6), name=f'{feature_name}_embedding')\n",
    "\t\t# 创建字符串特征的查找层和嵌入层\n",
    "\t\tfor feature_name, vocab in self.config.get(\"string_categorical_features_with_vocab\").items():\n",
    "\t\t\tself.lookup_layers[feature_name] = tf.keras.layers.StringLookup(vocabulary=vocab, name=f'{feature_name}_lookup')\n",
    "\t\t\tself.embedding_layers[feature_name] = tf.keras.layers.Embedding(input_dim=len(vocab) + 1, output_dim=self.config.get(\"feature_embedding_dims\", 6), name=f'{feature_name}_embedding')\n",
    "\n",
    "\t\t# 任务Dnn层\n",
    "\t\tself.task_tower_list = []\n",
    "\t\tfor task_type in self.config['task_type']:\n",
    "\t\t\ttask_tower = tf.keras.Sequential([\n",
    "\t\t\t\tSenet(reduction_ratio=self.config.get('reduction_ratio', 3), seed=self.config.get('seed', 1024)),\n",
    "\t\t\t\ttf.keras.layers.Flatten(),\n",
    "\t\t\t\tDnn(\n",
    "\t\t\t\t\thidden_units=self.config.get('dnn_hidden_units', [64,32]), \n",
    "\t\t\t\t\tactivation=self.config.get('dnn_activation', 'relu'), \n",
    "\t\t\t\t\tdropout_rate=self.config.get('dnn_dropout', 0.2), \n",
    "\t\t\t\t\tuse_bn=self.config.get('dnn_use_bn', True), \n",
    "\t\t\t\t\tseed=self.config.get('seed', 1024),\n",
    "\t\t\t\t),\n",
    "\t\t\t\ttf.keras.layers.Dense(1, activation=None, name=task_type)\n",
    "\t\t\t])\n",
    "\t\t\tself.task_tower_list.append(task_tower)\n",
    "\n",
    "\tdef call(self, inputs, training=False):\n",
    "\t\t# print(f\"QuantModel Is Training Mode: {training}\")\n",
    "\t\t# 确保inputs是一个字典类型，每个键值对应一个特征输入\n",
    "\t\tif not isinstance(inputs, dict): \n",
    "\t\t\traise ValueError('The inputs to the model should be a dictionary where keys are feature names.')\n",
    "\t\tencoded_features = []\n",
    "    \t# 现在使用已经实例化的层来编码输入\n",
    "\t\tfor feature_name, feature_value in inputs.items():\n",
    "        \t# 使用预定义的查找层和嵌入层\n",
    "\t\t\tlookup_layer = self.lookup_layers[feature_name]\n",
    "\t\t\tembedding_layer = self.embedding_layers[feature_name]\n",
    "\t\t\tencoded_feature = embedding_layer(lookup_layer(feature_value))\n",
    "\t\t\tencoded_features.append(encoded_feature)\n",
    "\t\t\n",
    "\t\t# task任务塔\n",
    "\t\tlogits_list = []\n",
    "\t\tfor task_tower in self.task_tower_list:\n",
    "\t\t\ttask_output = task_tower(encoded_features)\n",
    "\t\t\tlogits_list.append(task_output)\n",
    "\t\treturn logits_list\n",
    "\t\n",
    "\tdef get_config(self):\n",
    "\t\t# 调用基类的get_config方法（如果基类实现了get_config）\n",
    "\t\tconfig = super(QuantModel, self).get_config()\n",
    "        # 添加QuantModel特有的配置信息\n",
    "\t\tconfig.update({\n",
    "            # 假设self.config是一个可序列化的字典，如果不是，你可能需要在这里适当地处理它\n",
    "            'config': self.config\n",
    "        })\n",
    "\t\treturn config"
   ]
  },
  {
   "cell_type": "code",
   "execution_count": 93,
   "metadata": {},
   "outputs": [],
   "source": [
    "model_config = {\n",
    "    \"seed\": 1024,\n",
    "    \"reduction_ratio\": 3,\n",
    "    \"dnn_hidden_units\": [64,32],\n",
    "    \"dnn_activation\": 'relu',\n",
    "    \"dnn_dropout\": 0.2,\n",
    "    \"dnn_use_bn\": True,\n",
    "    \"numeric_features_with_boundaries\": NUMERIC_FEATURES_WITH_BOUNDARIES,\n",
    "    \"integer_categorical_features_with_vocab\": INTEGER_CATEGORICAL_FEATURES_WITH_VOCAB,\n",
    "    \"string_categorical_features_with_vocab\": STRING_CATEGORICAL_FEATURES_WITH_VOCAB,\n",
    "    \"feature_embedding_dims\": 6,\n",
    "    \"task_type\": ['reg']\n",
    "    # \"task_type\": ['reg', 'cls']\n",
    "}\n",
    "\n",
    "model = QuantModel(model_config)"
   ]
  },
  {
   "cell_type": "code",
   "execution_count": 100,
   "metadata": {},
   "outputs": [
    {
     "name": "stdout",
     "output_type": "stream",
     "text": [
      "Epoch 1/10\n",
      "1464/1464 - 18s - loss: 0.0028 - val_loss: 0.0037 - 18s/epoch - 13ms/step\n",
      "Epoch 2/10\n",
      "1464/1464 - 11s - loss: 0.0026 - val_loss: 0.0037 - 11s/epoch - 7ms/step\n",
      "Epoch 3/10\n",
      "1464/1464 - 11s - loss: 0.0025 - val_loss: 0.0040 - 11s/epoch - 8ms/step\n",
      "Epoch 4/10\n",
      "1464/1464 - 11s - loss: 0.0023 - val_loss: 0.0039 - 11s/epoch - 8ms/step\n",
      "Epoch 5/10\n",
      "1464/1464 - 11s - loss: 0.0022 - val_loss: 0.0042 - 11s/epoch - 8ms/step\n",
      "Epoch 6/10\n",
      "1464/1464 - 11s - loss: 0.0020 - val_loss: 0.0044 - 11s/epoch - 8ms/step\n",
      "Epoch 7/10\n",
      "1464/1464 - 11s - loss: 0.0019 - val_loss: 0.0045 - 11s/epoch - 8ms/step\n",
      "Epoch 8/10\n",
      "1464/1464 - 11s - loss: 0.0018 - val_loss: 0.0048 - 11s/epoch - 8ms/step\n",
      "Epoch 9/10\n",
      "1464/1464 - 11s - loss: 0.0017 - val_loss: 0.0045 - 11s/epoch - 8ms/step\n",
      "Epoch 10/10\n",
      "1464/1464 - 11s - loss: 0.0016 - val_loss: 0.0044 - 11s/epoch - 8ms/step\n"
     ]
    },
    {
     "data": {
      "text/plain": [
       "<keras.src.callbacks.History at 0x4dccd3790>"
      ]
     },
     "execution_count": 100,
     "metadata": {},
     "output_type": "execute_result"
    }
   ],
   "source": [
    "monitor_indicator = 'val_loss'\n",
    "\n",
    "early_stopping = tf.keras.callbacks.EarlyStopping(\n",
    "    monitor=monitor_indicator,\n",
    "    verbose=2,\n",
    "    patience=10,\n",
    "    mode='min',\n",
    "    restore_best_weights=True,\n",
    ")\n",
    "best_checkpoint = tf.keras.callbacks.ModelCheckpoint(\n",
    "    './best_model',         # 模型保存路径和文件名\n",
    "    monitor=monitor_indicator,      # 监控的指标\n",
    "    verbose=2,               # 日志显示模式\n",
    "    save_best_only=True,     # 只保存最佳模型\n",
    "    mode='min',              # 'min' 表示监控指标应该最小化\n",
    "    save_weights_only=False,  # 如果为True，则只保存模型权重，否则保存整个模型\n",
    "    save_format='tf'\n",
    ")\n",
    "\n",
    "# 配置optimizer\n",
    "optimizer = tf.keras.optimizers.legacy.Adam(learning_rate=1e-3) # for Mac M1/M2\n",
    "# optimizer = tf.keras.optimizers.Adam(learning_rate=5e-4) # for intel\n",
    "\n",
    "# 配置loss & loss_weight\n",
    "# loss = [tf.keras.losses.MeanSquaredError(), tf.keras.losses.BinaryCrossentropy(from_logits=True)]\n",
    "loss = [tf.keras.losses.MeanSquaredError()]\n",
    "loss_weights = [1.0, 1.0]\n",
    "\n",
    "# 配置compile\n",
    "model.compile(\n",
    "    optimizer=optimizer, \n",
    "    loss=loss\n",
    "    )\n",
    "\n",
    "model.fit(\n",
    "        train_ds, \n",
    "        validation_data=val_ds, \n",
    "        epochs=10,\n",
    "        verbose=2,\n",
    "        # callbacks=[early_stopping, best_checkpoint]\n",
    ")\n",
    "\n",
    "# 训练完成后，加载最优模型\n",
    "# best_model = tf.keras.models.load_model('./best_model')"
   ]
  },
  {
   "cell_type": "code",
   "execution_count": 101,
   "metadata": {},
   "outputs": [],
   "source": [
    "# baseline_model.save('./stock_selection_base_model')\n",
    "# reloaded_model = tf.keras.models.load_model('./stock_selection_base_model')"
   ]
  },
  {
   "cell_type": "code",
   "execution_count": 102,
   "metadata": {},
   "outputs": [
    {
     "name": "stdout",
     "output_type": "stream",
     "text": [
      "173/173 [==============================] - 1s 4ms/step\n"
     ]
    },
    {
     "data": {
      "text/html": [
       "<div>\n",
       "<style scoped>\n",
       "    .dataframe tbody tr th:only-of-type {\n",
       "        vertical-align: middle;\n",
       "    }\n",
       "\n",
       "    .dataframe tbody tr th {\n",
       "        vertical-align: top;\n",
       "    }\n",
       "\n",
       "    .dataframe thead th {\n",
       "        text-align: right;\n",
       "    }\n",
       "</style>\n",
       "<table border=\"1\" class=\"dataframe\">\n",
       "  <thead>\n",
       "    <tr style=\"text-align: right;\">\n",
       "      <th></th>\n",
       "      <th>stock_code</th>\n",
       "      <th>stock_name</th>\n",
       "      <th>datetime</th>\n",
       "      <th>future_return</th>\n",
       "      <th>future_return_pred</th>\n",
       "    </tr>\n",
       "  </thead>\n",
       "  <tbody>\n",
       "    <tr>\n",
       "      <th>0</th>\n",
       "      <td>688981</td>\n",
       "      <td>中芯国际</td>\n",
       "      <td>2020-10-16</td>\n",
       "      <td>-0.000684</td>\n",
       "      <td>0.094419</td>\n",
       "    </tr>\n",
       "    <tr>\n",
       "      <th>1</th>\n",
       "      <td>688981</td>\n",
       "      <td>中芯国际</td>\n",
       "      <td>2020-10-19</td>\n",
       "      <td>-0.016750</td>\n",
       "      <td>0.024428</td>\n",
       "    </tr>\n",
       "    <tr>\n",
       "      <th>2</th>\n",
       "      <td>688981</td>\n",
       "      <td>中芯国际</td>\n",
       "      <td>2020-10-20</td>\n",
       "      <td>-0.006031</td>\n",
       "      <td>-0.001302</td>\n",
       "    </tr>\n",
       "    <tr>\n",
       "      <th>3</th>\n",
       "      <td>688981</td>\n",
       "      <td>中芯国际</td>\n",
       "      <td>2020-10-21</td>\n",
       "      <td>0.064336</td>\n",
       "      <td>-0.004858</td>\n",
       "    </tr>\n",
       "    <tr>\n",
       "      <th>4</th>\n",
       "      <td>688981</td>\n",
       "      <td>中芯国际</td>\n",
       "      <td>2020-10-22</td>\n",
       "      <td>0.080556</td>\n",
       "      <td>0.004910</td>\n",
       "    </tr>\n",
       "  </tbody>\n",
       "</table>\n",
       "</div>"
      ],
      "text/plain": [
       "  stock_code stock_name    datetime  future_return  future_return_pred\n",
       "0     688981       中芯国际  2020-10-16      -0.000684            0.094419\n",
       "1     688981       中芯国际  2020-10-19      -0.016750            0.024428\n",
       "2     688981       中芯国际  2020-10-20      -0.006031           -0.001302\n",
       "3     688981       中芯国际  2020-10-21       0.064336           -0.004858\n",
       "4     688981       中芯国际  2020-10-22       0.080556            0.004910"
      ]
     },
     "execution_count": 102,
     "metadata": {},
     "output_type": "execute_result"
    }
   ],
   "source": [
    "model_red_result = model.predict(val_ds)\n",
    "output_df = validation_data[['stock_code', 'stock_name', 'datetime']]\n",
    "output_df['future_return'] = validation_data['future_return']\n",
    "output_df['future_return_pred'] = model_red_result[0]\n",
    "# output_df['future_return_label'] = future_return_label\n",
    "output_df.head()"
   ]
  },
  {
   "cell_type": "code",
   "execution_count": 103,
   "metadata": {},
   "outputs": [],
   "source": [
    "output_df.to_pickle('../../Offline/backtest/backtest_data/stock_selection_result.pkl')"
   ]
  },
  {
   "cell_type": "code",
   "execution_count": 104,
   "metadata": {},
   "outputs": [
    {
     "data": {
      "text/html": [
       "<div>\n",
       "<style scoped>\n",
       "    .dataframe tbody tr th:only-of-type {\n",
       "        vertical-align: middle;\n",
       "    }\n",
       "\n",
       "    .dataframe tbody tr th {\n",
       "        vertical-align: top;\n",
       "    }\n",
       "\n",
       "    .dataframe thead th {\n",
       "        text-align: right;\n",
       "    }\n",
       "</style>\n",
       "<table border=\"1\" class=\"dataframe\">\n",
       "  <thead>\n",
       "    <tr style=\"text-align: right;\">\n",
       "      <th></th>\n",
       "      <th>stock_code</th>\n",
       "      <th>stock_name</th>\n",
       "      <th>datetime</th>\n",
       "      <th>future_return</th>\n",
       "      <th>future_return_pred</th>\n",
       "    </tr>\n",
       "  </thead>\n",
       "  <tbody>\n",
       "    <tr>\n",
       "      <th>1128</th>\n",
       "      <td>603799</td>\n",
       "      <td>华友钴业</td>\n",
       "      <td>2020-02-19</td>\n",
       "      <td>-0.124177</td>\n",
       "      <td>0.258885</td>\n",
       "    </tr>\n",
       "    <tr>\n",
       "      <th>13</th>\n",
       "      <td>688111</td>\n",
       "      <td>金山办公</td>\n",
       "      <td>2020-03-09</td>\n",
       "      <td>-0.022258</td>\n",
       "      <td>0.242466</td>\n",
       "    </tr>\n",
       "    <tr>\n",
       "      <th>2078</th>\n",
       "      <td>601633</td>\n",
       "      <td>长城汽车</td>\n",
       "      <td>2020-08-25</td>\n",
       "      <td>0.131848</td>\n",
       "      <td>0.214109</td>\n",
       "    </tr>\n",
       "    <tr>\n",
       "      <th>1130</th>\n",
       "      <td>603799</td>\n",
       "      <td>华友钴业</td>\n",
       "      <td>2020-02-21</td>\n",
       "      <td>-0.136914</td>\n",
       "      <td>0.209218</td>\n",
       "    </tr>\n",
       "    <tr>\n",
       "      <th>6</th>\n",
       "      <td>688981</td>\n",
       "      <td>中芯国际</td>\n",
       "      <td>2020-10-26</td>\n",
       "      <td>0.113103</td>\n",
       "      <td>0.208430</td>\n",
       "    </tr>\n",
       "  </tbody>\n",
       "</table>\n",
       "</div>"
      ],
      "text/plain": [
       "     stock_code stock_name    datetime  future_return  future_return_pred\n",
       "1128     603799       华友钴业  2020-02-19      -0.124177            0.258885\n",
       "13       688111       金山办公  2020-03-09      -0.022258            0.242466\n",
       "2078     601633       长城汽车  2020-08-25       0.131848            0.214109\n",
       "1130     603799       华友钴业  2020-02-21      -0.136914            0.209218\n",
       "6        688981       中芯国际  2020-10-26       0.113103            0.208430"
      ]
     },
     "execution_count": 104,
     "metadata": {},
     "output_type": "execute_result"
    }
   ],
   "source": [
    "output_df.sort_values(by=['future_return_pred'], ascending=False).head()"
   ]
  },
  {
   "cell_type": "code",
   "execution_count": 37,
   "metadata": {},
   "outputs": [],
   "source": [
    "# max_return_pred, min_return_pred = model.predict(val_ds)\n",
    "# output_df = validation_data[['stock_code', 'stock_name', 'datetime']]\n",
    "# output_df['max_return'] = validation_data['max_return']\n",
    "# output_df['max_return_pred'] = max_return_pred\n",
    "# output_df['min_return'] = validation_data['min_return']\n",
    "# output_df['min_return_pred'] = min_return_pred\n",
    "# output_df.head()"
   ]
  },
  {
   "cell_type": "code",
   "execution_count": 99,
   "metadata": {},
   "outputs": [
    {
     "data": {
      "text/plain": [
       "{'precision': 0.0, 'recall': 0.0}"
      ]
     },
     "execution_count": 99,
     "metadata": {},
     "output_type": "execute_result"
    }
   ],
   "source": [
    "from sklearn.metrics import precision_score, recall_score\n",
    "\n",
    "def calculate_performance(dataframe, target_col, threshold):\n",
    "    y_true = dataframe[target_col] >= threshold\n",
    "    y_pred = dataframe[target_col+'_pred'] >= threshold\n",
    "    output = {'precision': precision_score(y_true, y_pred), 'recall': recall_score(y_true, y_pred)}\n",
    "    return output\n",
    "\n",
    "calculate_performance(output_df, 'future_return', 0.1)"
   ]
  },
  {
   "cell_type": "code",
   "execution_count": null,
   "metadata": {},
   "outputs": [],
   "source": []
  }
 ],
 "metadata": {
  "kernelspec": {
   "display_name": ".venv",
   "language": "python",
   "name": "python3"
  },
  "language_info": {
   "codemirror_mode": {
    "name": "ipython",
    "version": 3
   },
   "file_extension": ".py",
   "mimetype": "text/x-python",
   "name": "python",
   "nbconvert_exporter": "python",
   "pygments_lexer": "ipython3",
   "version": "3.10.13"
  }
 },
 "nbformat": 4,
 "nbformat_minor": 2
}
