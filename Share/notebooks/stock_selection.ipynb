{
 "cells": [
  {
   "cell_type": "code",
   "execution_count": 1,
   "metadata": {},
   "outputs": [],
   "source": [
    "import sys\n",
    "sys.path.append('../')\n",
    "\n",
    "import warnings\n",
    "warnings.filterwarnings(\"ignore\")\n",
    "\n",
    "import os\n",
    "import pandas as pd\n",
    "import numpy as np\n",
    "import akshare as ak\n",
    "import sqlite3\n",
    "import matplotlib.pyplot as plt\n",
    "%matplotlib inline\n",
    "\n",
    "from datetime import datetime\n",
    "from dateutil.relativedelta import relativedelta\n",
    "from tqdm import tqdm\n",
    "from database.downloader.downloader_base import DownloaderBase\n",
    "import database.database_config as db_config\n",
    "\n",
    "pd.options.display.max_rows=None\n",
    "pd.options.display.max_columns=None"
   ]
  },
  {
   "cell_type": "code",
   "execution_count": 2,
   "metadata": {},
   "outputs": [],
   "source": [
    "def plot_series_dist(series):\n",
    "    data = series\n",
    "    # 使用matplotlib画直方图\n",
    "    plt.hist(data, bins=60, edgecolor='k', alpha=0.7)\n",
    "    plt.xlabel('Value')\n",
    "    plt.ylabel('Frequency')\n",
    "    plt.title('Histogram of Data')\n",
    "    plt.show()\n",
    "\n",
    "class PreProcessing:\n",
    "    def __init__(self, db_downloader:DownloaderBase) -> None:\n",
    "        self.db_downloader = db_downloader\n",
    "\n",
    "    def _build_label(self, stock_dataframe):\n",
    "        N = 5 # 最大持仓周期 = N天，第N+1天开盘卖出\n",
    "        df = stock_dataframe.copy()\n",
    "        # 标签构建\n",
    "        df['future_return'] = df['close'].shift(-N) / df['open'].shift(-1) - 1 # 计算第N日收益率\n",
    "        # 极值处理\n",
    "        df['future_return'] = np.clip(\n",
    "            df['future_return'], \n",
    "            np.nanquantile(df['future_return'], 0.01), \n",
    "            np.nanquantile(df['future_return'], 0.99),\n",
    "            )\n",
    "        # 过滤第二天一字涨停情况\n",
    "        df = df[df['high'].shift(-1) != df['low'].shift(-1)]\n",
    "        return df[['datetime', 'future_return']]\n",
    "\n",
    "\n",
    "    def _process_one_stock(self, stock_code, start_date, end_date):\n",
    "        stock_base = self.db_downloader._download_stock_base_info(stock_code) # 获取基础代码\n",
    "        stock_individual = self.db_downloader._download_stock_individual_info(stock_code) # 获取profile信息\n",
    "        stock_history = self.db_downloader._download_stock_history_info(stock_code, start_date, end_date) # 获取历史行情\n",
    "        stock_indicator = self.db_downloader._download_stock_indicator_info(stock_code, start_date, end_date) # 获取指标数据\n",
    "        stock_factor_date = self.db_downloader._download_stock_factor_date_info() # 获取日期特征\n",
    "        stock_factor_qlib = self.db_downloader._download_stock_factor_qlib_info(stock_code, start_date, end_date) # 获取量价特征\n",
    "        stock_label = self._build_label(stock_history) # 构建label\n",
    "        stock_df = stock_base.merge(stock_individual, on=['stock_code']).merge(stock_history, on=['stock_code']).merge(stock_indicator, on=['stock_code', 'datetime']).merge(stock_label, on=['datetime']).merge(stock_factor_date, on=['datetime']).merge(stock_factor_qlib, on=['stock_code', 'datetime']) # 整合数据\n",
    "        stock_df = stock_base \\\n",
    "            .merge(stock_individual, on=['stock_code', 'stock_name']) \\\n",
    "            .merge(stock_history, on=['stock_code']) \\\n",
    "            .merge(stock_indicator, on=['stock_code', 'datetime']) \\\n",
    "            .merge(stock_label, on=['datetime']) \\\n",
    "            .merge(stock_factor_date, on=['datetime']) \\\n",
    "            .merge(stock_factor_qlib, on=['stock_code', 'datetime']) # 整合数据\n",
    "        stock_df = stock_df.dropna()\n",
    "        return stock_df\n",
    "    \n",
    "    def _process_all_stock(self, code_type, start_date, end_date):\n",
    "        # stock_code_list = list(ak.stock_info_a_code_name()['code'].unique()) # 获取A股所有股票列表\n",
    "        stock_code_list = list(ak.index_stock_cons(code_type)['品种代码'].unique()) # 获取沪深300的股票代码列表\n",
    "        stock_df_list = []\n",
    "        for stock_code in tqdm(stock_code_list, desc=f'Process: {code_type} ...'):\n",
    "            stock_df = self._process_one_stock(stock_code, start_date, end_date)\n",
    "            if not stock_df.empty:\n",
    "                stock_df_list.append(stock_df)\n",
    "        return pd.concat(stock_df_list)\n",
    "        # return stock_df_list"
   ]
  },
  {
   "cell_type": "code",
   "execution_count": 3,
   "metadata": {},
   "outputs": [],
   "source": [
    "db_conn = sqlite3.connect('../database/hh_quant.db')\n",
    "db_downloader = DownloaderBase(db_conn, db_config)\n",
    "proprocessor = PreProcessing(db_downloader=db_downloader)"
   ]
  },
  {
   "cell_type": "markdown",
   "metadata": {},
   "source": [
    "## 使用Tensorflow"
   ]
  },
  {
   "cell_type": "code",
   "execution_count": 4,
   "metadata": {},
   "outputs": [
    {
     "name": "stderr",
     "output_type": "stream",
     "text": [
      "2024-03-20 18:42:59.213737: I tensorflow/core/platform/cpu_feature_guard.cc:182] This TensorFlow binary is optimized to use available CPU instructions in performance-critical operations.\n",
      "To enable the following instructions: AVX2 AVX512F AVX512_VNNI FMA, in other operations, rebuild TensorFlow with the appropriate compiler flags.\n"
     ]
    },
    {
     "name": "stdout",
     "output_type": "stream",
     "text": [
      "2.15.0\n"
     ]
    }
   ],
   "source": [
    "# 使用tensorflow处理原始数据\n",
    "import numpy as np\n",
    "import pandas as pd\n",
    "import tensorflow as tf\n",
    "from model import QuantModel\n",
    "print(tf.__version__)"
   ]
  },
  {
   "cell_type": "code",
   "execution_count": 5,
   "metadata": {},
   "outputs": [],
   "source": [
    "def extract_train_val_data(df, train_start_date, train_end_date, val_start_date, val_end_date):\n",
    "    train_start_date = pd.to_datetime(train_start_date)\n",
    "    train_end_date = pd.to_datetime(train_end_date)\n",
    "    val_start_date = pd.to_datetime(val_start_date)\n",
    "    val_end_date = pd.to_datetime(val_end_date)\n",
    "\n",
    "    train_data = df[(pd.to_datetime(df['datetime']) >= train_start_date) & (pd.to_datetime(df['datetime']) <= train_end_date)]\n",
    "    val_data = df[(pd.to_datetime(df['datetime']) >= val_start_date) & (pd.to_datetime(df['datetime']) <= val_end_date)]\n",
    "\n",
    "    print(f\"train_data_size: {train_data.shape}\")\n",
    "    print(f\"validation_data_size: {val_data.shape}\")\n",
    "    return train_data, val_data\n",
    "\n",
    "def transfer_data_type(df, columns, dtype):\n",
    "    for col in columns:\n",
    "        df[col] = df[col].astype(dtype)\n",
    "    return df\n",
    "\n",
    "def get_numeric_boundaries(series, num_bins=20):\n",
    "    if series.nunique() < num_bins:\n",
    "        boundaries = sorted(series.unique())\n",
    "    else:\n",
    "        boundaries = sorted(pd.qcut(series, num_bins, retbins=True, duplicates='drop')[1].tolist())\n",
    "    return boundaries\n",
    "\n",
    "def df_to_dataset(dataframe, feature_cols, label_cols, shuffle=True, batch_size=32):\n",
    "    features = dataframe[feature_cols]\n",
    "    labels = [dataframe[label_col] for label_col in label_cols]\n",
    "    ds = tf.data.Dataset.from_tensor_slices((dict(features), tuple(labels)))\n",
    "    if shuffle:\n",
    "        ds = ds.shuffle(buffer_size=len(features))\n",
    "    ds = ds.batch(batch_size)\n",
    "    ds = ds.prefetch(batch_size)\n",
    "    return ds"
   ]
  },
  {
   "cell_type": "code",
   "execution_count": 6,
   "metadata": {},
   "outputs": [
    {
     "data": {
      "text/plain": [
       "[['20150101', '20181231', '20190101', '20190630'],\n",
       " ['20150701', '20190630', '20190701', '20191231'],\n",
       " ['20160101', '20191231', '20200101', '20200630'],\n",
       " ['20160701', '20200630', '20200701', '20201231'],\n",
       " ['20170101', '20201231', '20210101', '20210630'],\n",
       " ['20170701', '20210630', '20210701', '20211231'],\n",
       " ['20180101', '20211231', '20220101', '20220630'],\n",
       " ['20180701', '20220630', '20220701', '20221231'],\n",
       " ['20190101', '20221231', '20230101', '20230630'],\n",
       " ['20190701', '20230630', '20230701', '20231231']]"
      ]
     },
     "execution_count": 6,
     "metadata": {},
     "output_type": "execute_result"
    }
   ],
   "source": [
    "backtest_start_date = '20190101'\n",
    "backtest_end_date = '20240101'\n",
    "train_period = 4 # year：训练数据周期长度\n",
    "update_period = 6 # month：模型更新周期长度\n",
    "\n",
    "def get_rolling_date_period(backtest_start_date, backtest_end_date, training_period, update_period):\n",
    "    backtest_start_date = datetime.strptime(backtest_start_date, '%Y%m%d')\n",
    "    backtest_end_date = datetime.strptime(backtest_end_date, '%Y%m%d')\n",
    "    result = []\n",
    "    rolling_flag = True\n",
    "    while rolling_flag:\n",
    "        current_val_start_date = backtest_start_date\n",
    "        current_val_end_date = current_val_start_date + relativedelta(months=update_period) - relativedelta(days=1)\n",
    "        if current_val_start_date < backtest_end_date:\n",
    "            current_train_start_date = current_val_start_date - relativedelta(years=training_period)\n",
    "            current_train_end_date = current_val_start_date - relativedelta(days=1)\n",
    "            result.append([\n",
    "                current_train_start_date.strftime(\"%Y%m%d\"),\n",
    "                current_train_end_date.strftime(\"%Y%m%d\"),\n",
    "                current_val_start_date.strftime(\"%Y%m%d\"),\n",
    "                current_val_end_date.strftime(\"%Y%m%d\")\n",
    "                ])\n",
    "            backtest_start_date += relativedelta(months=update_period) \n",
    "        else:\n",
    "            rolling_flag=False # 结束滚动训练\n",
    "    return result\n",
    "\n",
    "rolling_period = get_rolling_date_period(backtest_start_date, backtest_end_date, train_period, update_period)\n",
    "rolling_period"
   ]
  },
  {
   "cell_type": "code",
   "execution_count": 7,
   "metadata": {},
   "outputs": [],
   "source": [
    "# df = proprocessor._process_all_stock(code_type='000016', start_date='20170701', end_date='20231231')"
   ]
  },
  {
   "cell_type": "code",
   "execution_count": 8,
   "metadata": {},
   "outputs": [],
   "source": [
    "from sklearn.base import BaseEstimator, TransformerMixin\n",
    "\n",
    "class FeaturePreprocessor(BaseEstimator, TransformerMixin):\n",
    "    def __init__(self):\n",
    "        self.means_ = None\n",
    "        self.stds_ = None\n",
    "\n",
    "    def fit(self, X, y=None):\n",
    "        self.means_ = X.mean()\n",
    "        self.stds_ = X.std()\n",
    "        return self\n",
    "\n",
    "    def transform(self, X, y=None):\n",
    "        # 检查是否已经拟合\n",
    "        if self.means_ is None or self.stds_ is None:\n",
    "            raise RuntimeError(\"The model has not been fitted yet!\")\n",
    "\n",
    "        X_clipped = X.clip(self.means_ - 3 * self.stds_, self.means_ + 3 * self.stds_, axis=1) # 极值处理\n",
    "        X_standardized = (X_clipped - self.means_) / self.stds_ # 标准化\n",
    "        return X_standardized\n",
    "\n",
    "    def fit_transform(self, X, y=None):\n",
    "        return self.fit(X, y).transform(X, y)\n",
    "    \n",
    "    def inverse_transform(self, X_standardized, y=None):\n",
    "        # 检查是否已经拟合\n",
    "        if self.means_ is None or self.stds_ is None:\n",
    "            raise RuntimeError(\"The model has not been fitted yet!\")\n",
    "        \n",
    "        # 反标准化\n",
    "        X_original = (X_standardized * self.stds_) + self.means_\n",
    "        return X_original"
   ]
  },
  {
   "cell_type": "code",
   "execution_count": 9,
   "metadata": {},
   "outputs": [
    {
     "name": "stderr",
     "output_type": "stream",
     "text": [
      "Rolling Training...:   0%|          | 0/1 [00:00<?, ?it/s]"
     ]
    },
    {
     "name": "stdout",
     "output_type": "stream",
     "text": [
      "train_start: 20150101, train_end: 20181231, val_start: 20190101, val_end: 20190630\n"
     ]
    },
    {
     "name": "stderr",
     "output_type": "stream",
     "text": [
      "Process: 000016 ...: 100%|██████████| 50/50 [00:05<00:00,  9.10it/s]\n"
     ]
    },
    {
     "name": "stdout",
     "output_type": "stream",
     "text": [
      "train_data_size: (32394, 207)\n",
      "validation_data_size: (4185, 207)\n",
      "Epoch 1/50\n",
      "dnn_output: (None, 64)\n",
      "cin_output: (None, 254)\n",
      "dnn_output: (None, 64)\n",
      "cin_output: (None, 254)\n",
      "dnn_output: (None, 64)\n",
      "cin_output: (None, 254)\n",
      "127/127 - 99s - loss: 0.8036 - mean_absolute_error: 0.6646 - mean_squared_error: 0.7502 - val_loss: 0.0681 - val_mean_absolute_error: 0.1197 - val_mean_squared_error: 0.0212 - 99s/epoch - 783ms/step\n",
      "Epoch 2/50\n",
      "127/127 - 80s - loss: 0.2672 - mean_absolute_error: 0.3701 - mean_squared_error: 0.2236 - val_loss: 0.0534 - val_mean_absolute_error: 0.0927 - val_mean_squared_error: 0.0133 - 80s/epoch - 631ms/step\n",
      "Epoch 3/50\n",
      "127/127 - 80s - loss: 0.1392 - mean_absolute_error: 0.2475 - mean_squared_error: 0.1010 - val_loss: 0.0452 - val_mean_absolute_error: 0.0740 - val_mean_squared_error: 0.0088 - 80s/epoch - 631ms/step\n",
      "Epoch 4/50\n",
      "127/127 - 81s - loss: 0.0879 - mean_absolute_error: 0.1774 - mean_squared_error: 0.0526 - val_loss: 0.0418 - val_mean_absolute_error: 0.0683 - val_mean_squared_error: 0.0075 - 81s/epoch - 638ms/step\n",
      "Epoch 5/50\n",
      "127/127 - 77s - loss: 0.0622 - mean_absolute_error: 0.1303 - mean_squared_error: 0.0285 - val_loss: 0.0383 - val_mean_absolute_error: 0.0568 - val_mean_squared_error: 0.0053 - 77s/epoch - 607ms/step\n",
      "Epoch 6/50\n",
      "127/127 - 79s - loss: 0.0493 - mean_absolute_error: 0.0998 - mean_squared_error: 0.0168 - val_loss: 0.0367 - val_mean_absolute_error: 0.0529 - val_mean_squared_error: 0.0046 - 79s/epoch - 619ms/step\n",
      "Epoch 7/50\n",
      "127/127 - 80s - loss: 0.0421 - mean_absolute_error: 0.0784 - mean_squared_error: 0.0103 - val_loss: 0.0355 - val_mean_absolute_error: 0.0492 - val_mean_squared_error: 0.0041 - 80s/epoch - 627ms/step\n",
      "Epoch 8/50\n",
      "127/127 - 82s - loss: 0.0379 - mean_absolute_error: 0.0630 - mean_squared_error: 0.0067 - val_loss: 0.0343 - val_mean_absolute_error: 0.0447 - val_mean_squared_error: 0.0034 - 82s/epoch - 649ms/step\n",
      "Epoch 9/50\n",
      "127/127 - 84s - loss: 0.0355 - mean_absolute_error: 0.0528 - mean_squared_error: 0.0047 - val_loss: 0.0339 - val_mean_absolute_error: 0.0446 - val_mean_squared_error: 0.0034 - 84s/epoch - 658ms/step\n",
      "Epoch 10/50\n",
      "127/127 - 80s - loss: 0.0340 - mean_absolute_error: 0.0462 - mean_squared_error: 0.0037 - val_loss: 0.0332 - val_mean_absolute_error: 0.0424 - val_mean_squared_error: 0.0031 - 80s/epoch - 633ms/step\n",
      "Epoch 11/50\n"
     ]
    }
   ],
   "source": [
    "feature_config = {\n",
    "    \"target_feature_name\": [\"future_return\"],\n",
    "    \"numeric_features\": ['turnover_rate', 'pe_ttm', 'ps_ttm', 'pcf_ncf_ttm', 'pb_mrq', 'KMID', 'KLEN', 'KMID2', 'KUP', 'KUP2', 'KLOW', 'KLOW2', 'KSFT', 'KSFT2', 'OPEN0', 'OPEN1', 'OPEN2', 'OPEN3', 'OPEN4', 'HIGH0', 'HIGH1', 'HIGH2', 'HIGH3', 'HIGH4', 'LOW0', 'LOW1', 'LOW2', 'LOW3', 'LOW4', 'CLOSE0', 'CLOSE1', 'CLOSE2', 'CLOSE3', 'CLOSE4', 'VOLUME0', 'VOLUME1', 'VOLUME2', 'VOLUME3', 'VOLUME4', 'ROC5', 'ROC10', 'ROC20', 'ROC30', 'ROC60', 'MAX5', 'MAX10', 'MAX20', 'MAX30', 'MAX60', 'MIN5', 'MIN10', 'MIN20', 'MIN30', 'MIN60', 'MA5', 'MA10', 'MA20', 'MA30', 'MA60', 'STD5', 'STD10', 'STD20', 'STD30', 'STD60', 'BETA5', 'BETA10', 'BETA20', 'BETA30', 'BETA60', 'RSQR5', 'RSQR10', 'RSQR20', 'RSQR30', 'RSQR60', 'RESI5', 'RESI10', 'RESI20', 'RESI30', 'RESI60', 'QTLU5', 'QTLU10', 'QTLU20', 'QTLU30', 'QTLU60', 'QTLD5', 'QTLD10', 'QTLD20', 'QTLD30', 'QTLD60', 'TSRANK5', 'TSRANK10', 'TSRANK20', 'TSRANK30', 'TSRANK60', 'RSV5', 'RSV10', 'RSV20', 'RSV30', 'RSV60', 'IMAX5', 'IMAX10', 'IMAX20', 'IMAX30', 'IMAX60', 'IMIN5', 'IMIN10', 'IMIN20', 'IMIN30', 'IMIN60', 'IMXD5', 'IMXD10', 'IMXD20', 'IMXD30', 'IMXD60', 'CORR5', 'CORR10', 'CORR20', 'CORR30', 'CORR60', 'CORD5', 'CORD10', 'CORD20', 'CORD30', 'CORD60', 'CNTP5', 'CNTP10', 'CNTP20', 'CNTP30', 'CNTP60', 'CNTN5', 'CNTN10', 'CNTN20', 'CNTN30', 'CNTN60', 'CNTD5', 'CNTD10', 'CNTD20', 'CNTD30', 'CNTD60', 'SUMP5', 'SUMP10', 'SUMP20', 'SUMP30', 'SUMP60', 'SUMN5', 'SUMN10', 'SUMN20', 'SUMN30', 'SUMN60', 'SUMD5', 'SUMD10', 'SUMD20', 'SUMD30', 'SUMD60', 'VMA5', 'VMA10', 'VMA20', 'VMA30', 'VMA60', 'VSTD5', 'VSTD10', 'VSTD20', 'VSTD30', 'VSTD60', 'WVMA5', 'WVMA10', 'WVMA20', 'WVMA30', 'WVMA60', 'VSUMP5', 'VSUMP10', 'VSUMP20', 'VSUMP30', 'VSUMP60', 'VSUMN5', 'VSUMN10', 'VSUMN20', 'VSUMN30', 'VSUMN60', 'VSUMD5', 'VSUMD10', 'VSUMD20', 'VSUMD30', 'VSUMD60'],\n",
    "    \"integer_categorical_features\": ['weekday', 'day_of_month', 'month'],\n",
    "    \"string_categorical_features\": ['industry', 'day_of_week', 'season']\n",
    "}\n",
    "full_feature_names = feature_config.get('numeric_features', []) + feature_config.get('integer_categorical_features', []) + feature_config.get('string_categorical_features', [])\n",
    "benchmark = '000016' # [上证50:000016, 沪深300:000300, 中证500:000905]所有股票作为训练数据\n",
    "batch_size = 256\n",
    "\n",
    "for date_period in tqdm(rolling_period[:1], desc='Rolling Training...'):\n",
    "    train_start_date, train_end_date, val_start_date, val_end_date = date_period\n",
    "    print(f\"train_start: {train_start_date}, train_end: {train_end_date}, val_start: {val_start_date}, val_end: {val_end_date}\")\n",
    "    # 1. 获取所有股票信息\n",
    "    df = proprocessor._process_all_stock(code_type=benchmark, start_date=train_start_date, end_date=val_end_date)\n",
    "    # 2. 拆分训练数据&验证数据\n",
    "    train_data, val_data = extract_train_val_data(df, train_start_date, train_end_date, val_start_date, val_end_date)\n",
    "    # 2.1 特征工程\n",
    "    feature_fp = FeaturePreprocessor()\n",
    "    norm_feature_columns = feature_config.get('numeric_features', [])\n",
    "    train_data[norm_feature_columns] = feature_fp.fit_transform(train_data[norm_feature_columns])\n",
    "    val_data[norm_feature_columns] = feature_fp.transform(val_data[norm_feature_columns])\n",
    "    \n",
    "    # 3. 构建训练集和验证集\n",
    "    train_ds = df_to_dataset(train_data, full_feature_names, feature_config.get('target_feature_name', []), shuffle=True, batch_size=batch_size)\n",
    "    val_ds = df_to_dataset(val_data, full_feature_names, feature_config.get('target_feature_name', []), shuffle=False, batch_size=batch_size)\n",
    "    # 4. 配置模型相关参数\n",
    "    model_config = {\n",
    "        \"seed\": 1024,\n",
    "        \"reduction_ratio\": 3,\n",
    "        \"cin_size\": [32, 32],\n",
    "        \"dnn_hidden_units\": [128,64],\n",
    "        \"dnn_activation\": 'relu',\n",
    "        \"dnn_dropout\": 0.2,\n",
    "        \"dnn_use_bn\": True,\n",
    "        \"numeric_features_with_boundaries\": {k: list(get_numeric_boundaries(train_data[k])) for k in feature_config.get('numeric_features', [])},\n",
    "        \"integer_categorical_features_with_vocab\": {k: list(train_data[k].unique()) for k in feature_config.get('integer_categorical_features', [])},\n",
    "        \"string_categorical_features_with_vocab\": {k: list(train_data[k].unique()) for k in feature_config.get('string_categorical_features', [])},\n",
    "        \"feature_embedding_dims\": 4,\n",
    "        \"task_type\": ['reg'],\n",
    "    }\n",
    "    # 5. 初始化模型\n",
    "    model = QuantModel(model_config)\n",
    "\n",
    "    # 8. 配置optimizer\n",
    "    initial_learning_rate = 1e-3\n",
    "    lr_schedule = tf.keras.optimizers.schedules.InverseTimeDecay(\n",
    "        initial_learning_rate,\n",
    "        decay_steps=(len(train_data) // batch_size)*10,\n",
    "        decay_rate=1,\n",
    "        staircase=False)\n",
    "    model.compile(\n",
    "        optimizer=tf.keras.optimizers.legacy.Adam(lr_schedule), \n",
    "        loss=tf.keras.losses.MeanSquaredError(),\n",
    "        metrics=[\n",
    "            tf.keras.metrics.MeanAbsoluteError(),\n",
    "            tf.keras.metrics.MeanSquaredError()\n",
    "        ]\n",
    "    )\n",
    "    model.fit(\n",
    "            train_ds, \n",
    "            validation_data=val_ds, \n",
    "            epochs=50,\n",
    "            verbose=2,\n",
    "            callbacks=[\n",
    "                tf.keras.callbacks.EarlyStopping(monitor='val_loss', patience=10),\n",
    "                tf.keras.callbacks.TensorBoard(log_dir=\"./logs/fit/\" + datetime.now().strftime(\"%Y%m%d-%H%M%S\"), histogram_freq=1)\n",
    "            ],\n",
    "    )\n",
    "    # 9. 配置保存模型功能\n",
    "    # model_save_path = f'./models/saved_model/model_of_{val_start_date}'\n",
    "    # model.save(model_save_path)\n",
    "    # best_model = tf.keras.models.load_model('./best_model')\n",
    "\n",
    "    # 10. 记录预测集合\n",
    "    model_pred_dir = f'../../Offline/backtest/backtest_data/{benchmark}/'\n",
    "    os.makedirs(model_pred_dir, exist_ok=True)\n",
    "    model_red_result = model.predict(val_ds)\n",
    "    output_df = val_data[['stock_code', 'stock_name', 'datetime']]\n",
    "    output_df['future_return'] = val_data['future_return']\n",
    "    output_df['future_return_pred'] = model_red_result\n",
    "    output_file_path = f'{model_pred_dir}/stock_selection_results_{val_start_date}.pkl'\n",
    "    output_df.to_pickle(output_file_path)"
   ]
  },
  {
   "cell_type": "code",
   "execution_count": null,
   "metadata": {},
   "outputs": [],
   "source": [
    "# model.summary()"
   ]
  },
  {
   "cell_type": "code",
   "execution_count": null,
   "metadata": {},
   "outputs": [],
   "source": [
    "# model_config"
   ]
  },
  {
   "cell_type": "code",
   "execution_count": null,
   "metadata": {},
   "outputs": [],
   "source": []
  }
 ],
 "metadata": {
  "kernelspec": {
   "display_name": ".venv",
   "language": "python",
   "name": "python3"
  },
  "language_info": {
   "codemirror_mode": {
    "name": "ipython",
    "version": 3
   },
   "file_extension": ".py",
   "mimetype": "text/x-python",
   "name": "python",
   "nbconvert_exporter": "python",
   "pygments_lexer": "ipython3",
   "version": "3.10.13"
  }
 },
 "nbformat": 4,
 "nbformat_minor": 2
}
