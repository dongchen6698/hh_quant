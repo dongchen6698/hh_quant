{
 "cells": [
  {
   "cell_type": "code",
   "execution_count": 11,
   "metadata": {},
   "outputs": [],
   "source": [
    "import sys\n",
    "sys.path.append('../')\n",
    "\n",
    "import warnings\n",
    "warnings.filterwarnings(\"ignore\")\n",
    "\n",
    "import pandas as pd\n",
    "import numpy as np\n",
    "import akshare as ak\n",
    "import sqlite3\n",
    "\n",
    "from datetime import datetime\n",
    "from dateutil.relativedelta import relativedelta\n",
    "from tqdm import tqdm\n",
    "from database.downloader.downloader_base import DownloaderBase\n",
    "import database.database_config as db_config\n",
    "\n",
    "pd.options.display.max_rows=None\n",
    "pd.options.display.max_columns=None"
   ]
  },
  {
   "cell_type": "code",
   "execution_count": 12,
   "metadata": {},
   "outputs": [],
   "source": [
    "db_conn = sqlite3.connect('../database/hh_quant.db')\n",
    "db_downloader = DownloaderBase(db_conn, db_config)"
   ]
  },
  {
   "cell_type": "code",
   "execution_count": 90,
   "metadata": {},
   "outputs": [
    {
     "name": "stdout",
     "output_type": "stream",
     "text": [
      "50\n"
     ]
    }
   ],
   "source": [
    "# stock_code_list = set(ak.stock_info_a_code_name()['code']) # 获取A股所有股票列表\n",
    "stock_code_list = set(ak.index_stock_cons(\"000016\")['品种代码'].tolist()) # 获取中证50的股票代码列表\n",
    "# stock_code_list = set(ak.index_stock_cons(\"000905\")['品种代码'].tolist()) # 获取中证500的股票代码列表\n",
    "# stock_code_list = set(ak.index_stock_cons(\"000300\")['品种代码'].tolist()) # 获取沪深300的股票代码列表\n",
    "print(len(stock_code_list))"
   ]
  },
  {
   "cell_type": "code",
   "execution_count": 91,
   "metadata": {},
   "outputs": [
    {
     "name": "stderr",
     "output_type": "stream",
     "text": [
      "100%|██████████| 50/50 [00:06<00:00,  7.77it/s]\n"
     ]
    },
    {
     "data": {
      "text/plain": [
       "50"
      ]
     },
     "execution_count": 91,
     "metadata": {},
     "output_type": "execute_result"
    }
   ],
   "source": [
    "def build_label(dataframe):\n",
    "    N = 5 # 最大持仓周期 = N天，第N+1天开盘卖出\n",
    "    df = dataframe.copy()\n",
    "    # 标签构建\n",
    "    df['future_return'] = df['open'].shift(-N-1) / df['open'].shift(-1) - 1 # 计算第N日收益率\n",
    "    # 极值处理\n",
    "    df['future_return'] = np.clip(\n",
    "        df['future_return'], \n",
    "        np.nanquantile(df[df['future_return'] != 0]['future_return'], 0.01), \n",
    "        np.nanquantile(df[df['future_return'] != 0]['future_return'], 0.99),\n",
    "        )\n",
    "    # 过滤一字涨停情况\n",
    "    df = df[df['high'].shift(-1) != df['low'].shift(-1)]\n",
    "    return df[['datetime', 'future_return']]\n",
    "\n",
    "stock_df_list = []\n",
    "for stock_code in tqdm(stock_code_list):\n",
    "    stock_data = db_downloader._download_stock_history_info(stock_code)\n",
    "    stock_label = build_label(stock_data)\n",
    "    stock_factor_date = db_downloader._download_stock_factor_date_info()\n",
    "    stock_factor_qlib = db_downloader._download_stock_factor_qlib_info(stock_code)\n",
    "    stock_df = stock_data.merge(stock_label, on=['datetime']).merge(stock_factor_date, on=['datetime']).merge(stock_factor_qlib, on=['stock_code', 'datetime'])\n",
    "    stock_df = stock_df.dropna()\n",
    "    if not stock_df.empty:\n",
    "        stock_df_list.append(stock_df)\n",
    "\n",
    "len(stock_df_list)"
   ]
  },
  {
   "cell_type": "code",
   "execution_count": 92,
   "metadata": {},
   "outputs": [],
   "source": [
    "df = pd.concat(stock_df_list)\n",
    "# df.head()\n",
    "# print([i for i in df.columns])"
   ]
  },
  {
   "cell_type": "code",
   "execution_count": 93,
   "metadata": {},
   "outputs": [
    {
     "data": {
      "image/png": "[encoded data removed]",
      "text/plain": [
       "<Figure size 640x480 with 1 Axes>"
      ]
     },
     "metadata": {},
     "output_type": "display_data"
    }
   ],
   "source": [
    "def plot_series_dist(series):\n",
    "    import pandas as pd\n",
    "    import matplotlib.pyplot as plt\n",
    "    %matplotlib inline\n",
    "    # 假设您有一个名为data的pandas Series\n",
    "    data = series\n",
    "    # 使用matplotlib画直方图\n",
    "    plt.hist(data, bins=60, edgecolor='k', alpha=0.7)\n",
    "    plt.xlabel('Value')\n",
    "    plt.ylabel('Frequency')\n",
    "    plt.title('Histogram of Data')\n",
    "    plt.show()\n",
    "\n",
    "plot_series_dist(df['future_return'])"
   ]
  },
  {
   "cell_type": "code",
   "execution_count": 94,
   "metadata": {},
   "outputs": [],
   "source": [
    "# from sklearn.preprocessing import StandardScaler\n",
    "# ss = StandardScaler()\n",
    "\n",
    "# series_reshape = df['future_return'].values.reshape(-1, 1)\n",
    "# scaled_data = ss.fit_transform(series_reshape)\n",
    "# scaled_series = pd.Series(scaled_data.flatten())\n",
    "# plot_series_dist(scaled_series)\n",
    "\n",
    "# df['future_return'] = scaled_series"
   ]
  },
  {
   "cell_type": "markdown",
   "metadata": {},
   "source": [
    "## 使用Tensorflow"
   ]
  },
  {
   "cell_type": "code",
   "execution_count": 95,
   "metadata": {},
   "outputs": [
    {
     "name": "stdout",
     "output_type": "stream",
     "text": [
      "2.15.0\n"
     ]
    }
   ],
   "source": [
    "# 使用tensorflow处理原始数据\n",
    "import numpy as np\n",
    "import pandas as pd\n",
    "import tensorflow as tf\n",
    "print(tf.__version__)"
   ]
  },
  {
   "cell_type": "code",
   "execution_count": 159,
   "metadata": {},
   "outputs": [
    {
     "name": "stdout",
     "output_type": "stream",
     "text": [
      "train_start: 2014-01-01 00:00:00, train_end: 2019-12-31 00:00:00, val_start: 2020-01-01 00:00:00, val_end: 2021-12-31 00:00:00\n",
      "train_start: 2014-04-01 00:00:00, train_end: 2020-03-31 00:00:00, val_start: 2020-04-01 00:00:00, val_end: 2022-03-31 00:00:00\n",
      "train_start: 2014-07-01 00:00:00, train_end: 2020-06-30 00:00:00, val_start: 2020-07-01 00:00:00, val_end: 2022-06-30 00:00:00\n",
      "train_start: 2014-10-01 00:00:00, train_end: 2020-09-30 00:00:00, val_start: 2020-10-01 00:00:00, val_end: 2022-09-30 00:00:00\n",
      "train_start: 2015-01-01 00:00:00, train_end: 2020-12-31 00:00:00, val_start: 2021-01-01 00:00:00, val_end: 2022-12-31 00:00:00\n",
      "train_start: 2015-04-01 00:00:00, train_end: 2021-03-31 00:00:00, val_start: 2021-04-01 00:00:00, val_end: 2023-03-31 00:00:00\n",
      "train_start: 2015-07-01 00:00:00, train_end: 2021-06-30 00:00:00, val_start: 2021-07-01 00:00:00, val_end: 2023-06-30 00:00:00\n",
      "train_start: 2015-10-01 00:00:00, train_end: 2021-09-30 00:00:00, val_start: 2021-10-01 00:00:00, val_end: 2023-09-30 00:00:00\n",
      "train_start: 2016-01-01 00:00:00, train_end: 2021-12-31 00:00:00, val_start: 2022-01-01 00:00:00, val_end: 2023-12-31 00:00:00\n",
      "train_start: 2016-04-01 00:00:00, train_end: 2022-03-31 00:00:00, val_start: 2022-04-01 00:00:00, val_end: 2024-03-31 00:00:00\n",
      "train_start: 2016-07-01 00:00:00, train_end: 2022-06-30 00:00:00, val_start: 2022-07-01 00:00:00, val_end: 2024-06-30 00:00:00\n",
      "train_start: 2016-10-01 00:00:00, train_end: 2022-09-30 00:00:00, val_start: 2022-10-01 00:00:00, val_end: 2024-09-30 00:00:00\n",
      "train_start: 2017-01-01 00:00:00, train_end: 2022-12-31 00:00:00, val_start: 2023-01-01 00:00:00, val_end: 2024-12-31 00:00:00\n",
      "train_start: 2017-04-01 00:00:00, train_end: 2023-03-31 00:00:00, val_start: 2023-04-01 00:00:00, val_end: 2025-03-31 00:00:00\n",
      "train_start: 2017-07-01 00:00:00, train_end: 2023-06-30 00:00:00, val_start: 2023-07-01 00:00:00, val_end: 2025-06-30 00:00:00\n",
      "train_start: 2017-10-01 00:00:00, train_end: 2023-09-30 00:00:00, val_start: 2023-10-01 00:00:00, val_end: 2025-09-30 00:00:00\n"
     ]
    }
   ],
   "source": [
    "backtest_start_date = datetime.strptime('20200101', '%Y%m%d')\n",
    "backtest_end_date = datetime.strptime('20240101', '%Y%m%d')\n",
    "val_start_date = backtest_start_date\n",
    "train_period = 6 # year\n",
    "update_period = 3 # month\n",
    "\n",
    "rolling_training_flag = True\n",
    "\n",
    "epoch_date_list = []\n",
    "\n",
    "while rolling_training_flag:\n",
    "    val_end_date = val_start_date + relativedelta(months=update_period) - relativedelta(days=1)\n",
    "    if val_start_date < backtest_end_date:\n",
    "        train_start_date = val_start_date - relativedelta(years=train_period)\n",
    "        train_end_date = val_start_date - relativedelta(days=1)\n",
    "        epoch_date_list.append([train_start_date, train_end_date, val_start_date, val_end_date])\n",
    "        print(f\"train_start: {train_start_date}, train_end: {train_end_date}, val_start: {val_start_date}, val_end: {val_end_date}\")\n",
    "         # 在这里处理滚动训练流程 ...\n",
    "        val_start_date += relativedelta(months=3) \n",
    "    else:\n",
    "        rolling_training_flag=False # 结束滚动训练"
   ]
  },
  {
   "cell_type": "code",
   "execution_count": 123,
   "metadata": {},
   "outputs": [
    {
     "name": "stdout",
     "output_type": "stream",
     "text": [
      "train_start: 2015-07-01 00:00:00, train_end: 2021-06-30 00:00:00, val_start: 2021-07-01 00:00:00, val_end: 2021-09-30 00:00:00\n",
      "train_data_size: (61763, 199)\n",
      "validation_data_size: (3023, 199)\n"
     ]
    }
   ],
   "source": [
    "def extract_train_val_data(df, train_start_date, train_end_date, val_start_date, val_end_date):\n",
    "    print(f\"train_start: {train_start_date}, train_end: {train_end_date}, val_start: {val_start_date}, val_end: {val_end_date}\")\n",
    "    train_start_date = pd.to_datetime(train_start_date)\n",
    "    train_end_date = pd.to_datetime(train_end_date)\n",
    "    val_start_date = pd.to_datetime(val_start_date)\n",
    "    val_end_date = pd.to_datetime(val_end_date)\n",
    "\n",
    "    train_data = df[(pd.to_datetime(df['datetime']) >= train_start_date) & (pd.to_datetime(df['datetime']) <= train_end_date)]\n",
    "    val_data = df[(pd.to_datetime(df['datetime']) >= val_start_date) & (pd.to_datetime(df['datetime']) <= val_end_date)]\n",
    "\n",
    "    print(f\"train_data_size: {train_data.shape}\")\n",
    "    print(f\"validation_data_size: {val_data.shape}\")\n",
    "    return train_data, val_data\n",
    "\n",
    "train_data, val_data = extract_train_val_data(df, *epoch_date_list[6])"
   ]
  },
  {
   "cell_type": "code",
   "execution_count": 124,
   "metadata": {},
   "outputs": [],
   "source": [
    "def transfer_data_type(df, columns, dtype):\n",
    "    for col in columns:\n",
    "        df[col] = df[col].astype(dtype)\n",
    "    return df\n",
    "\n",
    "def get_numeric_boundaries(series, num_bins=30):\n",
    "    if series.nunique() < num_bins:\n",
    "        boundaries = sorted(series.unique())\n",
    "    else:\n",
    "        boundaries = pd.qcut(series, num_bins, retbins=True, duplicates='drop')[1].tolist()\n",
    "    return boundaries"
   ]
  },
  {
   "cell_type": "code",
   "execution_count": 125,
   "metadata": {},
   "outputs": [],
   "source": [
    "# TARGET_FEATURE_NAME = [\"future_return\", \"future_label\"] # 多任务模型还需要再优化\n",
    "TARGET_FEATURE_NAME = [\"future_return\"]\n",
    "\n",
    "NUMERIC_FEATURES = ['KMID', 'KLEN', 'KMID2', 'KUP', 'KUP2', 'KLOW', 'KLOW2', 'KSFT', 'KSFT2', 'OPEN0', 'OPEN1', 'OPEN2', 'OPEN3', 'OPEN4', 'HIGH0', 'HIGH1', 'HIGH2', 'HIGH3', 'HIGH4', 'LOW0', 'LOW1', 'LOW2', 'LOW3', 'LOW4', 'CLOSE0', 'CLOSE1', 'CLOSE2', 'CLOSE3', 'CLOSE4', 'VOLUME0', 'VOLUME1', 'VOLUME2', 'VOLUME3', 'VOLUME4', 'ROC5', 'ROC10', 'ROC20', 'ROC30', 'ROC60', 'MAX5', 'MAX10', 'MAX20', 'MAX30', 'MAX60', 'MIN5', 'MIN10', 'MIN20', 'MIN30', 'MIN60', 'MA5', 'MA10', 'MA20', 'MA30', 'MA60', 'STD5', 'STD10', 'STD20', 'STD30', 'STD60', 'BETA5', 'BETA10', 'BETA20', 'BETA30', 'BETA60', 'RSQR5', 'RSQR10', 'RSQR20', 'RSQR30', 'RSQR60', 'RESI5', 'RESI10', 'RESI20', 'RESI30', 'RESI60', 'QTLU5', 'QTLU10', 'QTLU20', 'QTLU30', 'QTLU60', 'QTLD5', 'QTLD10', 'QTLD20', 'QTLD30', 'QTLD60', 'TSRANK5', 'TSRANK10', 'TSRANK20', 'TSRANK30', 'TSRANK60', 'RSV5', 'RSV10', 'RSV20', 'RSV30', 'RSV60', 'IMAX5', 'IMAX10', 'IMAX20', 'IMAX30', 'IMAX60', 'IMIN5', 'IMIN10', 'IMIN20', 'IMIN30', 'IMIN60', 'IMXD5', 'IMXD10', 'IMXD20', 'IMXD30', 'IMXD60', 'CORR5', 'CORR10', 'CORR20', 'CORR30', 'CORR60', 'CORD5', 'CORD10', 'CORD20', 'CORD30', 'CORD60', 'CNTP5', 'CNTP10', 'CNTP20', 'CNTP30', 'CNTP60', 'CNTN5', 'CNTN10', 'CNTN20', 'CNTN30', 'CNTN60', 'CNTD5', 'CNTD10', 'CNTD20', 'CNTD30', 'CNTD60', 'SUMP5', 'SUMP10', 'SUMP20', 'SUMP30', 'SUMP60', 'SUMN5', 'SUMN10', 'SUMN20', 'SUMN30', 'SUMN60', 'SUMD5', 'SUMD10', 'SUMD20', 'SUMD30', 'SUMD60', 'VMA5', 'VMA10', 'VMA20', 'VMA30', 'VMA60', 'VSTD5', 'VSTD10', 'VSTD20', 'VSTD30', 'VSTD60', 'WVMA5', 'WVMA10', 'WVMA20', 'WVMA30', 'WVMA60', 'VSUMP5', 'VSUMP10', 'VSUMP20', 'VSUMP30', 'VSUMP60', 'VSUMN5', 'VSUMN10', 'VSUMN20', 'VSUMN30', 'VSUMN60', 'VSUMD5', 'VSUMD10', 'VSUMD20', 'VSUMD30', 'VSUMD60']\n",
    "INTEGER_CATEGORICAL_FEATURES = ['weekday', 'day_of_month', 'month']\n",
    "STRING_CATEGORICAL_FEATURES = ['day_of_week', 'season']\n",
    "\n",
    "# train_data = transfer_data_type(train_data, NUMERIC_FEATURES, 'float32')\n",
    "# train_data = transfer_data_type(train_data, INTEGER_CATEGORICAL_FEATURES, 'int32')\n",
    "# train_data = transfer_data_type(train_data, STRING_CATEGORICAL_FEATURES, 'string')\n",
    "# validation_data = transfer_data_type(validation_data, NUMERIC_FEATURES, 'float32')\n",
    "# validation_data = transfer_data_type(validation_data, INTEGER_CATEGORICAL_FEATURES, 'int64')\n",
    "# validation_data = transfer_data_type(validation_data, STRING_CATEGORICAL_FEATURES, 'string')\n",
    "\n",
    "NUMERIC_FEATURES_WITH_BOUNDARIES = {k: list(get_numeric_boundaries(train_data[k])) for k in NUMERIC_FEATURES}\n",
    "INTEGER_CATEGORICAL_FEATURES_WITH_VOCAB = {k: list(train_data[k].unique()) for k in INTEGER_CATEGORICAL_FEATURES}\n",
    "STRING_CATEGORICAL_FEATURES_WITH_VOCAB = {k: list(train_data[k].unique()) for k in STRING_CATEGORICAL_FEATURES}\n",
    "\n",
    "FEATURE_NAMES = NUMERIC_FEATURES + INTEGER_CATEGORICAL_FEATURES + STRING_CATEGORICAL_FEATURES"
   ]
  },
  {
   "cell_type": "code",
   "execution_count": 126,
   "metadata": {},
   "outputs": [],
   "source": [
    "def df_to_dataset(dataframe, feature_cols, label_cols, shuffle=True, batch_size=32):\n",
    "  features = dataframe[feature_cols]\n",
    "  labels = [dataframe[label_col] for label_col in label_cols]\n",
    "  ds = tf.data.Dataset.from_tensor_slices((dict(features), tuple(labels)))\n",
    "  if shuffle:\n",
    "    ds = ds.shuffle(buffer_size=len(features))\n",
    "  ds = ds.batch(batch_size)\n",
    "  return ds\n",
    "\n",
    "batch_size = 32\n",
    "train_ds = df_to_dataset(train_data, FEATURE_NAMES, TARGET_FEATURE_NAME, shuffle=True, batch_size=batch_size)\n",
    "val_ds = df_to_dataset(val_data, FEATURE_NAMES, TARGET_FEATURE_NAME, shuffle=False, batch_size=batch_size)"
   ]
  },
  {
   "cell_type": "code",
   "execution_count": 131,
   "metadata": {},
   "outputs": [],
   "source": [
    "# for features, labels in val_ds.take(1):\n",
    "#     print(labels)"
   ]
  },
  {
   "cell_type": "code",
   "execution_count": 132,
   "metadata": {},
   "outputs": [],
   "source": [
    "class Senet(tf.keras.layers.Layer):\n",
    "    def __init__(self, reduction_ratio=3, seed=1024, **kwargs):\n",
    "        super(Senet, self).__init__(**kwargs)\n",
    "        self.reduction_ratio = reduction_ratio\n",
    "        self.seed = seed  \n",
    "\n",
    "    def build(self, input_shape):\n",
    "        self.field_size = len(input_shape)\n",
    "        self.reduction_size = max(1, self.field_size // self.reduction_ratio)\n",
    "        self.scale_layer = tf.keras.layers.Dense(units=self.reduction_size, activation='relu')\n",
    "        self.expand_layer = tf.keras.layers.Dense(units=self.field_size, activation='relu')\n",
    "        super(Senet, self).build(input_shape)\n",
    "\n",
    "    def call(self, inputs, training=False):\n",
    "        # print(f\"Senet Is Training Mode: {training}\")\n",
    "        inputs = [tf.expand_dims(i, axis=1) for i in inputs]\n",
    "        inputs = tf.concat(inputs, axis=1) # [B, N, dim]\n",
    "        Z = tf.reduce_mean(inputs, axis=-1) # [B, N]\n",
    "        A_1 = self.scale_layer(Z, training=training) # [B, X]\n",
    "        A_2 = self.expand_layer(A_1, training=training) # [B, N]\n",
    "        scale_inputs = tf.multiply(inputs, tf.expand_dims(A_2, axis=-1))\n",
    "        output = scale_inputs + inputs # skip-connection\n",
    "        return output # [B, N, dim]\n",
    "\n",
    "    def get_config(self):\n",
    "        config = super(Senet, self).get_config()\n",
    "        config.update({\n",
    "            'reduction_ratio': self.reduction_ratio,\n",
    "            'seed': self.seed\n",
    "        })\n",
    "        return config\n",
    "\n",
    "class Dnn(tf.keras.layers.Layer):\n",
    "    def __init__(self, hidden_units=[64,32], activation=\"relu\", dropout_rate=0.2, use_bn=True, seed=1024, **kwargs):\n",
    "        super(Dnn, self).__init__(**kwargs)\n",
    "        self.hidden_units = hidden_units\n",
    "        self.activation = activation\n",
    "        self.dropout_rate = dropout_rate\n",
    "        self.use_bn = use_bn\n",
    "        self.seed = seed\n",
    "        self.dense_layers = []\n",
    "        self.dropout_layers = []\n",
    "        self.bn_layers = []\n",
    "        \n",
    "    def build(self, input_shape):\n",
    "        for units in self.hidden_units:\n",
    "            self.dense_layers.append(tf.keras.layers.Dense(units=units, activation=self.activation))\n",
    "            self.dropout_layers.append(tf.keras.layers.Dropout(rate=self.dropout_rate, seed=self.seed))\n",
    "            if self.use_bn:\n",
    "                self.bn_layers.append(tf.keras.layers.BatchNormalization())\n",
    "        super(Dnn, self).build(input_shape)  # Be sure to call this at the end\n",
    "    \n",
    "    def call(self, inputs, training=False):\n",
    "        # print(f\"Dnn Is Training Mode: {training}\")\n",
    "        x = inputs\n",
    "        for i in range(len(self.hidden_units)):\n",
    "            x = self.dense_layers[i](x)\n",
    "            if self.use_bn:\n",
    "                x = self.bn_layers[i](x, training=training)\n",
    "            x = self.dropout_layers[i](x, training=training)\n",
    "        return x\n",
    "\n",
    "    def get_config(self):\n",
    "        config = super(Dnn, self).get_config()\n",
    "        config.update({\n",
    "            'hidden_units': self.hidden_units,\n",
    "            'activation': self.activation,\n",
    "            'dropout_rate': self.dropout_rate,\n",
    "            'use_bn': self.use_bn,\n",
    "            'seed': self.seed\n",
    "        })\n",
    "        return config"
   ]
  },
  {
   "cell_type": "code",
   "execution_count": 133,
   "metadata": {},
   "outputs": [],
   "source": [
    "class QuantModel(tf.keras.Model):\n",
    "\tdef __init__(self, config, **kwargs):\n",
    "\t\tsuper(QuantModel, self).__init__(**kwargs)\n",
    "\t\tself.config = config\n",
    "\n",
    "\t\t# 添加属性来存储预定义的层\n",
    "\t\tself.lookup_layers = {}\n",
    "\t\tself.embedding_layers = {}\n",
    "\n",
    "        # 创建连续特征的离散化层和嵌入层\n",
    "\t\tfor feature_name, boundaries in self.config.get(\"numeric_features_with_boundaries\").items():\n",
    "\t\t\tself.lookup_layers[feature_name] = tf.keras.layers.Discretization(bin_boundaries=boundaries, output_mode='int', name=f'{feature_name}_lookup')\n",
    "\t\t\tself.embedding_layers[feature_name] = tf.keras.layers.Embedding(input_dim=len(boundaries) + 1, output_dim=self.config.get(\"feature_embedding_dims\", 6), name=f'{feature_name}_embedding')\n",
    "        # 创建整数特征的查找层和嵌入层\n",
    "\t\tfor feature_name, vocab in self.config.get(\"integer_categorical_features_with_vocab\").items():\n",
    "\t\t\tself.lookup_layers[feature_name] = tf.keras.layers.IntegerLookup(vocabulary=vocab, name=f'{feature_name}_lookup')\n",
    "\t\t\tself.embedding_layers[feature_name] = tf.keras.layers.Embedding(input_dim=len(vocab) + 1, output_dim=self.config.get(\"feature_embedding_dims\", 6), name=f'{feature_name}_embedding')\n",
    "\t\t# 创建字符串特征的查找层和嵌入层\n",
    "\t\tfor feature_name, vocab in self.config.get(\"string_categorical_features_with_vocab\").items():\n",
    "\t\t\tself.lookup_layers[feature_name] = tf.keras.layers.StringLookup(vocabulary=vocab, name=f'{feature_name}_lookup')\n",
    "\t\t\tself.embedding_layers[feature_name] = tf.keras.layers.Embedding(input_dim=len(vocab) + 1, output_dim=self.config.get(\"feature_embedding_dims\", 6), name=f'{feature_name}_embedding')\n",
    "\n",
    "\t\t# 任务Dnn层\n",
    "\t\tself.task_tower_list = []\n",
    "\t\tfor task_type in self.config['task_type']:\n",
    "\t\t\ttask_tower = tf.keras.Sequential([\n",
    "\t\t\t\tSenet(reduction_ratio=self.config.get('reduction_ratio', 3), seed=self.config.get('seed', 1024)),\n",
    "\t\t\t\ttf.keras.layers.Flatten(),\n",
    "\t\t\t\tDnn(\n",
    "\t\t\t\t\thidden_units=self.config.get('dnn_hidden_units', [64,32]), \n",
    "\t\t\t\t\tactivation=self.config.get('dnn_activation', 'relu'), \n",
    "\t\t\t\t\tdropout_rate=self.config.get('dnn_dropout', 0.2), \n",
    "\t\t\t\t\tuse_bn=self.config.get('dnn_use_bn', True), \n",
    "\t\t\t\t\tseed=self.config.get('seed', 1024),\n",
    "\t\t\t\t),\n",
    "\t\t\t\ttf.keras.layers.Dense(1, activation=None, name=task_type)\n",
    "\t\t\t])\n",
    "\t\t\tself.task_tower_list.append(task_tower)\n",
    "\n",
    "\tdef call(self, inputs, training=False):\n",
    "\t\t# print(f\"QuantModel Is Training Mode: {training}\")\n",
    "\t\t# 确保inputs是一个字典类型，每个键值对应一个特征输入\n",
    "\t\tif not isinstance(inputs, dict): \n",
    "\t\t\traise ValueError('The inputs to the model should be a dictionary where keys are feature names.')\n",
    "\t\tencoded_features = []\n",
    "    \t# 现在使用已经实例化的层来编码输入\n",
    "\t\tfor feature_name, feature_value in inputs.items():\n",
    "        \t# 使用预定义的查找层和嵌入层\n",
    "\t\t\tlookup_layer = self.lookup_layers[feature_name]\n",
    "\t\t\tembedding_layer = self.embedding_layers[feature_name]\n",
    "\t\t\tencoded_feature = embedding_layer(lookup_layer(feature_value))\n",
    "\t\t\tencoded_features.append(encoded_feature)\n",
    "\t\t\n",
    "\t\t# task任务塔\n",
    "\t\tlogits_list = []\n",
    "\t\tfor task_tower in self.task_tower_list:\n",
    "\t\t\ttask_output = task_tower(encoded_features)\n",
    "\t\t\tlogits_list.append(task_output)\n",
    "\t\treturn logits_list\n",
    "\t\n",
    "\tdef get_config(self):\n",
    "\t\t# 调用基类的get_config方法（如果基类实现了get_config）\n",
    "\t\tconfig = super(QuantModel, self).get_config()\n",
    "        # 添加QuantModel特有的配置信息\n",
    "\t\tconfig.update({\n",
    "            # 假设self.config是一个可序列化的字典，如果不是，你可能需要在这里适当地处理它\n",
    "            'config': self.config\n",
    "        })\n",
    "\t\treturn config"
   ]
  },
  {
   "cell_type": "code",
   "execution_count": 150,
   "metadata": {},
   "outputs": [],
   "source": [
    "model_config = {\n",
    "    \"seed\": 1024,\n",
    "    \"reduction_ratio\": 3,\n",
    "    \"dnn_hidden_units\": [128,64,32],\n",
    "    \"dnn_activation\": 'relu',\n",
    "    \"dnn_dropout\": 0.2,\n",
    "    \"dnn_use_bn\": True,\n",
    "    \"numeric_features_with_boundaries\": NUMERIC_FEATURES_WITH_BOUNDARIES,\n",
    "    \"integer_categorical_features_with_vocab\": INTEGER_CATEGORICAL_FEATURES_WITH_VOCAB,\n",
    "    \"string_categorical_features_with_vocab\": STRING_CATEGORICAL_FEATURES_WITH_VOCAB,\n",
    "    \"feature_embedding_dims\": 6,\n",
    "    \"task_type\": ['reg'],\n",
    "}\n",
    "\n",
    "model = QuantModel(model_config)"
   ]
  },
  {
   "cell_type": "code",
   "execution_count": 151,
   "metadata": {},
   "outputs": [
    {
     "name": "stdout",
     "output_type": "stream",
     "text": [
      "Epoch 1/10\n"
     ]
    },
    {
     "name": "stdout",
     "output_type": "stream",
     "text": [
      "1931/1931 - 19s - loss: 0.8756 - val_loss: 0.0657 - 19s/epoch - 10ms/step\n",
      "Epoch 2/10\n",
      "1931/1931 - 12s - loss: 0.1448 - val_loss: 0.0114 - 12s/epoch - 6ms/step\n",
      "Epoch 3/10\n",
      "1931/1931 - 12s - loss: 0.0230 - val_loss: 0.0047 - 12s/epoch - 6ms/step\n",
      "Epoch 4/10\n",
      "1931/1931 - 12s - loss: 0.0036 - val_loss: 0.0043 - 12s/epoch - 6ms/step\n",
      "Epoch 5/10\n",
      "1931/1931 - 11s - loss: 0.0025 - val_loss: 0.0043 - 11s/epoch - 6ms/step\n",
      "Epoch 6/10\n",
      "1931/1931 - 12s - loss: 0.0025 - val_loss: 0.0043 - 12s/epoch - 6ms/step\n",
      "Epoch 7/10\n",
      "1931/1931 - 11s - loss: 0.0025 - val_loss: 0.0043 - 11s/epoch - 6ms/step\n",
      "Epoch 8/10\n",
      "1931/1931 - 12s - loss: 0.0025 - val_loss: 0.0043 - 12s/epoch - 6ms/step\n",
      "Epoch 9/10\n",
      "1931/1931 - 12s - loss: 0.0025 - val_loss: 0.0043 - 12s/epoch - 6ms/step\n",
      "Epoch 10/10\n",
      "1931/1931 - 12s - loss: 0.0025 - val_loss: 0.0043 - 12s/epoch - 6ms/step\n"
     ]
    },
    {
     "data": {
      "text/plain": [
       "<keras.src.callbacks.History at 0x31fbdcd60>"
      ]
     },
     "execution_count": 151,
     "metadata": {},
     "output_type": "execute_result"
    }
   ],
   "source": [
    "monitor_indicator = 'val_loss'\n",
    "\n",
    "early_stopping = tf.keras.callbacks.EarlyStopping(\n",
    "    monitor=monitor_indicator,\n",
    "    verbose=2,\n",
    "    patience=10,\n",
    "    mode='min',\n",
    "    restore_best_weights=True,\n",
    ")\n",
    "\n",
    "log_dir = \"./logs/fit/\" + datetime.now().strftime(\"%Y%m%d-%H%M%S\")\n",
    "tensorboard_callback = tf.keras.callbacks.TensorBoard(log_dir=log_dir, histogram_freq=1)\n",
    "\n",
    "# 配置optimizer\n",
    "optimizer = tf.keras.optimizers.legacy.Adam(learning_rate=2e-4) # for Mac M1/M2\n",
    "# optimizer = tf.keras.optimizers.Adam(learning_rate=5e-4) # for intel\n",
    "\n",
    "# 配置loss & loss_weight\n",
    "loss = [tf.keras.losses.MeanSquaredError()]\n",
    "\n",
    "# 配置compile\n",
    "model.compile(\n",
    "    optimizer=optimizer, \n",
    "    loss=loss,\n",
    "    )\n",
    "\n",
    "model.fit(\n",
    "        train_ds, \n",
    "        validation_data=val_ds, \n",
    "        epochs=10,\n",
    "        verbose=2,\n",
    "        # callbacks=[tensorboard_callback, early_stopping]\n",
    ")\n",
    "\n",
    "# 训练完成后，加载最优模型\n",
    "# best_model = tf.keras.models.load_model('./best_model')"
   ]
  },
  {
   "cell_type": "code",
   "execution_count": 152,
   "metadata": {},
   "outputs": [],
   "source": [
    "# %tensorboard --logdir ./logs/fit"
   ]
  },
  {
   "cell_type": "code",
   "execution_count": 153,
   "metadata": {},
   "outputs": [],
   "source": [
    "# baseline_model.save('./stock_selection_base_model')\n",
    "# reloaded_model = tf.keras.models.load_model('./stock_selection_base_model')"
   ]
  },
  {
   "cell_type": "code",
   "execution_count": 154,
   "metadata": {},
   "outputs": [
    {
     "name": "stdout",
     "output_type": "stream",
     "text": [
      "95/95 [==============================] - 1s 4ms/step\n"
     ]
    }
   ],
   "source": [
    "model_red_result = model.predict(val_ds)\n",
    "output_df = val_data[['stock_code', 'stock_name', 'datetime']]\n",
    "output_df['future_return'] = val_data['future_return']\n",
    "output_df['future_return_pred'] = model_red_result[0]\n",
    "# output_df['future_return_label'] = tf.nn.sigmoid(model_red_result[1])"
   ]
  },
  {
   "cell_type": "code",
   "execution_count": 155,
   "metadata": {},
   "outputs": [
    {
     "data": {
      "text/html": [
       "<div>\n",
       "<style scoped>\n",
       "    .dataframe tbody tr th:only-of-type {\n",
       "        vertical-align: middle;\n",
       "    }\n",
       "\n",
       "    .dataframe tbody tr th {\n",
       "        vertical-align: top;\n",
       "    }\n",
       "\n",
       "    .dataframe thead th {\n",
       "        text-align: right;\n",
       "    }\n",
       "</style>\n",
       "<table border=\"1\" class=\"dataframe\">\n",
       "  <thead>\n",
       "    <tr style=\"text-align: right;\">\n",
       "      <th></th>\n",
       "      <th>stock_code</th>\n",
       "      <th>stock_name</th>\n",
       "      <th>datetime</th>\n",
       "      <th>future_return</th>\n",
       "      <th>future_return_pred</th>\n",
       "    </tr>\n",
       "  </thead>\n",
       "  <tbody>\n",
       "    <tr>\n",
       "      <th>197</th>\n",
       "      <td>688599</td>\n",
       "      <td>天合光能</td>\n",
       "      <td>2021-07-01</td>\n",
       "      <td>0.085867</td>\n",
       "      <td>-0.007620</td>\n",
       "    </tr>\n",
       "    <tr>\n",
       "      <th>198</th>\n",
       "      <td>688599</td>\n",
       "      <td>天合光能</td>\n",
       "      <td>2021-07-02</td>\n",
       "      <td>0.077026</td>\n",
       "      <td>0.005445</td>\n",
       "    </tr>\n",
       "    <tr>\n",
       "      <th>199</th>\n",
       "      <td>688599</td>\n",
       "      <td>天合光能</td>\n",
       "      <td>2021-07-05</td>\n",
       "      <td>0.086854</td>\n",
       "      <td>0.030082</td>\n",
       "    </tr>\n",
       "    <tr>\n",
       "      <th>200</th>\n",
       "      <td>688599</td>\n",
       "      <td>天合光能</td>\n",
       "      <td>2021-07-06</td>\n",
       "      <td>0.161955</td>\n",
       "      <td>0.017176</td>\n",
       "    </tr>\n",
       "    <tr>\n",
       "      <th>201</th>\n",
       "      <td>688599</td>\n",
       "      <td>天合光能</td>\n",
       "      <td>2021-07-07</td>\n",
       "      <td>-0.024479</td>\n",
       "      <td>-0.002864</td>\n",
       "    </tr>\n",
       "    <tr>\n",
       "      <th>202</th>\n",
       "      <td>688599</td>\n",
       "      <td>天合光能</td>\n",
       "      <td>2021-07-08</td>\n",
       "      <td>0.110154</td>\n",
       "      <td>0.006245</td>\n",
       "    </tr>\n",
       "    <tr>\n",
       "      <th>203</th>\n",
       "      <td>688599</td>\n",
       "      <td>天合光能</td>\n",
       "      <td>2021-07-09</td>\n",
       "      <td>0.148010</td>\n",
       "      <td>0.004854</td>\n",
       "    </tr>\n",
       "    <tr>\n",
       "      <th>204</th>\n",
       "      <td>688599</td>\n",
       "      <td>天合光能</td>\n",
       "      <td>2021-07-12</td>\n",
       "      <td>0.087936</td>\n",
       "      <td>0.003248</td>\n",
       "    </tr>\n",
       "    <tr>\n",
       "      <th>205</th>\n",
       "      <td>688599</td>\n",
       "      <td>天合光能</td>\n",
       "      <td>2021-07-13</td>\n",
       "      <td>0.119255</td>\n",
       "      <td>0.008661</td>\n",
       "    </tr>\n",
       "    <tr>\n",
       "      <th>206</th>\n",
       "      <td>688599</td>\n",
       "      <td>天合光能</td>\n",
       "      <td>2021-07-14</td>\n",
       "      <td>0.208178</td>\n",
       "      <td>0.010637</td>\n",
       "    </tr>\n",
       "  </tbody>\n",
       "</table>\n",
       "</div>"
      ],
      "text/plain": [
       "    stock_code stock_name    datetime  future_return  future_return_pred\n",
       "197     688599       天合光能  2021-07-01       0.085867           -0.007620\n",
       "198     688599       天合光能  2021-07-02       0.077026            0.005445\n",
       "199     688599       天合光能  2021-07-05       0.086854            0.030082\n",
       "200     688599       天合光能  2021-07-06       0.161955            0.017176\n",
       "201     688599       天合光能  2021-07-07      -0.024479           -0.002864\n",
       "202     688599       天合光能  2021-07-08       0.110154            0.006245\n",
       "203     688599       天合光能  2021-07-09       0.148010            0.004854\n",
       "204     688599       天合光能  2021-07-12       0.087936            0.003248\n",
       "205     688599       天合光能  2021-07-13       0.119255            0.008661\n",
       "206     688599       天合光能  2021-07-14       0.208178            0.010637"
      ]
     },
     "execution_count": 155,
     "metadata": {},
     "output_type": "execute_result"
    }
   ],
   "source": [
    "output_df.head(10)"
   ]
  },
  {
   "cell_type": "code",
   "execution_count": 156,
   "metadata": {},
   "outputs": [],
   "source": [
    "output_df.to_pickle('../../Offline/backtest/backtest_data/stock_selection_result.pkl')"
   ]
  },
  {
   "cell_type": "code",
   "execution_count": 157,
   "metadata": {},
   "outputs": [
    {
     "data": {
      "text/html": [
       "<div>\n",
       "<style scoped>\n",
       "    .dataframe tbody tr th:only-of-type {\n",
       "        vertical-align: middle;\n",
       "    }\n",
       "\n",
       "    .dataframe tbody tr th {\n",
       "        vertical-align: top;\n",
       "    }\n",
       "\n",
       "    .dataframe thead th {\n",
       "        text-align: right;\n",
       "    }\n",
       "</style>\n",
       "<table border=\"1\" class=\"dataframe\">\n",
       "  <thead>\n",
       "    <tr style=\"text-align: right;\">\n",
       "      <th></th>\n",
       "      <th>stock_code</th>\n",
       "      <th>stock_name</th>\n",
       "      <th>datetime</th>\n",
       "      <th>future_return</th>\n",
       "      <th>future_return_pred</th>\n",
       "    </tr>\n",
       "  </thead>\n",
       "  <tbody>\n",
       "    <tr>\n",
       "      <th>4930</th>\n",
       "      <td>600276</td>\n",
       "      <td>恒瑞医药</td>\n",
       "      <td>2021-07-27</td>\n",
       "      <td>0.066346</td>\n",
       "      <td>0.069544</td>\n",
       "    </tr>\n",
       "    <tr>\n",
       "      <th>375</th>\n",
       "      <td>688111</td>\n",
       "      <td>金山办公</td>\n",
       "      <td>2021-08-30</td>\n",
       "      <td>0.011870</td>\n",
       "      <td>0.062411</td>\n",
       "    </tr>\n",
       "    <tr>\n",
       "      <th>374</th>\n",
       "      <td>688111</td>\n",
       "      <td>金山办公</td>\n",
       "      <td>2021-08-27</td>\n",
       "      <td>-0.065699</td>\n",
       "      <td>0.060811</td>\n",
       "    </tr>\n",
       "    <tr>\n",
       "      <th>352</th>\n",
       "      <td>688111</td>\n",
       "      <td>金山办公</td>\n",
       "      <td>2021-07-28</td>\n",
       "      <td>0.083308</td>\n",
       "      <td>0.059052</td>\n",
       "    </tr>\n",
       "    <tr>\n",
       "      <th>4952</th>\n",
       "      <td>600276</td>\n",
       "      <td>恒瑞医药</td>\n",
       "      <td>2021-08-26</td>\n",
       "      <td>-0.003891</td>\n",
       "      <td>0.054842</td>\n",
       "    </tr>\n",
       "  </tbody>\n",
       "</table>\n",
       "</div>"
      ],
      "text/plain": [
       "     stock_code stock_name    datetime  future_return  future_return_pred\n",
       "4930     600276       恒瑞医药  2021-07-27       0.066346            0.069544\n",
       "375      688111       金山办公  2021-08-30       0.011870            0.062411\n",
       "374      688111       金山办公  2021-08-27      -0.065699            0.060811\n",
       "352      688111       金山办公  2021-07-28       0.083308            0.059052\n",
       "4952     600276       恒瑞医药  2021-08-26      -0.003891            0.054842"
      ]
     },
     "execution_count": 157,
     "metadata": {},
     "output_type": "execute_result"
    }
   ],
   "source": [
    "output_df.sort_values(by=['future_return_pred'], ascending=False).head()"
   ]
  },
  {
   "cell_type": "code",
   "execution_count": 161,
   "metadata": {},
   "outputs": [
    {
     "data": {
      "text/html": [
       "<div>\n",
       "<style scoped>\n",
       "    .dataframe tbody tr th:only-of-type {\n",
       "        vertical-align: middle;\n",
       "    }\n",
       "\n",
       "    .dataframe tbody tr th {\n",
       "        vertical-align: top;\n",
       "    }\n",
       "\n",
       "    .dataframe thead th {\n",
       "        text-align: right;\n",
       "    }\n",
       "</style>\n",
       "<table border=\"1\" class=\"dataframe\">\n",
       "  <thead>\n",
       "    <tr style=\"text-align: right;\">\n",
       "      <th></th>\n",
       "      <th>stock_code</th>\n",
       "      <th>stock_name</th>\n",
       "      <th>datetime</th>\n",
       "      <th>future_return</th>\n",
       "      <th>future_return_pred</th>\n",
       "    </tr>\n",
       "  </thead>\n",
       "  <tbody>\n",
       "    <tr>\n",
       "      <th>235</th>\n",
       "      <td>688599</td>\n",
       "      <td>天合光能</td>\n",
       "      <td>2021-08-24</td>\n",
       "      <td>0.261442</td>\n",
       "      <td>-0.001318</td>\n",
       "    </tr>\n",
       "    <tr>\n",
       "      <th>234</th>\n",
       "      <td>688599</td>\n",
       "      <td>天合光能</td>\n",
       "      <td>2021-08-23</td>\n",
       "      <td>0.261442</td>\n",
       "      <td>-0.006996</td>\n",
       "    </tr>\n",
       "    <tr>\n",
       "      <th>209</th>\n",
       "      <td>688599</td>\n",
       "      <td>天合光能</td>\n",
       "      <td>2021-07-19</td>\n",
       "      <td>0.261442</td>\n",
       "      <td>-0.015416</td>\n",
       "    </tr>\n",
       "    <tr>\n",
       "      <th>233</th>\n",
       "      <td>688599</td>\n",
       "      <td>天合光能</td>\n",
       "      <td>2021-08-20</td>\n",
       "      <td>0.261442</td>\n",
       "      <td>-0.006733</td>\n",
       "    </tr>\n",
       "    <tr>\n",
       "      <th>231</th>\n",
       "      <td>688599</td>\n",
       "      <td>天合光能</td>\n",
       "      <td>2021-08-18</td>\n",
       "      <td>0.261194</td>\n",
       "      <td>-0.005151</td>\n",
       "    </tr>\n",
       "  </tbody>\n",
       "</table>\n",
       "</div>"
      ],
      "text/plain": [
       "    stock_code stock_name    datetime  future_return  future_return_pred\n",
       "235     688599       天合光能  2021-08-24       0.261442           -0.001318\n",
       "234     688599       天合光能  2021-08-23       0.261442           -0.006996\n",
       "209     688599       天合光能  2021-07-19       0.261442           -0.015416\n",
       "233     688599       天合光能  2021-08-20       0.261442           -0.006733\n",
       "231     688599       天合光能  2021-08-18       0.261194           -0.005151"
      ]
     },
     "execution_count": 161,
     "metadata": {},
     "output_type": "execute_result"
    }
   ],
   "source": [
    "output_df[output_df['future_return'] >= 0.1].sort_values(by=['future_return'], ascending=False).head()"
   ]
  },
  {
   "cell_type": "code",
   "execution_count": 163,
   "metadata": {},
   "outputs": [
    {
     "data": {
      "text/html": [
       "<div>\n",
       "<style scoped>\n",
       "    .dataframe tbody tr th:only-of-type {\n",
       "        vertical-align: middle;\n",
       "    }\n",
       "\n",
       "    .dataframe tbody tr th {\n",
       "        vertical-align: top;\n",
       "    }\n",
       "\n",
       "    .dataframe thead th {\n",
       "        text-align: right;\n",
       "    }\n",
       "</style>\n",
       "<table border=\"1\" class=\"dataframe\">\n",
       "  <thead>\n",
       "    <tr style=\"text-align: right;\">\n",
       "      <th></th>\n",
       "      <th>stock_code</th>\n",
       "      <th>stock_name</th>\n",
       "      <th>datetime</th>\n",
       "      <th>future_return</th>\n",
       "      <th>future_return_pred</th>\n",
       "    </tr>\n",
       "  </thead>\n",
       "  <tbody>\n",
       "    <tr>\n",
       "      <th>215</th>\n",
       "      <td>688599</td>\n",
       "      <td>天合光能</td>\n",
       "      <td>2021-07-27</td>\n",
       "      <td>0.017442</td>\n",
       "      <td>0.032869</td>\n",
       "    </tr>\n",
       "    <tr>\n",
       "      <th>199</th>\n",
       "      <td>688599</td>\n",
       "      <td>天合光能</td>\n",
       "      <td>2021-07-05</td>\n",
       "      <td>0.086854</td>\n",
       "      <td>0.030082</td>\n",
       "    </tr>\n",
       "    <tr>\n",
       "      <th>219</th>\n",
       "      <td>688599</td>\n",
       "      <td>天合光能</td>\n",
       "      <td>2021-08-02</td>\n",
       "      <td>0.095406</td>\n",
       "      <td>0.025544</td>\n",
       "    </tr>\n",
       "    <tr>\n",
       "      <th>259</th>\n",
       "      <td>688599</td>\n",
       "      <td>天合光能</td>\n",
       "      <td>2021-09-29</td>\n",
       "      <td>0.111809</td>\n",
       "      <td>0.018732</td>\n",
       "    </tr>\n",
       "    <tr>\n",
       "      <th>216</th>\n",
       "      <td>688599</td>\n",
       "      <td>天合光能</td>\n",
       "      <td>2021-07-28</td>\n",
       "      <td>0.094832</td>\n",
       "      <td>0.017403</td>\n",
       "    </tr>\n",
       "  </tbody>\n",
       "</table>\n",
       "</div>"
      ],
      "text/plain": [
       "    stock_code stock_name    datetime  future_return  future_return_pred\n",
       "215     688599       天合光能  2021-07-27       0.017442            0.032869\n",
       "199     688599       天合光能  2021-07-05       0.086854            0.030082\n",
       "219     688599       天合光能  2021-08-02       0.095406            0.025544\n",
       "259     688599       天合光能  2021-09-29       0.111809            0.018732\n",
       "216     688599       天合光能  2021-07-28       0.094832            0.017403"
      ]
     },
     "execution_count": 163,
     "metadata": {},
     "output_type": "execute_result"
    }
   ],
   "source": [
    "output_df[output_df['stock_code'] == '688599'].sort_values(by=['future_return_pred'], ascending=False).head()"
   ]
  },
  {
   "cell_type": "code",
   "execution_count": null,
   "metadata": {},
   "outputs": [],
   "source": []
  }
 ],
 "metadata": {
  "kernelspec": {
   "display_name": ".venv",
   "language": "python",
   "name": "python3"
  },
  "language_info": {
   "codemirror_mode": {
    "name": "ipython",
    "version": 3
   },
   "file_extension": ".py",
   "mimetype": "text/x-python",
   "name": "python",
   "nbconvert_exporter": "python",
   "pygments_lexer": "ipython3",
   "version": "3.10.13"
  }
 },
 "nbformat": 4,
 "nbformat_minor": 2
}
