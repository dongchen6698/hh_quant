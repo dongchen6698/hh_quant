{
 "cells": [
  {
   "cell_type": "code",
   "execution_count": 1,
   "metadata": {},
   "outputs": [
    {
     "name": "stderr",
     "output_type": "stream",
     "text": [
      "2024-06-14 05:40:55.851077: I tensorflow/core/platform/cpu_feature_guard.cc:182] This TensorFlow binary is optimized to use available CPU instructions in performance-critical operations.\n",
      "To enable the following instructions: AVX2 FMA, in other operations, rebuild TensorFlow with the appropriate compiler flags.\n",
      "2024-06-14 05:40:56.630791: W tensorflow/compiler/tf2tensorrt/utils/py_utils.cc:38] TF-TRT Warning: Could not find TensorRT\n"
     ]
    }
   ],
   "source": [
    "import sys\n",
    "sys.path.append('../')\n",
    "\n",
    "import json\n",
    "import pandas as pd\n",
    "import numpy as np\n",
    "import tensorflow as tf\n",
    "import joblib\n",
    "import baostock as bs\n",
    "import json\n",
    "\n",
    "from datetime import datetime\n",
    "from dateutil.relativedelta import relativedelta\n",
    "from tqdm import tqdm\n",
    "\n",
    "from Share.database_auto.db_factor_prebuilder.utils.expression_excutor import AlphaExpressionExcutor\n",
    "\n",
    "pd.options.display.max_rows=None\n",
    "pd.options.display.max_columns=None"
   ]
  },
  {
   "cell_type": "code",
   "execution_count": 2,
   "metadata": {},
   "outputs": [],
   "source": [
    "def download_stock_history_info(code, start_date, end_date):\n",
    "    df = bs.query_history_k_data_plus(\n",
    "            code=code,\n",
    "            fields=\"code,date,open,high,low,close,volume,amount,turn\",\n",
    "            start_date=start_date,\n",
    "            end_date=end_date,\n",
    "            frequency=\"d\",\n",
    "            adjustflag=\"1\",\n",
    "        ).get_data()\n",
    "    if not df.empty:\n",
    "        df = df.astype({\n",
    "                \"code\": \"str\",\n",
    "                \"date\": \"str\",\n",
    "                \"open\": \"float\",\n",
    "                \"high\": \"float\",\n",
    "                \"low\": \"float\",\n",
    "                \"close\": \"float\",\n",
    "                \"volume\": \"float\",\n",
    "                \"amount\": \"float\",\n",
    "                \"turn\": \"float\",\n",
    "            })\n",
    "        df = df.rename(\n",
    "            columns={\n",
    "                \"code\": \"code\",\n",
    "                \"date\": \"datetime\",\n",
    "                \"open\": \"open\",\n",
    "                \"high\": \"high\",\n",
    "                \"low\": \"low\",\n",
    "                \"close\": \"close\",\n",
    "                \"volume\": \"volume\",\n",
    "                \"amount\": \"amount\",\n",
    "                \"turn\": \"turnover_rate\",\n",
    "            }\n",
    "        )\n",
    "        \n",
    "        df = df.replace(\"\", np.NaN)\n",
    "    return df\n",
    "\n",
    "def download_stock_profile_info(code):\n",
    "    df = bs.query_stock_basic(code=code).get_data()\n",
    "    dd = bs.query_stock_industry(code=code).get_data()\n",
    "    if not df.empty and not dd.empty:\n",
    "        dataframe = df.merge(dd[[\"code\", \"industry\"]], on=[\"code\"], how=\"left\")\n",
    "        dataframe = dataframe.rename(\n",
    "            columns={\n",
    "                \"code\": \"code\",\n",
    "                \"code_name\": \"code_name\",\n",
    "                \"industry\": \"industry\",\n",
    "                \"ipoDate\": \"in_date\",\n",
    "                \"outDate\": \"out_date\",\n",
    "                \"type\": \"type\",\n",
    "                \"status\": \"status\",\n",
    "            }\n",
    "        )\n",
    "        dataframe[\"industry\"] = dataframe[\"industry\"].replace(\"\", \"其他\")\n",
    "        dataframe[\"type\"] = dataframe[\"type\"].map(lambda x: {\"1\": \"股票\", \"2\": \"指数\", \"3\": \"其它\", \"4\": \"可转债\", \"5\": \"ETF\"}.get(x, \"其他\"))\n",
    "        dataframe[\"status\"] = dataframe[\"status\"].map(lambda x: {\"1\": \"上市\", \"2\": \"退市\"}.get(x, \"其他\"))\n",
    "    return dataframe\n",
    "\n",
    "def download_stock_indicator_info(code, start_date, end_date):\n",
    "    df = bs.query_history_k_data_plus(\n",
    "            code=code,\n",
    "            fields=\"code,date,peTTM,psTTM,pcfNcfTTM,pbMRQ\",\n",
    "            start_date=start_date,\n",
    "            end_date=end_date,\n",
    "            frequency=\"d\",\n",
    "            adjustflag=\"1\",\n",
    "        ).get_data()\n",
    "    if not df.empty:\n",
    "        df = df.astype({\n",
    "                \"code\": \"str\",\n",
    "                \"date\": \"str\",\n",
    "                \"peTTM\": \"float\",\n",
    "                \"psTTM\": \"float\",\n",
    "                \"pcfNcfTTM\": \"float\",\n",
    "                \"pbMRQ\": \"float\",\n",
    "            }\n",
    "        )\n",
    "        df = df.rename(\n",
    "            columns={\n",
    "                \"code\": \"code\",\n",
    "                \"date\": \"datetime\",\n",
    "                \"peTTM\": \"pe_ttm\",\n",
    "                \"psTTM\": \"ps_ttm\",\n",
    "                \"pcfNcfTTM\": \"pcf_ncf_ttm\",\n",
    "                \"pbMRQ\": \"pb_mrq\",\n",
    "            }\n",
    "        )\n",
    "        df = df.replace(\"\", np.NaN)\n",
    "    return df\n",
    "\n",
    "def build_alpha_factor_sync(stock_history, alpha_factor_path, exp_excutor):\n",
    "    stock_history['vwap'] = stock_history[['open', 'high', 'low', 'close']].mean(axis=1)\n",
    "    stock_history['returns'] = stock_history['close'].pct_change()\n",
    "    alpha_factor_dict = json.loads(open(alpha_factor_path, \"r\").read())\n",
    "    dataframe = stock_history[[\"code\", \"datetime\"]]\n",
    "    for alpha_name, alpha_expression in alpha_factor_dict.items():\n",
    "        try:\n",
    "            dataframe[alpha_name] = exp_excutor.excute(stock_history, alpha_expression)\n",
    "        except Exception as e:\n",
    "            dataframe[alpha_name] = np.NaN\n",
    "    return dataframe\n",
    "\n",
    "def build_date_factor_sync(start_date, end_date):\n",
    "    dataframe = pd.DataFrame()\n",
    "    dataframe['datetime'] = [datetime.strftime(i, '%Y-%m-%d') for i in pd.date_range(start=start_date, end=end_date)]\n",
    "    datetime_series = pd.to_datetime(dataframe[\"datetime\"])\n",
    "    dataframe[\"weekday\"] = datetime_series.dt.weekday  # 星期几（0=星期一，6=星期日）\",\n",
    "    dataframe[\"day_of_week\"] = datetime_series.dt.day_name()  # 星期几的名称\",\n",
    "    dataframe[\"day_of_month\"] = datetime_series.dt.day  # 一个月中的第几天\",\n",
    "    dataframe[\"month\"] = datetime_series.dt.month  # 月份\",\n",
    "    dataframe[\"season\"] = datetime_series.dt.month.map(\n",
    "        lambda x: {\n",
    "            1: \"Winter\",\n",
    "            2: \"Winter\",\n",
    "            3: \"Spring\",\n",
    "            4: \"Spring\",\n",
    "            5: \"Spring\",\n",
    "            6: \"Summer\",\n",
    "            7: \"Summer\",\n",
    "            8: \"Summer\",\n",
    "            9: \"Autumn\",\n",
    "            10: \"Autumn\",\n",
    "            11: \"Autumn\",\n",
    "            12: \"Winter\",\n",
    "        }.get(x)\n",
    "    )\n",
    "    dataframe = dataframe.replace([np.inf, -np.inf], np.nan).dropna()\n",
    "    return dataframe\n",
    "\n",
    "def df_to_dataset(dataframe, feature_cols, shuffle=False, batch_size=32):\n",
    "    features = dataframe[feature_cols]\n",
    "    ds = tf.data.Dataset.from_tensor_slices((dict(features)))\n",
    "    if shuffle:\n",
    "        ds = ds.shuffle(buffer_size=min(len(features), 10000), seed=1024)\n",
    "    ds = ds.cache().batch(batch_size).prefetch(tf.data.AUTOTUNE)\n",
    "    return ds"
   ]
  },
  {
   "cell_type": "code",
   "execution_count": 3,
   "metadata": {},
   "outputs": [
    {
     "name": "stdout",
     "output_type": "stream",
     "text": [
      "CurrentDate: 2024-06-13\n"
     ]
    }
   ],
   "source": [
    "# 0. 初始化相关配置\n",
    "exp_excutor = AlphaExpressionExcutor()\n",
    "benchmark = '000016'\n",
    "factor_lookback_window = 180 # 回看天数-180\n",
    "# end_date = datetime.strftime(datetime.now(), '%Y-%m-%d')\n",
    "end_date = '2024-06-13'\n",
    "start_date = datetime.strftime(datetime.now() - relativedelta(days=factor_lookback_window), '%Y-%m-%d')\n",
    "print(f\"CurrentDate: {end_date}\")"
   ]
  },
  {
   "cell_type": "code",
   "execution_count": 4,
   "metadata": {},
   "outputs": [
    {
     "name": "stdout",
     "output_type": "stream",
     "text": [
      "login success!\n",
      "['sh.600028' 'sh.600030' 'sh.600031' 'sh.600036' 'sh.600048' 'sh.600050'\n",
      " 'sh.600089' 'sh.600104' 'sh.600111' 'sh.600150' 'sh.600276' 'sh.600309'\n",
      " 'sh.600406' 'sh.600436' 'sh.600438' 'sh.600519' 'sh.600690' 'sh.600809'\n",
      " 'sh.600887' 'sh.600893' 'sh.600900' 'sh.600905' 'sh.601012' 'sh.601088'\n",
      " 'sh.601166' 'sh.601225' 'sh.601288' 'sh.601318' 'sh.601390' 'sh.601398'\n",
      " 'sh.601601' 'sh.601628' 'sh.601633' 'sh.601668' 'sh.601669' 'sh.601728'\n",
      " 'sh.601857' 'sh.601888' 'sh.601899' 'sh.601919' 'sh.601988' 'sh.603259'\n",
      " 'sh.603288' 'sh.603501' 'sh.603799' 'sh.603986' 'sh.688041' 'sh.688111'\n",
      " 'sh.688599' 'sh.688981']\n"
     ]
    }
   ],
   "source": [
    "# 1. 获取指数成分股信息\n",
    "bs.login()\n",
    "stock_pool = bs.query_sz50_stocks().get_data()['code'].unique()\n",
    "print(stock_pool)"
   ]
  },
  {
   "cell_type": "code",
   "execution_count": 5,
   "metadata": {},
   "outputs": [
    {
     "name": "stderr",
     "output_type": "stream",
     "text": [
      "LoadingStockData: 100%|██████████| 50/50 [00:46<00:00,  1.07it/s]"
     ]
    },
    {
     "name": "stdout",
     "output_type": "stream",
     "text": [
      "logout success!\n"
     ]
    },
    {
     "name": "stderr",
     "output_type": "stream",
     "text": [
      "\n"
     ]
    },
    {
     "data": {
      "text/plain": [
       "<baostock.data.resultset.ResultData at 0x148b94d086d0>"
      ]
     },
     "execution_count": 5,
     "metadata": {},
     "output_type": "execute_result"
    }
   ],
   "source": [
    "# 2. 获取基础数据\n",
    "stock_df_list = []\n",
    "for stock_code in tqdm(stock_pool, desc='LoadingStockData'):\n",
    "    # 1. 获取基础信息\n",
    "    stock_history = download_stock_history_info(stock_code, start_date, end_date)\n",
    "    stock_profile = download_stock_profile_info(stock_code)\n",
    "    stock_indicator = download_stock_indicator_info(stock_code, start_date, end_date)\n",
    "    stock_date_factor = build_date_factor_sync(start_date, end_date)\n",
    "    stock_alpha_184_factor = build_alpha_factor_sync(\n",
    "        stock_history, \n",
    "        '../Share/database_auto/db_factor_prebuilder/factor_lib/alpha_184.json',\n",
    "        exp_excutor)\n",
    "    stock_df = stock_history.merge(stock_profile, on=['code']) \\\n",
    "            .merge(stock_indicator, on=['code', 'datetime']) \\\n",
    "            .merge(stock_date_factor, on=['datetime']) \\\n",
    "            .merge(stock_alpha_184_factor, on=['code', 'datetime'])\n",
    "    stock_df_list.append(stock_df)\n",
    "\n",
    "bs.logout()"
   ]
  },
  {
   "cell_type": "code",
   "execution_count": 6,
   "metadata": {},
   "outputs": [
    {
     "data": {
      "text/plain": [
       "'2024-06-13'"
      ]
     },
     "execution_count": 6,
     "metadata": {},
     "output_type": "execute_result"
    }
   ],
   "source": [
    "stock_df_list[0]['datetime'].max()"
   ]
  },
  {
   "cell_type": "code",
   "execution_count": 7,
   "metadata": {},
   "outputs": [
    {
     "data": {
      "text/plain": [
       "(50, 210)"
      ]
     },
     "execution_count": 7,
     "metadata": {},
     "output_type": "execute_result"
    }
   ],
   "source": [
    "# 3. 整合数据 & 过滤今日的特征数据\n",
    "whole_stock_df = pd.concat(stock_df_list)\n",
    "whole_stock_df = whole_stock_df[whole_stock_df['datetime'] == end_date] # 只过滤今日预测明日的结果\n",
    "whole_stock_df.shape"
   ]
  },
  {
   "cell_type": "code",
   "execution_count": 8,
   "metadata": {},
   "outputs": [
    {
     "name": "stderr",
     "output_type": "stream",
     "text": [
      "2024-06-14 05:41:45.397665: I tensorflow/core/common_runtime/gpu/gpu_device.cc:1639] Created device /job:localhost/replica:0/task:0/device:GPU:0 with 22270 MB memory:  -> device: 0, name: NVIDIA GeForce RTX 3090, pci bus id: 0000:25:00.0, compute capability: 8.6\n"
     ]
    }
   ],
   "source": [
    "# 4. 加载预处理相关内容\n",
    "loaded_feature_preprocess_pipeline = joblib.load('./enhance_sz50/feature_preprocess_pipeline.joblib')\n",
    "loaded_feature_config = json.load(open('./enhance_sz50/feature_config.json'))\n",
    "loaded_model = tf.keras.models.load_model('./enhance_sz50/tf_models/')"
   ]
  },
  {
   "cell_type": "code",
   "execution_count": 9,
   "metadata": {},
   "outputs": [
    {
     "data": {
      "text/plain": [
       "(50, 195)"
      ]
     },
     "execution_count": 9,
     "metadata": {},
     "output_type": "execute_result"
    }
   ],
   "source": [
    "# 5. 进行基础的数据处理 & 特征处理\n",
    "def base_dataframe_cleaner(dataframe):\n",
    "    stock_df = dataframe.copy()\n",
    "    stock_df = stock_df.replace(\"\", np.NaN)\n",
    "    stock_df = stock_df.replace([np.inf, -np.inf], np.nan)\n",
    "    stock_df = stock_df.dropna(axis=1, how='all') # 过滤特征列全为空的column\n",
    "    stock_df = stock_df.dropna() # 剔除包含空值的行\n",
    "    return stock_df\n",
    "\n",
    "loaded_full_feature_columns = ['code', 'code_name', 'datetime'] + [i for feas in loaded_feature_config.values() for i in feas]\n",
    "test_df = whole_stock_df[loaded_full_feature_columns]\n",
    "test_df = base_dataframe_cleaner(test_df)\n",
    "\n",
    "loaded_preprocess_feature_columns = loaded_feature_config.get('numeric_features', [])\n",
    "test_df[loaded_preprocess_feature_columns] = loaded_feature_preprocess_pipeline.transform(test_df[loaded_preprocess_feature_columns])\n",
    "test_df.shape"
   ]
  },
  {
   "cell_type": "code",
   "execution_count": 10,
   "metadata": {},
   "outputs": [
    {
     "name": "stdout",
     "output_type": "stream",
     "text": [
      "1/1 [==============================] - 2s 2s/step\n"
     ]
    },
    {
     "name": "stderr",
     "output_type": "stream",
     "text": [
      "2024-06-14 05:41:49.711477: I tensorflow/compiler/xla/stream_executor/cuda/cuda_blas.cc:606] TensorFloat-32 will be used for the matrix multiplication. This will only be logged once.\n"
     ]
    }
   ],
   "source": [
    "loaded_feature_columns = loaded_feature_config.get('numeric_features', []) + loaded_feature_config.get('integer_categorical_features', []) + loaded_feature_config.get('string_categorical_features', [])\n",
    "test_ds = df_to_dataset(test_df, loaded_feature_columns, shuffle=False, batch_size=512)\n",
    "\n",
    "model_pred_result = loaded_model.predict(test_ds)\n",
    "output_df = test_df[['code', 'code_name', 'datetime']]\n",
    "output_df['label_pred'] = model_pred_result\n",
    "output_df = output_df.rename(columns={\n",
    "    'code': 'stock_code',\n",
    "    'code_name': 'stock_name'\n",
    "})"
   ]
  },
  {
   "cell_type": "code",
   "execution_count": 11,
   "metadata": {},
   "outputs": [
    {
     "data": {
      "text/html": [
       "<div>\n",
       "<style scoped>\n",
       "    .dataframe tbody tr th:only-of-type {\n",
       "        vertical-align: middle;\n",
       "    }\n",
       "\n",
       "    .dataframe tbody tr th {\n",
       "        vertical-align: top;\n",
       "    }\n",
       "\n",
       "    .dataframe thead th {\n",
       "        text-align: right;\n",
       "    }\n",
       "</style>\n",
       "<table border=\"1\" class=\"dataframe\">\n",
       "  <thead>\n",
       "    <tr style=\"text-align: right;\">\n",
       "      <th></th>\n",
       "      <th>stock_code</th>\n",
       "      <th>stock_name</th>\n",
       "      <th>datetime</th>\n",
       "      <th>label_pred</th>\n",
       "    </tr>\n",
       "  </thead>\n",
       "  <tbody>\n",
       "    <tr>\n",
       "      <th>115</th>\n",
       "      <td>sh.601988</td>\n",
       "      <td>中国银行</td>\n",
       "      <td>2024-06-13</td>\n",
       "      <td>0.527806</td>\n",
       "    </tr>\n",
       "    <tr>\n",
       "      <th>115</th>\n",
       "      <td>sh.601398</td>\n",
       "      <td>工商银行</td>\n",
       "      <td>2024-06-13</td>\n",
       "      <td>0.525711</td>\n",
       "    </tr>\n",
       "    <tr>\n",
       "      <th>115</th>\n",
       "      <td>sh.688981</td>\n",
       "      <td>中芯国际</td>\n",
       "      <td>2024-06-13</td>\n",
       "      <td>0.485161</td>\n",
       "    </tr>\n",
       "    <tr>\n",
       "      <th>115</th>\n",
       "      <td>sh.601288</td>\n",
       "      <td>农业银行</td>\n",
       "      <td>2024-06-13</td>\n",
       "      <td>0.483139</td>\n",
       "    </tr>\n",
       "    <tr>\n",
       "      <th>115</th>\n",
       "      <td>sh.600030</td>\n",
       "      <td>中信证券</td>\n",
       "      <td>2024-06-13</td>\n",
       "      <td>0.461266</td>\n",
       "    </tr>\n",
       "  </tbody>\n",
       "</table>\n",
       "</div>"
      ],
      "text/plain": [
       "    stock_code stock_name    datetime  label_pred\n",
       "115  sh.601988       中国银行  2024-06-13    0.527806\n",
       "115  sh.601398       工商银行  2024-06-13    0.525711\n",
       "115  sh.688981       中芯国际  2024-06-13    0.485161\n",
       "115  sh.601288       农业银行  2024-06-13    0.483139\n",
       "115  sh.600030       中信证券  2024-06-13    0.461266"
      ]
     },
     "execution_count": 11,
     "metadata": {},
     "output_type": "execute_result"
    }
   ],
   "source": [
    "output_df.sort_values('label_pred', ascending=False).head()"
   ]
  },
  {
   "cell_type": "markdown",
   "metadata": {},
   "source": [
    "## 对比验证下与回测数据打分的正确性"
   ]
  },
  {
   "cell_type": "code",
   "execution_count": 12,
   "metadata": {},
   "outputs": [],
   "source": [
    "# model_pred_df = pd.read_pickle(f'../Offline/backtest/backtest_data/test/000016_2019-01-01_回归任务_v6.pkl')\n",
    "# sample_df = model_pred_df[model_pred_df['datetime'] == '2024-05-13']\n",
    "# sample_df.sort_values('label_pred', ascending=False).head()"
   ]
  },
  {
   "cell_type": "code",
   "execution_count": null,
   "metadata": {},
   "outputs": [],
   "source": []
  }
 ],
 "metadata": {
  "kernelspec": {
   "display_name": "quant",
   "language": "python",
   "name": "python3"
  },
  "language_info": {
   "codemirror_mode": {
    "name": "ipython",
    "version": 3
   },
   "file_extension": ".py",
   "mimetype": "text/x-python",
   "name": "python",
   "nbconvert_exporter": "python",
   "pygments_lexer": "ipython3",
   "version": "3.8.undefined"
  }
 },
 "nbformat": 4,
 "nbformat_minor": 2
}
